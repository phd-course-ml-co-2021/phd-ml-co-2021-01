{
 "cells": [
  {
   "cell_type": "markdown",
   "metadata": {
    "slideshow": {
     "slide_type": "slide"
    }
   },
   "source": [
    "# Machine Learning for Constrained Optimization\n",
    "\n",
    "A Phd Course"
   ]
  },
  {
   "cell_type": "markdown",
   "metadata": {
    "slideshow": {
     "slide_type": "subslide"
    }
   },
   "source": [
    "## Machine Learning for Constrained Optimization\n",
    "\n",
    "Let's start with an observation:\n",
    "\n",
    "> **Machine Learning is Optimization**"
   ]
  },
  {
   "cell_type": "markdown",
   "metadata": {
    "slideshow": {
     "slide_type": "fragment"
    }
   },
   "source": [
    "* Well, maybe a few exceptions apply (looking at you, non-parametric models...)\n",
    "* ...But broadly speaking, the statement is true\n",
    "\n",
    "**From an _optimization point of view_:**\n",
    "\n",
    "* Classical ML has focused on _large-scale_, _unconstrained_ problems\n",
    "* ...And for good reason!\n",
    "  - Large input spaces\n",
    "  - Large parameter spaces\n",
    "  - Expensive cost functions"
   ]
  },
  {
   "cell_type": "markdown",
   "metadata": {
    "slideshow": {
     "slide_type": "subslide"
    }
   },
   "source": [
    "## Machine Learning for Constrained Optimization\n",
    "\n",
    "Let's start with an observation:\n",
    "\n",
    "> **Machine Learning is Optimization**"
   ]
  },
  {
   "cell_type": "markdown",
   "metadata": {
    "slideshow": {
     "slide_type": "-"
    }
   },
   "source": [
    "**However, that's a bit reductive:**\n",
    "\n",
    "* What if our ML problem has a non-trivial _structure_?\n",
    "* What if we have _external knowledge_?\n",
    "* What if there are _physical laws_, or _regulations_?\n",
    "* What if we want to use data to help with a _decision problem_?\n",
    "\n",
    "Then, we may want to take a broader view...\n",
    "\n",
    "**...Since other optimization techniques may be of help!**"
   ]
  },
  {
   "cell_type": "markdown",
   "metadata": {
    "slideshow": {
     "slide_type": "subslide"
    }
   },
   "source": [
    "## Machine Learning for Constrained Optimization\n",
    "\n",
    "**This course is about seeing ML and CO _as a whole_:**\n",
    "\n",
    "* Focus: _integration_ of Machine Learning and Constrained Optimization\n",
    "  - Emphasis on _modeling aspects_ and _knowledge integration_\n",
    "  - No mention of acceleration techniques\n",
    "* Three parts:\n",
    "  - Constrained Optimization for Data Mining\n",
    "  - Handling constraints in Machine Learning\n",
    "  - Hanlding Machine Learning models in optimization\n",
    "* It will be _far from a complete overview_\n",
    "  - Bias on my own research\n",
    "  - I'll do my best to provide pointers\n",
    "  - ...And starting points for related areas"
   ]
  },
  {
   "cell_type": "markdown",
   "metadata": {
    "slideshow": {
     "slide_type": "subslide"
    }
   },
   "source": [
    "## Machine Learning for Constrained Optimization\n",
    "\n",
    "**Course material**\n",
    "\n",
    "* Jupyter notebooks for everything\n",
    "* [RISE](https://rise.readthedocs.io/en/stable/) plugin for the presentation mode\n",
    "* [Docker](https://www.docker.com/) container for ease of configuration/isolation/reproducibility\n",
    "* Each part in different github repository\n",
    "\n",
    "**Lectures are meant to be _executed_**\n",
    "\n",
    "For doing it locally, you need to:\n",
    "\n",
    "* Install [Docker](https://docs.docker.com/get-docker/) and [Docker Compose](https://docs.docker.com/compose/install/)\n",
    "* Clone the git repository\n",
    "* Open a terminal on the cloned repository\n",
    "* Run `docker-compose up` and follow the instructions\n",
    "\n",
    "The first time it will take a while (to download the base image)"
   ]
  },
  {
   "cell_type": "markdown",
   "metadata": {
    "slideshow": {
     "slide_type": "subslide"
    }
   },
   "source": [
    "## Machine Learning for Constrained Optimization\n",
    "\n",
    "**Let's check our directory structure:**"
   ]
  },
  {
   "cell_type": "code",
   "execution_count": 1,
   "metadata": {},
   "outputs": [
    {
     "name": "stdout",
     "output_type": "stream",
     "text": [
      "total 24\r\n",
      "-rw-r--r-- 1 1000 1000  888 Nov 13 21:49 Dockerfile\r\n",
      "-rw-r--r-- 1 1000 1000 2669 Nov  4 09:24 README.md\r\n",
      "drwxrwxrwx 2 1000 1000 4096 Nov  4 20:36 data\r\n",
      "-rwxrwxrwx 1 1000 1000  734 Sep 19 13:27 docker-compose.yml\r\n",
      "drwxrwxrwx 5 1000 1000 4096 Nov 25 08:14 notebooks\r\n",
      "drwxrwxrwx 2 1000 1000 4096 Nov  4 09:31 pdfs\r\n"
     ]
    }
   ],
   "source": [
    "!ls -l .."
   ]
  },
  {
   "cell_type": "markdown",
   "metadata": {},
   "source": [
    "* The `data` folder is meant for datasets & co.\n",
    "* The pdf folder contains PDF exports for the notebooks\n",
    "* In the `Dockerfile` you have the container setup instructions\n",
    "* The `docker-compose.yml` file specifies how to run the container\n",
    "* The `README.md` file contains instructions on how to run the lectures "
   ]
  },
  {
   "cell_type": "markdown",
   "metadata": {
    "slideshow": {
     "slide_type": "subslide"
    }
   },
   "source": [
    "## Machine Learning for Constrained Optimization\n",
    "\n",
    "**Let's check our directory structure:**"
   ]
  },
  {
   "cell_type": "code",
   "execution_count": 2,
   "metadata": {},
   "outputs": [
    {
     "name": "stdout",
     "output_type": "stream",
     "text": [
      "total 528\r\n",
      "-rw-r--r-- 1 root root   8055 Nov 25 08:14 '0. Introduction to the Course.ipynb'\r\n",
      "-rw-r--r-- 1 root root 108648 Nov 25 08:13 '1. Constraint Optimization for Data Mining.ipynb'\r\n",
      "-rw-r--r-- 1 root root   1629 Nov 25 08:14 '2. The Alternating Direction Method of Multipliers.ipynb'\r\n",
      "-rwxrwxrwx 1 1000 1000 399210 Nov 25 08:14 'X. Column Generation for Trajectory Mining .ipynb'\r\n",
      "drwxrwxrwx 3 1000 1000   4096 Nov 24 21:08  assets\r\n",
      "-rwxrwxrwx 1 1000 1000    787 Sep 23 14:25  print-pdf.sh\r\n",
      "-rwxrwxrwx 1 1000 1000   3637 Sep 17 14:01  rise.css\r\n",
      "drwxrwxrwx 3 1000 1000   4096 Nov  9 17:10  util\r\n"
     ]
    }
   ],
   "source": [
    "!ls -l ../notebooks"
   ]
  },
  {
   "cell_type": "markdown",
   "metadata": {},
   "source": [
    "In the `notebooks` folder:\n",
    "\n",
    "* We have the notebooks themselves\n",
    "* A `util` folder with a python module for utility functions\n",
    "* An `assets` folder with pictures, fonts, & co.\n",
    "* The `rise.css`, which is a style file for the presentation model"
   ]
  }
 ],
 "metadata": {
  "celltoolbar": "Slideshow",
  "kernelspec": {
   "display_name": "Python 3",
   "language": "python",
   "name": "python3"
  },
  "language_info": {
   "codemirror_mode": {
    "name": "ipython",
    "version": 3
   },
   "file_extension": ".py",
   "mimetype": "text/x-python",
   "name": "python",
   "nbconvert_exporter": "python",
   "pygments_lexer": "ipython3",
   "version": "3.6.9"
  },
  "rise": {
   "center": false,
   "transition": "fade"
  }
 },
 "nbformat": 4,
 "nbformat_minor": 4
}
