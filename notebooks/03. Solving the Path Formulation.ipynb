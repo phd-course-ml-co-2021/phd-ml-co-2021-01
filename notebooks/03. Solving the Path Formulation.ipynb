{
 "cells": [
  {
   "cell_type": "code",
   "execution_count": 29,
   "metadata": {
    "slideshow": {
     "slide_type": "skip"
    }
   },
   "outputs": [
    {
     "name": "stdout",
     "output_type": "stream",
     "text": [
      "The autoreload extension is already loaded. To reload it, use:\n",
      "  %reload_ext autoreload\n"
     ]
    }
   ],
   "source": [
    "# ============================================================\n",
    "# Notebook setup: run this before everything\n",
    "# ============================================================\n",
    "\n",
    "%load_ext autoreload\n",
    "%autoreload 2\n",
    "\n",
    "# Control figure size\n",
    "interactive_figures = False\n",
    "if interactive_figures:\n",
    "    # Normal behavior\n",
    "    %matplotlib widget\n",
    "    figsize=(9, 3)\n",
    "else:\n",
    "    # PDF export behavior\n",
    "    figsize=(14, 5)\n",
    "\n",
    "#from matplotlib import pyplot as plt\n",
    "from util import util\n",
    "import igraph as ig\n",
    "import numpy as np\n",
    "\n",
    "# ============================================================\n",
    "# Repeat the relevant previous steps\n",
    "# ============================================================\n",
    "\n",
    "# Generate a graph\n",
    "g = util.build_website_graph(nnodes=4, rate=3, extra_arc_fraction=0.25, seed=42)\n",
    "# Route flows (ground truth)\n",
    "eoh = 4\n",
    "flows, paths = util.build_random_paths(g, min_paths=3, max_paths=5,\n",
    "                                          min_units=1, max_units=10, eoh=eoh, seed=42)\n",
    "# Unfold\n",
    "tug = util.build_time_unfolded_graph(g, eoh=eoh)\n",
    "# Compute counts\n",
    "node_counts, arc_counts = util.get_counts(tug, flows, paths)"
   ]
  },
  {
   "cell_type": "markdown",
   "metadata": {
    "slideshow": {
     "slide_type": "slide"
    }
   },
   "source": [
    "# Solving the Path Formulation\n",
    "\n",
    "Which will be our baseline"
   ]
  },
  {
   "cell_type": "markdown",
   "metadata": {
    "slideshow": {
     "slide_type": "subslide"
    }
   },
   "source": [
    "## Solving the Path Formulation\n",
    "\n",
    "**The path formulation consists in the Quadratic Program:**\n",
    "\n",
    "$$\n",
    "\\arg \\min_{x} \\left\\{\\frac{1}{2} x^T P x + q^T x \\mid x \\geq 0 \\right\\}\n",
    "$$\n",
    "\n",
    "Where $P = V^T V + E^T E$ and $q = -V^T \\hat{v} -E^T \\hat{e}$"
   ]
  },
  {
   "cell_type": "markdown",
   "metadata": {
    "slideshow": {
     "slide_type": "fragment"
    }
   },
   "source": [
    "**Therefore, if we want to solve the problem we need:**\n",
    "\n",
    "* The binary matrix $V$, s.t. $V_{ij} = 1$ iff node $i$ is in path $j$\n",
    "* The binary matrix $E$, s.t. $E_{kj} = 1$ iff arc $k$ is in path $j$\n",
    "* The vector $\\hat{v}$, containing the node counts\n",
    "* The vector $\\hat{e}$, containing the arc counts\n",
    "\n",
    "**In turn, to get these we need to define _a set of paths_ on the TUG**"
   ]
  },
  {
   "cell_type": "markdown",
   "metadata": {
    "slideshow": {
     "slide_type": "subslide"
    }
   },
   "source": [
    "## Path Enumeration\n",
    "\n",
    "**Unless we want to loose optimality, we need to consider _all the TUG paths_**\n",
    "\n",
    "First, we augment the Time Unfolded Graph with a _fake source node_"
   ]
  },
  {
   "cell_type": "code",
   "execution_count": 30,
   "metadata": {},
   "outputs": [
    {
     "data": {
      "image/svg+xml": [
       "<?xml version=\"1.0\" encoding=\"UTF-8\"?>\n",
       "<svg xmlns=\"http://www.w3.org/2000/svg\" xmlns:xlink=\"http://www.w3.org/1999/xlink\" width=\"700pt\" height=\"250pt\" viewBox=\"0 0 700 250\" version=\"1.1\">\n",
       "<defs>\n",
       "<g>\n",
       "<symbol overflow=\"visible\" id=\"glyph0-0\">\n",
       "<path style=\"stroke:none;\" d=\"M 0.5 1.765625 L 0.5 -7.046875 L 5.5 -7.046875 L 5.5 1.765625 Z M 1.0625 1.21875 L 4.9375 1.21875 L 4.9375 -6.484375 L 1.0625 -6.484375 Z M 1.0625 1.21875 \"/>\n",
       "</symbol>\n",
       "<symbol overflow=\"visible\" id=\"glyph0-1\">\n",
       "<path style=\"stroke:none;\" d=\"M 3.171875 -6.640625 C 2.671875 -6.640625 2.289062 -6.390625 2.03125 -5.890625 C 1.78125 -5.390625 1.65625 -4.640625 1.65625 -3.640625 C 1.65625 -2.640625 1.78125 -1.890625 2.03125 -1.390625 C 2.289062 -0.890625 2.671875 -0.640625 3.171875 -0.640625 C 3.691406 -0.640625 4.078125 -0.890625 4.328125 -1.390625 C 4.585938 -1.890625 4.71875 -2.640625 4.71875 -3.640625 C 4.71875 -4.640625 4.585938 -5.390625 4.328125 -5.890625 C 4.078125 -6.390625 3.691406 -6.640625 3.171875 -6.640625 Z M 3.171875 -7.421875 C 3.992188 -7.421875 4.617188 -7.097656 5.046875 -6.453125 C 5.484375 -5.804688 5.703125 -4.867188 5.703125 -3.640625 C 5.703125 -2.410156 5.484375 -1.472656 5.046875 -0.828125 C 4.617188 -0.179688 3.992188 0.140625 3.171875 0.140625 C 2.359375 0.140625 1.734375 -0.179688 1.296875 -0.828125 C 0.867188 -1.472656 0.65625 -2.410156 0.65625 -3.640625 C 0.65625 -4.867188 0.867188 -5.804688 1.296875 -6.453125 C 1.734375 -7.097656 2.359375 -7.421875 3.171875 -7.421875 Z M 3.171875 -7.421875 \"/>\n",
       "</symbol>\n",
       "<symbol overflow=\"visible\" id=\"glyph0-2\">\n",
       "<path style=\"stroke:none;\" d=\"M 1.171875 -1.234375 L 2.203125 -1.234375 L 2.203125 -0.40625 L 1.40625 1.15625 L 0.765625 1.15625 L 1.171875 -0.40625 Z M 1.171875 -1.234375 \"/>\n",
       "</symbol>\n",
       "<symbol overflow=\"visible\" id=\"glyph0-3\">\n",
       "<path style=\"stroke:none;\" d=\"M 1.234375 -0.828125 L 2.859375 -0.828125 L 2.859375 -6.390625 L 1.09375 -6.046875 L 1.09375 -6.9375 L 2.84375 -7.296875 L 3.828125 -7.296875 L 3.828125 -0.828125 L 5.4375 -0.828125 L 5.4375 0 L 1.234375 0 Z M 1.234375 -0.828125 \"/>\n",
       "</symbol>\n",
       "<symbol overflow=\"visible\" id=\"glyph0-4\">\n",
       "<path style=\"stroke:none;\" d=\"M 1.921875 -0.828125 L 5.359375 -0.828125 L 5.359375 0 L 0.734375 0 L 0.734375 -0.828125 C 1.109375 -1.210938 1.617188 -1.734375 2.265625 -2.390625 C 2.910156 -3.046875 3.316406 -3.46875 3.484375 -3.65625 C 3.796875 -4.007812 4.015625 -4.304688 4.140625 -4.546875 C 4.265625 -4.796875 4.328125 -5.039062 4.328125 -5.28125 C 4.328125 -5.664062 4.191406 -5.976562 3.921875 -6.21875 C 3.648438 -6.46875 3.296875 -6.59375 2.859375 -6.59375 C 2.546875 -6.59375 2.21875 -6.535156 1.875 -6.421875 C 1.539062 -6.316406 1.175781 -6.15625 0.78125 -5.9375 L 0.78125 -6.9375 C 1.175781 -7.09375 1.546875 -7.210938 1.890625 -7.296875 C 2.234375 -7.378906 2.550781 -7.421875 2.84375 -7.421875 C 3.59375 -7.421875 4.191406 -7.234375 4.640625 -6.859375 C 5.097656 -6.484375 5.328125 -5.976562 5.328125 -5.34375 C 5.328125 -5.039062 5.269531 -4.753906 5.15625 -4.484375 C 5.039062 -4.222656 4.835938 -3.910156 4.546875 -3.546875 C 4.460938 -3.453125 4.203125 -3.175781 3.765625 -2.71875 C 3.328125 -2.269531 2.710938 -1.640625 1.921875 -0.828125 Z M 1.921875 -0.828125 \"/>\n",
       "</symbol>\n",
       "<symbol overflow=\"visible\" id=\"glyph0-5\">\n",
       "<path style=\"stroke:none;\" d=\"M 4.0625 -3.9375 C 4.53125 -3.832031 4.894531 -3.617188 5.15625 -3.296875 C 5.425781 -2.984375 5.5625 -2.59375 5.5625 -2.125 C 5.5625 -1.40625 5.3125 -0.847656 4.8125 -0.453125 C 4.320312 -0.0546875 3.617188 0.140625 2.703125 0.140625 C 2.398438 0.140625 2.085938 0.109375 1.765625 0.046875 C 1.441406 -0.015625 1.109375 -0.101562 0.765625 -0.21875 L 0.765625 -1.171875 C 1.035156 -1.015625 1.332031 -0.894531 1.65625 -0.8125 C 1.988281 -0.726562 2.332031 -0.6875 2.6875 -0.6875 C 3.300781 -0.6875 3.769531 -0.804688 4.09375 -1.046875 C 4.414062 -1.296875 4.578125 -1.65625 4.578125 -2.125 C 4.578125 -2.550781 4.425781 -2.882812 4.125 -3.125 C 3.820312 -3.363281 3.40625 -3.484375 2.875 -3.484375 L 2.015625 -3.484375 L 2.015625 -4.296875 L 2.90625 -4.296875 C 3.394531 -4.296875 3.765625 -4.394531 4.015625 -4.59375 C 4.273438 -4.789062 4.40625 -5.070312 4.40625 -5.4375 C 4.40625 -5.800781 4.269531 -6.082031 4 -6.28125 C 3.738281 -6.488281 3.363281 -6.59375 2.875 -6.59375 C 2.601562 -6.59375 2.3125 -6.5625 2 -6.5 C 1.6875 -6.445312 1.347656 -6.359375 0.984375 -6.234375 L 0.984375 -7.109375 C 1.359375 -7.210938 1.707031 -7.289062 2.03125 -7.34375 C 2.363281 -7.394531 2.671875 -7.421875 2.953125 -7.421875 C 3.703125 -7.421875 4.296875 -7.25 4.734375 -6.90625 C 5.171875 -6.570312 5.390625 -6.113281 5.390625 -5.53125 C 5.390625 -5.125 5.273438 -4.78125 5.046875 -4.5 C 4.816406 -4.226562 4.488281 -4.039062 4.0625 -3.9375 Z M 4.0625 -3.9375 \"/>\n",
       "</symbol>\n",
       "<symbol overflow=\"visible\" id=\"glyph0-6\">\n",
       "<path style=\"stroke:none;\" d=\"M 0.484375 -3.140625 L 3.125 -3.140625 L 3.125 -2.34375 L 0.484375 -2.34375 Z M 0.484375 -3.140625 \"/>\n",
       "</symbol>\n",
       "</g>\n",
       "</defs>\n",
       "<g id=\"surface14\">\n",
       "<rect x=\"0\" y=\"0\" width=\"700\" height=\"250\" style=\"fill:rgb(100%,100%,100%);fill-opacity:1;stroke:none;\"/>\n",
       "<path style=\"fill:none;stroke-width:1;stroke-linecap:butt;stroke-linejoin:miter;stroke:rgb(26.666667%,26.666667%,26.666667%);stroke-opacity:1;stroke-miterlimit:10;\" d=\"M 200 50 L 320.734375 50 \"/>\n",
       "<path style=\" stroke:none;fill-rule:nonzero;fill:rgb(26.666667%,26.666667%,26.666667%);fill-opacity:1;\" d=\"M 335 50 L 320.734375 54.636719 L 320.734375 45.363281 L 335 50 \"/>\n",
       "<path style=\"fill:none;stroke-width:1;stroke-linecap:butt;stroke-linejoin:miter;stroke:rgb(26.666667%,26.666667%,26.666667%);stroke-opacity:1;stroke-miterlimit:10;\" d=\"M 200 50 L 322.234375 90.746094 \"/>\n",
       "<path style=\" stroke:none;fill-rule:nonzero;fill:rgb(26.666667%,26.666667%,26.666667%);fill-opacity:1;\" d=\"M 335.769531 95.257812 L 320.769531 95.144531 L 323.703125 86.347656 L 335.769531 95.257812 \"/>\n",
       "<path style=\"fill:none;stroke-width:1;stroke-linecap:butt;stroke-linejoin:miter;stroke:rgb(26.666667%,26.666667%,26.666667%);stroke-opacity:1;stroke-miterlimit:10;\" d=\"M 200 100 L 320.734375 100 \"/>\n",
       "<path style=\" stroke:none;fill-rule:nonzero;fill:rgb(26.666667%,26.666667%,26.666667%);fill-opacity:1;\" d=\"M 335 100 L 320.734375 104.636719 L 320.734375 95.363281 L 335 100 \"/>\n",
       "<path style=\"fill:none;stroke-width:1;stroke-linecap:butt;stroke-linejoin:miter;stroke:rgb(26.666667%,26.666667%,26.666667%);stroke-opacity:1;stroke-miterlimit:10;\" d=\"M 200 50 L 325.648438 133.765625 \"/>\n",
       "<path style=\" stroke:none;fill-rule:nonzero;fill:rgb(26.666667%,26.666667%,26.666667%);fill-opacity:1;\" d=\"M 337.519531 141.679688 L 323.078125 137.621094 L 328.21875 129.910156 L 337.519531 141.679688 \"/>\n",
       "<path style=\"fill:none;stroke-width:1;stroke-linecap:butt;stroke-linejoin:miter;stroke:rgb(26.666667%,26.666667%,26.666667%);stroke-opacity:1;stroke-miterlimit:10;\" d=\"M 200 150 L 320.734375 150 \"/>\n",
       "<path style=\" stroke:none;fill-rule:nonzero;fill:rgb(26.666667%,26.666667%,26.666667%);fill-opacity:1;\" d=\"M 335 150 L 320.734375 154.636719 L 320.734375 145.363281 L 335 150 \"/>\n",
       "<path style=\"fill:none;stroke-width:1;stroke-linecap:butt;stroke-linejoin:miter;stroke:rgb(26.666667%,26.666667%,26.666667%);stroke-opacity:1;stroke-miterlimit:10;\" d=\"M 200 50 L 329.304688 179.304688 \"/>\n",
       "<path style=\" stroke:none;fill-rule:nonzero;fill:rgb(26.666667%,26.666667%,26.666667%);fill-opacity:1;\" d=\"M 339.394531 189.394531 L 326.027344 182.582031 L 332.582031 176.027344 L 339.394531 189.394531 \"/>\n",
       "<path style=\"fill:none;stroke-width:1;stroke-linecap:butt;stroke-linejoin:miter;stroke:rgb(26.666667%,26.666667%,26.666667%);stroke-opacity:1;stroke-miterlimit:10;\" d=\"M 200 200 L 320.734375 200 \"/>\n",
       "<path style=\" stroke:none;fill-rule:nonzero;fill:rgb(26.666667%,26.666667%,26.666667%);fill-opacity:1;\" d=\"M 335 200 L 320.734375 204.636719 L 320.734375 195.363281 L 335 200 \"/>\n",
       "<path style=\"fill:none;stroke-width:1;stroke-linecap:butt;stroke-linejoin:miter;stroke:rgb(26.666667%,26.666667%,26.666667%);stroke-opacity:1;stroke-miterlimit:10;\" d=\"M 200 100 L 322.234375 59.253906 \"/>\n",
       "<path style=\" stroke:none;fill-rule:nonzero;fill:rgb(26.666667%,26.666667%,26.666667%);fill-opacity:1;\" d=\"M 335.769531 54.742188 L 323.703125 63.652344 L 320.769531 54.855469 L 335.769531 54.742188 \"/>\n",
       "<path style=\"fill:none;stroke-width:1;stroke-linecap:butt;stroke-linejoin:miter;stroke:rgb(26.666667%,26.666667%,26.666667%);stroke-opacity:1;stroke-miterlimit:10;\" d=\"M 200 100 L 322.234375 140.746094 \"/>\n",
       "<path style=\" stroke:none;fill-rule:nonzero;fill:rgb(26.666667%,26.666667%,26.666667%);fill-opacity:1;\" d=\"M 335.769531 145.257812 L 320.769531 145.144531 L 323.703125 136.347656 L 335.769531 145.257812 \"/>\n",
       "<path style=\"fill:none;stroke-width:1;stroke-linecap:butt;stroke-linejoin:miter;stroke:rgb(26.666667%,26.666667%,26.666667%);stroke-opacity:1;stroke-miterlimit:10;\" d=\"M 350 50 L 470.734375 50 \"/>\n",
       "<path style=\" stroke:none;fill-rule:nonzero;fill:rgb(26.666667%,26.666667%,26.666667%);fill-opacity:1;\" d=\"M 485 50 L 470.734375 54.636719 L 470.734375 45.363281 L 485 50 \"/>\n",
       "<path style=\"fill:none;stroke-width:1;stroke-linecap:butt;stroke-linejoin:miter;stroke:rgb(26.666667%,26.666667%,26.666667%);stroke-opacity:1;stroke-miterlimit:10;\" d=\"M 350 50 L 472.234375 90.746094 \"/>\n",
       "<path style=\" stroke:none;fill-rule:nonzero;fill:rgb(26.666667%,26.666667%,26.666667%);fill-opacity:1;\" d=\"M 485.769531 95.257812 L 470.769531 95.144531 L 473.703125 86.347656 L 485.769531 95.257812 \"/>\n",
       "<path style=\"fill:none;stroke-width:1;stroke-linecap:butt;stroke-linejoin:miter;stroke:rgb(26.666667%,26.666667%,26.666667%);stroke-opacity:1;stroke-miterlimit:10;\" d=\"M 350 100 L 470.734375 100 \"/>\n",
       "<path style=\" stroke:none;fill-rule:nonzero;fill:rgb(26.666667%,26.666667%,26.666667%);fill-opacity:1;\" d=\"M 485 100 L 470.734375 104.636719 L 470.734375 95.363281 L 485 100 \"/>\n",
       "<path style=\"fill:none;stroke-width:1;stroke-linecap:butt;stroke-linejoin:miter;stroke:rgb(26.666667%,26.666667%,26.666667%);stroke-opacity:1;stroke-miterlimit:10;\" d=\"M 350 50 L 475.648438 133.765625 \"/>\n",
       "<path style=\" stroke:none;fill-rule:nonzero;fill:rgb(26.666667%,26.666667%,26.666667%);fill-opacity:1;\" d=\"M 487.519531 141.679688 L 473.078125 137.621094 L 478.21875 129.910156 L 487.519531 141.679688 \"/>\n",
       "<path style=\"fill:none;stroke-width:1;stroke-linecap:butt;stroke-linejoin:miter;stroke:rgb(26.666667%,26.666667%,26.666667%);stroke-opacity:1;stroke-miterlimit:10;\" d=\"M 350 150 L 470.734375 150 \"/>\n",
       "<path style=\" stroke:none;fill-rule:nonzero;fill:rgb(26.666667%,26.666667%,26.666667%);fill-opacity:1;\" d=\"M 485 150 L 470.734375 154.636719 L 470.734375 145.363281 L 485 150 \"/>\n",
       "<path style=\"fill:none;stroke-width:1;stroke-linecap:butt;stroke-linejoin:miter;stroke:rgb(26.666667%,26.666667%,26.666667%);stroke-opacity:1;stroke-miterlimit:10;\" d=\"M 350 50 L 479.304688 179.304688 \"/>\n",
       "<path style=\" stroke:none;fill-rule:nonzero;fill:rgb(26.666667%,26.666667%,26.666667%);fill-opacity:1;\" d=\"M 489.394531 189.394531 L 476.027344 182.582031 L 482.582031 176.027344 L 489.394531 189.394531 \"/>\n",
       "<path style=\"fill:none;stroke-width:1;stroke-linecap:butt;stroke-linejoin:miter;stroke:rgb(26.666667%,26.666667%,26.666667%);stroke-opacity:1;stroke-miterlimit:10;\" d=\"M 350 200 L 470.734375 200 \"/>\n",
       "<path style=\" stroke:none;fill-rule:nonzero;fill:rgb(26.666667%,26.666667%,26.666667%);fill-opacity:1;\" d=\"M 485 200 L 470.734375 204.636719 L 470.734375 195.363281 L 485 200 \"/>\n",
       "<path style=\"fill:none;stroke-width:1;stroke-linecap:butt;stroke-linejoin:miter;stroke:rgb(26.666667%,26.666667%,26.666667%);stroke-opacity:1;stroke-miterlimit:10;\" d=\"M 350 100 L 472.234375 59.253906 \"/>\n",
       "<path style=\" stroke:none;fill-rule:nonzero;fill:rgb(26.666667%,26.666667%,26.666667%);fill-opacity:1;\" d=\"M 485.769531 54.742188 L 473.703125 63.652344 L 470.769531 54.855469 L 485.769531 54.742188 \"/>\n",
       "<path style=\"fill:none;stroke-width:1;stroke-linecap:butt;stroke-linejoin:miter;stroke:rgb(26.666667%,26.666667%,26.666667%);stroke-opacity:1;stroke-miterlimit:10;\" d=\"M 350 100 L 472.234375 140.746094 \"/>\n",
       "<path style=\" stroke:none;fill-rule:nonzero;fill:rgb(26.666667%,26.666667%,26.666667%);fill-opacity:1;\" d=\"M 485.769531 145.257812 L 470.769531 145.144531 L 473.703125 136.347656 L 485.769531 145.257812 \"/>\n",
       "<path style=\"fill:none;stroke-width:1;stroke-linecap:butt;stroke-linejoin:miter;stroke:rgb(26.666667%,26.666667%,26.666667%);stroke-opacity:1;stroke-miterlimit:10;\" d=\"M 500 50 L 620.734375 50 \"/>\n",
       "<path style=\" stroke:none;fill-rule:nonzero;fill:rgb(26.666667%,26.666667%,26.666667%);fill-opacity:1;\" d=\"M 635 50 L 620.734375 54.636719 L 620.734375 45.363281 L 635 50 \"/>\n",
       "<path style=\"fill:none;stroke-width:1;stroke-linecap:butt;stroke-linejoin:miter;stroke:rgb(26.666667%,26.666667%,26.666667%);stroke-opacity:1;stroke-miterlimit:10;\" d=\"M 500 50 L 622.234375 90.746094 \"/>\n",
       "<path style=\" stroke:none;fill-rule:nonzero;fill:rgb(26.666667%,26.666667%,26.666667%);fill-opacity:1;\" d=\"M 635.769531 95.257812 L 620.769531 95.144531 L 623.703125 86.347656 L 635.769531 95.257812 \"/>\n",
       "<path style=\"fill:none;stroke-width:1;stroke-linecap:butt;stroke-linejoin:miter;stroke:rgb(26.666667%,26.666667%,26.666667%);stroke-opacity:1;stroke-miterlimit:10;\" d=\"M 500 100 L 620.734375 100 \"/>\n",
       "<path style=\" stroke:none;fill-rule:nonzero;fill:rgb(26.666667%,26.666667%,26.666667%);fill-opacity:1;\" d=\"M 635 100 L 620.734375 104.636719 L 620.734375 95.363281 L 635 100 \"/>\n",
       "<path style=\"fill:none;stroke-width:1;stroke-linecap:butt;stroke-linejoin:miter;stroke:rgb(26.666667%,26.666667%,26.666667%);stroke-opacity:1;stroke-miterlimit:10;\" d=\"M 500 50 L 625.648438 133.765625 \"/>\n",
       "<path style=\" stroke:none;fill-rule:nonzero;fill:rgb(26.666667%,26.666667%,26.666667%);fill-opacity:1;\" d=\"M 637.519531 141.679688 L 623.078125 137.621094 L 628.21875 129.910156 L 637.519531 141.679688 \"/>\n",
       "<path style=\"fill:none;stroke-width:1;stroke-linecap:butt;stroke-linejoin:miter;stroke:rgb(26.666667%,26.666667%,26.666667%);stroke-opacity:1;stroke-miterlimit:10;\" d=\"M 500 150 L 620.734375 150 \"/>\n",
       "<path style=\" stroke:none;fill-rule:nonzero;fill:rgb(26.666667%,26.666667%,26.666667%);fill-opacity:1;\" d=\"M 635 150 L 620.734375 154.636719 L 620.734375 145.363281 L 635 150 \"/>\n",
       "<path style=\"fill:none;stroke-width:1;stroke-linecap:butt;stroke-linejoin:miter;stroke:rgb(26.666667%,26.666667%,26.666667%);stroke-opacity:1;stroke-miterlimit:10;\" d=\"M 500 50 L 629.304688 179.304688 \"/>\n",
       "<path style=\" stroke:none;fill-rule:nonzero;fill:rgb(26.666667%,26.666667%,26.666667%);fill-opacity:1;\" d=\"M 639.394531 189.394531 L 626.027344 182.582031 L 632.582031 176.027344 L 639.394531 189.394531 \"/>\n",
       "<path style=\"fill:none;stroke-width:1;stroke-linecap:butt;stroke-linejoin:miter;stroke:rgb(26.666667%,26.666667%,26.666667%);stroke-opacity:1;stroke-miterlimit:10;\" d=\"M 500 200 L 620.734375 200 \"/>\n",
       "<path style=\" stroke:none;fill-rule:nonzero;fill:rgb(26.666667%,26.666667%,26.666667%);fill-opacity:1;\" d=\"M 635 200 L 620.734375 204.636719 L 620.734375 195.363281 L 635 200 \"/>\n",
       "<path style=\"fill:none;stroke-width:1;stroke-linecap:butt;stroke-linejoin:miter;stroke:rgb(26.666667%,26.666667%,26.666667%);stroke-opacity:1;stroke-miterlimit:10;\" d=\"M 500 100 L 622.234375 59.253906 \"/>\n",
       "<path style=\" stroke:none;fill-rule:nonzero;fill:rgb(26.666667%,26.666667%,26.666667%);fill-opacity:1;\" d=\"M 635.769531 54.742188 L 623.703125 63.652344 L 620.769531 54.855469 L 635.769531 54.742188 \"/>\n",
       "<path style=\"fill:none;stroke-width:1;stroke-linecap:butt;stroke-linejoin:miter;stroke:rgb(26.666667%,26.666667%,26.666667%);stroke-opacity:1;stroke-miterlimit:10;\" d=\"M 500 100 L 622.234375 140.746094 \"/>\n",
       "<path style=\" stroke:none;fill-rule:nonzero;fill:rgb(26.666667%,26.666667%,26.666667%);fill-opacity:1;\" d=\"M 635.769531 145.257812 L 620.769531 145.144531 L 623.703125 136.347656 L 635.769531 145.257812 \"/>\n",
       "<path style=\"fill:none;stroke-width:1;stroke-linecap:butt;stroke-linejoin:miter;stroke:rgb(26.666667%,26.666667%,26.666667%);stroke-opacity:1;stroke-miterlimit:10;\" d=\"M 50 125 L 173.824219 63.089844 \"/>\n",
       "<path style=\" stroke:none;fill-rule:nonzero;fill:rgb(26.666667%,26.666667%,26.666667%);fill-opacity:1;\" d=\"M 186.582031 56.707031 L 175.898438 67.234375 L 171.75 58.941406 L 186.582031 56.707031 \"/>\n",
       "<path style=\"fill:none;stroke-width:1;stroke-linecap:butt;stroke-linejoin:miter;stroke:rgb(26.666667%,26.666667%,26.666667%);stroke-opacity:1;stroke-miterlimit:10;\" d=\"M 50 125 L 171.132812 104.8125 \"/>\n",
       "<path style=\" stroke:none;fill-rule:nonzero;fill:rgb(26.666667%,26.666667%,26.666667%);fill-opacity:1;\" d=\"M 185.203125 102.464844 L 171.894531 109.382812 L 170.371094 100.238281 L 185.203125 102.464844 \"/>\n",
       "<path style=\"fill:none;stroke-width:1;stroke-linecap:butt;stroke-linejoin:miter;stroke:rgb(26.666667%,26.666667%,26.666667%);stroke-opacity:1;stroke-miterlimit:10;\" d=\"M 50 125 L 171.132812 145.1875 \"/>\n",
       "<path style=\" stroke:none;fill-rule:nonzero;fill:rgb(26.666667%,26.666667%,26.666667%);fill-opacity:1;\" d=\"M 185.203125 147.535156 L 170.371094 149.761719 L 171.894531 140.617188 L 185.203125 147.535156 \"/>\n",
       "<path style=\"fill:none;stroke-width:1;stroke-linecap:butt;stroke-linejoin:miter;stroke:rgb(26.666667%,26.666667%,26.666667%);stroke-opacity:1;stroke-miterlimit:10;\" d=\"M 50 125 L 173.824219 186.910156 \"/>\n",
       "<path style=\" stroke:none;fill-rule:nonzero;fill:rgb(26.666667%,26.666667%,26.666667%);fill-opacity:1;\" d=\"M 186.582031 193.292969 L 171.75 191.058594 L 175.898438 182.765625 L 186.582031 193.292969 \"/>\n",
       "<path style=\"fill:none;stroke-width:1;stroke-linecap:butt;stroke-linejoin:miter;stroke:rgb(26.666667%,26.666667%,26.666667%);stroke-opacity:1;stroke-miterlimit:10;\" d=\"M 50 125 L 321.609375 57.097656 \"/>\n",
       "<path style=\" stroke:none;fill-rule:nonzero;fill:rgb(26.666667%,26.666667%,26.666667%);fill-opacity:1;\" d=\"M 335.449219 53.636719 L 322.730469 61.59375 L 320.484375 52.601562 L 335.449219 53.636719 \"/>\n",
       "<path style=\"fill:none;stroke-width:1;stroke-linecap:butt;stroke-linejoin:miter;stroke:rgb(26.666667%,26.666667%,26.666667%);stroke-opacity:1;stroke-miterlimit:10;\" d=\"M 50 125 L 320.835938 102.429688 \"/>\n",
       "<path style=\" stroke:none;fill-rule:nonzero;fill:rgb(26.666667%,26.666667%,26.666667%);fill-opacity:1;\" d=\"M 335.050781 101.246094 L 321.21875 107.050781 L 320.449219 97.8125 L 335.050781 101.246094 \"/>\n",
       "<path style=\"fill:none;stroke-width:1;stroke-linecap:butt;stroke-linejoin:miter;stroke:rgb(26.666667%,26.666667%,26.666667%);stroke-opacity:1;stroke-miterlimit:10;\" d=\"M 50 125 L 320.835938 147.570312 \"/>\n",
       "<path style=\" stroke:none;fill-rule:nonzero;fill:rgb(26.666667%,26.666667%,26.666667%);fill-opacity:1;\" d=\"M 335.050781 148.753906 L 320.449219 152.1875 L 321.21875 142.949219 L 335.050781 148.753906 \"/>\n",
       "<path style=\"fill:none;stroke-width:1;stroke-linecap:butt;stroke-linejoin:miter;stroke:rgb(26.666667%,26.666667%,26.666667%);stroke-opacity:1;stroke-miterlimit:10;\" d=\"M 50 125 L 321.609375 192.902344 \"/>\n",
       "<path style=\" stroke:none;fill-rule:nonzero;fill:rgb(26.666667%,26.666667%,26.666667%);fill-opacity:1;\" d=\"M 335.449219 196.363281 L 320.484375 197.398438 L 322.730469 188.40625 L 335.449219 196.363281 \"/>\n",
       "<path style=\"fill:none;stroke-width:1;stroke-linecap:butt;stroke-linejoin:miter;stroke:rgb(26.666667%,26.666667%,26.666667%);stroke-opacity:1;stroke-miterlimit:10;\" d=\"M 50 125 L 471.132812 54.8125 \"/>\n",
       "<path style=\" stroke:none;fill-rule:nonzero;fill:rgb(26.666667%,26.666667%,26.666667%);fill-opacity:1;\" d=\"M 485.203125 52.464844 L 471.894531 59.382812 L 470.371094 50.238281 L 485.203125 52.464844 \"/>\n",
       "<path style=\"fill:none;stroke-width:1;stroke-linecap:butt;stroke-linejoin:miter;stroke:rgb(26.666667%,26.666667%,26.666667%);stroke-opacity:1;stroke-miterlimit:10;\" d=\"M 50 125 L 470.777344 101.625 \"/>\n",
       "<path style=\" stroke:none;fill-rule:nonzero;fill:rgb(26.666667%,26.666667%,26.666667%);fill-opacity:1;\" d=\"M 485.023438 100.832031 L 471.035156 106.25 L 470.523438 96.996094 L 485.023438 100.832031 \"/>\n",
       "<path style=\"fill:none;stroke-width:1;stroke-linecap:butt;stroke-linejoin:miter;stroke:rgb(26.666667%,26.666667%,26.666667%);stroke-opacity:1;stroke-miterlimit:10;\" d=\"M 50 125 L 470.777344 148.375 \"/>\n",
       "<path style=\" stroke:none;fill-rule:nonzero;fill:rgb(26.666667%,26.666667%,26.666667%);fill-opacity:1;\" d=\"M 485.023438 149.167969 L 470.523438 153.003906 L 471.035156 143.75 L 485.023438 149.167969 \"/>\n",
       "<path style=\"fill:none;stroke-width:1;stroke-linecap:butt;stroke-linejoin:miter;stroke:rgb(26.666667%,26.666667%,26.666667%);stroke-opacity:1;stroke-miterlimit:10;\" d=\"M 50 125 L 471.132812 195.1875 \"/>\n",
       "<path style=\" stroke:none;fill-rule:nonzero;fill:rgb(26.666667%,26.666667%,26.666667%);fill-opacity:1;\" d=\"M 485.203125 197.535156 L 470.371094 199.761719 L 471.894531 190.617188 L 485.203125 197.535156 \"/>\n",
       "<path style=\"fill:none;stroke-width:1;stroke-linecap:butt;stroke-linejoin:miter;stroke:rgb(26.666667%,26.666667%,26.666667%);stroke-opacity:1;stroke-miterlimit:10;\" d=\"M 50 125 L 620.960938 53.628906 \"/>\n",
       "<path style=\" stroke:none;fill-rule:nonzero;fill:rgb(26.666667%,26.666667%,26.666667%);fill-opacity:1;\" d=\"M 635.117188 51.859375 L 621.535156 58.230469 L 620.386719 49.03125 L 635.117188 51.859375 \"/>\n",
       "<path style=\"fill:none;stroke-width:1;stroke-linecap:butt;stroke-linejoin:miter;stroke:rgb(26.666667%,26.666667%,26.666667%);stroke-opacity:1;stroke-miterlimit:10;\" d=\"M 50 125 L 620.757812 101.21875 \"/>\n",
       "<path style=\" stroke:none;fill-rule:nonzero;fill:rgb(26.666667%,26.666667%,26.666667%);fill-opacity:1;\" d=\"M 635.011719 100.625 L 620.953125 105.847656 L 620.566406 96.585938 L 635.011719 100.625 \"/>\n",
       "<path style=\"fill:none;stroke-width:1;stroke-linecap:butt;stroke-linejoin:miter;stroke:rgb(26.666667%,26.666667%,26.666667%);stroke-opacity:1;stroke-miterlimit:10;\" d=\"M 50 125 L 620.757812 148.78125 \"/>\n",
       "<path style=\" stroke:none;fill-rule:nonzero;fill:rgb(26.666667%,26.666667%,26.666667%);fill-opacity:1;\" d=\"M 635.011719 149.375 L 620.566406 153.414062 L 620.953125 144.152344 L 635.011719 149.375 \"/>\n",
       "<path style=\"fill:none;stroke-width:1;stroke-linecap:butt;stroke-linejoin:miter;stroke:rgb(26.666667%,26.666667%,26.666667%);stroke-opacity:1;stroke-miterlimit:10;\" d=\"M 50 125 L 620.960938 196.371094 \"/>\n",
       "<path style=\" stroke:none;fill-rule:nonzero;fill:rgb(26.666667%,26.666667%,26.666667%);fill-opacity:1;\" d=\"M 635.117188 198.140625 L 620.386719 200.96875 L 621.535156 191.769531 L 635.117188 198.140625 \"/>\n",
       "<path style=\"fill-rule:nonzero;fill:rgb(55.294118%,82.745098%,78.039216%);fill-opacity:1;stroke-width:1;stroke-linecap:butt;stroke-linejoin:miter;stroke:rgb(0%,0%,0%);stroke-opacity:1;stroke-miterlimit:10;\" d=\"M 215 50 C 215 58.285156 208.285156 65 200 65 C 191.714844 65 185 58.285156 185 50 C 185 41.714844 191.714844 35 200 35 C 208.285156 35 215 41.714844 215 50 \"/>\n",
       "<path style=\"fill-rule:nonzero;fill:rgb(100%,100%,70.196078%);fill-opacity:1;stroke-width:1;stroke-linecap:butt;stroke-linejoin:miter;stroke:rgb(0%,0%,0%);stroke-opacity:1;stroke-miterlimit:10;\" d=\"M 215 100 C 215 108.285156 208.285156 115 200 115 C 191.714844 115 185 108.285156 185 100 C 185 91.714844 191.714844 85 200 85 C 208.285156 85 215 91.714844 215 100 \"/>\n",
       "<path style=\"fill-rule:nonzero;fill:rgb(74.509804%,72.941176%,85.490196%);fill-opacity:1;stroke-width:1;stroke-linecap:butt;stroke-linejoin:miter;stroke:rgb(0%,0%,0%);stroke-opacity:1;stroke-miterlimit:10;\" d=\"M 215 150 C 215 158.285156 208.285156 165 200 165 C 191.714844 165 185 158.285156 185 150 C 185 141.714844 191.714844 135 200 135 C 208.285156 135 215 141.714844 215 150 \"/>\n",
       "<path style=\"fill-rule:nonzero;fill:rgb(98.431373%,50.196078%,44.705882%);fill-opacity:1;stroke-width:1;stroke-linecap:butt;stroke-linejoin:miter;stroke:rgb(0%,0%,0%);stroke-opacity:1;stroke-miterlimit:10;\" d=\"M 215 200 C 215 208.285156 208.285156 215 200 215 C 191.714844 215 185 208.285156 185 200 C 185 191.714844 191.714844 185 200 185 C 208.285156 185 215 191.714844 215 200 \"/>\n",
       "<path style=\"fill-rule:nonzero;fill:rgb(55.294118%,82.745098%,78.039216%);fill-opacity:1;stroke-width:1;stroke-linecap:butt;stroke-linejoin:miter;stroke:rgb(0%,0%,0%);stroke-opacity:1;stroke-miterlimit:10;\" d=\"M 365 50 C 365 58.285156 358.285156 65 350 65 C 341.714844 65 335 58.285156 335 50 C 335 41.714844 341.714844 35 350 35 C 358.285156 35 365 41.714844 365 50 \"/>\n",
       "<path style=\"fill-rule:nonzero;fill:rgb(100%,100%,70.196078%);fill-opacity:1;stroke-width:1;stroke-linecap:butt;stroke-linejoin:miter;stroke:rgb(0%,0%,0%);stroke-opacity:1;stroke-miterlimit:10;\" d=\"M 365 100 C 365 108.285156 358.285156 115 350 115 C 341.714844 115 335 108.285156 335 100 C 335 91.714844 341.714844 85 350 85 C 358.285156 85 365 91.714844 365 100 \"/>\n",
       "<path style=\"fill-rule:nonzero;fill:rgb(74.509804%,72.941176%,85.490196%);fill-opacity:1;stroke-width:1;stroke-linecap:butt;stroke-linejoin:miter;stroke:rgb(0%,0%,0%);stroke-opacity:1;stroke-miterlimit:10;\" d=\"M 365 150 C 365 158.285156 358.285156 165 350 165 C 341.714844 165 335 158.285156 335 150 C 335 141.714844 341.714844 135 350 135 C 358.285156 135 365 141.714844 365 150 \"/>\n",
       "<path style=\"fill-rule:nonzero;fill:rgb(98.431373%,50.196078%,44.705882%);fill-opacity:1;stroke-width:1;stroke-linecap:butt;stroke-linejoin:miter;stroke:rgb(0%,0%,0%);stroke-opacity:1;stroke-miterlimit:10;\" d=\"M 365 200 C 365 208.285156 358.285156 215 350 215 C 341.714844 215 335 208.285156 335 200 C 335 191.714844 341.714844 185 350 185 C 358.285156 185 365 191.714844 365 200 \"/>\n",
       "<path style=\"fill-rule:nonzero;fill:rgb(55.294118%,82.745098%,78.039216%);fill-opacity:1;stroke-width:1;stroke-linecap:butt;stroke-linejoin:miter;stroke:rgb(0%,0%,0%);stroke-opacity:1;stroke-miterlimit:10;\" d=\"M 515 50 C 515 58.285156 508.285156 65 500 65 C 491.714844 65 485 58.285156 485 50 C 485 41.714844 491.714844 35 500 35 C 508.285156 35 515 41.714844 515 50 \"/>\n",
       "<path style=\"fill-rule:nonzero;fill:rgb(100%,100%,70.196078%);fill-opacity:1;stroke-width:1;stroke-linecap:butt;stroke-linejoin:miter;stroke:rgb(0%,0%,0%);stroke-opacity:1;stroke-miterlimit:10;\" d=\"M 515 100 C 515 108.285156 508.285156 115 500 115 C 491.714844 115 485 108.285156 485 100 C 485 91.714844 491.714844 85 500 85 C 508.285156 85 515 91.714844 515 100 \"/>\n",
       "<path style=\"fill-rule:nonzero;fill:rgb(74.509804%,72.941176%,85.490196%);fill-opacity:1;stroke-width:1;stroke-linecap:butt;stroke-linejoin:miter;stroke:rgb(0%,0%,0%);stroke-opacity:1;stroke-miterlimit:10;\" d=\"M 515 150 C 515 158.285156 508.285156 165 500 165 C 491.714844 165 485 158.285156 485 150 C 485 141.714844 491.714844 135 500 135 C 508.285156 135 515 141.714844 515 150 \"/>\n",
       "<path style=\"fill-rule:nonzero;fill:rgb(98.431373%,50.196078%,44.705882%);fill-opacity:1;stroke-width:1;stroke-linecap:butt;stroke-linejoin:miter;stroke:rgb(0%,0%,0%);stroke-opacity:1;stroke-miterlimit:10;\" d=\"M 515 200 C 515 208.285156 508.285156 215 500 215 C 491.714844 215 485 208.285156 485 200 C 485 191.714844 491.714844 185 500 185 C 508.285156 185 515 191.714844 515 200 \"/>\n",
       "<path style=\"fill-rule:nonzero;fill:rgb(55.294118%,82.745098%,78.039216%);fill-opacity:1;stroke-width:1;stroke-linecap:butt;stroke-linejoin:miter;stroke:rgb(0%,0%,0%);stroke-opacity:1;stroke-miterlimit:10;\" d=\"M 665 50 C 665 58.285156 658.285156 65 650 65 C 641.714844 65 635 58.285156 635 50 C 635 41.714844 641.714844 35 650 35 C 658.285156 35 665 41.714844 665 50 \"/>\n",
       "<path style=\"fill-rule:nonzero;fill:rgb(100%,100%,70.196078%);fill-opacity:1;stroke-width:1;stroke-linecap:butt;stroke-linejoin:miter;stroke:rgb(0%,0%,0%);stroke-opacity:1;stroke-miterlimit:10;\" d=\"M 665 100 C 665 108.285156 658.285156 115 650 115 C 641.714844 115 635 108.285156 635 100 C 635 91.714844 641.714844 85 650 85 C 658.285156 85 665 91.714844 665 100 \"/>\n",
       "<path style=\"fill-rule:nonzero;fill:rgb(74.509804%,72.941176%,85.490196%);fill-opacity:1;stroke-width:1;stroke-linecap:butt;stroke-linejoin:miter;stroke:rgb(0%,0%,0%);stroke-opacity:1;stroke-miterlimit:10;\" d=\"M 665 150 C 665 158.285156 658.285156 165 650 165 C 641.714844 165 635 158.285156 635 150 C 635 141.714844 641.714844 135 650 135 C 658.285156 135 665 141.714844 665 150 \"/>\n",
       "<path style=\"fill-rule:nonzero;fill:rgb(98.431373%,50.196078%,44.705882%);fill-opacity:1;stroke-width:1;stroke-linecap:butt;stroke-linejoin:miter;stroke:rgb(0%,0%,0%);stroke-opacity:1;stroke-miterlimit:10;\" d=\"M 665 200 C 665 208.285156 658.285156 215 650 215 C 641.714844 215 635 208.285156 635 200 C 635 191.714844 641.714844 185 650 185 C 658.285156 185 665 191.714844 665 200 \"/>\n",
       "<path style=\"fill-rule:nonzero;fill:rgb(73.333333%,73.333333%,73.333333%);fill-opacity:1;stroke-width:1;stroke-linecap:butt;stroke-linejoin:miter;stroke:rgb(0%,0%,0%);stroke-opacity:1;stroke-miterlimit:10;\" d=\"M 65 125 C 65 133.285156 58.285156 140 50 140 C 41.714844 140 35 133.285156 35 125 C 35 116.714844 41.714844 110 50 110 C 58.285156 110 65 116.714844 65 125 \"/>\n",
       "<g style=\"fill:rgb(0%,0%,0%);fill-opacity:1;\">\n",
       "  <use xlink:href=\"#glyph0-1\" x=\"192.050781\" y=\"54.890625\"/>\n",
       "  <use xlink:href=\"#glyph0-2\" x=\"198.413086\" y=\"54.890625\"/>\n",
       "  <use xlink:href=\"#glyph0-1\" x=\"201.591797\" y=\"54.890625\"/>\n",
       "</g>\n",
       "<g style=\"fill:rgb(0%,0%,0%);fill-opacity:1;\">\n",
       "  <use xlink:href=\"#glyph0-1\" x=\"192.179688\" y=\"104.890625\"/>\n",
       "  <use xlink:href=\"#glyph0-2\" x=\"198.541992\" y=\"104.890625\"/>\n",
       "  <use xlink:href=\"#glyph0-3\" x=\"201.720703\" y=\"104.890625\"/>\n",
       "</g>\n",
       "<g style=\"fill:rgb(0%,0%,0%);fill-opacity:1;\">\n",
       "  <use xlink:href=\"#glyph0-1\" x=\"192.21875\" y=\"154.890625\"/>\n",
       "  <use xlink:href=\"#glyph0-2\" x=\"198.581055\" y=\"154.890625\"/>\n",
       "  <use xlink:href=\"#glyph0-4\" x=\"201.759766\" y=\"154.890625\"/>\n",
       "</g>\n",
       "<g style=\"fill:rgb(0%,0%,0%);fill-opacity:1;\">\n",
       "  <use xlink:href=\"#glyph0-1\" x=\"192.117188\" y=\"204.890625\"/>\n",
       "  <use xlink:href=\"#glyph0-2\" x=\"198.479492\" y=\"204.890625\"/>\n",
       "  <use xlink:href=\"#glyph0-5\" x=\"201.658203\" y=\"204.890625\"/>\n",
       "</g>\n",
       "<g style=\"fill:rgb(0%,0%,0%);fill-opacity:1;\">\n",
       "  <use xlink:href=\"#glyph0-3\" x=\"341.832031\" y=\"54.890625\"/>\n",
       "  <use xlink:href=\"#glyph0-2\" x=\"348.194336\" y=\"54.890625\"/>\n",
       "  <use xlink:href=\"#glyph0-1\" x=\"351.373047\" y=\"54.890625\"/>\n",
       "</g>\n",
       "<g style=\"fill:rgb(0%,0%,0%);fill-opacity:1;\">\n",
       "  <use xlink:href=\"#glyph0-3\" x=\"341.960938\" y=\"104.824219\"/>\n",
       "  <use xlink:href=\"#glyph0-2\" x=\"348.323242\" y=\"104.824219\"/>\n",
       "  <use xlink:href=\"#glyph0-3\" x=\"351.501953\" y=\"104.824219\"/>\n",
       "</g>\n",
       "<g style=\"fill:rgb(0%,0%,0%);fill-opacity:1;\">\n",
       "  <use xlink:href=\"#glyph0-3\" x=\"342\" y=\"154.890625\"/>\n",
       "  <use xlink:href=\"#glyph0-2\" x=\"348.362305\" y=\"154.890625\"/>\n",
       "  <use xlink:href=\"#glyph0-4\" x=\"351.541016\" y=\"154.890625\"/>\n",
       "</g>\n",
       "<g style=\"fill:rgb(0%,0%,0%);fill-opacity:1;\">\n",
       "  <use xlink:href=\"#glyph0-3\" x=\"341.898438\" y=\"204.890625\"/>\n",
       "  <use xlink:href=\"#glyph0-2\" x=\"348.260742\" y=\"204.890625\"/>\n",
       "  <use xlink:href=\"#glyph0-5\" x=\"351.439453\" y=\"204.890625\"/>\n",
       "</g>\n",
       "<g style=\"fill:rgb(0%,0%,0%);fill-opacity:1;\">\n",
       "  <use xlink:href=\"#glyph0-4\" x=\"492.015625\" y=\"54.890625\"/>\n",
       "  <use xlink:href=\"#glyph0-2\" x=\"498.37793\" y=\"54.890625\"/>\n",
       "  <use xlink:href=\"#glyph0-1\" x=\"501.556641\" y=\"54.890625\"/>\n",
       "</g>\n",
       "<g style=\"fill:rgb(0%,0%,0%);fill-opacity:1;\">\n",
       "  <use xlink:href=\"#glyph0-4\" x=\"492.144531\" y=\"104.890625\"/>\n",
       "  <use xlink:href=\"#glyph0-2\" x=\"498.506836\" y=\"104.890625\"/>\n",
       "  <use xlink:href=\"#glyph0-3\" x=\"501.685547\" y=\"104.890625\"/>\n",
       "</g>\n",
       "<g style=\"fill:rgb(0%,0%,0%);fill-opacity:1;\">\n",
       "  <use xlink:href=\"#glyph0-4\" x=\"492.183594\" y=\"154.890625\"/>\n",
       "  <use xlink:href=\"#glyph0-2\" x=\"498.545898\" y=\"154.890625\"/>\n",
       "  <use xlink:href=\"#glyph0-4\" x=\"501.724609\" y=\"154.890625\"/>\n",
       "</g>\n",
       "<g style=\"fill:rgb(0%,0%,0%);fill-opacity:1;\">\n",
       "  <use xlink:href=\"#glyph0-4\" x=\"492.082031\" y=\"204.890625\"/>\n",
       "  <use xlink:href=\"#glyph0-2\" x=\"498.444336\" y=\"204.890625\"/>\n",
       "  <use xlink:href=\"#glyph0-5\" x=\"501.623047\" y=\"204.890625\"/>\n",
       "</g>\n",
       "<g style=\"fill:rgb(0%,0%,0%);fill-opacity:1;\">\n",
       "  <use xlink:href=\"#glyph0-5\" x=\"642\" y=\"54.890625\"/>\n",
       "  <use xlink:href=\"#glyph0-2\" x=\"648.362305\" y=\"54.890625\"/>\n",
       "  <use xlink:href=\"#glyph0-1\" x=\"651.541016\" y=\"54.890625\"/>\n",
       "</g>\n",
       "<g style=\"fill:rgb(0%,0%,0%);fill-opacity:1;\">\n",
       "  <use xlink:href=\"#glyph0-5\" x=\"642.128906\" y=\"104.890625\"/>\n",
       "  <use xlink:href=\"#glyph0-2\" x=\"648.491211\" y=\"104.890625\"/>\n",
       "  <use xlink:href=\"#glyph0-3\" x=\"651.669922\" y=\"104.890625\"/>\n",
       "</g>\n",
       "<g style=\"fill:rgb(0%,0%,0%);fill-opacity:1;\">\n",
       "  <use xlink:href=\"#glyph0-5\" x=\"642.167969\" y=\"154.890625\"/>\n",
       "  <use xlink:href=\"#glyph0-2\" x=\"648.530273\" y=\"154.890625\"/>\n",
       "  <use xlink:href=\"#glyph0-4\" x=\"651.708984\" y=\"154.890625\"/>\n",
       "</g>\n",
       "<g style=\"fill:rgb(0%,0%,0%);fill-opacity:1;\">\n",
       "  <use xlink:href=\"#glyph0-5\" x=\"642.066406\" y=\"204.890625\"/>\n",
       "  <use xlink:href=\"#glyph0-2\" x=\"648.428711\" y=\"204.890625\"/>\n",
       "  <use xlink:href=\"#glyph0-5\" x=\"651.607422\" y=\"204.890625\"/>\n",
       "</g>\n",
       "<g style=\"fill:rgb(0%,0%,0%);fill-opacity:1;\">\n",
       "  <use xlink:href=\"#glyph0-6\" x=\"38.65625\" y=\"129.824219\"/>\n",
       "  <use xlink:href=\"#glyph0-3\" x=\"42.264648\" y=\"129.824219\"/>\n",
       "  <use xlink:href=\"#glyph0-2\" x=\"48.626953\" y=\"129.824219\"/>\n",
       "  <use xlink:href=\"#glyph0-6\" x=\"51.805664\" y=\"129.824219\"/>\n",
       "  <use xlink:href=\"#glyph0-3\" x=\"55.414062\" y=\"129.824219\"/>\n",
       "</g>\n",
       "</g>\n",
       "</svg>\n"
      ],
      "text/plain": [
       "<igraph.drawing.Plot at 0x7fd582661f28>"
      ]
     },
     "execution_count": 30,
     "metadata": {
      "image/svg+xml": {
       "isolated": true
      }
     },
     "output_type": "execute_result"
    }
   ],
   "source": [
    "tugs, tugs_source = util._add_source_to_tug(tug)\n",
    "ig.plot(tugs, **util.get_visual_style(tugs), bbox=(700, 250), margin=50)"
   ]
  },
  {
   "cell_type": "markdown",
   "metadata": {},
   "source": [
    "* The node is associate to the time step $-1$ and (original) index $-1$"
   ]
  },
  {
   "cell_type": "markdown",
   "metadata": {
    "slideshow": {
     "slide_type": "subslide"
    }
   },
   "source": [
    "## Path Enumeration\n",
    "\n",
    "**Then we can use a _depth-first traversal_ to enumerate all paths**"
   ]
  },
  {
   "cell_type": "code",
   "execution_count": 31,
   "metadata": {},
   "outputs": [
    {
     "name": "stdout",
     "output_type": "stream",
     "text": [
      "0: [0]\n",
      "1: [0, 4]\n",
      "2: [0, 4, 8]\n",
      "3: [0, 4, 8, 12]\n",
      "4: [0, 4, 8, 13]\n",
      "5: [0, 4, 8, 14]\n",
      "6: [0, 4, 8, 15]\n",
      "7: [0, 4, 9]\n",
      "8: [0, 4, 9, 12]\n",
      "9: [0, 4, 9, 13]\n",
      "10: [0, 4, 9, 14]\n",
      "11: [0, 4, 10]\n",
      "12: [0, 4, 10, 14]\n",
      "13: [0, 4, 11]\n",
      "14: [0, 4, 11, 15]\n",
      "15: [0, 5]\n",
      "16: [0, 5, 8]\n",
      "17: [0, 5, 8, 12]\n",
      "18: [0, 5, 8, 13]\n",
      "19: [0, 5, 8, 14]\n",
      "20: [0, 5, 8, 15]\n",
      "21: [0, 5, 9]\n",
      "22: [0, 5, 9, 12]\n",
      "23: [0, 5, 9, 13]\n",
      "24: [0, 5, 9, 14]\n",
      "25: [0, 5, 10]\n",
      "26: [0, 5, 10, 14]\n",
      "27: [0, 6]\n",
      "28: [0, 6, 10]\n",
      "29: [0, 6, 10, 14]\n",
      "30: [0, 7]\n",
      "31: [0, 7, 11]\n",
      "32: [0, 7, 11, 15]\n",
      "33: [1]\n",
      "34: [1, 4]\n",
      "35: [1, 4, 8]\n",
      "36: [1, 4, 8, 12]\n",
      "37: [1, 4, 8, 13]\n",
      "38: [1, 4, 8, 14]\n",
      "39: [1, 4, 8, 15]\n",
      "40: [1, 4, 9]\n",
      "41: [1, 4, 9, 12]\n",
      "42: [1, 4, 9, 13]\n",
      "43: [1, 4, 9, 14]\n",
      "44: [1, 4, 10]\n",
      "45: [1, 4, 10, 14]\n",
      "46: [1, 4, 11]\n",
      "47: [1, 4, 11, 15]\n",
      "48: [1, 5]\n",
      "49: [1, 5, 8]\n",
      "50: [1, 5, 8, 12]\n",
      "51: [1, 5, 8, 13]\n",
      "52: [1, 5, 8, 14]\n",
      "53: [1, 5, 8, 15]\n",
      "54: [1, 5, 9]\n",
      "55: [1, 5, 9, 12]\n",
      "56: [1, 5, 9, 13]\n",
      "57: [1, 5, 9, 14]\n",
      "58: [1, 5, 10]\n",
      "59: [1, 5, 10, 14]\n",
      "60: [1, 6]\n",
      "61: [1, 6, 10]\n",
      "62: [1, 6, 10, 14]\n",
      "63: [2]\n",
      "64: [2, 6]\n",
      "65: [2, 6, 10]\n",
      "66: [2, 6, 10, 14]\n",
      "67: [3]\n",
      "68: [3, 7]\n",
      "69: [3, 7, 11]\n",
      "70: [3, 7, 11, 15]\n",
      "71: [4]\n",
      "72: [4, 8]\n",
      "73: [4, 8, 12]\n",
      "74: [4, 8, 13]\n",
      "75: [4, 8, 14]\n",
      "76: [4, 8, 15]\n",
      "77: [4, 9]\n",
      "78: [4, 9, 12]\n",
      "79: [4, 9, 13]\n",
      "80: [4, 9, 14]\n",
      "81: [4, 10]\n",
      "82: [4, 10, 14]\n",
      "83: [4, 11]\n",
      "84: [4, 11, 15]\n",
      "85: [5]\n",
      "86: [5, 8]\n",
      "87: [5, 8, 12]\n",
      "88: [5, 8, 13]\n",
      "89: [5, 8, 14]\n",
      "90: [5, 8, 15]\n",
      "91: [5, 9]\n",
      "92: [5, 9, 12]\n",
      "93: [5, 9, 13]\n",
      "94: [5, 9, 14]\n",
      "95: [5, 10]\n",
      "96: [5, 10, 14]\n",
      "97: [6]\n",
      "98: [6, 10]\n",
      "99: [6, 10, 14]\n",
      "100: [7]\n",
      "101: [7, 11]\n",
      "102: [7, 11, 15]\n",
      "103: [8]\n",
      "104: [8, 12]\n",
      "105: [8, 13]\n",
      "106: [8, 14]\n",
      "107: [8, 15]\n",
      "108: [9]\n",
      "109: [9, 12]\n",
      "110: [9, 13]\n",
      "111: [9, 14]\n",
      "112: [10]\n",
      "113: [10, 14]\n",
      "114: [11]\n",
      "115: [11, 15]\n",
      "116: [12]\n",
      "117: [13]\n",
      "118: [14]\n",
      "119: [15]\n"
     ]
    }
   ],
   "source": [
    "tug_paths = util.enumerate_paths(tugs, tugs_source, exclude_source=True)\n",
    "for i, p in enumerate(tug_paths):\n",
    "    print(f'{i}: {p}')"
   ]
  },
  {
   "cell_type": "markdown",
   "metadata": {
    "slideshow": {
     "slide_type": "subslide"
    }
   },
   "source": [
    "## Path Enumeratation\n",
    "\n",
    "**By default we use TUG node indexes, but we can plot the original ones:**"
   ]
  },
  {
   "cell_type": "code",
   "execution_count": 32,
   "metadata": {
    "slideshow": {
     "slide_type": "-"
    }
   },
   "outputs": [
    {
     "name": "stdout",
     "output_type": "stream",
     "text": [
      "0: [(0, 0)]\n",
      "1: [(0, 0), (1, 0)]\n",
      "2: [(0, 0), (1, 0), (2, 0)]\n",
      "3: [(0, 0), (1, 0), (2, 0), (3, 0)]\n",
      "4: [(0, 0), (1, 0), (2, 0), (3, 1)]\n",
      "5: [(0, 0), (1, 0), (2, 0), (3, 2)]\n",
      "6: [(0, 0), (1, 0), (2, 0), (3, 3)]\n",
      "7: [(0, 0), (1, 0), (2, 1)]\n",
      "8: [(0, 0), (1, 0), (2, 1), (3, 0)]\n",
      "9: [(0, 0), (1, 0), (2, 1), (3, 1)]\n",
      "10: [(0, 0), (1, 0), (2, 1), (3, 2)]\n",
      "11: [(0, 0), (1, 0), (2, 2)]\n",
      "12: [(0, 0), (1, 0), (2, 2), (3, 2)]\n",
      "13: [(0, 0), (1, 0), (2, 3)]\n",
      "14: [(0, 0), (1, 0), (2, 3), (3, 3)]\n",
      "15: [(0, 0), (1, 1)]\n",
      "16: [(0, 0), (1, 1), (2, 0)]\n",
      "17: [(0, 0), (1, 1), (2, 0), (3, 0)]\n",
      "18: [(0, 0), (1, 1), (2, 0), (3, 1)]\n",
      "19: [(0, 0), (1, 1), (2, 0), (3, 2)]\n",
      "20: [(0, 0), (1, 1), (2, 0), (3, 3)]\n",
      "21: [(0, 0), (1, 1), (2, 1)]\n",
      "22: [(0, 0), (1, 1), (2, 1), (3, 0)]\n",
      "23: [(0, 0), (1, 1), (2, 1), (3, 1)]\n",
      "24: [(0, 0), (1, 1), (2, 1), (3, 2)]\n",
      "25: [(0, 0), (1, 1), (2, 2)]\n",
      "26: [(0, 0), (1, 1), (2, 2), (3, 2)]\n",
      "27: [(0, 0), (1, 2)]\n",
      "28: [(0, 0), (1, 2), (2, 2)]\n",
      "29: [(0, 0), (1, 2), (2, 2), (3, 2)]\n",
      "30: [(0, 0), (1, 3)]\n",
      "31: [(0, 0), (1, 3), (2, 3)]\n",
      "32: [(0, 0), (1, 3), (2, 3), (3, 3)]\n",
      "33: [(0, 1)]\n",
      "34: [(0, 1), (1, 0)]\n",
      "35: [(0, 1), (1, 0), (2, 0)]\n",
      "36: [(0, 1), (1, 0), (2, 0), (3, 0)]\n",
      "37: [(0, 1), (1, 0), (2, 0), (3, 1)]\n",
      "38: [(0, 1), (1, 0), (2, 0), (3, 2)]\n",
      "39: [(0, 1), (1, 0), (2, 0), (3, 3)]\n",
      "40: [(0, 1), (1, 0), (2, 1)]\n",
      "41: [(0, 1), (1, 0), (2, 1), (3, 0)]\n",
      "42: [(0, 1), (1, 0), (2, 1), (3, 1)]\n",
      "43: [(0, 1), (1, 0), (2, 1), (3, 2)]\n",
      "44: [(0, 1), (1, 0), (2, 2)]\n",
      "45: [(0, 1), (1, 0), (2, 2), (3, 2)]\n",
      "46: [(0, 1), (1, 0), (2, 3)]\n",
      "47: [(0, 1), (1, 0), (2, 3), (3, 3)]\n",
      "48: [(0, 1), (1, 1)]\n",
      "49: [(0, 1), (1, 1), (2, 0)]\n",
      "50: [(0, 1), (1, 1), (2, 0), (3, 0)]\n",
      "51: [(0, 1), (1, 1), (2, 0), (3, 1)]\n",
      "52: [(0, 1), (1, 1), (2, 0), (3, 2)]\n",
      "53: [(0, 1), (1, 1), (2, 0), (3, 3)]\n",
      "54: [(0, 1), (1, 1), (2, 1)]\n",
      "55: [(0, 1), (1, 1), (2, 1), (3, 0)]\n",
      "56: [(0, 1), (1, 1), (2, 1), (3, 1)]\n",
      "57: [(0, 1), (1, 1), (2, 1), (3, 2)]\n",
      "58: [(0, 1), (1, 1), (2, 2)]\n",
      "59: [(0, 1), (1, 1), (2, 2), (3, 2)]\n",
      "60: [(0, 1), (1, 2)]\n",
      "61: [(0, 1), (1, 2), (2, 2)]\n",
      "62: [(0, 1), (1, 2), (2, 2), (3, 2)]\n",
      "63: [(0, 2)]\n",
      "64: [(0, 2), (1, 2)]\n",
      "65: [(0, 2), (1, 2), (2, 2)]\n",
      "66: [(0, 2), (1, 2), (2, 2), (3, 2)]\n",
      "67: [(0, 3)]\n",
      "68: [(0, 3), (1, 3)]\n",
      "69: [(0, 3), (1, 3), (2, 3)]\n",
      "70: [(0, 3), (1, 3), (2, 3), (3, 3)]\n",
      "71: [(1, 0)]\n",
      "72: [(1, 0), (2, 0)]\n",
      "73: [(1, 0), (2, 0), (3, 0)]\n",
      "74: [(1, 0), (2, 0), (3, 1)]\n",
      "75: [(1, 0), (2, 0), (3, 2)]\n",
      "76: [(1, 0), (2, 0), (3, 3)]\n",
      "77: [(1, 0), (2, 1)]\n",
      "78: [(1, 0), (2, 1), (3, 0)]\n",
      "79: [(1, 0), (2, 1), (3, 1)]\n",
      "80: [(1, 0), (2, 1), (3, 2)]\n",
      "81: [(1, 0), (2, 2)]\n",
      "82: [(1, 0), (2, 2), (3, 2)]\n",
      "83: [(1, 0), (2, 3)]\n",
      "84: [(1, 0), (2, 3), (3, 3)]\n",
      "85: [(1, 1)]\n",
      "86: [(1, 1), (2, 0)]\n",
      "87: [(1, 1), (2, 0), (3, 0)]\n",
      "88: [(1, 1), (2, 0), (3, 1)]\n",
      "89: [(1, 1), (2, 0), (3, 2)]\n",
      "90: [(1, 1), (2, 0), (3, 3)]\n",
      "91: [(1, 1), (2, 1)]\n",
      "92: [(1, 1), (2, 1), (3, 0)]\n",
      "93: [(1, 1), (2, 1), (3, 1)]\n",
      "94: [(1, 1), (2, 1), (3, 2)]\n",
      "95: [(1, 1), (2, 2)]\n",
      "96: [(1, 1), (2, 2), (3, 2)]\n",
      "97: [(1, 2)]\n",
      "98: [(1, 2), (2, 2)]\n",
      "99: [(1, 2), (2, 2), (3, 2)]\n",
      "100: [(1, 3)]\n",
      "101: [(1, 3), (2, 3)]\n",
      "102: [(1, 3), (2, 3), (3, 3)]\n",
      "103: [(2, 0)]\n",
      "104: [(2, 0), (3, 0)]\n",
      "105: [(2, 0), (3, 1)]\n",
      "106: [(2, 0), (3, 2)]\n",
      "107: [(2, 0), (3, 3)]\n",
      "108: [(2, 1)]\n",
      "109: [(2, 1), (3, 0)]\n",
      "110: [(2, 1), (3, 1)]\n",
      "111: [(2, 1), (3, 2)]\n",
      "112: [(2, 2)]\n",
      "113: [(2, 2), (3, 2)]\n",
      "114: [(2, 3)]\n",
      "115: [(2, 3), (3, 3)]\n",
      "116: [(3, 0)]\n",
      "117: [(3, 1)]\n",
      "118: [(3, 2)]\n",
      "119: [(3, 3)]\n"
     ]
    }
   ],
   "source": [
    "tmp = util.tug_paths_to_original(tugs, tug_paths)\n",
    "for i, p in enumerate(tmp):\n",
    "    print(f'{i}: {p}')"
   ]
  },
  {
   "cell_type": "markdown",
   "metadata": {
    "slideshow": {
     "slide_type": "subslide"
    }
   },
   "source": [
    "## Building the Matrices and Vectors\n",
    "\n",
    "**Now we can build the $V$ and $E$ matrices and the $\\hat{v}$ and $\\hat{e}$ vectors**\n",
    "\n",
    "These define the least squares terms $\\|Vx - \\hat{v}\\|_2^2$ and $\\|Ex - \\hat{e}\\|_2^2$"
   ]
  },
  {
   "cell_type": "code",
   "execution_count": 33,
   "metadata": {},
   "outputs": [],
   "source": [
    "V, E = util._paths_to_coefficient_matrices(tug, tug_paths)\n",
    "v, e = util._counts_to_target_vectors(tug, node_counts, arc_counts)"
   ]
  },
  {
   "cell_type": "markdown",
   "metadata": {
    "slideshow": {
     "slide_type": "fragment"
    }
   },
   "source": [
    "Here's a visualization of the $V, \\hat{v}$ pair:"
   ]
  },
  {
   "cell_type": "code",
   "execution_count": 34,
   "metadata": {
    "slideshow": {
     "slide_type": "-"
    }
   },
   "outputs": [
    {
     "data": {
      "image/png": "[encoded data removed]",
      "text/plain": [
       "<Figure size 1008x360 with 2 Axes>"
      ]
     },
     "metadata": {
      "needs_background": "light"
     },
     "output_type": "display_data"
    }
   ],
   "source": [
    "util.plot_matrix(V.toarray(), v, figsize=figsize, title='V', title_b='v')"
   ]
  },
  {
   "cell_type": "markdown",
   "metadata": {
    "slideshow": {
     "slide_type": "subslide"
    }
   },
   "source": [
    "## Building the Matrices and Vectors\n",
    "\n",
    "**Now we can build the $V$ and $E$ matrices and the $\\hat{v}$ and $\\hat{e}$ vectors**\n",
    "\n",
    "These define the least squares terms $\\|Vx - \\hat{v}\\|_2^2$ and $\\|Ex - \\hat{e}\\|_2^2$"
   ]
  },
  {
   "cell_type": "code",
   "execution_count": 35,
   "metadata": {},
   "outputs": [],
   "source": [
    "V, E = util._paths_to_coefficient_matrices(tug, tug_paths)\n",
    "v, e = util._counts_to_target_vectors(tug, node_counts, arc_counts)"
   ]
  },
  {
   "cell_type": "markdown",
   "metadata": {
    "slideshow": {
     "slide_type": "-"
    }
   },
   "source": [
    "Here's the same for the $E, \\hat{e}$ pair:"
   ]
  },
  {
   "cell_type": "code",
   "execution_count": 36,
   "metadata": {
    "slideshow": {
     "slide_type": "-"
    }
   },
   "outputs": [
    {
     "data": {
      "image/png": "[encoded data removed]",
      "text/plain": [
       "<Figure size 1008x360 with 2 Axes>"
      ]
     },
     "metadata": {
      "needs_background": "light"
     },
     "output_type": "display_data"
    }
   ],
   "source": [
    "util.plot_matrix(E.toarray(), e, figsize=figsize, title='E', title_b='e')"
   ]
  },
  {
   "cell_type": "markdown",
   "metadata": {
    "slideshow": {
     "slide_type": "subslide"
    }
   },
   "source": [
    "## Solving the QP Problem\n",
    "\n",
    "**The code for solving the QP is in the `solve_path_selection_full` function**\n",
    "\n",
    "Here's a relevant snippet:\n",
    "\n",
    "```python\n",
    "# Enumerate all paths\n",
    "tugs, tugs_source = _add_source_to_tug(tug)\n",
    "paths = enumerate_paths(tugs, tugs_source, exclude_source=True)\n",
    "# Build the path selection solver\n",
    "prb = PathSelectionSolver(tug, node_counts, arc_counts)\n",
    "# Solve the path selection problem\n",
    "sol = prb.solve(paths, verbose=verbose, polish=True, **settings)\n",
    "```\n",
    "\n",
    "* First we build a `PathSelectionSolver`, i.e. a custom class from the `util` module\n",
    "* Then we call the `solve` method\n",
    "* With `polish = True` we attempt to obtain an exact solution\n",
    "* Otherwise, we get a (feasible, but) approximate solution"
   ]
  },
  {
   "cell_type": "markdown",
   "metadata": {
    "slideshow": {
     "slide_type": "subslide"
    }
   },
   "source": [
    "## Solving the QP Problem\n",
    "\n",
    "**In turn, `PathSelectionSolver.solve` contains the following code:**\n",
    "\n",
    "```python\n",
    "# Build the solver\n",
    "self.mdl = osqp.OSQP()\n",
    "# Recompute the problem matrices\n",
    "P, q, A, l, u = self._recompute_matrices(paths)\n",
    "# Setup the solver\n",
    "self.mdl.setup(P=P, q=q, A=A, l=l, u=u, **settings)\n",
    "# Solve the problem\n",
    "sol = self.mdl.solve()\n",
    "```\n",
    "This is how we use the actual OSQP solver\n",
    "\n",
    "* We build an `OSQP` object, we call `setup`, then we cal `solve`\n",
    "* ...But first we need to compute the terms $P, q, A, l, u$"
   ]
  },
  {
   "cell_type": "markdown",
   "metadata": {
    "slideshow": {
     "slide_type": "subslide"
    }
   },
   "source": [
    "## Solving the QP Problem\n",
    "\n",
    "**Matrix construction happens in the `_recompute_matrices` function**\n",
    "\n",
    "We already know that:\n",
    "\n",
    "$$\n",
    "P = V^T V + E^T E \\quad \\text{and} \\quad q = -V^T \\hat{v} -E^T \\hat{e}\n",
    "$$\n",
    "\n",
    "* Where $V$ and $E$ specify which nodes/arcs belong to each path\n",
    "* ...And $\\hat{v}$ and $\\hat{e}$ are the counts for all TUG nodes and arcs\n",
    "\n",
    "About the $A$ matrix and $l$ and $u$ vectors\n",
    "\n",
    "* They are meant to specify the problem constraints\n",
    "* Since in our problem we have $x \\geq 0$, then:\n",
    "\n",
    "$$\n",
    "A = I \\quad \\text{and} \\quad l = 0 \\quad \\text{and} \\quad u = +\\infty\n",
    "$$"
   ]
  },
  {
   "cell_type": "markdown",
   "metadata": {
    "slideshow": {
     "slide_type": "subslide"
    }
   },
   "source": [
    "## Solving the QP Problem\n",
    "\n",
    "**Let's actually solve the problem and inspect the output**"
   ]
  },
  {
   "cell_type": "code",
   "execution_count": 37,
   "metadata": {
    "scrolled": true
   },
   "outputs": [
    {
     "name": "stdout",
     "output_type": "stream",
     "text": [
      "-----------------------------------------------------------------\n",
      "           OSQP v0.6.2  -  Operator Splitting QP Solver\n",
      "              (c) Bartolomeo Stellato,  Goran Banjac\n",
      "        University of Oxford  -  Stanford University 2021\n",
      "-----------------------------------------------------------------\n",
      "problem:  variables n = 120, constraints m = 120\n",
      "          nnz(P) + nnz(A) = 3520\n",
      "settings: linear system solver = qdldl,\n",
      "          eps_abs = 1.0e-03, eps_rel = 1.0e-03,\n",
      "          eps_prim_inf = 1.0e-04, eps_dual_inf = 1.0e-04,\n",
      "          rho = 1.00e-01 (adaptive),\n",
      "          sigma = 1.00e-06, alpha = 1.60, max_iter = 4000\n",
      "          check_termination: on (interval 25),\n",
      "          scaling: on, scaled_termination: off\n",
      "          warm start: on, polish: on, time_limit: off\n",
      "\n",
      "iter   objective    pri res    dua res    rho        time\n",
      "   1  -3.2124e+02   5.28e-01   1.90e+01   1.00e-01   1.45e-03s\n",
      " 100  -3.8826e+02   2.51e-04   2.03e-02   1.00e-01   5.53e-03s\n",
      "plsh  -3.8826e+02   3.27e-16   3.42e-14   --------   6.90e-03s\n",
      "\n",
      "status:               solved\n",
      "solution polish:      successful\n",
      "number of iterations: 100\n",
      "optimal objective:    -388.2643\n",
      "run time:             6.90e-03s\n",
      "optimal rho estimate: 2.23e-02\n",
      "\n"
     ]
    }
   ],
   "source": [
    "rflows, rpaths = util.solve_path_selection_full(tug, node_counts, arc_counts, verbose=1)"
   ]
  },
  {
   "cell_type": "markdown",
   "metadata": {
    "slideshow": {
     "slide_type": "subslide"
    }
   },
   "source": [
    "## Inspecting the Solution\n",
    "\n",
    "**The raw solver log does not relate much to our specific problem**\n",
    "\n",
    "But we can obtain clearer plots using some ad-hoc built functions:"
   ]
  },
  {
   "cell_type": "code",
   "execution_count": 38,
   "metadata": {},
   "outputs": [
    {
     "name": "stdout",
     "output_type": "stream",
     "text": [
      "FLOW: PATH\n",
      "8.17: 2,3 > 3,3\n",
      "5.47: 0,2 > 1,2 > 2,2 > 3,2\n",
      "3.74: 3,3\n",
      "2.81: 0,1 > 1,1 > 2,0 > 3,0\n",
      "2.09: 0,1 > 1,1 > 2,0 > 3,2\n",
      "2.09: 1,0 > 2,0 > 3,0\n",
      "1.24: 1,0 > 2,0 > 3,2\n",
      "\n",
      "RSSE: 0.00\n"
     ]
    }
   ],
   "source": [
    "print('FLOW: PATH')\n",
    "util.print_solution(tug, rflows, rpaths, sort='descending')\n",
    "sse = util.get_reconstruction_error(tug, rflows, rpaths, node_counts, arc_counts)\n",
    "print(f'\\nRSSE: {np.sqrt(sse):.2f}')"
   ]
  },
  {
   "cell_type": "markdown",
   "metadata": {},
   "source": [
    "* We know see which paths have been used to \"reconstruct\" the counts\n",
    "* The corresponding estimated flows\n",
    "* And the Root Sum of Squared Errors"
   ]
  }
 ],
 "metadata": {
  "celltoolbar": "Slideshow",
  "kernelspec": {
   "display_name": "Python 3",
   "language": "python",
   "name": "python3"
  },
  "language_info": {
   "codemirror_mode": {
    "name": "ipython",
    "version": 3
   },
   "file_extension": ".py",
   "mimetype": "text/x-python",
   "name": "python",
   "nbconvert_exporter": "python",
   "pygments_lexer": "ipython3",
   "version": "3.6.9"
  },
  "rise": {
   "center": false,
   "transition": "fade"
  }
 },
 "nbformat": 4,
 "nbformat_minor": 4
}
