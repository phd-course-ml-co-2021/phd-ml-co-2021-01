{
 "cells": [
  {
   "cell_type": "code",
   "execution_count": 1,
   "metadata": {
    "slideshow": {
     "slide_type": "skip"
    }
   },
   "outputs": [
    {
     "name": "stderr",
     "output_type": "stream",
     "text": [
      "/usr/local/lib/python3.6/dist-packages/scipy/sparse/_index.py:82: SparseEfficiencyWarning: Changing the sparsity structure of a csc_matrix is expensive. lil_matrix is more efficient.\n",
      "  self._set_intXint(row, col, x.flat[0])\n"
     ]
    }
   ],
   "source": [
    "# ============================================================\n",
    "# Notebook setup: run this before everything\n",
    "# ============================================================\n",
    "\n",
    "%load_ext autoreload\n",
    "%autoreload 2\n",
    "\n",
    "# Control figure size\n",
    "interactive_figures = False\n",
    "if interactive_figures:\n",
    "    # Normal behavior\n",
    "    %matplotlib widget\n",
    "    figsize=(9, 3)\n",
    "else:\n",
    "    # PDF export behavior\n",
    "    figsize=(14, 5)\n",
    "\n",
    "#from matplotlib import pyplot as plt\n",
    "from util import util\n",
    "import igraph as ig\n",
    "import numpy as np\n",
    "\n",
    "# ============================================================\n",
    "# Repeat the relevant previous steps\n",
    "# ============================================================\n",
    "\n",
    "# Generate a graph\n",
    "g = util.build_website_graph(nnodes=4, rate=3, extra_arc_fraction=0.25, seed=42)\n",
    "# Route flows (ground truth)\n",
    "eoh = 4\n",
    "flows, paths = util.build_random_paths(g, min_paths=3, max_paths=5,\n",
    "                                          min_units=1, max_units=10, eoh=eoh, seed=42)\n",
    "# Unfold\n",
    "tug = util.build_time_unfolded_graph(g, eoh=eoh)\n",
    "# Compute counts\n",
    "node_counts, arc_counts = util.get_counts(tug, flows, paths)\n",
    "# Solve the path formulation\n",
    "rflows, rpaths = util.solve_path_selection_full(tug, node_counts, arc_counts, verbose=0)"
   ]
  },
  {
   "cell_type": "markdown",
   "metadata": {
    "slideshow": {
     "slide_type": "slide"
    }
   },
   "source": [
    "# Solving the Consolidation Problem\n",
    "\n",
    "Now we mean business"
   ]
  },
  {
   "cell_type": "markdown",
   "metadata": {
    "slideshow": {
     "slide_type": "subslide"
    }
   },
   "source": [
    "## Knowing Your Enemy\n",
    "\n",
    "**Now that we know better, let's look again at the consolidation problem:**\n",
    "\n",
    "$$\\begin{align}\n",
    "\\arg \\min_{x} \\ & \\|z\\|_1 \\\\\n",
    "\\text{subject to: } & Vx = v^*, Ex = e^* \\\\\n",
    "& x \\leq M z \\\\\n",
    "& x \\geq 0, z \\in \\{0, 1\\}^n\n",
    "\\end{align}$$\n",
    "\n",
    "> **Where do you think most of the complexity will stem from?**"
   ]
  },
  {
   "cell_type": "markdown",
   "metadata": {
    "slideshow": {
     "slide_type": "fragment"
    }
   },
   "source": [
    "* We need to branch only on the _integer variables_\n",
    "* So, their number will likely have an impact on complexity\n",
    "\n",
    "Since we focus on the current Path formulation solution, _they won't be many_"
   ]
  },
  {
   "cell_type": "markdown",
   "metadata": {
    "slideshow": {
     "slide_type": "subslide"
    }
   },
   "source": [
    "## Knowing Your Enemy\n",
    "\n",
    "**Now that we know better, let's look again at the consolidation problem:**\n",
    "\n",
    "$$\\begin{align}\n",
    "\\arg \\min_{x} \\ & \\|z\\|_1 \\\\\n",
    "\\text{subject to: } & Vx = v^*, Ex = e^* \\\\\n",
    "& x \\leq M z \\\\\n",
    "& x \\geq 0, z \\in \\{0, 1\\}^n\n",
    "\\end{align}$$\n",
    "\n",
    "> **What could you say of the impact of using big-Ms?**"
   ]
  },
  {
   "cell_type": "markdown",
   "metadata": {
    "slideshow": {
     "slide_type": "fragment"
    }
   },
   "source": [
    "* Logically, they work just fine\n",
    "* In practice, they can lead to _poor bounds_ in the LP relaxation\n",
    "\n",
    "Ideally, they should be _avoided_. Failing that, use an $M$ _as small as possible_"
   ]
  },
  {
   "cell_type": "markdown",
   "metadata": {
    "slideshow": {
     "slide_type": "subslide"
    }
   },
   "source": [
    "## The Solution Code\n",
    "\n",
    "**The code for solving the problem is in the `consolidate_paths` function**\n",
    "\n",
    "The function parameter look similar to those of `solve_path_selection_full`\n",
    "\n",
    "```python\n",
    "def consolidate_paths(\n",
    "        tug : ig.Graph,\n",
    "        paths : list,\n",
    "        node_counts : dict,\n",
    "        arc_counts : dict,\n",
    "        tlim : int = None):\n",
    "```\n",
    "\n",
    "However, they are meant to be _used differently_:\n",
    "\n",
    "* `paths` should contain those selected by the Path formulation\n",
    "* `node_counts` should contain the counts from the Path formulation solution\n",
    "* ...And the same goes for `arc_counts`\n",
    "\n",
    "`tlim` is a time limit: always use one when dealing with NP-hard problems"
   ]
  },
  {
   "cell_type": "markdown",
   "metadata": {
    "slideshow": {
     "slide_type": "subslide"
    }
   },
   "source": [
    "## The Solution Code\n",
    "\n",
    "**Let's see some relevant code snippets:**\n",
    "\n",
    "We use the [CBC solver](https://github.com/coin-or/Cbc), via the [Google Or-Tools](https://developers.google.com/optimization) Wrapper\n",
    "\n",
    "```python\n",
    "slv = pywraplp.Solver.CreateSolver('CBC')\n",
    "```\n",
    "\n",
    "Variables are built using the solver object and stored in lists:\n",
    "\n",
    "```python\n",
    "x = [slv.NumVar(0, inf, f'x_{j}') for j in range(npaths)]\n",
    "z = [slv.IntVar(0, 1, f'z_{j}') for j in range(npaths)]\n",
    "```\n",
    "For the big-M constraints ($x \\leq Mz$) we use the largest node count\n",
    "\n",
    "```python\n",
    "M = max(v for v in node_counts.values())\n",
    "for j in range(npaths):\n",
    "    slv.Add(x[j] <= M * z[j])\n",
    "```\n",
    "\n",
    "* There no need for a path to use a flow larger than that"
   ]
  },
  {
   "cell_type": "markdown",
   "metadata": {
    "slideshow": {
     "slide_type": "subslide"
    }
   },
   "source": [
    "## The Solution Code\n",
    "\n",
    "**Let's see some relevant code snippets:**\n",
    "\n",
    "Here's the code for the \"count matching\" constraints, i.e. $Vx = \\hat{v}$ and $Ex = \\hat{e}$:\n",
    "\n",
    "```python\n",
    "for n, p in paths_by_node.items():\n",
    "    slv.Add(sum(x[j] for j in p) == node_counts[n])\n",
    "for a, p in paths_by_arc.items():\n",
    "    slv.Add(sum(x[j] for j in p) == arc_counts[a])\n",
    "```\n",
    "\n",
    "* We rely on a previous step where we grouped path by used node/arc\n",
    "\n",
    "Here's how we define the objective and optimization direction:\n",
    "\n",
    "```python\n",
    "slv.Minimize(sum(z[j] for j in range(npaths)))\n",
    "```\n",
    "\n",
    "...And here how to set a time limit:\n",
    "\n",
    "```python\n",
    "if tlim is not None: slv.SetTimeLimit(tlim)\n",
    "```"
   ]
  },
  {
   "cell_type": "markdown",
   "metadata": {
    "slideshow": {
     "slide_type": "subslide"
    }
   },
   "source": [
    "## The Solution Code\n",
    "\n",
    "**Let's see some relevant code snippets:**\n",
    "\n",
    "We trigger the solution process with the `solve` method:\n",
    "\n",
    "```python\n",
    "status = slv.Solve()\n",
    "```\n",
    "\n",
    "The method returns an integer _status code_, that should always be checked:\n",
    "\n",
    "```python\n",
    "if status in (slv.OPTIMAL, slv.FEASIBLE):\n",
    "    # Extract the paths in the solution\n",
    "    ...\n",
    "    # Return the solution\n",
    "    if status == slv.OPTIMAL: return sol_flows, sol_paths, True\n",
    "    else: return sol_flows, sol_paths, False\n",
    "else:\n",
    "    return None, None, False\n",
    "```\n",
    "\n",
    "* If we find a solution we return it\n",
    "* If we prove optimality within the time limit, we tell it with a flag"
   ]
  },
  {
   "cell_type": "markdown",
   "metadata": {
    "slideshow": {
     "slide_type": "subslide"
    }
   },
   "source": [
    "## Solving the Problem\n",
    "\n",
    "**We can finally solve the consolidation problem for real:**"
   ]
  },
  {
   "cell_type": "code",
   "execution_count": 2,
   "metadata": {},
   "outputs": [
    {
     "name": "stdout",
     "output_type": "stream",
     "text": [
      "FLOW: PATH\n",
      "8.17: 2,3 > 3,3\n",
      "5.47: 0,2 > 1,2 > 2,2 > 3,2\n",
      "4.89: 0,1 > 1,1 > 2,0 > 3,0\n",
      "3.74: 3,3\n",
      "3.32: 1,0 > 2,0 > 3,2\n",
      "Optimal: True\n"
     ]
    }
   ],
   "source": [
    "node_counts_r, arc_counts_r = util.get_counts(tug, rflows, rpaths)\n",
    "cflows, cpaths, cflag = util.consolidate_paths(tug, rpaths, node_counts, arc_counts)\n",
    "print('FLOW: PATH')\n",
    "util.print_solution(tug, cflows, cpaths, sort='descending')\n",
    "print(f'Optimal: {cflag}')"
   ]
  },
  {
   "cell_type": "markdown",
   "metadata": {},
   "source": [
    "In our case, the consolidated paths match the ground truth perfectly!"
   ]
  },
  {
   "cell_type": "code",
   "execution_count": 3,
   "metadata": {},
   "outputs": [
    {
     "name": "stdout",
     "output_type": "stream",
     "text": [
      "FLOW: PATH\n",
      "8.17: 2,3 > 3,3\n",
      "5.47: 0,2 > 1,2 > 2,2 > 3,2\n",
      "4.89: 0,1 > 1,1 > 2,0 > 3,0\n",
      "3.74: 3,3\n",
      "3.32: 1,0 > 2,0 > 3,2\n"
     ]
    }
   ],
   "source": [
    "print('FLOW: PATH')\n",
    "util.print_ground_truth(flows, paths, sort='descending')"
   ]
  }
 ],
 "metadata": {
  "celltoolbar": "Slideshow",
  "kernelspec": {
   "display_name": "Python 3",
   "language": "python",
   "name": "python3"
  },
  "language_info": {
   "codemirror_mode": {
    "name": "ipython",
    "version": 3
   },
   "file_extension": ".py",
   "mimetype": "text/x-python",
   "name": "python",
   "nbconvert_exporter": "python",
   "pygments_lexer": "ipython3",
   "version": "3.6.9"
  },
  "rise": {
   "center": false,
   "transition": "fade"
  }
 },
 "nbformat": 4,
 "nbformat_minor": 4
}
