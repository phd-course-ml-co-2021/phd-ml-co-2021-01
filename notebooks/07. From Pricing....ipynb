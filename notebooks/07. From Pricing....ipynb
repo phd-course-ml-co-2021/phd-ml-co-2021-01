{
 "cells": [
  {
   "cell_type": "code",
   "execution_count": 1,
   "metadata": {
    "slideshow": {
     "slide_type": "skip"
    }
   },
   "outputs": [],
   "source": [
    "# ============================================================\n",
    "# Notebook setup: run this before everything\n",
    "# ============================================================\n",
    "\n",
    "%load_ext autoreload\n",
    "%autoreload 2\n",
    "\n",
    "# Control figure size\n",
    "interactive_figures = False\n",
    "if interactive_figures:\n",
    "    # Normal behavior\n",
    "    %matplotlib widget\n",
    "    figsize=(9, 3)\n",
    "else:\n",
    "    # PDF export behavior\n",
    "    figsize=(14, 5)\n",
    "\n",
    "#from matplotlib import pyplot as plt\n",
    "from util import util\n",
    "import igraph as ig\n",
    "import numpy as np\n",
    "\n",
    "# ============================================================\n",
    "# Build a few reference graphs\n",
    "# ============================================================\n",
    "\n",
    "# The small graph used to explain concepts\n",
    "eoh = 4\n",
    "g = util.build_website_graph(nnodes=4, rate=3, extra_arc_fraction=0.25, seed=42)\n",
    "flows, paths = util.build_random_paths(g, min_paths=3, max_paths=5,\n",
    "                                          min_units=1, max_units=10, eoh=eoh, seed=42)\n",
    "tug = util.build_time_unfolded_graph(g, eoh=eoh)\n",
    "node_counts, arc_counts = util.get_counts(tug, flows, paths)"
   ]
  },
  {
   "cell_type": "markdown",
   "metadata": {
    "slideshow": {
     "slide_type": "slide"
    }
   },
   "source": [
    "# From Pricing...\n",
    "\n",
    "Because there's an elephant in the room, and it's HUGE"
   ]
  },
  {
   "cell_type": "markdown",
   "metadata": {
    "slideshow": {
     "slide_type": "subslide"
    }
   },
   "source": [
    "## Scalability, or Lack Thereof\n",
    "\n",
    "**Our current approach as one, massive, limitations**\n",
    "\n",
    "The number paths in graph scales _exponentially_ on its size\n",
    "\n",
    "* Meaning that path enumeration becomes quickly very expensive\n",
    "* ...And the path formulation size grows at the same rate\n",
    "\n",
    "**Let's check the solution time for our small example graph:**"
   ]
  },
  {
   "cell_type": "code",
   "execution_count": 3,
   "metadata": {},
   "outputs": [
    {
     "name": "stdout",
     "output_type": "stream",
     "text": [
      "CPU times: user 144 ms, sys: 1.98 ms, total: 146 ms\n",
      "Wall time: 145 ms\n"
     ]
    }
   ],
   "source": [
    "%time rflows, rpaths = util.solve_path_selection_full(tug, node_counts, arc_counts, verbose=0)"
   ]
  },
  {
   "cell_type": "markdown",
   "metadata": {},
   "source": [
    "...And the for a slightly larger graph (8 nodes, 5 time steps):"
   ]
  },
  {
   "cell_type": "code",
   "execution_count": 3,
   "metadata": {},
   "outputs": [
    {
     "name": "stdout",
     "output_type": "stream",
     "text": [
      "CPU times: user 10.9 s, sys: 162 ms, total: 11 s\n",
      "Wall time: 11 s\n"
     ]
    }
   ],
   "source": [
    "g8_5, t8_5, f8_5, p8_5, nc8_5, ac8_5 = util.get_default_benchmark_graph(nnodes=8, eoh=5, seed=42)\n",
    "%time f8_5, p8_5 = util.solve_path_selection_full(t8_5, nc8_5, ac8_5, verbose=0)"
   ]
  },
  {
   "cell_type": "markdown",
   "metadata": {
    "slideshow": {
     "slide_type": "subslide"
    }
   },
   "source": [
    " ## Adding Variables on Demand\n",
    " \n",
    "**What if we had a way to _add variables on demand_?**\n",
    " \n",
    "Then could think of:\n",
    "\n",
    "<center><img src=\"assets/cg_scheme.png\" width=700px/></center>\n",
    " \n",
    "* Solving the Path Formulation with a _subset of paths_\n",
    "* ...Then searching for new paths to be added\n",
    "  - If we find some, we add them to the pool and we repeat\n",
    "  - If we find none, we are done\n",
    "\n",
    "**An approach such as this may strongly _mitigate our scalability issues_**"
   ]
  },
  {
   "cell_type": "markdown",
   "metadata": {
    "slideshow": {
     "slide_type": "subslide"
    }
   },
   "source": [
    "## Adding Variables on Demand\n",
    "\n",
    "**What do we need to pull this off?**\n",
    "\n",
    "<center><img src=\"assets/cg_scheme.png\" width=550px/></center>\n",
    "\n",
    "1. The ability to use a limited pool in the path formulation\n",
    "2. A way to identify new paths to be added\n",
    "\n",
    "Point 1 is trivial, but what about point 2?"
   ]
  },
  {
   "cell_type": "markdown",
   "metadata": {
    "slideshow": {
     "slide_type": "fragment"
    }
   },
   "source": [
    "**We could split the enumeration in multiple \"chunks\"**\n",
    "\n",
    "* That would allow to obtain the first solutions more quickly\n",
    "* But would still need to complete the enumeration to prove optimality\n",
    "\n",
    "**What we need is a way to identify _useful_ paths that are not yet in the pool**"
   ]
  },
  {
   "cell_type": "markdown",
   "metadata": {
    "slideshow": {
     "slide_type": "subslide"
    }
   },
   "source": [
    "## Identifying Useful Variables\n",
    "\n",
    "**Let's recall the structure of the Path Formulation**\n",
    "\n",
    "$$\n",
    "\\arg \\min_{x} \\left\\{f(x) \\mid x \\geq 0 \\right\\}  \\quad \\text{with: } f(x) = \\frac{1}{2} x^T P x + q^T x\n",
    "$$\n",
    "\n",
    "* We can view missing variables are having _value 0_ in the current solution\n",
    "* So, we are looking for variables that can be _raised to reduce error_\n",
    "* Since the problem is convex, we could start by _looking at the gradient_\n",
    "\n",
    "**Hence, we could search for variables with a _negative gradient term_**\n",
    "\n",
    "$$\n",
    "\\frac{\\partial}{\\partial x_j} f(x) < 0\n",
    "$$\n",
    "\n",
    "* This a _necessary_ condition in general\n",
    "* Later in the course we will found out why"
   ]
  },
  {
   "cell_type": "markdown",
   "metadata": {
    "slideshow": {
     "slide_type": "subslide"
    }
   },
   "source": [
    "## Pricing Problem\n",
    "\n",
    "**Let's revisit and generalize our schema**\n",
    "\n",
    "<center><img src=\"assets/cg_scheme2.png\" width=700px/></center>\n",
    "\n",
    "* The \"main\" problem may not involve paths\n",
    "  - ...So we will call it just a _master problem_\n",
    "* We look for additional variables such that $\\frac{\\partial}{\\partial x_j} f(x) < 0$\n",
    "  - It's a bit like we are assigning a \"price tag\" to them\n",
    "  - If the price is positive, we skip the variable (we know it's useless now)\n",
    "  - If the price is negative, the variable _may_ be useful\n",
    "  - For this reasons, we call the second component _pricing problem_"
   ]
  },
  {
   "cell_type": "markdown",
   "metadata": {
    "slideshow": {
     "slide_type": "subslide"
    }
   },
   "source": [
    "## The Path Selection Gradient\n",
    "\n",
    "**We need to compute gradient terms for variables _not yet in the pool_**\n",
    "\n",
    "This is easiest if we differentiate our original (equivalent) objective:\n",
    "$$\n",
    "f(x) = \\frac{1}{2} \\|Vx - \\hat{v}\\|_2^2 + \\frac{1}{2} \\|Ex - \\hat{e}\\|_2^2\n",
    "$$\n",
    "\n",
    "* ...Since node contribution mix-up in the $P$ matrix and $q$ vectors\n",
    "\n",
    "**The least square objective can be rewritten as:**\n",
    "$$\n",
    "f(x) =  \\frac{1}{2} \\sum_{i = 1}^{n_v} \\left(\\sum_{j=1}^n V_{ij} x_{j} - \\hat{v}_i\\right)^2 +\n",
    "\\frac{1}{2} \\sum_{k = 1}^{n_e} \\left(\\sum_{j=1}^n E_{kj} x_{j} - \\hat{e}_k\\right)^2\n",
    "$$\n",
    "\n",
    "* Where $n_v$ is the number of nodes and $n_e$ the number of arcs"
   ]
  },
  {
   "cell_type": "markdown",
   "metadata": {
    "slideshow": {
     "slide_type": "subslide"
    }
   },
   "source": [
    "## The Path Selection Gradient\n",
    "\n",
    "**We can differentiate the expression to obtain**\n",
    "$$\n",
    "\\frac{\\partial}{\\partial x_j} f(x) = \\sum_{i=1}^{n_v} \\left(\\sum_{j=1}^n V_{ij} x_{j} - \\hat{v}_i\\right) V_{ij} +\n",
    "\\sum_{k=1}^{n_e} \\left(\\sum_{j=1}^n E_{kj} x_{j} - \\hat{e}_k\\right) E_{kj}\n",
    "$$\n",
    "\n",
    "Some expressions in the formula are simply the node/edge _residuals_:\n",
    "$$\n",
    "r^v_i = \\sum_{j=1}^n V_{ij} x_{j} - \\hat{v}_i \\quad \\text{and} \\quad r^e_k = \\sum_{j=1}^n E_{kj} x_{j} - \\hat{e}_k\n",
    "$$\n",
    "\n",
    "Hence we can rewrite the gradient terms as:\n",
    "$$\n",
    "\\frac{\\partial}{\\partial x_j} f(x) = \\sum_{i=1}^{n_v} r^v_{i} V_{ij} +\n",
    "\\sum_{k=1}^{n_e} r^e_{k} E_{kj}\n",
    "$$\n"
   ]
  },
  {
   "cell_type": "markdown",
   "metadata": {
    "slideshow": {
     "slide_type": "subslide"
    }
   },
   "source": [
    "## The Path Selection Gradient\n",
    "\n",
    "**Now, let's parse the meaning of our gradient term:**\n",
    "\n",
    "$$\n",
    "\\frac{\\partial}{\\partial x_j} f(x) = \\sum_{i=1}^{n_v} r^v_{i} V_{ij} +\n",
    "\\sum_{k=1}^{n_e} r^e_{k} E_{kj}\n",
    "$$\n",
    "\n",
    "* For every (TUG) node $i$ included in the path, we add $r^v_i$\n",
    "* For every (TUG) arc $k$ included in the path, we add $r^e_k$\n",
    "\n",
    "**This is a simple computation that we can perform _on any path_**\n",
    "\n",
    "...Including those that are not yet in the path formulation pool\n",
    "\n",
    "* Just don't forget that this condition identifies (potentially) useful paths\n",
    "* ...But only w.r.t. the current path formulation solution!"
   ]
  },
  {
   "cell_type": "markdown",
   "metadata": {
    "slideshow": {
     "slide_type": "subslide"
    }
   },
   "source": [
    "## A Look at the Residuals\n",
    "\n",
    "**Let's try it out**\n",
    "\n",
    "First, we enumerate all TUG paths"
   ]
  },
  {
   "cell_type": "code",
   "execution_count": 4,
   "metadata": {},
   "outputs": [],
   "source": [
    "tugs, tugs_source = util._add_source_to_tug(tug)\n",
    "tug_paths = util.enumerate_paths(tugs, tugs_source, exclude_source=True)"
   ]
  },
  {
   "cell_type": "markdown",
   "metadata": {},
   "source": [
    "Then, we run the path formulation with a limited pool of paths"
   ]
  },
  {
   "cell_type": "code",
   "execution_count": 5,
   "metadata": {},
   "outputs": [
    {
     "name": "stdout",
     "output_type": "stream",
     "text": [
      "1.96: 0,0 > 1,0 > 2,0 > 3,2\n",
      "1.86: 0,0 > 1,0 > 2,0 > 3,3\n",
      "0.79: 0,0 > 1,0 > 2,0 > 3,0\n",
      "RSSE: 25.58\n"
     ]
    }
   ],
   "source": [
    "path_pool = tug_paths[:10]\n",
    "rflows0, rpaths0 = util.solve_path_selection_full(tug, node_counts, arc_counts,\n",
    "                                                  initial_paths=path_pool, verbose=0)\n",
    "sse = util.get_reconstruction_error(tug, rflows0, rpaths0, node_counts, arc_counts)\n",
    "util.print_solution(tug, rflows0, rpaths0, sort='descending')\n",
    "print(f'RSSE: {np.sqrt(sse):.2f}')"
   ]
  },
  {
   "cell_type": "markdown",
   "metadata": {},
   "source": [
    "* Since we are restricted to a subset of paths, the RSSE is no longer 0"
   ]
  },
  {
   "cell_type": "markdown",
   "metadata": {
    "slideshow": {
     "slide_type": "subslide"
    }
   },
   "source": [
    "## A Look at the Residuals\n",
    "\n",
    "**Then we can extract the residuals, i.e. $V x - \\hat{v}$ and $E x - \\hat{e}$**"
   ]
  },
  {
   "cell_type": "code",
   "execution_count": 6,
   "metadata": {},
   "outputs": [
    {
     "name": "stdout",
     "output_type": "stream",
     "text": [
      "NODE RESIDUALS\n",
      "(0, 0):4.61\t(0, 1):-4.89\t(0, 2):-5.47\t(0, 3):0.00\t(1, 0):1.29\t(1, 1):-4.89\t(1, 2):-5.47\t(1, 3):0.00\t(2, 0):-3.60\t(2, 1):0.00\t(2, 2):-5.47\t(2, 3):-8.17\t(3, 0):-4.10\t(3, 1):0.00\t(3, 2):-6.83\t(3, 3):-10.05\n",
      "ARC RESIDUALS\n",
      "(1, 0, 0):4.61\t(1, 0, 1):0.00\t(1, 1, 1):-4.89\t(1, 0, 2):0.00\t(1, 2, 2):-5.47\t(1, 0, 3):0.00\t(1, 3, 3):0.00\t(1, 1, 0):0.00\t(1, 1, 2):0.00\t(2, 0, 0):1.29\t(2, 0, 1):0.00\t(2, 1, 1):0.00\t(2, 0, 2):0.00\t(2, 2, 2):-5.47\t(2, 0, 3):0.00\t(2, 3, 3):0.00\t(2, 1, 0):-4.89\t(2, 1, 2):0.00\t(3, 0, 0):-4.10\t(3, 0, 1):0.00\t(3, 1, 1):0.00\t(3, 0, 2):-1.36\t(3, 2, 2):-5.47\t(3, 0, 3):1.86\t(3, 3, 3):-8.17\t(3, 1, 0):0.00\t(3, 1, 2):0.00\n"
     ]
    }
   ],
   "source": [
    "nres0, ares0 = util._get_residuals(tug, rflows0, rpaths0, node_counts, arc_counts)\n",
    "print('NODE RESIDUALS')\n",
    "print('\\t'.join(f'{k}:{v:.2f}' for k, v in nres0.items()))\n",
    "print('ARC RESIDUALS')\n",
    "print('\\t'.join(f'{k}:{v:.2f}' for k, v in ares0.items()))"
   ]
  },
  {
   "cell_type": "markdown",
   "metadata": {},
   "source": [
    "* This is enough information to compute $\\frac{\\partial}{\\partial x_j}f(x)$ for all paths\n",
    "* ...Except that doing that would still not solve all our issues :-("
   ]
  }
 ],
 "metadata": {
  "celltoolbar": "Slideshow",
  "kernelspec": {
   "display_name": "Python 3",
   "language": "python",
   "name": "python3"
  },
  "language_info": {
   "codemirror_mode": {
    "name": "ipython",
    "version": 3
   },
   "file_extension": ".py",
   "mimetype": "text/x-python",
   "name": "python",
   "nbconvert_exporter": "python",
   "pygments_lexer": "ipython3",
   "version": "3.6.9"
  },
  "rise": {
   "center": false,
   "transition": "fade"
  }
 },
 "nbformat": 4,
 "nbformat_minor": 4
}
