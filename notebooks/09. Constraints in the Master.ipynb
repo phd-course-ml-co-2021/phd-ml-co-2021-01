{
 "cells": [
  {
   "cell_type": "code",
   "execution_count": 1,
   "metadata": {
    "slideshow": {
     "slide_type": "skip"
    }
   },
   "outputs": [],
   "source": [
    "# ============================================================\n",
    "# Notebook setup: run this before everything\n",
    "# ============================================================\n",
    "\n",
    "%load_ext autoreload\n",
    "%autoreload 2\n",
    "\n",
    "# Control figure size\n",
    "interactive_figures = False\n",
    "if interactive_figures:\n",
    "    # Normal behavior\n",
    "    %matplotlib widget\n",
    "    figsize=(9, 3)\n",
    "else:\n",
    "    # PDF export behavior\n",
    "    figsize=(14, 5)\n",
    "\n",
    "#from matplotlib import pyplot as plt\n",
    "from util import util\n",
    "import igraph as ig\n",
    "import numpy as np\n",
    "\n",
    "# ============================================================\n",
    "# Repeat relevant operations\n",
    "# ============================================================\n",
    "\n",
    "# Build the small graph used to explain concepts\n",
    "eoh = 4\n",
    "g = util.build_website_graph(nnodes=4, rate=3, extra_arc_fraction=0.25, seed=42)\n",
    "flows, paths = util.build_random_paths(g, min_paths=3, max_paths=5,\n",
    "                                          min_units=1, max_units=10, eoh=eoh, seed=42)\n",
    "tug = util.build_time_unfolded_graph(g, eoh=eoh)\n",
    "node_counts, arc_counts = util.get_counts(tug, flows, paths)"
   ]
  },
  {
   "cell_type": "markdown",
   "metadata": {
    "slideshow": {
     "slide_type": "slide"
    }
   },
   "source": [
    "# Constraints for Regularization\n",
    "\n",
    "Where there's room for one elephant, there's room for two"
   ]
  },
  {
   "cell_type": "markdown",
   "metadata": {
    "slideshow": {
     "slide_type": "subslide"
    }
   },
   "source": [
    "## Something Fishy is Going On\n",
    "\n",
    "**Notice how we are consistently getting 0 RSSE?**"
   ]
  },
  {
   "cell_type": "code",
   "execution_count": 2,
   "metadata": {},
   "outputs": [
    {
     "name": "stdout",
     "output_type": "stream",
     "text": [
      "FLOW: PATH\n",
      "8.17: 2,3 > 3,3\n",
      "5.47: 0,2 > 1,2 > 2,2 > 3,2\n",
      "3.74: 3,3\n",
      "2.81: 0,1 > 1,1 > 2,0 > 3,0\n",
      "2.09: 0,1 > 1,1 > 2,0 > 3,2\n",
      "2.09: 1,0 > 2,0 > 3,0\n",
      "1.24: 1,0 > 2,0 > 3,2\n",
      "\n",
      "RSSE: 0.00\n"
     ]
    },
    {
     "name": "stderr",
     "output_type": "stream",
     "text": [
      "/usr/local/lib/python3.6/dist-packages/scipy/sparse/_index.py:82: SparseEfficiencyWarning: Changing the sparsity structure of a csc_matrix is expensive. lil_matrix is more efficient.\n",
      "  self._set_intXint(row, col, x.flat[0])\n"
     ]
    }
   ],
   "source": [
    "rflows, rpaths = util.solve_path_selection_full(tug, node_counts, arc_counts, verbose=0)\n",
    "print('FLOW: PATH')\n",
    "util.print_solution(tug, rflows, rpaths, sort='descending')\n",
    "sse = util.get_reconstruction_error(tug, rflows, rpaths, node_counts, arc_counts)\n",
    "print(f'\\nRSSE: {np.sqrt(sse):.2f}')"
   ]
  },
  {
   "cell_type": "markdown",
   "metadata": {
    "slideshow": {
     "slide_type": "fragment"
    }
   },
   "source": [
    "> **How can that be the case?**"
   ]
  },
  {
   "cell_type": "markdown",
   "metadata": {
    "slideshow": {
     "slide_type": "subslide"
    }
   },
   "source": [
    "## The Must be Some Noise in Your Dataset\n",
    "\n",
    "**So far, we have implicitly assumed _noiseless data_**\n",
    "\n",
    "We will fix that by adding some _proportional noise_\n",
    "\n",
    "* Which we picked since it is reasonably realistic\n",
    "* ...Even if it causes issues for our MSE loss\n",
    "\n",
    "**This is done in the `add_proportional_noise` function:**\n",
    "\n",
    "```python\n",
    "# Add noise to the node counts\n",
    "for k, v in node_counts.items():\n",
    "    node_counts[k] = max(0, v * (1 + np.random.normal(0, sigma)))\n",
    "# Add noise to the arc counts\n",
    "for k, v in arc_counts.items():\n",
    "    arc_counts[k] = max(0, v * (1 + np.random.normal(0, sigma)))\n",
    "```\n",
    "\n",
    "* The `sigma` parameter controls the noise level\n"
   ]
  },
  {
   "cell_type": "markdown",
   "metadata": {
    "slideshow": {
     "slide_type": "subslide"
    }
   },
   "source": [
    "## The Must be Some Noise in Your Dataset\n",
    "\n",
    "**Let's inject _a lot_ of noise and inspect the results**"
   ]
  },
  {
   "cell_type": "code",
   "execution_count": 3,
   "metadata": {},
   "outputs": [
    {
     "data": {
      "image/svg+xml": [
       "<?xml version=\"1.0\" encoding=\"UTF-8\"?>\n",
       "<svg xmlns=\"http://www.w3.org/2000/svg\" xmlns:xlink=\"http://www.w3.org/1999/xlink\" width=\"700pt\" height=\"300pt\" viewBox=\"0 0 700 300\" version=\"1.1\">\n",
       "<defs>\n",
       "<g>\n",
       "<symbol overflow=\"visible\" id=\"glyph0-0\">\n",
       "<path style=\"stroke:none;\" d=\"M 0.5 1.765625 L 0.5 -7.046875 L 5.5 -7.046875 L 5.5 1.765625 Z M 1.0625 1.21875 L 4.9375 1.21875 L 4.9375 -6.484375 L 1.0625 -6.484375 Z M 1.0625 1.21875 \"/>\n",
       "</symbol>\n",
       "<symbol overflow=\"visible\" id=\"glyph0-1\">\n",
       "<path style=\"stroke:none;\" d=\"M 3.171875 -6.640625 C 2.671875 -6.640625 2.289062 -6.390625 2.03125 -5.890625 C 1.78125 -5.390625 1.65625 -4.640625 1.65625 -3.640625 C 1.65625 -2.640625 1.78125 -1.890625 2.03125 -1.390625 C 2.289062 -0.890625 2.671875 -0.640625 3.171875 -0.640625 C 3.691406 -0.640625 4.078125 -0.890625 4.328125 -1.390625 C 4.585938 -1.890625 4.71875 -2.640625 4.71875 -3.640625 C 4.71875 -4.640625 4.585938 -5.390625 4.328125 -5.890625 C 4.078125 -6.390625 3.691406 -6.640625 3.171875 -6.640625 Z M 3.171875 -7.421875 C 3.992188 -7.421875 4.617188 -7.097656 5.046875 -6.453125 C 5.484375 -5.804688 5.703125 -4.867188 5.703125 -3.640625 C 5.703125 -2.410156 5.484375 -1.472656 5.046875 -0.828125 C 4.617188 -0.179688 3.992188 0.140625 3.171875 0.140625 C 2.359375 0.140625 1.734375 -0.179688 1.296875 -0.828125 C 0.867188 -1.472656 0.65625 -2.410156 0.65625 -3.640625 C 0.65625 -4.867188 0.867188 -5.804688 1.296875 -6.453125 C 1.734375 -7.097656 2.359375 -7.421875 3.171875 -7.421875 Z M 3.171875 -7.421875 \"/>\n",
       "</symbol>\n",
       "<symbol overflow=\"visible\" id=\"glyph0-2\">\n",
       "<path style=\"stroke:none;\" d=\"M 1.171875 -1.234375 L 2.203125 -1.234375 L 2.203125 -0.40625 L 1.40625 1.15625 L 0.765625 1.15625 L 1.171875 -0.40625 Z M 1.171875 -1.234375 \"/>\n",
       "</symbol>\n",
       "<symbol overflow=\"visible\" id=\"glyph0-3\">\n",
       "<path style=\"stroke:none;\" d=\"M 1.234375 -0.828125 L 2.859375 -0.828125 L 2.859375 -6.390625 L 1.09375 -6.046875 L 1.09375 -6.9375 L 2.84375 -7.296875 L 3.828125 -7.296875 L 3.828125 -0.828125 L 5.4375 -0.828125 L 5.4375 0 L 1.234375 0 Z M 1.234375 -0.828125 \"/>\n",
       "</symbol>\n",
       "<symbol overflow=\"visible\" id=\"glyph0-4\">\n",
       "<path style=\"stroke:none;\" d=\"M 1.921875 -0.828125 L 5.359375 -0.828125 L 5.359375 0 L 0.734375 0 L 0.734375 -0.828125 C 1.109375 -1.210938 1.617188 -1.734375 2.265625 -2.390625 C 2.910156 -3.046875 3.316406 -3.46875 3.484375 -3.65625 C 3.796875 -4.007812 4.015625 -4.304688 4.140625 -4.546875 C 4.265625 -4.796875 4.328125 -5.039062 4.328125 -5.28125 C 4.328125 -5.664062 4.191406 -5.976562 3.921875 -6.21875 C 3.648438 -6.46875 3.296875 -6.59375 2.859375 -6.59375 C 2.546875 -6.59375 2.21875 -6.535156 1.875 -6.421875 C 1.539062 -6.316406 1.175781 -6.15625 0.78125 -5.9375 L 0.78125 -6.9375 C 1.175781 -7.09375 1.546875 -7.210938 1.890625 -7.296875 C 2.234375 -7.378906 2.550781 -7.421875 2.84375 -7.421875 C 3.59375 -7.421875 4.191406 -7.234375 4.640625 -6.859375 C 5.097656 -6.484375 5.328125 -5.976562 5.328125 -5.34375 C 5.328125 -5.039062 5.269531 -4.753906 5.15625 -4.484375 C 5.039062 -4.222656 4.835938 -3.910156 4.546875 -3.546875 C 4.460938 -3.453125 4.203125 -3.175781 3.765625 -2.71875 C 3.328125 -2.269531 2.710938 -1.640625 1.921875 -0.828125 Z M 1.921875 -0.828125 \"/>\n",
       "</symbol>\n",
       "<symbol overflow=\"visible\" id=\"glyph0-5\">\n",
       "<path style=\"stroke:none;\" d=\"M 4.0625 -3.9375 C 4.53125 -3.832031 4.894531 -3.617188 5.15625 -3.296875 C 5.425781 -2.984375 5.5625 -2.59375 5.5625 -2.125 C 5.5625 -1.40625 5.3125 -0.847656 4.8125 -0.453125 C 4.320312 -0.0546875 3.617188 0.140625 2.703125 0.140625 C 2.398438 0.140625 2.085938 0.109375 1.765625 0.046875 C 1.441406 -0.015625 1.109375 -0.101562 0.765625 -0.21875 L 0.765625 -1.171875 C 1.035156 -1.015625 1.332031 -0.894531 1.65625 -0.8125 C 1.988281 -0.726562 2.332031 -0.6875 2.6875 -0.6875 C 3.300781 -0.6875 3.769531 -0.804688 4.09375 -1.046875 C 4.414062 -1.296875 4.578125 -1.65625 4.578125 -2.125 C 4.578125 -2.550781 4.425781 -2.882812 4.125 -3.125 C 3.820312 -3.363281 3.40625 -3.484375 2.875 -3.484375 L 2.015625 -3.484375 L 2.015625 -4.296875 L 2.90625 -4.296875 C 3.394531 -4.296875 3.765625 -4.394531 4.015625 -4.59375 C 4.273438 -4.789062 4.40625 -5.070312 4.40625 -5.4375 C 4.40625 -5.800781 4.269531 -6.082031 4 -6.28125 C 3.738281 -6.488281 3.363281 -6.59375 2.875 -6.59375 C 2.601562 -6.59375 2.3125 -6.5625 2 -6.5 C 1.6875 -6.445312 1.347656 -6.359375 0.984375 -6.234375 L 0.984375 -7.109375 C 1.359375 -7.210938 1.707031 -7.289062 2.03125 -7.34375 C 2.363281 -7.394531 2.671875 -7.421875 2.953125 -7.421875 C 3.703125 -7.421875 4.296875 -7.25 4.734375 -6.90625 C 5.171875 -6.570312 5.390625 -6.113281 5.390625 -5.53125 C 5.390625 -5.125 5.273438 -4.78125 5.046875 -4.5 C 4.816406 -4.226562 4.488281 -4.039062 4.0625 -3.9375 Z M 4.0625 -3.9375 \"/>\n",
       "</symbol>\n",
       "</g>\n",
       "</defs>\n",
       "<g id=\"surface2\">\n",
       "<rect x=\"0\" y=\"0\" width=\"700\" height=\"300\" style=\"fill:rgb(100%,100%,100%);fill-opacity:1;stroke:none;\"/>\n",
       "<path style=\"fill:none;stroke-width:1;stroke-linecap:butt;stroke-linejoin:miter;stroke:rgb(86.742764%,86.43766%,86.260246%);stroke-opacity:1;stroke-miterlimit:10;\" d=\"M 50 50 L 220.734375 50 \"/>\n",
       "<path style=\" stroke:none;fill-rule:nonzero;fill:rgb(86.742764%,86.43766%,86.260246%);fill-opacity:1;\" d=\"M 235 50 L 220.734375 54.636719 L 220.734375 45.363281 L 235 50 \"/>\n",
       "<path style=\"fill:none;stroke-width:1;stroke-linecap:butt;stroke-linejoin:miter;stroke:rgb(86.742764%,86.43766%,86.260246%);stroke-opacity:1;stroke-miterlimit:10;\" d=\"M 50 50 L 222.234375 107.410156 \"/>\n",
       "<path style=\" stroke:none;fill-rule:nonzero;fill:rgb(86.742764%,86.43766%,86.260246%);fill-opacity:1;\" d=\"M 235.769531 111.921875 L 220.769531 111.808594 L 223.703125 103.015625 L 235.769531 111.921875 \"/>\n",
       "<path style=\"fill:none;stroke-width:1;stroke-linecap:butt;stroke-linejoin:miter;stroke:rgb(86.10536%,36.291576%,29.062813%);stroke-opacity:1;stroke-miterlimit:10;\" d=\"M 50 116.667969 L 220.734375 116.667969 \"/>\n",
       "<path style=\" stroke:none;fill-rule:nonzero;fill:rgb(86.10536%,36.291576%,29.062813%);fill-opacity:1;\" d=\"M 235 116.667969 L 220.734375 121.300781 L 220.734375 112.03125 L 235 116.667969 \"/>\n",
       "<path style=\"fill:none;stroke-width:1;stroke-linecap:butt;stroke-linejoin:miter;stroke:rgb(86.742764%,86.43766%,86.260246%);stroke-opacity:1;stroke-miterlimit:10;\" d=\"M 50 50 L 225.648438 167.097656 \"/>\n",
       "<path style=\" stroke:none;fill-rule:nonzero;fill:rgb(86.742764%,86.43766%,86.260246%);fill-opacity:1;\" d=\"M 237.519531 175.011719 L 223.078125 170.957031 L 228.21875 163.242188 L 237.519531 175.011719 \"/>\n",
       "<path style=\"fill:none;stroke-width:1;stroke-linecap:butt;stroke-linejoin:miter;stroke:rgb(88.464344%,41.00171%,32.250655%);stroke-opacity:1;stroke-miterlimit:10;\" d=\"M 50 183.332031 L 220.734375 183.332031 \"/>\n",
       "<path style=\" stroke:none;fill-rule:nonzero;fill:rgb(88.464344%,41.00171%,32.250655%);fill-opacity:1;\" d=\"M 235 183.332031 L 220.734375 187.96875 L 220.734375 178.699219 L 235 183.332031 \"/>\n",
       "<path style=\"fill:none;stroke-width:1;stroke-linecap:butt;stroke-linejoin:miter;stroke:rgb(86.742764%,86.43766%,86.260246%);stroke-opacity:1;stroke-miterlimit:10;\" d=\"M 50 50 L 229.304688 229.304688 \"/>\n",
       "<path style=\" stroke:none;fill-rule:nonzero;fill:rgb(86.742764%,86.43766%,86.260246%);fill-opacity:1;\" d=\"M 239.394531 239.394531 L 226.027344 232.582031 L 232.582031 226.027344 L 239.394531 239.394531 \"/>\n",
       "<path style=\"fill:none;stroke-width:1;stroke-linecap:butt;stroke-linejoin:miter;stroke:rgb(86.742764%,86.43766%,86.260246%);stroke-opacity:1;stroke-miterlimit:10;\" d=\"M 50 250 L 220.734375 250 \"/>\n",
       "<path style=\" stroke:none;fill-rule:nonzero;fill:rgb(86.742764%,86.43766%,86.260246%);fill-opacity:1;\" d=\"M 235 250 L 220.734375 254.636719 L 220.734375 245.363281 L 235 250 \"/>\n",
       "<path style=\"fill:none;stroke-width:1;stroke-linecap:butt;stroke-linejoin:miter;stroke:rgb(86.742764%,86.43766%,86.260246%);stroke-opacity:1;stroke-miterlimit:10;\" d=\"M 50 116.667969 L 222.234375 59.253906 \"/>\n",
       "<path style=\" stroke:none;fill-rule:nonzero;fill:rgb(86.742764%,86.43766%,86.260246%);fill-opacity:1;\" d=\"M 235.769531 54.742188 L 223.703125 63.652344 L 220.769531 54.855469 L 235.769531 54.742188 \"/>\n",
       "<path style=\"fill:none;stroke-width:1;stroke-linecap:butt;stroke-linejoin:miter;stroke:rgb(86.742764%,86.43766%,86.260246%);stroke-opacity:1;stroke-miterlimit:10;\" d=\"M 50 116.667969 L 222.234375 174.078125 \"/>\n",
       "<path style=\" stroke:none;fill-rule:nonzero;fill:rgb(86.742764%,86.43766%,86.260246%);fill-opacity:1;\" d=\"M 235.769531 178.589844 L 220.769531 178.476562 L 223.703125 169.679688 L 235.769531 178.589844 \"/>\n",
       "<path style=\"fill:none;stroke-width:1;stroke-linecap:butt;stroke-linejoin:miter;stroke:rgb(95.665321%,59.803382%,47.730229%);stroke-opacity:1;stroke-miterlimit:10;\" d=\"M 250 50 L 420.734375 50 \"/>\n",
       "<path style=\" stroke:none;fill-rule:nonzero;fill:rgb(95.665321%,59.803382%,47.730229%);fill-opacity:1;\" d=\"M 435 50 L 420.734375 54.636719 L 420.734375 45.363281 L 435 50 \"/>\n",
       "<path style=\"fill:none;stroke-width:1;stroke-linecap:butt;stroke-linejoin:miter;stroke:rgb(86.742764%,86.43766%,86.260246%);stroke-opacity:1;stroke-miterlimit:10;\" d=\"M 250 50 L 422.234375 107.410156 \"/>\n",
       "<path style=\" stroke:none;fill-rule:nonzero;fill:rgb(86.742764%,86.43766%,86.260246%);fill-opacity:1;\" d=\"M 435.769531 111.921875 L 420.769531 111.808594 L 423.703125 103.015625 L 435.769531 111.921875 \"/>\n",
       "<path style=\"fill:none;stroke-width:1;stroke-linecap:butt;stroke-linejoin:miter;stroke:rgb(86.742764%,86.43766%,86.260246%);stroke-opacity:1;stroke-miterlimit:10;\" d=\"M 250 116.667969 L 420.734375 116.667969 \"/>\n",
       "<path style=\" stroke:none;fill-rule:nonzero;fill:rgb(86.742764%,86.43766%,86.260246%);fill-opacity:1;\" d=\"M 435 116.667969 L 420.734375 121.300781 L 420.734375 112.03125 L 435 116.667969 \"/>\n",
       "<path style=\"fill:none;stroke-width:1;stroke-linecap:butt;stroke-linejoin:miter;stroke:rgb(86.742764%,86.43766%,86.260246%);stroke-opacity:1;stroke-miterlimit:10;\" d=\"M 250 50 L 425.648438 167.097656 \"/>\n",
       "<path style=\" stroke:none;fill-rule:nonzero;fill:rgb(86.742764%,86.43766%,86.260246%);fill-opacity:1;\" d=\"M 437.519531 175.011719 L 423.078125 170.957031 L 428.21875 163.242188 L 437.519531 175.011719 \"/>\n",
       "<path style=\"fill:none;stroke-width:1;stroke-linecap:butt;stroke-linejoin:miter;stroke:rgb(96.270072%,62.821775%,50.76361%);stroke-opacity:1;stroke-miterlimit:10;\" d=\"M 250 183.332031 L 420.734375 183.332031 \"/>\n",
       "<path style=\" stroke:none;fill-rule:nonzero;fill:rgb(96.270072%,62.821775%,50.76361%);fill-opacity:1;\" d=\"M 435 183.332031 L 420.734375 187.96875 L 420.734375 178.699219 L 435 183.332031 \"/>\n",
       "<path style=\"fill:none;stroke-width:1;stroke-linecap:butt;stroke-linejoin:miter;stroke:rgb(86.742764%,86.43766%,86.260246%);stroke-opacity:1;stroke-miterlimit:10;\" d=\"M 250 50 L 429.304688 229.304688 \"/>\n",
       "<path style=\" stroke:none;fill-rule:nonzero;fill:rgb(86.742764%,86.43766%,86.260246%);fill-opacity:1;\" d=\"M 439.394531 239.394531 L 426.027344 232.582031 L 432.582031 226.027344 L 439.394531 239.394531 \"/>\n",
       "<path style=\"fill:none;stroke-width:1;stroke-linecap:butt;stroke-linejoin:miter;stroke:rgb(86.742764%,86.43766%,86.260246%);stroke-opacity:1;stroke-miterlimit:10;\" d=\"M 250 250 L 420.734375 250 \"/>\n",
       "<path style=\" stroke:none;fill-rule:nonzero;fill:rgb(86.742764%,86.43766%,86.260246%);fill-opacity:1;\" d=\"M 435 250 L 420.734375 254.636719 L 420.734375 245.363281 L 435 250 \"/>\n",
       "<path style=\"fill:none;stroke-width:1;stroke-linecap:butt;stroke-linejoin:miter;stroke:rgb(94.945399%,57.238791%,45.344298%);stroke-opacity:1;stroke-miterlimit:10;\" d=\"M 250 116.667969 L 422.234375 59.253906 \"/>\n",
       "<path style=\" stroke:none;fill-rule:nonzero;fill:rgb(94.945399%,57.238791%,45.344298%);fill-opacity:1;\" d=\"M 435.769531 54.742188 L 423.703125 63.652344 L 420.769531 54.855469 L 435.769531 54.742188 \"/>\n",
       "<path style=\"fill:none;stroke-width:1;stroke-linecap:butt;stroke-linejoin:miter;stroke:rgb(86.742764%,86.43766%,86.260246%);stroke-opacity:1;stroke-miterlimit:10;\" d=\"M 250 116.667969 L 422.234375 174.078125 \"/>\n",
       "<path style=\" stroke:none;fill-rule:nonzero;fill:rgb(86.742764%,86.43766%,86.260246%);fill-opacity:1;\" d=\"M 435.769531 178.589844 L 420.769531 178.476562 L 423.703125 169.679688 L 435.769531 178.589844 \"/>\n",
       "<path style=\"fill:none;stroke-width:1;stroke-linecap:butt;stroke-linejoin:miter;stroke:rgb(94.585438%,55.956496%,44.151332%);stroke-opacity:1;stroke-miterlimit:10;\" d=\"M 450 50 L 620.734375 50 \"/>\n",
       "<path style=\" stroke:none;fill-rule:nonzero;fill:rgb(94.585438%,55.956496%,44.151332%);fill-opacity:1;\" d=\"M 635 50 L 620.734375 54.636719 L 620.734375 45.363281 L 635 50 \"/>\n",
       "<path style=\"fill:none;stroke-width:1;stroke-linecap:butt;stroke-linejoin:miter;stroke:rgb(86.742764%,86.43766%,86.260246%);stroke-opacity:1;stroke-miterlimit:10;\" d=\"M 450 50 L 622.234375 107.410156 \"/>\n",
       "<path style=\" stroke:none;fill-rule:nonzero;fill:rgb(86.742764%,86.43766%,86.260246%);fill-opacity:1;\" d=\"M 635.769531 111.921875 L 620.769531 111.808594 L 623.703125 103.015625 L 635.769531 111.921875 \"/>\n",
       "<path style=\"fill:none;stroke-width:1;stroke-linecap:butt;stroke-linejoin:miter;stroke:rgb(86.742764%,86.43766%,86.260246%);stroke-opacity:1;stroke-miterlimit:10;\" d=\"M 450 116.667969 L 620.734375 116.667969 \"/>\n",
       "<path style=\" stroke:none;fill-rule:nonzero;fill:rgb(86.742764%,86.43766%,86.260246%);fill-opacity:1;\" d=\"M 635 116.667969 L 620.734375 121.300781 L 620.734375 112.03125 L 635 116.667969 \"/>\n",
       "<path style=\"fill:none;stroke-width:1;stroke-linecap:butt;stroke-linejoin:miter;stroke:rgb(96.692211%,65.196865%,53.199712%);stroke-opacity:1;stroke-miterlimit:10;\" d=\"M 450 50 L 625.648438 167.097656 \"/>\n",
       "<path style=\" stroke:none;fill-rule:nonzero;fill:rgb(96.692211%,65.196865%,53.199712%);fill-opacity:1;\" d=\"M 637.519531 175.011719 L 623.078125 170.957031 L 628.21875 163.242188 L 637.519531 175.011719 \"/>\n",
       "<path style=\"fill:none;stroke-width:1;stroke-linecap:butt;stroke-linejoin:miter;stroke:rgb(86.10536%,36.291576%,29.062813%);stroke-opacity:1;stroke-miterlimit:10;\" d=\"M 450 183.332031 L 620.734375 183.332031 \"/>\n",
       "<path style=\" stroke:none;fill-rule:nonzero;fill:rgb(86.10536%,36.291576%,29.062813%);fill-opacity:1;\" d=\"M 635 183.332031 L 620.734375 187.96875 L 620.734375 178.699219 L 635 183.332031 \"/>\n",
       "<path style=\"fill:none;stroke-width:1;stroke-linecap:butt;stroke-linejoin:miter;stroke:rgb(86.742764%,86.43766%,86.260246%);stroke-opacity:1;stroke-miterlimit:10;\" d=\"M 450 50 L 629.304688 229.304688 \"/>\n",
       "<path style=\" stroke:none;fill-rule:nonzero;fill:rgb(86.742764%,86.43766%,86.260246%);fill-opacity:1;\" d=\"M 639.394531 239.394531 L 626.027344 232.582031 L 632.582031 226.027344 L 639.394531 239.394531 \"/>\n",
       "<path style=\"fill:none;stroke-width:1;stroke-linecap:butt;stroke-linejoin:miter;stroke:rgb(83.936494%,32.185622%,26.492398%);stroke-opacity:1;stroke-miterlimit:10;\" d=\"M 450 250 L 620.734375 250 \"/>\n",
       "<path style=\" stroke:none;fill-rule:nonzero;fill:rgb(83.936494%,32.185622%,26.492398%);fill-opacity:1;\" d=\"M 635 250 L 620.734375 254.636719 L 620.734375 245.363281 L 635 250 \"/>\n",
       "<path style=\"fill:none;stroke-width:1;stroke-linecap:butt;stroke-linejoin:miter;stroke:rgb(86.742764%,86.43766%,86.260246%);stroke-opacity:1;stroke-miterlimit:10;\" d=\"M 450 116.667969 L 622.234375 59.253906 \"/>\n",
       "<path style=\" stroke:none;fill-rule:nonzero;fill:rgb(86.742764%,86.43766%,86.260246%);fill-opacity:1;\" d=\"M 635.769531 54.742188 L 623.703125 63.652344 L 620.769531 54.855469 L 635.769531 54.742188 \"/>\n",
       "<path style=\"fill:none;stroke-width:1;stroke-linecap:butt;stroke-linejoin:miter;stroke:rgb(86.742764%,86.43766%,86.260246%);stroke-opacity:1;stroke-miterlimit:10;\" d=\"M 450 116.667969 L 622.234375 174.078125 \"/>\n",
       "<path style=\" stroke:none;fill-rule:nonzero;fill:rgb(86.742764%,86.43766%,86.260246%);fill-opacity:1;\" d=\"M 635.769531 178.589844 L 620.769531 178.476562 L 623.703125 169.679688 L 635.769531 178.589844 \"/>\n",
       "<path style=\"fill-rule:nonzero;fill:rgb(86.742764%,86.43766%,86.260246%);fill-opacity:1;stroke-width:1;stroke-linecap:butt;stroke-linejoin:miter;stroke:rgb(0%,0%,0%);stroke-opacity:1;stroke-miterlimit:10;\" d=\"M 65 50 C 65 58.285156 58.285156 65 50 65 C 41.714844 65 35 58.285156 35 50 C 35 41.714844 41.714844 35 50 35 C 58.285156 35 65 41.714844 65 50 \"/>\n",
       "<path style=\"fill-rule:nonzero;fill:rgb(96.88625%,71.083848%,59.99005%);fill-opacity:1;stroke-width:1;stroke-linecap:butt;stroke-linejoin:miter;stroke:rgb(0%,0%,0%);stroke-opacity:1;stroke-miterlimit:10;\" d=\"M 65 116.667969 C 65 124.949219 58.285156 131.667969 50 131.667969 C 41.714844 131.667969 35 124.949219 35 116.667969 C 35 108.382812 41.714844 101.667969 50 101.667969 C 58.285156 101.667969 65 108.382812 65 116.667969 \"/>\n",
       "<path style=\"fill-rule:nonzero;fill:rgb(95.485341%,59.162235%,47.133746%);fill-opacity:1;stroke-width:1;stroke-linecap:butt;stroke-linejoin:miter;stroke:rgb(0%,0%,0%);stroke-opacity:1;stroke-miterlimit:10;\" d=\"M 65 183.332031 C 65 191.617188 58.285156 198.332031 50 198.332031 C 41.714844 198.332031 35 191.617188 35 183.332031 C 35 175.050781 41.714844 168.332031 50 168.332031 C 58.285156 168.332031 65 175.050781 65 183.332031 \"/>\n",
       "<path style=\"fill-rule:nonzero;fill:rgb(86.742764%,86.43766%,86.260246%);fill-opacity:1;stroke-width:1;stroke-linecap:butt;stroke-linejoin:miter;stroke:rgb(0%,0%,0%);stroke-opacity:1;stroke-miterlimit:10;\" d=\"M 65 250 C 65 258.285156 58.285156 265 50 265 C 41.714844 265 35 258.285156 35 250 C 35 241.714844 41.714844 235 50 235 C 58.285156 235 65 241.714844 65 250 \"/>\n",
       "<path style=\"fill-rule:nonzero;fill:rgb(96.05812%,76.250102%,66.796355%);fill-opacity:1;stroke-width:1;stroke-linecap:butt;stroke-linejoin:miter;stroke:rgb(0%,0%,0%);stroke-opacity:1;stroke-miterlimit:10;\" d=\"M 265 50 C 265 58.285156 258.285156 65 250 65 C 241.714844 65 235 58.285156 235 50 C 235 41.714844 241.714844 35 250 35 C 258.285156 35 265 41.714844 265 50 \"/>\n",
       "<path style=\"fill-rule:nonzero;fill:rgb(96.849975%,67.397738%,55.664926%);fill-opacity:1;stroke-width:1;stroke-linecap:butt;stroke-linejoin:miter;stroke:rgb(0%,0%,0%);stroke-opacity:1;stroke-miterlimit:10;\" d=\"M 265 116.667969 C 265 124.949219 258.285156 131.667969 250 131.667969 C 241.714844 131.667969 235 124.949219 235 116.667969 C 235 108.382812 241.714844 101.667969 250 101.667969 C 258.285156 101.667969 265 108.382812 265 116.667969 \"/>\n",
       "<path style=\"fill-rule:nonzero;fill:rgb(95.665321%,59.803382%,47.730229%);fill-opacity:1;stroke-width:1;stroke-linecap:butt;stroke-linejoin:miter;stroke:rgb(0%,0%,0%);stroke-opacity:1;stroke-miterlimit:10;\" d=\"M 265 183.332031 C 265 191.617188 258.285156 198.332031 250 198.332031 C 241.714844 198.332031 235 191.617188 235 183.332031 C 235 175.050781 241.714844 168.332031 250 168.332031 C 258.285156 168.332031 265 175.050781 265 183.332031 \"/>\n",
       "<path style=\"fill-rule:nonzero;fill:rgb(86.742764%,86.43766%,86.260246%);fill-opacity:1;stroke-width:1;stroke-linecap:butt;stroke-linejoin:miter;stroke:rgb(0%,0%,0%);stroke-opacity:1;stroke-miterlimit:10;\" d=\"M 265 250 C 265 258.285156 258.285156 265 250 265 C 241.714844 265 235 258.285156 235 250 C 235 241.714844 241.714844 235 250 235 C 258.285156 235 265 241.714844 265 250 \"/>\n",
       "<path style=\"fill-rule:nonzero;fill:rgb(88.839049%,41.770292%,32.789791%);fill-opacity:1;stroke-width:1;stroke-linecap:butt;stroke-linejoin:miter;stroke:rgb(0%,0%,0%);stroke-opacity:1;stroke-miterlimit:10;\" d=\"M 465 50 C 465 58.285156 458.285156 65 450 65 C 441.714844 65 435 58.285156 435 50 C 435 41.714844 441.714844 35 450 35 C 458.285156 35 465 41.714844 465 50 \"/>\n",
       "<path style=\"fill-rule:nonzero;fill:rgb(86.742764%,86.43766%,86.260246%);fill-opacity:1;stroke-width:1;stroke-linecap:butt;stroke-linejoin:miter;stroke:rgb(0%,0%,0%);stroke-opacity:1;stroke-miterlimit:10;\" d=\"M 465 116.667969 C 465 124.949219 458.285156 131.667969 450 131.667969 C 441.714844 131.667969 435 124.949219 435 116.667969 C 435 108.382812 441.714844 101.667969 450 101.667969 C 458.285156 101.667969 465 108.382812 465 116.667969 \"/>\n",
       "<path style=\"fill-rule:nonzero;fill:rgb(96.787385%,72.584691%,61.848923%);fill-opacity:1;stroke-width:1;stroke-linecap:butt;stroke-linejoin:miter;stroke:rgb(0%,0%,0%);stroke-opacity:1;stroke-miterlimit:10;\" d=\"M 465 183.332031 C 465 191.617188 458.285156 198.332031 450 198.332031 C 441.714844 198.332031 435 191.617188 435 183.332031 C 435 175.050781 441.714844 168.332031 450 168.332031 C 458.285156 168.332031 465 175.050781 465 183.332031 \"/>\n",
       "<path style=\"fill-rule:nonzero;fill:rgb(87.340228%,38.695964%,30.633246%);fill-opacity:1;stroke-width:1;stroke-linecap:butt;stroke-linejoin:miter;stroke:rgb(0%,0%,0%);stroke-opacity:1;stroke-miterlimit:10;\" d=\"M 465 250 C 465 258.285156 458.285156 265 450 265 C 441.714844 265 435 258.285156 435 250 C 435 241.714844 441.714844 235 450 235 C 458.285156 235 465 241.714844 465 250 \"/>\n",
       "<path style=\"fill-rule:nonzero;fill:rgb(96.889416%,67.947956%,56.281229%);fill-opacity:1;stroke-width:1;stroke-linecap:butt;stroke-linejoin:miter;stroke:rgb(0%,0%,0%);stroke-opacity:1;stroke-miterlimit:10;\" d=\"M 665 50 C 665 58.285156 658.285156 65 650 65 C 641.714844 65 635 58.285156 635 50 C 635 41.714844 641.714844 35 650 35 C 658.285156 35 665 41.714844 665 50 \"/>\n",
       "<path style=\"fill-rule:nonzero;fill:rgb(86.742764%,86.43766%,86.260246%);fill-opacity:1;stroke-width:1;stroke-linecap:butt;stroke-linejoin:miter;stroke:rgb(0%,0%,0%);stroke-opacity:1;stroke-miterlimit:10;\" d=\"M 665 116.667969 C 665 124.949219 658.285156 131.667969 650 131.667969 C 641.714844 131.667969 635 124.949219 635 116.667969 C 635 108.382812 641.714844 101.667969 650 101.667969 C 658.285156 101.667969 665 108.382812 665 116.667969 \"/>\n",
       "<path style=\"fill-rule:nonzero;fill:rgb(83.936494%,32.185622%,26.492398%);fill-opacity:1;stroke-width:1;stroke-linecap:butt;stroke-linejoin:miter;stroke:rgb(0%,0%,0%);stroke-opacity:1;stroke-miterlimit:10;\" d=\"M 665 183.332031 C 665 191.617188 658.285156 198.332031 650 198.332031 C 641.714844 198.332031 635 191.617188 635 183.332031 C 635 175.050781 641.714844 168.332031 650 168.332031 C 658.285156 168.332031 665 175.050781 665 183.332031 \"/>\n",
       "<path style=\"fill-rule:nonzero;fill:rgb(83.936494%,32.185622%,26.492398%);fill-opacity:1;stroke-width:1;stroke-linecap:butt;stroke-linejoin:miter;stroke:rgb(0%,0%,0%);stroke-opacity:1;stroke-miterlimit:10;\" d=\"M 665 250 C 665 258.285156 658.285156 265 650 265 C 641.714844 265 635 258.285156 635 250 C 635 241.714844 641.714844 235 650 235 C 658.285156 235 665 241.714844 665 250 \"/>\n",
       "<g style=\"fill:rgb(0%,0%,0%);fill-opacity:1;\">\n",
       "  <use xlink:href=\"#glyph0-1\" x=\"42.050781\" y=\"54.890625\"/>\n",
       "  <use xlink:href=\"#glyph0-2\" x=\"48.413086\" y=\"54.890625\"/>\n",
       "  <use xlink:href=\"#glyph0-1\" x=\"51.591797\" y=\"54.890625\"/>\n",
       "</g>\n",
       "<g style=\"fill:rgb(0%,0%,0%);fill-opacity:1;\">\n",
       "  <use xlink:href=\"#glyph0-1\" x=\"42.179688\" y=\"121.558594\"/>\n",
       "  <use xlink:href=\"#glyph0-2\" x=\"48.541992\" y=\"121.558594\"/>\n",
       "  <use xlink:href=\"#glyph0-3\" x=\"51.720703\" y=\"121.558594\"/>\n",
       "</g>\n",
       "<g style=\"fill:rgb(0%,0%,0%);fill-opacity:1;\">\n",
       "  <use xlink:href=\"#glyph0-1\" x=\"42.21875\" y=\"188.222656\"/>\n",
       "  <use xlink:href=\"#glyph0-2\" x=\"48.581055\" y=\"188.222656\"/>\n",
       "  <use xlink:href=\"#glyph0-4\" x=\"51.759766\" y=\"188.222656\"/>\n",
       "</g>\n",
       "<g style=\"fill:rgb(0%,0%,0%);fill-opacity:1;\">\n",
       "  <use xlink:href=\"#glyph0-1\" x=\"42.117188\" y=\"254.890625\"/>\n",
       "  <use xlink:href=\"#glyph0-2\" x=\"48.479492\" y=\"254.890625\"/>\n",
       "  <use xlink:href=\"#glyph0-5\" x=\"51.658203\" y=\"254.890625\"/>\n",
       "</g>\n",
       "<g style=\"fill:rgb(0%,0%,0%);fill-opacity:1;\">\n",
       "  <use xlink:href=\"#glyph0-3\" x=\"241.832031\" y=\"54.890625\"/>\n",
       "  <use xlink:href=\"#glyph0-2\" x=\"248.194336\" y=\"54.890625\"/>\n",
       "  <use xlink:href=\"#glyph0-1\" x=\"251.373047\" y=\"54.890625\"/>\n",
       "</g>\n",
       "<g style=\"fill:rgb(0%,0%,0%);fill-opacity:1;\">\n",
       "  <use xlink:href=\"#glyph0-3\" x=\"241.960938\" y=\"121.492188\"/>\n",
       "  <use xlink:href=\"#glyph0-2\" x=\"248.323242\" y=\"121.492188\"/>\n",
       "  <use xlink:href=\"#glyph0-3\" x=\"251.501953\" y=\"121.492188\"/>\n",
       "</g>\n",
       "<g style=\"fill:rgb(0%,0%,0%);fill-opacity:1;\">\n",
       "  <use xlink:href=\"#glyph0-3\" x=\"242\" y=\"188.222656\"/>\n",
       "  <use xlink:href=\"#glyph0-2\" x=\"248.362305\" y=\"188.222656\"/>\n",
       "  <use xlink:href=\"#glyph0-4\" x=\"251.541016\" y=\"188.222656\"/>\n",
       "</g>\n",
       "<g style=\"fill:rgb(0%,0%,0%);fill-opacity:1;\">\n",
       "  <use xlink:href=\"#glyph0-3\" x=\"241.898438\" y=\"254.890625\"/>\n",
       "  <use xlink:href=\"#glyph0-2\" x=\"248.260742\" y=\"254.890625\"/>\n",
       "  <use xlink:href=\"#glyph0-5\" x=\"251.439453\" y=\"254.890625\"/>\n",
       "</g>\n",
       "<g style=\"fill:rgb(0%,0%,0%);fill-opacity:1;\">\n",
       "  <use xlink:href=\"#glyph0-4\" x=\"442.015625\" y=\"54.890625\"/>\n",
       "  <use xlink:href=\"#glyph0-2\" x=\"448.37793\" y=\"54.890625\"/>\n",
       "  <use xlink:href=\"#glyph0-1\" x=\"451.556641\" y=\"54.890625\"/>\n",
       "</g>\n",
       "<g style=\"fill:rgb(0%,0%,0%);fill-opacity:1;\">\n",
       "  <use xlink:href=\"#glyph0-4\" x=\"442.144531\" y=\"121.558594\"/>\n",
       "  <use xlink:href=\"#glyph0-2\" x=\"448.506836\" y=\"121.558594\"/>\n",
       "  <use xlink:href=\"#glyph0-3\" x=\"451.685547\" y=\"121.558594\"/>\n",
       "</g>\n",
       "<g style=\"fill:rgb(0%,0%,0%);fill-opacity:1;\">\n",
       "  <use xlink:href=\"#glyph0-4\" x=\"442.183594\" y=\"188.222656\"/>\n",
       "  <use xlink:href=\"#glyph0-2\" x=\"448.545898\" y=\"188.222656\"/>\n",
       "  <use xlink:href=\"#glyph0-4\" x=\"451.724609\" y=\"188.222656\"/>\n",
       "</g>\n",
       "<g style=\"fill:rgb(0%,0%,0%);fill-opacity:1;\">\n",
       "  <use xlink:href=\"#glyph0-4\" x=\"442.082031\" y=\"254.890625\"/>\n",
       "  <use xlink:href=\"#glyph0-2\" x=\"448.444336\" y=\"254.890625\"/>\n",
       "  <use xlink:href=\"#glyph0-5\" x=\"451.623047\" y=\"254.890625\"/>\n",
       "</g>\n",
       "<g style=\"fill:rgb(0%,0%,0%);fill-opacity:1;\">\n",
       "  <use xlink:href=\"#glyph0-5\" x=\"642\" y=\"54.890625\"/>\n",
       "  <use xlink:href=\"#glyph0-2\" x=\"648.362305\" y=\"54.890625\"/>\n",
       "  <use xlink:href=\"#glyph0-1\" x=\"651.541016\" y=\"54.890625\"/>\n",
       "</g>\n",
       "<g style=\"fill:rgb(0%,0%,0%);fill-opacity:1;\">\n",
       "  <use xlink:href=\"#glyph0-5\" x=\"642.128906\" y=\"121.558594\"/>\n",
       "  <use xlink:href=\"#glyph0-2\" x=\"648.491211\" y=\"121.558594\"/>\n",
       "  <use xlink:href=\"#glyph0-3\" x=\"651.669922\" y=\"121.558594\"/>\n",
       "</g>\n",
       "<g style=\"fill:rgb(0%,0%,0%);fill-opacity:1;\">\n",
       "  <use xlink:href=\"#glyph0-5\" x=\"642.167969\" y=\"188.222656\"/>\n",
       "  <use xlink:href=\"#glyph0-2\" x=\"648.530273\" y=\"188.222656\"/>\n",
       "  <use xlink:href=\"#glyph0-4\" x=\"651.708984\" y=\"188.222656\"/>\n",
       "</g>\n",
       "<g style=\"fill:rgb(0%,0%,0%);fill-opacity:1;\">\n",
       "  <use xlink:href=\"#glyph0-5\" x=\"642.066406\" y=\"254.890625\"/>\n",
       "  <use xlink:href=\"#glyph0-2\" x=\"648.428711\" y=\"254.890625\"/>\n",
       "  <use xlink:href=\"#glyph0-5\" x=\"651.607422\" y=\"254.890625\"/>\n",
       "</g>\n",
       "</g>\n",
       "</svg>\n"
      ],
      "text/plain": [
       "<igraph.drawing.Plot at 0x7f684478ac18>"
      ]
     },
     "execution_count": 3,
     "metadata": {
      "image/svg+xml": {
       "isolated": true
      }
     },
     "output_type": "execute_result"
    }
   ],
   "source": [
    "node_counts_n, arc_counts_n = util.add_proportional_noise(node_counts, arc_counts, sigma=0.2, seed=42)\n",
    "visual_style = util.get_visual_style(tug, vertex_weights=node_counts_n, edge_weights=arc_counts_n)\n",
    "ig.plot(tug, **visual_style, bbox=(700, 300), margin=50)"
   ]
  },
  {
   "cell_type": "markdown",
   "metadata": {
    "slideshow": {
     "slide_type": "subslide"
    }
   },
   "source": [
    "## Solving the Noisy Path Formulation\n",
    "\n",
    "**Let's try to solve the path formulation with noisy data**"
   ]
  },
  {
   "cell_type": "code",
   "execution_count": 5,
   "metadata": {},
   "outputs": [
    {
     "name": "stdout",
     "output_type": "stream",
     "text": [
      "FLOW: PATH\n",
      "7.28: 2,3 > 3,3\n",
      "4.49: 3,3\n",
      "2.66: 0,2 > 1,2 > 2,2 > 3,2\n",
      "2.56: 0,2 > 1,2\n",
      "2.08: 3,2\n",
      "1.71: 0,1 > 1,1 > 2,0 > 3,0\n",
      "1.63: 1,0 > 2,0 > 3,0\n",
      "1.48: 0,1 > 1,1 > 2,0 > 3,2\n",
      "1.43: 2,3\n",
      "1.36: 1,0 > 2,0 > 3,2\n",
      "1.28: 2,2 > 3,2\n",
      "0.90: 0,1 > 1,1\n",
      "0.84: 0,2\n",
      "0.72: 1,2 > 2,2 > 3,2\n",
      "0.71: 0,1 > 1,1 > 2,0\n",
      "...\n",
      "RSSE: 1.64\n"
     ]
    }
   ],
   "source": [
    "rflows_n, rpaths_n = util.solve_path_selection_full(tug, node_counts_n, arc_counts_n, verbose=0)\n",
    "print('FLOW: PATH')\n",
    "util.print_solution(tug, rflows_n, rpaths_n, sort='descending', max_paths=15)\n",
    "sse = util.get_reconstruction_error(tug, rflows_n, rpaths_n, node_counts_n, arc_counts_n)\n",
    "print(f'RSSE: {np.sqrt(sse):.2f}')"
   ]
  },
  {
   "cell_type": "markdown",
   "metadata": {
    "slideshow": {
     "slide_type": "subslide"
    }
   },
   "source": [
    "## Solving the Noisy Path Formulation\n",
    "\n",
    "**There some very noticeable differences w.r.t. the baseline**\n",
    "\n",
    "* The RSSE is a bit higher, which could be expected\n",
    "* But there are also _many more_ paths, and they tend to be _shorter_\n",
    "\n",
    "> **What is going on?**"
   ]
  },
  {
   "cell_type": "markdown",
   "metadata": {
    "slideshow": {
     "slide_type": "fragment"
    }
   },
   "source": [
    "**We have overfitting issues**\n",
    "\n",
    "* Our data-mining model is _almost free of bias_ (we can use any possible path)\n",
    "* Hence, the model tries to cover all nodes with many, short, paths\n",
    "\n",
    "> **Can we do something about it?**"
   ]
  },
  {
   "cell_type": "markdown",
   "metadata": {
    "slideshow": {
     "slide_type": "subslide"
    }
   },
   "source": [
    "## L1 Regularization, Put to Its Purpose\n",
    "\n",
    "**We know that we can use an L1 regularizer to encourage longer paths**\n",
    "\n",
    "...After all, L1 and L2 regularization were born to _counter overfitting_"
   ]
  },
  {
   "cell_type": "code",
   "execution_count": 6,
   "metadata": {},
   "outputs": [
    {
     "name": "stdout",
     "output_type": "stream",
     "text": [
      "FLOW: PATH\n",
      "7.92: 2,3 > 3,3\n",
      "4.80: 0,2 > 1,2 > 2,2 > 3,2\n",
      "1.87: 0,1 > 1,1 > 2,0 > 3,0\n",
      "1.80: 0,1 > 1,1 > 2,0 > 3,2\n",
      "1.51: 1,0 > 2,0 > 3,0\n",
      "1.43: 1,0 > 2,0 > 3,2\n",
      "0.78: 0,1 > 1,1 > 2,0 > 3,3\n",
      "0.22: 1,0 > 2,0 > 3,3\n",
      "RSSE: 4.96\n"
     ]
    }
   ],
   "source": [
    "rflows_n2, rpaths_n2 = util.solve_path_selection_full(tug, node_counts_n, arc_counts_n, alpha=3, verbose=0)\n",
    "print('FLOW: PATH')\n",
    "util.print_solution(tug, rflows_n2, rpaths_n2, sort='descending')\n",
    "sse = util.get_reconstruction_error(tug, rflows_n2, rpaths_n2, node_counts_n, arc_counts_n)\n",
    "print(f'RSSE: {np.sqrt(sse):.2f}')"
   ]
  },
  {
   "cell_type": "markdown",
   "metadata": {
    "slideshow": {
     "slide_type": "-"
    }
   },
   "source": [
    "We get _fewer, longer_ paths, at the expense of a _higher RSSE_"
   ]
  },
  {
   "cell_type": "markdown",
   "metadata": {
    "slideshow": {
     "slide_type": "subslide"
    }
   },
   "source": [
    "## L1 Regularization, Put to Its Purpose\n",
    "\n",
    "**As usual, we can try to improve our results via consolidation**"
   ]
  },
  {
   "cell_type": "code",
   "execution_count": 9,
   "metadata": {},
   "outputs": [
    {
     "name": "stdout",
     "output_type": "stream",
     "text": [
      "FLOW: PATH\n",
      "7.92: 2,3 > 3,3\n",
      "4.80: 0,2 > 1,2 > 2,2 > 3,2\n",
      "3.39: 0,1 > 1,1 > 2,0 > 3,0\n",
      "2.16: 1,0 > 2,0 > 3,2\n",
      "1.07: 0,1 > 1,1 > 2,0 > 3,2\n",
      "...\n"
     ]
    }
   ],
   "source": [
    "node_counts_r, arc_counts_r = util.get_counts(tug, rflows_n2, rpaths_n2)\n",
    "cflows, cpaths, cflag = util.consolidate_paths(tug, rpaths_n2, node_counts_r, arc_counts_r)\n",
    "print('FLOW: PATH')\n",
    "util.print_solution(tug, cflows, cpaths, sort='descending', max_paths=5)"
   ]
  },
  {
   "cell_type": "code",
   "execution_count": 8,
   "metadata": {},
   "outputs": [
    {
     "name": "stdout",
     "output_type": "stream",
     "text": [
      "8.17: 2,3 > 3,3\n",
      "5.47: 0,2 > 1,2 > 2,2 > 3,2\n",
      "4.89: 0,1 > 1,1 > 2,0 > 3,0\n",
      "3.74: 3,3\n",
      "3.32: 1,0 > 2,0 > 3,2\n"
     ]
    }
   ],
   "source": [
    "util.print_ground_truth(flows, paths, sort='descending')"
   ]
  },
  {
   "cell_type": "markdown",
   "metadata": {},
   "source": [
    "* We got many of the ground truth paths correctly, but the flows are _a bit too \"flat\"_"
   ]
  },
  {
   "cell_type": "markdown",
   "metadata": {
    "slideshow": {
     "slide_type": "subslide"
    }
   },
   "source": [
    "## Minimum Cover Constraints\n",
    "\n",
    "**Perhaps we could try to counter the adverse effects of the L1 term**\n",
    "\n",
    "...Without loosing all of its benefits\n",
    "\n",
    "* If the L1 weight is too low, the reguralizer has little effect\n",
    "* ...But if it is too high, the solver stops focusing on the count reconstruction\n",
    "\n",
    "> **What can we do?**"
   ]
  },
  {
   "cell_type": "markdown",
   "metadata": {
    "slideshow": {
     "slide_type": "fragment"
    }
   },
   "source": [
    "**One way to achieve this consists in introducing _new constraints_**\n",
    "\n",
    "* For example, we could require for each vertex\n",
    "* ...To recover a _minimum fraction_ $\\gamma$ of the total count, i.e.\n",
    "\n",
    "$$\n",
    "Vx \\geq \\gamma \\hat{v}\n",
    "$$"
   ]
  },
  {
   "cell_type": "markdown",
   "metadata": {
    "slideshow": {
     "slide_type": "subslide"
    }
   },
   "source": [
    "## Minimum Cover Constraints\n",
    "\n",
    "**The path formulation then becomes**\n",
    "\n",
    "$$\n",
    "\\arg \\min_{x} \\left\\{\\frac{1}{2} x^T P x + q^T x \\mid Vx \\geq \\gamma \\hat{v}, x \\geq 0 \\right\\}\n",
    "$$\n",
    "\n",
    "With $P = V^T V + E^T E$ and $q = -V^T \\hat{v} -E^T \\hat{e} + \\alpha$\n",
    "\n",
    "* We have incorporated both the L1 term (them $\\alpha$ term)\n",
    "* ...And the minimum cover constraints\n",
    "\n",
    "**When calling the OSQP solver**\n",
    "\n",
    "* We need to include $\\alpha$ in the definition of $q$\n",
    "* Then we need to extend the constraint matrix/vectors $A, l, u$\n",
    "* ...So as to account for $V x \\geq \\gamma \\hat{v}$"
   ]
  },
  {
   "cell_type": "markdown",
   "metadata": {
    "slideshow": {
     "slide_type": "subslide"
    }
   },
   "source": [
    "## Solving the Modified Path Formulation\n",
    "\n",
    "Let's try to solve the problem for $\\alpha = 3$ and $\\gamma = 0.8$"
   ]
  },
  {
   "cell_type": "code",
   "execution_count": 11,
   "metadata": {},
   "outputs": [
    {
     "name": "stdout",
     "output_type": "stream",
     "text": [
      "FLOW: PATH\n",
      "8.28: 2,3 > 3,3\n",
      "5.23: 0,2 > 1,2 > 2,2 > 3,2\n",
      "2.59: 3,3\n",
      "2.22: 0,1 > 1,1 > 2,0 > 3,0\n",
      "1.90: 1,0 > 2,0 > 3,0\n",
      "1.89: 0,1 > 1,1 > 2,0 > 3,2\n",
      "1.51: 1,0 > 2,0 > 3,2\n",
      "0.63: 3,2\n",
      "0.40: 0,2 > 1,2\n",
      "0.30: 0,1 > 1,1 > 2,0 > 3,3\n",
      "...\n",
      "RSSE: 3.13\n"
     ]
    }
   ],
   "source": [
    "rflows_n3, rpaths_n3 = util.solve_path_selection_full(tug, node_counts_n, arc_counts_n, alpha=3, verbose=0,\n",
    "                                                    min_vertex_cover=0.95)\n",
    "print('FLOW: PATH')\n",
    "util.print_solution(tug, rflows_n3, rpaths_n3, sort='descending', max_paths=10)\n",
    "sse = util.get_reconstruction_error(tug, rflows_n3, rpaths_n3, node_counts_n, arc_counts_n)\n",
    "print(f'RSSE: {np.sqrt(sse):.2f}')"
   ]
  },
  {
   "cell_type": "markdown",
   "metadata": {},
   "source": [
    "The RSSE is a bit better"
   ]
  },
  {
   "cell_type": "markdown",
   "metadata": {
    "slideshow": {
     "slide_type": "subslide"
    }
   },
   "source": [
    "## Solving the Modified Path Formulation\n",
    "\n",
    "**Let's see what happens with consolidation** "
   ]
  },
  {
   "cell_type": "code",
   "execution_count": 12,
   "metadata": {},
   "outputs": [
    {
     "name": "stdout",
     "output_type": "stream",
     "text": [
      "FLOW: PATH\n",
      "8.28: 2,3 > 3,3\n",
      "5.23: 0,2 > 1,2 > 2,2 > 3,2\n",
      "4.11: 0,1 > 1,1 > 2,0 > 3,0\n",
      "3.24: 1,0 > 2,0 > 3,2\n",
      "2.59: 3,3\n",
      "...\n"
     ]
    }
   ],
   "source": [
    "node_counts_r, arc_counts_r = util.get_counts(tug, rflows_n3, rpaths_n3)\n",
    "cflows, cpaths, cflag = util.consolidate_paths(tug, rpaths_n3, node_counts_r, arc_counts_r)\n",
    "print('FLOW: PATH')\n",
    "util.print_solution(tug, cflows, cpaths, sort='descending', max_paths=5)"
   ]
  },
  {
   "cell_type": "code",
   "execution_count": 13,
   "metadata": {},
   "outputs": [
    {
     "name": "stdout",
     "output_type": "stream",
     "text": [
      "8.17: 2,3 > 3,3\n",
      "5.47: 0,2 > 1,2 > 2,2 > 3,2\n",
      "4.89: 0,1 > 1,1 > 2,0 > 3,0\n",
      "3.74: 3,3\n",
      "3.32: 1,0 > 2,0 > 3,2\n"
     ]
    }
   ],
   "source": [
    "util.print_ground_truth(flows, paths, sort='descending')"
   ]
  },
  {
   "cell_type": "markdown",
   "metadata": {},
   "source": [
    "We got all paths right, and the flows are _closer_ to their real value"
   ]
  },
  {
   "cell_type": "markdown",
   "metadata": {
    "slideshow": {
     "slide_type": "slide"
    }
   },
   "source": [
    "# Column Generation with Constraints in the Master\n",
    "\n",
    "Where we make our first acquaintance with the KKT conditions"
   ]
  },
  {
   "cell_type": "markdown",
   "metadata": {
    "slideshow": {
     "slide_type": "subslide"
    }
   },
   "source": [
    "## CG and Modified Path Formulation\n",
    "\n",
    "**The new formulation requires to add new constraints _in the master_**\n",
    "\n",
    "This is is a problem for Column Generation. Due to the constraints:\n",
    "\n",
    "* Just looking at the gradient may now be misleading\n",
    "* ...Since changing a variable may _force to change others_\n",
    "\n",
    "$$\n",
    "\\arg \\min_{x} \\left\\{\\frac{1}{2} x^T P x + q^T x \\mid V x \\geq \\gamma \\hat{v}, x \\geq 0 \\right\\}\n",
    "$$\n",
    "\n",
    "**We need a \"constraint-aware gradient\"**\n",
    "\n",
    "One way to achieve that is to rely on a _Lagrangian approach_\n",
    "\n",
    "* The idea is to turn the constraints in to _cost terms_\n",
    "* ...And control their satisfaction by _adjusting weights (multipliers)_\n",
    "\n",
    "We will discuss this approach in a general setting"
   ]
  },
  {
   "cell_type": "markdown",
   "metadata": {
    "slideshow": {
     "slide_type": "subslide"
    }
   },
   "source": [
    "## Lagrangian Approach\n",
    "\n",
    "**Let's consider an optimization in the form**\n",
    "\n",
    "$$\n",
    "\\text{argmin}_x \\left\\{ f(x) \\mid g(x) \\leq 0 \\right\\} \\quad\\quad \\mathbf{(P1)}\n",
    "$$\n",
    "\n",
    "where $x$ belongs to $\\mathbb{R}^n$ (i.e. this is numeric optimization)\n",
    "\n",
    "**From this, we can obtain a related, unconstrained optimization problem**\n",
    "\n",
    "...By moving the constraints in to the cost function, with _weights/multipliers $\\lambda$_:\n",
    "\n",
    "$$\n",
    "\\text{argmin}_x \\mathcal{L}(x, \\lambda) = f(x) + \\lambda^T g(x)  \\quad\\quad \\mathbf{(P2)}\n",
    "$$\n",
    "\n",
    "The term $\\mathcal{L}(x, \\lambda)$ is called a _Lagrangian_\n",
    "\n",
    "* If a constraint $g_i(x)$ is violated, $\\mathcal{L}$ gets a penalty w.r.t. $f(x)$\n",
    "* If a constraint $g_i(x)$ is satisfied, $\\mathcal{L}$ gets a reward w.r.t. $f(x)$\n",
    "\n",
    "**We want to solve (P1) by controlling the multipliers in (P2)** "
   ]
  },
  {
   "cell_type": "markdown",
   "metadata": {
    "slideshow": {
     "slide_type": "subslide"
    }
   },
   "source": [
    "## ...And KKT Conditions\n",
    "\n",
    "**Let's assume that $x$ is an _local_ optimum for the original problem**\n",
    "\n",
    "...If we want to reach it via (P2), the multipliers should be _just right_:\n",
    "\n",
    "* They should make the Lagrangian gradient null, i.e.\n",
    "$$\n",
    "\\nabla_x \\mathcal{L}(x, \\lambda) = 0\n",
    "$$\n",
    "* They should be non-negative (or a penalty may turn into a reward):\n",
    "$$\n",
    "\\lambda \\geq 0\n",
    "$$\n",
    "* They should be 0 for all satisfied constraints (or $\\mathcal{L}$ would be \"inflated\")\n",
    "$$\n",
    "\\lambda \\odot g(x) = 0\n",
    "$$\n",
    "Additionally, $x$ should be feasible, i.e. $g(x) \\leq 0$"
   ]
  },
  {
   "cell_type": "markdown",
   "metadata": {
    "slideshow": {
     "slide_type": "subslide"
    }
   },
   "source": [
    "## ...And KKT Conditions\n",
    "\n",
    "**If certain [constraint qualifications](https://en.wikipedia.org/wiki/Karush%E2%80%93Kuhn%E2%80%93Tucker_conditions#Regularity_conditions_(or_constraint_qualifications)) apply, these are _necessary conditions_**\n",
    "\n",
    "If a point $x$ is a local optimum, then we have:\n",
    "$$\\begin{align}\n",
    "\\nabla_x \\mathcal{L}(x, \\lambda) & = 0 & \\text{(null gradient)}\\\\\n",
    "\\lambda & \\geq 0  & \\text{(dual feasibility)} \\\\\n",
    "\\lambda \\odot g(x) & = 0  & \\text{(complementary slackness)}\\\\\n",
    "g(x) & \\leq 0  & \\text{(primal feasibility)}\n",
    "\\end{align}$$\n",
    "\n",
    "They are known as [Karush-Kuhn-Tucker (KKT) first order optimality conditions](https://en.wikipedia.org/wiki/Karush%E2%80%93Kuhn%E2%80%93Tucker_conditions)\n",
    "\n",
    "**Some comments:**\n",
    "\n",
    "* If $f(x)$ and $g(x)$ are convex, the KKT conditions _are also sufficient_\n",
    "* Equality constrains are equivalent to $g(x) \\leq 0$ and $-g(x) \\leq 0$\n",
    "* ...Which can be manipulated to obtain (slighly) simpler formulas"
   ]
  },
  {
   "cell_type": "markdown",
   "metadata": {
    "slideshow": {
     "slide_type": "subslide"
    }
   },
   "source": [
    "## How to Use the KKT Conditions\n",
    "\n",
    "**We can use the KKT conditions to _constrain_ $x$ to be an optimum**\n",
    "\n",
    "* This is useful in bi-level optimization, i.e.:\n",
    "\n",
    "$$\n",
    "\\text{argmax}_y \\left\\{ f(z) \\mid z = \\text{argmin}_{x \\in X} \\ g(x, y) \\right\\}\n",
    "$$\n",
    "\n",
    "* If $X$ and $g$ are convex, we can use the KKT conditions are constraints\n",
    "* ...And replace the optimization step $\\text{argmin}_{x \\in X} \\ g(x, y)$\n",
    "* Typically, this is useful only the conditions reduce to a simple form\n",
    "\n",
    "**We can use the KKT conditions to _check_ whether $x$ is a local optimum**\n",
    "\n",
    "...Assuming we are in convex optimization and constraint qualifications are met\n",
    "\n",
    "* If we fix $x$, then the KKT conditions reduce to a linear system\n",
    "* ...If we can solve it, then $x$ is a local optimum\n",
    "* ...And we have found the corresponding optimal multipliers"
   ]
  },
  {
   "cell_type": "markdown",
   "metadata": {
    "slideshow": {
     "slide_type": "subslide"
    }
   },
   "source": [
    "## How to Use the KKT Conditions in CG\n",
    "\n",
    "As a by-product of the previous use case...\n",
    "\n",
    "**If we know that $x$ is an optimum, we can _obtain_ the optimal $\\lambda$**\n",
    "\n",
    "This is the application we care about\n",
    "\n",
    "* If we have _constraints in the master_ problem\n",
    "* ...Rather than searching for variables such that:\n",
    "\n",
    "$$\n",
    "\\frac{\\partial}{\\partial x_j} f(x) < 0\n",
    "$$\n",
    "\n",
    "* ...We search instead for _variables such that_:\n",
    "\n",
    "$$\n",
    "\\frac{\\partial}{\\partial x_j} \\mathcal{L}(x, \\lambda) < 0\n",
    "$$\n",
    "\n",
    "\n"
   ]
  },
  {
   "cell_type": "markdown",
   "metadata": {
    "slideshow": {
     "slide_type": "subslide"
    }
   },
   "source": [
    "## CG for the Modified Path Formulation\n",
    "\n",
    "**The modified Path Formulation can be rewritten as:**\n",
    "\n",
    "$$\n",
    "\\arg \\min_{x} \\left\\{\\frac{1}{2} (\\|Vx - \\hat{v}\\|_2^2 + \\|Ex - \\hat{e}\\|_2^2) + \\alpha x \\mid Vx \\geq \\gamma \\hat{v}, x \\geq 0 \\right\\}\n",
    "$$\n",
    "\n",
    "From which we obtain:\n",
    "\n",
    "$$\n",
    "\\mathcal{L}(x, \\lambda, \\mu) = \\frac{1}{2} (\\|Vx - \\hat{v}\\|_2^2 + \\|Ex - \\hat{e}\\|_2^2) + \\alpha x + \\lambda^T (\\gamma \\hat{v} - Vx) - \\mu^T x\n",
    "$$\n",
    "\n",
    "And finally:\n",
    "\n",
    "$$\n",
    "\\frac{\\partial}{\\partial x_j} \\mathcal{L}(x, \\lambda, \\mu) = \\sum_{i=1}^{n_v} r^v_i V_{ij} + \\sum_{k=1}^{n_e} r^e_k E_{kj} - \\sum_{i=1}^{n_v} \\lambda_i V_{ij} + \\alpha - \\mu_j\n",
    "$$"
   ]
  },
  {
   "cell_type": "markdown",
   "metadata": {
    "slideshow": {
     "slide_type": "subslide"
    }
   },
   "source": [
    "## CG for the Modified Path Formulation\n",
    "\n",
    "**Therefore, we can modify our pricing problem so that we minimize:**\n",
    "\n",
    "$$\n",
    "\\sum_{i=1}^{n_v} (r^v_i - \\lambda_i) V_{ij} + \\sum_{k=1}^{n_e} r^e_k E_{kj} + \\alpha - \\mu_j\n",
    "$$\n",
    "\n",
    "Whenever we include an _arc_ $k$ in the path we are constructing:\n",
    "\n",
    "* We accumulate a gradient term equal to $r^e_k$\n",
    "* ...Exactly the same as before\n",
    "\n",
    "Whenever we include a _node_ $i$ in the path we are constructing:\n",
    "\n",
    "* We accumulate a gradient term equal to $r^v_i - \\lambda_i$\n",
    "* I.e. we subtract the multiplier associated to the $i$-th min cover constraint\n",
    "\n",
    "Then, for every path, we add $\\alpha$ and we subtract $\\mu_j$\n",
    "\n",
    "**But how do we get the multipliers?**"
   ]
  },
  {
   "cell_type": "markdown",
   "metadata": {
    "slideshow": {
     "slide_type": "subslide"
    }
   },
   "source": [
    "## CG for the Modified Path Formulation\n",
    "\n",
    "**Every $\\lambda_i$ is associated _to a (min cover) constraint_:**\n",
    "\n",
    "...And we have _all of those_ in our problem!\n",
    "\n",
    "* Hence, we could compute $\\lambda$ for the current optimal solution\n",
    "* In practice, the OSQP sover can _compute $\\lambda$ for us_\n",
    "\n",
    "**Every $\\mu_j$ is associated to _$x_j \\geq 0$ constraint_:**\n",
    "\n",
    "...And unfortunately we have those only for the paths in the pool\n",
    "\n",
    "* However, we know that $\\mu_j \\geq 0$ (by dual feasibility)\n",
    "* ...And we would have $\\mu_j > 0$ only having $x_j < 0$ was beneficial\n",
    "* ...But we are looking for paths with exactly the opposite property\n",
    "* Hence, we can just assume _$\\mu_j = 0$_ when generating new paths\n"
   ]
  },
  {
   "cell_type": "markdown",
   "metadata": {
    "slideshow": {
     "slide_type": "subslide"
    }
   },
   "source": [
    "# Full CG In Action\n",
    "\n",
    "This is Column Generation as it was meant to be"
   ]
  },
  {
   "cell_type": "markdown",
   "metadata": {
    "slideshow": {
     "slide_type": "subslide"
    }
   },
   "source": [
    "## Obtaining the Duals\n",
    "\n",
    "**We start by solving again the master problem**\n",
    "\n",
    "...But this time we retrieve the optimal (dual) multipliers\n",
    "\n",
    "* They are the same weights $\\lambda$ used in the ADMM\n",
    "* ...And can be obtain from the OSQP solution object"
   ]
  },
  {
   "cell_type": "code",
   "execution_count": 16,
   "metadata": {},
   "outputs": [
    {
     "name": "stdout",
     "output_type": "stream",
     "text": [
      "FLOW: PATH\n",
      "8.28: 2,3 > 3,3\n",
      "4.36: 0,2 > 1,2 > 2,2 > 3,2\n",
      "2.62: 3,3\n",
      "2.13: 0,1 > 1,1 > 2,0 > 3,0\n",
      "1.87: 1,0 > 2,0 > 3,0\n",
      "1.84: 0,1 > 1,1 > 2,0 > 3,2\n",
      "...\n",
      "RSSE: 2.54\n"
     ]
    }
   ],
   "source": [
    "mvc, alpha = 0.95, 1\n",
    "rflows_n3, rpaths_n3, nneg_duals3, mvc_duals3 = util.solve_path_selection_full(tug, node_counts_n, arc_counts_n,\n",
    "                                                    alpha=alpha, verbose=0, min_vertex_cover=0.95, return_duals=True)\n",
    "print('FLOW: PATH')\n",
    "util.print_solution(tug, rflows_n3, rpaths_n3, sort='descending', max_paths=6)\n",
    "sse = util.get_reconstruction_error(tug, rflows_n3, rpaths_n3, node_counts_n, arc_counts_n)\n",
    "print(f'RSSE: {np.sqrt(sse):.2f}')"
   ]
  },
  {
   "cell_type": "markdown",
   "metadata": {
    "slideshow": {
     "slide_type": "subslide"
    }
   },
   "source": [
    "## Inspecting the Duals\n",
    "\n",
    "**Let's inspect the multipliers for the minimum cover constraints**"
   ]
  },
  {
   "cell_type": "code",
   "execution_count": 15,
   "metadata": {},
   "outputs": [
    {
     "data": {
      "image/png": "[encoded data removed]",
      "text/plain": [
       "<Figure size 1008x360 with 1 Axes>"
      ]
     },
     "metadata": {
      "needs_background": "light"
     },
     "output_type": "display_data"
    }
   ],
   "source": [
    "util.plot_dict({i:v for i, v in enumerate(mvc_duals3)}, figsize=figsize)"
   ]
  },
  {
   "cell_type": "markdown",
   "metadata": {},
   "source": [
    "* Some values are null (when the constraint is satisfied with a slack)\n",
    "* ...And some (unexpectedly, are _negative_)"
   ]
  },
  {
   "cell_type": "markdown",
   "metadata": {
    "slideshow": {
     "slide_type": "subslide"
    }
   },
   "source": [
    "## Inspecting the Duals\n",
    "\n",
    "**Let's inspect the multipliers for the minimum cover constraints**"
   ]
  },
  {
   "cell_type": "code",
   "execution_count": 33,
   "metadata": {},
   "outputs": [
    {
     "data": {
      "image/png": "[encoded data removed]",
      "text/plain": [
       "<Figure size 1008x360 with 1 Axes>"
      ]
     },
     "metadata": {
      "needs_background": "light"
     },
     "output_type": "display_data"
    }
   ],
   "source": [
    "util.plot_dict({i:v for i, v in enumerate(mvc_duals3)}, figsize=figsize)"
   ]
  },
  {
   "cell_type": "markdown",
   "metadata": {},
   "source": [
    "* The reason is the constraint direction: we have $Vx \\geq \\gamma \\hat{v}$ and not $-Vx \\leq - \\gamma \\hat{v}$\n",
    "* We could fix by switching, the constraint direction..."
   ]
  },
  {
   "cell_type": "markdown",
   "metadata": {
    "slideshow": {
     "slide_type": "subslide"
    }
   },
   "source": [
    "## Inspecting the Duals\n",
    "\n",
    "**Let's inspect the multipliers for the minimum cover constraints**"
   ]
  },
  {
   "cell_type": "code",
   "execution_count": 34,
   "metadata": {},
   "outputs": [
    {
     "data": {
      "image/png": "[encoded data removed]",
      "text/plain": [
       "<Figure size 1008x360 with 1 Axes>"
      ]
     },
     "metadata": {
      "needs_background": "light"
     },
     "output_type": "display_data"
    }
   ],
   "source": [
    "util.plot_dict({i:v for i, v in enumerate(mvc_duals3)}, figsize=figsize)"
   ]
  },
  {
   "cell_type": "markdown",
   "metadata": {},
   "source": [
    "* ...Or by reworking the change though the KKT formulas\n",
    "* In our case, when we include a node we _add $\\lambda_i$ instead of subtracting it_"
   ]
  },
  {
   "cell_type": "markdown",
   "metadata": {
    "slideshow": {
     "slide_type": "subslide"
    }
   },
   "source": [
    "## Checking the Pricing Solution\n",
    "\n",
    "**Our pricing problem code can handle both the duals and the L1 weight**\n",
    "\n",
    "We modify node residuals by adding the cover multipliers:\n",
    "\n",
    "```python\n",
    "if cover_duals is not None:\n",
    "    for i, v in enumerate(tug.vs):\n",
    "        nk = v['time'], v['index_o']\n",
    "        nres[nk] += cover_duals[i]\n",
    "```\n",
    "\n",
    "* This provides an _incentive_ to select paths\n",
    "* ...That traverse a node whose cover constraint is satisfied with a slack\n",
    "\n",
    "And we add the constant $\\alpha$ to the final path weights:\n",
    "\n",
    "```python\n",
    "    spw = [v + alpha for v in spw]\n",
    "\n",
    "```\n",
    "\n",
    "* This a uniform _disincentive_ so select paths\n",
    "\n",
    "**The shortest paths problem is solved as usual**"
   ]
  },
  {
   "cell_type": "markdown",
   "metadata": {
    "slideshow": {
     "slide_type": "subslide"
    }
   },
   "source": [
    "## Running the CG Approach\n",
    "\n",
    "**We can now run the CG approach**"
   ]
  },
  {
   "cell_type": "code",
   "execution_count": 17,
   "metadata": {},
   "outputs": [
    {
     "name": "stderr",
     "output_type": "stream",
     "text": [
      "/usr/local/lib/python3.6/dist-packages/osqp/utils.py:119: UserWarning: Converting sparse P to a CSC (compressed sparse column) matrix. (It may take a while...)\n",
      "  \"(compressed sparse column) matrix. (It may take a while...)\")\n"
     ]
    },
    {
     "name": "stdout",
     "output_type": "stream",
     "text": [
      "It.0, sse: 209.13, #paths: 26, new: 10\n",
      "It.1, sse: 83.13, #paths: 34, new: 8\n",
      "It.2, sse: 67.39, #paths: 41, new: 7\n",
      "It.3, sse: 42.31, #paths: 45, new: 4\n",
      "It.4, sse: 7.25, #paths: 47, new: 2\n",
      "It.5, sse: 6.46, #paths: 48, new: 1\n",
      "It.6, sse: 6.46, #paths: 48, new: 0\n",
      "RSSE: 2.54\n"
     ]
    }
   ],
   "source": [
    "rflows_cg, rpaths_cg = util.trajectory_extraction_cg(tug, node_counts_n, arc_counts_n,\n",
    "                                    alpha=alpha, min_vertex_cover=mvc, max_iter=30,\n",
    "                                    verbose=1, max_paths_per_iter=10)\n",
    "sse = util.get_reconstruction_error(tug, rflows_cg, rpaths_cg, node_counts_n, arc_counts_n)\n",
    "print(f'RSSE: {np.sqrt(sse):.2f}')"
   ]
  },
  {
   "cell_type": "markdown",
   "metadata": {},
   "source": [
    "* Indeed,  we obtain the same RSSE as approach using all paths\n",
    "\n",
    "**We now know how to use CG with constraints in the master problem**\n",
    "\n",
    "...Which significantly extends the applicability of the method"
   ]
  }
 ],
 "metadata": {
  "celltoolbar": "Slideshow",
  "kernelspec": {
   "display_name": "Python 3",
   "language": "python",
   "name": "python3"
  },
  "language_info": {
   "codemirror_mode": {
    "name": "ipython",
    "version": 3
   },
   "file_extension": ".py",
   "mimetype": "text/x-python",
   "name": "python",
   "nbconvert_exporter": "python",
   "pygments_lexer": "ipython3",
   "version": "3.6.9"
  },
  "rise": {
   "center": false,
   "transition": "fade"
  }
 },
 "nbformat": 4,
 "nbformat_minor": 4
}
