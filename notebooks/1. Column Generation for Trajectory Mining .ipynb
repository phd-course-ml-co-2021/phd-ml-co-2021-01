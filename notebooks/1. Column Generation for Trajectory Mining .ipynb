{
 "cells": [
  {
   "cell_type": "code",
   "execution_count": 56,
   "metadata": {
    "slideshow": {
     "slide_type": "skip"
    }
   },
   "outputs": [
    {
     "name": "stdout",
     "output_type": "stream",
     "text": [
      "The autoreload extension is already loaded. To reload it, use:\n",
      "  %reload_ext autoreload\n"
     ]
    }
   ],
   "source": [
    "# ============================================================\n",
    "# Notebook setup\n",
    "# ============================================================\n",
    "\n",
    "%load_ext autoreload\n",
    "%autoreload 2\n",
    "\n",
    "# Control figure size\n",
    "interactive_figures = True\n",
    "if interactive_figures:\n",
    "    # Normal behavior\n",
    "    %matplotlib widget\n",
    "    figsize=(9, 3)\n",
    "else:\n",
    "    # PDF export behavior\n",
    "    figsize=(14, 5)\n",
    "\n",
    "from matplotlib import pyplot as plt\n",
    "    \n",
    "#from util import cst\n",
    "#import numpy as np\n",
    "#from matplotlib import pyplot as plt\n",
    "#import pandas as pd\n",
    "#from tensorflow import keras\n",
    "#from tensorflow.keras import layers, callbacks\n",
    "#from tensorflow_probability import distributions\n",
    "#from sklearn.metrics import r2_score, mean_squared_error\n",
    "#from tensorflow.keras import backend as k\n",
    "\n",
    "# Load data\n",
    "#data_folder = '/app/data'\n",
    "#data = cst.load_cmapss_data(data_folder)\n",
    "\n",
    "# Identify input columns\n",
    "#dt_in = list(data.columns[3:-1])"
   ]
  },
  {
   "cell_type": "markdown",
   "metadata": {
    "slideshow": {
     "slide_type": "slide"
    }
   },
   "source": [
    "# Plan"
   ]
  },
  {
   "cell_type": "markdown",
   "metadata": {},
   "source": [
    "## Plan\n",
    "\n",
    "* Mining navigation paths\n",
    "  - Count visited pages\n",
    "  - Count visited links\n",
    "* V1:\n",
    "  - Loops allowed\n",
    "  - Pricing via poly-time algo\n",
    "* V2:\n",
    "  - No loops\n",
    "  - Pricing via CP-SAT?\n",
    "* Master\n",
    "  - Reconstruct available counts\n",
    "  - V1: unconstrained\n",
    "  - V2: minimum cover for all nodes"
   ]
  },
  {
   "cell_type": "code",
   "execution_count": 57,
   "metadata": {},
   "outputs": [
    {
     "data": {
      "image/svg+xml": [
       "<?xml version=\"1.0\" encoding=\"UTF-8\"?>\n",
       "<svg xmlns=\"http://www.w3.org/2000/svg\" xmlns:xlink=\"http://www.w3.org/1999/xlink\" width=\"700pt\" height=\"300pt\" viewBox=\"0 0 700 300\" version=\"1.1\">\n",
       "<defs>\n",
       "<g>\n",
       "<symbol overflow=\"visible\" id=\"glyph0-0\">\n",
       "<path style=\"stroke:none;\" d=\"M 0.5 1.765625 L 0.5 -7.046875 L 5.5 -7.046875 L 5.5 1.765625 Z M 1.0625 1.21875 L 4.9375 1.21875 L 4.9375 -6.484375 L 1.0625 -6.484375 Z M 1.0625 1.21875 \"/>\n",
       "</symbol>\n",
       "<symbol overflow=\"visible\" id=\"glyph0-1\">\n",
       "<path style=\"stroke:none;\" d=\"M 3.171875 -6.640625 C 2.671875 -6.640625 2.289062 -6.390625 2.03125 -5.890625 C 1.78125 -5.390625 1.65625 -4.640625 1.65625 -3.640625 C 1.65625 -2.640625 1.78125 -1.890625 2.03125 -1.390625 C 2.289062 -0.890625 2.671875 -0.640625 3.171875 -0.640625 C 3.691406 -0.640625 4.078125 -0.890625 4.328125 -1.390625 C 4.585938 -1.890625 4.71875 -2.640625 4.71875 -3.640625 C 4.71875 -4.640625 4.585938 -5.390625 4.328125 -5.890625 C 4.078125 -6.390625 3.691406 -6.640625 3.171875 -6.640625 Z M 3.171875 -7.421875 C 3.992188 -7.421875 4.617188 -7.097656 5.046875 -6.453125 C 5.484375 -5.804688 5.703125 -4.867188 5.703125 -3.640625 C 5.703125 -2.410156 5.484375 -1.472656 5.046875 -0.828125 C 4.617188 -0.179688 3.992188 0.140625 3.171875 0.140625 C 2.359375 0.140625 1.734375 -0.179688 1.296875 -0.828125 C 0.867188 -1.472656 0.65625 -2.410156 0.65625 -3.640625 C 0.65625 -4.867188 0.867188 -5.804688 1.296875 -6.453125 C 1.734375 -7.097656 2.359375 -7.421875 3.171875 -7.421875 Z M 3.171875 -7.421875 \"/>\n",
       "</symbol>\n",
       "<symbol overflow=\"visible\" id=\"glyph0-2\">\n",
       "<path style=\"stroke:none;\" d=\"M 1.234375 -0.828125 L 2.859375 -0.828125 L 2.859375 -6.390625 L 1.09375 -6.046875 L 1.09375 -6.9375 L 2.84375 -7.296875 L 3.828125 -7.296875 L 3.828125 -0.828125 L 5.4375 -0.828125 L 5.4375 0 L 1.234375 0 Z M 1.234375 -0.828125 \"/>\n",
       "</symbol>\n",
       "<symbol overflow=\"visible\" id=\"glyph0-3\">\n",
       "<path style=\"stroke:none;\" d=\"M 1.921875 -0.828125 L 5.359375 -0.828125 L 5.359375 0 L 0.734375 0 L 0.734375 -0.828125 C 1.109375 -1.210938 1.617188 -1.734375 2.265625 -2.390625 C 2.910156 -3.046875 3.316406 -3.46875 3.484375 -3.65625 C 3.796875 -4.007812 4.015625 -4.304688 4.140625 -4.546875 C 4.265625 -4.796875 4.328125 -5.039062 4.328125 -5.28125 C 4.328125 -5.664062 4.191406 -5.976562 3.921875 -6.21875 C 3.648438 -6.46875 3.296875 -6.59375 2.859375 -6.59375 C 2.546875 -6.59375 2.21875 -6.535156 1.875 -6.421875 C 1.539062 -6.316406 1.175781 -6.15625 0.78125 -5.9375 L 0.78125 -6.9375 C 1.175781 -7.09375 1.546875 -7.210938 1.890625 -7.296875 C 2.234375 -7.378906 2.550781 -7.421875 2.84375 -7.421875 C 3.59375 -7.421875 4.191406 -7.234375 4.640625 -6.859375 C 5.097656 -6.484375 5.328125 -5.976562 5.328125 -5.34375 C 5.328125 -5.039062 5.269531 -4.753906 5.15625 -4.484375 C 5.039062 -4.222656 4.835938 -3.910156 4.546875 -3.546875 C 4.460938 -3.453125 4.203125 -3.175781 3.765625 -2.71875 C 3.328125 -2.269531 2.710938 -1.640625 1.921875 -0.828125 Z M 1.921875 -0.828125 \"/>\n",
       "</symbol>\n",
       "<symbol overflow=\"visible\" id=\"glyph0-4\">\n",
       "<path style=\"stroke:none;\" d=\"M 4.0625 -3.9375 C 4.53125 -3.832031 4.894531 -3.617188 5.15625 -3.296875 C 5.425781 -2.984375 5.5625 -2.59375 5.5625 -2.125 C 5.5625 -1.40625 5.3125 -0.847656 4.8125 -0.453125 C 4.320312 -0.0546875 3.617188 0.140625 2.703125 0.140625 C 2.398438 0.140625 2.085938 0.109375 1.765625 0.046875 C 1.441406 -0.015625 1.109375 -0.101562 0.765625 -0.21875 L 0.765625 -1.171875 C 1.035156 -1.015625 1.332031 -0.894531 1.65625 -0.8125 C 1.988281 -0.726562 2.332031 -0.6875 2.6875 -0.6875 C 3.300781 -0.6875 3.769531 -0.804688 4.09375 -1.046875 C 4.414062 -1.296875 4.578125 -1.65625 4.578125 -2.125 C 4.578125 -2.550781 4.425781 -2.882812 4.125 -3.125 C 3.820312 -3.363281 3.40625 -3.484375 2.875 -3.484375 L 2.015625 -3.484375 L 2.015625 -4.296875 L 2.90625 -4.296875 C 3.394531 -4.296875 3.765625 -4.394531 4.015625 -4.59375 C 4.273438 -4.789062 4.40625 -5.070312 4.40625 -5.4375 C 4.40625 -5.800781 4.269531 -6.082031 4 -6.28125 C 3.738281 -6.488281 3.363281 -6.59375 2.875 -6.59375 C 2.601562 -6.59375 2.3125 -6.5625 2 -6.5 C 1.6875 -6.445312 1.347656 -6.359375 0.984375 -6.234375 L 0.984375 -7.109375 C 1.359375 -7.210938 1.707031 -7.289062 2.03125 -7.34375 C 2.363281 -7.394531 2.671875 -7.421875 2.953125 -7.421875 C 3.703125 -7.421875 4.296875 -7.25 4.734375 -6.90625 C 5.171875 -6.570312 5.390625 -6.113281 5.390625 -5.53125 C 5.390625 -5.125 5.273438 -4.78125 5.046875 -4.5 C 4.816406 -4.226562 4.488281 -4.039062 4.0625 -3.9375 Z M 4.0625 -3.9375 \"/>\n",
       "</symbol>\n",
       "</g>\n",
       "</defs>\n",
       "<g id=\"surface26\">\n",
       "<rect x=\"0\" y=\"0\" width=\"700\" height=\"300\" style=\"fill:rgb(100%,100%,100%);fill-opacity:1;stroke:none;\"/>\n",
       "<path style=\"fill:none;stroke-width:1;stroke-linecap:butt;stroke-linejoin:miter;stroke:rgb(26.666667%,26.666667%,26.666667%);stroke-opacity:1;stroke-miterlimit:10;\" d=\"M 489.671875 134.3125 C 489.671875 146.738281 479.597656 156.8125 467.171875 156.8125 C 454.746094 156.8125 444.671875 146.738281 444.671875 134.3125 C 444.671875 121.882812 454.746094 111.8125 467.171875 111.8125 C 479.597656 111.8125 489.671875 121.882812 489.671875 134.3125 \"/>\n",
       "<path style=\"fill:none;stroke-width:1;stroke-linecap:butt;stroke-linejoin:miter;stroke:rgb(26.666667%,26.666667%,26.666667%);stroke-opacity:1;stroke-miterlimit:10;\" d=\"M 451.261719 150.222656 C 475.089844 189.070312 510.703125 206.910156 552.957031 190.5 \"/>\n",
       "<path style=\" stroke:none;fill-rule:nonzero;fill:rgb(26.666667%,26.666667%,26.666667%);fill-opacity:1;\" d=\"M 566.257812 185.335938 L 554.636719 194.824219 L 551.28125 186.179688 L 566.257812 185.335938 \"/>\n",
       "<path style=\"fill:none;stroke-width:1;stroke-linecap:butt;stroke-linejoin:miter;stroke:rgb(26.666667%,26.666667%,26.666667%);stroke-opacity:1;stroke-miterlimit:10;\" d=\"M 618.410156 164.089844 C 618.410156 176.515625 608.335938 186.589844 595.910156 186.589844 C 583.484375 186.589844 573.410156 176.515625 573.410156 164.089844 C 573.410156 151.664062 583.484375 141.589844 595.910156 141.589844 C 608.335938 141.589844 618.410156 151.664062 618.410156 164.089844 \"/>\n",
       "<path style=\"fill:none;stroke-width:1;stroke-linecap:butt;stroke-linejoin:miter;stroke:rgb(26.666667%,26.666667%,26.666667%);stroke-opacity:1;stroke-miterlimit:10;\" d=\"M 451.261719 150.222656 L 149.199219 170.636719 \"/>\n",
       "<path style=\" stroke:none;fill-rule:nonzero;fill:rgb(26.666667%,26.666667%,26.666667%);fill-opacity:1;\" d=\"M 134.964844 171.597656 L 148.886719 166.011719 L 149.511719 175.261719 L 134.964844 171.597656 \"/>\n",
       "<path style=\"fill:none;stroke-width:1;stroke-linecap:butt;stroke-linejoin:miter;stroke:rgb(26.666667%,26.666667%,26.666667%);stroke-opacity:1;stroke-miterlimit:10;\" d=\"M 158.410156 156.699219 C 158.410156 169.125 148.335938 179.199219 135.910156 179.199219 C 123.484375 179.199219 113.410156 169.125 113.410156 156.699219 C 113.410156 144.273438 123.484375 134.199219 135.910156 134.199219 C 148.335938 134.199219 158.410156 144.273438 158.410156 156.699219 \"/>\n",
       "<path style=\"fill:none;stroke-width:1;stroke-linecap:butt;stroke-linejoin:miter;stroke:rgb(26.666667%,26.666667%,26.666667%);stroke-opacity:1;stroke-miterlimit:10;\" d=\"M 451.261719 150.222656 L 540.242188 127.300781 \"/>\n",
       "<path style=\" stroke:none;fill-rule:nonzero;fill:rgb(26.666667%,26.666667%,26.666667%);fill-opacity:1;\" d=\"M 554.058594 123.742188 L 541.398438 131.789062 L 539.085938 122.8125 L 554.058594 123.742188 \"/>\n",
       "<path style=\"fill:none;stroke-width:1;stroke-linecap:butt;stroke-linejoin:miter;stroke:rgb(26.666667%,26.666667%,26.666667%);stroke-opacity:1;stroke-miterlimit:10;\" d=\"M 606.992188 104.089844 C 606.992188 116.515625 596.917969 126.589844 584.492188 126.589844 C 572.066406 126.589844 561.992188 116.515625 561.992188 104.089844 C 561.992188 91.664062 572.066406 81.589844 584.492188 81.589844 C 596.917969 81.589844 606.992188 91.664062 606.992188 104.089844 \"/>\n",
       "<path style=\"fill:none;stroke-width:1;stroke-linecap:butt;stroke-linejoin:miter;stroke:rgb(26.666667%,26.666667%,26.666667%);stroke-opacity:1;stroke-miterlimit:10;\" d=\"M 580 180 C 556.171875 141.148438 520.558594 123.308594 478.304688 139.71875 \"/>\n",
       "<path style=\" stroke:none;fill-rule:nonzero;fill:rgb(26.666667%,26.666667%,26.666667%);fill-opacity:1;\" d=\"M 465.007812 144.882812 L 476.628906 135.398438 L 479.984375 144.039062 L 465.007812 144.882812 \"/>\n",
       "<path style=\"fill:none;stroke-width:1;stroke-linecap:butt;stroke-linejoin:miter;stroke:rgb(26.666667%,26.666667%,26.666667%);stroke-opacity:1;stroke-miterlimit:10;\" d=\"M 580 180 L 149.261719 173.082031 \"/>\n",
       "<path style=\" stroke:none;fill-rule:nonzero;fill:rgb(26.666667%,26.666667%,26.666667%);fill-opacity:1;\" d=\"M 135 172.851562 L 149.335938 168.445312 L 149.1875 177.714844 L 135 172.851562 \"/>\n",
       "<path style=\"fill-rule:nonzero;fill:rgb(55.294118%,82.745098%,78.039216%);fill-opacity:1;stroke-width:1;stroke-linecap:butt;stroke-linejoin:miter;stroke:rgb(0%,0%,0%);stroke-opacity:1;stroke-miterlimit:10;\" d=\"M 466.261719 150.222656 C 466.261719 158.503906 459.546875 165.222656 451.261719 165.222656 C 442.976562 165.222656 436.261719 158.503906 436.261719 150.222656 C 436.261719 141.9375 442.976562 135.222656 451.261719 135.222656 C 459.546875 135.222656 466.261719 141.9375 466.261719 150.222656 \"/>\n",
       "<path style=\"fill-rule:nonzero;fill:rgb(100%,100%,70.196078%);fill-opacity:1;stroke-width:1;stroke-linecap:butt;stroke-linejoin:miter;stroke:rgb(0%,0%,0%);stroke-opacity:1;stroke-miterlimit:10;\" d=\"M 595 180 C 595 188.285156 588.285156 195 580 195 C 571.714844 195 565 188.285156 565 180 C 565 171.714844 571.714844 165 580 165 C 588.285156 165 595 171.714844 595 180 \"/>\n",
       "<path style=\"fill-rule:nonzero;fill:rgb(74.509804%,72.941176%,85.490196%);fill-opacity:1;stroke-width:1;stroke-linecap:butt;stroke-linejoin:miter;stroke:rgb(0%,0%,0%);stroke-opacity:1;stroke-miterlimit:10;\" d=\"M 135 172.609375 C 135 180.894531 128.285156 187.609375 120 187.609375 C 111.714844 187.609375 105 180.894531 105 172.609375 C 105 164.324219 111.714844 157.609375 120 157.609375 C 128.285156 157.609375 135 164.324219 135 172.609375 \"/>\n",
       "<path style=\"fill-rule:nonzero;fill:rgb(98.431373%,50.196078%,44.705882%);fill-opacity:1;stroke-width:1;stroke-linecap:butt;stroke-linejoin:miter;stroke:rgb(0%,0%,0%);stroke-opacity:1;stroke-miterlimit:10;\" d=\"M 583.582031 120 C 583.582031 128.285156 576.867188 135 568.582031 135 C 560.300781 135 553.582031 128.285156 553.582031 120 C 553.582031 111.714844 560.300781 105 568.582031 105 C 576.867188 105 583.582031 111.714844 583.582031 120 \"/>\n",
       "<g style=\"fill:rgb(0%,0%,0%);fill-opacity:1;\">\n",
       "  <use xlink:href=\"#glyph0-1\" x=\"448.085938\" y=\"155.109375\"/>\n",
       "</g>\n",
       "<g style=\"fill:rgb(0%,0%,0%);fill-opacity:1;\">\n",
       "  <use xlink:href=\"#glyph0-2\" x=\"576.730469\" y=\"184.824219\"/>\n",
       "</g>\n",
       "<g style=\"fill:rgb(0%,0%,0%);fill-opacity:1;\">\n",
       "  <use xlink:href=\"#glyph0-3\" x=\"116.953125\" y=\"177.5\"/>\n",
       "</g>\n",
       "<g style=\"fill:rgb(0%,0%,0%);fill-opacity:1;\">\n",
       "  <use xlink:href=\"#glyph0-4\" x=\"565.421875\" y=\"124.890625\"/>\n",
       "</g>\n",
       "</g>\n",
       "</svg>\n"
      ],
      "text/plain": [
       "<igraph.drawing.Plot at 0x7f2b22981a90>"
      ]
     },
     "execution_count": 57,
     "metadata": {
      "image/svg+xml": {
       "isolated": true
      }
     },
     "output_type": "execute_result"
    }
   ],
   "source": [
    "from util import util\n",
    "import igraph as ig\n",
    "g = util.build_website_graph(nnodes=4, rate=3, extra_arc_fraction=0.25, seed=42)\n",
    "root = g.vs[0]\n",
    "\n",
    "#util.display_graph(g)\n",
    "ig.plot(g, **util.get_visual_style(g), bbox=(700, 300), margin=120)"
   ]
  },
  {
   "cell_type": "code",
   "execution_count": 58,
   "metadata": {},
   "outputs": [
    {
     "data": {
      "text/plain": [
       "(7.497988950401423, [(4, 0), (5, 1)])"
      ]
     },
     "execution_count": 58,
     "metadata": {},
     "output_type": "execute_result"
    }
   ],
   "source": [
    "util.route_random_flow(root, min_units=1, max_units=10, eoh=10, max_len=7)"
   ]
  },
  {
   "cell_type": "code",
   "execution_count": 59,
   "metadata": {
    "scrolled": false
   },
   "outputs": [
    {
     "data": {
      "text/plain": [
       "[(7.373330403562943, [(0, 0), (1, 0), (2, 0), (3, 0)]),\n",
       " (9.036522589128893, [(1, 0), (2, 2), (3, 2)]),\n",
       " (2.130267794174526, [(3, 0)]),\n",
       " (3.23099467503432, [(2, 0), (3, 2)]),\n",
       " (7.253412874556227, [(0, 0), (1, 1), (2, 2), (3, 2)])]"
      ]
     },
     "execution_count": 59,
     "metadata": {},
     "output_type": "execute_result"
    }
   ],
   "source": [
    "eoh = 4\n",
    "paths = util.build_random_paths(g, min_paths=3, max_paths=5,\n",
    "                                                           min_units=1, max_units=10, eoh=eoh,\n",
    "                                                           seed=3)\n",
    "paths"
   ]
  },
  {
   "cell_type": "code",
   "execution_count": 60,
   "metadata": {},
   "outputs": [
    {
     "data": {
      "text/plain": [
       "{(0, 0): 14.626743278119172,\n",
       " (0, 1): 0,\n",
       " (0, 2): 0,\n",
       " (0, 3): 0,\n",
       " (1, 0): 16.409852992691835,\n",
       " (1, 1): 7.253412874556227,\n",
       " (1, 2): 0,\n",
       " (1, 3): 0,\n",
       " (2, 0): 10.604325078597263,\n",
       " (2, 1): 0,\n",
       " (2, 2): 16.28993546368512,\n",
       " (2, 3): 0,\n",
       " (3, 0): 9.50359819773747,\n",
       " (3, 1): 0,\n",
       " (3, 2): 19.520930138719443,\n",
       " (3, 3): 0}"
      ]
     },
     "execution_count": 60,
     "metadata": {},
     "output_type": "execute_result"
    }
   ],
   "source": [
    "node_counts, arc_counts = util.get_dynamic_counts(g, eoh, paths)\n",
    "node_counts"
   ]
  },
  {
   "cell_type": "code",
   "execution_count": 61,
   "metadata": {},
   "outputs": [
    {
     "data": {
      "image/svg+xml": [
       "<?xml version=\"1.0\" encoding=\"UTF-8\"?>\n",
       "<svg xmlns=\"http://www.w3.org/2000/svg\" xmlns:xlink=\"http://www.w3.org/1999/xlink\" width=\"700pt\" height=\"300pt\" viewBox=\"0 0 700 300\" version=\"1.1\">\n",
       "<defs>\n",
       "<g>\n",
       "<symbol overflow=\"visible\" id=\"glyph0-0\">\n",
       "<path style=\"stroke:none;\" d=\"M 0.5 1.765625 L 0.5 -7.046875 L 5.5 -7.046875 L 5.5 1.765625 Z M 1.0625 1.21875 L 4.9375 1.21875 L 4.9375 -6.484375 L 1.0625 -6.484375 Z M 1.0625 1.21875 \"/>\n",
       "</symbol>\n",
       "<symbol overflow=\"visible\" id=\"glyph0-1\">\n",
       "<path style=\"stroke:none;\" d=\"M 3.09375 -7.59375 C 2.664062 -6.84375 2.34375 -6.097656 2.125 -5.359375 C 1.914062 -4.628906 1.8125 -3.890625 1.8125 -3.140625 C 1.8125 -2.390625 1.914062 -1.644531 2.125 -0.90625 C 2.34375 -0.164062 2.664062 0.570312 3.09375 1.3125 L 2.3125 1.3125 C 1.832031 0.550781 1.46875 -0.195312 1.21875 -0.9375 C 0.976562 -1.675781 0.859375 -2.410156 0.859375 -3.140625 C 0.859375 -3.867188 0.976562 -4.597656 1.21875 -5.328125 C 1.457031 -6.066406 1.820312 -6.820312 2.3125 -7.59375 Z M 3.09375 -7.59375 \"/>\n",
       "</symbol>\n",
       "<symbol overflow=\"visible\" id=\"glyph0-2\">\n",
       "<path style=\"stroke:none;\" d=\"M 3.171875 -6.640625 C 2.671875 -6.640625 2.289062 -6.390625 2.03125 -5.890625 C 1.78125 -5.390625 1.65625 -4.640625 1.65625 -3.640625 C 1.65625 -2.640625 1.78125 -1.890625 2.03125 -1.390625 C 2.289062 -0.890625 2.671875 -0.640625 3.171875 -0.640625 C 3.691406 -0.640625 4.078125 -0.890625 4.328125 -1.390625 C 4.585938 -1.890625 4.71875 -2.640625 4.71875 -3.640625 C 4.71875 -4.640625 4.585938 -5.390625 4.328125 -5.890625 C 4.078125 -6.390625 3.691406 -6.640625 3.171875 -6.640625 Z M 3.171875 -7.421875 C 3.992188 -7.421875 4.617188 -7.097656 5.046875 -6.453125 C 5.484375 -5.804688 5.703125 -4.867188 5.703125 -3.640625 C 5.703125 -2.410156 5.484375 -1.472656 5.046875 -0.828125 C 4.617188 -0.179688 3.992188 0.140625 3.171875 0.140625 C 2.359375 0.140625 1.734375 -0.179688 1.296875 -0.828125 C 0.867188 -1.472656 0.65625 -2.410156 0.65625 -3.640625 C 0.65625 -4.867188 0.867188 -5.804688 1.296875 -6.453125 C 1.734375 -7.097656 2.359375 -7.421875 3.171875 -7.421875 Z M 3.171875 -7.421875 \"/>\n",
       "</symbol>\n",
       "<symbol overflow=\"visible\" id=\"glyph0-3\">\n",
       "<path style=\"stroke:none;\" d=\"M 1.171875 -1.234375 L 2.203125 -1.234375 L 2.203125 -0.40625 L 1.40625 1.15625 L 0.765625 1.15625 L 1.171875 -0.40625 Z M 1.171875 -1.234375 \"/>\n",
       "</symbol>\n",
       "<symbol overflow=\"visible\" id=\"glyph0-4\">\n",
       "<path style=\"stroke:none;\" d=\"\"/>\n",
       "</symbol>\n",
       "<symbol overflow=\"visible\" id=\"glyph0-5\">\n",
       "<path style=\"stroke:none;\" d=\"M 0.796875 -7.59375 L 1.578125 -7.59375 C 2.066406 -6.820312 2.429688 -6.066406 2.671875 -5.328125 C 2.921875 -4.597656 3.046875 -3.867188 3.046875 -3.140625 C 3.046875 -2.410156 2.921875 -1.675781 2.671875 -0.9375 C 2.429688 -0.195312 2.066406 0.550781 1.578125 1.3125 L 0.796875 1.3125 C 1.234375 0.570312 1.554688 -0.164062 1.765625 -0.90625 C 1.984375 -1.644531 2.09375 -2.390625 2.09375 -3.140625 C 2.09375 -3.890625 1.984375 -4.628906 1.765625 -5.359375 C 1.554688 -6.097656 1.234375 -6.84375 0.796875 -7.59375 Z M 0.796875 -7.59375 \"/>\n",
       "</symbol>\n",
       "<symbol overflow=\"visible\" id=\"glyph0-6\">\n",
       "<path style=\"stroke:none;\" d=\"M 1.234375 -0.828125 L 2.859375 -0.828125 L 2.859375 -6.390625 L 1.09375 -6.046875 L 1.09375 -6.9375 L 2.84375 -7.296875 L 3.828125 -7.296875 L 3.828125 -0.828125 L 5.4375 -0.828125 L 5.4375 0 L 1.234375 0 Z M 1.234375 -0.828125 \"/>\n",
       "</symbol>\n",
       "<symbol overflow=\"visible\" id=\"glyph0-7\">\n",
       "<path style=\"stroke:none;\" d=\"M 1.921875 -0.828125 L 5.359375 -0.828125 L 5.359375 0 L 0.734375 0 L 0.734375 -0.828125 C 1.109375 -1.210938 1.617188 -1.734375 2.265625 -2.390625 C 2.910156 -3.046875 3.316406 -3.46875 3.484375 -3.65625 C 3.796875 -4.007812 4.015625 -4.304688 4.140625 -4.546875 C 4.265625 -4.796875 4.328125 -5.039062 4.328125 -5.28125 C 4.328125 -5.664062 4.191406 -5.976562 3.921875 -6.21875 C 3.648438 -6.46875 3.296875 -6.59375 2.859375 -6.59375 C 2.546875 -6.59375 2.21875 -6.535156 1.875 -6.421875 C 1.539062 -6.316406 1.175781 -6.15625 0.78125 -5.9375 L 0.78125 -6.9375 C 1.175781 -7.09375 1.546875 -7.210938 1.890625 -7.296875 C 2.234375 -7.378906 2.550781 -7.421875 2.84375 -7.421875 C 3.59375 -7.421875 4.191406 -7.234375 4.640625 -6.859375 C 5.097656 -6.484375 5.328125 -5.976562 5.328125 -5.34375 C 5.328125 -5.039062 5.269531 -4.753906 5.15625 -4.484375 C 5.039062 -4.222656 4.835938 -3.910156 4.546875 -3.546875 C 4.460938 -3.453125 4.203125 -3.175781 3.765625 -2.71875 C 3.328125 -2.269531 2.710938 -1.640625 1.921875 -0.828125 Z M 1.921875 -0.828125 \"/>\n",
       "</symbol>\n",
       "<symbol overflow=\"visible\" id=\"glyph0-8\">\n",
       "<path style=\"stroke:none;\" d=\"M 4.0625 -3.9375 C 4.53125 -3.832031 4.894531 -3.617188 5.15625 -3.296875 C 5.425781 -2.984375 5.5625 -2.59375 5.5625 -2.125 C 5.5625 -1.40625 5.3125 -0.847656 4.8125 -0.453125 C 4.320312 -0.0546875 3.617188 0.140625 2.703125 0.140625 C 2.398438 0.140625 2.085938 0.109375 1.765625 0.046875 C 1.441406 -0.015625 1.109375 -0.101562 0.765625 -0.21875 L 0.765625 -1.171875 C 1.035156 -1.015625 1.332031 -0.894531 1.65625 -0.8125 C 1.988281 -0.726562 2.332031 -0.6875 2.6875 -0.6875 C 3.300781 -0.6875 3.769531 -0.804688 4.09375 -1.046875 C 4.414062 -1.296875 4.578125 -1.65625 4.578125 -2.125 C 4.578125 -2.550781 4.425781 -2.882812 4.125 -3.125 C 3.820312 -3.363281 3.40625 -3.484375 2.875 -3.484375 L 2.015625 -3.484375 L 2.015625 -4.296875 L 2.90625 -4.296875 C 3.394531 -4.296875 3.765625 -4.394531 4.015625 -4.59375 C 4.273438 -4.789062 4.40625 -5.070312 4.40625 -5.4375 C 4.40625 -5.800781 4.269531 -6.082031 4 -6.28125 C 3.738281 -6.488281 3.363281 -6.59375 2.875 -6.59375 C 2.601562 -6.59375 2.3125 -6.5625 2 -6.5 C 1.6875 -6.445312 1.347656 -6.359375 0.984375 -6.234375 L 0.984375 -7.109375 C 1.359375 -7.210938 1.707031 -7.289062 2.03125 -7.34375 C 2.363281 -7.394531 2.671875 -7.421875 2.953125 -7.421875 C 3.703125 -7.421875 4.296875 -7.25 4.734375 -6.90625 C 5.171875 -6.570312 5.390625 -6.113281 5.390625 -5.53125 C 5.390625 -5.125 5.273438 -4.78125 5.046875 -4.5 C 4.816406 -4.226562 4.488281 -4.039062 4.0625 -3.9375 Z M 4.0625 -3.9375 \"/>\n",
       "</symbol>\n",
       "</g>\n",
       "</defs>\n",
       "<g id=\"surface32\">\n",
       "<rect x=\"0\" y=\"0\" width=\"700\" height=\"300\" style=\"fill:rgb(100%,100%,100%);fill-opacity:1;stroke:none;\"/>\n",
       "<path style=\"fill:none;stroke-width:1;stroke-linecap:butt;stroke-linejoin:miter;stroke:rgb(26.666667%,26.666667%,26.666667%);stroke-opacity:1;stroke-miterlimit:10;\" d=\"M 50 50 L 220.734375 50 \"/>\n",
       "<path style=\" stroke:none;fill-rule:nonzero;fill:rgb(26.666667%,26.666667%,26.666667%);fill-opacity:1;\" d=\"M 235 50 L 220.734375 54.636719 L 220.734375 45.363281 L 235 50 \"/>\n",
       "<path style=\"fill:none;stroke-width:1;stroke-linecap:butt;stroke-linejoin:miter;stroke:rgb(26.666667%,26.666667%,26.666667%);stroke-opacity:1;stroke-miterlimit:10;\" d=\"M 50 50 L 222.234375 107.410156 \"/>\n",
       "<path style=\" stroke:none;fill-rule:nonzero;fill:rgb(26.666667%,26.666667%,26.666667%);fill-opacity:1;\" d=\"M 235.769531 111.921875 L 220.769531 111.808594 L 223.703125 103.015625 L 235.769531 111.921875 \"/>\n",
       "<path style=\"fill:none;stroke-width:1;stroke-linecap:butt;stroke-linejoin:miter;stroke:rgb(26.666667%,26.666667%,26.666667%);stroke-opacity:1;stroke-miterlimit:10;\" d=\"M 50 116.667969 L 220.734375 116.667969 \"/>\n",
       "<path style=\" stroke:none;fill-rule:nonzero;fill:rgb(26.666667%,26.666667%,26.666667%);fill-opacity:1;\" d=\"M 235 116.667969 L 220.734375 121.300781 L 220.734375 112.03125 L 235 116.667969 \"/>\n",
       "<path style=\"fill:none;stroke-width:1;stroke-linecap:butt;stroke-linejoin:miter;stroke:rgb(26.666667%,26.666667%,26.666667%);stroke-opacity:1;stroke-miterlimit:10;\" d=\"M 50 50 L 225.648438 167.097656 \"/>\n",
       "<path style=\" stroke:none;fill-rule:nonzero;fill:rgb(26.666667%,26.666667%,26.666667%);fill-opacity:1;\" d=\"M 237.519531 175.011719 L 223.078125 170.957031 L 228.21875 163.242188 L 237.519531 175.011719 \"/>\n",
       "<path style=\"fill:none;stroke-width:1;stroke-linecap:butt;stroke-linejoin:miter;stroke:rgb(26.666667%,26.666667%,26.666667%);stroke-opacity:1;stroke-miterlimit:10;\" d=\"M 50 183.332031 L 220.734375 183.332031 \"/>\n",
       "<path style=\" stroke:none;fill-rule:nonzero;fill:rgb(26.666667%,26.666667%,26.666667%);fill-opacity:1;\" d=\"M 235 183.332031 L 220.734375 187.96875 L 220.734375 178.699219 L 235 183.332031 \"/>\n",
       "<path style=\"fill:none;stroke-width:1;stroke-linecap:butt;stroke-linejoin:miter;stroke:rgb(26.666667%,26.666667%,26.666667%);stroke-opacity:1;stroke-miterlimit:10;\" d=\"M 50 50 L 229.304688 229.304688 \"/>\n",
       "<path style=\" stroke:none;fill-rule:nonzero;fill:rgb(26.666667%,26.666667%,26.666667%);fill-opacity:1;\" d=\"M 239.394531 239.394531 L 226.027344 232.582031 L 232.582031 226.027344 L 239.394531 239.394531 \"/>\n",
       "<path style=\"fill:none;stroke-width:1;stroke-linecap:butt;stroke-linejoin:miter;stroke:rgb(26.666667%,26.666667%,26.666667%);stroke-opacity:1;stroke-miterlimit:10;\" d=\"M 50 250 L 220.734375 250 \"/>\n",
       "<path style=\" stroke:none;fill-rule:nonzero;fill:rgb(26.666667%,26.666667%,26.666667%);fill-opacity:1;\" d=\"M 235 250 L 220.734375 254.636719 L 220.734375 245.363281 L 235 250 \"/>\n",
       "<path style=\"fill:none;stroke-width:1;stroke-linecap:butt;stroke-linejoin:miter;stroke:rgb(26.666667%,26.666667%,26.666667%);stroke-opacity:1;stroke-miterlimit:10;\" d=\"M 50 116.667969 L 222.234375 59.253906 \"/>\n",
       "<path style=\" stroke:none;fill-rule:nonzero;fill:rgb(26.666667%,26.666667%,26.666667%);fill-opacity:1;\" d=\"M 235.769531 54.742188 L 223.703125 63.652344 L 220.769531 54.855469 L 235.769531 54.742188 \"/>\n",
       "<path style=\"fill:none;stroke-width:1;stroke-linecap:butt;stroke-linejoin:miter;stroke:rgb(26.666667%,26.666667%,26.666667%);stroke-opacity:1;stroke-miterlimit:10;\" d=\"M 50 116.667969 L 222.234375 174.078125 \"/>\n",
       "<path style=\" stroke:none;fill-rule:nonzero;fill:rgb(26.666667%,26.666667%,26.666667%);fill-opacity:1;\" d=\"M 235.769531 178.589844 L 220.769531 178.476562 L 223.703125 169.679688 L 235.769531 178.589844 \"/>\n",
       "<path style=\"fill:none;stroke-width:1;stroke-linecap:butt;stroke-linejoin:miter;stroke:rgb(26.666667%,26.666667%,26.666667%);stroke-opacity:1;stroke-miterlimit:10;\" d=\"M 250 50 L 420.734375 50 \"/>\n",
       "<path style=\" stroke:none;fill-rule:nonzero;fill:rgb(26.666667%,26.666667%,26.666667%);fill-opacity:1;\" d=\"M 435 50 L 420.734375 54.636719 L 420.734375 45.363281 L 435 50 \"/>\n",
       "<path style=\"fill:none;stroke-width:1;stroke-linecap:butt;stroke-linejoin:miter;stroke:rgb(26.666667%,26.666667%,26.666667%);stroke-opacity:1;stroke-miterlimit:10;\" d=\"M 250 50 L 422.234375 107.410156 \"/>\n",
       "<path style=\" stroke:none;fill-rule:nonzero;fill:rgb(26.666667%,26.666667%,26.666667%);fill-opacity:1;\" d=\"M 435.769531 111.921875 L 420.769531 111.808594 L 423.703125 103.015625 L 435.769531 111.921875 \"/>\n",
       "<path style=\"fill:none;stroke-width:1;stroke-linecap:butt;stroke-linejoin:miter;stroke:rgb(26.666667%,26.666667%,26.666667%);stroke-opacity:1;stroke-miterlimit:10;\" d=\"M 250 116.667969 L 420.734375 116.667969 \"/>\n",
       "<path style=\" stroke:none;fill-rule:nonzero;fill:rgb(26.666667%,26.666667%,26.666667%);fill-opacity:1;\" d=\"M 435 116.667969 L 420.734375 121.300781 L 420.734375 112.03125 L 435 116.667969 \"/>\n",
       "<path style=\"fill:none;stroke-width:1;stroke-linecap:butt;stroke-linejoin:miter;stroke:rgb(26.666667%,26.666667%,26.666667%);stroke-opacity:1;stroke-miterlimit:10;\" d=\"M 250 50 L 425.648438 167.097656 \"/>\n",
       "<path style=\" stroke:none;fill-rule:nonzero;fill:rgb(26.666667%,26.666667%,26.666667%);fill-opacity:1;\" d=\"M 437.519531 175.011719 L 423.078125 170.957031 L 428.21875 163.242188 L 437.519531 175.011719 \"/>\n",
       "<path style=\"fill:none;stroke-width:1;stroke-linecap:butt;stroke-linejoin:miter;stroke:rgb(26.666667%,26.666667%,26.666667%);stroke-opacity:1;stroke-miterlimit:10;\" d=\"M 250 183.332031 L 420.734375 183.332031 \"/>\n",
       "<path style=\" stroke:none;fill-rule:nonzero;fill:rgb(26.666667%,26.666667%,26.666667%);fill-opacity:1;\" d=\"M 435 183.332031 L 420.734375 187.96875 L 420.734375 178.699219 L 435 183.332031 \"/>\n",
       "<path style=\"fill:none;stroke-width:1;stroke-linecap:butt;stroke-linejoin:miter;stroke:rgb(26.666667%,26.666667%,26.666667%);stroke-opacity:1;stroke-miterlimit:10;\" d=\"M 250 50 L 429.304688 229.304688 \"/>\n",
       "<path style=\" stroke:none;fill-rule:nonzero;fill:rgb(26.666667%,26.666667%,26.666667%);fill-opacity:1;\" d=\"M 439.394531 239.394531 L 426.027344 232.582031 L 432.582031 226.027344 L 439.394531 239.394531 \"/>\n",
       "<path style=\"fill:none;stroke-width:1;stroke-linecap:butt;stroke-linejoin:miter;stroke:rgb(26.666667%,26.666667%,26.666667%);stroke-opacity:1;stroke-miterlimit:10;\" d=\"M 250 250 L 420.734375 250 \"/>\n",
       "<path style=\" stroke:none;fill-rule:nonzero;fill:rgb(26.666667%,26.666667%,26.666667%);fill-opacity:1;\" d=\"M 435 250 L 420.734375 254.636719 L 420.734375 245.363281 L 435 250 \"/>\n",
       "<path style=\"fill:none;stroke-width:1;stroke-linecap:butt;stroke-linejoin:miter;stroke:rgb(26.666667%,26.666667%,26.666667%);stroke-opacity:1;stroke-miterlimit:10;\" d=\"M 250 116.667969 L 422.234375 59.253906 \"/>\n",
       "<path style=\" stroke:none;fill-rule:nonzero;fill:rgb(26.666667%,26.666667%,26.666667%);fill-opacity:1;\" d=\"M 435.769531 54.742188 L 423.703125 63.652344 L 420.769531 54.855469 L 435.769531 54.742188 \"/>\n",
       "<path style=\"fill:none;stroke-width:1;stroke-linecap:butt;stroke-linejoin:miter;stroke:rgb(26.666667%,26.666667%,26.666667%);stroke-opacity:1;stroke-miterlimit:10;\" d=\"M 250 116.667969 L 422.234375 174.078125 \"/>\n",
       "<path style=\" stroke:none;fill-rule:nonzero;fill:rgb(26.666667%,26.666667%,26.666667%);fill-opacity:1;\" d=\"M 435.769531 178.589844 L 420.769531 178.476562 L 423.703125 169.679688 L 435.769531 178.589844 \"/>\n",
       "<path style=\"fill:none;stroke-width:1;stroke-linecap:butt;stroke-linejoin:miter;stroke:rgb(26.666667%,26.666667%,26.666667%);stroke-opacity:1;stroke-miterlimit:10;\" d=\"M 450 50 L 620.734375 50 \"/>\n",
       "<path style=\" stroke:none;fill-rule:nonzero;fill:rgb(26.666667%,26.666667%,26.666667%);fill-opacity:1;\" d=\"M 635 50 L 620.734375 54.636719 L 620.734375 45.363281 L 635 50 \"/>\n",
       "<path style=\"fill:none;stroke-width:1;stroke-linecap:butt;stroke-linejoin:miter;stroke:rgb(26.666667%,26.666667%,26.666667%);stroke-opacity:1;stroke-miterlimit:10;\" d=\"M 450 50 L 622.234375 107.410156 \"/>\n",
       "<path style=\" stroke:none;fill-rule:nonzero;fill:rgb(26.666667%,26.666667%,26.666667%);fill-opacity:1;\" d=\"M 635.769531 111.921875 L 620.769531 111.808594 L 623.703125 103.015625 L 635.769531 111.921875 \"/>\n",
       "<path style=\"fill:none;stroke-width:1;stroke-linecap:butt;stroke-linejoin:miter;stroke:rgb(26.666667%,26.666667%,26.666667%);stroke-opacity:1;stroke-miterlimit:10;\" d=\"M 450 116.667969 L 620.734375 116.667969 \"/>\n",
       "<path style=\" stroke:none;fill-rule:nonzero;fill:rgb(26.666667%,26.666667%,26.666667%);fill-opacity:1;\" d=\"M 635 116.667969 L 620.734375 121.300781 L 620.734375 112.03125 L 635 116.667969 \"/>\n",
       "<path style=\"fill:none;stroke-width:1;stroke-linecap:butt;stroke-linejoin:miter;stroke:rgb(26.666667%,26.666667%,26.666667%);stroke-opacity:1;stroke-miterlimit:10;\" d=\"M 450 50 L 625.648438 167.097656 \"/>\n",
       "<path style=\" stroke:none;fill-rule:nonzero;fill:rgb(26.666667%,26.666667%,26.666667%);fill-opacity:1;\" d=\"M 637.519531 175.011719 L 623.078125 170.957031 L 628.21875 163.242188 L 637.519531 175.011719 \"/>\n",
       "<path style=\"fill:none;stroke-width:1;stroke-linecap:butt;stroke-linejoin:miter;stroke:rgb(26.666667%,26.666667%,26.666667%);stroke-opacity:1;stroke-miterlimit:10;\" d=\"M 450 183.332031 L 620.734375 183.332031 \"/>\n",
       "<path style=\" stroke:none;fill-rule:nonzero;fill:rgb(26.666667%,26.666667%,26.666667%);fill-opacity:1;\" d=\"M 635 183.332031 L 620.734375 187.96875 L 620.734375 178.699219 L 635 183.332031 \"/>\n",
       "<path style=\"fill:none;stroke-width:1;stroke-linecap:butt;stroke-linejoin:miter;stroke:rgb(26.666667%,26.666667%,26.666667%);stroke-opacity:1;stroke-miterlimit:10;\" d=\"M 450 50 L 629.304688 229.304688 \"/>\n",
       "<path style=\" stroke:none;fill-rule:nonzero;fill:rgb(26.666667%,26.666667%,26.666667%);fill-opacity:1;\" d=\"M 639.394531 239.394531 L 626.027344 232.582031 L 632.582031 226.027344 L 639.394531 239.394531 \"/>\n",
       "<path style=\"fill:none;stroke-width:1;stroke-linecap:butt;stroke-linejoin:miter;stroke:rgb(26.666667%,26.666667%,26.666667%);stroke-opacity:1;stroke-miterlimit:10;\" d=\"M 450 250 L 620.734375 250 \"/>\n",
       "<path style=\" stroke:none;fill-rule:nonzero;fill:rgb(26.666667%,26.666667%,26.666667%);fill-opacity:1;\" d=\"M 635 250 L 620.734375 254.636719 L 620.734375 245.363281 L 635 250 \"/>\n",
       "<path style=\"fill:none;stroke-width:1;stroke-linecap:butt;stroke-linejoin:miter;stroke:rgb(26.666667%,26.666667%,26.666667%);stroke-opacity:1;stroke-miterlimit:10;\" d=\"M 450 116.667969 L 622.234375 59.253906 \"/>\n",
       "<path style=\" stroke:none;fill-rule:nonzero;fill:rgb(26.666667%,26.666667%,26.666667%);fill-opacity:1;\" d=\"M 635.769531 54.742188 L 623.703125 63.652344 L 620.769531 54.855469 L 635.769531 54.742188 \"/>\n",
       "<path style=\"fill:none;stroke-width:1;stroke-linecap:butt;stroke-linejoin:miter;stroke:rgb(26.666667%,26.666667%,26.666667%);stroke-opacity:1;stroke-miterlimit:10;\" d=\"M 450 116.667969 L 622.234375 174.078125 \"/>\n",
       "<path style=\" stroke:none;fill-rule:nonzero;fill:rgb(26.666667%,26.666667%,26.666667%);fill-opacity:1;\" d=\"M 635.769531 178.589844 L 620.769531 178.476562 L 623.703125 169.679688 L 635.769531 178.589844 \"/>\n",
       "<path style=\"fill-rule:nonzero;fill:rgb(55.294118%,82.745098%,78.039216%);fill-opacity:1;stroke-width:1;stroke-linecap:butt;stroke-linejoin:miter;stroke:rgb(0%,0%,0%);stroke-opacity:1;stroke-miterlimit:10;\" d=\"M 65 50 C 65 58.285156 58.285156 65 50 65 C 41.714844 65 35 58.285156 35 50 C 35 41.714844 41.714844 35 50 35 C 58.285156 35 65 41.714844 65 50 \"/>\n",
       "<path style=\"fill-rule:nonzero;fill:rgb(100%,100%,70.196078%);fill-opacity:1;stroke-width:1;stroke-linecap:butt;stroke-linejoin:miter;stroke:rgb(0%,0%,0%);stroke-opacity:1;stroke-miterlimit:10;\" d=\"M 65 116.667969 C 65 124.949219 58.285156 131.667969 50 131.667969 C 41.714844 131.667969 35 124.949219 35 116.667969 C 35 108.382812 41.714844 101.667969 50 101.667969 C 58.285156 101.667969 65 108.382812 65 116.667969 \"/>\n",
       "<path style=\"fill-rule:nonzero;fill:rgb(74.509804%,72.941176%,85.490196%);fill-opacity:1;stroke-width:1;stroke-linecap:butt;stroke-linejoin:miter;stroke:rgb(0%,0%,0%);stroke-opacity:1;stroke-miterlimit:10;\" d=\"M 65 183.332031 C 65 191.617188 58.285156 198.332031 50 198.332031 C 41.714844 198.332031 35 191.617188 35 183.332031 C 35 175.050781 41.714844 168.332031 50 168.332031 C 58.285156 168.332031 65 175.050781 65 183.332031 \"/>\n",
       "<path style=\"fill-rule:nonzero;fill:rgb(98.431373%,50.196078%,44.705882%);fill-opacity:1;stroke-width:1;stroke-linecap:butt;stroke-linejoin:miter;stroke:rgb(0%,0%,0%);stroke-opacity:1;stroke-miterlimit:10;\" d=\"M 65 250 C 65 258.285156 58.285156 265 50 265 C 41.714844 265 35 258.285156 35 250 C 35 241.714844 41.714844 235 50 235 C 58.285156 235 65 241.714844 65 250 \"/>\n",
       "<path style=\"fill-rule:nonzero;fill:rgb(55.294118%,82.745098%,78.039216%);fill-opacity:1;stroke-width:1;stroke-linecap:butt;stroke-linejoin:miter;stroke:rgb(0%,0%,0%);stroke-opacity:1;stroke-miterlimit:10;\" d=\"M 265 50 C 265 58.285156 258.285156 65 250 65 C 241.714844 65 235 58.285156 235 50 C 235 41.714844 241.714844 35 250 35 C 258.285156 35 265 41.714844 265 50 \"/>\n",
       "<path style=\"fill-rule:nonzero;fill:rgb(100%,100%,70.196078%);fill-opacity:1;stroke-width:1;stroke-linecap:butt;stroke-linejoin:miter;stroke:rgb(0%,0%,0%);stroke-opacity:1;stroke-miterlimit:10;\" d=\"M 265 116.667969 C 265 124.949219 258.285156 131.667969 250 131.667969 C 241.714844 131.667969 235 124.949219 235 116.667969 C 235 108.382812 241.714844 101.667969 250 101.667969 C 258.285156 101.667969 265 108.382812 265 116.667969 \"/>\n",
       "<path style=\"fill-rule:nonzero;fill:rgb(74.509804%,72.941176%,85.490196%);fill-opacity:1;stroke-width:1;stroke-linecap:butt;stroke-linejoin:miter;stroke:rgb(0%,0%,0%);stroke-opacity:1;stroke-miterlimit:10;\" d=\"M 265 183.332031 C 265 191.617188 258.285156 198.332031 250 198.332031 C 241.714844 198.332031 235 191.617188 235 183.332031 C 235 175.050781 241.714844 168.332031 250 168.332031 C 258.285156 168.332031 265 175.050781 265 183.332031 \"/>\n",
       "<path style=\"fill-rule:nonzero;fill:rgb(98.431373%,50.196078%,44.705882%);fill-opacity:1;stroke-width:1;stroke-linecap:butt;stroke-linejoin:miter;stroke:rgb(0%,0%,0%);stroke-opacity:1;stroke-miterlimit:10;\" d=\"M 265 250 C 265 258.285156 258.285156 265 250 265 C 241.714844 265 235 258.285156 235 250 C 235 241.714844 241.714844 235 250 235 C 258.285156 235 265 241.714844 265 250 \"/>\n",
       "<path style=\"fill-rule:nonzero;fill:rgb(55.294118%,82.745098%,78.039216%);fill-opacity:1;stroke-width:1;stroke-linecap:butt;stroke-linejoin:miter;stroke:rgb(0%,0%,0%);stroke-opacity:1;stroke-miterlimit:10;\" d=\"M 465 50 C 465 58.285156 458.285156 65 450 65 C 441.714844 65 435 58.285156 435 50 C 435 41.714844 441.714844 35 450 35 C 458.285156 35 465 41.714844 465 50 \"/>\n",
       "<path style=\"fill-rule:nonzero;fill:rgb(100%,100%,70.196078%);fill-opacity:1;stroke-width:1;stroke-linecap:butt;stroke-linejoin:miter;stroke:rgb(0%,0%,0%);stroke-opacity:1;stroke-miterlimit:10;\" d=\"M 465 116.667969 C 465 124.949219 458.285156 131.667969 450 131.667969 C 441.714844 131.667969 435 124.949219 435 116.667969 C 435 108.382812 441.714844 101.667969 450 101.667969 C 458.285156 101.667969 465 108.382812 465 116.667969 \"/>\n",
       "<path style=\"fill-rule:nonzero;fill:rgb(74.509804%,72.941176%,85.490196%);fill-opacity:1;stroke-width:1;stroke-linecap:butt;stroke-linejoin:miter;stroke:rgb(0%,0%,0%);stroke-opacity:1;stroke-miterlimit:10;\" d=\"M 465 183.332031 C 465 191.617188 458.285156 198.332031 450 198.332031 C 441.714844 198.332031 435 191.617188 435 183.332031 C 435 175.050781 441.714844 168.332031 450 168.332031 C 458.285156 168.332031 465 175.050781 465 183.332031 \"/>\n",
       "<path style=\"fill-rule:nonzero;fill:rgb(98.431373%,50.196078%,44.705882%);fill-opacity:1;stroke-width:1;stroke-linecap:butt;stroke-linejoin:miter;stroke:rgb(0%,0%,0%);stroke-opacity:1;stroke-miterlimit:10;\" d=\"M 465 250 C 465 258.285156 458.285156 265 450 265 C 441.714844 265 435 258.285156 435 250 C 435 241.714844 441.714844 235 450 235 C 458.285156 235 465 241.714844 465 250 \"/>\n",
       "<path style=\"fill-rule:nonzero;fill:rgb(55.294118%,82.745098%,78.039216%);fill-opacity:1;stroke-width:1;stroke-linecap:butt;stroke-linejoin:miter;stroke:rgb(0%,0%,0%);stroke-opacity:1;stroke-miterlimit:10;\" d=\"M 665 50 C 665 58.285156 658.285156 65 650 65 C 641.714844 65 635 58.285156 635 50 C 635 41.714844 641.714844 35 650 35 C 658.285156 35 665 41.714844 665 50 \"/>\n",
       "<path style=\"fill-rule:nonzero;fill:rgb(100%,100%,70.196078%);fill-opacity:1;stroke-width:1;stroke-linecap:butt;stroke-linejoin:miter;stroke:rgb(0%,0%,0%);stroke-opacity:1;stroke-miterlimit:10;\" d=\"M 665 116.667969 C 665 124.949219 658.285156 131.667969 650 131.667969 C 641.714844 131.667969 635 124.949219 635 116.667969 C 635 108.382812 641.714844 101.667969 650 101.667969 C 658.285156 101.667969 665 108.382812 665 116.667969 \"/>\n",
       "<path style=\"fill-rule:nonzero;fill:rgb(74.509804%,72.941176%,85.490196%);fill-opacity:1;stroke-width:1;stroke-linecap:butt;stroke-linejoin:miter;stroke:rgb(0%,0%,0%);stroke-opacity:1;stroke-miterlimit:10;\" d=\"M 665 183.332031 C 665 191.617188 658.285156 198.332031 650 198.332031 C 641.714844 198.332031 635 191.617188 635 183.332031 C 635 175.050781 641.714844 168.332031 650 168.332031 C 658.285156 168.332031 665 175.050781 665 183.332031 \"/>\n",
       "<path style=\"fill-rule:nonzero;fill:rgb(98.431373%,50.196078%,44.705882%);fill-opacity:1;stroke-width:1;stroke-linecap:butt;stroke-linejoin:miter;stroke:rgb(0%,0%,0%);stroke-opacity:1;stroke-miterlimit:10;\" d=\"M 665 250 C 665 258.285156 658.285156 265 650 265 C 641.714844 265 635 258.285156 635 250 C 635 241.714844 641.714844 235 650 235 C 658.285156 235 665 241.714844 665 250 \"/>\n",
       "<g style=\"fill:rgb(0%,0%,0%);fill-opacity:1;\">\n",
       "  <use xlink:href=\"#glyph0-1\" x=\"36.558594\" y=\"54.972656\"/>\n",
       "  <use xlink:href=\"#glyph0-2\" x=\"40.459961\" y=\"54.972656\"/>\n",
       "  <use xlink:href=\"#glyph0-3\" x=\"46.822266\" y=\"54.972656\"/>\n",
       "  <use xlink:href=\"#glyph0-4\" x=\"50.000977\" y=\"54.972656\"/>\n",
       "  <use xlink:href=\"#glyph0-2\" x=\"53.179688\" y=\"54.972656\"/>\n",
       "  <use xlink:href=\"#glyph0-5\" x=\"59.541992\" y=\"54.972656\"/>\n",
       "</g>\n",
       "<g style=\"fill:rgb(0%,0%,0%);fill-opacity:1;\">\n",
       "  <use xlink:href=\"#glyph0-1\" x=\"36.558594\" y=\"121.640625\"/>\n",
       "  <use xlink:href=\"#glyph0-2\" x=\"40.459961\" y=\"121.640625\"/>\n",
       "  <use xlink:href=\"#glyph0-3\" x=\"46.822266\" y=\"121.640625\"/>\n",
       "  <use xlink:href=\"#glyph0-4\" x=\"50.000977\" y=\"121.640625\"/>\n",
       "  <use xlink:href=\"#glyph0-6\" x=\"53.179688\" y=\"121.640625\"/>\n",
       "  <use xlink:href=\"#glyph0-5\" x=\"59.541992\" y=\"121.640625\"/>\n",
       "</g>\n",
       "<g style=\"fill:rgb(0%,0%,0%);fill-opacity:1;\">\n",
       "  <use xlink:href=\"#glyph0-1\" x=\"36.558594\" y=\"188.304688\"/>\n",
       "  <use xlink:href=\"#glyph0-2\" x=\"40.459961\" y=\"188.304688\"/>\n",
       "  <use xlink:href=\"#glyph0-3\" x=\"46.822266\" y=\"188.304688\"/>\n",
       "  <use xlink:href=\"#glyph0-4\" x=\"50.000977\" y=\"188.304688\"/>\n",
       "  <use xlink:href=\"#glyph0-7\" x=\"53.179688\" y=\"188.304688\"/>\n",
       "  <use xlink:href=\"#glyph0-5\" x=\"59.541992\" y=\"188.304688\"/>\n",
       "</g>\n",
       "<g style=\"fill:rgb(0%,0%,0%);fill-opacity:1;\">\n",
       "  <use xlink:href=\"#glyph0-1\" x=\"36.558594\" y=\"254.972656\"/>\n",
       "  <use xlink:href=\"#glyph0-2\" x=\"40.459961\" y=\"254.972656\"/>\n",
       "  <use xlink:href=\"#glyph0-3\" x=\"46.822266\" y=\"254.972656\"/>\n",
       "  <use xlink:href=\"#glyph0-4\" x=\"50.000977\" y=\"254.972656\"/>\n",
       "  <use xlink:href=\"#glyph0-8\" x=\"53.179688\" y=\"254.972656\"/>\n",
       "  <use xlink:href=\"#glyph0-5\" x=\"59.541992\" y=\"254.972656\"/>\n",
       "</g>\n",
       "<g style=\"fill:rgb(0%,0%,0%);fill-opacity:1;\">\n",
       "  <use xlink:href=\"#glyph0-1\" x=\"236.558594\" y=\"54.972656\"/>\n",
       "  <use xlink:href=\"#glyph0-6\" x=\"240.459961\" y=\"54.972656\"/>\n",
       "  <use xlink:href=\"#glyph0-3\" x=\"246.822266\" y=\"54.972656\"/>\n",
       "  <use xlink:href=\"#glyph0-4\" x=\"250.000977\" y=\"54.972656\"/>\n",
       "  <use xlink:href=\"#glyph0-2\" x=\"253.179688\" y=\"54.972656\"/>\n",
       "  <use xlink:href=\"#glyph0-5\" x=\"259.541992\" y=\"54.972656\"/>\n",
       "</g>\n",
       "<g style=\"fill:rgb(0%,0%,0%);fill-opacity:1;\">\n",
       "  <use xlink:href=\"#glyph0-1\" x=\"236.558594\" y=\"121.640625\"/>\n",
       "  <use xlink:href=\"#glyph0-6\" x=\"240.459961\" y=\"121.640625\"/>\n",
       "  <use xlink:href=\"#glyph0-3\" x=\"246.822266\" y=\"121.640625\"/>\n",
       "  <use xlink:href=\"#glyph0-4\" x=\"250.000977\" y=\"121.640625\"/>\n",
       "  <use xlink:href=\"#glyph0-6\" x=\"253.179688\" y=\"121.640625\"/>\n",
       "  <use xlink:href=\"#glyph0-5\" x=\"259.541992\" y=\"121.640625\"/>\n",
       "</g>\n",
       "<g style=\"fill:rgb(0%,0%,0%);fill-opacity:1;\">\n",
       "  <use xlink:href=\"#glyph0-1\" x=\"236.558594\" y=\"188.304688\"/>\n",
       "  <use xlink:href=\"#glyph0-6\" x=\"240.459961\" y=\"188.304688\"/>\n",
       "  <use xlink:href=\"#glyph0-3\" x=\"246.822266\" y=\"188.304688\"/>\n",
       "  <use xlink:href=\"#glyph0-4\" x=\"250.000977\" y=\"188.304688\"/>\n",
       "  <use xlink:href=\"#glyph0-7\" x=\"253.179688\" y=\"188.304688\"/>\n",
       "  <use xlink:href=\"#glyph0-5\" x=\"259.541992\" y=\"188.304688\"/>\n",
       "</g>\n",
       "<g style=\"fill:rgb(0%,0%,0%);fill-opacity:1;\">\n",
       "  <use xlink:href=\"#glyph0-1\" x=\"236.558594\" y=\"254.972656\"/>\n",
       "  <use xlink:href=\"#glyph0-6\" x=\"240.459961\" y=\"254.972656\"/>\n",
       "  <use xlink:href=\"#glyph0-3\" x=\"246.822266\" y=\"254.972656\"/>\n",
       "  <use xlink:href=\"#glyph0-4\" x=\"250.000977\" y=\"254.972656\"/>\n",
       "  <use xlink:href=\"#glyph0-8\" x=\"253.179688\" y=\"254.972656\"/>\n",
       "  <use xlink:href=\"#glyph0-5\" x=\"259.541992\" y=\"254.972656\"/>\n",
       "</g>\n",
       "<g style=\"fill:rgb(0%,0%,0%);fill-opacity:1;\">\n",
       "  <use xlink:href=\"#glyph0-1\" x=\"436.558594\" y=\"54.972656\"/>\n",
       "  <use xlink:href=\"#glyph0-7\" x=\"440.459961\" y=\"54.972656\"/>\n",
       "  <use xlink:href=\"#glyph0-3\" x=\"446.822266\" y=\"54.972656\"/>\n",
       "  <use xlink:href=\"#glyph0-4\" x=\"450.000977\" y=\"54.972656\"/>\n",
       "  <use xlink:href=\"#glyph0-2\" x=\"453.179688\" y=\"54.972656\"/>\n",
       "  <use xlink:href=\"#glyph0-5\" x=\"459.541992\" y=\"54.972656\"/>\n",
       "</g>\n",
       "<g style=\"fill:rgb(0%,0%,0%);fill-opacity:1;\">\n",
       "  <use xlink:href=\"#glyph0-1\" x=\"436.558594\" y=\"121.640625\"/>\n",
       "  <use xlink:href=\"#glyph0-7\" x=\"440.459961\" y=\"121.640625\"/>\n",
       "  <use xlink:href=\"#glyph0-3\" x=\"446.822266\" y=\"121.640625\"/>\n",
       "  <use xlink:href=\"#glyph0-4\" x=\"450.000977\" y=\"121.640625\"/>\n",
       "  <use xlink:href=\"#glyph0-6\" x=\"453.179688\" y=\"121.640625\"/>\n",
       "  <use xlink:href=\"#glyph0-5\" x=\"459.541992\" y=\"121.640625\"/>\n",
       "</g>\n",
       "<g style=\"fill:rgb(0%,0%,0%);fill-opacity:1;\">\n",
       "  <use xlink:href=\"#glyph0-1\" x=\"436.558594\" y=\"188.304688\"/>\n",
       "  <use xlink:href=\"#glyph0-7\" x=\"440.459961\" y=\"188.304688\"/>\n",
       "  <use xlink:href=\"#glyph0-3\" x=\"446.822266\" y=\"188.304688\"/>\n",
       "  <use xlink:href=\"#glyph0-4\" x=\"450.000977\" y=\"188.304688\"/>\n",
       "  <use xlink:href=\"#glyph0-7\" x=\"453.179688\" y=\"188.304688\"/>\n",
       "  <use xlink:href=\"#glyph0-5\" x=\"459.541992\" y=\"188.304688\"/>\n",
       "</g>\n",
       "<g style=\"fill:rgb(0%,0%,0%);fill-opacity:1;\">\n",
       "  <use xlink:href=\"#glyph0-1\" x=\"436.558594\" y=\"254.972656\"/>\n",
       "  <use xlink:href=\"#glyph0-7\" x=\"440.459961\" y=\"254.972656\"/>\n",
       "  <use xlink:href=\"#glyph0-3\" x=\"446.822266\" y=\"254.972656\"/>\n",
       "  <use xlink:href=\"#glyph0-4\" x=\"450.000977\" y=\"254.972656\"/>\n",
       "  <use xlink:href=\"#glyph0-8\" x=\"453.179688\" y=\"254.972656\"/>\n",
       "  <use xlink:href=\"#glyph0-5\" x=\"459.541992\" y=\"254.972656\"/>\n",
       "</g>\n",
       "<g style=\"fill:rgb(0%,0%,0%);fill-opacity:1;\">\n",
       "  <use xlink:href=\"#glyph0-1\" x=\"636.558594\" y=\"54.972656\"/>\n",
       "  <use xlink:href=\"#glyph0-8\" x=\"640.459961\" y=\"54.972656\"/>\n",
       "  <use xlink:href=\"#glyph0-3\" x=\"646.822266\" y=\"54.972656\"/>\n",
       "  <use xlink:href=\"#glyph0-4\" x=\"650.000977\" y=\"54.972656\"/>\n",
       "  <use xlink:href=\"#glyph0-2\" x=\"653.179688\" y=\"54.972656\"/>\n",
       "  <use xlink:href=\"#glyph0-5\" x=\"659.541992\" y=\"54.972656\"/>\n",
       "</g>\n",
       "<g style=\"fill:rgb(0%,0%,0%);fill-opacity:1;\">\n",
       "  <use xlink:href=\"#glyph0-1\" x=\"636.558594\" y=\"121.640625\"/>\n",
       "  <use xlink:href=\"#glyph0-8\" x=\"640.459961\" y=\"121.640625\"/>\n",
       "  <use xlink:href=\"#glyph0-3\" x=\"646.822266\" y=\"121.640625\"/>\n",
       "  <use xlink:href=\"#glyph0-4\" x=\"650.000977\" y=\"121.640625\"/>\n",
       "  <use xlink:href=\"#glyph0-6\" x=\"653.179688\" y=\"121.640625\"/>\n",
       "  <use xlink:href=\"#glyph0-5\" x=\"659.541992\" y=\"121.640625\"/>\n",
       "</g>\n",
       "<g style=\"fill:rgb(0%,0%,0%);fill-opacity:1;\">\n",
       "  <use xlink:href=\"#glyph0-1\" x=\"636.558594\" y=\"188.304688\"/>\n",
       "  <use xlink:href=\"#glyph0-8\" x=\"640.459961\" y=\"188.304688\"/>\n",
       "  <use xlink:href=\"#glyph0-3\" x=\"646.822266\" y=\"188.304688\"/>\n",
       "  <use xlink:href=\"#glyph0-4\" x=\"650.000977\" y=\"188.304688\"/>\n",
       "  <use xlink:href=\"#glyph0-7\" x=\"653.179688\" y=\"188.304688\"/>\n",
       "  <use xlink:href=\"#glyph0-5\" x=\"659.541992\" y=\"188.304688\"/>\n",
       "</g>\n",
       "<g style=\"fill:rgb(0%,0%,0%);fill-opacity:1;\">\n",
       "  <use xlink:href=\"#glyph0-1\" x=\"636.558594\" y=\"254.972656\"/>\n",
       "  <use xlink:href=\"#glyph0-8\" x=\"640.459961\" y=\"254.972656\"/>\n",
       "  <use xlink:href=\"#glyph0-3\" x=\"646.822266\" y=\"254.972656\"/>\n",
       "  <use xlink:href=\"#glyph0-4\" x=\"650.000977\" y=\"254.972656\"/>\n",
       "  <use xlink:href=\"#glyph0-8\" x=\"653.179688\" y=\"254.972656\"/>\n",
       "  <use xlink:href=\"#glyph0-5\" x=\"659.541992\" y=\"254.972656\"/>\n",
       "</g>\n",
       "</g>\n",
       "</svg>\n"
      ],
      "text/plain": [
       "<igraph.drawing.Plot at 0x7f2b150f2908>"
      ]
     },
     "execution_count": 61,
     "metadata": {
      "image/svg+xml": {
       "isolated": true
      }
     },
     "output_type": "execute_result"
    }
   ],
   "source": [
    "tug = util.build_time_unfolded_graph(g, eoh=eoh)\n",
    "\n",
    "#util.display_graph(tug)\n",
    "ig.plot(tug, **util.get_visual_style(tug), bbox=(700, 300), margin=50)"
   ]
  },
  {
   "cell_type": "code",
   "execution_count": 62,
   "metadata": {},
   "outputs": [
    {
     "data": {
      "image/svg+xml": [
       "<?xml version=\"1.0\" encoding=\"UTF-8\"?>\n",
       "<svg xmlns=\"http://www.w3.org/2000/svg\" xmlns:xlink=\"http://www.w3.org/1999/xlink\" width=\"700pt\" height=\"300pt\" viewBox=\"0 0 700 300\" version=\"1.1\">\n",
       "<defs>\n",
       "<g>\n",
       "<symbol overflow=\"visible\" id=\"glyph0-0\">\n",
       "<path style=\"stroke:none;\" d=\"M 0.5 1.765625 L 0.5 -7.046875 L 5.5 -7.046875 L 5.5 1.765625 Z M 1.0625 1.21875 L 4.9375 1.21875 L 4.9375 -6.484375 L 1.0625 -6.484375 Z M 1.0625 1.21875 \"/>\n",
       "</symbol>\n",
       "<symbol overflow=\"visible\" id=\"glyph0-1\">\n",
       "<path style=\"stroke:none;\" d=\"M 3.09375 -7.59375 C 2.664062 -6.84375 2.34375 -6.097656 2.125 -5.359375 C 1.914062 -4.628906 1.8125 -3.890625 1.8125 -3.140625 C 1.8125 -2.390625 1.914062 -1.644531 2.125 -0.90625 C 2.34375 -0.164062 2.664062 0.570312 3.09375 1.3125 L 2.3125 1.3125 C 1.832031 0.550781 1.46875 -0.195312 1.21875 -0.9375 C 0.976562 -1.675781 0.859375 -2.410156 0.859375 -3.140625 C 0.859375 -3.867188 0.976562 -4.597656 1.21875 -5.328125 C 1.457031 -6.066406 1.820312 -6.820312 2.3125 -7.59375 Z M 3.09375 -7.59375 \"/>\n",
       "</symbol>\n",
       "<symbol overflow=\"visible\" id=\"glyph0-2\">\n",
       "<path style=\"stroke:none;\" d=\"M 3.171875 -6.640625 C 2.671875 -6.640625 2.289062 -6.390625 2.03125 -5.890625 C 1.78125 -5.390625 1.65625 -4.640625 1.65625 -3.640625 C 1.65625 -2.640625 1.78125 -1.890625 2.03125 -1.390625 C 2.289062 -0.890625 2.671875 -0.640625 3.171875 -0.640625 C 3.691406 -0.640625 4.078125 -0.890625 4.328125 -1.390625 C 4.585938 -1.890625 4.71875 -2.640625 4.71875 -3.640625 C 4.71875 -4.640625 4.585938 -5.390625 4.328125 -5.890625 C 4.078125 -6.390625 3.691406 -6.640625 3.171875 -6.640625 Z M 3.171875 -7.421875 C 3.992188 -7.421875 4.617188 -7.097656 5.046875 -6.453125 C 5.484375 -5.804688 5.703125 -4.867188 5.703125 -3.640625 C 5.703125 -2.410156 5.484375 -1.472656 5.046875 -0.828125 C 4.617188 -0.179688 3.992188 0.140625 3.171875 0.140625 C 2.359375 0.140625 1.734375 -0.179688 1.296875 -0.828125 C 0.867188 -1.472656 0.65625 -2.410156 0.65625 -3.640625 C 0.65625 -4.867188 0.867188 -5.804688 1.296875 -6.453125 C 1.734375 -7.097656 2.359375 -7.421875 3.171875 -7.421875 Z M 3.171875 -7.421875 \"/>\n",
       "</symbol>\n",
       "<symbol overflow=\"visible\" id=\"glyph0-3\">\n",
       "<path style=\"stroke:none;\" d=\"M 1.171875 -1.234375 L 2.203125 -1.234375 L 2.203125 -0.40625 L 1.40625 1.15625 L 0.765625 1.15625 L 1.171875 -0.40625 Z M 1.171875 -1.234375 \"/>\n",
       "</symbol>\n",
       "<symbol overflow=\"visible\" id=\"glyph0-4\">\n",
       "<path style=\"stroke:none;\" d=\"\"/>\n",
       "</symbol>\n",
       "<symbol overflow=\"visible\" id=\"glyph0-5\">\n",
       "<path style=\"stroke:none;\" d=\"M 0.796875 -7.59375 L 1.578125 -7.59375 C 2.066406 -6.820312 2.429688 -6.066406 2.671875 -5.328125 C 2.921875 -4.597656 3.046875 -3.867188 3.046875 -3.140625 C 3.046875 -2.410156 2.921875 -1.675781 2.671875 -0.9375 C 2.429688 -0.195312 2.066406 0.550781 1.578125 1.3125 L 0.796875 1.3125 C 1.234375 0.570312 1.554688 -0.164062 1.765625 -0.90625 C 1.984375 -1.644531 2.09375 -2.390625 2.09375 -3.140625 C 2.09375 -3.890625 1.984375 -4.628906 1.765625 -5.359375 C 1.554688 -6.097656 1.234375 -6.84375 0.796875 -7.59375 Z M 0.796875 -7.59375 \"/>\n",
       "</symbol>\n",
       "<symbol overflow=\"visible\" id=\"glyph0-6\">\n",
       "<path style=\"stroke:none;\" d=\"M 1.234375 -0.828125 L 2.859375 -0.828125 L 2.859375 -6.390625 L 1.09375 -6.046875 L 1.09375 -6.9375 L 2.84375 -7.296875 L 3.828125 -7.296875 L 3.828125 -0.828125 L 5.4375 -0.828125 L 5.4375 0 L 1.234375 0 Z M 1.234375 -0.828125 \"/>\n",
       "</symbol>\n",
       "<symbol overflow=\"visible\" id=\"glyph0-7\">\n",
       "<path style=\"stroke:none;\" d=\"M 1.921875 -0.828125 L 5.359375 -0.828125 L 5.359375 0 L 0.734375 0 L 0.734375 -0.828125 C 1.109375 -1.210938 1.617188 -1.734375 2.265625 -2.390625 C 2.910156 -3.046875 3.316406 -3.46875 3.484375 -3.65625 C 3.796875 -4.007812 4.015625 -4.304688 4.140625 -4.546875 C 4.265625 -4.796875 4.328125 -5.039062 4.328125 -5.28125 C 4.328125 -5.664062 4.191406 -5.976562 3.921875 -6.21875 C 3.648438 -6.46875 3.296875 -6.59375 2.859375 -6.59375 C 2.546875 -6.59375 2.21875 -6.535156 1.875 -6.421875 C 1.539062 -6.316406 1.175781 -6.15625 0.78125 -5.9375 L 0.78125 -6.9375 C 1.175781 -7.09375 1.546875 -7.210938 1.890625 -7.296875 C 2.234375 -7.378906 2.550781 -7.421875 2.84375 -7.421875 C 3.59375 -7.421875 4.191406 -7.234375 4.640625 -6.859375 C 5.097656 -6.484375 5.328125 -5.976562 5.328125 -5.34375 C 5.328125 -5.039062 5.269531 -4.753906 5.15625 -4.484375 C 5.039062 -4.222656 4.835938 -3.910156 4.546875 -3.546875 C 4.460938 -3.453125 4.203125 -3.175781 3.765625 -2.71875 C 3.328125 -2.269531 2.710938 -1.640625 1.921875 -0.828125 Z M 1.921875 -0.828125 \"/>\n",
       "</symbol>\n",
       "<symbol overflow=\"visible\" id=\"glyph0-8\">\n",
       "<path style=\"stroke:none;\" d=\"M 4.0625 -3.9375 C 4.53125 -3.832031 4.894531 -3.617188 5.15625 -3.296875 C 5.425781 -2.984375 5.5625 -2.59375 5.5625 -2.125 C 5.5625 -1.40625 5.3125 -0.847656 4.8125 -0.453125 C 4.320312 -0.0546875 3.617188 0.140625 2.703125 0.140625 C 2.398438 0.140625 2.085938 0.109375 1.765625 0.046875 C 1.441406 -0.015625 1.109375 -0.101562 0.765625 -0.21875 L 0.765625 -1.171875 C 1.035156 -1.015625 1.332031 -0.894531 1.65625 -0.8125 C 1.988281 -0.726562 2.332031 -0.6875 2.6875 -0.6875 C 3.300781 -0.6875 3.769531 -0.804688 4.09375 -1.046875 C 4.414062 -1.296875 4.578125 -1.65625 4.578125 -2.125 C 4.578125 -2.550781 4.425781 -2.882812 4.125 -3.125 C 3.820312 -3.363281 3.40625 -3.484375 2.875 -3.484375 L 2.015625 -3.484375 L 2.015625 -4.296875 L 2.90625 -4.296875 C 3.394531 -4.296875 3.765625 -4.394531 4.015625 -4.59375 C 4.273438 -4.789062 4.40625 -5.070312 4.40625 -5.4375 C 4.40625 -5.800781 4.269531 -6.082031 4 -6.28125 C 3.738281 -6.488281 3.363281 -6.59375 2.875 -6.59375 C 2.601562 -6.59375 2.3125 -6.5625 2 -6.5 C 1.6875 -6.445312 1.347656 -6.359375 0.984375 -6.234375 L 0.984375 -7.109375 C 1.359375 -7.210938 1.707031 -7.289062 2.03125 -7.34375 C 2.363281 -7.394531 2.671875 -7.421875 2.953125 -7.421875 C 3.703125 -7.421875 4.296875 -7.25 4.734375 -6.90625 C 5.171875 -6.570312 5.390625 -6.113281 5.390625 -5.53125 C 5.390625 -5.125 5.273438 -4.78125 5.046875 -4.5 C 4.816406 -4.226562 4.488281 -4.039062 4.0625 -3.9375 Z M 4.0625 -3.9375 \"/>\n",
       "</symbol>\n",
       "</g>\n",
       "</defs>\n",
       "<g id=\"surface38\">\n",
       "<rect x=\"0\" y=\"0\" width=\"700\" height=\"300\" style=\"fill:rgb(100%,100%,100%);fill-opacity:1;stroke:none;\"/>\n",
       "<path style=\"fill:none;stroke-width:2.263155;stroke-linecap:butt;stroke-linejoin:miter;stroke:rgb(0%,0%,0%);stroke-opacity:1;stroke-miterlimit:10;\" d=\"M 50 50 L 220.734375 50 \"/>\n",
       "<path style=\" stroke:none;fill-rule:nonzero;fill:rgb(0%,0%,0%);fill-opacity:1;\" d=\"M 235 50 L 220.734375 54.636719 L 220.734375 45.363281 L 235 50 \"/>\n",
       "<path style=\"fill:none;stroke-width:2.226348;stroke-linecap:butt;stroke-linejoin:miter;stroke:rgb(0%,0%,0%);stroke-opacity:1;stroke-miterlimit:10;\" d=\"M 50 50 L 222.234375 107.410156 \"/>\n",
       "<path style=\" stroke:none;fill-rule:nonzero;fill:rgb(0%,0%,0%);fill-opacity:1;\" d=\"M 235.769531 111.921875 L 220.769531 111.808594 L 223.703125 103.015625 L 235.769531 111.921875 \"/>\n",
       "<path style=\"fill:none;stroke-width:1;stroke-linecap:butt;stroke-linejoin:miter;stroke:rgb(73.333333%,73.333333%,73.333333%);stroke-opacity:1;stroke-miterlimit:10;\" d=\"M 50 116.667969 L 220.734375 116.667969 \"/>\n",
       "<path style=\" stroke:none;fill-rule:nonzero;fill:rgb(73.333333%,73.333333%,73.333333%);fill-opacity:1;\" d=\"M 235 116.667969 L 220.734375 121.300781 L 220.734375 112.03125 L 235 116.667969 \"/>\n",
       "<path style=\"fill:none;stroke-width:1;stroke-linecap:butt;stroke-linejoin:miter;stroke:rgb(73.333333%,73.333333%,73.333333%);stroke-opacity:1;stroke-miterlimit:10;\" d=\"M 50 50 L 225.648438 167.097656 \"/>\n",
       "<path style=\" stroke:none;fill-rule:nonzero;fill:rgb(73.333333%,73.333333%,73.333333%);fill-opacity:1;\" d=\"M 237.519531 175.011719 L 223.078125 170.957031 L 228.21875 163.242188 L 237.519531 175.011719 \"/>\n",
       "<path style=\"fill:none;stroke-width:1;stroke-linecap:butt;stroke-linejoin:miter;stroke:rgb(73.333333%,73.333333%,73.333333%);stroke-opacity:1;stroke-miterlimit:10;\" d=\"M 50 183.332031 L 220.734375 183.332031 \"/>\n",
       "<path style=\" stroke:none;fill-rule:nonzero;fill:rgb(73.333333%,73.333333%,73.333333%);fill-opacity:1;\" d=\"M 235 183.332031 L 220.734375 187.96875 L 220.734375 178.699219 L 235 183.332031 \"/>\n",
       "<path style=\"fill:none;stroke-width:1;stroke-linecap:butt;stroke-linejoin:miter;stroke:rgb(73.333333%,73.333333%,73.333333%);stroke-opacity:1;stroke-miterlimit:10;\" d=\"M 50 50 L 229.304688 229.304688 \"/>\n",
       "<path style=\" stroke:none;fill-rule:nonzero;fill:rgb(73.333333%,73.333333%,73.333333%);fill-opacity:1;\" d=\"M 239.394531 239.394531 L 226.027344 232.582031 L 232.582031 226.027344 L 239.394531 239.394531 \"/>\n",
       "<path style=\"fill:none;stroke-width:1;stroke-linecap:butt;stroke-linejoin:miter;stroke:rgb(73.333333%,73.333333%,73.333333%);stroke-opacity:1;stroke-miterlimit:10;\" d=\"M 50 250 L 220.734375 250 \"/>\n",
       "<path style=\" stroke:none;fill-rule:nonzero;fill:rgb(73.333333%,73.333333%,73.333333%);fill-opacity:1;\" d=\"M 235 250 L 220.734375 254.636719 L 220.734375 245.363281 L 235 250 \"/>\n",
       "<path style=\"fill:none;stroke-width:1;stroke-linecap:butt;stroke-linejoin:miter;stroke:rgb(73.333333%,73.333333%,73.333333%);stroke-opacity:1;stroke-miterlimit:10;\" d=\"M 50 116.667969 L 222.234375 59.253906 \"/>\n",
       "<path style=\" stroke:none;fill-rule:nonzero;fill:rgb(73.333333%,73.333333%,73.333333%);fill-opacity:1;\" d=\"M 235.769531 54.742188 L 223.703125 63.652344 L 220.769531 54.855469 L 235.769531 54.742188 \"/>\n",
       "<path style=\"fill:none;stroke-width:1;stroke-linecap:butt;stroke-linejoin:miter;stroke:rgb(73.333333%,73.333333%,73.333333%);stroke-opacity:1;stroke-miterlimit:10;\" d=\"M 50 116.667969 L 222.234375 174.078125 \"/>\n",
       "<path style=\" stroke:none;fill-rule:nonzero;fill:rgb(73.333333%,73.333333%,73.333333%);fill-opacity:1;\" d=\"M 235.769531 178.589844 L 220.769531 178.476562 L 223.703125 169.679688 L 235.769531 178.589844 \"/>\n",
       "<path style=\"fill:none;stroke-width:2.263155;stroke-linecap:butt;stroke-linejoin:miter;stroke:rgb(0%,0%,0%);stroke-opacity:1;stroke-miterlimit:10;\" d=\"M 250 50 L 420.734375 50 \"/>\n",
       "<path style=\" stroke:none;fill-rule:nonzero;fill:rgb(0%,0%,0%);fill-opacity:1;\" d=\"M 435 50 L 420.734375 54.636719 L 420.734375 45.363281 L 435 50 \"/>\n",
       "<path style=\"fill:none;stroke-width:1;stroke-linecap:butt;stroke-linejoin:miter;stroke:rgb(73.333333%,73.333333%,73.333333%);stroke-opacity:1;stroke-miterlimit:10;\" d=\"M 250 50 L 422.234375 107.410156 \"/>\n",
       "<path style=\" stroke:none;fill-rule:nonzero;fill:rgb(73.333333%,73.333333%,73.333333%);fill-opacity:1;\" d=\"M 435.769531 111.921875 L 420.769531 111.808594 L 423.703125 103.015625 L 435.769531 111.921875 \"/>\n",
       "<path style=\"fill:none;stroke-width:1;stroke-linecap:butt;stroke-linejoin:miter;stroke:rgb(73.333333%,73.333333%,73.333333%);stroke-opacity:1;stroke-miterlimit:10;\" d=\"M 250 116.667969 L 420.734375 116.667969 \"/>\n",
       "<path style=\" stroke:none;fill-rule:nonzero;fill:rgb(73.333333%,73.333333%,73.333333%);fill-opacity:1;\" d=\"M 435 116.667969 L 420.734375 121.300781 L 420.734375 112.03125 L 435 116.667969 \"/>\n",
       "<path style=\"fill:none;stroke-width:2.773652;stroke-linecap:butt;stroke-linejoin:miter;stroke:rgb(0%,0%,0%);stroke-opacity:1;stroke-miterlimit:10;\" d=\"M 250 50 L 425.648438 167.097656 \"/>\n",
       "<path style=\" stroke:none;fill-rule:nonzero;fill:rgb(0%,0%,0%);fill-opacity:1;\" d=\"M 437.519531 175.011719 L 423.078125 170.957031 L 428.21875 163.242188 L 437.519531 175.011719 \"/>\n",
       "<path style=\"fill:none;stroke-width:1;stroke-linecap:butt;stroke-linejoin:miter;stroke:rgb(73.333333%,73.333333%,73.333333%);stroke-opacity:1;stroke-miterlimit:10;\" d=\"M 250 183.332031 L 420.734375 183.332031 \"/>\n",
       "<path style=\" stroke:none;fill-rule:nonzero;fill:rgb(73.333333%,73.333333%,73.333333%);fill-opacity:1;\" d=\"M 435 183.332031 L 420.734375 187.96875 L 420.734375 178.699219 L 435 183.332031 \"/>\n",
       "<path style=\"fill:none;stroke-width:1;stroke-linecap:butt;stroke-linejoin:miter;stroke:rgb(73.333333%,73.333333%,73.333333%);stroke-opacity:1;stroke-miterlimit:10;\" d=\"M 250 50 L 429.304688 229.304688 \"/>\n",
       "<path style=\" stroke:none;fill-rule:nonzero;fill:rgb(73.333333%,73.333333%,73.333333%);fill-opacity:1;\" d=\"M 439.394531 239.394531 L 426.027344 232.582031 L 432.582031 226.027344 L 439.394531 239.394531 \"/>\n",
       "<path style=\"fill:none;stroke-width:1;stroke-linecap:butt;stroke-linejoin:miter;stroke:rgb(73.333333%,73.333333%,73.333333%);stroke-opacity:1;stroke-miterlimit:10;\" d=\"M 250 250 L 420.734375 250 \"/>\n",
       "<path style=\" stroke:none;fill-rule:nonzero;fill:rgb(73.333333%,73.333333%,73.333333%);fill-opacity:1;\" d=\"M 435 250 L 420.734375 254.636719 L 420.734375 245.363281 L 435 250 \"/>\n",
       "<path style=\"fill:none;stroke-width:1;stroke-linecap:butt;stroke-linejoin:miter;stroke:rgb(73.333333%,73.333333%,73.333333%);stroke-opacity:1;stroke-miterlimit:10;\" d=\"M 250 116.667969 L 422.234375 59.253906 \"/>\n",
       "<path style=\" stroke:none;fill-rule:nonzero;fill:rgb(73.333333%,73.333333%,73.333333%);fill-opacity:1;\" d=\"M 435.769531 54.742188 L 423.703125 63.652344 L 420.769531 54.855469 L 435.769531 54.742188 \"/>\n",
       "<path style=\"fill:none;stroke-width:2.226348;stroke-linecap:butt;stroke-linejoin:miter;stroke:rgb(0%,0%,0%);stroke-opacity:1;stroke-miterlimit:10;\" d=\"M 250 116.667969 L 422.234375 174.078125 \"/>\n",
       "<path style=\" stroke:none;fill-rule:nonzero;fill:rgb(0%,0%,0%);fill-opacity:1;\" d=\"M 435.769531 178.589844 L 420.769531 178.476562 L 423.703125 169.679688 L 435.769531 178.589844 \"/>\n",
       "<path style=\"fill:none;stroke-width:2.263155;stroke-linecap:butt;stroke-linejoin:miter;stroke:rgb(0%,0%,0%);stroke-opacity:1;stroke-miterlimit:10;\" d=\"M 450 50 L 620.734375 50 \"/>\n",
       "<path style=\" stroke:none;fill-rule:nonzero;fill:rgb(0%,0%,0%);fill-opacity:1;\" d=\"M 635 50 L 620.734375 54.636719 L 620.734375 45.363281 L 635 50 \"/>\n",
       "<path style=\"fill:none;stroke-width:1;stroke-linecap:butt;stroke-linejoin:miter;stroke:rgb(73.333333%,73.333333%,73.333333%);stroke-opacity:1;stroke-miterlimit:10;\" d=\"M 450 50 L 622.234375 107.410156 \"/>\n",
       "<path style=\" stroke:none;fill-rule:nonzero;fill:rgb(73.333333%,73.333333%,73.333333%);fill-opacity:1;\" d=\"M 635.769531 111.921875 L 620.769531 111.808594 L 623.703125 103.015625 L 635.769531 111.921875 \"/>\n",
       "<path style=\"fill:none;stroke-width:1;stroke-linecap:butt;stroke-linejoin:miter;stroke:rgb(73.333333%,73.333333%,73.333333%);stroke-opacity:1;stroke-miterlimit:10;\" d=\"M 450 116.667969 L 620.734375 116.667969 \"/>\n",
       "<path style=\" stroke:none;fill-rule:nonzero;fill:rgb(73.333333%,73.333333%,73.333333%);fill-opacity:1;\" d=\"M 635 116.667969 L 620.734375 121.300781 L 620.734375 112.03125 L 635 116.667969 \"/>\n",
       "<path style=\"fill:none;stroke-width:1;stroke-linecap:butt;stroke-linejoin:miter;stroke:rgb(0%,0%,0%);stroke-opacity:1;stroke-miterlimit:10;\" d=\"M 450 50 L 625.648438 167.097656 \"/>\n",
       "<path style=\" stroke:none;fill-rule:nonzero;fill:rgb(0%,0%,0%);fill-opacity:1;\" d=\"M 637.519531 175.011719 L 623.078125 170.957031 L 628.21875 163.242188 L 637.519531 175.011719 \"/>\n",
       "<path style=\"fill:none;stroke-width:5;stroke-linecap:butt;stroke-linejoin:miter;stroke:rgb(0%,0%,0%);stroke-opacity:1;stroke-miterlimit:10;\" d=\"M 450 183.332031 L 620.734375 183.332031 \"/>\n",
       "<path style=\" stroke:none;fill-rule:nonzero;fill:rgb(0%,0%,0%);fill-opacity:1;\" d=\"M 635 183.332031 L 620.734375 187.96875 L 620.734375 178.699219 L 635 183.332031 \"/>\n",
       "<path style=\"fill:none;stroke-width:1;stroke-linecap:butt;stroke-linejoin:miter;stroke:rgb(73.333333%,73.333333%,73.333333%);stroke-opacity:1;stroke-miterlimit:10;\" d=\"M 450 50 L 629.304688 229.304688 \"/>\n",
       "<path style=\" stroke:none;fill-rule:nonzero;fill:rgb(73.333333%,73.333333%,73.333333%);fill-opacity:1;\" d=\"M 639.394531 239.394531 L 626.027344 232.582031 L 632.582031 226.027344 L 639.394531 239.394531 \"/>\n",
       "<path style=\"fill:none;stroke-width:1;stroke-linecap:butt;stroke-linejoin:miter;stroke:rgb(73.333333%,73.333333%,73.333333%);stroke-opacity:1;stroke-miterlimit:10;\" d=\"M 450 250 L 620.734375 250 \"/>\n",
       "<path style=\" stroke:none;fill-rule:nonzero;fill:rgb(73.333333%,73.333333%,73.333333%);fill-opacity:1;\" d=\"M 635 250 L 620.734375 254.636719 L 620.734375 245.363281 L 635 250 \"/>\n",
       "<path style=\"fill:none;stroke-width:1;stroke-linecap:butt;stroke-linejoin:miter;stroke:rgb(73.333333%,73.333333%,73.333333%);stroke-opacity:1;stroke-miterlimit:10;\" d=\"M 450 116.667969 L 622.234375 59.253906 \"/>\n",
       "<path style=\" stroke:none;fill-rule:nonzero;fill:rgb(73.333333%,73.333333%,73.333333%);fill-opacity:1;\" d=\"M 635.769531 54.742188 L 623.703125 63.652344 L 620.769531 54.855469 L 635.769531 54.742188 \"/>\n",
       "<path style=\"fill:none;stroke-width:1;stroke-linecap:butt;stroke-linejoin:miter;stroke:rgb(73.333333%,73.333333%,73.333333%);stroke-opacity:1;stroke-miterlimit:10;\" d=\"M 450 116.667969 L 622.234375 174.078125 \"/>\n",
       "<path style=\" stroke:none;fill-rule:nonzero;fill:rgb(73.333333%,73.333333%,73.333333%);fill-opacity:1;\" d=\"M 635.769531 178.589844 L 620.769531 178.476562 L 623.703125 169.679688 L 635.769531 178.589844 \"/>\n",
       "<path style=\"fill-rule:nonzero;fill:rgb(55.294118%,82.745098%,78.039216%);fill-opacity:1;stroke-width:1;stroke-linecap:butt;stroke-linejoin:miter;stroke:rgb(0%,0%,0%);stroke-opacity:1;stroke-miterlimit:10;\" d=\"M 65 50 C 65 58.285156 58.285156 65 50 65 C 41.714844 65 35 58.285156 35 50 C 35 41.714844 41.714844 35 50 35 C 58.285156 35 65 41.714844 65 50 \"/>\n",
       "<path style=\"fill-rule:nonzero;fill:rgb(100%,100%,70.196078%);fill-opacity:1;stroke-width:1;stroke-linecap:butt;stroke-linejoin:miter;stroke:rgb(0%,0%,0%);stroke-opacity:1;stroke-miterlimit:10;\" d=\"M 65 116.667969 C 65 124.949219 58.285156 131.667969 50 131.667969 C 41.714844 131.667969 35 124.949219 35 116.667969 C 35 108.382812 41.714844 101.667969 50 101.667969 C 58.285156 101.667969 65 108.382812 65 116.667969 \"/>\n",
       "<path style=\"fill-rule:nonzero;fill:rgb(74.509804%,72.941176%,85.490196%);fill-opacity:1;stroke-width:1;stroke-linecap:butt;stroke-linejoin:miter;stroke:rgb(0%,0%,0%);stroke-opacity:1;stroke-miterlimit:10;\" d=\"M 65 183.332031 C 65 191.617188 58.285156 198.332031 50 198.332031 C 41.714844 198.332031 35 191.617188 35 183.332031 C 35 175.050781 41.714844 168.332031 50 168.332031 C 58.285156 168.332031 65 175.050781 65 183.332031 \"/>\n",
       "<path style=\"fill-rule:nonzero;fill:rgb(98.431373%,50.196078%,44.705882%);fill-opacity:1;stroke-width:1;stroke-linecap:butt;stroke-linejoin:miter;stroke:rgb(0%,0%,0%);stroke-opacity:1;stroke-miterlimit:10;\" d=\"M 65 250 C 65 258.285156 58.285156 265 50 265 C 41.714844 265 35 258.285156 35 250 C 35 241.714844 41.714844 235 50 235 C 58.285156 235 65 241.714844 65 250 \"/>\n",
       "<path style=\"fill-rule:nonzero;fill:rgb(55.294118%,82.745098%,78.039216%);fill-opacity:1;stroke-width:1;stroke-linecap:butt;stroke-linejoin:miter;stroke:rgb(0%,0%,0%);stroke-opacity:1;stroke-miterlimit:10;\" d=\"M 265 50 C 265 58.285156 258.285156 65 250 65 C 241.714844 65 235 58.285156 235 50 C 235 41.714844 241.714844 35 250 35 C 258.285156 35 265 41.714844 265 50 \"/>\n",
       "<path style=\"fill-rule:nonzero;fill:rgb(100%,100%,70.196078%);fill-opacity:1;stroke-width:1;stroke-linecap:butt;stroke-linejoin:miter;stroke:rgb(0%,0%,0%);stroke-opacity:1;stroke-miterlimit:10;\" d=\"M 265 116.667969 C 265 124.949219 258.285156 131.667969 250 131.667969 C 241.714844 131.667969 235 124.949219 235 116.667969 C 235 108.382812 241.714844 101.667969 250 101.667969 C 258.285156 101.667969 265 108.382812 265 116.667969 \"/>\n",
       "<path style=\"fill-rule:nonzero;fill:rgb(74.509804%,72.941176%,85.490196%);fill-opacity:1;stroke-width:1;stroke-linecap:butt;stroke-linejoin:miter;stroke:rgb(0%,0%,0%);stroke-opacity:1;stroke-miterlimit:10;\" d=\"M 265 183.332031 C 265 191.617188 258.285156 198.332031 250 198.332031 C 241.714844 198.332031 235 191.617188 235 183.332031 C 235 175.050781 241.714844 168.332031 250 168.332031 C 258.285156 168.332031 265 175.050781 265 183.332031 \"/>\n",
       "<path style=\"fill-rule:nonzero;fill:rgb(98.431373%,50.196078%,44.705882%);fill-opacity:1;stroke-width:1;stroke-linecap:butt;stroke-linejoin:miter;stroke:rgb(0%,0%,0%);stroke-opacity:1;stroke-miterlimit:10;\" d=\"M 265 250 C 265 258.285156 258.285156 265 250 265 C 241.714844 265 235 258.285156 235 250 C 235 241.714844 241.714844 235 250 235 C 258.285156 235 265 241.714844 265 250 \"/>\n",
       "<path style=\"fill-rule:nonzero;fill:rgb(55.294118%,82.745098%,78.039216%);fill-opacity:1;stroke-width:1;stroke-linecap:butt;stroke-linejoin:miter;stroke:rgb(0%,0%,0%);stroke-opacity:1;stroke-miterlimit:10;\" d=\"M 465 50 C 465 58.285156 458.285156 65 450 65 C 441.714844 65 435 58.285156 435 50 C 435 41.714844 441.714844 35 450 35 C 458.285156 35 465 41.714844 465 50 \"/>\n",
       "<path style=\"fill-rule:nonzero;fill:rgb(100%,100%,70.196078%);fill-opacity:1;stroke-width:1;stroke-linecap:butt;stroke-linejoin:miter;stroke:rgb(0%,0%,0%);stroke-opacity:1;stroke-miterlimit:10;\" d=\"M 465 116.667969 C 465 124.949219 458.285156 131.667969 450 131.667969 C 441.714844 131.667969 435 124.949219 435 116.667969 C 435 108.382812 441.714844 101.667969 450 101.667969 C 458.285156 101.667969 465 108.382812 465 116.667969 \"/>\n",
       "<path style=\"fill-rule:nonzero;fill:rgb(74.509804%,72.941176%,85.490196%);fill-opacity:1;stroke-width:1;stroke-linecap:butt;stroke-linejoin:miter;stroke:rgb(0%,0%,0%);stroke-opacity:1;stroke-miterlimit:10;\" d=\"M 465 183.332031 C 465 191.617188 458.285156 198.332031 450 198.332031 C 441.714844 198.332031 435 191.617188 435 183.332031 C 435 175.050781 441.714844 168.332031 450 168.332031 C 458.285156 168.332031 465 175.050781 465 183.332031 \"/>\n",
       "<path style=\"fill-rule:nonzero;fill:rgb(98.431373%,50.196078%,44.705882%);fill-opacity:1;stroke-width:1;stroke-linecap:butt;stroke-linejoin:miter;stroke:rgb(0%,0%,0%);stroke-opacity:1;stroke-miterlimit:10;\" d=\"M 465 250 C 465 258.285156 458.285156 265 450 265 C 441.714844 265 435 258.285156 435 250 C 435 241.714844 441.714844 235 450 235 C 458.285156 235 465 241.714844 465 250 \"/>\n",
       "<path style=\"fill-rule:nonzero;fill:rgb(55.294118%,82.745098%,78.039216%);fill-opacity:1;stroke-width:1;stroke-linecap:butt;stroke-linejoin:miter;stroke:rgb(0%,0%,0%);stroke-opacity:1;stroke-miterlimit:10;\" d=\"M 665 50 C 665 58.285156 658.285156 65 650 65 C 641.714844 65 635 58.285156 635 50 C 635 41.714844 641.714844 35 650 35 C 658.285156 35 665 41.714844 665 50 \"/>\n",
       "<path style=\"fill-rule:nonzero;fill:rgb(100%,100%,70.196078%);fill-opacity:1;stroke-width:1;stroke-linecap:butt;stroke-linejoin:miter;stroke:rgb(0%,0%,0%);stroke-opacity:1;stroke-miterlimit:10;\" d=\"M 665 116.667969 C 665 124.949219 658.285156 131.667969 650 131.667969 C 641.714844 131.667969 635 124.949219 635 116.667969 C 635 108.382812 641.714844 101.667969 650 101.667969 C 658.285156 101.667969 665 108.382812 665 116.667969 \"/>\n",
       "<path style=\"fill-rule:nonzero;fill:rgb(74.509804%,72.941176%,85.490196%);fill-opacity:1;stroke-width:1;stroke-linecap:butt;stroke-linejoin:miter;stroke:rgb(0%,0%,0%);stroke-opacity:1;stroke-miterlimit:10;\" d=\"M 665 183.332031 C 665 191.617188 658.285156 198.332031 650 198.332031 C 641.714844 198.332031 635 191.617188 635 183.332031 C 635 175.050781 641.714844 168.332031 650 168.332031 C 658.285156 168.332031 665 175.050781 665 183.332031 \"/>\n",
       "<path style=\"fill-rule:nonzero;fill:rgb(98.431373%,50.196078%,44.705882%);fill-opacity:1;stroke-width:1;stroke-linecap:butt;stroke-linejoin:miter;stroke:rgb(0%,0%,0%);stroke-opacity:1;stroke-miterlimit:10;\" d=\"M 665 250 C 665 258.285156 658.285156 265 650 265 C 641.714844 265 635 258.285156 635 250 C 635 241.714844 641.714844 235 650 235 C 658.285156 235 665 241.714844 665 250 \"/>\n",
       "<g style=\"fill:rgb(0%,0%,0%);fill-opacity:1;\">\n",
       "  <use xlink:href=\"#glyph0-1\" x=\"36.558594\" y=\"54.972656\"/>\n",
       "  <use xlink:href=\"#glyph0-2\" x=\"40.459961\" y=\"54.972656\"/>\n",
       "  <use xlink:href=\"#glyph0-3\" x=\"46.822266\" y=\"54.972656\"/>\n",
       "  <use xlink:href=\"#glyph0-4\" x=\"50.000977\" y=\"54.972656\"/>\n",
       "  <use xlink:href=\"#glyph0-2\" x=\"53.179688\" y=\"54.972656\"/>\n",
       "  <use xlink:href=\"#glyph0-5\" x=\"59.541992\" y=\"54.972656\"/>\n",
       "</g>\n",
       "<g style=\"fill:rgb(0%,0%,0%);fill-opacity:1;\">\n",
       "  <use xlink:href=\"#glyph0-1\" x=\"36.558594\" y=\"121.640625\"/>\n",
       "  <use xlink:href=\"#glyph0-2\" x=\"40.459961\" y=\"121.640625\"/>\n",
       "  <use xlink:href=\"#glyph0-3\" x=\"46.822266\" y=\"121.640625\"/>\n",
       "  <use xlink:href=\"#glyph0-4\" x=\"50.000977\" y=\"121.640625\"/>\n",
       "  <use xlink:href=\"#glyph0-6\" x=\"53.179688\" y=\"121.640625\"/>\n",
       "  <use xlink:href=\"#glyph0-5\" x=\"59.541992\" y=\"121.640625\"/>\n",
       "</g>\n",
       "<g style=\"fill:rgb(0%,0%,0%);fill-opacity:1;\">\n",
       "  <use xlink:href=\"#glyph0-1\" x=\"36.558594\" y=\"188.304688\"/>\n",
       "  <use xlink:href=\"#glyph0-2\" x=\"40.459961\" y=\"188.304688\"/>\n",
       "  <use xlink:href=\"#glyph0-3\" x=\"46.822266\" y=\"188.304688\"/>\n",
       "  <use xlink:href=\"#glyph0-4\" x=\"50.000977\" y=\"188.304688\"/>\n",
       "  <use xlink:href=\"#glyph0-7\" x=\"53.179688\" y=\"188.304688\"/>\n",
       "  <use xlink:href=\"#glyph0-5\" x=\"59.541992\" y=\"188.304688\"/>\n",
       "</g>\n",
       "<g style=\"fill:rgb(0%,0%,0%);fill-opacity:1;\">\n",
       "  <use xlink:href=\"#glyph0-1\" x=\"36.558594\" y=\"254.972656\"/>\n",
       "  <use xlink:href=\"#glyph0-2\" x=\"40.459961\" y=\"254.972656\"/>\n",
       "  <use xlink:href=\"#glyph0-3\" x=\"46.822266\" y=\"254.972656\"/>\n",
       "  <use xlink:href=\"#glyph0-4\" x=\"50.000977\" y=\"254.972656\"/>\n",
       "  <use xlink:href=\"#glyph0-8\" x=\"53.179688\" y=\"254.972656\"/>\n",
       "  <use xlink:href=\"#glyph0-5\" x=\"59.541992\" y=\"254.972656\"/>\n",
       "</g>\n",
       "<g style=\"fill:rgb(0%,0%,0%);fill-opacity:1;\">\n",
       "  <use xlink:href=\"#glyph0-1\" x=\"236.558594\" y=\"54.972656\"/>\n",
       "  <use xlink:href=\"#glyph0-6\" x=\"240.459961\" y=\"54.972656\"/>\n",
       "  <use xlink:href=\"#glyph0-3\" x=\"246.822266\" y=\"54.972656\"/>\n",
       "  <use xlink:href=\"#glyph0-4\" x=\"250.000977\" y=\"54.972656\"/>\n",
       "  <use xlink:href=\"#glyph0-2\" x=\"253.179688\" y=\"54.972656\"/>\n",
       "  <use xlink:href=\"#glyph0-5\" x=\"259.541992\" y=\"54.972656\"/>\n",
       "</g>\n",
       "<g style=\"fill:rgb(0%,0%,0%);fill-opacity:1;\">\n",
       "  <use xlink:href=\"#glyph0-1\" x=\"236.558594\" y=\"121.640625\"/>\n",
       "  <use xlink:href=\"#glyph0-6\" x=\"240.459961\" y=\"121.640625\"/>\n",
       "  <use xlink:href=\"#glyph0-3\" x=\"246.822266\" y=\"121.640625\"/>\n",
       "  <use xlink:href=\"#glyph0-4\" x=\"250.000977\" y=\"121.640625\"/>\n",
       "  <use xlink:href=\"#glyph0-6\" x=\"253.179688\" y=\"121.640625\"/>\n",
       "  <use xlink:href=\"#glyph0-5\" x=\"259.541992\" y=\"121.640625\"/>\n",
       "</g>\n",
       "<g style=\"fill:rgb(0%,0%,0%);fill-opacity:1;\">\n",
       "  <use xlink:href=\"#glyph0-1\" x=\"236.558594\" y=\"188.304688\"/>\n",
       "  <use xlink:href=\"#glyph0-6\" x=\"240.459961\" y=\"188.304688\"/>\n",
       "  <use xlink:href=\"#glyph0-3\" x=\"246.822266\" y=\"188.304688\"/>\n",
       "  <use xlink:href=\"#glyph0-4\" x=\"250.000977\" y=\"188.304688\"/>\n",
       "  <use xlink:href=\"#glyph0-7\" x=\"253.179688\" y=\"188.304688\"/>\n",
       "  <use xlink:href=\"#glyph0-5\" x=\"259.541992\" y=\"188.304688\"/>\n",
       "</g>\n",
       "<g style=\"fill:rgb(0%,0%,0%);fill-opacity:1;\">\n",
       "  <use xlink:href=\"#glyph0-1\" x=\"236.558594\" y=\"254.972656\"/>\n",
       "  <use xlink:href=\"#glyph0-6\" x=\"240.459961\" y=\"254.972656\"/>\n",
       "  <use xlink:href=\"#glyph0-3\" x=\"246.822266\" y=\"254.972656\"/>\n",
       "  <use xlink:href=\"#glyph0-4\" x=\"250.000977\" y=\"254.972656\"/>\n",
       "  <use xlink:href=\"#glyph0-8\" x=\"253.179688\" y=\"254.972656\"/>\n",
       "  <use xlink:href=\"#glyph0-5\" x=\"259.541992\" y=\"254.972656\"/>\n",
       "</g>\n",
       "<g style=\"fill:rgb(0%,0%,0%);fill-opacity:1;\">\n",
       "  <use xlink:href=\"#glyph0-1\" x=\"436.558594\" y=\"54.972656\"/>\n",
       "  <use xlink:href=\"#glyph0-7\" x=\"440.459961\" y=\"54.972656\"/>\n",
       "  <use xlink:href=\"#glyph0-3\" x=\"446.822266\" y=\"54.972656\"/>\n",
       "  <use xlink:href=\"#glyph0-4\" x=\"450.000977\" y=\"54.972656\"/>\n",
       "  <use xlink:href=\"#glyph0-2\" x=\"453.179688\" y=\"54.972656\"/>\n",
       "  <use xlink:href=\"#glyph0-5\" x=\"459.541992\" y=\"54.972656\"/>\n",
       "</g>\n",
       "<g style=\"fill:rgb(0%,0%,0%);fill-opacity:1;\">\n",
       "  <use xlink:href=\"#glyph0-1\" x=\"436.558594\" y=\"121.640625\"/>\n",
       "  <use xlink:href=\"#glyph0-7\" x=\"440.459961\" y=\"121.640625\"/>\n",
       "  <use xlink:href=\"#glyph0-3\" x=\"446.822266\" y=\"121.640625\"/>\n",
       "  <use xlink:href=\"#glyph0-4\" x=\"450.000977\" y=\"121.640625\"/>\n",
       "  <use xlink:href=\"#glyph0-6\" x=\"453.179688\" y=\"121.640625\"/>\n",
       "  <use xlink:href=\"#glyph0-5\" x=\"459.541992\" y=\"121.640625\"/>\n",
       "</g>\n",
       "<g style=\"fill:rgb(0%,0%,0%);fill-opacity:1;\">\n",
       "  <use xlink:href=\"#glyph0-1\" x=\"436.558594\" y=\"188.304688\"/>\n",
       "  <use xlink:href=\"#glyph0-7\" x=\"440.459961\" y=\"188.304688\"/>\n",
       "  <use xlink:href=\"#glyph0-3\" x=\"446.822266\" y=\"188.304688\"/>\n",
       "  <use xlink:href=\"#glyph0-4\" x=\"450.000977\" y=\"188.304688\"/>\n",
       "  <use xlink:href=\"#glyph0-7\" x=\"453.179688\" y=\"188.304688\"/>\n",
       "  <use xlink:href=\"#glyph0-5\" x=\"459.541992\" y=\"188.304688\"/>\n",
       "</g>\n",
       "<g style=\"fill:rgb(0%,0%,0%);fill-opacity:1;\">\n",
       "  <use xlink:href=\"#glyph0-1\" x=\"436.558594\" y=\"254.972656\"/>\n",
       "  <use xlink:href=\"#glyph0-7\" x=\"440.459961\" y=\"254.972656\"/>\n",
       "  <use xlink:href=\"#glyph0-3\" x=\"446.822266\" y=\"254.972656\"/>\n",
       "  <use xlink:href=\"#glyph0-4\" x=\"450.000977\" y=\"254.972656\"/>\n",
       "  <use xlink:href=\"#glyph0-8\" x=\"453.179688\" y=\"254.972656\"/>\n",
       "  <use xlink:href=\"#glyph0-5\" x=\"459.541992\" y=\"254.972656\"/>\n",
       "</g>\n",
       "<g style=\"fill:rgb(0%,0%,0%);fill-opacity:1;\">\n",
       "  <use xlink:href=\"#glyph0-1\" x=\"636.558594\" y=\"54.972656\"/>\n",
       "  <use xlink:href=\"#glyph0-8\" x=\"640.459961\" y=\"54.972656\"/>\n",
       "  <use xlink:href=\"#glyph0-3\" x=\"646.822266\" y=\"54.972656\"/>\n",
       "  <use xlink:href=\"#glyph0-4\" x=\"650.000977\" y=\"54.972656\"/>\n",
       "  <use xlink:href=\"#glyph0-2\" x=\"653.179688\" y=\"54.972656\"/>\n",
       "  <use xlink:href=\"#glyph0-5\" x=\"659.541992\" y=\"54.972656\"/>\n",
       "</g>\n",
       "<g style=\"fill:rgb(0%,0%,0%);fill-opacity:1;\">\n",
       "  <use xlink:href=\"#glyph0-1\" x=\"636.558594\" y=\"121.640625\"/>\n",
       "  <use xlink:href=\"#glyph0-8\" x=\"640.459961\" y=\"121.640625\"/>\n",
       "  <use xlink:href=\"#glyph0-3\" x=\"646.822266\" y=\"121.640625\"/>\n",
       "  <use xlink:href=\"#glyph0-4\" x=\"650.000977\" y=\"121.640625\"/>\n",
       "  <use xlink:href=\"#glyph0-6\" x=\"653.179688\" y=\"121.640625\"/>\n",
       "  <use xlink:href=\"#glyph0-5\" x=\"659.541992\" y=\"121.640625\"/>\n",
       "</g>\n",
       "<g style=\"fill:rgb(0%,0%,0%);fill-opacity:1;\">\n",
       "  <use xlink:href=\"#glyph0-1\" x=\"636.558594\" y=\"188.304688\"/>\n",
       "  <use xlink:href=\"#glyph0-8\" x=\"640.459961\" y=\"188.304688\"/>\n",
       "  <use xlink:href=\"#glyph0-3\" x=\"646.822266\" y=\"188.304688\"/>\n",
       "  <use xlink:href=\"#glyph0-4\" x=\"650.000977\" y=\"188.304688\"/>\n",
       "  <use xlink:href=\"#glyph0-7\" x=\"653.179688\" y=\"188.304688\"/>\n",
       "  <use xlink:href=\"#glyph0-5\" x=\"659.541992\" y=\"188.304688\"/>\n",
       "</g>\n",
       "<g style=\"fill:rgb(0%,0%,0%);fill-opacity:1;\">\n",
       "  <use xlink:href=\"#glyph0-1\" x=\"636.558594\" y=\"254.972656\"/>\n",
       "  <use xlink:href=\"#glyph0-8\" x=\"640.459961\" y=\"254.972656\"/>\n",
       "  <use xlink:href=\"#glyph0-3\" x=\"646.822266\" y=\"254.972656\"/>\n",
       "  <use xlink:href=\"#glyph0-4\" x=\"650.000977\" y=\"254.972656\"/>\n",
       "  <use xlink:href=\"#glyph0-8\" x=\"653.179688\" y=\"254.972656\"/>\n",
       "  <use xlink:href=\"#glyph0-5\" x=\"659.541992\" y=\"254.972656\"/>\n",
       "</g>\n",
       "</g>\n",
       "</svg>\n"
      ],
      "text/plain": [
       "<igraph.drawing.Plot at 0x7f2b150f2128>"
      ]
     },
     "execution_count": 62,
     "metadata": {
      "image/svg+xml": {
       "isolated": true
      }
     },
     "output_type": "execute_result"
    }
   ],
   "source": [
    "tugc = util.apply_weights(tug, node_counts, arc_counts)\n",
    "ig.plot(tugc, **util.get_visual_style(tugc), bbox=(700, 300), margin=50)"
   ]
  },
  {
   "cell_type": "code",
   "execution_count": 63,
   "metadata": {},
   "outputs": [
    {
     "data": {
      "image/svg+xml": [
       "<?xml version=\"1.0\" encoding=\"UTF-8\"?>\n",
       "<svg xmlns=\"http://www.w3.org/2000/svg\" xmlns:xlink=\"http://www.w3.org/1999/xlink\" width=\"700pt\" height=\"300pt\" viewBox=\"0 0 700 300\" version=\"1.1\">\n",
       "<defs>\n",
       "<g>\n",
       "<symbol overflow=\"visible\" id=\"glyph0-0\">\n",
       "<path style=\"stroke:none;\" d=\"M 0.5 1.765625 L 0.5 -7.046875 L 5.5 -7.046875 L 5.5 1.765625 Z M 1.0625 1.21875 L 4.9375 1.21875 L 4.9375 -6.484375 L 1.0625 -6.484375 Z M 1.0625 1.21875 \"/>\n",
       "</symbol>\n",
       "<symbol overflow=\"visible\" id=\"glyph0-1\">\n",
       "<path style=\"stroke:none;\" d=\"M 3.09375 -7.59375 C 2.664062 -6.84375 2.34375 -6.097656 2.125 -5.359375 C 1.914062 -4.628906 1.8125 -3.890625 1.8125 -3.140625 C 1.8125 -2.390625 1.914062 -1.644531 2.125 -0.90625 C 2.34375 -0.164062 2.664062 0.570312 3.09375 1.3125 L 2.3125 1.3125 C 1.832031 0.550781 1.46875 -0.195312 1.21875 -0.9375 C 0.976562 -1.675781 0.859375 -2.410156 0.859375 -3.140625 C 0.859375 -3.867188 0.976562 -4.597656 1.21875 -5.328125 C 1.457031 -6.066406 1.820312 -6.820312 2.3125 -7.59375 Z M 3.09375 -7.59375 \"/>\n",
       "</symbol>\n",
       "<symbol overflow=\"visible\" id=\"glyph0-2\">\n",
       "<path style=\"stroke:none;\" d=\"M 3.171875 -6.640625 C 2.671875 -6.640625 2.289062 -6.390625 2.03125 -5.890625 C 1.78125 -5.390625 1.65625 -4.640625 1.65625 -3.640625 C 1.65625 -2.640625 1.78125 -1.890625 2.03125 -1.390625 C 2.289062 -0.890625 2.671875 -0.640625 3.171875 -0.640625 C 3.691406 -0.640625 4.078125 -0.890625 4.328125 -1.390625 C 4.585938 -1.890625 4.71875 -2.640625 4.71875 -3.640625 C 4.71875 -4.640625 4.585938 -5.390625 4.328125 -5.890625 C 4.078125 -6.390625 3.691406 -6.640625 3.171875 -6.640625 Z M 3.171875 -7.421875 C 3.992188 -7.421875 4.617188 -7.097656 5.046875 -6.453125 C 5.484375 -5.804688 5.703125 -4.867188 5.703125 -3.640625 C 5.703125 -2.410156 5.484375 -1.472656 5.046875 -0.828125 C 4.617188 -0.179688 3.992188 0.140625 3.171875 0.140625 C 2.359375 0.140625 1.734375 -0.179688 1.296875 -0.828125 C 0.867188 -1.472656 0.65625 -2.410156 0.65625 -3.640625 C 0.65625 -4.867188 0.867188 -5.804688 1.296875 -6.453125 C 1.734375 -7.097656 2.359375 -7.421875 3.171875 -7.421875 Z M 3.171875 -7.421875 \"/>\n",
       "</symbol>\n",
       "<symbol overflow=\"visible\" id=\"glyph0-3\">\n",
       "<path style=\"stroke:none;\" d=\"M 1.171875 -1.234375 L 2.203125 -1.234375 L 2.203125 -0.40625 L 1.40625 1.15625 L 0.765625 1.15625 L 1.171875 -0.40625 Z M 1.171875 -1.234375 \"/>\n",
       "</symbol>\n",
       "<symbol overflow=\"visible\" id=\"glyph0-4\">\n",
       "<path style=\"stroke:none;\" d=\"\"/>\n",
       "</symbol>\n",
       "<symbol overflow=\"visible\" id=\"glyph0-5\">\n",
       "<path style=\"stroke:none;\" d=\"M 0.796875 -7.59375 L 1.578125 -7.59375 C 2.066406 -6.820312 2.429688 -6.066406 2.671875 -5.328125 C 2.921875 -4.597656 3.046875 -3.867188 3.046875 -3.140625 C 3.046875 -2.410156 2.921875 -1.675781 2.671875 -0.9375 C 2.429688 -0.195312 2.066406 0.550781 1.578125 1.3125 L 0.796875 1.3125 C 1.234375 0.570312 1.554688 -0.164062 1.765625 -0.90625 C 1.984375 -1.644531 2.09375 -2.390625 2.09375 -3.140625 C 2.09375 -3.890625 1.984375 -4.628906 1.765625 -5.359375 C 1.554688 -6.097656 1.234375 -6.84375 0.796875 -7.59375 Z M 0.796875 -7.59375 \"/>\n",
       "</symbol>\n",
       "<symbol overflow=\"visible\" id=\"glyph0-6\">\n",
       "<path style=\"stroke:none;\" d=\"M 1.234375 -0.828125 L 2.859375 -0.828125 L 2.859375 -6.390625 L 1.09375 -6.046875 L 1.09375 -6.9375 L 2.84375 -7.296875 L 3.828125 -7.296875 L 3.828125 -0.828125 L 5.4375 -0.828125 L 5.4375 0 L 1.234375 0 Z M 1.234375 -0.828125 \"/>\n",
       "</symbol>\n",
       "<symbol overflow=\"visible\" id=\"glyph0-7\">\n",
       "<path style=\"stroke:none;\" d=\"M 1.921875 -0.828125 L 5.359375 -0.828125 L 5.359375 0 L 0.734375 0 L 0.734375 -0.828125 C 1.109375 -1.210938 1.617188 -1.734375 2.265625 -2.390625 C 2.910156 -3.046875 3.316406 -3.46875 3.484375 -3.65625 C 3.796875 -4.007812 4.015625 -4.304688 4.140625 -4.546875 C 4.265625 -4.796875 4.328125 -5.039062 4.328125 -5.28125 C 4.328125 -5.664062 4.191406 -5.976562 3.921875 -6.21875 C 3.648438 -6.46875 3.296875 -6.59375 2.859375 -6.59375 C 2.546875 -6.59375 2.21875 -6.535156 1.875 -6.421875 C 1.539062 -6.316406 1.175781 -6.15625 0.78125 -5.9375 L 0.78125 -6.9375 C 1.175781 -7.09375 1.546875 -7.210938 1.890625 -7.296875 C 2.234375 -7.378906 2.550781 -7.421875 2.84375 -7.421875 C 3.59375 -7.421875 4.191406 -7.234375 4.640625 -6.859375 C 5.097656 -6.484375 5.328125 -5.976562 5.328125 -5.34375 C 5.328125 -5.039062 5.269531 -4.753906 5.15625 -4.484375 C 5.039062 -4.222656 4.835938 -3.910156 4.546875 -3.546875 C 4.460938 -3.453125 4.203125 -3.175781 3.765625 -2.71875 C 3.328125 -2.269531 2.710938 -1.640625 1.921875 -0.828125 Z M 1.921875 -0.828125 \"/>\n",
       "</symbol>\n",
       "<symbol overflow=\"visible\" id=\"glyph0-8\">\n",
       "<path style=\"stroke:none;\" d=\"M 4.0625 -3.9375 C 4.53125 -3.832031 4.894531 -3.617188 5.15625 -3.296875 C 5.425781 -2.984375 5.5625 -2.59375 5.5625 -2.125 C 5.5625 -1.40625 5.3125 -0.847656 4.8125 -0.453125 C 4.320312 -0.0546875 3.617188 0.140625 2.703125 0.140625 C 2.398438 0.140625 2.085938 0.109375 1.765625 0.046875 C 1.441406 -0.015625 1.109375 -0.101562 0.765625 -0.21875 L 0.765625 -1.171875 C 1.035156 -1.015625 1.332031 -0.894531 1.65625 -0.8125 C 1.988281 -0.726562 2.332031 -0.6875 2.6875 -0.6875 C 3.300781 -0.6875 3.769531 -0.804688 4.09375 -1.046875 C 4.414062 -1.296875 4.578125 -1.65625 4.578125 -2.125 C 4.578125 -2.550781 4.425781 -2.882812 4.125 -3.125 C 3.820312 -3.363281 3.40625 -3.484375 2.875 -3.484375 L 2.015625 -3.484375 L 2.015625 -4.296875 L 2.90625 -4.296875 C 3.394531 -4.296875 3.765625 -4.394531 4.015625 -4.59375 C 4.273438 -4.789062 4.40625 -5.070312 4.40625 -5.4375 C 4.40625 -5.800781 4.269531 -6.082031 4 -6.28125 C 3.738281 -6.488281 3.363281 -6.59375 2.875 -6.59375 C 2.601562 -6.59375 2.3125 -6.5625 2 -6.5 C 1.6875 -6.445312 1.347656 -6.359375 0.984375 -6.234375 L 0.984375 -7.109375 C 1.359375 -7.210938 1.707031 -7.289062 2.03125 -7.34375 C 2.363281 -7.394531 2.671875 -7.421875 2.953125 -7.421875 C 3.703125 -7.421875 4.296875 -7.25 4.734375 -6.90625 C 5.171875 -6.570312 5.390625 -6.113281 5.390625 -5.53125 C 5.390625 -5.125 5.273438 -4.78125 5.046875 -4.5 C 4.816406 -4.226562 4.488281 -4.039062 4.0625 -3.9375 Z M 4.0625 -3.9375 \"/>\n",
       "</symbol>\n",
       "<symbol overflow=\"visible\" id=\"glyph0-9\">\n",
       "<path style=\"stroke:none;\" d=\"M 0.484375 -3.140625 L 3.125 -3.140625 L 3.125 -2.34375 L 0.484375 -2.34375 Z M 0.484375 -3.140625 \"/>\n",
       "</symbol>\n",
       "</g>\n",
       "</defs>\n",
       "<g id=\"surface44\">\n",
       "<rect x=\"0\" y=\"0\" width=\"700\" height=\"300\" style=\"fill:rgb(100%,100%,100%);fill-opacity:1;stroke:none;\"/>\n",
       "<path style=\"fill:none;stroke-width:2.263155;stroke-linecap:butt;stroke-linejoin:miter;stroke:rgb(0%,0%,0%);stroke-opacity:1;stroke-miterlimit:10;\" d=\"M 200 50 L 320.734375 50 \"/>\n",
       "<path style=\" stroke:none;fill-rule:nonzero;fill:rgb(0%,0%,0%);fill-opacity:1;\" d=\"M 335 50 L 320.734375 54.636719 L 320.734375 45.363281 L 335 50 \"/>\n",
       "<path style=\"fill:none;stroke-width:2.226348;stroke-linecap:butt;stroke-linejoin:miter;stroke:rgb(0%,0%,0%);stroke-opacity:1;stroke-miterlimit:10;\" d=\"M 200 50 L 323.257812 104.78125 \"/>\n",
       "<path style=\" stroke:none;fill-rule:nonzero;fill:rgb(0%,0%,0%);fill-opacity:1;\" d=\"M 336.292969 110.574219 L 321.375 109.015625 L 325.140625 100.546875 L 336.292969 110.574219 \"/>\n",
       "<path style=\"fill:none;stroke-width:1;stroke-linecap:butt;stroke-linejoin:miter;stroke:rgb(73.333333%,73.333333%,73.333333%);stroke-opacity:1;stroke-miterlimit:10;\" d=\"M 200 116.667969 L 320.734375 116.667969 \"/>\n",
       "<path style=\" stroke:none;fill-rule:nonzero;fill:rgb(73.333333%,73.333333%,73.333333%);fill-opacity:1;\" d=\"M 335 116.667969 L 320.734375 121.300781 L 320.734375 112.03125 L 335 116.667969 \"/>\n",
       "<path style=\"fill:none;stroke-width:1;stroke-linecap:butt;stroke-linejoin:miter;stroke:rgb(73.333333%,73.333333%,73.333333%);stroke-opacity:1;stroke-miterlimit:10;\" d=\"M 200 50 L 328.125 163.890625 \"/>\n",
       "<path style=\" stroke:none;fill-rule:nonzero;fill:rgb(73.333333%,73.333333%,73.333333%);fill-opacity:1;\" d=\"M 338.789062 173.367188 L 325.046875 167.355469 L 331.207031 160.425781 L 338.789062 173.367188 \"/>\n",
       "<path style=\"fill:none;stroke-width:1;stroke-linecap:butt;stroke-linejoin:miter;stroke:rgb(73.333333%,73.333333%,73.333333%);stroke-opacity:1;stroke-miterlimit:10;\" d=\"M 200 183.332031 L 320.734375 183.332031 \"/>\n",
       "<path style=\" stroke:none;fill-rule:nonzero;fill:rgb(73.333333%,73.333333%,73.333333%);fill-opacity:1;\" d=\"M 335 183.332031 L 320.734375 187.96875 L 320.734375 178.699219 L 335 183.332031 \"/>\n",
       "<path style=\"fill:none;stroke-width:1;stroke-linecap:butt;stroke-linejoin:miter;stroke:rgb(73.333333%,73.333333%,73.333333%);stroke-opacity:1;stroke-miterlimit:10;\" d=\"M 200 50 L 332.441406 226.585938 \"/>\n",
       "<path style=\" stroke:none;fill-rule:nonzero;fill:rgb(73.333333%,73.333333%,73.333333%);fill-opacity:1;\" d=\"M 341 238 L 328.730469 229.367188 L 336.148438 223.804688 L 341 238 \"/>\n",
       "<path style=\"fill:none;stroke-width:1;stroke-linecap:butt;stroke-linejoin:miter;stroke:rgb(73.333333%,73.333333%,73.333333%);stroke-opacity:1;stroke-miterlimit:10;\" d=\"M 200 250 L 320.734375 250 \"/>\n",
       "<path style=\" stroke:none;fill-rule:nonzero;fill:rgb(73.333333%,73.333333%,73.333333%);fill-opacity:1;\" d=\"M 335 250 L 320.734375 254.636719 L 320.734375 245.363281 L 335 250 \"/>\n",
       "<path style=\"fill:none;stroke-width:1;stroke-linecap:butt;stroke-linejoin:miter;stroke:rgb(73.333333%,73.333333%,73.333333%);stroke-opacity:1;stroke-miterlimit:10;\" d=\"M 200 116.667969 L 323.257812 61.886719 \"/>\n",
       "<path style=\" stroke:none;fill-rule:nonzero;fill:rgb(73.333333%,73.333333%,73.333333%);fill-opacity:1;\" d=\"M 336.292969 56.09375 L 325.140625 66.121094 L 321.375 57.648438 L 336.292969 56.09375 \"/>\n",
       "<path style=\"fill:none;stroke-width:1;stroke-linecap:butt;stroke-linejoin:miter;stroke:rgb(73.333333%,73.333333%,73.333333%);stroke-opacity:1;stroke-miterlimit:10;\" d=\"M 200 116.667969 L 323.257812 171.449219 \"/>\n",
       "<path style=\" stroke:none;fill-rule:nonzero;fill:rgb(73.333333%,73.333333%,73.333333%);fill-opacity:1;\" d=\"M 336.292969 177.242188 L 321.375 175.683594 L 325.140625 167.210938 L 336.292969 177.242188 \"/>\n",
       "<path style=\"fill:none;stroke-width:2.263155;stroke-linecap:butt;stroke-linejoin:miter;stroke:rgb(0%,0%,0%);stroke-opacity:1;stroke-miterlimit:10;\" d=\"M 350 50 L 470.734375 50 \"/>\n",
       "<path style=\" stroke:none;fill-rule:nonzero;fill:rgb(0%,0%,0%);fill-opacity:1;\" d=\"M 485 50 L 470.734375 54.636719 L 470.734375 45.363281 L 485 50 \"/>\n",
       "<path style=\"fill:none;stroke-width:1;stroke-linecap:butt;stroke-linejoin:miter;stroke:rgb(73.333333%,73.333333%,73.333333%);stroke-opacity:1;stroke-miterlimit:10;\" d=\"M 350 50 L 473.257812 104.78125 \"/>\n",
       "<path style=\" stroke:none;fill-rule:nonzero;fill:rgb(73.333333%,73.333333%,73.333333%);fill-opacity:1;\" d=\"M 486.292969 110.574219 L 471.375 109.015625 L 475.140625 100.546875 L 486.292969 110.574219 \"/>\n",
       "<path style=\"fill:none;stroke-width:1;stroke-linecap:butt;stroke-linejoin:miter;stroke:rgb(73.333333%,73.333333%,73.333333%);stroke-opacity:1;stroke-miterlimit:10;\" d=\"M 350 116.667969 L 470.734375 116.667969 \"/>\n",
       "<path style=\" stroke:none;fill-rule:nonzero;fill:rgb(73.333333%,73.333333%,73.333333%);fill-opacity:1;\" d=\"M 485 116.667969 L 470.734375 121.300781 L 470.734375 112.03125 L 485 116.667969 \"/>\n",
       "<path style=\"fill:none;stroke-width:2.773652;stroke-linecap:butt;stroke-linejoin:miter;stroke:rgb(0%,0%,0%);stroke-opacity:1;stroke-miterlimit:10;\" d=\"M 350 50 L 478.125 163.890625 \"/>\n",
       "<path style=\" stroke:none;fill-rule:nonzero;fill:rgb(0%,0%,0%);fill-opacity:1;\" d=\"M 488.789062 173.367188 L 475.046875 167.355469 L 481.207031 160.425781 L 488.789062 173.367188 \"/>\n",
       "<path style=\"fill:none;stroke-width:1;stroke-linecap:butt;stroke-linejoin:miter;stroke:rgb(73.333333%,73.333333%,73.333333%);stroke-opacity:1;stroke-miterlimit:10;\" d=\"M 350 183.332031 L 470.734375 183.332031 \"/>\n",
       "<path style=\" stroke:none;fill-rule:nonzero;fill:rgb(73.333333%,73.333333%,73.333333%);fill-opacity:1;\" d=\"M 485 183.332031 L 470.734375 187.96875 L 470.734375 178.699219 L 485 183.332031 \"/>\n",
       "<path style=\"fill:none;stroke-width:1;stroke-linecap:butt;stroke-linejoin:miter;stroke:rgb(73.333333%,73.333333%,73.333333%);stroke-opacity:1;stroke-miterlimit:10;\" d=\"M 350 50 L 482.441406 226.585938 \"/>\n",
       "<path style=\" stroke:none;fill-rule:nonzero;fill:rgb(73.333333%,73.333333%,73.333333%);fill-opacity:1;\" d=\"M 491 238 L 478.730469 229.367188 L 486.148438 223.804688 L 491 238 \"/>\n",
       "<path style=\"fill:none;stroke-width:1;stroke-linecap:butt;stroke-linejoin:miter;stroke:rgb(73.333333%,73.333333%,73.333333%);stroke-opacity:1;stroke-miterlimit:10;\" d=\"M 350 250 L 470.734375 250 \"/>\n",
       "<path style=\" stroke:none;fill-rule:nonzero;fill:rgb(73.333333%,73.333333%,73.333333%);fill-opacity:1;\" d=\"M 485 250 L 470.734375 254.636719 L 470.734375 245.363281 L 485 250 \"/>\n",
       "<path style=\"fill:none;stroke-width:1;stroke-linecap:butt;stroke-linejoin:miter;stroke:rgb(73.333333%,73.333333%,73.333333%);stroke-opacity:1;stroke-miterlimit:10;\" d=\"M 350 116.667969 L 473.257812 61.886719 \"/>\n",
       "<path style=\" stroke:none;fill-rule:nonzero;fill:rgb(73.333333%,73.333333%,73.333333%);fill-opacity:1;\" d=\"M 486.292969 56.09375 L 475.140625 66.121094 L 471.375 57.648438 L 486.292969 56.09375 \"/>\n",
       "<path style=\"fill:none;stroke-width:2.226348;stroke-linecap:butt;stroke-linejoin:miter;stroke:rgb(0%,0%,0%);stroke-opacity:1;stroke-miterlimit:10;\" d=\"M 350 116.667969 L 473.257812 171.449219 \"/>\n",
       "<path style=\" stroke:none;fill-rule:nonzero;fill:rgb(0%,0%,0%);fill-opacity:1;\" d=\"M 486.292969 177.242188 L 471.375 175.683594 L 475.140625 167.210938 L 486.292969 177.242188 \"/>\n",
       "<path style=\"fill:none;stroke-width:2.263155;stroke-linecap:butt;stroke-linejoin:miter;stroke:rgb(0%,0%,0%);stroke-opacity:1;stroke-miterlimit:10;\" d=\"M 500 50 L 620.734375 50 \"/>\n",
       "<path style=\" stroke:none;fill-rule:nonzero;fill:rgb(0%,0%,0%);fill-opacity:1;\" d=\"M 635 50 L 620.734375 54.636719 L 620.734375 45.363281 L 635 50 \"/>\n",
       "<path style=\"fill:none;stroke-width:1;stroke-linecap:butt;stroke-linejoin:miter;stroke:rgb(73.333333%,73.333333%,73.333333%);stroke-opacity:1;stroke-miterlimit:10;\" d=\"M 500 50 L 623.257812 104.78125 \"/>\n",
       "<path style=\" stroke:none;fill-rule:nonzero;fill:rgb(73.333333%,73.333333%,73.333333%);fill-opacity:1;\" d=\"M 636.292969 110.574219 L 621.375 109.015625 L 625.140625 100.546875 L 636.292969 110.574219 \"/>\n",
       "<path style=\"fill:none;stroke-width:1;stroke-linecap:butt;stroke-linejoin:miter;stroke:rgb(73.333333%,73.333333%,73.333333%);stroke-opacity:1;stroke-miterlimit:10;\" d=\"M 500 116.667969 L 620.734375 116.667969 \"/>\n",
       "<path style=\" stroke:none;fill-rule:nonzero;fill:rgb(73.333333%,73.333333%,73.333333%);fill-opacity:1;\" d=\"M 635 116.667969 L 620.734375 121.300781 L 620.734375 112.03125 L 635 116.667969 \"/>\n",
       "<path style=\"fill:none;stroke-width:1;stroke-linecap:butt;stroke-linejoin:miter;stroke:rgb(0%,0%,0%);stroke-opacity:1;stroke-miterlimit:10;\" d=\"M 500 50 L 628.125 163.890625 \"/>\n",
       "<path style=\" stroke:none;fill-rule:nonzero;fill:rgb(0%,0%,0%);fill-opacity:1;\" d=\"M 638.789062 173.367188 L 625.046875 167.355469 L 631.207031 160.425781 L 638.789062 173.367188 \"/>\n",
       "<path style=\"fill:none;stroke-width:5;stroke-linecap:butt;stroke-linejoin:miter;stroke:rgb(0%,0%,0%);stroke-opacity:1;stroke-miterlimit:10;\" d=\"M 500 183.332031 L 620.734375 183.332031 \"/>\n",
       "<path style=\" stroke:none;fill-rule:nonzero;fill:rgb(0%,0%,0%);fill-opacity:1;\" d=\"M 635 183.332031 L 620.734375 187.96875 L 620.734375 178.699219 L 635 183.332031 \"/>\n",
       "<path style=\"fill:none;stroke-width:1;stroke-linecap:butt;stroke-linejoin:miter;stroke:rgb(73.333333%,73.333333%,73.333333%);stroke-opacity:1;stroke-miterlimit:10;\" d=\"M 500 50 L 632.441406 226.585938 \"/>\n",
       "<path style=\" stroke:none;fill-rule:nonzero;fill:rgb(73.333333%,73.333333%,73.333333%);fill-opacity:1;\" d=\"M 641 238 L 628.730469 229.367188 L 636.148438 223.804688 L 641 238 \"/>\n",
       "<path style=\"fill:none;stroke-width:1;stroke-linecap:butt;stroke-linejoin:miter;stroke:rgb(73.333333%,73.333333%,73.333333%);stroke-opacity:1;stroke-miterlimit:10;\" d=\"M 500 250 L 620.734375 250 \"/>\n",
       "<path style=\" stroke:none;fill-rule:nonzero;fill:rgb(73.333333%,73.333333%,73.333333%);fill-opacity:1;\" d=\"M 635 250 L 620.734375 254.636719 L 620.734375 245.363281 L 635 250 \"/>\n",
       "<path style=\"fill:none;stroke-width:1;stroke-linecap:butt;stroke-linejoin:miter;stroke:rgb(73.333333%,73.333333%,73.333333%);stroke-opacity:1;stroke-miterlimit:10;\" d=\"M 500 116.667969 L 623.257812 61.886719 \"/>\n",
       "<path style=\" stroke:none;fill-rule:nonzero;fill:rgb(73.333333%,73.333333%,73.333333%);fill-opacity:1;\" d=\"M 636.292969 56.09375 L 625.140625 66.121094 L 621.375 57.648438 L 636.292969 56.09375 \"/>\n",
       "<path style=\"fill:none;stroke-width:1;stroke-linecap:butt;stroke-linejoin:miter;stroke:rgb(73.333333%,73.333333%,73.333333%);stroke-opacity:1;stroke-miterlimit:10;\" d=\"M 500 116.667969 L 623.257812 171.449219 \"/>\n",
       "<path style=\" stroke:none;fill-rule:nonzero;fill:rgb(73.333333%,73.333333%,73.333333%);fill-opacity:1;\" d=\"M 636.292969 177.242188 L 621.375 175.683594 L 625.140625 167.210938 L 636.292969 177.242188 \"/>\n",
       "<path style=\"fill:none;stroke-width:1;stroke-linecap:butt;stroke-linejoin:miter;stroke:rgb(73.333333%,73.333333%,73.333333%);stroke-opacity:1;stroke-miterlimit:10;\" d=\"M 50 83.332031 L 171.429688 56.347656 \"/>\n",
       "<path style=\" stroke:none;fill-rule:nonzero;fill:rgb(73.333333%,73.333333%,73.333333%);fill-opacity:1;\" d=\"M 185.355469 53.253906 L 172.4375 60.875 L 170.425781 51.824219 L 185.355469 53.253906 \"/>\n",
       "<path style=\"fill:none;stroke-width:1;stroke-linecap:butt;stroke-linejoin:miter;stroke:rgb(73.333333%,73.333333%,73.333333%);stroke-opacity:1;stroke-miterlimit:10;\" d=\"M 50 83.332031 L 320.914062 53.230469 \"/>\n",
       "<path style=\" stroke:none;fill-rule:nonzero;fill:rgb(73.333333%,73.333333%,73.333333%);fill-opacity:1;\" d=\"M 335.089844 51.65625 L 321.425781 57.839844 L 320.402344 48.625 L 335.089844 51.65625 \"/>\n",
       "<path style=\"fill:none;stroke-width:1;stroke-linecap:butt;stroke-linejoin:miter;stroke:rgb(73.333333%,73.333333%,73.333333%);stroke-opacity:1;stroke-miterlimit:10;\" d=\"M 50 83.332031 L 470.8125 52.160156 \"/>\n",
       "<path style=\" stroke:none;fill-rule:nonzero;fill:rgb(73.333333%,73.333333%,73.333333%);fill-opacity:1;\" d=\"M 485.039062 51.109375 L 471.15625 56.785156 L 470.472656 47.539062 L 485.039062 51.109375 \"/>\n",
       "<path style=\"fill:none;stroke-width:1;stroke-linecap:butt;stroke-linejoin:miter;stroke:rgb(73.333333%,73.333333%,73.333333%);stroke-opacity:1;stroke-miterlimit:10;\" d=\"M 50 83.332031 L 620.777344 51.625 \"/>\n",
       "<path style=\" stroke:none;fill-rule:nonzero;fill:rgb(73.333333%,73.333333%,73.333333%);fill-opacity:1;\" d=\"M 635.023438 50.832031 L 621.035156 56.25 L 620.523438 46.996094 L 635.023438 50.832031 \"/>\n",
       "<path style=\"fill-rule:nonzero;fill:rgb(55.294118%,82.745098%,78.039216%);fill-opacity:1;stroke-width:1;stroke-linecap:butt;stroke-linejoin:miter;stroke:rgb(0%,0%,0%);stroke-opacity:1;stroke-miterlimit:10;\" d=\"M 215 50 C 215 58.285156 208.285156 65 200 65 C 191.714844 65 185 58.285156 185 50 C 185 41.714844 191.714844 35 200 35 C 208.285156 35 215 41.714844 215 50 \"/>\n",
       "<path style=\"fill-rule:nonzero;fill:rgb(100%,100%,70.196078%);fill-opacity:1;stroke-width:1;stroke-linecap:butt;stroke-linejoin:miter;stroke:rgb(0%,0%,0%);stroke-opacity:1;stroke-miterlimit:10;\" d=\"M 215 116.667969 C 215 124.949219 208.285156 131.667969 200 131.667969 C 191.714844 131.667969 185 124.949219 185 116.667969 C 185 108.382812 191.714844 101.667969 200 101.667969 C 208.285156 101.667969 215 108.382812 215 116.667969 \"/>\n",
       "<path style=\"fill-rule:nonzero;fill:rgb(74.509804%,72.941176%,85.490196%);fill-opacity:1;stroke-width:1;stroke-linecap:butt;stroke-linejoin:miter;stroke:rgb(0%,0%,0%);stroke-opacity:1;stroke-miterlimit:10;\" d=\"M 215 183.332031 C 215 191.617188 208.285156 198.332031 200 198.332031 C 191.714844 198.332031 185 191.617188 185 183.332031 C 185 175.050781 191.714844 168.332031 200 168.332031 C 208.285156 168.332031 215 175.050781 215 183.332031 \"/>\n",
       "<path style=\"fill-rule:nonzero;fill:rgb(98.431373%,50.196078%,44.705882%);fill-opacity:1;stroke-width:1;stroke-linecap:butt;stroke-linejoin:miter;stroke:rgb(0%,0%,0%);stroke-opacity:1;stroke-miterlimit:10;\" d=\"M 215 250 C 215 258.285156 208.285156 265 200 265 C 191.714844 265 185 258.285156 185 250 C 185 241.714844 191.714844 235 200 235 C 208.285156 235 215 241.714844 215 250 \"/>\n",
       "<path style=\"fill-rule:nonzero;fill:rgb(55.294118%,82.745098%,78.039216%);fill-opacity:1;stroke-width:1;stroke-linecap:butt;stroke-linejoin:miter;stroke:rgb(0%,0%,0%);stroke-opacity:1;stroke-miterlimit:10;\" d=\"M 365 50 C 365 58.285156 358.285156 65 350 65 C 341.714844 65 335 58.285156 335 50 C 335 41.714844 341.714844 35 350 35 C 358.285156 35 365 41.714844 365 50 \"/>\n",
       "<path style=\"fill-rule:nonzero;fill:rgb(100%,100%,70.196078%);fill-opacity:1;stroke-width:1;stroke-linecap:butt;stroke-linejoin:miter;stroke:rgb(0%,0%,0%);stroke-opacity:1;stroke-miterlimit:10;\" d=\"M 365 116.667969 C 365 124.949219 358.285156 131.667969 350 131.667969 C 341.714844 131.667969 335 124.949219 335 116.667969 C 335 108.382812 341.714844 101.667969 350 101.667969 C 358.285156 101.667969 365 108.382812 365 116.667969 \"/>\n",
       "<path style=\"fill-rule:nonzero;fill:rgb(74.509804%,72.941176%,85.490196%);fill-opacity:1;stroke-width:1;stroke-linecap:butt;stroke-linejoin:miter;stroke:rgb(0%,0%,0%);stroke-opacity:1;stroke-miterlimit:10;\" d=\"M 365 183.332031 C 365 191.617188 358.285156 198.332031 350 198.332031 C 341.714844 198.332031 335 191.617188 335 183.332031 C 335 175.050781 341.714844 168.332031 350 168.332031 C 358.285156 168.332031 365 175.050781 365 183.332031 \"/>\n",
       "<path style=\"fill-rule:nonzero;fill:rgb(98.431373%,50.196078%,44.705882%);fill-opacity:1;stroke-width:1;stroke-linecap:butt;stroke-linejoin:miter;stroke:rgb(0%,0%,0%);stroke-opacity:1;stroke-miterlimit:10;\" d=\"M 365 250 C 365 258.285156 358.285156 265 350 265 C 341.714844 265 335 258.285156 335 250 C 335 241.714844 341.714844 235 350 235 C 358.285156 235 365 241.714844 365 250 \"/>\n",
       "<path style=\"fill-rule:nonzero;fill:rgb(55.294118%,82.745098%,78.039216%);fill-opacity:1;stroke-width:1;stroke-linecap:butt;stroke-linejoin:miter;stroke:rgb(0%,0%,0%);stroke-opacity:1;stroke-miterlimit:10;\" d=\"M 515 50 C 515 58.285156 508.285156 65 500 65 C 491.714844 65 485 58.285156 485 50 C 485 41.714844 491.714844 35 500 35 C 508.285156 35 515 41.714844 515 50 \"/>\n",
       "<path style=\"fill-rule:nonzero;fill:rgb(100%,100%,70.196078%);fill-opacity:1;stroke-width:1;stroke-linecap:butt;stroke-linejoin:miter;stroke:rgb(0%,0%,0%);stroke-opacity:1;stroke-miterlimit:10;\" d=\"M 515 116.667969 C 515 124.949219 508.285156 131.667969 500 131.667969 C 491.714844 131.667969 485 124.949219 485 116.667969 C 485 108.382812 491.714844 101.667969 500 101.667969 C 508.285156 101.667969 515 108.382812 515 116.667969 \"/>\n",
       "<path style=\"fill-rule:nonzero;fill:rgb(74.509804%,72.941176%,85.490196%);fill-opacity:1;stroke-width:1;stroke-linecap:butt;stroke-linejoin:miter;stroke:rgb(0%,0%,0%);stroke-opacity:1;stroke-miterlimit:10;\" d=\"M 515 183.332031 C 515 191.617188 508.285156 198.332031 500 198.332031 C 491.714844 198.332031 485 191.617188 485 183.332031 C 485 175.050781 491.714844 168.332031 500 168.332031 C 508.285156 168.332031 515 175.050781 515 183.332031 \"/>\n",
       "<path style=\"fill-rule:nonzero;fill:rgb(98.431373%,50.196078%,44.705882%);fill-opacity:1;stroke-width:1;stroke-linecap:butt;stroke-linejoin:miter;stroke:rgb(0%,0%,0%);stroke-opacity:1;stroke-miterlimit:10;\" d=\"M 515 250 C 515 258.285156 508.285156 265 500 265 C 491.714844 265 485 258.285156 485 250 C 485 241.714844 491.714844 235 500 235 C 508.285156 235 515 241.714844 515 250 \"/>\n",
       "<path style=\"fill-rule:nonzero;fill:rgb(55.294118%,82.745098%,78.039216%);fill-opacity:1;stroke-width:1;stroke-linecap:butt;stroke-linejoin:miter;stroke:rgb(0%,0%,0%);stroke-opacity:1;stroke-miterlimit:10;\" d=\"M 665 50 C 665 58.285156 658.285156 65 650 65 C 641.714844 65 635 58.285156 635 50 C 635 41.714844 641.714844 35 650 35 C 658.285156 35 665 41.714844 665 50 \"/>\n",
       "<path style=\"fill-rule:nonzero;fill:rgb(100%,100%,70.196078%);fill-opacity:1;stroke-width:1;stroke-linecap:butt;stroke-linejoin:miter;stroke:rgb(0%,0%,0%);stroke-opacity:1;stroke-miterlimit:10;\" d=\"M 665 116.667969 C 665 124.949219 658.285156 131.667969 650 131.667969 C 641.714844 131.667969 635 124.949219 635 116.667969 C 635 108.382812 641.714844 101.667969 650 101.667969 C 658.285156 101.667969 665 108.382812 665 116.667969 \"/>\n",
       "<path style=\"fill-rule:nonzero;fill:rgb(74.509804%,72.941176%,85.490196%);fill-opacity:1;stroke-width:1;stroke-linecap:butt;stroke-linejoin:miter;stroke:rgb(0%,0%,0%);stroke-opacity:1;stroke-miterlimit:10;\" d=\"M 665 183.332031 C 665 191.617188 658.285156 198.332031 650 198.332031 C 641.714844 198.332031 635 191.617188 635 183.332031 C 635 175.050781 641.714844 168.332031 650 168.332031 C 658.285156 168.332031 665 175.050781 665 183.332031 \"/>\n",
       "<path style=\"fill-rule:nonzero;fill:rgb(98.431373%,50.196078%,44.705882%);fill-opacity:1;stroke-width:1;stroke-linecap:butt;stroke-linejoin:miter;stroke:rgb(0%,0%,0%);stroke-opacity:1;stroke-miterlimit:10;\" d=\"M 665 250 C 665 258.285156 658.285156 265 650 265 C 641.714844 265 635 258.285156 635 250 C 635 241.714844 641.714844 235 650 235 C 658.285156 235 665 241.714844 665 250 \"/>\n",
       "<path style=\"fill-rule:nonzero;fill:rgb(73.333333%,73.333333%,73.333333%);fill-opacity:1;stroke-width:1;stroke-linecap:butt;stroke-linejoin:miter;stroke:rgb(0%,0%,0%);stroke-opacity:1;stroke-miterlimit:10;\" d=\"M 65 83.332031 C 65 91.617188 58.285156 98.332031 50 98.332031 C 41.714844 98.332031 35 91.617188 35 83.332031 C 35 75.050781 41.714844 68.332031 50 68.332031 C 58.285156 68.332031 65 75.050781 65 83.332031 \"/>\n",
       "<g style=\"fill:rgb(0%,0%,0%);fill-opacity:1;\">\n",
       "  <use xlink:href=\"#glyph0-1\" x=\"186.558594\" y=\"54.972656\"/>\n",
       "  <use xlink:href=\"#glyph0-2\" x=\"190.459961\" y=\"54.972656\"/>\n",
       "  <use xlink:href=\"#glyph0-3\" x=\"196.822266\" y=\"54.972656\"/>\n",
       "  <use xlink:href=\"#glyph0-4\" x=\"200.000977\" y=\"54.972656\"/>\n",
       "  <use xlink:href=\"#glyph0-2\" x=\"203.179688\" y=\"54.972656\"/>\n",
       "  <use xlink:href=\"#glyph0-5\" x=\"209.541992\" y=\"54.972656\"/>\n",
       "</g>\n",
       "<g style=\"fill:rgb(0%,0%,0%);fill-opacity:1;\">\n",
       "  <use xlink:href=\"#glyph0-1\" x=\"186.558594\" y=\"121.640625\"/>\n",
       "  <use xlink:href=\"#glyph0-2\" x=\"190.459961\" y=\"121.640625\"/>\n",
       "  <use xlink:href=\"#glyph0-3\" x=\"196.822266\" y=\"121.640625\"/>\n",
       "  <use xlink:href=\"#glyph0-4\" x=\"200.000977\" y=\"121.640625\"/>\n",
       "  <use xlink:href=\"#glyph0-6\" x=\"203.179688\" y=\"121.640625\"/>\n",
       "  <use xlink:href=\"#glyph0-5\" x=\"209.541992\" y=\"121.640625\"/>\n",
       "</g>\n",
       "<g style=\"fill:rgb(0%,0%,0%);fill-opacity:1;\">\n",
       "  <use xlink:href=\"#glyph0-1\" x=\"186.558594\" y=\"188.304688\"/>\n",
       "  <use xlink:href=\"#glyph0-2\" x=\"190.459961\" y=\"188.304688\"/>\n",
       "  <use xlink:href=\"#glyph0-3\" x=\"196.822266\" y=\"188.304688\"/>\n",
       "  <use xlink:href=\"#glyph0-4\" x=\"200.000977\" y=\"188.304688\"/>\n",
       "  <use xlink:href=\"#glyph0-7\" x=\"203.179688\" y=\"188.304688\"/>\n",
       "  <use xlink:href=\"#glyph0-5\" x=\"209.541992\" y=\"188.304688\"/>\n",
       "</g>\n",
       "<g style=\"fill:rgb(0%,0%,0%);fill-opacity:1;\">\n",
       "  <use xlink:href=\"#glyph0-1\" x=\"186.558594\" y=\"254.972656\"/>\n",
       "  <use xlink:href=\"#glyph0-2\" x=\"190.459961\" y=\"254.972656\"/>\n",
       "  <use xlink:href=\"#glyph0-3\" x=\"196.822266\" y=\"254.972656\"/>\n",
       "  <use xlink:href=\"#glyph0-4\" x=\"200.000977\" y=\"254.972656\"/>\n",
       "  <use xlink:href=\"#glyph0-8\" x=\"203.179688\" y=\"254.972656\"/>\n",
       "  <use xlink:href=\"#glyph0-5\" x=\"209.541992\" y=\"254.972656\"/>\n",
       "</g>\n",
       "<g style=\"fill:rgb(0%,0%,0%);fill-opacity:1;\">\n",
       "  <use xlink:href=\"#glyph0-1\" x=\"336.558594\" y=\"54.972656\"/>\n",
       "  <use xlink:href=\"#glyph0-6\" x=\"340.459961\" y=\"54.972656\"/>\n",
       "  <use xlink:href=\"#glyph0-3\" x=\"346.822266\" y=\"54.972656\"/>\n",
       "  <use xlink:href=\"#glyph0-4\" x=\"350.000977\" y=\"54.972656\"/>\n",
       "  <use xlink:href=\"#glyph0-2\" x=\"353.179688\" y=\"54.972656\"/>\n",
       "  <use xlink:href=\"#glyph0-5\" x=\"359.541992\" y=\"54.972656\"/>\n",
       "</g>\n",
       "<g style=\"fill:rgb(0%,0%,0%);fill-opacity:1;\">\n",
       "  <use xlink:href=\"#glyph0-1\" x=\"336.558594\" y=\"121.640625\"/>\n",
       "  <use xlink:href=\"#glyph0-6\" x=\"340.459961\" y=\"121.640625\"/>\n",
       "  <use xlink:href=\"#glyph0-3\" x=\"346.822266\" y=\"121.640625\"/>\n",
       "  <use xlink:href=\"#glyph0-4\" x=\"350.000977\" y=\"121.640625\"/>\n",
       "  <use xlink:href=\"#glyph0-6\" x=\"353.179688\" y=\"121.640625\"/>\n",
       "  <use xlink:href=\"#glyph0-5\" x=\"359.541992\" y=\"121.640625\"/>\n",
       "</g>\n",
       "<g style=\"fill:rgb(0%,0%,0%);fill-opacity:1;\">\n",
       "  <use xlink:href=\"#glyph0-1\" x=\"336.558594\" y=\"188.304688\"/>\n",
       "  <use xlink:href=\"#glyph0-6\" x=\"340.459961\" y=\"188.304688\"/>\n",
       "  <use xlink:href=\"#glyph0-3\" x=\"346.822266\" y=\"188.304688\"/>\n",
       "  <use xlink:href=\"#glyph0-4\" x=\"350.000977\" y=\"188.304688\"/>\n",
       "  <use xlink:href=\"#glyph0-7\" x=\"353.179688\" y=\"188.304688\"/>\n",
       "  <use xlink:href=\"#glyph0-5\" x=\"359.541992\" y=\"188.304688\"/>\n",
       "</g>\n",
       "<g style=\"fill:rgb(0%,0%,0%);fill-opacity:1;\">\n",
       "  <use xlink:href=\"#glyph0-1\" x=\"336.558594\" y=\"254.972656\"/>\n",
       "  <use xlink:href=\"#glyph0-6\" x=\"340.459961\" y=\"254.972656\"/>\n",
       "  <use xlink:href=\"#glyph0-3\" x=\"346.822266\" y=\"254.972656\"/>\n",
       "  <use xlink:href=\"#glyph0-4\" x=\"350.000977\" y=\"254.972656\"/>\n",
       "  <use xlink:href=\"#glyph0-8\" x=\"353.179688\" y=\"254.972656\"/>\n",
       "  <use xlink:href=\"#glyph0-5\" x=\"359.541992\" y=\"254.972656\"/>\n",
       "</g>\n",
       "<g style=\"fill:rgb(0%,0%,0%);fill-opacity:1;\">\n",
       "  <use xlink:href=\"#glyph0-1\" x=\"486.558594\" y=\"54.972656\"/>\n",
       "  <use xlink:href=\"#glyph0-7\" x=\"490.459961\" y=\"54.972656\"/>\n",
       "  <use xlink:href=\"#glyph0-3\" x=\"496.822266\" y=\"54.972656\"/>\n",
       "  <use xlink:href=\"#glyph0-4\" x=\"500.000977\" y=\"54.972656\"/>\n",
       "  <use xlink:href=\"#glyph0-2\" x=\"503.179688\" y=\"54.972656\"/>\n",
       "  <use xlink:href=\"#glyph0-5\" x=\"509.541992\" y=\"54.972656\"/>\n",
       "</g>\n",
       "<g style=\"fill:rgb(0%,0%,0%);fill-opacity:1;\">\n",
       "  <use xlink:href=\"#glyph0-1\" x=\"486.558594\" y=\"121.640625\"/>\n",
       "  <use xlink:href=\"#glyph0-7\" x=\"490.459961\" y=\"121.640625\"/>\n",
       "  <use xlink:href=\"#glyph0-3\" x=\"496.822266\" y=\"121.640625\"/>\n",
       "  <use xlink:href=\"#glyph0-4\" x=\"500.000977\" y=\"121.640625\"/>\n",
       "  <use xlink:href=\"#glyph0-6\" x=\"503.179688\" y=\"121.640625\"/>\n",
       "  <use xlink:href=\"#glyph0-5\" x=\"509.541992\" y=\"121.640625\"/>\n",
       "</g>\n",
       "<g style=\"fill:rgb(0%,0%,0%);fill-opacity:1;\">\n",
       "  <use xlink:href=\"#glyph0-1\" x=\"486.558594\" y=\"188.304688\"/>\n",
       "  <use xlink:href=\"#glyph0-7\" x=\"490.459961\" y=\"188.304688\"/>\n",
       "  <use xlink:href=\"#glyph0-3\" x=\"496.822266\" y=\"188.304688\"/>\n",
       "  <use xlink:href=\"#glyph0-4\" x=\"500.000977\" y=\"188.304688\"/>\n",
       "  <use xlink:href=\"#glyph0-7\" x=\"503.179688\" y=\"188.304688\"/>\n",
       "  <use xlink:href=\"#glyph0-5\" x=\"509.541992\" y=\"188.304688\"/>\n",
       "</g>\n",
       "<g style=\"fill:rgb(0%,0%,0%);fill-opacity:1;\">\n",
       "  <use xlink:href=\"#glyph0-1\" x=\"486.558594\" y=\"254.972656\"/>\n",
       "  <use xlink:href=\"#glyph0-7\" x=\"490.459961\" y=\"254.972656\"/>\n",
       "  <use xlink:href=\"#glyph0-3\" x=\"496.822266\" y=\"254.972656\"/>\n",
       "  <use xlink:href=\"#glyph0-4\" x=\"500.000977\" y=\"254.972656\"/>\n",
       "  <use xlink:href=\"#glyph0-8\" x=\"503.179688\" y=\"254.972656\"/>\n",
       "  <use xlink:href=\"#glyph0-5\" x=\"509.541992\" y=\"254.972656\"/>\n",
       "</g>\n",
       "<g style=\"fill:rgb(0%,0%,0%);fill-opacity:1;\">\n",
       "  <use xlink:href=\"#glyph0-1\" x=\"636.558594\" y=\"54.972656\"/>\n",
       "  <use xlink:href=\"#glyph0-8\" x=\"640.459961\" y=\"54.972656\"/>\n",
       "  <use xlink:href=\"#glyph0-3\" x=\"646.822266\" y=\"54.972656\"/>\n",
       "  <use xlink:href=\"#glyph0-4\" x=\"650.000977\" y=\"54.972656\"/>\n",
       "  <use xlink:href=\"#glyph0-2\" x=\"653.179688\" y=\"54.972656\"/>\n",
       "  <use xlink:href=\"#glyph0-5\" x=\"659.541992\" y=\"54.972656\"/>\n",
       "</g>\n",
       "<g style=\"fill:rgb(0%,0%,0%);fill-opacity:1;\">\n",
       "  <use xlink:href=\"#glyph0-1\" x=\"636.558594\" y=\"121.640625\"/>\n",
       "  <use xlink:href=\"#glyph0-8\" x=\"640.459961\" y=\"121.640625\"/>\n",
       "  <use xlink:href=\"#glyph0-3\" x=\"646.822266\" y=\"121.640625\"/>\n",
       "  <use xlink:href=\"#glyph0-4\" x=\"650.000977\" y=\"121.640625\"/>\n",
       "  <use xlink:href=\"#glyph0-6\" x=\"653.179688\" y=\"121.640625\"/>\n",
       "  <use xlink:href=\"#glyph0-5\" x=\"659.541992\" y=\"121.640625\"/>\n",
       "</g>\n",
       "<g style=\"fill:rgb(0%,0%,0%);fill-opacity:1;\">\n",
       "  <use xlink:href=\"#glyph0-1\" x=\"636.558594\" y=\"188.304688\"/>\n",
       "  <use xlink:href=\"#glyph0-8\" x=\"640.459961\" y=\"188.304688\"/>\n",
       "  <use xlink:href=\"#glyph0-3\" x=\"646.822266\" y=\"188.304688\"/>\n",
       "  <use xlink:href=\"#glyph0-4\" x=\"650.000977\" y=\"188.304688\"/>\n",
       "  <use xlink:href=\"#glyph0-7\" x=\"653.179688\" y=\"188.304688\"/>\n",
       "  <use xlink:href=\"#glyph0-5\" x=\"659.541992\" y=\"188.304688\"/>\n",
       "</g>\n",
       "<g style=\"fill:rgb(0%,0%,0%);fill-opacity:1;\">\n",
       "  <use xlink:href=\"#glyph0-1\" x=\"636.558594\" y=\"254.972656\"/>\n",
       "  <use xlink:href=\"#glyph0-8\" x=\"640.459961\" y=\"254.972656\"/>\n",
       "  <use xlink:href=\"#glyph0-3\" x=\"646.822266\" y=\"254.972656\"/>\n",
       "  <use xlink:href=\"#glyph0-4\" x=\"650.000977\" y=\"254.972656\"/>\n",
       "  <use xlink:href=\"#glyph0-8\" x=\"653.179688\" y=\"254.972656\"/>\n",
       "  <use xlink:href=\"#glyph0-5\" x=\"659.541992\" y=\"254.972656\"/>\n",
       "</g>\n",
       "<g style=\"fill:rgb(0%,0%,0%);fill-opacity:1;\">\n",
       "  <use xlink:href=\"#glyph0-1\" x=\"32.949219\" y=\"88.304688\"/>\n",
       "  <use xlink:href=\"#glyph0-9\" x=\"36.850586\" y=\"88.304688\"/>\n",
       "  <use xlink:href=\"#glyph0-6\" x=\"40.458984\" y=\"88.304688\"/>\n",
       "  <use xlink:href=\"#glyph0-3\" x=\"46.821289\" y=\"88.304688\"/>\n",
       "  <use xlink:href=\"#glyph0-4\" x=\"50\" y=\"88.304688\"/>\n",
       "  <use xlink:href=\"#glyph0-9\" x=\"53.178711\" y=\"88.304688\"/>\n",
       "  <use xlink:href=\"#glyph0-6\" x=\"56.787109\" y=\"88.304688\"/>\n",
       "  <use xlink:href=\"#glyph0-5\" x=\"63.149414\" y=\"88.304688\"/>\n",
       "</g>\n",
       "</g>\n",
       "</svg>\n"
      ],
      "text/plain": [
       "<igraph.drawing.Plot at 0x7f2b15140208>"
      ]
     },
     "execution_count": 63,
     "metadata": {
      "image/svg+xml": {
       "isolated": true
      }
     },
     "output_type": "execute_result"
    }
   ],
   "source": [
    "tugcs, tugcs_source = util._add_source_to_tug(tugc)\n",
    "ig.plot(tugcs, **util.get_visual_style(tugcs), bbox=(700, 300), margin=50)"
   ]
  },
  {
   "cell_type": "code",
   "execution_count": 64,
   "metadata": {},
   "outputs": [
    {
     "name": "stdout",
     "output_type": "stream",
     "text": [
      "0: [0, 4, 8, 12]\n",
      "1: [0, 4, 8, 13]\n",
      "2: [0, 4, 8, 14]\n",
      "3: [0, 4, 8, 15]\n",
      "4: [0, 4, 9, 12]\n",
      "5: [0, 4, 9, 13]\n",
      "6: [0, 4, 9, 14]\n",
      "7: [0, 4, 10, 14]\n",
      "8: [0, 4, 11, 15]\n",
      "9: [0, 5, 8, 12]\n",
      "10: [0, 5, 8, 13]\n",
      "11: [0, 5, 8, 14]\n",
      "12: [0, 5, 8, 15]\n",
      "13: [0, 5, 9, 12]\n",
      "14: [0, 5, 9, 13]\n",
      "15: [0, 5, 9, 14]\n",
      "16: [0, 5, 10, 14]\n",
      "17: [0, 6, 10, 14]\n",
      "18: [0, 7, 11, 15]\n",
      "19: [4, 8, 12]\n",
      "20: [4, 8, 13]\n",
      "21: [4, 8, 14]\n",
      "22: [4, 8, 15]\n",
      "23: [4, 9, 12]\n",
      "24: [4, 9, 13]\n",
      "25: [4, 9, 14]\n",
      "26: [4, 10, 14]\n",
      "27: [4, 11, 15]\n",
      "28: [8, 12]\n",
      "29: [8, 13]\n",
      "30: [8, 14]\n",
      "31: [8, 15]\n",
      "32: [12]\n"
     ]
    }
   ],
   "source": [
    "tug_paths = util.find_all_paths(tugcs, tugcs_source, exclude_source=True)\n",
    "\n",
    "for i, p in enumerate(tug_paths):\n",
    "    print(f'{i}: {p}')"
   ]
  },
  {
   "cell_type": "code",
   "execution_count": 65,
   "metadata": {},
   "outputs": [
    {
     "name": "stdout",
     "output_type": "stream",
     "text": [
      "0: [(0, 0), (1, 0), (2, 0), (3, 0)]\n",
      "1: [(0, 0), (1, 0), (2, 0), (3, 1)]\n",
      "2: [(0, 0), (1, 0), (2, 0), (3, 2)]\n",
      "3: [(0, 0), (1, 0), (2, 0), (3, 3)]\n",
      "4: [(0, 0), (1, 0), (2, 1), (3, 0)]\n",
      "5: [(0, 0), (1, 0), (2, 1), (3, 1)]\n",
      "6: [(0, 0), (1, 0), (2, 1), (3, 2)]\n",
      "7: [(0, 0), (1, 0), (2, 2), (3, 2)]\n",
      "8: [(0, 0), (1, 0), (2, 3), (3, 3)]\n",
      "9: [(0, 0), (1, 1), (2, 0), (3, 0)]\n",
      "10: [(0, 0), (1, 1), (2, 0), (3, 1)]\n",
      "11: [(0, 0), (1, 1), (2, 0), (3, 2)]\n",
      "12: [(0, 0), (1, 1), (2, 0), (3, 3)]\n",
      "13: [(0, 0), (1, 1), (2, 1), (3, 0)]\n",
      "14: [(0, 0), (1, 1), (2, 1), (3, 1)]\n",
      "15: [(0, 0), (1, 1), (2, 1), (3, 2)]\n",
      "16: [(0, 0), (1, 1), (2, 2), (3, 2)]\n",
      "17: [(0, 0), (1, 2), (2, 2), (3, 2)]\n",
      "18: [(0, 0), (1, 3), (2, 3), (3, 3)]\n",
      "19: [(1, 0), (2, 0), (3, 0)]\n",
      "20: [(1, 0), (2, 0), (3, 1)]\n",
      "21: [(1, 0), (2, 0), (3, 2)]\n",
      "22: [(1, 0), (2, 0), (3, 3)]\n",
      "23: [(1, 0), (2, 1), (3, 0)]\n",
      "24: [(1, 0), (2, 1), (3, 1)]\n",
      "25: [(1, 0), (2, 1), (3, 2)]\n",
      "26: [(1, 0), (2, 2), (3, 2)]\n",
      "27: [(1, 0), (2, 3), (3, 3)]\n",
      "28: [(2, 0), (3, 0)]\n",
      "29: [(2, 0), (3, 1)]\n",
      "30: [(2, 0), (3, 2)]\n",
      "31: [(2, 0), (3, 3)]\n",
      "32: [(3, 0)]\n"
     ]
    }
   ],
   "source": [
    "tmp = util.tug_paths_to_original(tugcs, tug_paths)\n",
    "for i, p in enumerate(tmp):\n",
    "    print(f'{i}: {p}')"
   ]
  },
  {
   "cell_type": "code",
   "execution_count": 66,
   "metadata": {},
   "outputs": [
    {
     "data": {
      "text/plain": [
       "[(7.373330403562943, [(0, 0), (1, 0), (2, 0), (3, 0)]),\n",
       " (9.036522589128893, [(1, 0), (2, 2), (3, 2)]),\n",
       " (2.130267794174526, [(3, 0)]),\n",
       " (3.23099467503432, [(2, 0), (3, 2)]),\n",
       " (7.253412874556227, [(0, 0), (1, 1), (2, 2), (3, 2)])]"
      ]
     },
     "execution_count": 66,
     "metadata": {},
     "output_type": "execute_result"
    }
   ],
   "source": [
    "paths"
   ]
  },
  {
   "cell_type": "code",
   "execution_count": 67,
   "metadata": {},
   "outputs": [],
   "source": [
    "#pidx = [0, 26, 32, 30, 16]\n",
    "#tug_paths = [tug_paths[i] for i in pidx]\n",
    "#tug_paths"
   ]
  },
  {
   "cell_type": "markdown",
   "metadata": {},
   "source": [
    "$$\n",
    "\\arg \\min_{x} \\left\\{\\|Vx - \\hat{v}\\|_2^2 + \\|Ex - \\hat{e}\\|_2^2 \\mid x \\geq 0 \\right\\}\n",
    "$$"
   ]
  },
  {
   "cell_type": "markdown",
   "metadata": {},
   "source": [
    "$$\\begin{align}\n",
    "\\|Ax - b\\|_2^2 &= (Ax - b)^T (Ax - b) \\\\\n",
    "&= x^T A^TA x - x^T A^T b - b^T Ax + b^T b \\\\\n",
    "&\\propto \\frac{1}{2} x^T (A^TA) x - \\frac{1}{2} x^T A^T b - \\frac{1}{2} b^T Ax \\\\\n",
    "&= \\frac{1}{2} x^T (A^TA) x + (-A^Tb)^Tx\n",
    "\\end{align}$$\n",
    "\n",
    "Since $y^Tx = x^Ty$ if the result is a scalar"
   ]
  },
  {
   "cell_type": "markdown",
   "metadata": {},
   "source": [
    "$$\n",
    "\\|Vx - \\hat{v}\\|_2^2 + \\|Ex - \\hat{e}\\|_2^2 \\\\\n",
    "\\propto \\frac{1}{2} \\|Vx - \\hat{v}\\|_2^2 + \\frac{1}{2} \\|Ex - \\hat{e}\\|_2^2 \\\\\n",
    "= \\frac{1}{2}x^T (V^T V) x + (-V^T \\hat{v})^T x + \\frac{1}{2} x^T (E^T E) x + (-E^T \\hat{e})^T x \\\\\n",
    "= \\frac{1}{2} x^T P x + q^T x\n",
    "$$\n",
    "where:\n",
    "$$\n",
    "P = V^T V + E^T E \\\\\n",
    "q = -V^T \\hat{v} -E^T \\hat{e}\n",
    "$$\n",
    "and $P$ is guaranteed to be positive semi-definite"
   ]
  },
  {
   "cell_type": "code",
   "execution_count": 68,
   "metadata": {},
   "outputs": [],
   "source": [
    "V, E = util._paths_to_coefficient_matrices(tug, tug_paths)\n",
    "v, e = util._counts_to_target_vectors(tug, node_counts, arc_counts)"
   ]
  },
  {
   "cell_type": "code",
   "execution_count": 69,
   "metadata": {},
   "outputs": [
    {
     "data": {
      "text/plain": [
       "{(0, 0): 14.626743278119172,\n",
       " (0, 1): 0,\n",
       " (0, 2): 0,\n",
       " (0, 3): 0,\n",
       " (1, 0): 16.409852992691835,\n",
       " (1, 1): 7.253412874556227,\n",
       " (1, 2): 0,\n",
       " (1, 3): 0,\n",
       " (2, 0): 10.604325078597263,\n",
       " (2, 1): 0,\n",
       " (2, 2): 16.28993546368512,\n",
       " (2, 3): 0,\n",
       " (3, 0): 9.50359819773747,\n",
       " (3, 1): 0,\n",
       " (3, 2): 19.520930138719443,\n",
       " (3, 3): 0}"
      ]
     },
     "execution_count": 69,
     "metadata": {},
     "output_type": "execute_result"
    }
   ],
   "source": [
    "node_counts"
   ]
  },
  {
   "cell_type": "code",
   "execution_count": 70,
   "metadata": {},
   "outputs": [
    {
     "data": {
      "text/plain": [
       "array([[14.62674328],\n",
       "       [ 0.        ],\n",
       "       [ 0.        ],\n",
       "       [ 0.        ],\n",
       "       [16.40985299],\n",
       "       [ 7.25341287],\n",
       "       [ 0.        ],\n",
       "       [ 0.        ],\n",
       "       [10.60432508],\n",
       "       [ 0.        ],\n",
       "       [16.28993546],\n",
       "       [ 0.        ],\n",
       "       [ 9.5035982 ],\n",
       "       [ 0.        ],\n",
       "       [19.52093014],\n",
       "       [ 0.        ]])"
      ]
     },
     "execution_count": 70,
     "metadata": {},
     "output_type": "execute_result"
    }
   ],
   "source": [
    "v.reshape((-1,1))"
   ]
  },
  {
   "cell_type": "code",
   "execution_count": 71,
   "metadata": {},
   "outputs": [
    {
     "data": {
      "text/plain": [
       "{(1, 0, 0): 7.373330403562943,\n",
       " (1, 0, 1): 7.253412874556227,\n",
       " (1, 1, 1): 0,\n",
       " (1, 0, 2): 0,\n",
       " (1, 2, 2): 0,\n",
       " (1, 0, 3): 0,\n",
       " (1, 3, 3): 0,\n",
       " (1, 1, 0): 0,\n",
       " (1, 1, 2): 0,\n",
       " (2, 0, 0): 7.373330403562943,\n",
       " (2, 0, 1): 0,\n",
       " (2, 1, 1): 0,\n",
       " (2, 0, 2): 9.036522589128893,\n",
       " (2, 2, 2): 0,\n",
       " (2, 0, 3): 0,\n",
       " (2, 3, 3): 0,\n",
       " (2, 1, 0): 0,\n",
       " (2, 1, 2): 7.253412874556227,\n",
       " (3, 0, 0): 7.373330403562943,\n",
       " (3, 0, 1): 0,\n",
       " (3, 1, 1): 0,\n",
       " (3, 0, 2): 3.23099467503432,\n",
       " (3, 2, 2): 16.28993546368512,\n",
       " (3, 0, 3): 0,\n",
       " (3, 3, 3): 0,\n",
       " (3, 1, 0): 0,\n",
       " (3, 1, 2): 0}"
      ]
     },
     "execution_count": 71,
     "metadata": {},
     "output_type": "execute_result"
    }
   ],
   "source": [
    "arc_counts"
   ]
  },
  {
   "cell_type": "code",
   "execution_count": 72,
   "metadata": {},
   "outputs": [
    {
     "data": {
      "text/plain": [
       "array([[ 7.3733304 ],\n",
       "       [ 7.25341287],\n",
       "       [ 0.        ],\n",
       "       [ 0.        ],\n",
       "       [ 0.        ],\n",
       "       [ 0.        ],\n",
       "       [ 0.        ],\n",
       "       [ 0.        ],\n",
       "       [ 0.        ],\n",
       "       [ 7.3733304 ],\n",
       "       [ 0.        ],\n",
       "       [ 0.        ],\n",
       "       [ 9.03652259],\n",
       "       [ 0.        ],\n",
       "       [ 0.        ],\n",
       "       [ 0.        ],\n",
       "       [ 0.        ],\n",
       "       [ 7.25341287],\n",
       "       [ 7.3733304 ],\n",
       "       [ 0.        ],\n",
       "       [ 0.        ],\n",
       "       [ 3.23099468],\n",
       "       [16.28993546],\n",
       "       [ 0.        ],\n",
       "       [ 0.        ],\n",
       "       [ 0.        ],\n",
       "       [ 0.        ]])"
      ]
     },
     "execution_count": 72,
     "metadata": {},
     "output_type": "execute_result"
    }
   ],
   "source": [
    "e.reshape((-1,1))"
   ]
  },
  {
   "cell_type": "code",
   "execution_count": 73,
   "metadata": {},
   "outputs": [
    {
     "data": {
      "application/vnd.jupyter.widget-view+json": {
       "model_id": "385e3ba304f14a7ca231f5ad42c0b8dd",
       "version_major": 2,
       "version_minor": 0
      },
      "text/html": [
       "\n",
       "            <div style=\"display: inline-block;\">\n",
       "                <div class=\"jupyter-widgets widget-label\" style=\"text-align: center;\">\n",
       "                    Figure\n",
       "                </div>\n",
       "                <img src='data:image/png;base64,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' width=900.0/>\n",
       "            </div>\n",
       "        "
      ],
      "text/plain": [
       "Canvas(toolbar=Toolbar(toolitems=[('Home', 'Reset original view', 'home', 'home'), ('Back', 'Back to previous …"
      ]
     },
     "metadata": {},
     "output_type": "display_data"
    }
   ],
   "source": [
    "plt.close('all')\n",
    "util.plot_matrix(V.toarray(), v, figsize=figsize, title='V', title_b='v')"
   ]
  },
  {
   "cell_type": "code",
   "execution_count": 74,
   "metadata": {},
   "outputs": [
    {
     "data": {
      "application/vnd.jupyter.widget-view+json": {
       "model_id": "508309bc01d842a7821737a744261276",
       "version_major": 2,
       "version_minor": 0
      },
      "text/html": [
       "\n",
       "            <div style=\"display: inline-block;\">\n",
       "                <div class=\"jupyter-widgets widget-label\" style=\"text-align: center;\">\n",
       "                    Figure\n",
       "                </div>\n",
       "                <img src='data:image/png;base64,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' width=900.0/>\n",
       "            </div>\n",
       "        "
      ],
      "text/plain": [
       "Canvas(toolbar=Toolbar(toolitems=[('Home', 'Reset original view', 'home', 'home'), ('Back', 'Back to previous …"
      ]
     },
     "metadata": {},
     "output_type": "display_data"
    }
   ],
   "source": [
    "plt.close('all')\n",
    "util.plot_matrix(E.toarray(), e, figsize=figsize, title='E', title_b='e')"
   ]
  },
  {
   "cell_type": "code",
   "execution_count": 75,
   "metadata": {
    "scrolled": false
   },
   "outputs": [
    {
     "name": "stdout",
     "output_type": "stream",
     "text": [
      "-----------------------------------------------------------------\n",
      "           OSQP v0.6.2  -  Operator Splitting QP Solver\n",
      "              (c) Bartolomeo Stellato,  Goran Banjac\n",
      "        University of Oxford  -  Stanford University 2021\n",
      "-----------------------------------------------------------------\n",
      "problem:  variables n = 33, constraints m = 33\n",
      "          nnz(P) + nnz(A) = 473\n",
      "settings: linear system solver = qdldl,\n",
      "          eps_abs = 1.0e-03, eps_rel = 1.0e-03,\n",
      "          eps_prim_inf = 1.0e-04, eps_dual_inf = 1.0e-04,\n",
      "          rho = 1.00e-01 (adaptive),\n",
      "          sigma = 1.00e-06, alpha = 1.60, max_iter = 4000\n",
      "          check_termination: on (interval 25),\n",
      "          scaling: on, scaled_termination: off\n",
      "          warm start: on, polish: on, time_limit: off\n",
      "\n",
      "iter   objective    pri res    dua res    rho        time\n",
      "   1  -9.0728e+02   1.35e-01   2.17e+01   1.00e-01   1.52e-04s\n",
      "  50  -1.0054e+03   9.27e-05   1.51e-02   1.00e-01   5.76e-04s\n",
      "plsh  -1.0054e+03   1.04e-16   2.03e-14   --------   8.16e-04s\n",
      "\n",
      "status:               solved\n",
      "solution polish:      successful\n",
      "number of iterations: 50\n",
      "optimal objective:    -1005.4089\n",
      "run time:             8.16e-04s\n",
      "optimal rho estimate: 2.91e-02\n",
      "\n"
     ]
    },
    {
     "data": {
      "text/plain": [
       "[(2.1991155307335504, [(0, 0), (1, 0), (2, 0), (3, 0)]),\n",
       " (1.0828060068299024, [(0, 0), (1, 0), (2, 0), (3, 2)]),\n",
       " (4.091408865999492, [(0, 0), (1, 0), (2, 2), (3, 2)]),\n",
       " (7.253412874556228, [(0, 0), (1, 1), (2, 2), (3, 2)]),\n",
       " (2.706122053399817, [(1, 0), (2, 0), (3, 0)]),\n",
       " (1.385286812599684, [(1, 0), (2, 0), (3, 2)]),\n",
       " (4.945113723129393, [(1, 0), (2, 2), (3, 2)]),\n",
       " (2.468092819429568, [(2, 0), (3, 0)]),\n",
       " (0.7629018556047334, [(2, 0), (3, 2)]),\n",
       " (2.130267794174534, [(3, 0)])]"
      ]
     },
     "execution_count": 75,
     "metadata": {},
     "output_type": "execute_result"
    }
   ],
   "source": [
    "prb = util.PathSelectionSolver(tug, node_counts, arc_counts)\n",
    "prb.setup(tug_paths, alpha=0, polish=True)\n",
    "sol = prb.solve()\n",
    "reconstructed_paths = prb.sol_to_paths()\n",
    "reconstructed_paths"
   ]
  },
  {
   "cell_type": "code",
   "execution_count": 76,
   "metadata": {},
   "outputs": [
    {
     "data": {
      "text/plain": [
       "[(7.373330403562943, [(0, 0), (1, 0), (2, 0), (3, 0)]),\n",
       " (9.036522589128893, [(1, 0), (2, 2), (3, 2)]),\n",
       " (2.130267794174526, [(3, 0)]),\n",
       " (3.23099467503432, [(2, 0), (3, 2)]),\n",
       " (7.253412874556227, [(0, 0), (1, 1), (2, 2), (3, 2)])]"
      ]
     },
     "execution_count": 76,
     "metadata": {},
     "output_type": "execute_result"
    }
   ],
   "source": [
    "paths"
   ]
  },
  {
   "cell_type": "code",
   "execution_count": 77,
   "metadata": {},
   "outputs": [
    {
     "data": {
      "application/vnd.jupyter.widget-view+json": {
       "model_id": "0348cb16c4734968b15d6616e77fff7f",
       "version_major": 2,
       "version_minor": 0
      },
      "text/html": [
       "\n",
       "            <div style=\"display: inline-block;\">\n",
       "                <div class=\"jupyter-widgets widget-label\" style=\"text-align: center;\">\n",
       "                    Figure\n",
       "                </div>\n",
       "                <img src='data:image/png;base64,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' width=900.0/>\n",
       "            </div>\n",
       "        "
      ],
      "text/plain": [
       "Canvas(toolbar=Toolbar(toolitems=[('Home', 'Reset original view', 'home', 'home'), ('Back', 'Back to previous …"
      ]
     },
     "metadata": {},
     "output_type": "display_data"
    }
   ],
   "source": [
    "rec_node_counts, rec_arc_counts = util.get_dynamic_counts(g, eoh, reconstructed_paths)\n",
    "util.plot_dict(rec_node_counts, figsize=figsize, label='reconstructed', data2=node_counts, label2='target',\n",
    "              title='Node Counts')"
   ]
  },
  {
   "cell_type": "code",
   "execution_count": 78,
   "metadata": {},
   "outputs": [
    {
     "data": {
      "text/plain": [
       "[(2.1991155307335504, [(0, 0), (1, 0), (2, 0), (3, 0)]),\n",
       " (1.0828060068299024, [(0, 0), (1, 0), (2, 0), (3, 2)]),\n",
       " (4.091408865999492, [(0, 0), (1, 0), (2, 2), (3, 2)]),\n",
       " (7.253412874556228, [(0, 0), (1, 1), (2, 2), (3, 2)]),\n",
       " (2.706122053399817, [(1, 0), (2, 0), (3, 0)]),\n",
       " (1.385286812599684, [(1, 0), (2, 0), (3, 2)]),\n",
       " (4.945113723129393, [(1, 0), (2, 2), (3, 2)]),\n",
       " (2.468092819429568, [(2, 0), (3, 0)]),\n",
       " (0.7629018556047334, [(2, 0), (3, 2)]),\n",
       " (2.130267794174534, [(3, 0)])]"
      ]
     },
     "execution_count": 78,
     "metadata": {},
     "output_type": "execute_result"
    }
   ],
   "source": [
    "reconstructed_paths"
   ]
  },
  {
   "cell_type": "code",
   "execution_count": 79,
   "metadata": {},
   "outputs": [],
   "source": [
    "_, consolidated_paths = util.consolidate_paths(reconstructed_paths, node_counts, arc_counts)"
   ]
  },
  {
   "cell_type": "code",
   "execution_count": 80,
   "metadata": {},
   "outputs": [
    {
     "data": {
      "text/plain": [
       "[(7.373330403562943, [(0, 0), (1, 0), (2, 0), (3, 0)]),\n",
       " (7.2534128745562265, [(0, 0), (1, 1), (2, 2), (3, 2)]),\n",
       " (9.036522589128893, [(1, 0), (2, 2), (3, 2)]),\n",
       " (3.2309946750343204, [(2, 0), (3, 2)]),\n",
       " (2.1302677941745256, [(3, 0)])]"
      ]
     },
     "execution_count": 80,
     "metadata": {},
     "output_type": "execute_result"
    }
   ],
   "source": [
    "sorted(consolidated_paths, key=lambda p: -len(p[1]))"
   ]
  },
  {
   "cell_type": "code",
   "execution_count": 81,
   "metadata": {},
   "outputs": [
    {
     "data": {
      "text/plain": [
       "[(7.373330403562943, [(0, 0), (1, 0), (2, 0), (3, 0)]),\n",
       " (7.253412874556227, [(0, 0), (1, 1), (2, 2), (3, 2)]),\n",
       " (9.036522589128893, [(1, 0), (2, 2), (3, 2)]),\n",
       " (3.23099467503432, [(2, 0), (3, 2)]),\n",
       " (2.130267794174526, [(3, 0)])]"
      ]
     },
     "execution_count": 81,
     "metadata": {},
     "output_type": "execute_result"
    }
   ],
   "source": [
    "sorted(paths, key=lambda p: -len(p[1]))"
   ]
  },
  {
   "cell_type": "code",
   "execution_count": 82,
   "metadata": {},
   "outputs": [
    {
     "data": {
      "text/plain": [
       "{(0, 0): -1.7763568394002505e-15,\n",
       " (0, 1): 0,\n",
       " (0, 2): 0,\n",
       " (0, 3): 0,\n",
       " (1, 0): 0.0,\n",
       " (1, 1): -8.881784197001252e-16,\n",
       " (1, 2): 0,\n",
       " (1, 3): 0,\n",
       " (2, 0): 0.0,\n",
       " (2, 1): 0,\n",
       " (2, 2): 0.0,\n",
       " (2, 3): 0,\n",
       " (3, 0): 0.0,\n",
       " (3, 1): 0,\n",
       " (3, 2): -3.552713678800501e-15,\n",
       " (3, 3): 0}"
      ]
     },
     "execution_count": 82,
     "metadata": {},
     "output_type": "execute_result"
    }
   ],
   "source": [
    "node_res, arc_res = util.get_estimation_residuals(g, eoh, consolidated_paths, node_counts, arc_counts)\n",
    "node_res"
   ]
  },
  {
   "cell_type": "code",
   "execution_count": 83,
   "metadata": {},
   "outputs": [],
   "source": [
    "# Obtain dual multipliers assuming a standard form\n",
    "#master.get_standard_duals()"
   ]
  },
  {
   "cell_type": "markdown",
   "metadata": {},
   "source": [
    "$$\n",
    "\\mathcal{L}(x, \\lambda) = \\frac{1}{2} x^T P x + q^T x + \\lambda^T (-x) \\\\\n",
    "\\nabla_x \\mathcal{L}(x, \\lambda) = \\frac{1}{2} x^T(P + P^T) + q - \\lambda^T\n",
    "$$"
   ]
  },
  {
   "cell_type": "markdown",
   "metadata": {},
   "source": [
    "$$\n",
    "\\frac{1}{2} \\|Vx - \\hat{v}\\|_2^2 = \\frac{1}{2} \\sum_{i = 1}^m \\left(\\sum_{j=1}^n V_{ij} x_{j} - \\hat{v}_i\\right)^2\n",
    "$$\n",
    "$$\n",
    "\\frac{\\partial}{\\partial x_j} \\frac{1}{2} \\|Vx - \\hat{v}\\|_2^2 = \\sum_{i=1}^m \\left(\\sum_{j=1}^n V_{ij} x_{j} - \\hat{v}_i\\right) V_{ij}\n",
    "$$\n"
   ]
  },
  {
   "cell_type": "code",
   "execution_count": 84,
   "metadata": {},
   "outputs": [
    {
     "name": "stdout",
     "output_type": "stream",
     "text": [
      "-----------------------------------------------------------------\n",
      "           OSQP v0.6.2  -  Operator Splitting QP Solver\n",
      "              (c) Bartolomeo Stellato,  Goran Banjac\n",
      "        University of Oxford  -  Stanford University 2021\n",
      "-----------------------------------------------------------------\n",
      "problem:  variables n = 2, constraints m = 2\n",
      "          nnz(P) + nnz(A) = 5\n",
      "settings: linear system solver = qdldl,\n",
      "          eps_abs = 1.0e-03, eps_rel = 1.0e-03,\n",
      "          eps_prim_inf = 1.0e-04, eps_dual_inf = 1.0e-04,\n",
      "          rho = 1.00e-01 (adaptive),\n",
      "          sigma = 1.00e-06, alpha = 1.60, max_iter = 4000\n",
      "          check_termination: on (interval 25),\n",
      "          scaling: on, scaled_termination: off\n",
      "          warm start: on, polish: on, time_limit: off\n",
      "\n",
      "iter   objective    pri res    dua res    rho        time\n",
      "   1  -3.8760e+02   0.00e+00   2.44e+01   1.00e-01   1.79e-04s\n",
      "  25  -4.4736e+02   1.33e-04   1.02e-03   1.00e-01   3.34e-04s\n",
      "plsh  -4.4736e+02   2.72e-21   1.03e-15   --------   6.31e-04s\n",
      "\n",
      "status:               solved\n",
      "solution polish:      successful\n",
      "number of iterations: 25\n",
      "optimal objective:    -447.3615\n",
      "run time:             6.31e-04s\n",
      "optimal rho estimate: 9.54e-02\n",
      "\n"
     ]
    },
    {
     "data": {
      "text/plain": [
       "[(11.305643852898275, [(0, 0), (1, 0), (2, 0), (3, 2)])]"
      ]
     },
     "execution_count": 84,
     "metadata": {},
     "output_type": "execute_result"
    }
   ],
   "source": [
    "path_pool_seq = []\n",
    "raw_paths_seq = []\n",
    "node_res_seq = []\n",
    "arc_res_seq = []\n",
    "\n",
    "path_pool_seq.append(tug_paths[1:3])\n",
    "\n",
    "k = 0\n",
    "master = util.PathSelectionSolver(tug, node_counts, arc_counts)\n",
    "master.setup(path_pool_seq[k], alpha=0, polish=True)\n",
    "sol = master.solve()\n",
    "raw_paths_seq.append(master.sol_to_paths())\n",
    "raw_paths_seq[k]"
   ]
  },
  {
   "cell_type": "code",
   "execution_count": 89,
   "metadata": {},
   "outputs": [
    {
     "name": "stdout",
     "output_type": "stream",
     "text": [
      "{(0, 0): -3.321099425220897, (0, 1): 0, (0, 2): 0, (0, 3): 0, (1, 0): -5.104209139793561, (1, 1): -7.253412874556227, (1, 2): 0, (1, 3): 0, (2, 0): 0.7013187743010114, (2, 1): 0, (2, 2): -16.28993546368512, (2, 3): 0, (3, 0): -9.50359819773747, (3, 1): 0, (3, 2): -8.215286285821168, (3, 3): 0}\n",
      "{(1, 0, 0): 3.9323134493353313, (1, 0, 1): -7.253412874556227, (1, 1, 1): 0, (1, 0, 2): 0, (1, 2, 2): 0, (1, 0, 3): 0, (1, 3, 3): 0, (1, 1, 0): 0, (1, 1, 2): 0, (2, 0, 0): 3.9323134493353313, (2, 0, 1): 0, (2, 1, 1): 0, (2, 0, 2): -9.036522589128893, (2, 2, 2): 0, (2, 0, 3): 0, (2, 3, 3): 0, (2, 1, 0): 0, (2, 1, 2): -7.253412874556227, (3, 0, 0): -7.373330403562943, (3, 0, 1): 0, (3, 1, 1): 0, (3, 0, 2): 8.074649177863954, (3, 2, 2): -16.28993546368512, (3, 0, 3): 0, (3, 3, 3): 0, (3, 1, 0): 0, (3, 1, 2): 0}\n"
     ]
    },
    {
     "name": "stderr",
     "output_type": "stream",
     "text": [
      "/usr/local/lib/python3.6/dist-packages/ipykernel_launcher.py:15: RuntimeWarning: Couldn't reach some vertices at src/paths/dijkstra.c:837\n",
      "  from ipykernel import kernelapp as app\n"
     ]
    },
    {
     "data": {
      "text/plain": [
       "[[16, 0],\n",
       " [16, 4],\n",
       " [16, 0, 5],\n",
       " [16, 0, 6],\n",
       " [16, 0, 7],\n",
       " [16, 8],\n",
       " [16, 4, 9],\n",
       " [16, 4, 10],\n",
       " [16, 4, 11],\n",
       " [16, 12],\n",
       " [16, 8, 13],\n",
       " [16, 4, 10, 14],\n",
       " [16, 8, 15]]"
      ]
     },
     "execution_count": 89,
     "metadata": {},
     "output_type": "execute_result"
    }
   ],
   "source": [
    "nres, ares = util.get_estimation_residuals(g, eoh, raw_paths_seq[k], node_counts, arc_counts)\n",
    "print(nres)\n",
    "print(ares)\n",
    "\n",
    "tugs, tugs_source = util._add_source_to_tug(tug)\n",
    "\n",
    "import numpy as np\n",
    "weights_map = {k: v + nres[k[0], k[2]] for k, v in ares.items()}\n",
    "weights_map.update({(t, -1, 0): nres[t, 0] for t in range(eoh)})\n",
    "weights = np.array([weights_map[w['time'], w['source_o'], w['target_o']] for w in tugs.es])\n",
    "weights = weights - weights.min()\n",
    "\n",
    "to = [v for v in tugs.vs if v != tugs_source]\n",
    "\n",
    "tugs.get_all_shortest_paths(tugs_source, to=to, weights=weights)"
   ]
  }
 ],
 "metadata": {
  "celltoolbar": "Slideshow",
  "kernelspec": {
   "display_name": "Python 3",
   "language": "python",
   "name": "python3"
  },
  "language_info": {
   "codemirror_mode": {
    "name": "ipython",
    "version": 3
   },
   "file_extension": ".py",
   "mimetype": "text/x-python",
   "name": "python",
   "nbconvert_exporter": "python",
   "pygments_lexer": "ipython3",
   "version": "3.6.9"
  },
  "rise": {
   "center": false,
   "transition": "fade"
  }
 },
 "nbformat": 4,
 "nbformat_minor": 4
}
