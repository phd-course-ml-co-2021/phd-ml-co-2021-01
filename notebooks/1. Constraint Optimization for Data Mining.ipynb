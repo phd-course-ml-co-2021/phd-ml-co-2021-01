{
 "cells": [
  {
   "cell_type": "code",
   "execution_count": 1,
   "metadata": {
    "slideshow": {
     "slide_type": "skip"
    }
   },
   "outputs": [],
   "source": [
    "# ============================================================\n",
    "# Notebook setup: run this before everything\n",
    "# ============================================================\n",
    "\n",
    "%load_ext autoreload\n",
    "%autoreload 2\n",
    "\n",
    "# Control figure size\n",
    "interactive_figures = True\n",
    "if interactive_figures:\n",
    "    # Normal behavior\n",
    "    %matplotlib widget\n",
    "    figsize=(9, 3)\n",
    "else:\n",
    "    # PDF export behavior\n",
    "    figsize=(14, 5)\n",
    "\n",
    "#from matplotlib import pyplot as plt\n",
    "from util import util\n",
    "import igraph as ig\n",
    "#import numpy as np"
   ]
  },
  {
   "cell_type": "markdown",
   "metadata": {
    "slideshow": {
     "slide_type": "slide"
    }
   },
   "source": [
    "# Constrained Optimization for Data Mining\n",
    "\n",
    "Definitely niche, but also a great example"
   ]
  },
  {
   "cell_type": "markdown",
   "metadata": {
    "slideshow": {
     "slide_type": "subslide"
    }
   },
   "source": [
    "## Constrained Optimization for Data Mining\n",
    "\n",
    "**Let's consider a data mining problem for web analytics**\n",
    "\n",
    "<center><img src=\"assets/webdev.jpg\" width=\"600px\"/></center>\n",
    "\n",
    "* A company wants to _analyze user behavior_ on their web site\n",
    "* ...With the goal of optimizing its structure\n",
    "* For privacy reason, the company _does not want to resort to tracking_\n",
    "* ...And plan to relies on simple _page/link-click counts_"
   ]
  },
  {
   "cell_type": "markdown",
   "metadata": {
    "slideshow": {
     "slide_type": "subslide"
    }
   },
   "source": [
    "## Constrained Optimization for Data Mining\n",
    "\n",
    "**Our _input_ consists of page and link _counts_ for multiple time steps**\n",
    "\n",
    "| t | 0  | 1  | ... | 0,1 | 0,3 | 1,2 | ...  |\n",
    "|:-:|:--:|:--:|:---:|:---:|:---:|:---:|:----:|\n",
    "| 0 | 35 | 12 | ... | 21  | 7   |  9  | ...  |\n",
    "| 1 | 42 | 14 | ... | 22  | 11  |  10 | ...  |\n",
    "| 2 | 38 | 9  | ... | 17  | 10  |  8  | ...  |\n",
    "\n",
    "* Each simple number refers to a page, each pair to a link\n",
    "* Cells contain presence/link-click counts for different value of the time $t$\n",
    "\n",
    "**Our _output_ consists of navigation paths on the web site**\n",
    "\n",
    "A path specifies which page is visited at every point of time, e.g.:\n",
    "\n",
    "$$\n",
    "\\left\\{ (2, 0), (3, 0), (4, 1), (5, 3) \\right\\}\n",
    "$$\n",
    "\n",
    "* In this case the path starts at time $2$, stays at page $0$ for two time units\n",
    "* ...Then moves to $1$ and then $3$\n"
   ]
  },
  {
   "cell_type": "markdown",
   "metadata": {
    "slideshow": {
     "slide_type": "subslide"
    }
   },
   "source": [
    "## Constrained Optimization for Data Mining\n",
    "\n",
    "> **How would you tackle the problem?**"
   ]
  },
  {
   "cell_type": "markdown",
   "metadata": {
    "slideshow": {
     "slide_type": "fragment"
    }
   },
   "source": [
    "**The main issue is representing and handling _paths_**\n",
    "\n",
    "* A path is _combinatorial_ object ($\\Rightarrow$ not differentiable)\n",
    "* Nodes in a path must be _connected_\n",
    "\n",
    "In other words, the main issue is dealing with _constraints_\n",
    "\n",
    "**We will see how to tackle the problem directly via Constrained Optimization**\n",
    "\n",
    "* The approach will work well (though it will not be necessarily SotA)\n",
    "* ...But more importantly we will see _many_ CO methods in action!\n"
   ]
  },
  {
   "cell_type": "markdown",
   "metadata": {
    "slideshow": {
     "slide_type": "subslide"
    }
   },
   "source": [
    "## Constrained Optimization for Data Mining\n",
    "\n",
    "**This is a _very challenging_ problem!**\n",
    "\n",
    "<center><img src=\"assets/webdev.jpg\" width=\"600px\"/></center>\n",
    "\n",
    "* There are _many viable paths_!\n",
    "* ...And we start with _quite poor information_"
   ]
  },
  {
   "cell_type": "markdown",
   "metadata": {
    "slideshow": {
     "slide_type": "subslide"
    }
   },
   "source": [
    "## Web Site as  Graph\n",
    "\n",
    "**Our web site can be represented as a _directed graph_**\n",
    "\n",
    "We will generate one at random, with a realistic structure "
   ]
  },
  {
   "cell_type": "code",
   "execution_count": 21,
   "metadata": {},
   "outputs": [
    {
     "data": {
      "image/svg+xml": [
       "<?xml version=\"1.0\" encoding=\"UTF-8\"?>\n",
       "<svg xmlns=\"http://www.w3.org/2000/svg\" xmlns:xlink=\"http://www.w3.org/1999/xlink\" width=\"700pt\" height=\"200pt\" viewBox=\"0 0 700 200\" version=\"1.1\">\n",
       "<defs>\n",
       "<g>\n",
       "<symbol overflow=\"visible\" id=\"glyph0-0\">\n",
       "<path style=\"stroke:none;\" d=\"M 0.5 1.765625 L 0.5 -7.046875 L 5.5 -7.046875 L 5.5 1.765625 Z M 1.0625 1.21875 L 4.9375 1.21875 L 4.9375 -6.484375 L 1.0625 -6.484375 Z M 1.0625 1.21875 \"/>\n",
       "</symbol>\n",
       "<symbol overflow=\"visible\" id=\"glyph0-1\">\n",
       "<path style=\"stroke:none;\" d=\"M 3.171875 -6.640625 C 2.671875 -6.640625 2.289062 -6.390625 2.03125 -5.890625 C 1.78125 -5.390625 1.65625 -4.640625 1.65625 -3.640625 C 1.65625 -2.640625 1.78125 -1.890625 2.03125 -1.390625 C 2.289062 -0.890625 2.671875 -0.640625 3.171875 -0.640625 C 3.691406 -0.640625 4.078125 -0.890625 4.328125 -1.390625 C 4.585938 -1.890625 4.71875 -2.640625 4.71875 -3.640625 C 4.71875 -4.640625 4.585938 -5.390625 4.328125 -5.890625 C 4.078125 -6.390625 3.691406 -6.640625 3.171875 -6.640625 Z M 3.171875 -7.421875 C 3.992188 -7.421875 4.617188 -7.097656 5.046875 -6.453125 C 5.484375 -5.804688 5.703125 -4.867188 5.703125 -3.640625 C 5.703125 -2.410156 5.484375 -1.472656 5.046875 -0.828125 C 4.617188 -0.179688 3.992188 0.140625 3.171875 0.140625 C 2.359375 0.140625 1.734375 -0.179688 1.296875 -0.828125 C 0.867188 -1.472656 0.65625 -2.410156 0.65625 -3.640625 C 0.65625 -4.867188 0.867188 -5.804688 1.296875 -6.453125 C 1.734375 -7.097656 2.359375 -7.421875 3.171875 -7.421875 Z M 3.171875 -7.421875 \"/>\n",
       "</symbol>\n",
       "<symbol overflow=\"visible\" id=\"glyph0-2\">\n",
       "<path style=\"stroke:none;\" d=\"M 1.234375 -0.828125 L 2.859375 -0.828125 L 2.859375 -6.390625 L 1.09375 -6.046875 L 1.09375 -6.9375 L 2.84375 -7.296875 L 3.828125 -7.296875 L 3.828125 -0.828125 L 5.4375 -0.828125 L 5.4375 0 L 1.234375 0 Z M 1.234375 -0.828125 \"/>\n",
       "</symbol>\n",
       "<symbol overflow=\"visible\" id=\"glyph0-3\">\n",
       "<path style=\"stroke:none;\" d=\"M 1.921875 -0.828125 L 5.359375 -0.828125 L 5.359375 0 L 0.734375 0 L 0.734375 -0.828125 C 1.109375 -1.210938 1.617188 -1.734375 2.265625 -2.390625 C 2.910156 -3.046875 3.316406 -3.46875 3.484375 -3.65625 C 3.796875 -4.007812 4.015625 -4.304688 4.140625 -4.546875 C 4.265625 -4.796875 4.328125 -5.039062 4.328125 -5.28125 C 4.328125 -5.664062 4.191406 -5.976562 3.921875 -6.21875 C 3.648438 -6.46875 3.296875 -6.59375 2.859375 -6.59375 C 2.546875 -6.59375 2.21875 -6.535156 1.875 -6.421875 C 1.539062 -6.316406 1.175781 -6.15625 0.78125 -5.9375 L 0.78125 -6.9375 C 1.175781 -7.09375 1.546875 -7.210938 1.890625 -7.296875 C 2.234375 -7.378906 2.550781 -7.421875 2.84375 -7.421875 C 3.59375 -7.421875 4.191406 -7.234375 4.640625 -6.859375 C 5.097656 -6.484375 5.328125 -5.976562 5.328125 -5.34375 C 5.328125 -5.039062 5.269531 -4.753906 5.15625 -4.484375 C 5.039062 -4.222656 4.835938 -3.910156 4.546875 -3.546875 C 4.460938 -3.453125 4.203125 -3.175781 3.765625 -2.71875 C 3.328125 -2.269531 2.710938 -1.640625 1.921875 -0.828125 Z M 1.921875 -0.828125 \"/>\n",
       "</symbol>\n",
       "<symbol overflow=\"visible\" id=\"glyph0-4\">\n",
       "<path style=\"stroke:none;\" d=\"M 4.0625 -3.9375 C 4.53125 -3.832031 4.894531 -3.617188 5.15625 -3.296875 C 5.425781 -2.984375 5.5625 -2.59375 5.5625 -2.125 C 5.5625 -1.40625 5.3125 -0.847656 4.8125 -0.453125 C 4.320312 -0.0546875 3.617188 0.140625 2.703125 0.140625 C 2.398438 0.140625 2.085938 0.109375 1.765625 0.046875 C 1.441406 -0.015625 1.109375 -0.101562 0.765625 -0.21875 L 0.765625 -1.171875 C 1.035156 -1.015625 1.332031 -0.894531 1.65625 -0.8125 C 1.988281 -0.726562 2.332031 -0.6875 2.6875 -0.6875 C 3.300781 -0.6875 3.769531 -0.804688 4.09375 -1.046875 C 4.414062 -1.296875 4.578125 -1.65625 4.578125 -2.125 C 4.578125 -2.550781 4.425781 -2.882812 4.125 -3.125 C 3.820312 -3.363281 3.40625 -3.484375 2.875 -3.484375 L 2.015625 -3.484375 L 2.015625 -4.296875 L 2.90625 -4.296875 C 3.394531 -4.296875 3.765625 -4.394531 4.015625 -4.59375 C 4.273438 -4.789062 4.40625 -5.070312 4.40625 -5.4375 C 4.40625 -5.800781 4.269531 -6.082031 4 -6.28125 C 3.738281 -6.488281 3.363281 -6.59375 2.875 -6.59375 C 2.601562 -6.59375 2.3125 -6.5625 2 -6.5 C 1.6875 -6.445312 1.347656 -6.359375 0.984375 -6.234375 L 0.984375 -7.109375 C 1.359375 -7.210938 1.707031 -7.289062 2.03125 -7.34375 C 2.363281 -7.394531 2.671875 -7.421875 2.953125 -7.421875 C 3.703125 -7.421875 4.296875 -7.25 4.734375 -6.90625 C 5.171875 -6.570312 5.390625 -6.113281 5.390625 -5.53125 C 5.390625 -5.125 5.273438 -4.78125 5.046875 -4.5 C 4.816406 -4.226562 4.488281 -4.039062 4.0625 -3.9375 Z M 4.0625 -3.9375 \"/>\n",
       "</symbol>\n",
       "</g>\n",
       "</defs>\n",
       "<g id=\"surface56\">\n",
       "<rect x=\"0\" y=\"0\" width=\"700\" height=\"200\" style=\"fill:rgb(100%,100%,100%);fill-opacity:1;stroke:none;\"/>\n",
       "<path style=\"fill:none;stroke-width:1;stroke-linecap:butt;stroke-linejoin:miter;stroke:rgb(26.666667%,26.666667%,26.666667%);stroke-opacity:1;stroke-miterlimit:10;\" d=\"M 520.492188 84.457031 C 520.492188 96.882812 510.417969 106.957031 497.992188 106.957031 C 485.566406 106.957031 475.492188 96.882812 475.492188 84.457031 C 475.492188 72.03125 485.566406 61.957031 497.992188 61.957031 C 510.417969 61.957031 520.492188 72.03125 520.492188 84.457031 \"/>\n",
       "<path style=\"fill:none;stroke-width:1;stroke-linecap:butt;stroke-linejoin:miter;stroke:rgb(26.666667%,26.666667%,26.666667%);stroke-opacity:1;stroke-miterlimit:10;\" d=\"M 482.082031 100.367188 C 514.132812 155.054688 562.40625 179.207031 622.367188 159.214844 \"/>\n",
       "<path style=\" stroke:none;fill-rule:nonzero;fill:rgb(26.666667%,26.666667%,26.666667%);fill-opacity:1;\" d=\"M 635.902344 154.699219 L 623.835938 163.609375 L 620.902344 154.816406 L 635.902344 154.699219 \"/>\n",
       "<path style=\"fill:none;stroke-width:1;stroke-linecap:butt;stroke-linejoin:miter;stroke:rgb(26.666667%,26.666667%,26.666667%);stroke-opacity:1;stroke-miterlimit:10;\" d=\"M 688.410156 134.089844 C 688.410156 146.515625 678.335938 156.589844 665.910156 156.589844 C 653.484375 156.589844 643.410156 146.515625 643.410156 134.089844 C 643.410156 121.664062 653.484375 111.589844 665.910156 111.589844 C 678.335938 111.589844 688.410156 121.664062 688.410156 134.089844 \"/>\n",
       "<path style=\"fill:none;stroke-width:1;stroke-linecap:butt;stroke-linejoin:miter;stroke:rgb(26.666667%,26.666667%,26.666667%);stroke-opacity:1;stroke-miterlimit:10;\" d=\"M 482.082031 100.367188 L 79.15625 135.164062 \"/>\n",
       "<path style=\" stroke:none;fill-rule:nonzero;fill:rgb(26.666667%,26.666667%,26.666667%);fill-opacity:1;\" d=\"M 64.945312 136.394531 L 78.757812 130.546875 L 79.554688 139.785156 L 64.945312 136.394531 \"/>\n",
       "<path style=\"fill:none;stroke-width:1;stroke-linecap:butt;stroke-linejoin:miter;stroke:rgb(26.666667%,26.666667%,26.666667%);stroke-opacity:1;stroke-miterlimit:10;\" d=\"M 88.410156 121.773438 C 88.410156 134.199219 78.335938 144.273438 65.910156 144.273438 C 53.484375 144.273438 43.410156 134.199219 43.410156 121.773438 C 43.410156 109.347656 53.484375 99.273438 65.910156 99.273438 C 78.335938 99.273438 88.410156 109.347656 88.410156 121.773438 \"/>\n",
       "<path style=\"fill:none;stroke-width:1;stroke-linecap:butt;stroke-linejoin:miter;stroke:rgb(26.666667%,26.666667%,26.666667%);stroke-opacity:1;stroke-miterlimit:10;\" d=\"M 482.082031 100.367188 L 607.308594 59.148438 \"/>\n",
       "<path style=\" stroke:none;fill-rule:nonzero;fill:rgb(26.666667%,26.666667%,26.666667%);fill-opacity:1;\" d=\"M 620.859375 54.691406 L 608.757812 63.550781 L 605.859375 54.746094 L 620.859375 54.691406 \"/>\n",
       "<path style=\"fill:none;stroke-width:1;stroke-linecap:butt;stroke-linejoin:miter;stroke:rgb(26.666667%,26.666667%,26.666667%);stroke-opacity:1;stroke-miterlimit:10;\" d=\"M 673.519531 34.089844 C 673.519531 46.515625 663.445312 56.589844 651.019531 56.589844 C 638.59375 56.589844 628.519531 46.515625 628.519531 34.089844 C 628.519531 21.664062 638.59375 11.589844 651.019531 11.589844 C 663.445312 11.589844 673.519531 21.664062 673.519531 34.089844 \"/>\n",
       "<path style=\"fill:none;stroke-width:1;stroke-linecap:butt;stroke-linejoin:miter;stroke:rgb(26.666667%,26.666667%,26.666667%);stroke-opacity:1;stroke-miterlimit:10;\" d=\"M 650 150 C 617.949219 95.3125 569.675781 71.160156 509.714844 91.152344 \"/>\n",
       "<path style=\" stroke:none;fill-rule:nonzero;fill:rgb(26.666667%,26.666667%,26.666667%);fill-opacity:1;\" d=\"M 496.179688 95.667969 L 508.246094 86.757812 L 511.179688 95.550781 L 496.179688 95.667969 \"/>\n",
       "<path style=\"fill:none;stroke-width:1;stroke-linecap:butt;stroke-linejoin:miter;stroke:rgb(26.666667%,26.666667%,26.666667%);stroke-opacity:1;stroke-miterlimit:10;\" d=\"M 650 150 L 79.257812 138.285156 \"/>\n",
       "<path style=\" stroke:none;fill-rule:nonzero;fill:rgb(26.666667%,26.666667%,26.666667%);fill-opacity:1;\" d=\"M 64.996094 137.992188 L 79.355469 133.648438 L 79.164062 142.917969 L 64.996094 137.992188 \"/>\n",
       "<path style=\"fill-rule:nonzero;fill:rgb(55.294118%,82.745098%,78.039216%);fill-opacity:1;stroke-width:1;stroke-linecap:butt;stroke-linejoin:miter;stroke:rgb(0%,0%,0%);stroke-opacity:1;stroke-miterlimit:10;\" d=\"M 497.082031 100.367188 C 497.082031 108.652344 490.367188 115.367188 482.082031 115.367188 C 473.796875 115.367188 467.082031 108.652344 467.082031 100.367188 C 467.082031 92.082031 473.796875 85.367188 482.082031 85.367188 C 490.367188 85.367188 497.082031 92.082031 497.082031 100.367188 \"/>\n",
       "<path style=\"fill-rule:nonzero;fill:rgb(100%,100%,70.196078%);fill-opacity:1;stroke-width:1;stroke-linecap:butt;stroke-linejoin:miter;stroke:rgb(0%,0%,0%);stroke-opacity:1;stroke-miterlimit:10;\" d=\"M 665 150 C 665 158.285156 658.285156 165 650 165 C 641.714844 165 635 158.285156 635 150 C 635 141.714844 641.714844 135 650 135 C 658.285156 135 665 141.714844 665 150 \"/>\n",
       "<path style=\"fill-rule:nonzero;fill:rgb(74.509804%,72.941176%,85.490196%);fill-opacity:1;stroke-width:1;stroke-linecap:butt;stroke-linejoin:miter;stroke:rgb(0%,0%,0%);stroke-opacity:1;stroke-miterlimit:10;\" d=\"M 65 137.683594 C 65 145.96875 58.285156 152.683594 50 152.683594 C 41.714844 152.683594 35 145.96875 35 137.683594 C 35 129.398438 41.714844 122.683594 50 122.683594 C 58.285156 122.683594 65 129.398438 65 137.683594 \"/>\n",
       "<path style=\"fill-rule:nonzero;fill:rgb(98.431373%,50.196078%,44.705882%);fill-opacity:1;stroke-width:1;stroke-linecap:butt;stroke-linejoin:miter;stroke:rgb(0%,0%,0%);stroke-opacity:1;stroke-miterlimit:10;\" d=\"M 650.109375 50 C 650.109375 58.285156 643.394531 65 635.109375 65 C 626.824219 65 620.109375 58.285156 620.109375 50 C 620.109375 41.714844 626.824219 35 635.109375 35 C 643.394531 35 650.109375 41.714844 650.109375 50 \"/>\n",
       "<g style=\"fill:rgb(0%,0%,0%);fill-opacity:1;\">\n",
       "  <use xlink:href=\"#glyph0-1\" x=\"478.902344\" y=\"105.257812\"/>\n",
       "</g>\n",
       "<g style=\"fill:rgb(0%,0%,0%);fill-opacity:1;\">\n",
       "  <use xlink:href=\"#glyph0-2\" x=\"646.730469\" y=\"154.824219\"/>\n",
       "</g>\n",
       "<g style=\"fill:rgb(0%,0%,0%);fill-opacity:1;\">\n",
       "  <use xlink:href=\"#glyph0-3\" x=\"46.953125\" y=\"142.574219\"/>\n",
       "</g>\n",
       "<g style=\"fill:rgb(0%,0%,0%);fill-opacity:1;\">\n",
       "  <use xlink:href=\"#glyph0-4\" x=\"631.949219\" y=\"54.890625\"/>\n",
       "</g>\n",
       "</g>\n",
       "</svg>\n"
      ],
      "text/plain": [
       "<igraph.drawing.Plot at 0x7f290fce90f0>"
      ]
     },
     "execution_count": 21,
     "metadata": {
      "image/svg+xml": {
       "isolated": true
      }
     },
     "output_type": "execute_result"
    }
   ],
   "source": [
    "g = util.build_website_graph(nnodes=4, rate=3, extra_arc_fraction=0.25, seed=42)\n",
    "ig.plot(g, **util.get_visual_style(g), bbox=(700, 200), margin=50)"
   ]
  },
  {
   "cell_type": "markdown",
   "metadata": {},
   "source": [
    "* The method generates `nnodes` vertexes in a _tree structure_ as a base\n",
    "* The #children per vertex follows a _Poisson distribution_ with specified rate\n",
    "* ...Then a _fraction of the missing arcs_ is added at random"
   ]
  },
  {
   "cell_type": "markdown",
   "metadata": {
    "slideshow": {
     "slide_type": "subslide"
    }
   },
   "source": [
    "## Web Site as  Graph\n",
    "\n",
    "**Our web site can be represented as a _directed graph_**\n",
    "\n",
    "We will generate one at random, with a realistic structure "
   ]
  },
  {
   "cell_type": "code",
   "execution_count": 22,
   "metadata": {},
   "outputs": [
    {
     "data": {
      "image/svg+xml": [
       "<?xml version=\"1.0\" encoding=\"UTF-8\"?>\n",
       "<svg xmlns=\"http://www.w3.org/2000/svg\" xmlns:xlink=\"http://www.w3.org/1999/xlink\" width=\"700pt\" height=\"200pt\" viewBox=\"0 0 700 200\" version=\"1.1\">\n",
       "<defs>\n",
       "<g>\n",
       "<symbol overflow=\"visible\" id=\"glyph0-0\">\n",
       "<path style=\"stroke:none;\" d=\"M 0.5 1.765625 L 0.5 -7.046875 L 5.5 -7.046875 L 5.5 1.765625 Z M 1.0625 1.21875 L 4.9375 1.21875 L 4.9375 -6.484375 L 1.0625 -6.484375 Z M 1.0625 1.21875 \"/>\n",
       "</symbol>\n",
       "<symbol overflow=\"visible\" id=\"glyph0-1\">\n",
       "<path style=\"stroke:none;\" d=\"M 3.171875 -6.640625 C 2.671875 -6.640625 2.289062 -6.390625 2.03125 -5.890625 C 1.78125 -5.390625 1.65625 -4.640625 1.65625 -3.640625 C 1.65625 -2.640625 1.78125 -1.890625 2.03125 -1.390625 C 2.289062 -0.890625 2.671875 -0.640625 3.171875 -0.640625 C 3.691406 -0.640625 4.078125 -0.890625 4.328125 -1.390625 C 4.585938 -1.890625 4.71875 -2.640625 4.71875 -3.640625 C 4.71875 -4.640625 4.585938 -5.390625 4.328125 -5.890625 C 4.078125 -6.390625 3.691406 -6.640625 3.171875 -6.640625 Z M 3.171875 -7.421875 C 3.992188 -7.421875 4.617188 -7.097656 5.046875 -6.453125 C 5.484375 -5.804688 5.703125 -4.867188 5.703125 -3.640625 C 5.703125 -2.410156 5.484375 -1.472656 5.046875 -0.828125 C 4.617188 -0.179688 3.992188 0.140625 3.171875 0.140625 C 2.359375 0.140625 1.734375 -0.179688 1.296875 -0.828125 C 0.867188 -1.472656 0.65625 -2.410156 0.65625 -3.640625 C 0.65625 -4.867188 0.867188 -5.804688 1.296875 -6.453125 C 1.734375 -7.097656 2.359375 -7.421875 3.171875 -7.421875 Z M 3.171875 -7.421875 \"/>\n",
       "</symbol>\n",
       "<symbol overflow=\"visible\" id=\"glyph0-2\">\n",
       "<path style=\"stroke:none;\" d=\"M 1.234375 -0.828125 L 2.859375 -0.828125 L 2.859375 -6.390625 L 1.09375 -6.046875 L 1.09375 -6.9375 L 2.84375 -7.296875 L 3.828125 -7.296875 L 3.828125 -0.828125 L 5.4375 -0.828125 L 5.4375 0 L 1.234375 0 Z M 1.234375 -0.828125 \"/>\n",
       "</symbol>\n",
       "<symbol overflow=\"visible\" id=\"glyph0-3\">\n",
       "<path style=\"stroke:none;\" d=\"M 1.921875 -0.828125 L 5.359375 -0.828125 L 5.359375 0 L 0.734375 0 L 0.734375 -0.828125 C 1.109375 -1.210938 1.617188 -1.734375 2.265625 -2.390625 C 2.910156 -3.046875 3.316406 -3.46875 3.484375 -3.65625 C 3.796875 -4.007812 4.015625 -4.304688 4.140625 -4.546875 C 4.265625 -4.796875 4.328125 -5.039062 4.328125 -5.28125 C 4.328125 -5.664062 4.191406 -5.976562 3.921875 -6.21875 C 3.648438 -6.46875 3.296875 -6.59375 2.859375 -6.59375 C 2.546875 -6.59375 2.21875 -6.535156 1.875 -6.421875 C 1.539062 -6.316406 1.175781 -6.15625 0.78125 -5.9375 L 0.78125 -6.9375 C 1.175781 -7.09375 1.546875 -7.210938 1.890625 -7.296875 C 2.234375 -7.378906 2.550781 -7.421875 2.84375 -7.421875 C 3.59375 -7.421875 4.191406 -7.234375 4.640625 -6.859375 C 5.097656 -6.484375 5.328125 -5.976562 5.328125 -5.34375 C 5.328125 -5.039062 5.269531 -4.753906 5.15625 -4.484375 C 5.039062 -4.222656 4.835938 -3.910156 4.546875 -3.546875 C 4.460938 -3.453125 4.203125 -3.175781 3.765625 -2.71875 C 3.328125 -2.269531 2.710938 -1.640625 1.921875 -0.828125 Z M 1.921875 -0.828125 \"/>\n",
       "</symbol>\n",
       "<symbol overflow=\"visible\" id=\"glyph0-4\">\n",
       "<path style=\"stroke:none;\" d=\"M 4.0625 -3.9375 C 4.53125 -3.832031 4.894531 -3.617188 5.15625 -3.296875 C 5.425781 -2.984375 5.5625 -2.59375 5.5625 -2.125 C 5.5625 -1.40625 5.3125 -0.847656 4.8125 -0.453125 C 4.320312 -0.0546875 3.617188 0.140625 2.703125 0.140625 C 2.398438 0.140625 2.085938 0.109375 1.765625 0.046875 C 1.441406 -0.015625 1.109375 -0.101562 0.765625 -0.21875 L 0.765625 -1.171875 C 1.035156 -1.015625 1.332031 -0.894531 1.65625 -0.8125 C 1.988281 -0.726562 2.332031 -0.6875 2.6875 -0.6875 C 3.300781 -0.6875 3.769531 -0.804688 4.09375 -1.046875 C 4.414062 -1.296875 4.578125 -1.65625 4.578125 -2.125 C 4.578125 -2.550781 4.425781 -2.882812 4.125 -3.125 C 3.820312 -3.363281 3.40625 -3.484375 2.875 -3.484375 L 2.015625 -3.484375 L 2.015625 -4.296875 L 2.90625 -4.296875 C 3.394531 -4.296875 3.765625 -4.394531 4.015625 -4.59375 C 4.273438 -4.789062 4.40625 -5.070312 4.40625 -5.4375 C 4.40625 -5.800781 4.269531 -6.082031 4 -6.28125 C 3.738281 -6.488281 3.363281 -6.59375 2.875 -6.59375 C 2.601562 -6.59375 2.3125 -6.5625 2 -6.5 C 1.6875 -6.445312 1.347656 -6.359375 0.984375 -6.234375 L 0.984375 -7.109375 C 1.359375 -7.210938 1.707031 -7.289062 2.03125 -7.34375 C 2.363281 -7.394531 2.671875 -7.421875 2.953125 -7.421875 C 3.703125 -7.421875 4.296875 -7.25 4.734375 -6.90625 C 5.171875 -6.570312 5.390625 -6.113281 5.390625 -5.53125 C 5.390625 -5.125 5.273438 -4.78125 5.046875 -4.5 C 4.816406 -4.226562 4.488281 -4.039062 4.0625 -3.9375 Z M 4.0625 -3.9375 \"/>\n",
       "</symbol>\n",
       "</g>\n",
       "</defs>\n",
       "<g id=\"surface62\">\n",
       "<rect x=\"0\" y=\"0\" width=\"700\" height=\"200\" style=\"fill:rgb(100%,100%,100%);fill-opacity:1;stroke:none;\"/>\n",
       "<path style=\"fill:none;stroke-width:1;stroke-linecap:butt;stroke-linejoin:miter;stroke:rgb(26.666667%,26.666667%,26.666667%);stroke-opacity:1;stroke-miterlimit:10;\" d=\"M 520.492188 84.457031 C 520.492188 96.882812 510.417969 106.957031 497.992188 106.957031 C 485.566406 106.957031 475.492188 96.882812 475.492188 84.457031 C 475.492188 72.03125 485.566406 61.957031 497.992188 61.957031 C 510.417969 61.957031 520.492188 72.03125 520.492188 84.457031 \"/>\n",
       "<path style=\"fill:none;stroke-width:1;stroke-linecap:butt;stroke-linejoin:miter;stroke:rgb(26.666667%,26.666667%,26.666667%);stroke-opacity:1;stroke-miterlimit:10;\" d=\"M 482.082031 100.367188 C 514.132812 155.054688 562.40625 179.207031 622.367188 159.214844 \"/>\n",
       "<path style=\" stroke:none;fill-rule:nonzero;fill:rgb(26.666667%,26.666667%,26.666667%);fill-opacity:1;\" d=\"M 635.902344 154.699219 L 623.835938 163.609375 L 620.902344 154.816406 L 635.902344 154.699219 \"/>\n",
       "<path style=\"fill:none;stroke-width:1;stroke-linecap:butt;stroke-linejoin:miter;stroke:rgb(26.666667%,26.666667%,26.666667%);stroke-opacity:1;stroke-miterlimit:10;\" d=\"M 688.410156 134.089844 C 688.410156 146.515625 678.335938 156.589844 665.910156 156.589844 C 653.484375 156.589844 643.410156 146.515625 643.410156 134.089844 C 643.410156 121.664062 653.484375 111.589844 665.910156 111.589844 C 678.335938 111.589844 688.410156 121.664062 688.410156 134.089844 \"/>\n",
       "<path style=\"fill:none;stroke-width:1;stroke-linecap:butt;stroke-linejoin:miter;stroke:rgb(26.666667%,26.666667%,26.666667%);stroke-opacity:1;stroke-miterlimit:10;\" d=\"M 482.082031 100.367188 L 79.15625 135.164062 \"/>\n",
       "<path style=\" stroke:none;fill-rule:nonzero;fill:rgb(26.666667%,26.666667%,26.666667%);fill-opacity:1;\" d=\"M 64.945312 136.394531 L 78.757812 130.546875 L 79.554688 139.785156 L 64.945312 136.394531 \"/>\n",
       "<path style=\"fill:none;stroke-width:1;stroke-linecap:butt;stroke-linejoin:miter;stroke:rgb(26.666667%,26.666667%,26.666667%);stroke-opacity:1;stroke-miterlimit:10;\" d=\"M 88.410156 121.773438 C 88.410156 134.199219 78.335938 144.273438 65.910156 144.273438 C 53.484375 144.273438 43.410156 134.199219 43.410156 121.773438 C 43.410156 109.347656 53.484375 99.273438 65.910156 99.273438 C 78.335938 99.273438 88.410156 109.347656 88.410156 121.773438 \"/>\n",
       "<path style=\"fill:none;stroke-width:1;stroke-linecap:butt;stroke-linejoin:miter;stroke:rgb(26.666667%,26.666667%,26.666667%);stroke-opacity:1;stroke-miterlimit:10;\" d=\"M 482.082031 100.367188 L 607.308594 59.148438 \"/>\n",
       "<path style=\" stroke:none;fill-rule:nonzero;fill:rgb(26.666667%,26.666667%,26.666667%);fill-opacity:1;\" d=\"M 620.859375 54.691406 L 608.757812 63.550781 L 605.859375 54.746094 L 620.859375 54.691406 \"/>\n",
       "<path style=\"fill:none;stroke-width:1;stroke-linecap:butt;stroke-linejoin:miter;stroke:rgb(26.666667%,26.666667%,26.666667%);stroke-opacity:1;stroke-miterlimit:10;\" d=\"M 673.519531 34.089844 C 673.519531 46.515625 663.445312 56.589844 651.019531 56.589844 C 638.59375 56.589844 628.519531 46.515625 628.519531 34.089844 C 628.519531 21.664062 638.59375 11.589844 651.019531 11.589844 C 663.445312 11.589844 673.519531 21.664062 673.519531 34.089844 \"/>\n",
       "<path style=\"fill:none;stroke-width:1;stroke-linecap:butt;stroke-linejoin:miter;stroke:rgb(26.666667%,26.666667%,26.666667%);stroke-opacity:1;stroke-miterlimit:10;\" d=\"M 650 150 C 617.949219 95.3125 569.675781 71.160156 509.714844 91.152344 \"/>\n",
       "<path style=\" stroke:none;fill-rule:nonzero;fill:rgb(26.666667%,26.666667%,26.666667%);fill-opacity:1;\" d=\"M 496.179688 95.667969 L 508.246094 86.757812 L 511.179688 95.550781 L 496.179688 95.667969 \"/>\n",
       "<path style=\"fill:none;stroke-width:1;stroke-linecap:butt;stroke-linejoin:miter;stroke:rgb(26.666667%,26.666667%,26.666667%);stroke-opacity:1;stroke-miterlimit:10;\" d=\"M 650 150 L 79.257812 138.285156 \"/>\n",
       "<path style=\" stroke:none;fill-rule:nonzero;fill:rgb(26.666667%,26.666667%,26.666667%);fill-opacity:1;\" d=\"M 64.996094 137.992188 L 79.355469 133.648438 L 79.164062 142.917969 L 64.996094 137.992188 \"/>\n",
       "<path style=\"fill-rule:nonzero;fill:rgb(55.294118%,82.745098%,78.039216%);fill-opacity:1;stroke-width:1;stroke-linecap:butt;stroke-linejoin:miter;stroke:rgb(0%,0%,0%);stroke-opacity:1;stroke-miterlimit:10;\" d=\"M 497.082031 100.367188 C 497.082031 108.652344 490.367188 115.367188 482.082031 115.367188 C 473.796875 115.367188 467.082031 108.652344 467.082031 100.367188 C 467.082031 92.082031 473.796875 85.367188 482.082031 85.367188 C 490.367188 85.367188 497.082031 92.082031 497.082031 100.367188 \"/>\n",
       "<path style=\"fill-rule:nonzero;fill:rgb(100%,100%,70.196078%);fill-opacity:1;stroke-width:1;stroke-linecap:butt;stroke-linejoin:miter;stroke:rgb(0%,0%,0%);stroke-opacity:1;stroke-miterlimit:10;\" d=\"M 665 150 C 665 158.285156 658.285156 165 650 165 C 641.714844 165 635 158.285156 635 150 C 635 141.714844 641.714844 135 650 135 C 658.285156 135 665 141.714844 665 150 \"/>\n",
       "<path style=\"fill-rule:nonzero;fill:rgb(74.509804%,72.941176%,85.490196%);fill-opacity:1;stroke-width:1;stroke-linecap:butt;stroke-linejoin:miter;stroke:rgb(0%,0%,0%);stroke-opacity:1;stroke-miterlimit:10;\" d=\"M 65 137.683594 C 65 145.96875 58.285156 152.683594 50 152.683594 C 41.714844 152.683594 35 145.96875 35 137.683594 C 35 129.398438 41.714844 122.683594 50 122.683594 C 58.285156 122.683594 65 129.398438 65 137.683594 \"/>\n",
       "<path style=\"fill-rule:nonzero;fill:rgb(98.431373%,50.196078%,44.705882%);fill-opacity:1;stroke-width:1;stroke-linecap:butt;stroke-linejoin:miter;stroke:rgb(0%,0%,0%);stroke-opacity:1;stroke-miterlimit:10;\" d=\"M 650.109375 50 C 650.109375 58.285156 643.394531 65 635.109375 65 C 626.824219 65 620.109375 58.285156 620.109375 50 C 620.109375 41.714844 626.824219 35 635.109375 35 C 643.394531 35 650.109375 41.714844 650.109375 50 \"/>\n",
       "<g style=\"fill:rgb(0%,0%,0%);fill-opacity:1;\">\n",
       "  <use xlink:href=\"#glyph0-1\" x=\"478.902344\" y=\"105.257812\"/>\n",
       "</g>\n",
       "<g style=\"fill:rgb(0%,0%,0%);fill-opacity:1;\">\n",
       "  <use xlink:href=\"#glyph0-2\" x=\"646.730469\" y=\"154.824219\"/>\n",
       "</g>\n",
       "<g style=\"fill:rgb(0%,0%,0%);fill-opacity:1;\">\n",
       "  <use xlink:href=\"#glyph0-3\" x=\"46.953125\" y=\"142.574219\"/>\n",
       "</g>\n",
       "<g style=\"fill:rgb(0%,0%,0%);fill-opacity:1;\">\n",
       "  <use xlink:href=\"#glyph0-4\" x=\"631.949219\" y=\"54.890625\"/>\n",
       "</g>\n",
       "</g>\n",
       "</svg>\n"
      ],
      "text/plain": [
       "<igraph.drawing.Plot at 0x7f290fcfd668>"
      ]
     },
     "execution_count": 22,
     "metadata": {
      "image/svg+xml": {
       "isolated": true
      }
     },
     "output_type": "execute_result"
    }
   ],
   "source": [
    "g = util.build_website_graph(nnodes=4, rate=3, extra_arc_fraction=0.25, seed=42)\n",
    "ig.plot(g, **util.get_visual_style(g), bbox=(700, 200), margin=50)"
   ]
  },
  {
   "cell_type": "markdown",
   "metadata": {},
   "source": [
    "* The graph is handled via the [python-igraph](https://igraph.org/python/) library\n",
    "* ...Which provides a fast C++ implementation of many graph primitives\n",
    "* The library also include a good selection of graph algorithms"
   ]
  },
  {
   "cell_type": "markdown",
   "metadata": {
    "slideshow": {
     "slide_type": "subslide"
    }
   },
   "source": [
    "## Ground Truth Generation\n",
    "\n",
    "**We obtain realistic counts by routing \"flow\" along random paths**\n",
    "\n",
    "For one path, this can be done via a function from the utility module:"
   ]
  },
  {
   "cell_type": "code",
   "execution_count": 23,
   "metadata": {},
   "outputs": [
    {
     "name": "stdout",
     "output_type": "stream",
     "text": [
      "3.69: (1, 0)>(2, 3)>(3, 3)\n"
     ]
    }
   ],
   "source": [
    "home = g.vs[0] # Home page\n",
    "eoh = 4 # End of Horizon\n",
    "\n",
    "flow, path = util.route_random_flow(home, min_units=1, max_units=10, eoh=eoh, seed=10)\n",
    "print(f'{flow:.2f}: {\">\".join(str(v) for v in path)}')"
   ]
  },
  {
   "cell_type": "markdown",
   "metadata": {},
   "source": [
    "* The first vertex represents the home page\n",
    "* The \"flow\" represents the amount of users that traverse the path\n",
    "* `eoh` is the number of time units over which we assume to have counts"
   ]
  },
  {
   "cell_type": "markdown",
   "metadata": {
    "slideshow": {
     "slide_type": "subslide"
    }
   },
   "source": [
    "## Ground Truth Generation\n",
    "\n",
    "**A second function performs random routing for multiple paths**\n",
    "\n",
    "We will start from a simple example with a very small number of paths:"
   ]
  },
  {
   "cell_type": "code",
   "execution_count": 24,
   "metadata": {},
   "outputs": [
    {
     "name": "stdout",
     "output_type": "stream",
     "text": [
      "FLOW: PATH\n",
      "9.58: 3,0\n",
      "5.45: 0,1 > 1,1 > 2,0 > 3,1\n",
      "2.52: 1,0 > 2,0 > 3,2\n",
      "1.23: 0,1 > 1,2 > 2,2 > 3,2\n"
     ]
    }
   ],
   "source": [
    "flows, paths = util.build_random_paths(g, min_paths=3, max_paths=5,\n",
    "                                          min_units=1, max_units=10, eoh=eoh, seed=10)\n",
    "print('FLOW: PATH')\n",
    "util.print_ground_truth(flows, paths, sort='descending')"
   ]
  },
  {
   "cell_type": "markdown",
   "metadata": {},
   "source": [
    "* Paths may start from any page\n",
    "* Paths may start at any time step within the horizon\n",
    "\n",
    "**The generated paths represent our _ground truth_**"
   ]
  },
  {
   "cell_type": "markdown",
   "metadata": {
    "slideshow": {
     "slide_type": "subslide"
    }
   },
   "source": [
    "## Time-Unfolded Graph\n",
    "\n",
    "**Our paths may be see as traversal of a _time-unfolded_ version of the graph**"
   ]
  },
  {
   "cell_type": "code",
   "execution_count": 27,
   "metadata": {},
   "outputs": [
    {
     "data": {
      "image/svg+xml": [
       "<?xml version=\"1.0\" encoding=\"UTF-8\"?>\n",
       "<svg xmlns=\"http://www.w3.org/2000/svg\" xmlns:xlink=\"http://www.w3.org/1999/xlink\" width=\"700pt\" height=\"250pt\" viewBox=\"0 0 700 250\" version=\"1.1\">\n",
       "<defs>\n",
       "<g>\n",
       "<symbol overflow=\"visible\" id=\"glyph0-0\">\n",
       "<path style=\"stroke:none;\" d=\"M 0.5 1.765625 L 0.5 -7.046875 L 5.5 -7.046875 L 5.5 1.765625 Z M 1.0625 1.21875 L 4.9375 1.21875 L 4.9375 -6.484375 L 1.0625 -6.484375 Z M 1.0625 1.21875 \"/>\n",
       "</symbol>\n",
       "<symbol overflow=\"visible\" id=\"glyph0-1\">\n",
       "<path style=\"stroke:none;\" d=\"M 3.171875 -6.640625 C 2.671875 -6.640625 2.289062 -6.390625 2.03125 -5.890625 C 1.78125 -5.390625 1.65625 -4.640625 1.65625 -3.640625 C 1.65625 -2.640625 1.78125 -1.890625 2.03125 -1.390625 C 2.289062 -0.890625 2.671875 -0.640625 3.171875 -0.640625 C 3.691406 -0.640625 4.078125 -0.890625 4.328125 -1.390625 C 4.585938 -1.890625 4.71875 -2.640625 4.71875 -3.640625 C 4.71875 -4.640625 4.585938 -5.390625 4.328125 -5.890625 C 4.078125 -6.390625 3.691406 -6.640625 3.171875 -6.640625 Z M 3.171875 -7.421875 C 3.992188 -7.421875 4.617188 -7.097656 5.046875 -6.453125 C 5.484375 -5.804688 5.703125 -4.867188 5.703125 -3.640625 C 5.703125 -2.410156 5.484375 -1.472656 5.046875 -0.828125 C 4.617188 -0.179688 3.992188 0.140625 3.171875 0.140625 C 2.359375 0.140625 1.734375 -0.179688 1.296875 -0.828125 C 0.867188 -1.472656 0.65625 -2.410156 0.65625 -3.640625 C 0.65625 -4.867188 0.867188 -5.804688 1.296875 -6.453125 C 1.734375 -7.097656 2.359375 -7.421875 3.171875 -7.421875 Z M 3.171875 -7.421875 \"/>\n",
       "</symbol>\n",
       "<symbol overflow=\"visible\" id=\"glyph0-2\">\n",
       "<path style=\"stroke:none;\" d=\"M 1.171875 -1.234375 L 2.203125 -1.234375 L 2.203125 -0.40625 L 1.40625 1.15625 L 0.765625 1.15625 L 1.171875 -0.40625 Z M 1.171875 -1.234375 \"/>\n",
       "</symbol>\n",
       "<symbol overflow=\"visible\" id=\"glyph0-3\">\n",
       "<path style=\"stroke:none;\" d=\"M 1.234375 -0.828125 L 2.859375 -0.828125 L 2.859375 -6.390625 L 1.09375 -6.046875 L 1.09375 -6.9375 L 2.84375 -7.296875 L 3.828125 -7.296875 L 3.828125 -0.828125 L 5.4375 -0.828125 L 5.4375 0 L 1.234375 0 Z M 1.234375 -0.828125 \"/>\n",
       "</symbol>\n",
       "<symbol overflow=\"visible\" id=\"glyph0-4\">\n",
       "<path style=\"stroke:none;\" d=\"M 1.921875 -0.828125 L 5.359375 -0.828125 L 5.359375 0 L 0.734375 0 L 0.734375 -0.828125 C 1.109375 -1.210938 1.617188 -1.734375 2.265625 -2.390625 C 2.910156 -3.046875 3.316406 -3.46875 3.484375 -3.65625 C 3.796875 -4.007812 4.015625 -4.304688 4.140625 -4.546875 C 4.265625 -4.796875 4.328125 -5.039062 4.328125 -5.28125 C 4.328125 -5.664062 4.191406 -5.976562 3.921875 -6.21875 C 3.648438 -6.46875 3.296875 -6.59375 2.859375 -6.59375 C 2.546875 -6.59375 2.21875 -6.535156 1.875 -6.421875 C 1.539062 -6.316406 1.175781 -6.15625 0.78125 -5.9375 L 0.78125 -6.9375 C 1.175781 -7.09375 1.546875 -7.210938 1.890625 -7.296875 C 2.234375 -7.378906 2.550781 -7.421875 2.84375 -7.421875 C 3.59375 -7.421875 4.191406 -7.234375 4.640625 -6.859375 C 5.097656 -6.484375 5.328125 -5.976562 5.328125 -5.34375 C 5.328125 -5.039062 5.269531 -4.753906 5.15625 -4.484375 C 5.039062 -4.222656 4.835938 -3.910156 4.546875 -3.546875 C 4.460938 -3.453125 4.203125 -3.175781 3.765625 -2.71875 C 3.328125 -2.269531 2.710938 -1.640625 1.921875 -0.828125 Z M 1.921875 -0.828125 \"/>\n",
       "</symbol>\n",
       "<symbol overflow=\"visible\" id=\"glyph0-5\">\n",
       "<path style=\"stroke:none;\" d=\"M 4.0625 -3.9375 C 4.53125 -3.832031 4.894531 -3.617188 5.15625 -3.296875 C 5.425781 -2.984375 5.5625 -2.59375 5.5625 -2.125 C 5.5625 -1.40625 5.3125 -0.847656 4.8125 -0.453125 C 4.320312 -0.0546875 3.617188 0.140625 2.703125 0.140625 C 2.398438 0.140625 2.085938 0.109375 1.765625 0.046875 C 1.441406 -0.015625 1.109375 -0.101562 0.765625 -0.21875 L 0.765625 -1.171875 C 1.035156 -1.015625 1.332031 -0.894531 1.65625 -0.8125 C 1.988281 -0.726562 2.332031 -0.6875 2.6875 -0.6875 C 3.300781 -0.6875 3.769531 -0.804688 4.09375 -1.046875 C 4.414062 -1.296875 4.578125 -1.65625 4.578125 -2.125 C 4.578125 -2.550781 4.425781 -2.882812 4.125 -3.125 C 3.820312 -3.363281 3.40625 -3.484375 2.875 -3.484375 L 2.015625 -3.484375 L 2.015625 -4.296875 L 2.90625 -4.296875 C 3.394531 -4.296875 3.765625 -4.394531 4.015625 -4.59375 C 4.273438 -4.789062 4.40625 -5.070312 4.40625 -5.4375 C 4.40625 -5.800781 4.269531 -6.082031 4 -6.28125 C 3.738281 -6.488281 3.363281 -6.59375 2.875 -6.59375 C 2.601562 -6.59375 2.3125 -6.5625 2 -6.5 C 1.6875 -6.445312 1.347656 -6.359375 0.984375 -6.234375 L 0.984375 -7.109375 C 1.359375 -7.210938 1.707031 -7.289062 2.03125 -7.34375 C 2.363281 -7.394531 2.671875 -7.421875 2.953125 -7.421875 C 3.703125 -7.421875 4.296875 -7.25 4.734375 -6.90625 C 5.171875 -6.570312 5.390625 -6.113281 5.390625 -5.53125 C 5.390625 -5.125 5.273438 -4.78125 5.046875 -4.5 C 4.816406 -4.226562 4.488281 -4.039062 4.0625 -3.9375 Z M 4.0625 -3.9375 \"/>\n",
       "</symbol>\n",
       "</g>\n",
       "</defs>\n",
       "<g id=\"surface80\">\n",
       "<rect x=\"0\" y=\"0\" width=\"700\" height=\"250\" style=\"fill:rgb(100%,100%,100%);fill-opacity:1;stroke:none;\"/>\n",
       "<path style=\"fill:none;stroke-width:1;stroke-linecap:butt;stroke-linejoin:miter;stroke:rgb(26.666667%,26.666667%,26.666667%);stroke-opacity:1;stroke-miterlimit:10;\" d=\"M 50 50 L 220.734375 50 \"/>\n",
       "<path style=\" stroke:none;fill-rule:nonzero;fill:rgb(26.666667%,26.666667%,26.666667%);fill-opacity:1;\" d=\"M 235 50 L 220.734375 54.636719 L 220.734375 45.363281 L 235 50 \"/>\n",
       "<path style=\"fill:none;stroke-width:1;stroke-linecap:butt;stroke-linejoin:miter;stroke:rgb(26.666667%,26.666667%,26.666667%);stroke-opacity:1;stroke-miterlimit:10;\" d=\"M 50 50 L 221.609375 92.902344 \"/>\n",
       "<path style=\" stroke:none;fill-rule:nonzero;fill:rgb(26.666667%,26.666667%,26.666667%);fill-opacity:1;\" d=\"M 235.449219 96.363281 L 220.484375 97.398438 L 222.730469 88.40625 L 235.449219 96.363281 \"/>\n",
       "<path style=\"fill:none;stroke-width:1;stroke-linecap:butt;stroke-linejoin:miter;stroke:rgb(26.666667%,26.666667%,26.666667%);stroke-opacity:1;stroke-miterlimit:10;\" d=\"M 50 100 L 220.734375 100 \"/>\n",
       "<path style=\" stroke:none;fill-rule:nonzero;fill:rgb(26.666667%,26.666667%,26.666667%);fill-opacity:1;\" d=\"M 235 100 L 220.734375 104.636719 L 220.734375 95.363281 L 235 100 \"/>\n",
       "<path style=\"fill:none;stroke-width:1;stroke-linecap:butt;stroke-linejoin:miter;stroke:rgb(26.666667%,26.666667%,26.666667%);stroke-opacity:1;stroke-miterlimit:10;\" d=\"M 50 50 L 223.824219 136.910156 \"/>\n",
       "<path style=\" stroke:none;fill-rule:nonzero;fill:rgb(26.666667%,26.666667%,26.666667%);fill-opacity:1;\" d=\"M 236.582031 143.292969 L 221.75 141.058594 L 225.898438 132.765625 L 236.582031 143.292969 \"/>\n",
       "<path style=\"fill:none;stroke-width:1;stroke-linecap:butt;stroke-linejoin:miter;stroke:rgb(26.666667%,26.666667%,26.666667%);stroke-opacity:1;stroke-miterlimit:10;\" d=\"M 50 150 L 220.734375 150 \"/>\n",
       "<path style=\" stroke:none;fill-rule:nonzero;fill:rgb(26.666667%,26.666667%,26.666667%);fill-opacity:1;\" d=\"M 235 150 L 220.734375 154.636719 L 220.734375 145.363281 L 235 150 \"/>\n",
       "<path style=\"fill:none;stroke-width:1;stroke-linecap:butt;stroke-linejoin:miter;stroke:rgb(26.666667%,26.666667%,26.666667%);stroke-opacity:1;stroke-miterlimit:10;\" d=\"M 50 50 L 226.585938 182.441406 \"/>\n",
       "<path style=\" stroke:none;fill-rule:nonzero;fill:rgb(26.666667%,26.666667%,26.666667%);fill-opacity:1;\" d=\"M 238 191 L 223.804688 186.148438 L 229.367188 178.730469 L 238 191 \"/>\n",
       "<path style=\"fill:none;stroke-width:1;stroke-linecap:butt;stroke-linejoin:miter;stroke:rgb(26.666667%,26.666667%,26.666667%);stroke-opacity:1;stroke-miterlimit:10;\" d=\"M 50 200 L 220.734375 200 \"/>\n",
       "<path style=\" stroke:none;fill-rule:nonzero;fill:rgb(26.666667%,26.666667%,26.666667%);fill-opacity:1;\" d=\"M 235 200 L 220.734375 204.636719 L 220.734375 195.363281 L 235 200 \"/>\n",
       "<path style=\"fill:none;stroke-width:1;stroke-linecap:butt;stroke-linejoin:miter;stroke:rgb(26.666667%,26.666667%,26.666667%);stroke-opacity:1;stroke-miterlimit:10;\" d=\"M 50 100 L 221.609375 57.097656 \"/>\n",
       "<path style=\" stroke:none;fill-rule:nonzero;fill:rgb(26.666667%,26.666667%,26.666667%);fill-opacity:1;\" d=\"M 235.449219 53.636719 L 222.730469 61.59375 L 220.484375 52.601562 L 235.449219 53.636719 \"/>\n",
       "<path style=\"fill:none;stroke-width:1;stroke-linecap:butt;stroke-linejoin:miter;stroke:rgb(26.666667%,26.666667%,26.666667%);stroke-opacity:1;stroke-miterlimit:10;\" d=\"M 50 100 L 221.609375 142.902344 \"/>\n",
       "<path style=\" stroke:none;fill-rule:nonzero;fill:rgb(26.666667%,26.666667%,26.666667%);fill-opacity:1;\" d=\"M 235.449219 146.363281 L 220.484375 147.398438 L 222.730469 138.40625 L 235.449219 146.363281 \"/>\n",
       "<path style=\"fill:none;stroke-width:1;stroke-linecap:butt;stroke-linejoin:miter;stroke:rgb(26.666667%,26.666667%,26.666667%);stroke-opacity:1;stroke-miterlimit:10;\" d=\"M 250 50 L 420.734375 50 \"/>\n",
       "<path style=\" stroke:none;fill-rule:nonzero;fill:rgb(26.666667%,26.666667%,26.666667%);fill-opacity:1;\" d=\"M 435 50 L 420.734375 54.636719 L 420.734375 45.363281 L 435 50 \"/>\n",
       "<path style=\"fill:none;stroke-width:1;stroke-linecap:butt;stroke-linejoin:miter;stroke:rgb(26.666667%,26.666667%,26.666667%);stroke-opacity:1;stroke-miterlimit:10;\" d=\"M 250 50 L 421.609375 92.902344 \"/>\n",
       "<path style=\" stroke:none;fill-rule:nonzero;fill:rgb(26.666667%,26.666667%,26.666667%);fill-opacity:1;\" d=\"M 435.449219 96.363281 L 420.484375 97.398438 L 422.730469 88.40625 L 435.449219 96.363281 \"/>\n",
       "<path style=\"fill:none;stroke-width:1;stroke-linecap:butt;stroke-linejoin:miter;stroke:rgb(26.666667%,26.666667%,26.666667%);stroke-opacity:1;stroke-miterlimit:10;\" d=\"M 250 100 L 420.734375 100 \"/>\n",
       "<path style=\" stroke:none;fill-rule:nonzero;fill:rgb(26.666667%,26.666667%,26.666667%);fill-opacity:1;\" d=\"M 435 100 L 420.734375 104.636719 L 420.734375 95.363281 L 435 100 \"/>\n",
       "<path style=\"fill:none;stroke-width:1;stroke-linecap:butt;stroke-linejoin:miter;stroke:rgb(26.666667%,26.666667%,26.666667%);stroke-opacity:1;stroke-miterlimit:10;\" d=\"M 250 50 L 423.824219 136.910156 \"/>\n",
       "<path style=\" stroke:none;fill-rule:nonzero;fill:rgb(26.666667%,26.666667%,26.666667%);fill-opacity:1;\" d=\"M 436.582031 143.292969 L 421.75 141.058594 L 425.898438 132.765625 L 436.582031 143.292969 \"/>\n",
       "<path style=\"fill:none;stroke-width:1;stroke-linecap:butt;stroke-linejoin:miter;stroke:rgb(26.666667%,26.666667%,26.666667%);stroke-opacity:1;stroke-miterlimit:10;\" d=\"M 250 150 L 420.734375 150 \"/>\n",
       "<path style=\" stroke:none;fill-rule:nonzero;fill:rgb(26.666667%,26.666667%,26.666667%);fill-opacity:1;\" d=\"M 435 150 L 420.734375 154.636719 L 420.734375 145.363281 L 435 150 \"/>\n",
       "<path style=\"fill:none;stroke-width:1;stroke-linecap:butt;stroke-linejoin:miter;stroke:rgb(26.666667%,26.666667%,26.666667%);stroke-opacity:1;stroke-miterlimit:10;\" d=\"M 250 50 L 426.585938 182.441406 \"/>\n",
       "<path style=\" stroke:none;fill-rule:nonzero;fill:rgb(26.666667%,26.666667%,26.666667%);fill-opacity:1;\" d=\"M 438 191 L 423.804688 186.148438 L 429.367188 178.730469 L 438 191 \"/>\n",
       "<path style=\"fill:none;stroke-width:1;stroke-linecap:butt;stroke-linejoin:miter;stroke:rgb(26.666667%,26.666667%,26.666667%);stroke-opacity:1;stroke-miterlimit:10;\" d=\"M 250 200 L 420.734375 200 \"/>\n",
       "<path style=\" stroke:none;fill-rule:nonzero;fill:rgb(26.666667%,26.666667%,26.666667%);fill-opacity:1;\" d=\"M 435 200 L 420.734375 204.636719 L 420.734375 195.363281 L 435 200 \"/>\n",
       "<path style=\"fill:none;stroke-width:1;stroke-linecap:butt;stroke-linejoin:miter;stroke:rgb(26.666667%,26.666667%,26.666667%);stroke-opacity:1;stroke-miterlimit:10;\" d=\"M 250 100 L 421.609375 57.097656 \"/>\n",
       "<path style=\" stroke:none;fill-rule:nonzero;fill:rgb(26.666667%,26.666667%,26.666667%);fill-opacity:1;\" d=\"M 435.449219 53.636719 L 422.730469 61.59375 L 420.484375 52.601562 L 435.449219 53.636719 \"/>\n",
       "<path style=\"fill:none;stroke-width:1;stroke-linecap:butt;stroke-linejoin:miter;stroke:rgb(26.666667%,26.666667%,26.666667%);stroke-opacity:1;stroke-miterlimit:10;\" d=\"M 250 100 L 421.609375 142.902344 \"/>\n",
       "<path style=\" stroke:none;fill-rule:nonzero;fill:rgb(26.666667%,26.666667%,26.666667%);fill-opacity:1;\" d=\"M 435.449219 146.363281 L 420.484375 147.398438 L 422.730469 138.40625 L 435.449219 146.363281 \"/>\n",
       "<path style=\"fill:none;stroke-width:1;stroke-linecap:butt;stroke-linejoin:miter;stroke:rgb(26.666667%,26.666667%,26.666667%);stroke-opacity:1;stroke-miterlimit:10;\" d=\"M 450 50 L 620.734375 50 \"/>\n",
       "<path style=\" stroke:none;fill-rule:nonzero;fill:rgb(26.666667%,26.666667%,26.666667%);fill-opacity:1;\" d=\"M 635 50 L 620.734375 54.636719 L 620.734375 45.363281 L 635 50 \"/>\n",
       "<path style=\"fill:none;stroke-width:1;stroke-linecap:butt;stroke-linejoin:miter;stroke:rgb(26.666667%,26.666667%,26.666667%);stroke-opacity:1;stroke-miterlimit:10;\" d=\"M 450 50 L 621.609375 92.902344 \"/>\n",
       "<path style=\" stroke:none;fill-rule:nonzero;fill:rgb(26.666667%,26.666667%,26.666667%);fill-opacity:1;\" d=\"M 635.449219 96.363281 L 620.484375 97.398438 L 622.730469 88.40625 L 635.449219 96.363281 \"/>\n",
       "<path style=\"fill:none;stroke-width:1;stroke-linecap:butt;stroke-linejoin:miter;stroke:rgb(26.666667%,26.666667%,26.666667%);stroke-opacity:1;stroke-miterlimit:10;\" d=\"M 450 100 L 620.734375 100 \"/>\n",
       "<path style=\" stroke:none;fill-rule:nonzero;fill:rgb(26.666667%,26.666667%,26.666667%);fill-opacity:1;\" d=\"M 635 100 L 620.734375 104.636719 L 620.734375 95.363281 L 635 100 \"/>\n",
       "<path style=\"fill:none;stroke-width:1;stroke-linecap:butt;stroke-linejoin:miter;stroke:rgb(26.666667%,26.666667%,26.666667%);stroke-opacity:1;stroke-miterlimit:10;\" d=\"M 450 50 L 623.824219 136.910156 \"/>\n",
       "<path style=\" stroke:none;fill-rule:nonzero;fill:rgb(26.666667%,26.666667%,26.666667%);fill-opacity:1;\" d=\"M 636.582031 143.292969 L 621.75 141.058594 L 625.898438 132.765625 L 636.582031 143.292969 \"/>\n",
       "<path style=\"fill:none;stroke-width:1;stroke-linecap:butt;stroke-linejoin:miter;stroke:rgb(26.666667%,26.666667%,26.666667%);stroke-opacity:1;stroke-miterlimit:10;\" d=\"M 450 150 L 620.734375 150 \"/>\n",
       "<path style=\" stroke:none;fill-rule:nonzero;fill:rgb(26.666667%,26.666667%,26.666667%);fill-opacity:1;\" d=\"M 635 150 L 620.734375 154.636719 L 620.734375 145.363281 L 635 150 \"/>\n",
       "<path style=\"fill:none;stroke-width:1;stroke-linecap:butt;stroke-linejoin:miter;stroke:rgb(26.666667%,26.666667%,26.666667%);stroke-opacity:1;stroke-miterlimit:10;\" d=\"M 450 50 L 626.585938 182.441406 \"/>\n",
       "<path style=\" stroke:none;fill-rule:nonzero;fill:rgb(26.666667%,26.666667%,26.666667%);fill-opacity:1;\" d=\"M 638 191 L 623.804688 186.148438 L 629.367188 178.730469 L 638 191 \"/>\n",
       "<path style=\"fill:none;stroke-width:1;stroke-linecap:butt;stroke-linejoin:miter;stroke:rgb(26.666667%,26.666667%,26.666667%);stroke-opacity:1;stroke-miterlimit:10;\" d=\"M 450 200 L 620.734375 200 \"/>\n",
       "<path style=\" stroke:none;fill-rule:nonzero;fill:rgb(26.666667%,26.666667%,26.666667%);fill-opacity:1;\" d=\"M 635 200 L 620.734375 204.636719 L 620.734375 195.363281 L 635 200 \"/>\n",
       "<path style=\"fill:none;stroke-width:1;stroke-linecap:butt;stroke-linejoin:miter;stroke:rgb(26.666667%,26.666667%,26.666667%);stroke-opacity:1;stroke-miterlimit:10;\" d=\"M 450 100 L 621.609375 57.097656 \"/>\n",
       "<path style=\" stroke:none;fill-rule:nonzero;fill:rgb(26.666667%,26.666667%,26.666667%);fill-opacity:1;\" d=\"M 635.449219 53.636719 L 622.730469 61.59375 L 620.484375 52.601562 L 635.449219 53.636719 \"/>\n",
       "<path style=\"fill:none;stroke-width:1;stroke-linecap:butt;stroke-linejoin:miter;stroke:rgb(26.666667%,26.666667%,26.666667%);stroke-opacity:1;stroke-miterlimit:10;\" d=\"M 450 100 L 621.609375 142.902344 \"/>\n",
       "<path style=\" stroke:none;fill-rule:nonzero;fill:rgb(26.666667%,26.666667%,26.666667%);fill-opacity:1;\" d=\"M 635.449219 146.363281 L 620.484375 147.398438 L 622.730469 138.40625 L 635.449219 146.363281 \"/>\n",
       "<path style=\"fill-rule:nonzero;fill:rgb(55.294118%,82.745098%,78.039216%);fill-opacity:1;stroke-width:1;stroke-linecap:butt;stroke-linejoin:miter;stroke:rgb(0%,0%,0%);stroke-opacity:1;stroke-miterlimit:10;\" d=\"M 65 50 C 65 58.285156 58.285156 65 50 65 C 41.714844 65 35 58.285156 35 50 C 35 41.714844 41.714844 35 50 35 C 58.285156 35 65 41.714844 65 50 \"/>\n",
       "<path style=\"fill-rule:nonzero;fill:rgb(100%,100%,70.196078%);fill-opacity:1;stroke-width:1;stroke-linecap:butt;stroke-linejoin:miter;stroke:rgb(0%,0%,0%);stroke-opacity:1;stroke-miterlimit:10;\" d=\"M 65 100 C 65 108.285156 58.285156 115 50 115 C 41.714844 115 35 108.285156 35 100 C 35 91.714844 41.714844 85 50 85 C 58.285156 85 65 91.714844 65 100 \"/>\n",
       "<path style=\"fill-rule:nonzero;fill:rgb(74.509804%,72.941176%,85.490196%);fill-opacity:1;stroke-width:1;stroke-linecap:butt;stroke-linejoin:miter;stroke:rgb(0%,0%,0%);stroke-opacity:1;stroke-miterlimit:10;\" d=\"M 65 150 C 65 158.285156 58.285156 165 50 165 C 41.714844 165 35 158.285156 35 150 C 35 141.714844 41.714844 135 50 135 C 58.285156 135 65 141.714844 65 150 \"/>\n",
       "<path style=\"fill-rule:nonzero;fill:rgb(98.431373%,50.196078%,44.705882%);fill-opacity:1;stroke-width:1;stroke-linecap:butt;stroke-linejoin:miter;stroke:rgb(0%,0%,0%);stroke-opacity:1;stroke-miterlimit:10;\" d=\"M 65 200 C 65 208.285156 58.285156 215 50 215 C 41.714844 215 35 208.285156 35 200 C 35 191.714844 41.714844 185 50 185 C 58.285156 185 65 191.714844 65 200 \"/>\n",
       "<path style=\"fill-rule:nonzero;fill:rgb(55.294118%,82.745098%,78.039216%);fill-opacity:1;stroke-width:1;stroke-linecap:butt;stroke-linejoin:miter;stroke:rgb(0%,0%,0%);stroke-opacity:1;stroke-miterlimit:10;\" d=\"M 265 50 C 265 58.285156 258.285156 65 250 65 C 241.714844 65 235 58.285156 235 50 C 235 41.714844 241.714844 35 250 35 C 258.285156 35 265 41.714844 265 50 \"/>\n",
       "<path style=\"fill-rule:nonzero;fill:rgb(100%,100%,70.196078%);fill-opacity:1;stroke-width:1;stroke-linecap:butt;stroke-linejoin:miter;stroke:rgb(0%,0%,0%);stroke-opacity:1;stroke-miterlimit:10;\" d=\"M 265 100 C 265 108.285156 258.285156 115 250 115 C 241.714844 115 235 108.285156 235 100 C 235 91.714844 241.714844 85 250 85 C 258.285156 85 265 91.714844 265 100 \"/>\n",
       "<path style=\"fill-rule:nonzero;fill:rgb(74.509804%,72.941176%,85.490196%);fill-opacity:1;stroke-width:1;stroke-linecap:butt;stroke-linejoin:miter;stroke:rgb(0%,0%,0%);stroke-opacity:1;stroke-miterlimit:10;\" d=\"M 265 150 C 265 158.285156 258.285156 165 250 165 C 241.714844 165 235 158.285156 235 150 C 235 141.714844 241.714844 135 250 135 C 258.285156 135 265 141.714844 265 150 \"/>\n",
       "<path style=\"fill-rule:nonzero;fill:rgb(98.431373%,50.196078%,44.705882%);fill-opacity:1;stroke-width:1;stroke-linecap:butt;stroke-linejoin:miter;stroke:rgb(0%,0%,0%);stroke-opacity:1;stroke-miterlimit:10;\" d=\"M 265 200 C 265 208.285156 258.285156 215 250 215 C 241.714844 215 235 208.285156 235 200 C 235 191.714844 241.714844 185 250 185 C 258.285156 185 265 191.714844 265 200 \"/>\n",
       "<path style=\"fill-rule:nonzero;fill:rgb(55.294118%,82.745098%,78.039216%);fill-opacity:1;stroke-width:1;stroke-linecap:butt;stroke-linejoin:miter;stroke:rgb(0%,0%,0%);stroke-opacity:1;stroke-miterlimit:10;\" d=\"M 465 50 C 465 58.285156 458.285156 65 450 65 C 441.714844 65 435 58.285156 435 50 C 435 41.714844 441.714844 35 450 35 C 458.285156 35 465 41.714844 465 50 \"/>\n",
       "<path style=\"fill-rule:nonzero;fill:rgb(100%,100%,70.196078%);fill-opacity:1;stroke-width:1;stroke-linecap:butt;stroke-linejoin:miter;stroke:rgb(0%,0%,0%);stroke-opacity:1;stroke-miterlimit:10;\" d=\"M 465 100 C 465 108.285156 458.285156 115 450 115 C 441.714844 115 435 108.285156 435 100 C 435 91.714844 441.714844 85 450 85 C 458.285156 85 465 91.714844 465 100 \"/>\n",
       "<path style=\"fill-rule:nonzero;fill:rgb(74.509804%,72.941176%,85.490196%);fill-opacity:1;stroke-width:1;stroke-linecap:butt;stroke-linejoin:miter;stroke:rgb(0%,0%,0%);stroke-opacity:1;stroke-miterlimit:10;\" d=\"M 465 150 C 465 158.285156 458.285156 165 450 165 C 441.714844 165 435 158.285156 435 150 C 435 141.714844 441.714844 135 450 135 C 458.285156 135 465 141.714844 465 150 \"/>\n",
       "<path style=\"fill-rule:nonzero;fill:rgb(98.431373%,50.196078%,44.705882%);fill-opacity:1;stroke-width:1;stroke-linecap:butt;stroke-linejoin:miter;stroke:rgb(0%,0%,0%);stroke-opacity:1;stroke-miterlimit:10;\" d=\"M 465 200 C 465 208.285156 458.285156 215 450 215 C 441.714844 215 435 208.285156 435 200 C 435 191.714844 441.714844 185 450 185 C 458.285156 185 465 191.714844 465 200 \"/>\n",
       "<path style=\"fill-rule:nonzero;fill:rgb(55.294118%,82.745098%,78.039216%);fill-opacity:1;stroke-width:1;stroke-linecap:butt;stroke-linejoin:miter;stroke:rgb(0%,0%,0%);stroke-opacity:1;stroke-miterlimit:10;\" d=\"M 665 50 C 665 58.285156 658.285156 65 650 65 C 641.714844 65 635 58.285156 635 50 C 635 41.714844 641.714844 35 650 35 C 658.285156 35 665 41.714844 665 50 \"/>\n",
       "<path style=\"fill-rule:nonzero;fill:rgb(100%,100%,70.196078%);fill-opacity:1;stroke-width:1;stroke-linecap:butt;stroke-linejoin:miter;stroke:rgb(0%,0%,0%);stroke-opacity:1;stroke-miterlimit:10;\" d=\"M 665 100 C 665 108.285156 658.285156 115 650 115 C 641.714844 115 635 108.285156 635 100 C 635 91.714844 641.714844 85 650 85 C 658.285156 85 665 91.714844 665 100 \"/>\n",
       "<path style=\"fill-rule:nonzero;fill:rgb(74.509804%,72.941176%,85.490196%);fill-opacity:1;stroke-width:1;stroke-linecap:butt;stroke-linejoin:miter;stroke:rgb(0%,0%,0%);stroke-opacity:1;stroke-miterlimit:10;\" d=\"M 665 150 C 665 158.285156 658.285156 165 650 165 C 641.714844 165 635 158.285156 635 150 C 635 141.714844 641.714844 135 650 135 C 658.285156 135 665 141.714844 665 150 \"/>\n",
       "<path style=\"fill-rule:nonzero;fill:rgb(98.431373%,50.196078%,44.705882%);fill-opacity:1;stroke-width:1;stroke-linecap:butt;stroke-linejoin:miter;stroke:rgb(0%,0%,0%);stroke-opacity:1;stroke-miterlimit:10;\" d=\"M 665 200 C 665 208.285156 658.285156 215 650 215 C 641.714844 215 635 208.285156 635 200 C 635 191.714844 641.714844 185 650 185 C 658.285156 185 665 191.714844 665 200 \"/>\n",
       "<g style=\"fill:rgb(0%,0%,0%);fill-opacity:1;\">\n",
       "  <use xlink:href=\"#glyph0-1\" x=\"42.050781\" y=\"54.890625\"/>\n",
       "  <use xlink:href=\"#glyph0-2\" x=\"48.413086\" y=\"54.890625\"/>\n",
       "  <use xlink:href=\"#glyph0-1\" x=\"51.591797\" y=\"54.890625\"/>\n",
       "</g>\n",
       "<g style=\"fill:rgb(0%,0%,0%);fill-opacity:1;\">\n",
       "  <use xlink:href=\"#glyph0-1\" x=\"42.179688\" y=\"104.890625\"/>\n",
       "  <use xlink:href=\"#glyph0-2\" x=\"48.541992\" y=\"104.890625\"/>\n",
       "  <use xlink:href=\"#glyph0-3\" x=\"51.720703\" y=\"104.890625\"/>\n",
       "</g>\n",
       "<g style=\"fill:rgb(0%,0%,0%);fill-opacity:1;\">\n",
       "  <use xlink:href=\"#glyph0-1\" x=\"42.21875\" y=\"154.890625\"/>\n",
       "  <use xlink:href=\"#glyph0-2\" x=\"48.581055\" y=\"154.890625\"/>\n",
       "  <use xlink:href=\"#glyph0-4\" x=\"51.759766\" y=\"154.890625\"/>\n",
       "</g>\n",
       "<g style=\"fill:rgb(0%,0%,0%);fill-opacity:1;\">\n",
       "  <use xlink:href=\"#glyph0-1\" x=\"42.117188\" y=\"204.890625\"/>\n",
       "  <use xlink:href=\"#glyph0-2\" x=\"48.479492\" y=\"204.890625\"/>\n",
       "  <use xlink:href=\"#glyph0-5\" x=\"51.658203\" y=\"204.890625\"/>\n",
       "</g>\n",
       "<g style=\"fill:rgb(0%,0%,0%);fill-opacity:1;\">\n",
       "  <use xlink:href=\"#glyph0-3\" x=\"241.832031\" y=\"54.890625\"/>\n",
       "  <use xlink:href=\"#glyph0-2\" x=\"248.194336\" y=\"54.890625\"/>\n",
       "  <use xlink:href=\"#glyph0-1\" x=\"251.373047\" y=\"54.890625\"/>\n",
       "</g>\n",
       "<g style=\"fill:rgb(0%,0%,0%);fill-opacity:1;\">\n",
       "  <use xlink:href=\"#glyph0-3\" x=\"241.960938\" y=\"104.824219\"/>\n",
       "  <use xlink:href=\"#glyph0-2\" x=\"248.323242\" y=\"104.824219\"/>\n",
       "  <use xlink:href=\"#glyph0-3\" x=\"251.501953\" y=\"104.824219\"/>\n",
       "</g>\n",
       "<g style=\"fill:rgb(0%,0%,0%);fill-opacity:1;\">\n",
       "  <use xlink:href=\"#glyph0-3\" x=\"242\" y=\"154.890625\"/>\n",
       "  <use xlink:href=\"#glyph0-2\" x=\"248.362305\" y=\"154.890625\"/>\n",
       "  <use xlink:href=\"#glyph0-4\" x=\"251.541016\" y=\"154.890625\"/>\n",
       "</g>\n",
       "<g style=\"fill:rgb(0%,0%,0%);fill-opacity:1;\">\n",
       "  <use xlink:href=\"#glyph0-3\" x=\"241.898438\" y=\"204.890625\"/>\n",
       "  <use xlink:href=\"#glyph0-2\" x=\"248.260742\" y=\"204.890625\"/>\n",
       "  <use xlink:href=\"#glyph0-5\" x=\"251.439453\" y=\"204.890625\"/>\n",
       "</g>\n",
       "<g style=\"fill:rgb(0%,0%,0%);fill-opacity:1;\">\n",
       "  <use xlink:href=\"#glyph0-4\" x=\"442.015625\" y=\"54.890625\"/>\n",
       "  <use xlink:href=\"#glyph0-2\" x=\"448.37793\" y=\"54.890625\"/>\n",
       "  <use xlink:href=\"#glyph0-1\" x=\"451.556641\" y=\"54.890625\"/>\n",
       "</g>\n",
       "<g style=\"fill:rgb(0%,0%,0%);fill-opacity:1;\">\n",
       "  <use xlink:href=\"#glyph0-4\" x=\"442.144531\" y=\"104.890625\"/>\n",
       "  <use xlink:href=\"#glyph0-2\" x=\"448.506836\" y=\"104.890625\"/>\n",
       "  <use xlink:href=\"#glyph0-3\" x=\"451.685547\" y=\"104.890625\"/>\n",
       "</g>\n",
       "<g style=\"fill:rgb(0%,0%,0%);fill-opacity:1;\">\n",
       "  <use xlink:href=\"#glyph0-4\" x=\"442.183594\" y=\"154.890625\"/>\n",
       "  <use xlink:href=\"#glyph0-2\" x=\"448.545898\" y=\"154.890625\"/>\n",
       "  <use xlink:href=\"#glyph0-4\" x=\"451.724609\" y=\"154.890625\"/>\n",
       "</g>\n",
       "<g style=\"fill:rgb(0%,0%,0%);fill-opacity:1;\">\n",
       "  <use xlink:href=\"#glyph0-4\" x=\"442.082031\" y=\"204.890625\"/>\n",
       "  <use xlink:href=\"#glyph0-2\" x=\"448.444336\" y=\"204.890625\"/>\n",
       "  <use xlink:href=\"#glyph0-5\" x=\"451.623047\" y=\"204.890625\"/>\n",
       "</g>\n",
       "<g style=\"fill:rgb(0%,0%,0%);fill-opacity:1;\">\n",
       "  <use xlink:href=\"#glyph0-5\" x=\"642\" y=\"54.890625\"/>\n",
       "  <use xlink:href=\"#glyph0-2\" x=\"648.362305\" y=\"54.890625\"/>\n",
       "  <use xlink:href=\"#glyph0-1\" x=\"651.541016\" y=\"54.890625\"/>\n",
       "</g>\n",
       "<g style=\"fill:rgb(0%,0%,0%);fill-opacity:1;\">\n",
       "  <use xlink:href=\"#glyph0-5\" x=\"642.128906\" y=\"104.890625\"/>\n",
       "  <use xlink:href=\"#glyph0-2\" x=\"648.491211\" y=\"104.890625\"/>\n",
       "  <use xlink:href=\"#glyph0-3\" x=\"651.669922\" y=\"104.890625\"/>\n",
       "</g>\n",
       "<g style=\"fill:rgb(0%,0%,0%);fill-opacity:1;\">\n",
       "  <use xlink:href=\"#glyph0-5\" x=\"642.167969\" y=\"154.890625\"/>\n",
       "  <use xlink:href=\"#glyph0-2\" x=\"648.530273\" y=\"154.890625\"/>\n",
       "  <use xlink:href=\"#glyph0-4\" x=\"651.708984\" y=\"154.890625\"/>\n",
       "</g>\n",
       "<g style=\"fill:rgb(0%,0%,0%);fill-opacity:1;\">\n",
       "  <use xlink:href=\"#glyph0-5\" x=\"642.066406\" y=\"204.890625\"/>\n",
       "  <use xlink:href=\"#glyph0-2\" x=\"648.428711\" y=\"204.890625\"/>\n",
       "  <use xlink:href=\"#glyph0-5\" x=\"651.607422\" y=\"204.890625\"/>\n",
       "</g>\n",
       "</g>\n",
       "</svg>\n"
      ],
      "text/plain": [
       "<igraph.drawing.Plot at 0x7f293752fa90>"
      ]
     },
     "execution_count": 27,
     "metadata": {
      "image/svg+xml": {
       "isolated": true
      }
     },
     "output_type": "execute_result"
    }
   ],
   "source": [
    "tug = util.build_time_unfolded_graph(g, eoh=eoh)\n",
    "ig.plot(tug, **util.get_visual_style(tug), bbox=(700, 250), margin=50)"
   ]
  },
  {
   "cell_type": "markdown",
   "metadata": {},
   "source": [
    "* We create `eoh` replicas of the vertexes, each referring to a specific time step\n",
    "* We create `eoh` replicas of the edges, linking vertexes in adjacent time step\n",
    "\n",
    "**This representation is referred to as _Time Unfolded Graph_**"
   ]
  },
  {
   "cell_type": "markdown",
   "metadata": {
    "slideshow": {
     "slide_type": "subslide"
    }
   },
   "source": [
    "## Computing Counts\n",
    "\n",
    "**We can now compute counts for all vertexes and edges in the TUG**"
   ]
  },
  {
   "cell_type": "code",
   "execution_count": 28,
   "metadata": {},
   "outputs": [
    {
     "name": "stdout",
     "output_type": "stream",
     "text": [
      "NODE COUNTS\n",
      "(0, 0):0.00\t(0, 1):6.68\t(0, 2):0.00\t(0, 3):0.00\t(1, 0):2.52\t(1, 1):5.45\t(1, 2):1.23\t(1, 3):0.00\t(2, 0):7.97\t(2, 1):0.00\t(2, 2):1.23\t(2, 3):0.00\t(3, 0):9.58\t(3, 1):5.45\t(3, 2):3.75\t(3, 3):0.00\n",
      "ARC COUNTS\n",
      "(1, 0, 0):0.00\t(1, 0, 1):0.00\t(1, 1, 1):5.45\t(1, 0, 2):0.00\t(1, 2, 2):0.00\t(1, 0, 3):0.00\t(1, 3, 3):0.00\t(1, 1, 0):0.00\t(1, 1, 2):1.23\t(2, 0, 0):2.52\t(2, 0, 1):0.00\t(2, 1, 1):0.00\t(2, 0, 2):0.00\t(2, 2, 2):1.23\t(2, 0, 3):0.00\t(2, 3, 3):0.00\t(2, 1, 0):5.45\t(2, 1, 2):0.00\t(3, 0, 0):0.00\t(3, 0, 1):5.45\t(3, 1, 1):0.00\t(3, 0, 2):2.52\t(3, 2, 2):1.23\t(3, 0, 3):0.00\t(3, 3, 3):0.00\t(3, 1, 0):0.00\t(3, 1, 2):0.00\n"
     ]
    }
   ],
   "source": [
    "node_counts, arc_counts = util.get_counts(tug, flows, paths)\n",
    "print('NODE COUNTS')\n",
    "print('\\t'.join(f'{k}:{v:.2f}' for k, v in node_counts.items()))\n",
    "print('ARC COUNTS')\n",
    "print('\\t'.join(f'{k}:{v:.2f}' for k, v in arc_counts.items()))"
   ]
  },
  {
   "cell_type": "markdown",
   "metadata": {},
   "source": [
    "* TUG nodes/vertexes are labeled with $(\\mathit{time}, \\mathit{node})$ pairs\n",
    "* TUG ares are labeled with $(\\mathit{time}, \\mathit{source}, \\mathit{destination})$ triplets"
   ]
  },
  {
   "cell_type": "markdown",
   "metadata": {
    "slideshow": {
     "slide_type": "subslide"
    }
   },
   "source": [
    "## Computing Counts\n",
    "\n",
    "**We can inspect the arc counts visually on the TUG**"
   ]
  },
  {
   "cell_type": "code",
   "execution_count": 58,
   "metadata": {},
   "outputs": [
    {
     "data": {
      "image/svg+xml": [
       "<?xml version=\"1.0\" encoding=\"UTF-8\"?>\n",
       "<svg xmlns=\"http://www.w3.org/2000/svg\" xmlns:xlink=\"http://www.w3.org/1999/xlink\" width=\"700pt\" height=\"250pt\" viewBox=\"0 0 700 250\" version=\"1.1\">\n",
       "<defs>\n",
       "<g>\n",
       "<symbol overflow=\"visible\" id=\"glyph0-0\">\n",
       "<path style=\"stroke:none;\" d=\"M 0.5 1.765625 L 0.5 -7.046875 L 5.5 -7.046875 L 5.5 1.765625 Z M 1.0625 1.21875 L 4.9375 1.21875 L 4.9375 -6.484375 L 1.0625 -6.484375 Z M 1.0625 1.21875 \"/>\n",
       "</symbol>\n",
       "<symbol overflow=\"visible\" id=\"glyph0-1\">\n",
       "<path style=\"stroke:none;\" d=\"M 3.171875 -6.640625 C 2.671875 -6.640625 2.289062 -6.390625 2.03125 -5.890625 C 1.78125 -5.390625 1.65625 -4.640625 1.65625 -3.640625 C 1.65625 -2.640625 1.78125 -1.890625 2.03125 -1.390625 C 2.289062 -0.890625 2.671875 -0.640625 3.171875 -0.640625 C 3.691406 -0.640625 4.078125 -0.890625 4.328125 -1.390625 C 4.585938 -1.890625 4.71875 -2.640625 4.71875 -3.640625 C 4.71875 -4.640625 4.585938 -5.390625 4.328125 -5.890625 C 4.078125 -6.390625 3.691406 -6.640625 3.171875 -6.640625 Z M 3.171875 -7.421875 C 3.992188 -7.421875 4.617188 -7.097656 5.046875 -6.453125 C 5.484375 -5.804688 5.703125 -4.867188 5.703125 -3.640625 C 5.703125 -2.410156 5.484375 -1.472656 5.046875 -0.828125 C 4.617188 -0.179688 3.992188 0.140625 3.171875 0.140625 C 2.359375 0.140625 1.734375 -0.179688 1.296875 -0.828125 C 0.867188 -1.472656 0.65625 -2.410156 0.65625 -3.640625 C 0.65625 -4.867188 0.867188 -5.804688 1.296875 -6.453125 C 1.734375 -7.097656 2.359375 -7.421875 3.171875 -7.421875 Z M 3.171875 -7.421875 \"/>\n",
       "</symbol>\n",
       "<symbol overflow=\"visible\" id=\"glyph0-2\">\n",
       "<path style=\"stroke:none;\" d=\"M 1.171875 -1.234375 L 2.203125 -1.234375 L 2.203125 -0.40625 L 1.40625 1.15625 L 0.765625 1.15625 L 1.171875 -0.40625 Z M 1.171875 -1.234375 \"/>\n",
       "</symbol>\n",
       "<symbol overflow=\"visible\" id=\"glyph0-3\">\n",
       "<path style=\"stroke:none;\" d=\"M 1.234375 -0.828125 L 2.859375 -0.828125 L 2.859375 -6.390625 L 1.09375 -6.046875 L 1.09375 -6.9375 L 2.84375 -7.296875 L 3.828125 -7.296875 L 3.828125 -0.828125 L 5.4375 -0.828125 L 5.4375 0 L 1.234375 0 Z M 1.234375 -0.828125 \"/>\n",
       "</symbol>\n",
       "<symbol overflow=\"visible\" id=\"glyph0-4\">\n",
       "<path style=\"stroke:none;\" d=\"M 1.921875 -0.828125 L 5.359375 -0.828125 L 5.359375 0 L 0.734375 0 L 0.734375 -0.828125 C 1.109375 -1.210938 1.617188 -1.734375 2.265625 -2.390625 C 2.910156 -3.046875 3.316406 -3.46875 3.484375 -3.65625 C 3.796875 -4.007812 4.015625 -4.304688 4.140625 -4.546875 C 4.265625 -4.796875 4.328125 -5.039062 4.328125 -5.28125 C 4.328125 -5.664062 4.191406 -5.976562 3.921875 -6.21875 C 3.648438 -6.46875 3.296875 -6.59375 2.859375 -6.59375 C 2.546875 -6.59375 2.21875 -6.535156 1.875 -6.421875 C 1.539062 -6.316406 1.175781 -6.15625 0.78125 -5.9375 L 0.78125 -6.9375 C 1.175781 -7.09375 1.546875 -7.210938 1.890625 -7.296875 C 2.234375 -7.378906 2.550781 -7.421875 2.84375 -7.421875 C 3.59375 -7.421875 4.191406 -7.234375 4.640625 -6.859375 C 5.097656 -6.484375 5.328125 -5.976562 5.328125 -5.34375 C 5.328125 -5.039062 5.269531 -4.753906 5.15625 -4.484375 C 5.039062 -4.222656 4.835938 -3.910156 4.546875 -3.546875 C 4.460938 -3.453125 4.203125 -3.175781 3.765625 -2.71875 C 3.328125 -2.269531 2.710938 -1.640625 1.921875 -0.828125 Z M 1.921875 -0.828125 \"/>\n",
       "</symbol>\n",
       "<symbol overflow=\"visible\" id=\"glyph0-5\">\n",
       "<path style=\"stroke:none;\" d=\"M 4.0625 -3.9375 C 4.53125 -3.832031 4.894531 -3.617188 5.15625 -3.296875 C 5.425781 -2.984375 5.5625 -2.59375 5.5625 -2.125 C 5.5625 -1.40625 5.3125 -0.847656 4.8125 -0.453125 C 4.320312 -0.0546875 3.617188 0.140625 2.703125 0.140625 C 2.398438 0.140625 2.085938 0.109375 1.765625 0.046875 C 1.441406 -0.015625 1.109375 -0.101562 0.765625 -0.21875 L 0.765625 -1.171875 C 1.035156 -1.015625 1.332031 -0.894531 1.65625 -0.8125 C 1.988281 -0.726562 2.332031 -0.6875 2.6875 -0.6875 C 3.300781 -0.6875 3.769531 -0.804688 4.09375 -1.046875 C 4.414062 -1.296875 4.578125 -1.65625 4.578125 -2.125 C 4.578125 -2.550781 4.425781 -2.882812 4.125 -3.125 C 3.820312 -3.363281 3.40625 -3.484375 2.875 -3.484375 L 2.015625 -3.484375 L 2.015625 -4.296875 L 2.90625 -4.296875 C 3.394531 -4.296875 3.765625 -4.394531 4.015625 -4.59375 C 4.273438 -4.789062 4.40625 -5.070312 4.40625 -5.4375 C 4.40625 -5.800781 4.269531 -6.082031 4 -6.28125 C 3.738281 -6.488281 3.363281 -6.59375 2.875 -6.59375 C 2.601562 -6.59375 2.3125 -6.5625 2 -6.5 C 1.6875 -6.445312 1.347656 -6.359375 0.984375 -6.234375 L 0.984375 -7.109375 C 1.359375 -7.210938 1.707031 -7.289062 2.03125 -7.34375 C 2.363281 -7.394531 2.671875 -7.421875 2.953125 -7.421875 C 3.703125 -7.421875 4.296875 -7.25 4.734375 -6.90625 C 5.171875 -6.570312 5.390625 -6.113281 5.390625 -5.53125 C 5.390625 -5.125 5.273438 -4.78125 5.046875 -4.5 C 4.816406 -4.226562 4.488281 -4.039062 4.0625 -3.9375 Z M 4.0625 -3.9375 \"/>\n",
       "</symbol>\n",
       "</g>\n",
       "</defs>\n",
       "<g id=\"surface170\">\n",
       "<rect x=\"0\" y=\"0\" width=\"700\" height=\"250\" style=\"fill:rgb(100%,100%,100%);fill-opacity:1;stroke:none;\"/>\n",
       "<path style=\"fill:none;stroke-width:1;stroke-linecap:butt;stroke-linejoin:miter;stroke:rgb(86.742764%,86.43766%,86.260246%);stroke-opacity:1;stroke-miterlimit:10;\" d=\"M 50 50 L 220.734375 50 \"/>\n",
       "<path style=\" stroke:none;fill-rule:nonzero;fill:rgb(86.742764%,86.43766%,86.260246%);fill-opacity:1;\" d=\"M 235 50 L 220.734375 54.636719 L 220.734375 45.363281 L 235 50 \"/>\n",
       "<path style=\"fill:none;stroke-width:1;stroke-linecap:butt;stroke-linejoin:miter;stroke:rgb(86.742764%,86.43766%,86.260246%);stroke-opacity:1;stroke-miterlimit:10;\" d=\"M 50 50 L 221.609375 92.902344 \"/>\n",
       "<path style=\" stroke:none;fill-rule:nonzero;fill:rgb(86.742764%,86.43766%,86.260246%);fill-opacity:1;\" d=\"M 235.449219 96.363281 L 220.484375 97.398438 L 222.730469 88.40625 L 235.449219 96.363281 \"/>\n",
       "<path style=\"fill:none;stroke-width:1;stroke-linecap:butt;stroke-linejoin:miter;stroke:rgb(83.936494%,32.185622%,26.492398%);stroke-opacity:1;stroke-miterlimit:10;\" d=\"M 50 100 L 220.734375 100 \"/>\n",
       "<path style=\" stroke:none;fill-rule:nonzero;fill:rgb(83.936494%,32.185622%,26.492398%);fill-opacity:1;\" d=\"M 235 100 L 220.734375 104.636719 L 220.734375 95.363281 L 235 100 \"/>\n",
       "<path style=\"fill:none;stroke-width:1;stroke-linecap:butt;stroke-linejoin:miter;stroke:rgb(86.742764%,86.43766%,86.260246%);stroke-opacity:1;stroke-miterlimit:10;\" d=\"M 50 50 L 223.824219 136.910156 \"/>\n",
       "<path style=\" stroke:none;fill-rule:nonzero;fill:rgb(86.742764%,86.43766%,86.260246%);fill-opacity:1;\" d=\"M 236.582031 143.292969 L 221.75 141.058594 L 225.898438 132.765625 L 236.582031 143.292969 \"/>\n",
       "<path style=\"fill:none;stroke-width:1;stroke-linecap:butt;stroke-linejoin:miter;stroke:rgb(86.742764%,86.43766%,86.260246%);stroke-opacity:1;stroke-miterlimit:10;\" d=\"M 50 150 L 220.734375 150 \"/>\n",
       "<path style=\" stroke:none;fill-rule:nonzero;fill:rgb(86.742764%,86.43766%,86.260246%);fill-opacity:1;\" d=\"M 235 150 L 220.734375 154.636719 L 220.734375 145.363281 L 235 150 \"/>\n",
       "<path style=\"fill:none;stroke-width:1;stroke-linecap:butt;stroke-linejoin:miter;stroke:rgb(86.742764%,86.43766%,86.260246%);stroke-opacity:1;stroke-miterlimit:10;\" d=\"M 50 50 L 226.585938 182.441406 \"/>\n",
       "<path style=\" stroke:none;fill-rule:nonzero;fill:rgb(86.742764%,86.43766%,86.260246%);fill-opacity:1;\" d=\"M 238 191 L 223.804688 186.148438 L 229.367188 178.730469 L 238 191 \"/>\n",
       "<path style=\"fill:none;stroke-width:1;stroke-linecap:butt;stroke-linejoin:miter;stroke:rgb(86.742764%,86.43766%,86.260246%);stroke-opacity:1;stroke-miterlimit:10;\" d=\"M 50 200 L 220.734375 200 \"/>\n",
       "<path style=\" stroke:none;fill-rule:nonzero;fill:rgb(86.742764%,86.43766%,86.260246%);fill-opacity:1;\" d=\"M 235 200 L 220.734375 204.636719 L 220.734375 195.363281 L 235 200 \"/>\n",
       "<path style=\"fill:none;stroke-width:1;stroke-linecap:butt;stroke-linejoin:miter;stroke:rgb(86.742764%,86.43766%,86.260246%);stroke-opacity:1;stroke-miterlimit:10;\" d=\"M 50 100 L 221.609375 57.097656 \"/>\n",
       "<path style=\" stroke:none;fill-rule:nonzero;fill:rgb(86.742764%,86.43766%,86.260246%);fill-opacity:1;\" d=\"M 235.449219 53.636719 L 222.730469 61.59375 L 220.484375 52.601562 L 235.449219 53.636719 \"/>\n",
       "<path style=\"fill:none;stroke-width:1;stroke-linecap:butt;stroke-linejoin:miter;stroke:rgb(95.276072%,78.29648%,69.864577%);stroke-opacity:1;stroke-miterlimit:10;\" d=\"M 50 100 L 221.609375 142.902344 \"/>\n",
       "<path style=\" stroke:none;fill-rule:nonzero;fill:rgb(95.276072%,78.29648%,69.864577%);fill-opacity:1;\" d=\"M 235.449219 146.363281 L 220.484375 147.398438 L 222.730469 138.40625 L 235.449219 146.363281 \"/>\n",
       "<path style=\"fill:none;stroke-width:1;stroke-linecap:butt;stroke-linejoin:miter;stroke:rgb(96.270072%,62.821775%,50.76361%);stroke-opacity:1;stroke-miterlimit:10;\" d=\"M 250 50 L 420.734375 50 \"/>\n",
       "<path style=\" stroke:none;fill-rule:nonzero;fill:rgb(96.270072%,62.821775%,50.76361%);fill-opacity:1;\" d=\"M 435 50 L 420.734375 54.636719 L 420.734375 45.363281 L 435 50 \"/>\n",
       "<path style=\"fill:none;stroke-width:1;stroke-linecap:butt;stroke-linejoin:miter;stroke:rgb(86.742764%,86.43766%,86.260246%);stroke-opacity:1;stroke-miterlimit:10;\" d=\"M 250 50 L 421.609375 92.902344 \"/>\n",
       "<path style=\" stroke:none;fill-rule:nonzero;fill:rgb(86.742764%,86.43766%,86.260246%);fill-opacity:1;\" d=\"M 435.449219 96.363281 L 420.484375 97.398438 L 422.730469 88.40625 L 435.449219 96.363281 \"/>\n",
       "<path style=\"fill:none;stroke-width:1;stroke-linecap:butt;stroke-linejoin:miter;stroke:rgb(86.742764%,86.43766%,86.260246%);stroke-opacity:1;stroke-miterlimit:10;\" d=\"M 250 100 L 420.734375 100 \"/>\n",
       "<path style=\" stroke:none;fill-rule:nonzero;fill:rgb(86.742764%,86.43766%,86.260246%);fill-opacity:1;\" d=\"M 435 100 L 420.734375 104.636719 L 420.734375 95.363281 L 435 100 \"/>\n",
       "<path style=\"fill:none;stroke-width:1;stroke-linecap:butt;stroke-linejoin:miter;stroke:rgb(86.742764%,86.43766%,86.260246%);stroke-opacity:1;stroke-miterlimit:10;\" d=\"M 250 50 L 423.824219 136.910156 \"/>\n",
       "<path style=\" stroke:none;fill-rule:nonzero;fill:rgb(86.742764%,86.43766%,86.260246%);fill-opacity:1;\" d=\"M 436.582031 143.292969 L 421.75 141.058594 L 425.898438 132.765625 L 436.582031 143.292969 \"/>\n",
       "<path style=\"fill:none;stroke-width:1;stroke-linecap:butt;stroke-linejoin:miter;stroke:rgb(95.276072%,78.29648%,69.864577%);stroke-opacity:1;stroke-miterlimit:10;\" d=\"M 250 150 L 420.734375 150 \"/>\n",
       "<path style=\" stroke:none;fill-rule:nonzero;fill:rgb(95.276072%,78.29648%,69.864577%);fill-opacity:1;\" d=\"M 435 150 L 420.734375 154.636719 L 420.734375 145.363281 L 435 150 \"/>\n",
       "<path style=\"fill:none;stroke-width:1;stroke-linecap:butt;stroke-linejoin:miter;stroke:rgb(86.742764%,86.43766%,86.260246%);stroke-opacity:1;stroke-miterlimit:10;\" d=\"M 250 50 L 426.585938 182.441406 \"/>\n",
       "<path style=\" stroke:none;fill-rule:nonzero;fill:rgb(86.742764%,86.43766%,86.260246%);fill-opacity:1;\" d=\"M 438 191 L 423.804688 186.148438 L 429.367188 178.730469 L 438 191 \"/>\n",
       "<path style=\"fill:none;stroke-width:1;stroke-linecap:butt;stroke-linejoin:miter;stroke:rgb(86.742764%,86.43766%,86.260246%);stroke-opacity:1;stroke-miterlimit:10;\" d=\"M 250 200 L 420.734375 200 \"/>\n",
       "<path style=\" stroke:none;fill-rule:nonzero;fill:rgb(86.742764%,86.43766%,86.260246%);fill-opacity:1;\" d=\"M 435 200 L 420.734375 204.636719 L 420.734375 195.363281 L 435 200 \"/>\n",
       "<path style=\"fill:none;stroke-width:1;stroke-linecap:butt;stroke-linejoin:miter;stroke:rgb(83.936494%,32.185622%,26.492398%);stroke-opacity:1;stroke-miterlimit:10;\" d=\"M 250 100 L 421.609375 57.097656 \"/>\n",
       "<path style=\" stroke:none;fill-rule:nonzero;fill:rgb(83.936494%,32.185622%,26.492398%);fill-opacity:1;\" d=\"M 435.449219 53.636719 L 422.730469 61.59375 L 420.484375 52.601562 L 435.449219 53.636719 \"/>\n",
       "<path style=\"fill:none;stroke-width:1;stroke-linecap:butt;stroke-linejoin:miter;stroke:rgb(86.742764%,86.43766%,86.260246%);stroke-opacity:1;stroke-miterlimit:10;\" d=\"M 250 100 L 421.609375 142.902344 \"/>\n",
       "<path style=\" stroke:none;fill-rule:nonzero;fill:rgb(86.742764%,86.43766%,86.260246%);fill-opacity:1;\" d=\"M 435.449219 146.363281 L 420.484375 147.398438 L 422.730469 138.40625 L 435.449219 146.363281 \"/>\n",
       "<path style=\"fill:none;stroke-width:1;stroke-linecap:butt;stroke-linejoin:miter;stroke:rgb(86.742764%,86.43766%,86.260246%);stroke-opacity:1;stroke-miterlimit:10;\" d=\"M 450 50 L 620.734375 50 \"/>\n",
       "<path style=\" stroke:none;fill-rule:nonzero;fill:rgb(86.742764%,86.43766%,86.260246%);fill-opacity:1;\" d=\"M 635 50 L 620.734375 54.636719 L 620.734375 45.363281 L 635 50 \"/>\n",
       "<path style=\"fill:none;stroke-width:1;stroke-linecap:butt;stroke-linejoin:miter;stroke:rgb(83.936494%,32.185622%,26.492398%);stroke-opacity:1;stroke-miterlimit:10;\" d=\"M 450 50 L 621.609375 92.902344 \"/>\n",
       "<path style=\" stroke:none;fill-rule:nonzero;fill:rgb(83.936494%,32.185622%,26.492398%);fill-opacity:1;\" d=\"M 635.449219 96.363281 L 620.484375 97.398438 L 622.730469 88.40625 L 635.449219 96.363281 \"/>\n",
       "<path style=\"fill:none;stroke-width:1;stroke-linecap:butt;stroke-linejoin:miter;stroke:rgb(86.742764%,86.43766%,86.260246%);stroke-opacity:1;stroke-miterlimit:10;\" d=\"M 450 100 L 620.734375 100 \"/>\n",
       "<path style=\" stroke:none;fill-rule:nonzero;fill:rgb(86.742764%,86.43766%,86.260246%);fill-opacity:1;\" d=\"M 635 100 L 620.734375 104.636719 L 620.734375 95.363281 L 635 100 \"/>\n",
       "<path style=\"fill:none;stroke-width:1;stroke-linecap:butt;stroke-linejoin:miter;stroke:rgb(96.270072%,62.821775%,50.76361%);stroke-opacity:1;stroke-miterlimit:10;\" d=\"M 450 50 L 623.824219 136.910156 \"/>\n",
       "<path style=\" stroke:none;fill-rule:nonzero;fill:rgb(96.270072%,62.821775%,50.76361%);fill-opacity:1;\" d=\"M 636.582031 143.292969 L 621.75 141.058594 L 625.898438 132.765625 L 636.582031 143.292969 \"/>\n",
       "<path style=\"fill:none;stroke-width:1;stroke-linecap:butt;stroke-linejoin:miter;stroke:rgb(95.276072%,78.29648%,69.864577%);stroke-opacity:1;stroke-miterlimit:10;\" d=\"M 450 150 L 620.734375 150 \"/>\n",
       "<path style=\" stroke:none;fill-rule:nonzero;fill:rgb(95.276072%,78.29648%,69.864577%);fill-opacity:1;\" d=\"M 635 150 L 620.734375 154.636719 L 620.734375 145.363281 L 635 150 \"/>\n",
       "<path style=\"fill:none;stroke-width:1;stroke-linecap:butt;stroke-linejoin:miter;stroke:rgb(86.742764%,86.43766%,86.260246%);stroke-opacity:1;stroke-miterlimit:10;\" d=\"M 450 50 L 626.585938 182.441406 \"/>\n",
       "<path style=\" stroke:none;fill-rule:nonzero;fill:rgb(86.742764%,86.43766%,86.260246%);fill-opacity:1;\" d=\"M 638 191 L 623.804688 186.148438 L 629.367188 178.730469 L 638 191 \"/>\n",
       "<path style=\"fill:none;stroke-width:1;stroke-linecap:butt;stroke-linejoin:miter;stroke:rgb(86.742764%,86.43766%,86.260246%);stroke-opacity:1;stroke-miterlimit:10;\" d=\"M 450 200 L 620.734375 200 \"/>\n",
       "<path style=\" stroke:none;fill-rule:nonzero;fill:rgb(86.742764%,86.43766%,86.260246%);fill-opacity:1;\" d=\"M 635 200 L 620.734375 204.636719 L 620.734375 195.363281 L 635 200 \"/>\n",
       "<path style=\"fill:none;stroke-width:1;stroke-linecap:butt;stroke-linejoin:miter;stroke:rgb(86.742764%,86.43766%,86.260246%);stroke-opacity:1;stroke-miterlimit:10;\" d=\"M 450 100 L 621.609375 57.097656 \"/>\n",
       "<path style=\" stroke:none;fill-rule:nonzero;fill:rgb(86.742764%,86.43766%,86.260246%);fill-opacity:1;\" d=\"M 635.449219 53.636719 L 622.730469 61.59375 L 620.484375 52.601562 L 635.449219 53.636719 \"/>\n",
       "<path style=\"fill:none;stroke-width:1;stroke-linecap:butt;stroke-linejoin:miter;stroke:rgb(86.742764%,86.43766%,86.260246%);stroke-opacity:1;stroke-miterlimit:10;\" d=\"M 450 100 L 621.609375 142.902344 \"/>\n",
       "<path style=\" stroke:none;fill-rule:nonzero;fill:rgb(86.742764%,86.43766%,86.260246%);fill-opacity:1;\" d=\"M 635.449219 146.363281 L 620.484375 147.398438 L 622.730469 138.40625 L 635.449219 146.363281 \"/>\n",
       "<path style=\"fill-rule:nonzero;fill:rgb(86.742764%,86.43766%,86.260246%);fill-opacity:1;stroke-width:1;stroke-linecap:butt;stroke-linejoin:miter;stroke:rgb(0%,0%,0%);stroke-opacity:1;stroke-miterlimit:10;\" d=\"M 65 50 C 65 58.285156 58.285156 65 50 65 C 41.714844 65 35 58.285156 35 50 C 35 41.714844 41.714844 35 50 35 C 58.285156 35 65 41.714844 65 50 \"/>\n",
       "<path style=\"fill-rule:nonzero;fill:rgb(89.213754%,42.538874%,33.328927%);fill-opacity:1;stroke-width:1;stroke-linecap:butt;stroke-linejoin:miter;stroke:rgb(0%,0%,0%);stroke-opacity:1;stroke-miterlimit:10;\" d=\"M 65 100 C 65 108.285156 58.285156 115 50 115 C 41.714844 115 35 108.285156 35 100 C 35 91.714844 41.714844 85 50 85 C 58.285156 85 65 91.714844 65 100 \"/>\n",
       "<path style=\"fill-rule:nonzero;fill:rgb(86.742764%,86.43766%,86.260246%);fill-opacity:1;stroke-width:1;stroke-linecap:butt;stroke-linejoin:miter;stroke:rgb(0%,0%,0%);stroke-opacity:1;stroke-miterlimit:10;\" d=\"M 65 150 C 65 158.285156 58.285156 165 50 165 C 41.714844 165 35 158.285156 35 150 C 35 141.714844 41.714844 135 50 135 C 58.285156 135 65 141.714844 65 150 \"/>\n",
       "<path style=\"fill-rule:nonzero;fill:rgb(86.742764%,86.43766%,86.260246%);fill-opacity:1;stroke-width:1;stroke-linecap:butt;stroke-linejoin:miter;stroke:rgb(0%,0%,0%);stroke-opacity:1;stroke-miterlimit:10;\" d=\"M 65 200 C 65 208.285156 58.285156 215 50 215 C 41.714844 215 35 208.285156 35 200 C 35 191.714844 41.714844 185 50 185 C 58.285156 185 65 191.714844 65 200 \"/>\n",
       "<path style=\"fill-rule:nonzero;fill:rgb(96.05812%,76.250102%,66.796355%);fill-opacity:1;stroke-width:1;stroke-linecap:butt;stroke-linejoin:miter;stroke:rgb(0%,0%,0%);stroke-opacity:1;stroke-miterlimit:10;\" d=\"M 265 50 C 265 58.285156 258.285156 65 250 65 C 241.714844 65 235 58.285156 235 50 C 235 41.714844 241.714844 35 250 35 C 258.285156 35 265 41.714844 265 50 \"/>\n",
       "<path style=\"fill-rule:nonzero;fill:rgb(94.172793%,54.641348%,42.970707%);fill-opacity:1;stroke-width:1;stroke-linecap:butt;stroke-linejoin:miter;stroke:rgb(0%,0%,0%);stroke-opacity:1;stroke-miterlimit:10;\" d=\"M 265 100 C 265 108.285156 258.285156 115 250 115 C 241.714844 115 235 108.285156 235 100 C 235 91.714844 241.714844 85 250 85 C 258.285156 85 265 91.714844 265 100 \"/>\n",
       "<path style=\"fill-rule:nonzero;fill:rgb(92.556342%,82.55173%,77.113631%);fill-opacity:1;stroke-width:1;stroke-linecap:butt;stroke-linejoin:miter;stroke:rgb(0%,0%,0%);stroke-opacity:1;stroke-miterlimit:10;\" d=\"M 265 150 C 265 158.285156 258.285156 165 250 165 C 241.714844 165 235 158.285156 235 150 C 235 141.714844 241.714844 135 250 135 C 258.285156 135 265 141.714844 265 150 \"/>\n",
       "<path style=\"fill-rule:nonzero;fill:rgb(86.742764%,86.43766%,86.260246%);fill-opacity:1;stroke-width:1;stroke-linecap:butt;stroke-linejoin:miter;stroke:rgb(0%,0%,0%);stroke-opacity:1;stroke-miterlimit:10;\" d=\"M 265 200 C 265 208.285156 258.285156 215 250 215 C 241.714844 215 235 208.285156 235 200 C 235 191.714844 241.714844 185 250 185 C 258.285156 185 265 191.714844 265 200 \"/>\n",
       "<path style=\"fill-rule:nonzero;fill:rgb(83.936494%,32.185622%,26.492398%);fill-opacity:1;stroke-width:1;stroke-linecap:butt;stroke-linejoin:miter;stroke:rgb(0%,0%,0%);stroke-opacity:1;stroke-miterlimit:10;\" d=\"M 465 50 C 465 58.285156 458.285156 65 450 65 C 441.714844 65 435 58.285156 435 50 C 435 41.714844 441.714844 35 450 35 C 458.285156 35 465 41.714844 465 50 \"/>\n",
       "<path style=\"fill-rule:nonzero;fill:rgb(86.742764%,86.43766%,86.260246%);fill-opacity:1;stroke-width:1;stroke-linecap:butt;stroke-linejoin:miter;stroke:rgb(0%,0%,0%);stroke-opacity:1;stroke-miterlimit:10;\" d=\"M 465 100 C 465 108.285156 458.285156 115 450 115 C 441.714844 115 435 108.285156 435 100 C 435 91.714844 441.714844 85 450 85 C 458.285156 85 465 91.714844 465 100 \"/>\n",
       "<path style=\"fill-rule:nonzero;fill:rgb(92.556342%,82.55173%,77.113631%);fill-opacity:1;stroke-width:1;stroke-linecap:butt;stroke-linejoin:miter;stroke:rgb(0%,0%,0%);stroke-opacity:1;stroke-miterlimit:10;\" d=\"M 465 150 C 465 158.285156 458.285156 165 450 165 C 441.714844 165 435 158.285156 435 150 C 435 141.714844 441.714844 135 450 135 C 458.285156 135 465 141.714844 465 150 \"/>\n",
       "<path style=\"fill-rule:nonzero;fill:rgb(86.742764%,86.43766%,86.260246%);fill-opacity:1;stroke-width:1;stroke-linecap:butt;stroke-linejoin:miter;stroke:rgb(0%,0%,0%);stroke-opacity:1;stroke-miterlimit:10;\" d=\"M 465 200 C 465 208.285156 458.285156 215 450 215 C 441.714844 215 435 208.285156 435 200 C 435 191.714844 441.714844 185 450 185 C 458.285156 185 465 191.714844 465 200 \"/>\n",
       "<path style=\"fill-rule:nonzero;fill:rgb(83.936494%,32.185622%,26.492398%);fill-opacity:1;stroke-width:1;stroke-linecap:butt;stroke-linejoin:miter;stroke:rgb(0%,0%,0%);stroke-opacity:1;stroke-miterlimit:10;\" d=\"M 665 50 C 665 58.285156 658.285156 65 650 65 C 641.714844 65 635 58.285156 635 50 C 635 41.714844 641.714844 35 650 35 C 658.285156 35 665 41.714844 665 50 \"/>\n",
       "<path style=\"fill-rule:nonzero;fill:rgb(94.172793%,54.641348%,42.970707%);fill-opacity:1;stroke-width:1;stroke-linecap:butt;stroke-linejoin:miter;stroke:rgb(0%,0%,0%);stroke-opacity:1;stroke-miterlimit:10;\" d=\"M 665 100 C 665 108.285156 658.285156 115 650 115 C 641.714844 115 635 108.285156 635 100 C 635 91.714844 641.714844 85 650 85 C 658.285156 85 665 91.714844 665 100 \"/>\n",
       "<path style=\"fill-rule:nonzero;fill:rgb(96.889416%,67.947956%,56.281229%);fill-opacity:1;stroke-width:1;stroke-linecap:butt;stroke-linejoin:miter;stroke:rgb(0%,0%,0%);stroke-opacity:1;stroke-miterlimit:10;\" d=\"M 665 150 C 665 158.285156 658.285156 165 650 165 C 641.714844 165 635 158.285156 635 150 C 635 141.714844 641.714844 135 650 135 C 658.285156 135 665 141.714844 665 150 \"/>\n",
       "<path style=\"fill-rule:nonzero;fill:rgb(86.742764%,86.43766%,86.260246%);fill-opacity:1;stroke-width:1;stroke-linecap:butt;stroke-linejoin:miter;stroke:rgb(0%,0%,0%);stroke-opacity:1;stroke-miterlimit:10;\" d=\"M 665 200 C 665 208.285156 658.285156 215 650 215 C 641.714844 215 635 208.285156 635 200 C 635 191.714844 641.714844 185 650 185 C 658.285156 185 665 191.714844 665 200 \"/>\n",
       "<g style=\"fill:rgb(0%,0%,0%);fill-opacity:1;\">\n",
       "  <use xlink:href=\"#glyph0-1\" x=\"42.050781\" y=\"54.890625\"/>\n",
       "  <use xlink:href=\"#glyph0-2\" x=\"48.413086\" y=\"54.890625\"/>\n",
       "  <use xlink:href=\"#glyph0-1\" x=\"51.591797\" y=\"54.890625\"/>\n",
       "</g>\n",
       "<g style=\"fill:rgb(0%,0%,0%);fill-opacity:1;\">\n",
       "  <use xlink:href=\"#glyph0-1\" x=\"42.179688\" y=\"104.890625\"/>\n",
       "  <use xlink:href=\"#glyph0-2\" x=\"48.541992\" y=\"104.890625\"/>\n",
       "  <use xlink:href=\"#glyph0-3\" x=\"51.720703\" y=\"104.890625\"/>\n",
       "</g>\n",
       "<g style=\"fill:rgb(0%,0%,0%);fill-opacity:1;\">\n",
       "  <use xlink:href=\"#glyph0-1\" x=\"42.21875\" y=\"154.890625\"/>\n",
       "  <use xlink:href=\"#glyph0-2\" x=\"48.581055\" y=\"154.890625\"/>\n",
       "  <use xlink:href=\"#glyph0-4\" x=\"51.759766\" y=\"154.890625\"/>\n",
       "</g>\n",
       "<g style=\"fill:rgb(0%,0%,0%);fill-opacity:1;\">\n",
       "  <use xlink:href=\"#glyph0-1\" x=\"42.117188\" y=\"204.890625\"/>\n",
       "  <use xlink:href=\"#glyph0-2\" x=\"48.479492\" y=\"204.890625\"/>\n",
       "  <use xlink:href=\"#glyph0-5\" x=\"51.658203\" y=\"204.890625\"/>\n",
       "</g>\n",
       "<g style=\"fill:rgb(0%,0%,0%);fill-opacity:1;\">\n",
       "  <use xlink:href=\"#glyph0-3\" x=\"241.832031\" y=\"54.890625\"/>\n",
       "  <use xlink:href=\"#glyph0-2\" x=\"248.194336\" y=\"54.890625\"/>\n",
       "  <use xlink:href=\"#glyph0-1\" x=\"251.373047\" y=\"54.890625\"/>\n",
       "</g>\n",
       "<g style=\"fill:rgb(0%,0%,0%);fill-opacity:1;\">\n",
       "  <use xlink:href=\"#glyph0-3\" x=\"241.960938\" y=\"104.824219\"/>\n",
       "  <use xlink:href=\"#glyph0-2\" x=\"248.323242\" y=\"104.824219\"/>\n",
       "  <use xlink:href=\"#glyph0-3\" x=\"251.501953\" y=\"104.824219\"/>\n",
       "</g>\n",
       "<g style=\"fill:rgb(0%,0%,0%);fill-opacity:1;\">\n",
       "  <use xlink:href=\"#glyph0-3\" x=\"242\" y=\"154.890625\"/>\n",
       "  <use xlink:href=\"#glyph0-2\" x=\"248.362305\" y=\"154.890625\"/>\n",
       "  <use xlink:href=\"#glyph0-4\" x=\"251.541016\" y=\"154.890625\"/>\n",
       "</g>\n",
       "<g style=\"fill:rgb(0%,0%,0%);fill-opacity:1;\">\n",
       "  <use xlink:href=\"#glyph0-3\" x=\"241.898438\" y=\"204.890625\"/>\n",
       "  <use xlink:href=\"#glyph0-2\" x=\"248.260742\" y=\"204.890625\"/>\n",
       "  <use xlink:href=\"#glyph0-5\" x=\"251.439453\" y=\"204.890625\"/>\n",
       "</g>\n",
       "<g style=\"fill:rgb(0%,0%,0%);fill-opacity:1;\">\n",
       "  <use xlink:href=\"#glyph0-4\" x=\"442.015625\" y=\"54.890625\"/>\n",
       "  <use xlink:href=\"#glyph0-2\" x=\"448.37793\" y=\"54.890625\"/>\n",
       "  <use xlink:href=\"#glyph0-1\" x=\"451.556641\" y=\"54.890625\"/>\n",
       "</g>\n",
       "<g style=\"fill:rgb(0%,0%,0%);fill-opacity:1;\">\n",
       "  <use xlink:href=\"#glyph0-4\" x=\"442.144531\" y=\"104.890625\"/>\n",
       "  <use xlink:href=\"#glyph0-2\" x=\"448.506836\" y=\"104.890625\"/>\n",
       "  <use xlink:href=\"#glyph0-3\" x=\"451.685547\" y=\"104.890625\"/>\n",
       "</g>\n",
       "<g style=\"fill:rgb(0%,0%,0%);fill-opacity:1;\">\n",
       "  <use xlink:href=\"#glyph0-4\" x=\"442.183594\" y=\"154.890625\"/>\n",
       "  <use xlink:href=\"#glyph0-2\" x=\"448.545898\" y=\"154.890625\"/>\n",
       "  <use xlink:href=\"#glyph0-4\" x=\"451.724609\" y=\"154.890625\"/>\n",
       "</g>\n",
       "<g style=\"fill:rgb(0%,0%,0%);fill-opacity:1;\">\n",
       "  <use xlink:href=\"#glyph0-4\" x=\"442.082031\" y=\"204.890625\"/>\n",
       "  <use xlink:href=\"#glyph0-2\" x=\"448.444336\" y=\"204.890625\"/>\n",
       "  <use xlink:href=\"#glyph0-5\" x=\"451.623047\" y=\"204.890625\"/>\n",
       "</g>\n",
       "<g style=\"fill:rgb(0%,0%,0%);fill-opacity:1;\">\n",
       "  <use xlink:href=\"#glyph0-5\" x=\"642\" y=\"54.890625\"/>\n",
       "  <use xlink:href=\"#glyph0-2\" x=\"648.362305\" y=\"54.890625\"/>\n",
       "  <use xlink:href=\"#glyph0-1\" x=\"651.541016\" y=\"54.890625\"/>\n",
       "</g>\n",
       "<g style=\"fill:rgb(0%,0%,0%);fill-opacity:1;\">\n",
       "  <use xlink:href=\"#glyph0-5\" x=\"642.128906\" y=\"104.890625\"/>\n",
       "  <use xlink:href=\"#glyph0-2\" x=\"648.491211\" y=\"104.890625\"/>\n",
       "  <use xlink:href=\"#glyph0-3\" x=\"651.669922\" y=\"104.890625\"/>\n",
       "</g>\n",
       "<g style=\"fill:rgb(0%,0%,0%);fill-opacity:1;\">\n",
       "  <use xlink:href=\"#glyph0-5\" x=\"642.167969\" y=\"154.890625\"/>\n",
       "  <use xlink:href=\"#glyph0-2\" x=\"648.530273\" y=\"154.890625\"/>\n",
       "  <use xlink:href=\"#glyph0-4\" x=\"651.708984\" y=\"154.890625\"/>\n",
       "</g>\n",
       "<g style=\"fill:rgb(0%,0%,0%);fill-opacity:1;\">\n",
       "  <use xlink:href=\"#glyph0-5\" x=\"642.066406\" y=\"204.890625\"/>\n",
       "  <use xlink:href=\"#glyph0-2\" x=\"648.428711\" y=\"204.890625\"/>\n",
       "  <use xlink:href=\"#glyph0-5\" x=\"651.607422\" y=\"204.890625\"/>\n",
       "</g>\n",
       "</g>\n",
       "</svg>\n"
      ],
      "text/plain": [
       "<igraph.drawing.Plot at 0x7f290fc8fbe0>"
      ]
     },
     "execution_count": 58,
     "metadata": {
      "image/svg+xml": {
       "isolated": true
      }
     },
     "output_type": "execute_result"
    }
   ],
   "source": [
    "visual_style = util.get_visual_style(tugc, vertex_weights=node_counts, edge_weights=arc_counts)\n",
    "ig.plot(tugc, **visual_style, bbox=(700, 250), margin=50)"
   ]
  },
  {
   "cell_type": "markdown",
   "metadata": {},
   "source": [
    "* A grey shade corresponds to lower counts\n",
    "* A red shade corresponds to higher counts\n",
    "\n",
    "**These counts are our _available information_**"
   ]
  },
  {
   "cell_type": "markdown",
   "metadata": {
    "slideshow": {
     "slide_type": "slide"
    }
   },
   "source": [
    "# Problem Formulation\n",
    "\n",
    "By far the most important step of any solution process"
   ]
  },
  {
   "cell_type": "markdown",
   "metadata": {
    "slideshow": {
     "slide_type": "subslide"
    }
   },
   "source": [
    "## Problem Formulation\n",
    "\n",
    "**Every good approach starts with a problem formulation**\n",
    "\n",
    "* If you don't have a formulation\n",
    "* Odds are that you will come up with a patched-up solution\n",
    "\n",
    "> **Let's try to come up with a formulation for our problem!**"
   ]
  },
  {
   "cell_type": "markdown",
   "metadata": {
    "slideshow": {
     "slide_type": "fragment"
    }
   },
   "source": [
    "**We can introduce a variable $x_j$ _for each path_**\n",
    "\n",
    "* The value of $x_j$ represents the flow associated to the path\n",
    "* Then we can compute the estimated count per TUG node/arc\n",
    "* ...By simply summing the $x_j$ values of paths that pass through the node/arc"
   ]
  },
  {
   "cell_type": "markdown",
   "metadata": {
    "slideshow": {
     "slide_type": "subslide"
    }
   },
   "source": [
    "## Problem Formulation\n",
    "\n",
    "**Every good approach starts with a problem formulation**\n",
    "\n",
    "* If you don't have a formulation\n",
    "* Odds are that you will come up with a patched-up solution\n",
    "\n",
    "> **Let's try to come up with a formulation for our problem!**"
   ]
  },
  {
   "cell_type": "markdown",
   "metadata": {
    "slideshow": {
     "slide_type": "-"
    }
   },
   "source": [
    "**This approach is _remarkably simple_**\n",
    "\n",
    "* Computing counts is easy\n",
    "* Connectivity constraints are safisfied by construction\n",
    "\n",
    "**Basically, we handle some constraints _in the problem formulation_ itself**\n",
    "\n",
    "This is a first, powerful, and underestimated method to deal with constraints "
   ]
  },
  {
   "cell_type": "markdown",
   "metadata": {
    "slideshow": {
     "slide_type": "subslide"
    }
   },
   "source": [
    "## Path Formulation\n",
    "\n",
    "**We will call this approch the _path formulation_**\n",
    "\n",
    "Formally, our problem can be stated as:\n",
    "$$\n",
    "\\arg \\min_{x} \\left\\{\\|Vx - \\hat{v}\\|_2^2 + \\|Ex - \\hat{e}\\|_2^2 \\mid x \\geq 0 \\right\\}\n",
    "$$\n",
    "\n",
    "* For simplicity, here we use _linear indexes_ for TUG nodes and arcs\n",
    "* $V$ is a matrix such that $V_{ij} = 1$ iff path $j$ passes through node $i$\n",
    "* $E$ is a matrix such that $E_{kj} = 1$ iff path $j$ passes through arc $k$\n",
    "\n",
    "**Path variables _cannot be negative_ (it would make no sense)**\n",
    "\n",
    "* Hence the path formulation is itself a _constrained optimization problem_\n",
    "* ...Though the constraints are in this case very simple"
   ]
  },
  {
   "cell_type": "markdown",
   "metadata": {
    "slideshow": {
     "slide_type": "subslide"
    }
   },
   "source": [
    "## Problem Reduction\n",
    "\n",
    "**For an squared L2 norm in the form $\\|Ax-b\\|_2^2$ we have that:**\n",
    "\n",
    "$$\\begin{align}\n",
    "\\|Ax - b\\|_2^2 &= (Ax - b)^T (Ax - b) \\\\\n",
    "&= x^T A^TA x - x^T A^T b - b^T Ax + b^T b \\\\\n",
    "&\\propto \\frac{1}{2} x^T (A^TA) x - \\frac{1}{2} x^T A^T b - \\frac{1}{2} b^T Ax \\\\\n",
    "&= \\frac{1}{2} x^T (A^TA) x + (-A^Tb)^Tx\n",
    "\\end{align}$$\n",
    "\n",
    "* This is true since $x^T A^T b$ and $b^T Ax$ are scalar\n",
    "* ...And $y^Tx = x^Ty$ if the quantity is a scalar\n",
    "* The scaling factor $1/2$ will become convenient later\n",
    "\n",
    "**This reduction is valid for any least squares problem**"
   ]
  },
  {
   "cell_type": "markdown",
   "metadata": {
    "slideshow": {
     "slide_type": "subslide"
    }
   },
   "source": [
    "## Problem Reduction\n",
    "\n",
    "**We can use the relation to reduce our problem to a more compact form**\n",
    "\n",
    "In particular, we have that:\n",
    "$$\n",
    "\\|Vx - \\hat{v}\\|_2^2 + \\|Ex - \\hat{e}\\|_2^2 \\\\\n",
    "\\propto \\frac{1}{2} \\|Vx - \\hat{v}\\|_2^2 + \\frac{1}{2} \\|Ex - \\hat{e}\\|_2^2 \\\\\n",
    "= \\frac{1}{2}x^T (V^T V) x + (-V^T \\hat{v})^T x + \\frac{1}{2} x^T (E^T E) x + (-E^T \\hat{e})^T x \\\\\n",
    "= \\frac{1}{2} x^T P x + q^T x\n",
    "$$\n",
    "\n",
    "* Where $P = V^T V + E^T E$\n",
    "* ...And $q = -V^T \\hat{v} -E^T \\hat{e}$"
   ]
  },
  {
   "cell_type": "markdown",
   "metadata": {
    "slideshow": {
     "slide_type": "subslide"
    }
   },
   "source": [
    "## Path Formulation as Convex Quadratic Programming\n",
    "\n",
    "**Therefore, the path formulation can be reduced to:**\n",
    "\n",
    "$$\n",
    "\\arg \\min_{x} \\left\\{\\frac{1}{2} x^T P x + q^T x \\mid x \\geq 0 \\right\\}\n",
    "$$\n",
    "\n",
    "...Which is a _quadratic program_\n",
    "\n",
    "* I.e. a problem where we want to minimize a _quadratic form_\n",
    "* ...Subject to _linear constraints_\n",
    "\n",
    "**Our problem is also _convex_**\n",
    "\n",
    "* This is true since $P = V^T V + E^T E$\n",
    "* ...And it is therefore guaranteed semi-definite positive\n",
    "\n",
    "**Convex quadratic programs can be solved in polynomial time**"
   ]
  }
 ],
 "metadata": {
  "celltoolbar": "Slideshow",
  "kernelspec": {
   "display_name": "Python 3",
   "language": "python",
   "name": "python3"
  },
  "language_info": {
   "codemirror_mode": {
    "name": "ipython",
    "version": 3
   },
   "file_extension": ".py",
   "mimetype": "text/x-python",
   "name": "python",
   "nbconvert_exporter": "python",
   "pygments_lexer": "ipython3",
   "version": "3.6.9"
  },
  "rise": {
   "center": false,
   "transition": "fade"
  }
 },
 "nbformat": 4,
 "nbformat_minor": 4
}
