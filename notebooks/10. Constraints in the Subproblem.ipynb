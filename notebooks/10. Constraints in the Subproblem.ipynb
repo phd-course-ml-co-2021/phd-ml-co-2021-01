{
 "cells": [
  {
   "cell_type": "code",
   "execution_count": 1,
   "metadata": {
    "slideshow": {
     "slide_type": "skip"
    }
   },
   "outputs": [],
   "source": [
    "# ============================================================\n",
    "# Notebook setup: run this before everything\n",
    "# ============================================================\n",
    "\n",
    "%load_ext autoreload\n",
    "%autoreload 2\n",
    "\n",
    "# Control figure size\n",
    "interactive_figures = False\n",
    "if interactive_figures:\n",
    "    # Normal behavior\n",
    "    %matplotlib widget\n",
    "    figsize=(9, 3)\n",
    "else:\n",
    "    # PDF export behavior\n",
    "    figsize=(14, 5)\n",
    "\n",
    "#from matplotlib import pyplot as plt\n",
    "from util import util\n",
    "import igraph as ig\n",
    "import numpy as np\n",
    "\n",
    "# ============================================================\n",
    "# Repeat relevant operations\n",
    "# ============================================================\n",
    "\n",
    "# Build the small graph used to explain concepts\n",
    "eoh = 4\n",
    "g = util.build_website_graph(nnodes=4, rate=3, extra_arc_fraction=0.25, seed=42)\n",
    "flows, paths = util.build_random_paths(g, min_paths=3, max_paths=5,\n",
    "                                          min_units=1, max_units=10, eoh=eoh,\n",
    "                                          seed=42, max_wait=2)\n",
    "tug = util.build_time_unfolded_graph(g, eoh=eoh)\n",
    "node_counts, arc_counts = util.get_counts(tug, flows, paths)"
   ]
  },
  {
   "cell_type": "markdown",
   "metadata": {
    "slideshow": {
     "slide_type": "slide"
    }
   },
   "source": [
    "# Constraints in the Subproblem\n",
    "\n",
    "When troubles spring up like mushrooms"
   ]
  },
  {
   "cell_type": "markdown",
   "metadata": {
    "slideshow": {
     "slide_type": "subslide"
    }
   },
   "source": [
    "## User Habits\n",
    "\n",
    "**What if we know something about the habits of our users?**\n",
    "\n",
    "* E.g. we may know that they don't tend to spend a long time on a single page\n",
    "* We could use this information to _further reguralize the problem_\n",
    "\n",
    "**Specifically, we could add _a constraint in the subproblem_**\n",
    "\n",
    "I.e. by putting _a limit on consecutive visits_ to the same node\n",
    "\n",
    "* It seems simple enough, but in practice it's serious issue\n",
    "\n",
    "> **Why is that the case?**"
   ]
  },
  {
   "cell_type": "markdown",
   "metadata": {
    "slideshow": {
     "slide_type": "fragment"
    }
   },
   "source": [
    "* Such a constraint violates a basic assumption in Dijkstra's method\n",
    "* I.e. that all path information can be condensed into it's length\n",
    "\n",
    "**With the new constraint, our shortest path method no longer works**"
   ]
  },
  {
   "cell_type": "markdown",
   "metadata": {
    "slideshow": {
     "slide_type": "subslide"
    }
   },
   "source": [
    "## Walking the Line\n",
    "\n",
    "**With our shortest path approach, we were walking a fine line**\n",
    "\n",
    "* The problem could be solved in polynomial time\n",
    "* ...But even a small addition could make it NP-hard instead\n",
    "\n",
    "**With the new constraint, pricing becomes indeed NP-hard**\n",
    "\n",
    "There is nothing we can do about that\n",
    "\n",
    "* ...But perhaps we can use a better suited technique\n",
    "* Something designed specifically for NP-hard, combinatorial problems\n",
    "* ...With lots of messy constraints"
   ]
  },
  {
   "cell_type": "markdown",
   "metadata": {
    "slideshow": {
     "slide_type": "fragment"
    }
   },
   "source": [
    "**For example, we could use Constraint Programming**\n",
    "\n",
    "...In its more modern incarnation, _Lazy Clause Generation_ (a.k.a. CP-SAT)"
   ]
  },
  {
   "cell_type": "markdown",
   "metadata": {
    "slideshow": {
     "slide_type": "slide"
    }
   },
   "source": [
    "# Constraint Programming and Lazy Clause Generation\n",
    "\n",
    "Very little is lazy about that"
   ]
  },
  {
   "cell_type": "markdown",
   "metadata": {
    "slideshow": {
     "slide_type": "subslide"
    }
   },
   "source": [
    "## Constraint Satisfaction Problems\n",
    "\n",
    "**CP is techniques designed to address Constraint Satisfation Problems (CSPs):**\n",
    "\n",
    "$$\n",
    "\\langle X, D, C \\rangle\n",
    "$$\n",
    "\n",
    "Where:\n",
    "\n",
    "* $X$ is a set of decision variables\n",
    "* $D$ is the set of their domains\n",
    "* $C$ is a set of constraints\n",
    "* $f$ is a cost function\n",
    "\n",
    "**Almost any decision problem fits those definitions...**\n",
    "\n",
    "...But in practice, a given CP solver provides\n",
    "\n",
    "* A library of supported _variables types_\n",
    "* A library of suported _constraints_"
   ]
  },
  {
   "cell_type": "markdown",
   "metadata": {
    "slideshow": {
     "slide_type": "subslide"
    }
   },
   "source": [
    "## ...And Constraint Optimization Problems\n",
    "\n",
    "**CP can handle Constraint Optimization Problems (COP):**\n",
    "\n",
    "$$\n",
    "\\langle f, X, D, C \\rangle\n",
    "$$\n",
    "\n",
    "* Where $f$ is a cost function\n",
    "\n",
    "COPs are tackled as a _sequence of CSPs_ via this scheme:\n",
    "\n",
    "* $\\text{best solution $x^* = \\bot$}$\n",
    "* $\\text{while true}$\n",
    "   $\\text{find a solution for $\\langle X, D, C \\rangle$}$\n",
    "  - $\\text{If a solution $x^\\prime$}$ is found:\n",
    "    - $\\text{$x^* = x^\\prime$}$\n",
    "    - $\\text{$C = C \\cup \\{f(x) < f(x^\\prime)\\}$}$ # We as for an improving solution\n",
    "  - $\\text{otherwise, break the loop}$\n",
    "\n",
    "The solver state is _maintained between solutions_ so as not to waste effort"
   ]
  },
  {
   "cell_type": "markdown",
   "metadata": {
    "slideshow": {
     "slide_type": "subslide"
    }
   },
   "source": [
    "## Variables and Constraints\n",
    "\n",
    "**In terms of supported variables types**\n",
    "\n",
    "* All CP solver provide _integer_ variables\n",
    "* Some also provide _numeric_, _interval_, _set_, or _graph_ variables\n",
    "\n",
    "**In terms of supported constraints**\n",
    "\n",
    "* All CP solvers provide _equalities_, _inequalities_, _ over _linear expressions_\n",
    "  - $y = a^T {\\bf x}$, $y \\leq a^T {\\bf x}$\n",
    "* All CP solvers provide $\\neq$ constraints\n",
    "  - $y \\neq x$\n",
    "* Most CP solvers provide $\\max$ and $\\min$ constraints\n",
    "  - $y = \\max({\\bf x})$, $y = \\min({\\bf x})$\n",
    "* Some CP solvers provide products and modulo constraints (over scalars)\n",
    "  - $y = xy$, $y = x \\mod a$\n"
   ]
  },
  {
   "cell_type": "markdown",
   "metadata": {
    "slideshow": {
     "slide_type": "subslide"
    }
   },
   "source": [
    "## Variables and Constraints\n",
    "\n",
    "**CP solver provide also _constraints with non-mathematical nature_**\n",
    "\n",
    "* E.g. logical constraints:\n",
    "\n",
    "$$\n",
    "x \\vee y, x \\wedge y, x \\Rightarrow y \\ldots\n",
    "$$\n",
    "\n",
    "* E.g. a set of variables should take all different values:\n",
    "\n",
    "$$\n",
    "{\\scriptsize \\text{ALLDIFFERENT}}(x)\n",
    "$$\n",
    "\n",
    "* E.g. a set of variables should take/not take values from a table $T$:\n",
    "\n",
    "$$\n",
    "{\\scriptsize \\text{ALLOWED}}(x, T) \\quad \\text{and} \\quad {\\scriptsize \\text{FORBIDDEN}}(x, T)\n",
    "$$\n",
    "\n",
    "* E.g. a set of activities with start times $x$ and durations $d$ should not overlap:\n",
    "\n",
    "$$\n",
    "{\\scriptsize \\text{NOOVERLAP}}(x, d)\n",
    "$$"
   ]
  },
  {
   "cell_type": "markdown",
   "metadata": {
    "slideshow": {
     "slide_type": "subslide"
    }
   },
   "source": [
    "## Propagators\n",
    "\n",
    "**CP solvers are _search based_**\n",
    "\n",
    "They maintain information about the variable domains in a _Domain Store_:\n",
    "\n",
    "* The solver may store the domain bounds, i.e. $x_i \\in \\{lb_i, ... ub_i\\}$\n",
    "* ...Or the individual allowed values, i.e. $x_i \\in \\{v_0, v_1, \\ldots \\}$\n",
    "* Other representations are also possible\n",
    "\n",
    "**Constraints are associated to algorithms called _propagators_**\n",
    "\n",
    "* A propagator takes as input the current variable domains\n",
    "* ...And can _prune_ (some) provably infeasible values\n",
    "\n",
    "By doing so, we can dramatically reduce the size of the search space\n",
    "\n",
    "**Propagators often rely on _structural patterns_ to improve pruning**\n",
    "\n",
    "* E.g. ${\\scriptsize \\text{ALLDIFFERENT}}(x)$ can prune more than $x_i \\neq x_j, \\forall i \\neq j$\n",
    "* ...Since it can reason on multiple variables at the same time"
   ]
  },
  {
   "cell_type": "markdown",
   "metadata": {
    "slideshow": {
     "slide_type": "subslide"
    }
   },
   "source": [
    "## Propagators\n",
    "\n",
    "**Let's see an example for ${\\scriptsize \\text{ALLOWED}}([x_0, x_1], T)$, with T given by:**\n",
    "\n",
    "|  x_0  |  x_1  |\n",
    "|:-----:|:-----:|\n",
    "|   0   |   0   |\n",
    "|   0   |   1   |\n",
    "|   1   |   1   |\n",
    "\n",
    "Let's that initially $D_0 = \\{0, 1\\}$, and $D_1 = \\{0, 1\\}$\n",
    "\n",
    "* If $x_0$ looses the value $0$\n",
    "  - ...Then the ${\\scriptsize \\text{ALLOWED}}$ propagator prunes $0$ from $D_1$\n",
    "  - ...Because it no longer has a feasible _support_ in $D_0$\n",
    "* If $x_1$ looses the value $1$\n",
    "  - ...Then the ${\\scriptsize \\text{ALLOWED}}$ propagator prunes $1$ from $D_0$\n",
    "  - ...Because it no longer has a feasible _support_ in $D_1$"
   ]
  },
  {
   "cell_type": "markdown",
   "metadata": {
    "slideshow": {
     "slide_type": "subslide"
    }
   },
   "source": [
    "## Propagators and Lazy Clause Generation\n",
    "\n",
    "In Lazy Clause Generation solvers, propagators have two additional tasks:\n",
    "\n",
    "**1) Whenever they prune a domain, they also _generate boolean literals_**\n",
    "\n",
    "* These correspond to the pruning operations\n",
    "  - E.g. in our two example we would generate literals $[x_0 \\neq 0]$ and $[x_1 \\neq 1]$\n",
    "* These literals represent _variables_ associated to the state of a constraint\n",
    "  - E.g. $[x_0 \\neq 0] = 1$ if $0 \\notin D_0$ and $[x_0 \\neq 0] = 0$ otherwise\n",
    "\n",
    "**2) Whenever they prune a domain, they also generate an _explanation_**\n",
    "\n",
    "* This is a logical _clause_ representing the reasoning that led to pruning\n",
    "  - E.g. in our first example we would generate $[x_1 \\neq 0] \\Rightarrow [x_1 \\neq 0]$\n",
    "* These clauses are constraints on the literal variables\n",
    "  - They function like normal constraints (except they are specifically tracked)"
   ]
  },
  {
   "cell_type": "markdown",
   "metadata": {
    "slideshow": {
     "slide_type": "subslide"
    }
   },
   "source": [
    "## Constraint Propagation\n",
    "\n",
    "**Pruning can trigger the activation of other propagators**\n",
    "\n",
    "...In a process called _Constraint Propagation_\n",
    "\n",
    "* After some activations, the process reaches a _fix point_\n",
    "* If propagation causes a domain to become empty, we have a _conflict_\n",
    "* ...In which case we need to backtrack\n",
    "\n",
    "**As a consequence, propagators are called many times per search node**\n",
    "\n",
    "We can have millions of propagator calls in a solution process\n",
    "\n",
    "* For this reason, they often run in _constant or low-degree polynomial_ time\n",
    "* ...And propagator are heavily optimized\n",
    "  - E.g. the $\\scriptsize \\text{ALLOWED}$ constraint is so efficient\n",
    "  - ...That tables with > 100,000 entry can be handled almost instantly\n",
    "  - This is achieved by relying on incremental computation"
   ]
  },
  {
   "cell_type": "markdown",
   "metadata": {
    "slideshow": {
     "slide_type": "subslide"
    }
   },
   "source": [
    "## Constraint Propagation and Implication Graphs\n",
    "\n",
    "**In LCG solvers, constraint propagation generates an _implication graph_**\n",
    "\n",
    "This consists of the _literals_, connected by the generated _explanations_\n",
    "\n",
    "<center style=\"font-size:small\">\n",
    "<img src=\"assets/implication_graph.png\" width=950px />\n",
    "Image from <a href=\"http://satassociation.org/articles/FAIA185-0131.pdf\">this book chaper</a>\n",
    "</center>\n",
    "\n",
    "* In the pictures, $x$ variables correspond to boolean literals (i.e. constraint states)\n",
    "* ...And each $\\omega$ is an explanation"
   ]
  },
  {
   "cell_type": "markdown",
   "metadata": {
    "slideshow": {
     "slide_type": "subslide"
    }
   },
   "source": [
    "## Conflict Driven Clause Learning\n",
    "\n",
    "**In LCG solvers, each search decision also generates a literal**\n",
    "\n",
    "E.g. if we assign $1$ to $x_0$, we generate $[x_0 = 1]$\n",
    "\n",
    "<center style=\"font-size:small\">\n",
    "<img src=\"assets/implication_graph.png\" width=950px />\n",
    "Image from <a href=\"http://satassociation.org/articles/FAIA185-0131.pdf\">this book chaper</a>\n",
    "</center>\n",
    "\n",
    "Each decisions is associated to a _decision value_\n",
    "\n",
    "* In the picture, they are the number after the @ symbol\n",
    "* When we make a new decision, we increment the current decision value"
   ]
  },
  {
   "cell_type": "markdown",
   "metadata": {
    "slideshow": {
     "slide_type": "subslide"
    }
   },
   "source": [
    "## Conflict Driven Clause Learning\n",
    "\n",
    "**In LCG solvers, each search decision also generates a literal**\n",
    "\n",
    "E.g. if we assign $1$ to $x_0$, we generate $[x_0 = 1]$\n",
    "\n",
    "<center style=\"font-size:small\">\n",
    "<img src=\"assets/implication_graph.png\" width=950px />\n",
    "Image from <a href=\"http://satassociation.org/articles/FAIA185-0131.pdf\">this book chaper</a>\n",
    "</center>\n",
    "\n",
    "Literals generated by propagation are also labeled with a decision value\n",
    "\n",
    "* ...But in this case there is _no increment_\n",
    "* In the picture, many literals are associated to decision level 5"
   ]
  },
  {
   "cell_type": "markdown",
   "metadata": {
    "slideshow": {
     "slide_type": "subslide"
    }
   },
   "source": [
    "## Conflict Driven Clause Learning\n",
    "\n",
    "**In case of a conflict ($\\kappa$ in the figure), an LCG solver can _learn a constraint_**\n",
    "\n",
    "This technique is referred to as _Conflict Driven Clause Learning_\n",
    "\n",
    "<center style=\"font-size:small\">\n",
    "<img src=\"assets/implication_graph.png\" width=950px />\n",
    "Image from <a href=\"http://satassociation.org/articles/FAIA185-0131.pdf\">this book chaper</a>\n",
    "</center>\n",
    "\n",
    "The idea is to identify _which decisions (literals) are to blame_ for the conflict\n",
    "\n",
    "* First, we identify all literal with the _same decision value_ as the conflict\n",
    "* The earliest one ($x_1 = 0@5$ in the figure) always corresponds to a decision"
   ]
  },
  {
   "cell_type": "markdown",
   "metadata": {
    "slideshow": {
     "slide_type": "subslide"
    }
   },
   "source": [
    "## Conflict Driven Clause Learning\n",
    "\n",
    "**In case of a conflict ($\\kappa$ in the figure), an LCG solver can _learn a constraint_**\n",
    "\n",
    "This technique is referred to as _Conflict Driven Clause Learning_\n",
    "\n",
    "<center style=\"font-size:small\">\n",
    "<img src=\"assets/implication_graph.png\" width=950px />\n",
    "Image from <a href=\"http://satassociation.org/articles/FAIA185-0131.pdf\">this book chaper</a>\n",
    "</center>\n",
    "\n",
    "Without this literal, the conflict would not arise\n",
    "\n",
    "* ...Therefore it will appear in the learned constraint"
   ]
  },
  {
   "cell_type": "markdown",
   "metadata": {
    "slideshow": {
     "slide_type": "subslide"
    }
   },
   "source": [
    "## Conflict Driven Clause Learning\n",
    "\n",
    "**In case of a conflict ($\\kappa$ in the figure), an LCG solver can _learn a constraint_**\n",
    "\n",
    "This technique is referred to as _Conflict Driven Clause Learning_\n",
    "\n",
    "<center style=\"font-size:small\">\n",
    "<img src=\"assets/implication_graph.png\" width=950px />\n",
    "Image from <a href=\"http://satassociation.org/articles/FAIA185-0131.pdf\">this book chaper</a>\n",
    "</center>\n",
    "\n",
    "To this, we add all literals with decision level _lower_ than the current one\n",
    "\n",
    "* ...That are connected via explanation to literals in the current decision level\n",
    "* In the figure, those would be $x_{31} = 0@3$ and $x_{21} = 0@2$"
   ]
  },
  {
   "cell_type": "markdown",
   "metadata": {
    "slideshow": {
     "slide_type": "subslide"
    }
   },
   "source": [
    "## Conflict Driven Clause Learning\n",
    "\n",
    "**In case of a conflict ($\\kappa$ in the figure), an LCG solver can _learn a constraint_**\n",
    "\n",
    "This technique is referred to as _Conflict Driven Clause Learning_\n",
    "\n",
    "<center style=\"font-size:small\">\n",
    "<img src=\"assets/implication_graph.png\" width=950px />\n",
    "Image from <a href=\"http://satassociation.org/articles/FAIA185-0131.pdf\">this book chaper</a>\n",
    "</center>\n",
    "\n",
    "If we want to avoid the conflict, _at least one_ of these literals should be _false_\n",
    "\n",
    "Therefore the clause we learn is: $\\neg [x_1 = 0] \\vee \\neg [x_{31} = 0] \\vee \\neg [x_{21} = 0]$"
   ]
  },
  {
   "cell_type": "markdown",
   "metadata": {
    "slideshow": {
     "slide_type": "subslide"
    }
   },
   "source": [
    "## Conflict Driven Clause Learning\n",
    "\n",
    "**The clause we learn is _globally valid_**\n",
    "\n",
    "...So that we can restart search and we will not make the same mistake again\n",
    "\n",
    "<center style=\"font-size:small\">\n",
    "<img src=\"assets/implication_graph.png\" width=950px />\n",
    "Image from <a href=\"http://satassociation.org/articles/FAIA185-0131.pdf\">this book chaper</a>\n",
    "</center>\n",
    "\n",
    "**In other words, we have a _complete_ method that does _not_ rely on tree search**\n",
    "\n",
    "* CDCL was invented for pure SAT solvers, and it is key to their efficiency\n",
    "* In LCG we used it to obtain similarly strong benefits"
   ]
  },
  {
   "cell_type": "markdown",
   "metadata": {
    "slideshow": {
     "slide_type": "subslide"
    }
   },
   "source": [
    "## Some Considerations\n",
    "\n",
    "**As usual, we have just scratched the surface for CP/LCG**\n",
    "\n",
    "* You can find more information about classical CP [in this handbook](https://www.elsevier.com/books/handbook-of-constraint-programming/rossi/978-0-444-52726-4)\n",
    "* ...And for LCG the best starting point are the papers by [Peter Stuckey](https://dblp.org/pid/s/PeterJStuckey.html)\n",
    "\n",
    "**Unlike MILP, CP does not rely on numerical optimization**\n",
    "\n",
    "* Combinatorial constraints are first-class citizens\n",
    "  - E.g. we have no big-Ms here!\n",
    "* It tends to work best for problems with many combinatorial elements\n",
    "\n",
    "**Unlike MILP, CP lack a global bounding method**\n",
    "\n",
    "* There is no LP relaxation, and propagation works at a _local_ level\n",
    "* CDCL goes a long way towards countering this issue\n",
    "* ...But sometimes the lack of a global bound leads to weaker performance"
   ]
  }
 ],
 "metadata": {
  "celltoolbar": "Slideshow",
  "kernelspec": {
   "display_name": "Python 3",
   "language": "python",
   "name": "python3"
  },
  "language_info": {
   "codemirror_mode": {
    "name": "ipython",
    "version": 3
   },
   "file_extension": ".py",
   "mimetype": "text/x-python",
   "name": "python",
   "nbconvert_exporter": "python",
   "pygments_lexer": "ipython3",
   "version": "3.6.9"
  },
  "rise": {
   "center": false,
   "transition": "fade"
  }
 },
 "nbformat": 4,
 "nbformat_minor": 4
}
