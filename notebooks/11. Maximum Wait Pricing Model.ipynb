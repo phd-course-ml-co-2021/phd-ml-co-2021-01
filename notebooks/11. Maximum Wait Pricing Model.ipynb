{
 "cells": [
  {
   "cell_type": "code",
   "execution_count": 13,
   "metadata": {
    "slideshow": {
     "slide_type": "skip"
    }
   },
   "outputs": [
    {
     "name": "stdout",
     "output_type": "stream",
     "text": [
      "The autoreload extension is already loaded. To reload it, use:\n",
      "  %reload_ext autoreload\n"
     ]
    }
   ],
   "source": [
    "# ============================================================\n",
    "# Notebook setup: run this before everything\n",
    "# ============================================================\n",
    "\n",
    "%load_ext autoreload\n",
    "%autoreload 2\n",
    "\n",
    "# Control figure size\n",
    "interactive_figures = True\n",
    "if interactive_figures:\n",
    "    # Normal behavior\n",
    "    %matplotlib widget\n",
    "    figsize=(9, 3)\n",
    "else:\n",
    "    # PDF export behavior\n",
    "    figsize=(14, 5)\n",
    "\n",
    "#from matplotlib import pyplot as plt\n",
    "from util import util\n",
    "import igraph as ig\n",
    "import numpy as np\n",
    "\n",
    "# ============================================================\n",
    "# Repeat relevant operations\n",
    "# ============================================================\n",
    "\n",
    "# Build the small graph used to explain concepts\n",
    "eoh = 4\n",
    "g = util.build_website_graph(nnodes=4, rate=3, extra_arc_fraction=0.25, seed=42)\n",
    "flows, paths = util.build_random_paths(g, min_paths=3, max_paths=5,\n",
    "                                          min_units=1, max_units=10, eoh=eoh, seed=10)\n",
    "tug = util.build_time_unfolded_graph(g, eoh=eoh)\n",
    "#node_counts, arc_counts = util.get_counts(tug, flows, paths)\n",
    "node_counts_n, arc_counts_n = util.add_proportional_noise(node_counts, arc_counts, sigma=0.2, seed=42)\n",
    "mvc, alpha = 0.95, 1\n",
    "rflows_n, rpaths_n, nneg_duals, mvc_duals = util.solve_path_selection_full(tug, node_counts_n, arc_counts_n,\n",
    "                                                    alpha=alpha, verbose=0, min_vertex_cover=0.95, return_duals=True)"
   ]
  },
  {
   "cell_type": "markdown",
   "metadata": {
    "slideshow": {
     "slide_type": "slide"
    }
   },
   "source": [
    "# A Model for Our Constrained Subproblem\n",
    "\n",
    "Let's put to work what we learned"
   ]
  },
  {
   "cell_type": "markdown",
   "metadata": {
    "slideshow": {
     "slide_type": "subslide"
    }
   },
   "source": [
    "## The Model Variables\n",
    "\n",
    "**Our pricing problem requires to build paths**\n",
    "\n",
    "We will model this by introducing _a variable for each time step_:\n",
    "\n",
    "$$\n",
    "x_0, x_1, \\ldots x_{eoh-1}\n",
    "$$\n",
    "\n",
    "**In the domain of each variables, we include:**\n",
    "\n",
    "* One value for each node in the original graph\n",
    "  - If $x_t = i$, then we visit node $i$ at time $t$\n",
    "* One special value to specify that the path has not yet started:\n",
    "  - If $x_t = -1$, then the path has not yet started at time $t$\n",
    "* One special value to specify that the path has finished early\n",
    "  - If $x_t = -2$, then the path is already over at time $t$\n",
    "\n",
    "**Overall, we have $D_t = \\{-2, -1, \\ldots, n_v - 1\\}$**"
   ]
  },
  {
   "cell_type": "markdown",
   "metadata": {
    "slideshow": {
     "slide_type": "subslide"
    }
   },
   "source": [
    "## The Model Variables\n",
    "\n",
    "**We also need to track the path weight**\n",
    "\n",
    "We will introducing again _a variable for each time step_:\n",
    "\n",
    "$$\n",
    "y_0, y_1, \\ldots y_{eoh-1}\n",
    "$$\n",
    "\n",
    "Where $y_t \\in \\{-M, \\ldots, M\\}$, with $M$ being a vary large number\n",
    "\n",
    "* Using a large number here is not a problems\n",
    "* ...Since propagation will reduce the domains already at the root node\n",
    "\n",
    "**The total cost of a path can be obtained by summation**\n",
    "\n",
    "$$\n",
    "z = \\sum_{t = 0}^{eoh-1} y_i + \\alpha\n",
    "$$\n",
    "\n",
    "If we want paths with negative weight, we can just add the constraint $z < 0$"
   ]
  },
  {
   "cell_type": "markdown",
   "metadata": {
    "slideshow": {
     "slide_type": "subslide"
    }
   },
   "source": [
    "## Allowed Transitions\n",
    "\n",
    "**We now need to model transitions:**\n",
    "\n",
    "* We can move only along _arcs in the original graph_\n",
    "  - I.g. we can move from $i$ to $j$ iff $(i, j) \\in E$\n",
    "  - ...Where $E$ refers here to the set of arcs in the original graph\n",
    "* ...But the _special values_ make for an exception\n",
    "  - We can always move from $-1$ to $i$\n",
    "  - We can always move from $i$ to $-2$\n",
    "\n",
    "**Overall, the allowed transitions are:**\n",
    "\n",
    "$$\n",
    "\\{(i,j) \\ \\forall (i,j) \\in E\\} \\cup \\{(-1,i) \\ \\forall i \\in in V\\} \\cup \\{(i,-2) \\ \\forall i \\in in V\\}\n",
    "$$\n",
    "\n",
    "Where $V$ refers here to the set of nodes in the original graph"
   ]
  },
  {
   "cell_type": "markdown",
   "metadata": {
    "slideshow": {
     "slide_type": "subslide"
    }
   },
   "source": [
    "## Allowed Transitions\n",
    "\n",
    "**Let's use our graph as an example**"
   ]
  },
  {
   "cell_type": "code",
   "execution_count": 10,
   "metadata": {},
   "outputs": [
    {
     "data": {
      "image/svg+xml": [
       "<?xml version=\"1.0\" encoding=\"UTF-8\"?>\n",
       "<svg xmlns=\"http://www.w3.org/2000/svg\" xmlns:xlink=\"http://www.w3.org/1999/xlink\" width=\"700pt\" height=\"150pt\" viewBox=\"0 0 700 150\" version=\"1.1\">\n",
       "<defs>\n",
       "<g>\n",
       "<symbol overflow=\"visible\" id=\"glyph0-0\">\n",
       "<path style=\"stroke:none;\" d=\"M 0.5 1.765625 L 0.5 -7.046875 L 5.5 -7.046875 L 5.5 1.765625 Z M 1.0625 1.21875 L 4.9375 1.21875 L 4.9375 -6.484375 L 1.0625 -6.484375 Z M 1.0625 1.21875 \"/>\n",
       "</symbol>\n",
       "<symbol overflow=\"visible\" id=\"glyph0-1\">\n",
       "<path style=\"stroke:none;\" d=\"M 3.171875 -6.640625 C 2.671875 -6.640625 2.289062 -6.390625 2.03125 -5.890625 C 1.78125 -5.390625 1.65625 -4.640625 1.65625 -3.640625 C 1.65625 -2.640625 1.78125 -1.890625 2.03125 -1.390625 C 2.289062 -0.890625 2.671875 -0.640625 3.171875 -0.640625 C 3.691406 -0.640625 4.078125 -0.890625 4.328125 -1.390625 C 4.585938 -1.890625 4.71875 -2.640625 4.71875 -3.640625 C 4.71875 -4.640625 4.585938 -5.390625 4.328125 -5.890625 C 4.078125 -6.390625 3.691406 -6.640625 3.171875 -6.640625 Z M 3.171875 -7.421875 C 3.992188 -7.421875 4.617188 -7.097656 5.046875 -6.453125 C 5.484375 -5.804688 5.703125 -4.867188 5.703125 -3.640625 C 5.703125 -2.410156 5.484375 -1.472656 5.046875 -0.828125 C 4.617188 -0.179688 3.992188 0.140625 3.171875 0.140625 C 2.359375 0.140625 1.734375 -0.179688 1.296875 -0.828125 C 0.867188 -1.472656 0.65625 -2.410156 0.65625 -3.640625 C 0.65625 -4.867188 0.867188 -5.804688 1.296875 -6.453125 C 1.734375 -7.097656 2.359375 -7.421875 3.171875 -7.421875 Z M 3.171875 -7.421875 \"/>\n",
       "</symbol>\n",
       "<symbol overflow=\"visible\" id=\"glyph0-2\">\n",
       "<path style=\"stroke:none;\" d=\"M 1.234375 -0.828125 L 2.859375 -0.828125 L 2.859375 -6.390625 L 1.09375 -6.046875 L 1.09375 -6.9375 L 2.84375 -7.296875 L 3.828125 -7.296875 L 3.828125 -0.828125 L 5.4375 -0.828125 L 5.4375 0 L 1.234375 0 Z M 1.234375 -0.828125 \"/>\n",
       "</symbol>\n",
       "<symbol overflow=\"visible\" id=\"glyph0-3\">\n",
       "<path style=\"stroke:none;\" d=\"M 1.921875 -0.828125 L 5.359375 -0.828125 L 5.359375 0 L 0.734375 0 L 0.734375 -0.828125 C 1.109375 -1.210938 1.617188 -1.734375 2.265625 -2.390625 C 2.910156 -3.046875 3.316406 -3.46875 3.484375 -3.65625 C 3.796875 -4.007812 4.015625 -4.304688 4.140625 -4.546875 C 4.265625 -4.796875 4.328125 -5.039062 4.328125 -5.28125 C 4.328125 -5.664062 4.191406 -5.976562 3.921875 -6.21875 C 3.648438 -6.46875 3.296875 -6.59375 2.859375 -6.59375 C 2.546875 -6.59375 2.21875 -6.535156 1.875 -6.421875 C 1.539062 -6.316406 1.175781 -6.15625 0.78125 -5.9375 L 0.78125 -6.9375 C 1.175781 -7.09375 1.546875 -7.210938 1.890625 -7.296875 C 2.234375 -7.378906 2.550781 -7.421875 2.84375 -7.421875 C 3.59375 -7.421875 4.191406 -7.234375 4.640625 -6.859375 C 5.097656 -6.484375 5.328125 -5.976562 5.328125 -5.34375 C 5.328125 -5.039062 5.269531 -4.753906 5.15625 -4.484375 C 5.039062 -4.222656 4.835938 -3.910156 4.546875 -3.546875 C 4.460938 -3.453125 4.203125 -3.175781 3.765625 -2.71875 C 3.328125 -2.269531 2.710938 -1.640625 1.921875 -0.828125 Z M 1.921875 -0.828125 \"/>\n",
       "</symbol>\n",
       "<symbol overflow=\"visible\" id=\"glyph0-4\">\n",
       "<path style=\"stroke:none;\" d=\"M 4.0625 -3.9375 C 4.53125 -3.832031 4.894531 -3.617188 5.15625 -3.296875 C 5.425781 -2.984375 5.5625 -2.59375 5.5625 -2.125 C 5.5625 -1.40625 5.3125 -0.847656 4.8125 -0.453125 C 4.320312 -0.0546875 3.617188 0.140625 2.703125 0.140625 C 2.398438 0.140625 2.085938 0.109375 1.765625 0.046875 C 1.441406 -0.015625 1.109375 -0.101562 0.765625 -0.21875 L 0.765625 -1.171875 C 1.035156 -1.015625 1.332031 -0.894531 1.65625 -0.8125 C 1.988281 -0.726562 2.332031 -0.6875 2.6875 -0.6875 C 3.300781 -0.6875 3.769531 -0.804688 4.09375 -1.046875 C 4.414062 -1.296875 4.578125 -1.65625 4.578125 -2.125 C 4.578125 -2.550781 4.425781 -2.882812 4.125 -3.125 C 3.820312 -3.363281 3.40625 -3.484375 2.875 -3.484375 L 2.015625 -3.484375 L 2.015625 -4.296875 L 2.90625 -4.296875 C 3.394531 -4.296875 3.765625 -4.394531 4.015625 -4.59375 C 4.273438 -4.789062 4.40625 -5.070312 4.40625 -5.4375 C 4.40625 -5.800781 4.269531 -6.082031 4 -6.28125 C 3.738281 -6.488281 3.363281 -6.59375 2.875 -6.59375 C 2.601562 -6.59375 2.3125 -6.5625 2 -6.5 C 1.6875 -6.445312 1.347656 -6.359375 0.984375 -6.234375 L 0.984375 -7.109375 C 1.359375 -7.210938 1.707031 -7.289062 2.03125 -7.34375 C 2.363281 -7.394531 2.671875 -7.421875 2.953125 -7.421875 C 3.703125 -7.421875 4.296875 -7.25 4.734375 -6.90625 C 5.171875 -6.570312 5.390625 -6.113281 5.390625 -5.53125 C 5.390625 -5.125 5.273438 -4.78125 5.046875 -4.5 C 4.816406 -4.226562 4.488281 -4.039062 4.0625 -3.9375 Z M 4.0625 -3.9375 \"/>\n",
       "</symbol>\n",
       "</g>\n",
       "</defs>\n",
       "<g id=\"surface38\">\n",
       "<rect x=\"0\" y=\"0\" width=\"700\" height=\"150\" style=\"fill:rgb(100%,100%,100%);fill-opacity:1;stroke:none;\"/>\n",
       "<path style=\"fill:none;stroke-width:1;stroke-linecap:butt;stroke-linejoin:miter;stroke:rgb(26.666667%,26.666667%,26.666667%);stroke-opacity:1;stroke-miterlimit:10;\" d=\"M 520.492188 59.273438 C 520.492188 71.699219 510.417969 81.773438 497.992188 81.773438 C 485.566406 81.773438 475.492188 71.699219 475.492188 59.273438 C 475.492188 46.847656 485.566406 36.773438 497.992188 36.773438 C 510.417969 36.773438 520.492188 46.847656 520.492188 59.273438 \"/>\n",
       "<path style=\"fill:none;stroke-width:1;stroke-linecap:butt;stroke-linejoin:miter;stroke:rgb(26.666667%,26.666667%,26.666667%);stroke-opacity:1;stroke-miterlimit:10;\" d=\"M 482.082031 75.183594 C 519.917969 123.238281 569.328125 140.109375 623.929688 112.960938 \"/>\n",
       "<path style=\" stroke:none;fill-rule:nonzero;fill:rgb(26.666667%,26.666667%,26.666667%);fill-opacity:1;\" d=\"M 636.703125 106.613281 L 625.992188 117.113281 L 621.867188 108.8125 L 636.703125 106.613281 \"/>\n",
       "<path style=\"fill:none;stroke-width:1;stroke-linecap:butt;stroke-linejoin:miter;stroke:rgb(26.666667%,26.666667%,26.666667%);stroke-opacity:1;stroke-miterlimit:10;\" d=\"M 688.410156 84.089844 C 688.410156 96.515625 678.335938 106.589844 665.910156 106.589844 C 653.484375 106.589844 643.410156 96.515625 643.410156 84.089844 C 643.410156 71.664062 653.484375 61.589844 665.910156 61.589844 C 678.335938 61.589844 688.410156 71.664062 688.410156 84.089844 \"/>\n",
       "<path style=\"fill:none;stroke-width:1;stroke-linecap:butt;stroke-linejoin:miter;stroke:rgb(26.666667%,26.666667%,26.666667%);stroke-opacity:1;stroke-miterlimit:10;\" d=\"M 482.082031 75.183594 L 79.238281 92.578125 \"/>\n",
       "<path style=\" stroke:none;fill-rule:nonzero;fill:rgb(26.666667%,26.666667%,26.666667%);fill-opacity:1;\" d=\"M 64.984375 93.195312 L 79.039062 87.949219 L 79.4375 97.210938 L 64.984375 93.195312 \"/>\n",
       "<path style=\"fill:none;stroke-width:1;stroke-linecap:butt;stroke-linejoin:miter;stroke:rgb(26.666667%,26.666667%,26.666667%);stroke-opacity:1;stroke-miterlimit:10;\" d=\"M 88.410156 77.933594 C 88.410156 90.359375 78.335938 100.433594 65.910156 100.433594 C 53.484375 100.433594 43.410156 90.359375 43.410156 77.933594 C 43.410156 65.503906 53.484375 55.433594 65.910156 55.433594 C 78.335938 55.433594 88.410156 65.503906 88.410156 77.933594 \"/>\n",
       "<path style=\"fill:none;stroke-width:1;stroke-linecap:butt;stroke-linejoin:miter;stroke:rgb(26.666667%,26.666667%,26.666667%);stroke-opacity:1;stroke-miterlimit:10;\" d=\"M 482.082031 75.183594 L 606.230469 54.753906 \"/>\n",
       "<path style=\" stroke:none;fill-rule:nonzero;fill:rgb(26.666667%,26.666667%,26.666667%);fill-opacity:1;\" d=\"M 620.308594 52.4375 L 606.984375 59.324219 L 605.480469 50.179688 L 620.308594 52.4375 \"/>\n",
       "<path style=\"fill:none;stroke-width:1;stroke-linecap:butt;stroke-linejoin:miter;stroke:rgb(26.666667%,26.666667%,26.666667%);stroke-opacity:1;stroke-miterlimit:10;\" d=\"M 673.519531 34.089844 C 673.519531 46.515625 663.445312 56.589844 651.019531 56.589844 C 638.59375 56.589844 628.519531 46.515625 628.519531 34.089844 C 628.519531 21.664062 638.59375 11.589844 651.019531 11.589844 C 663.445312 11.589844 673.519531 21.664062 673.519531 34.089844 \"/>\n",
       "<path style=\"fill:none;stroke-width:1;stroke-linecap:butt;stroke-linejoin:miter;stroke:rgb(26.666667%,26.666667%,26.666667%);stroke-opacity:1;stroke-miterlimit:10;\" d=\"M 650 100 C 612.164062 51.945312 562.753906 35.074219 508.152344 62.222656 \"/>\n",
       "<path style=\" stroke:none;fill-rule:nonzero;fill:rgb(26.666667%,26.666667%,26.666667%);fill-opacity:1;\" d=\"M 495.378906 68.574219 L 506.089844 58.070312 L 510.214844 66.371094 L 495.378906 68.574219 \"/>\n",
       "<path style=\"fill:none;stroke-width:1;stroke-linecap:butt;stroke-linejoin:miter;stroke:rgb(26.666667%,26.666667%,26.666667%);stroke-opacity:1;stroke-miterlimit:10;\" d=\"M 650 100 L 79.265625 94.140625 \"/>\n",
       "<path style=\" stroke:none;fill-rule:nonzero;fill:rgb(26.666667%,26.666667%,26.666667%);fill-opacity:1;\" d=\"M 65 93.996094 L 79.3125 89.507812 L 79.214844 98.777344 L 65 93.996094 \"/>\n",
       "<path style=\"fill-rule:nonzero;fill:rgb(55.294118%,82.745098%,78.039216%);fill-opacity:1;stroke-width:1;stroke-linecap:butt;stroke-linejoin:miter;stroke:rgb(0%,0%,0%);stroke-opacity:1;stroke-miterlimit:10;\" d=\"M 497.082031 75.183594 C 497.082031 83.46875 490.367188 90.183594 482.082031 90.183594 C 473.796875 90.183594 467.082031 83.46875 467.082031 75.183594 C 467.082031 66.898438 473.796875 60.183594 482.082031 60.183594 C 490.367188 60.183594 497.082031 66.898438 497.082031 75.183594 \"/>\n",
       "<path style=\"fill-rule:nonzero;fill:rgb(100%,100%,70.196078%);fill-opacity:1;stroke-width:1;stroke-linecap:butt;stroke-linejoin:miter;stroke:rgb(0%,0%,0%);stroke-opacity:1;stroke-miterlimit:10;\" d=\"M 665 100 C 665 108.285156 658.285156 115 650 115 C 641.714844 115 635 108.285156 635 100 C 635 91.714844 641.714844 85 650 85 C 658.285156 85 665 91.714844 665 100 \"/>\n",
       "<path style=\"fill-rule:nonzero;fill:rgb(74.509804%,72.941176%,85.490196%);fill-opacity:1;stroke-width:1;stroke-linecap:butt;stroke-linejoin:miter;stroke:rgb(0%,0%,0%);stroke-opacity:1;stroke-miterlimit:10;\" d=\"M 65 93.84375 C 65 102.125 58.285156 108.84375 50 108.84375 C 41.714844 108.84375 35 102.125 35 93.84375 C 35 85.558594 41.714844 78.84375 50 78.84375 C 58.285156 78.84375 65 85.558594 65 93.84375 \"/>\n",
       "<path style=\"fill-rule:nonzero;fill:rgb(98.431373%,50.196078%,44.705882%);fill-opacity:1;stroke-width:1;stroke-linecap:butt;stroke-linejoin:miter;stroke:rgb(0%,0%,0%);stroke-opacity:1;stroke-miterlimit:10;\" d=\"M 650.109375 50 C 650.109375 58.285156 643.394531 65 635.109375 65 C 626.824219 65 620.109375 58.285156 620.109375 50 C 620.109375 41.714844 626.824219 35 635.109375 35 C 643.394531 35 650.109375 41.714844 650.109375 50 \"/>\n",
       "<g style=\"fill:rgb(0%,0%,0%);fill-opacity:1;\">\n",
       "  <use xlink:href=\"#glyph0-1\" x=\"478.902344\" y=\"80.074219\"/>\n",
       "</g>\n",
       "<g style=\"fill:rgb(0%,0%,0%);fill-opacity:1;\">\n",
       "  <use xlink:href=\"#glyph0-2\" x=\"646.730469\" y=\"104.824219\"/>\n",
       "</g>\n",
       "<g style=\"fill:rgb(0%,0%,0%);fill-opacity:1;\">\n",
       "  <use xlink:href=\"#glyph0-3\" x=\"46.953125\" y=\"98.730469\"/>\n",
       "</g>\n",
       "<g style=\"fill:rgb(0%,0%,0%);fill-opacity:1;\">\n",
       "  <use xlink:href=\"#glyph0-4\" x=\"631.949219\" y=\"54.890625\"/>\n",
       "</g>\n",
       "</g>\n",
       "</svg>\n"
      ],
      "text/plain": [
       "<igraph.drawing.Plot at 0x7f6c08147128>"
      ]
     },
     "execution_count": 10,
     "metadata": {
      "image/svg+xml": {
       "isolated": true
      }
     },
     "output_type": "execute_result"
    }
   ],
   "source": [
    "ig.plot(g, **util.get_visual_style(g), bbox=(700, 150), margin=50)"
   ]
  },
  {
   "cell_type": "markdown",
   "metadata": {},
   "source": [
    "The allowed transitions are:\n",
    "$$\n",
    "(0,0), (0,1), (0,2), (0,3), (1,0), (1,1), (2,2), (3,3),\\\\\n",
    "(-1,0), (-1,1), (-1,2), (-1,2),\\\\\n",
    "(0,-2), (1,-2), (2,-2), (3,-2)\n",
    "$$"
   ]
  },
  {
   "cell_type": "markdown",
   "metadata": {
    "slideshow": {
     "slide_type": "subslide"
    }
   },
   "source": [
    "## Transition Weights\n",
    "\n",
    "**When we move, we accumulate weight**\n",
    "\n",
    "Let $n(t, i)$ and $e(t, i, j)$ be the TUG indexes for pair $(t,i)$ and triple $(t,i,j)$ \n",
    "\n",
    "* When we move _towards_ node $i$ at time $t$, we accumulate $r^v_{n(t,i)} + \\lambda_{n(t,i)}$\n",
    "  - As an exception, moving towards $-2$ accumulates 0 weight\n",
    "* When we move _from_ node $i$ at _time 0_, we also accumulate $r^v_{n(0,i)} + \\lambda_{n(0,i)}$ \n",
    "* When we move from $i$ to $j$ at time $t$, we accumulate $r^e_{e(t, i, j)}$\n",
    "\n",
    "**In detail:**\n",
    "\n",
    "* If we move from $i$ to $j$ at time $t > 0$, we accumulate:\n",
    "  - $r^v_{n(t,j)} + \\lambda_{n(t,j)}$ for the destination node\n",
    "  - $r^e_{n(t,i,j)}$ for the arc"
   ]
  },
  {
   "cell_type": "markdown",
   "metadata": {
    "slideshow": {
     "slide_type": "subslide"
    }
   },
   "source": [
    "## Transition Weights\n",
    "\n",
    "**When we move, we accumulate weight**\n",
    "\n",
    "Let $n(t, i)$ and $e(t, i, j)$ be the TUG indexes for pair $(t,i)$ and triple $(t,i,j)$ \n",
    "\n",
    "* When we move _towards_ node $i$ at time $t$, we accumulate $r^v_{n(t,i)} + \\lambda_{n(t,i)}$\n",
    "  - As an exception, moving towards $-2$ accumulates 0 weight\n",
    "* When we move _from_ node $i$ at _time 0_, we also accumulate $r^v_{n(0,i)} + \\lambda_{n(0,i)}$ \n",
    "* When we move from $i$ to $j$ at time $t$, we accumulate $r^e_{e(t, i, j)}$\n",
    "\n",
    "**In detail:**\n",
    "\n",
    "* If we move from $i$ to $j$ at time $t = 0$, we accumulate:\n",
    "  - $r^v_{n(t,i)} + \\lambda_{n(t,i)}$ for the source node\n",
    "  - $r^v_{n(t,j)} + \\lambda_{n(t,j)}$ for the destination node\n",
    "  - $r^e_{n(t,i,j)}$ for the arc"
   ]
  },
  {
   "cell_type": "markdown",
   "metadata": {
    "slideshow": {
     "slide_type": "subslide"
    }
   },
   "source": [
    "## Transition Weights\n",
    "\n",
    "**When we move, we accumulate weight**\n",
    "\n",
    "Let $n(t, i)$ and $e(t, i, j)$ be the TUG indexes for pair $(t,i)$ and triple $(t,i,j)$ \n",
    "\n",
    "* When we move _towards_ node $i$ at time $t$, we accumulate $r^v_{n(t,i)} + \\lambda_{n(t,i)}$\n",
    "  - As an exception, moving towards $-2$ accumulates 0 weight\n",
    "* When we move _from_ node $i$ at _time 0_, we also accumulate $r^v_{n(0,i)} + \\lambda_{n(0,i)}$ \n",
    "* When we move from $i$ to $j$ at time $t$, we accumulate $r^e_{e(t, i, j)}$\n",
    "\n",
    "**Let's see some examples:**\n",
    "\n",
    "* If we move from $-1$ to $j$ at time $t$, we accumulate:\n",
    "  - $r^v_{n(t,j)} + \\lambda_{n(t,j)}$ for the destination node\n",
    "* If we move from $i$ to $-2$ at time $t = 0$, we accumulate:\n",
    "  - $r^v_{n(t,i)} + \\lambda_{n(t,i)}$ for the source node\n",
    "* If we move from $i$ to $-2$ at time $t > 0$, we accumulate 0"
   ]
  },
  {
   "cell_type": "markdown",
   "metadata": {
    "slideshow": {
     "slide_type": "subslide"
    }
   },
   "source": [
    "## Allowed Transitions\n",
    "\n",
    "**We can use this information to populate tables**\n",
    "\n",
    "...And use them within a set of ${\\scriptsize \\text{ALLOWED}}$ constraints:\n",
    "\n",
    "$$\\begin{align}\n",
    "& {\\scriptsize \\text{ALLOWED}}([x_0, x_1, y_0], T_0) & \\text{ for time $0$} \\\\\n",
    "& {\\scriptsize \\text{ALLOWED}}([x_1, x_2, y_1], T_1) & \\text{ for time $1$} \\\\\n",
    "&\\ldots & \\\\\n",
    "& {\\scriptsize \\text{ALLOWED}}([x_{eoh-2}, x_{eoh-1}, y_{eoh-1}], T_{eoh-1}) & \\text{ for time $eoh-1$}\n",
    "\\end{align}$$\n",
    "\n",
    "* The constraints allow only feasible transitions\n",
    "* ...And compute the corresponding cost\n",
    "\n",
    "**As a result of propagation**\n",
    "\n",
    "...A restriction on the cost may result in pruned values\n",
    "\n",
    "* This prevents us from considering many useless paths"
   ]
  },
  {
   "cell_type": "markdown",
   "metadata": {
    "slideshow": {
     "slide_type": "subslide"
    }
   },
   "source": [
    "## Forbidden Transitions\n",
    "\n",
    "**We can handle the maximum wait restriction via _forbidden transitions_**\n",
    "\n",
    "...Using of course the ${\\scriptsize \\text{FORBIDDEN}}$ constraint\n",
    "\n",
    "* Let $n_w$ be the maximum number of allowed waits\n",
    "* ...Then the forbidden transitions are:\n",
    "\n",
    "$$\n",
    "\\bar{T} = \\{\\{i\\}_{h=0..n_w} \\ \\forall i \\in V \\}\n",
    "$$\n",
    "\n",
    "I.e. any repetition of a node index for $n_w+1$ times\n",
    "\n",
    "**Since we have $n_w = 2$ in our case, we forbid:**\n",
    "\n",
    "$$\n",
    "\\{(0,0,0), (1,1,1), (2,2,2), (3,3,3)\\}\n",
    "$$\n",
    "\n",
    "I.e. we cannot spend 3 time steps on any node"
   ]
  },
  {
   "cell_type": "markdown",
   "metadata": {
    "slideshow": {
     "slide_type": "subslide"
    }
   },
   "source": [
    "## Forbidden Transitions\n",
    "\n",
    "**We need to add $eoh - n_w$ constraints using this table**\n",
    "\n",
    "...So as to prevent excessive waiting over all the time horizon\n",
    "\n",
    "$$\\begin{align}\n",
    "& {\\scriptsize \\text{FORBIDDEN}}([x_0, \\ldots, x_{n_w}], \\bar{T}) & \\text{ for time $n_w$} \\\\\n",
    "& {\\scriptsize \\text{FORBIDDEN}}([x_1, \\ldots, x_{n_w+1}], \\bar{T}) & \\text{ for time $n_w+1$} \\\\\n",
    "&\\ldots & \\\\\n",
    "& {\\scriptsize \\text{FORBIDDEN}}([x_{eoh-1-n_w}, \\ldots, x_{eoh-1}], \\bar{T}) & \\text{ for time $eoh-1$} \n",
    "\\end{align}$$\n",
    "\n",
    "Both in this and in the previous case:\n",
    "\n",
    "* The number of constraints grows linearly with $eoh$\n",
    "* The table size is relatively limited"
   ]
  },
  {
   "cell_type": "markdown",
   "metadata": {
    "slideshow": {
     "slide_type": "subslide"
    }
   },
   "source": [
    "## Model Code\n",
    "\n",
    "**The code for this model is in the `solve_pricing_problem_maxwaits` function**\n",
    "\n",
    "We start by building a model using the [Google Or-tools CP-SAT solver](https://developers.google.com/optimization):\n",
    "\n",
    "```python\n",
    "mdl = cp_model.CpModel()\n",
    "```\n",
    "\n",
    "Then we build the variables:\n",
    "\n",
    "```python\n",
    "x = {i: mdl.NewIntVar(-2, mni, f'x_{i}') for i in range(eoh)}\n",
    "c = {i: mdl.NewIntVar(minwgt, maxwgt, f'c_{i}') for i in range(1, eoh)}\n",
    "z = mdl.NewIntVar(minwgt * eoh, maxwgt * eoh, 'z')\n",
    "```\n",
    "\n",
    "We are using _integer_ variables even if have real weights:\n",
    "\n",
    "* The trick is to rely on _finite precision_\n",
    "* Given a weight $w$, we transform it as $round(w * p)$\n",
    "* So that we obtain an integer, at the expense of some precision"
   ]
  },
  {
   "cell_type": "markdown",
   "metadata": {
    "slideshow": {
     "slide_type": "subslide"
    }
   },
   "source": [
    "## Model Code\n",
    "\n",
    "**The code for this model is in the `solve_pricing_problem_maxwaits` function**\n",
    "\n",
    "We add all ${\\scriptsize \\text{ALLOWED}}$ constraints\n",
    "\n",
    "```python\n",
    "for t in range(1, eoh):\n",
    "    # Build the table\n",
    "    ...\n",
    "    mdl.AddAllowedAssignments([x[t-1], x[t], c[t]], alw)\n",
    "```\n",
    "\n",
    "Then the ${\\scriptsize \\text{FORBIDDEN}}$ constraints\n",
    "\n",
    "```python\n",
    "if max_waits is not None:\n",
    "    for t in range(max_waits, eoh):\n",
    "        # Build the table\n",
    "        ...\n",
    "        mdl.AddForbiddenAssignments(scope, frb)\n",
    "```"
   ]
  },
  {
   "cell_type": "markdown",
   "metadata": {
    "slideshow": {
     "slide_type": "subslide"
    }
   },
   "source": [
    "## Model Code\n",
    "\n",
    "**The code for this model is in the `solve_pricing_problem_maxwaits` function**\n",
    "\n",
    "Finally, we define the total path weight:\n",
    "\n",
    "```python\n",
    "mdl.Add(z == sum(c[i] for i in range(1, eoh)))\n",
    "```\n",
    "\n",
    "...And we define a constraint on the $z$ variable:\n",
    "```python\n",
    "mdl.Add(z < -round(alpha / prec))\n",
    "```\n",
    "\n",
    "* We do not _need_ to minimize $z$ (although we may)\n",
    "* ...Since it is enough to search for paths with negative weight"
   ]
  },
  {
   "cell_type": "markdown",
   "metadata": {
    "slideshow": {
     "slide_type": "subslide"
    }
   },
   "source": [
    "## Model Code\n",
    "\n",
    "**The code for this model is in the `solve_pricing_problem_maxwaits` function**\n",
    "\n",
    "We build a solver and set a time limit:\n",
    "\n",
    "```python\n",
    "slv = cp_model.CpSolver()\n",
    "slv.parameters.max_time_in_seconds = time_limit\n",
    "```\n",
    "\n",
    "We tell the solver not to stop after the first solution:\n",
    "\n",
    "```python\n",
    "slv.parameters.enumerate_all_solutions = True\n",
    "```\n",
    "\n",
    "We define a callback to store all solutions:\n",
    "\n",
    "```python\n",
    "class Collector(cp_model.CpSolverSolutionCallback):\n",
    "```\n",
    "\n",
    "...And the we solve the problem:\n",
    "\n",
    "```python\n",
    "status = slv.SolveWithSolutionCallback(mdl, collector)\n",
    "```"
   ]
  },
  {
   "cell_type": "markdown",
   "metadata": {
    "slideshow": {
     "slide_type": "subslide"
    }
   },
   "source": [
    "## Maximum Wait Pricing in Action\n",
    "\n",
    "**Let's test our new code in an enumeration task**"
   ]
  },
  {
   "cell_type": "code",
   "execution_count": 22,
   "metadata": {},
   "outputs": [
    {
     "name": "stdout",
     "output_type": "stream",
     "text": [
      "FLOW: PATH\n",
      "0.71: 1,1 > 2,0\n",
      "1.01: 2,0 > 3,2\n",
      "1.01: 1,0 > 2,0 > 3,2\n",
      "1.01: 0,1 > 1,0 > 2,0 > 3,2\n",
      "1.19: 1,0 > 2,0\n",
      "1.19: 0,1 > 1,0 > 2,0\n",
      "1.19: 2,0\n",
      "1.36: 0,1 > 1,1 > 2,0 > 3,2\n",
      "1.36: 0,0 > 1,1 > 2,0 > 3,2\n",
      "1.54: 0,0 > 1,1 > 2,0\n",
      "1.54: 0,1 > 1,1 > 2,0\n"
     ]
    }
   ],
   "source": [
    "ncosts_n, npaths_n = util.solve_pricing_problem_maxwaits(tug, rflows_n, rpaths_n,\n",
    "                                             node_counts_n, arc_counts_n, max_waits=2,\n",
    "                                             cover_duals=mvc_duals,\n",
    "                                             alpha=alpha, filter_paths=False, max_paths=10)\n",
    "print('FLOW: PATH')\n",
    "util.print_solution(tug, ncosts_n, npaths_n, sort='ascending')"
   ]
  },
  {
   "cell_type": "markdown",
   "metadata": {},
   "source": [
    "* Paths with more than 2 consecutive visits to the same node are not built"
   ]
  },
  {
   "cell_type": "markdown",
   "metadata": {
    "slideshow": {
     "slide_type": "subslide"
    }
   },
   "source": [
    "## Maximum Wait Pricing in Action\n",
    "\n",
    "**Let's test our new code in an enumeration task**"
   ]
  },
  {
   "cell_type": "code",
   "execution_count": 23,
   "metadata": {},
   "outputs": [
    {
     "name": "stdout",
     "output_type": "stream",
     "text": [
      "FLOW: PATH\n",
      "-0.09: 1,1 > 2,0 > 3,3\n",
      "-0.06: 1,1 > 2,1 > 3,0\n",
      "-0.04: 2,1 > 3,0\n",
      "-0.04: 0,0 > 1,0 > 2,1 > 3,0\n",
      "-0.03: 2,3 > 3,3\n",
      "-0.03: 0,0 > 1,0 > 2,3 > 3,3\n",
      "-0.03: 0,1 > 1,0 > 2,3 > 3,3\n",
      "-0.02: 3,1\n",
      "-0.02: 3,3\n",
      "-0.02: 3,0\n",
      "-0.01: 1,1 > 2,2 > 3,2\n"
     ]
    }
   ],
   "source": [
    "ncosts_n, npaths_n = util.solve_pricing_problem_maxwaits(tug, rflows_n, rpaths_n,\n",
    "                                             node_counts_n, arc_counts_n, max_waits=2,\n",
    "                                             cover_duals=mvc_duals,\n",
    "                                             alpha=alpha, filter_paths=True, max_paths=10)\n",
    "print('FLOW: PATH')\n",
    "util.print_solution(tug, ncosts_n, npaths_n, sort='ascending')"
   ]
  },
  {
   "cell_type": "markdown",
   "metadata": {},
   "source": [
    "* Some paths (erroneously) have negative waits due to the use of finite precision\n",
    "* Our column generation code can handle this issue"
   ]
  },
  {
   "cell_type": "markdown",
   "metadata": {
    "slideshow": {
     "slide_type": "subslide"
    }
   },
   "source": [
    "## Column Generation with Maximum Waits\n",
    "\n",
    "**Finally, we can test the column generation code itself**"
   ]
  },
  {
   "cell_type": "code",
   "execution_count": 27,
   "metadata": {},
   "outputs": [
    {
     "name": "stdout",
     "output_type": "stream",
     "text": [
      "It.0, sse: 64.02, #paths: 27, new: 11\n",
      "It.1, sse: 28.59, #paths: 37, new: 10\n",
      "It.2, sse: 5.05, #paths: 48, new: 11\n",
      "It.3, sse: 3.59, #paths: 48, new: 0\n",
      "FLOW: PATH\n",
      "7.79: 3,3\n",
      "4.93: 2,1 > 3,0\n",
      "2.86: 1,1 > 2,0 > 3,1\n",
      "1.32: 3,0\n",
      "1.00: 2,3 > 3,3\n",
      "0.99: 1,3 > 2,3\n",
      "...\n",
      "RSSE: 1.89\n"
     ]
    }
   ],
   "source": [
    "rflows_cg, rpaths_cg = util.trajectory_extraction_cg(tug, node_counts_n, arc_counts_n,\n",
    "                                    alpha=alpha, min_vertex_cover=mvc, max_iter=30,\n",
    "                                    verbose=1, max_paths_per_iter=10, max_waits=2)\n",
    "print('FLOW: PATH')\n",
    "util.print_solution(tug, rflows_cg, rpaths_cg, sort='descending', max_paths=6)\n",
    "sse = util.get_reconstruction_error(tug, rflows_cg, rpaths_cg, node_counts_n, arc_counts_n)\n",
    "print(f'RSSE: {np.sqrt(sse):.2f}')"
   ]
  }
 ],
 "metadata": {
  "celltoolbar": "Slideshow",
  "kernelspec": {
   "display_name": "Python 3",
   "language": "python",
   "name": "python3"
  },
  "language_info": {
   "codemirror_mode": {
    "name": "ipython",
    "version": 3
   },
   "file_extension": ".py",
   "mimetype": "text/x-python",
   "name": "python",
   "nbconvert_exporter": "python",
   "pygments_lexer": "ipython3",
   "version": "3.6.9"
  },
  "rise": {
   "center": false,
   "transition": "fade"
  }
 },
 "nbformat": 4,
 "nbformat_minor": 4
}
