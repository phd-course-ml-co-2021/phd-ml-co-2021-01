{
 "cells": [
  {
   "cell_type": "code",
   "execution_count": 21,
   "metadata": {
    "slideshow": {
     "slide_type": "skip"
    }
   },
   "outputs": [
    {
     "name": "stdout",
     "output_type": "stream",
     "text": [
      "The autoreload extension is already loaded. To reload it, use:\n",
      "  %reload_ext autoreload\n"
     ]
    }
   ],
   "source": [
    "# ============================================================\n",
    "# Notebook setup: run this before everything\n",
    "# ============================================================\n",
    "\n",
    "%load_ext autoreload\n",
    "%autoreload 2\n",
    "\n",
    "# Control figure size\n",
    "interactive_figures = True\n",
    "if interactive_figures:\n",
    "    # Normal behavior\n",
    "    %matplotlib widget\n",
    "    figsize=(9, 3)\n",
    "else:\n",
    "    # PDF export behavior\n",
    "    figsize=(14, 5)\n",
    "\n",
    "#from matplotlib import pyplot as plt\n",
    "from util import util\n",
    "import igraph as ig\n",
    "import numpy as np\n",
    "\n",
    "# ============================================================\n",
    "# Repeat the relevant previous steps\n",
    "# ============================================================\n",
    "\n",
    "# Generate a graph\n",
    "g = util.build_website_graph(nnodes=4, rate=3, extra_arc_fraction=0.25, seed=42)\n",
    "# Route flows (ground truth)\n",
    "eoh = 4\n",
    "flows, paths = util.build_random_paths(g, min_paths=3, max_paths=5,\n",
    "                                          min_units=1, max_units=10, eoh=eoh, seed=10)\n",
    "# Unfold\n",
    "tug = util.build_time_unfolded_graph(g, eoh=eoh)\n",
    "# Compute counts\n",
    "node_counts, arc_counts = util.get_counts(tug, flows, paths)\n",
    "# Apply counts\n",
    "tugc = util.apply_weights(tug, node_counts, arc_counts)"
   ]
  },
  {
   "cell_type": "markdown",
   "metadata": {
    "slideshow": {
     "slide_type": "slide"
    }
   },
   "source": [
    "# Solving the Path Formulation\n",
    "\n",
    "Which will be our baseline"
   ]
  },
  {
   "cell_type": "markdown",
   "metadata": {
    "slideshow": {
     "slide_type": "subslide"
    }
   },
   "source": [
    "## Solving the Path Formulation\n",
    "\n",
    "**The path formulation consists in the Quadratic Program:**\n",
    "\n",
    "$$\n",
    "\\arg \\min_{x} \\left\\{\\frac{1}{2} x^T P x + q^T x \\mid x \\geq 0 \\right\\}\n",
    "$$\n",
    "\n",
    "Where $P = V^T V + E^T E$ and $q = -V^T \\hat{v} -E^T \\hat{e}$"
   ]
  },
  {
   "cell_type": "markdown",
   "metadata": {
    "slideshow": {
     "slide_type": "fragment"
    }
   },
   "source": [
    "**Therefore, if we want to solve the problem we need:**\n",
    "\n",
    "* The binary matrix $V$, s.t. $V_{ij} = 1$ iff node $i$ is in path $j$\n",
    "* The binary matrix $E$, s.t. $E_{kj} = 1$ iff arc $k$ is in path $j$\n",
    "* The vector $\\hat{v}$, containing the node counts\n",
    "* The vector $\\hat{e}$, containing the arc counts\n",
    "\n",
    "**In turn, to get these we need to define _a set of paths_ on the TUG**"
   ]
  },
  {
   "cell_type": "markdown",
   "metadata": {
    "slideshow": {
     "slide_type": "subslide"
    }
   },
   "source": [
    "## Path Enumeration\n",
    "\n",
    "**Unless we want to loose optimality, we need to consider _all the TUG paths_**\n",
    "\n",
    "First, we augment the Time Unfolded Graph with a _fake source node_"
   ]
  },
  {
   "cell_type": "code",
   "execution_count": 6,
   "metadata": {},
   "outputs": [
    {
     "data": {
      "image/svg+xml": [
       "<?xml version=\"1.0\" encoding=\"UTF-8\"?>\n",
       "<svg xmlns=\"http://www.w3.org/2000/svg\" xmlns:xlink=\"http://www.w3.org/1999/xlink\" width=\"700pt\" height=\"250pt\" viewBox=\"0 0 700 250\" version=\"1.1\">\n",
       "<defs>\n",
       "<g>\n",
       "<symbol overflow=\"visible\" id=\"glyph0-0\">\n",
       "<path style=\"stroke:none;\" d=\"M 0.5 1.765625 L 0.5 -7.046875 L 5.5 -7.046875 L 5.5 1.765625 Z M 1.0625 1.21875 L 4.9375 1.21875 L 4.9375 -6.484375 L 1.0625 -6.484375 Z M 1.0625 1.21875 \"/>\n",
       "</symbol>\n",
       "<symbol overflow=\"visible\" id=\"glyph0-1\">\n",
       "<path style=\"stroke:none;\" d=\"M 3.09375 -7.59375 C 2.664062 -6.84375 2.34375 -6.097656 2.125 -5.359375 C 1.914062 -4.628906 1.8125 -3.890625 1.8125 -3.140625 C 1.8125 -2.390625 1.914062 -1.644531 2.125 -0.90625 C 2.34375 -0.164062 2.664062 0.570312 3.09375 1.3125 L 2.3125 1.3125 C 1.832031 0.550781 1.46875 -0.195312 1.21875 -0.9375 C 0.976562 -1.675781 0.859375 -2.410156 0.859375 -3.140625 C 0.859375 -3.867188 0.976562 -4.597656 1.21875 -5.328125 C 1.457031 -6.066406 1.820312 -6.820312 2.3125 -7.59375 Z M 3.09375 -7.59375 \"/>\n",
       "</symbol>\n",
       "<symbol overflow=\"visible\" id=\"glyph0-2\">\n",
       "<path style=\"stroke:none;\" d=\"M 3.171875 -6.640625 C 2.671875 -6.640625 2.289062 -6.390625 2.03125 -5.890625 C 1.78125 -5.390625 1.65625 -4.640625 1.65625 -3.640625 C 1.65625 -2.640625 1.78125 -1.890625 2.03125 -1.390625 C 2.289062 -0.890625 2.671875 -0.640625 3.171875 -0.640625 C 3.691406 -0.640625 4.078125 -0.890625 4.328125 -1.390625 C 4.585938 -1.890625 4.71875 -2.640625 4.71875 -3.640625 C 4.71875 -4.640625 4.585938 -5.390625 4.328125 -5.890625 C 4.078125 -6.390625 3.691406 -6.640625 3.171875 -6.640625 Z M 3.171875 -7.421875 C 3.992188 -7.421875 4.617188 -7.097656 5.046875 -6.453125 C 5.484375 -5.804688 5.703125 -4.867188 5.703125 -3.640625 C 5.703125 -2.410156 5.484375 -1.472656 5.046875 -0.828125 C 4.617188 -0.179688 3.992188 0.140625 3.171875 0.140625 C 2.359375 0.140625 1.734375 -0.179688 1.296875 -0.828125 C 0.867188 -1.472656 0.65625 -2.410156 0.65625 -3.640625 C 0.65625 -4.867188 0.867188 -5.804688 1.296875 -6.453125 C 1.734375 -7.097656 2.359375 -7.421875 3.171875 -7.421875 Z M 3.171875 -7.421875 \"/>\n",
       "</symbol>\n",
       "<symbol overflow=\"visible\" id=\"glyph0-3\">\n",
       "<path style=\"stroke:none;\" d=\"M 1.171875 -1.234375 L 2.203125 -1.234375 L 2.203125 -0.40625 L 1.40625 1.15625 L 0.765625 1.15625 L 1.171875 -0.40625 Z M 1.171875 -1.234375 \"/>\n",
       "</symbol>\n",
       "<symbol overflow=\"visible\" id=\"glyph0-4\">\n",
       "<path style=\"stroke:none;\" d=\"\"/>\n",
       "</symbol>\n",
       "<symbol overflow=\"visible\" id=\"glyph0-5\">\n",
       "<path style=\"stroke:none;\" d=\"M 0.796875 -7.59375 L 1.578125 -7.59375 C 2.066406 -6.820312 2.429688 -6.066406 2.671875 -5.328125 C 2.921875 -4.597656 3.046875 -3.867188 3.046875 -3.140625 C 3.046875 -2.410156 2.921875 -1.675781 2.671875 -0.9375 C 2.429688 -0.195312 2.066406 0.550781 1.578125 1.3125 L 0.796875 1.3125 C 1.234375 0.570312 1.554688 -0.164062 1.765625 -0.90625 C 1.984375 -1.644531 2.09375 -2.390625 2.09375 -3.140625 C 2.09375 -3.890625 1.984375 -4.628906 1.765625 -5.359375 C 1.554688 -6.097656 1.234375 -6.84375 0.796875 -7.59375 Z M 0.796875 -7.59375 \"/>\n",
       "</symbol>\n",
       "<symbol overflow=\"visible\" id=\"glyph0-6\">\n",
       "<path style=\"stroke:none;\" d=\"M 1.234375 -0.828125 L 2.859375 -0.828125 L 2.859375 -6.390625 L 1.09375 -6.046875 L 1.09375 -6.9375 L 2.84375 -7.296875 L 3.828125 -7.296875 L 3.828125 -0.828125 L 5.4375 -0.828125 L 5.4375 0 L 1.234375 0 Z M 1.234375 -0.828125 \"/>\n",
       "</symbol>\n",
       "<symbol overflow=\"visible\" id=\"glyph0-7\">\n",
       "<path style=\"stroke:none;\" d=\"M 1.921875 -0.828125 L 5.359375 -0.828125 L 5.359375 0 L 0.734375 0 L 0.734375 -0.828125 C 1.109375 -1.210938 1.617188 -1.734375 2.265625 -2.390625 C 2.910156 -3.046875 3.316406 -3.46875 3.484375 -3.65625 C 3.796875 -4.007812 4.015625 -4.304688 4.140625 -4.546875 C 4.265625 -4.796875 4.328125 -5.039062 4.328125 -5.28125 C 4.328125 -5.664062 4.191406 -5.976562 3.921875 -6.21875 C 3.648438 -6.46875 3.296875 -6.59375 2.859375 -6.59375 C 2.546875 -6.59375 2.21875 -6.535156 1.875 -6.421875 C 1.539062 -6.316406 1.175781 -6.15625 0.78125 -5.9375 L 0.78125 -6.9375 C 1.175781 -7.09375 1.546875 -7.210938 1.890625 -7.296875 C 2.234375 -7.378906 2.550781 -7.421875 2.84375 -7.421875 C 3.59375 -7.421875 4.191406 -7.234375 4.640625 -6.859375 C 5.097656 -6.484375 5.328125 -5.976562 5.328125 -5.34375 C 5.328125 -5.039062 5.269531 -4.753906 5.15625 -4.484375 C 5.039062 -4.222656 4.835938 -3.910156 4.546875 -3.546875 C 4.460938 -3.453125 4.203125 -3.175781 3.765625 -2.71875 C 3.328125 -2.269531 2.710938 -1.640625 1.921875 -0.828125 Z M 1.921875 -0.828125 \"/>\n",
       "</symbol>\n",
       "<symbol overflow=\"visible\" id=\"glyph0-8\">\n",
       "<path style=\"stroke:none;\" d=\"M 4.0625 -3.9375 C 4.53125 -3.832031 4.894531 -3.617188 5.15625 -3.296875 C 5.425781 -2.984375 5.5625 -2.59375 5.5625 -2.125 C 5.5625 -1.40625 5.3125 -0.847656 4.8125 -0.453125 C 4.320312 -0.0546875 3.617188 0.140625 2.703125 0.140625 C 2.398438 0.140625 2.085938 0.109375 1.765625 0.046875 C 1.441406 -0.015625 1.109375 -0.101562 0.765625 -0.21875 L 0.765625 -1.171875 C 1.035156 -1.015625 1.332031 -0.894531 1.65625 -0.8125 C 1.988281 -0.726562 2.332031 -0.6875 2.6875 -0.6875 C 3.300781 -0.6875 3.769531 -0.804688 4.09375 -1.046875 C 4.414062 -1.296875 4.578125 -1.65625 4.578125 -2.125 C 4.578125 -2.550781 4.425781 -2.882812 4.125 -3.125 C 3.820312 -3.363281 3.40625 -3.484375 2.875 -3.484375 L 2.015625 -3.484375 L 2.015625 -4.296875 L 2.90625 -4.296875 C 3.394531 -4.296875 3.765625 -4.394531 4.015625 -4.59375 C 4.273438 -4.789062 4.40625 -5.070312 4.40625 -5.4375 C 4.40625 -5.800781 4.269531 -6.082031 4 -6.28125 C 3.738281 -6.488281 3.363281 -6.59375 2.875 -6.59375 C 2.601562 -6.59375 2.3125 -6.5625 2 -6.5 C 1.6875 -6.445312 1.347656 -6.359375 0.984375 -6.234375 L 0.984375 -7.109375 C 1.359375 -7.210938 1.707031 -7.289062 2.03125 -7.34375 C 2.363281 -7.394531 2.671875 -7.421875 2.953125 -7.421875 C 3.703125 -7.421875 4.296875 -7.25 4.734375 -6.90625 C 5.171875 -6.570312 5.390625 -6.113281 5.390625 -5.53125 C 5.390625 -5.125 5.273438 -4.78125 5.046875 -4.5 C 4.816406 -4.226562 4.488281 -4.039062 4.0625 -3.9375 Z M 4.0625 -3.9375 \"/>\n",
       "</symbol>\n",
       "<symbol overflow=\"visible\" id=\"glyph0-9\">\n",
       "<path style=\"stroke:none;\" d=\"M 0.484375 -3.140625 L 3.125 -3.140625 L 3.125 -2.34375 L 0.484375 -2.34375 Z M 0.484375 -3.140625 \"/>\n",
       "</symbol>\n",
       "</g>\n",
       "</defs>\n",
       "<g id=\"surface8\">\n",
       "<rect x=\"0\" y=\"0\" width=\"700\" height=\"250\" style=\"fill:rgb(100%,100%,100%);fill-opacity:1;stroke:none;\"/>\n",
       "<path style=\"fill:none;stroke-width:1;stroke-linecap:butt;stroke-linejoin:miter;stroke:rgb(73.333333%,73.333333%,73.333333%);stroke-opacity:1;stroke-miterlimit:10;\" d=\"M 200 50 L 320.734375 50 \"/>\n",
       "<path style=\" stroke:none;fill-rule:nonzero;fill:rgb(73.333333%,73.333333%,73.333333%);fill-opacity:1;\" d=\"M 335 50 L 320.734375 54.636719 L 320.734375 45.363281 L 335 50 \"/>\n",
       "<path style=\"fill:none;stroke-width:1;stroke-linecap:butt;stroke-linejoin:miter;stroke:rgb(73.333333%,73.333333%,73.333333%);stroke-opacity:1;stroke-miterlimit:10;\" d=\"M 200 50 L 322.234375 90.746094 \"/>\n",
       "<path style=\" stroke:none;fill-rule:nonzero;fill:rgb(73.333333%,73.333333%,73.333333%);fill-opacity:1;\" d=\"M 335.769531 95.257812 L 320.769531 95.144531 L 323.703125 86.347656 L 335.769531 95.257812 \"/>\n",
       "<path style=\"fill:none;stroke-width:5;stroke-linecap:butt;stroke-linejoin:miter;stroke:rgb(0%,0%,0%);stroke-opacity:1;stroke-miterlimit:10;\" d=\"M 200 100 L 320.734375 100 \"/>\n",
       "<path style=\" stroke:none;fill-rule:nonzero;fill:rgb(0%,0%,0%);fill-opacity:1;\" d=\"M 335 100 L 320.734375 104.636719 L 320.734375 95.363281 L 335 100 \"/>\n",
       "<path style=\"fill:none;stroke-width:1;stroke-linecap:butt;stroke-linejoin:miter;stroke:rgb(73.333333%,73.333333%,73.333333%);stroke-opacity:1;stroke-miterlimit:10;\" d=\"M 200 50 L 325.648438 133.765625 \"/>\n",
       "<path style=\" stroke:none;fill-rule:nonzero;fill:rgb(73.333333%,73.333333%,73.333333%);fill-opacity:1;\" d=\"M 337.519531 141.679688 L 323.078125 137.621094 L 328.21875 129.910156 L 337.519531 141.679688 \"/>\n",
       "<path style=\"fill:none;stroke-width:1;stroke-linecap:butt;stroke-linejoin:miter;stroke:rgb(73.333333%,73.333333%,73.333333%);stroke-opacity:1;stroke-miterlimit:10;\" d=\"M 200 150 L 320.734375 150 \"/>\n",
       "<path style=\" stroke:none;fill-rule:nonzero;fill:rgb(73.333333%,73.333333%,73.333333%);fill-opacity:1;\" d=\"M 335 150 L 320.734375 154.636719 L 320.734375 145.363281 L 335 150 \"/>\n",
       "<path style=\"fill:none;stroke-width:1;stroke-linecap:butt;stroke-linejoin:miter;stroke:rgb(73.333333%,73.333333%,73.333333%);stroke-opacity:1;stroke-miterlimit:10;\" d=\"M 200 50 L 329.304688 179.304688 \"/>\n",
       "<path style=\" stroke:none;fill-rule:nonzero;fill:rgb(73.333333%,73.333333%,73.333333%);fill-opacity:1;\" d=\"M 339.394531 189.394531 L 326.027344 182.582031 L 332.582031 176.027344 L 339.394531 189.394531 \"/>\n",
       "<path style=\"fill:none;stroke-width:1;stroke-linecap:butt;stroke-linejoin:miter;stroke:rgb(73.333333%,73.333333%,73.333333%);stroke-opacity:1;stroke-miterlimit:10;\" d=\"M 200 200 L 320.734375 200 \"/>\n",
       "<path style=\" stroke:none;fill-rule:nonzero;fill:rgb(73.333333%,73.333333%,73.333333%);fill-opacity:1;\" d=\"M 335 200 L 320.734375 204.636719 L 320.734375 195.363281 L 335 200 \"/>\n",
       "<path style=\"fill:none;stroke-width:1;stroke-linecap:butt;stroke-linejoin:miter;stroke:rgb(73.333333%,73.333333%,73.333333%);stroke-opacity:1;stroke-miterlimit:10;\" d=\"M 200 100 L 322.234375 59.253906 \"/>\n",
       "<path style=\" stroke:none;fill-rule:nonzero;fill:rgb(73.333333%,73.333333%,73.333333%);fill-opacity:1;\" d=\"M 335.769531 54.742188 L 323.703125 63.652344 L 320.769531 54.855469 L 335.769531 54.742188 \"/>\n",
       "<path style=\"fill:none;stroke-width:1.125001;stroke-linecap:butt;stroke-linejoin:miter;stroke:rgb(0%,0%,0%);stroke-opacity:1;stroke-miterlimit:10;\" d=\"M 200 100 L 322.234375 140.746094 \"/>\n",
       "<path style=\" stroke:none;fill-rule:nonzero;fill:rgb(0%,0%,0%);fill-opacity:1;\" d=\"M 335.769531 145.257812 L 320.769531 145.144531 L 323.703125 136.347656 L 335.769531 145.257812 \"/>\n",
       "<path style=\"fill:none;stroke-width:2.313203;stroke-linecap:butt;stroke-linejoin:miter;stroke:rgb(0%,0%,0%);stroke-opacity:1;stroke-miterlimit:10;\" d=\"M 350 50 L 470.734375 50 \"/>\n",
       "<path style=\" stroke:none;fill-rule:nonzero;fill:rgb(0%,0%,0%);fill-opacity:1;\" d=\"M 485 50 L 470.734375 54.636719 L 470.734375 45.363281 L 485 50 \"/>\n",
       "<path style=\"fill:none;stroke-width:1;stroke-linecap:butt;stroke-linejoin:miter;stroke:rgb(73.333333%,73.333333%,73.333333%);stroke-opacity:1;stroke-miterlimit:10;\" d=\"M 350 50 L 472.234375 90.746094 \"/>\n",
       "<path style=\" stroke:none;fill-rule:nonzero;fill:rgb(73.333333%,73.333333%,73.333333%);fill-opacity:1;\" d=\"M 485.769531 95.257812 L 470.769531 95.144531 L 473.703125 86.347656 L 485.769531 95.257812 \"/>\n",
       "<path style=\"fill:none;stroke-width:1;stroke-linecap:butt;stroke-linejoin:miter;stroke:rgb(73.333333%,73.333333%,73.333333%);stroke-opacity:1;stroke-miterlimit:10;\" d=\"M 350 100 L 470.734375 100 \"/>\n",
       "<path style=\" stroke:none;fill-rule:nonzero;fill:rgb(73.333333%,73.333333%,73.333333%);fill-opacity:1;\" d=\"M 485 100 L 470.734375 104.636719 L 470.734375 95.363281 L 485 100 \"/>\n",
       "<path style=\"fill:none;stroke-width:1;stroke-linecap:butt;stroke-linejoin:miter;stroke:rgb(73.333333%,73.333333%,73.333333%);stroke-opacity:1;stroke-miterlimit:10;\" d=\"M 350 50 L 475.648438 133.765625 \"/>\n",
       "<path style=\" stroke:none;fill-rule:nonzero;fill:rgb(73.333333%,73.333333%,73.333333%);fill-opacity:1;\" d=\"M 487.519531 141.679688 L 473.078125 137.621094 L 478.21875 129.910156 L 487.519531 141.679688 \"/>\n",
       "<path style=\"fill:none;stroke-width:1.125001;stroke-linecap:butt;stroke-linejoin:miter;stroke:rgb(0%,0%,0%);stroke-opacity:1;stroke-miterlimit:10;\" d=\"M 350 150 L 470.734375 150 \"/>\n",
       "<path style=\" stroke:none;fill-rule:nonzero;fill:rgb(0%,0%,0%);fill-opacity:1;\" d=\"M 485 150 L 470.734375 154.636719 L 470.734375 145.363281 L 485 150 \"/>\n",
       "<path style=\"fill:none;stroke-width:1;stroke-linecap:butt;stroke-linejoin:miter;stroke:rgb(73.333333%,73.333333%,73.333333%);stroke-opacity:1;stroke-miterlimit:10;\" d=\"M 350 50 L 479.304688 179.304688 \"/>\n",
       "<path style=\" stroke:none;fill-rule:nonzero;fill:rgb(73.333333%,73.333333%,73.333333%);fill-opacity:1;\" d=\"M 489.394531 189.394531 L 476.027344 182.582031 L 482.582031 176.027344 L 489.394531 189.394531 \"/>\n",
       "<path style=\"fill:none;stroke-width:1;stroke-linecap:butt;stroke-linejoin:miter;stroke:rgb(73.333333%,73.333333%,73.333333%);stroke-opacity:1;stroke-miterlimit:10;\" d=\"M 350 200 L 470.734375 200 \"/>\n",
       "<path style=\" stroke:none;fill-rule:nonzero;fill:rgb(73.333333%,73.333333%,73.333333%);fill-opacity:1;\" d=\"M 485 200 L 470.734375 204.636719 L 470.734375 195.363281 L 485 200 \"/>\n",
       "<path style=\"fill:none;stroke-width:5;stroke-linecap:butt;stroke-linejoin:miter;stroke:rgb(0%,0%,0%);stroke-opacity:1;stroke-miterlimit:10;\" d=\"M 350 100 L 472.234375 59.253906 \"/>\n",
       "<path style=\" stroke:none;fill-rule:nonzero;fill:rgb(0%,0%,0%);fill-opacity:1;\" d=\"M 485.769531 54.742188 L 473.703125 63.652344 L 470.769531 54.855469 L 485.769531 54.742188 \"/>\n",
       "<path style=\"fill:none;stroke-width:1;stroke-linecap:butt;stroke-linejoin:miter;stroke:rgb(73.333333%,73.333333%,73.333333%);stroke-opacity:1;stroke-miterlimit:10;\" d=\"M 350 100 L 472.234375 140.746094 \"/>\n",
       "<path style=\" stroke:none;fill-rule:nonzero;fill:rgb(73.333333%,73.333333%,73.333333%);fill-opacity:1;\" d=\"M 485.769531 145.257812 L 470.769531 145.144531 L 473.703125 136.347656 L 485.769531 145.257812 \"/>\n",
       "<path style=\"fill:none;stroke-width:1;stroke-linecap:butt;stroke-linejoin:miter;stroke:rgb(73.333333%,73.333333%,73.333333%);stroke-opacity:1;stroke-miterlimit:10;\" d=\"M 500 50 L 620.734375 50 \"/>\n",
       "<path style=\" stroke:none;fill-rule:nonzero;fill:rgb(73.333333%,73.333333%,73.333333%);fill-opacity:1;\" d=\"M 635 50 L 620.734375 54.636719 L 620.734375 45.363281 L 635 50 \"/>\n",
       "<path style=\"fill:none;stroke-width:5;stroke-linecap:butt;stroke-linejoin:miter;stroke:rgb(0%,0%,0%);stroke-opacity:1;stroke-miterlimit:10;\" d=\"M 500 50 L 622.234375 90.746094 \"/>\n",
       "<path style=\" stroke:none;fill-rule:nonzero;fill:rgb(0%,0%,0%);fill-opacity:1;\" d=\"M 635.769531 95.257812 L 620.769531 95.144531 L 623.703125 86.347656 L 635.769531 95.257812 \"/>\n",
       "<path style=\"fill:none;stroke-width:1;stroke-linecap:butt;stroke-linejoin:miter;stroke:rgb(73.333333%,73.333333%,73.333333%);stroke-opacity:1;stroke-miterlimit:10;\" d=\"M 500 100 L 620.734375 100 \"/>\n",
       "<path style=\" stroke:none;fill-rule:nonzero;fill:rgb(73.333333%,73.333333%,73.333333%);fill-opacity:1;\" d=\"M 635 100 L 620.734375 104.636719 L 620.734375 95.363281 L 635 100 \"/>\n",
       "<path style=\"fill:none;stroke-width:2.313203;stroke-linecap:butt;stroke-linejoin:miter;stroke:rgb(0%,0%,0%);stroke-opacity:1;stroke-miterlimit:10;\" d=\"M 500 50 L 625.648438 133.765625 \"/>\n",
       "<path style=\" stroke:none;fill-rule:nonzero;fill:rgb(0%,0%,0%);fill-opacity:1;\" d=\"M 637.519531 141.679688 L 623.078125 137.621094 L 628.21875 129.910156 L 637.519531 141.679688 \"/>\n",
       "<path style=\"fill:none;stroke-width:1.125001;stroke-linecap:butt;stroke-linejoin:miter;stroke:rgb(0%,0%,0%);stroke-opacity:1;stroke-miterlimit:10;\" d=\"M 500 150 L 620.734375 150 \"/>\n",
       "<path style=\" stroke:none;fill-rule:nonzero;fill:rgb(0%,0%,0%);fill-opacity:1;\" d=\"M 635 150 L 620.734375 154.636719 L 620.734375 145.363281 L 635 150 \"/>\n",
       "<path style=\"fill:none;stroke-width:1;stroke-linecap:butt;stroke-linejoin:miter;stroke:rgb(73.333333%,73.333333%,73.333333%);stroke-opacity:1;stroke-miterlimit:10;\" d=\"M 500 50 L 629.304688 179.304688 \"/>\n",
       "<path style=\" stroke:none;fill-rule:nonzero;fill:rgb(73.333333%,73.333333%,73.333333%);fill-opacity:1;\" d=\"M 639.394531 189.394531 L 626.027344 182.582031 L 632.582031 176.027344 L 639.394531 189.394531 \"/>\n",
       "<path style=\"fill:none;stroke-width:1;stroke-linecap:butt;stroke-linejoin:miter;stroke:rgb(73.333333%,73.333333%,73.333333%);stroke-opacity:1;stroke-miterlimit:10;\" d=\"M 500 200 L 620.734375 200 \"/>\n",
       "<path style=\" stroke:none;fill-rule:nonzero;fill:rgb(73.333333%,73.333333%,73.333333%);fill-opacity:1;\" d=\"M 635 200 L 620.734375 204.636719 L 620.734375 195.363281 L 635 200 \"/>\n",
       "<path style=\"fill:none;stroke-width:1;stroke-linecap:butt;stroke-linejoin:miter;stroke:rgb(73.333333%,73.333333%,73.333333%);stroke-opacity:1;stroke-miterlimit:10;\" d=\"M 500 100 L 622.234375 59.253906 \"/>\n",
       "<path style=\" stroke:none;fill-rule:nonzero;fill:rgb(73.333333%,73.333333%,73.333333%);fill-opacity:1;\" d=\"M 635.769531 54.742188 L 623.703125 63.652344 L 620.769531 54.855469 L 635.769531 54.742188 \"/>\n",
       "<path style=\"fill:none;stroke-width:1;stroke-linecap:butt;stroke-linejoin:miter;stroke:rgb(73.333333%,73.333333%,73.333333%);stroke-opacity:1;stroke-miterlimit:10;\" d=\"M 500 100 L 622.234375 140.746094 \"/>\n",
       "<path style=\" stroke:none;fill-rule:nonzero;fill:rgb(73.333333%,73.333333%,73.333333%);fill-opacity:1;\" d=\"M 635.769531 145.257812 L 620.769531 145.144531 L 623.703125 136.347656 L 635.769531 145.257812 \"/>\n",
       "<path style=\"fill:none;stroke-width:1;stroke-linecap:butt;stroke-linejoin:miter;stroke:rgb(73.333333%,73.333333%,73.333333%);stroke-opacity:1;stroke-miterlimit:10;\" d=\"M 50 125 L 173.824219 63.089844 \"/>\n",
       "<path style=\" stroke:none;fill-rule:nonzero;fill:rgb(73.333333%,73.333333%,73.333333%);fill-opacity:1;\" d=\"M 186.582031 56.707031 L 175.898438 67.234375 L 171.75 58.941406 L 186.582031 56.707031 \"/>\n",
       "<path style=\"fill:none;stroke-width:1;stroke-linecap:butt;stroke-linejoin:miter;stroke:rgb(73.333333%,73.333333%,73.333333%);stroke-opacity:1;stroke-miterlimit:10;\" d=\"M 50 125 L 171.132812 104.8125 \"/>\n",
       "<path style=\" stroke:none;fill-rule:nonzero;fill:rgb(73.333333%,73.333333%,73.333333%);fill-opacity:1;\" d=\"M 185.203125 102.464844 L 171.894531 109.382812 L 170.371094 100.238281 L 185.203125 102.464844 \"/>\n",
       "<path style=\"fill:none;stroke-width:1;stroke-linecap:butt;stroke-linejoin:miter;stroke:rgb(73.333333%,73.333333%,73.333333%);stroke-opacity:1;stroke-miterlimit:10;\" d=\"M 50 125 L 171.132812 145.1875 \"/>\n",
       "<path style=\" stroke:none;fill-rule:nonzero;fill:rgb(73.333333%,73.333333%,73.333333%);fill-opacity:1;\" d=\"M 185.203125 147.535156 L 170.371094 149.761719 L 171.894531 140.617188 L 185.203125 147.535156 \"/>\n",
       "<path style=\"fill:none;stroke-width:1;stroke-linecap:butt;stroke-linejoin:miter;stroke:rgb(73.333333%,73.333333%,73.333333%);stroke-opacity:1;stroke-miterlimit:10;\" d=\"M 50 125 L 173.824219 186.910156 \"/>\n",
       "<path style=\" stroke:none;fill-rule:nonzero;fill:rgb(73.333333%,73.333333%,73.333333%);fill-opacity:1;\" d=\"M 186.582031 193.292969 L 171.75 191.058594 L 175.898438 182.765625 L 186.582031 193.292969 \"/>\n",
       "<path style=\"fill:none;stroke-width:1;stroke-linecap:butt;stroke-linejoin:miter;stroke:rgb(73.333333%,73.333333%,73.333333%);stroke-opacity:1;stroke-miterlimit:10;\" d=\"M 50 125 L 321.609375 57.097656 \"/>\n",
       "<path style=\" stroke:none;fill-rule:nonzero;fill:rgb(73.333333%,73.333333%,73.333333%);fill-opacity:1;\" d=\"M 335.449219 53.636719 L 322.730469 61.59375 L 320.484375 52.601562 L 335.449219 53.636719 \"/>\n",
       "<path style=\"fill:none;stroke-width:1;stroke-linecap:butt;stroke-linejoin:miter;stroke:rgb(73.333333%,73.333333%,73.333333%);stroke-opacity:1;stroke-miterlimit:10;\" d=\"M 50 125 L 320.835938 102.429688 \"/>\n",
       "<path style=\" stroke:none;fill-rule:nonzero;fill:rgb(73.333333%,73.333333%,73.333333%);fill-opacity:1;\" d=\"M 335.050781 101.246094 L 321.21875 107.050781 L 320.449219 97.8125 L 335.050781 101.246094 \"/>\n",
       "<path style=\"fill:none;stroke-width:1;stroke-linecap:butt;stroke-linejoin:miter;stroke:rgb(73.333333%,73.333333%,73.333333%);stroke-opacity:1;stroke-miterlimit:10;\" d=\"M 50 125 L 320.835938 147.570312 \"/>\n",
       "<path style=\" stroke:none;fill-rule:nonzero;fill:rgb(73.333333%,73.333333%,73.333333%);fill-opacity:1;\" d=\"M 335.050781 148.753906 L 320.449219 152.1875 L 321.21875 142.949219 L 335.050781 148.753906 \"/>\n",
       "<path style=\"fill:none;stroke-width:1;stroke-linecap:butt;stroke-linejoin:miter;stroke:rgb(73.333333%,73.333333%,73.333333%);stroke-opacity:1;stroke-miterlimit:10;\" d=\"M 50 125 L 321.609375 192.902344 \"/>\n",
       "<path style=\" stroke:none;fill-rule:nonzero;fill:rgb(73.333333%,73.333333%,73.333333%);fill-opacity:1;\" d=\"M 335.449219 196.363281 L 320.484375 197.398438 L 322.730469 188.40625 L 335.449219 196.363281 \"/>\n",
       "<path style=\"fill:none;stroke-width:1;stroke-linecap:butt;stroke-linejoin:miter;stroke:rgb(73.333333%,73.333333%,73.333333%);stroke-opacity:1;stroke-miterlimit:10;\" d=\"M 50 125 L 471.132812 54.8125 \"/>\n",
       "<path style=\" stroke:none;fill-rule:nonzero;fill:rgb(73.333333%,73.333333%,73.333333%);fill-opacity:1;\" d=\"M 485.203125 52.464844 L 471.894531 59.382812 L 470.371094 50.238281 L 485.203125 52.464844 \"/>\n",
       "<path style=\"fill:none;stroke-width:1;stroke-linecap:butt;stroke-linejoin:miter;stroke:rgb(73.333333%,73.333333%,73.333333%);stroke-opacity:1;stroke-miterlimit:10;\" d=\"M 50 125 L 470.777344 101.625 \"/>\n",
       "<path style=\" stroke:none;fill-rule:nonzero;fill:rgb(73.333333%,73.333333%,73.333333%);fill-opacity:1;\" d=\"M 485.023438 100.832031 L 471.035156 106.25 L 470.523438 96.996094 L 485.023438 100.832031 \"/>\n",
       "<path style=\"fill:none;stroke-width:1;stroke-linecap:butt;stroke-linejoin:miter;stroke:rgb(73.333333%,73.333333%,73.333333%);stroke-opacity:1;stroke-miterlimit:10;\" d=\"M 50 125 L 470.777344 148.375 \"/>\n",
       "<path style=\" stroke:none;fill-rule:nonzero;fill:rgb(73.333333%,73.333333%,73.333333%);fill-opacity:1;\" d=\"M 485.023438 149.167969 L 470.523438 153.003906 L 471.035156 143.75 L 485.023438 149.167969 \"/>\n",
       "<path style=\"fill:none;stroke-width:1;stroke-linecap:butt;stroke-linejoin:miter;stroke:rgb(73.333333%,73.333333%,73.333333%);stroke-opacity:1;stroke-miterlimit:10;\" d=\"M 50 125 L 471.132812 195.1875 \"/>\n",
       "<path style=\" stroke:none;fill-rule:nonzero;fill:rgb(73.333333%,73.333333%,73.333333%);fill-opacity:1;\" d=\"M 485.203125 197.535156 L 470.371094 199.761719 L 471.894531 190.617188 L 485.203125 197.535156 \"/>\n",
       "<path style=\"fill:none;stroke-width:1;stroke-linecap:butt;stroke-linejoin:miter;stroke:rgb(73.333333%,73.333333%,73.333333%);stroke-opacity:1;stroke-miterlimit:10;\" d=\"M 50 125 L 620.960938 53.628906 \"/>\n",
       "<path style=\" stroke:none;fill-rule:nonzero;fill:rgb(73.333333%,73.333333%,73.333333%);fill-opacity:1;\" d=\"M 635.117188 51.859375 L 621.535156 58.230469 L 620.386719 49.03125 L 635.117188 51.859375 \"/>\n",
       "<path style=\"fill:none;stroke-width:1;stroke-linecap:butt;stroke-linejoin:miter;stroke:rgb(73.333333%,73.333333%,73.333333%);stroke-opacity:1;stroke-miterlimit:10;\" d=\"M 50 125 L 620.757812 101.21875 \"/>\n",
       "<path style=\" stroke:none;fill-rule:nonzero;fill:rgb(73.333333%,73.333333%,73.333333%);fill-opacity:1;\" d=\"M 635.011719 100.625 L 620.953125 105.847656 L 620.566406 96.585938 L 635.011719 100.625 \"/>\n",
       "<path style=\"fill:none;stroke-width:1;stroke-linecap:butt;stroke-linejoin:miter;stroke:rgb(73.333333%,73.333333%,73.333333%);stroke-opacity:1;stroke-miterlimit:10;\" d=\"M 50 125 L 620.757812 148.78125 \"/>\n",
       "<path style=\" stroke:none;fill-rule:nonzero;fill:rgb(73.333333%,73.333333%,73.333333%);fill-opacity:1;\" d=\"M 635.011719 149.375 L 620.566406 153.414062 L 620.953125 144.152344 L 635.011719 149.375 \"/>\n",
       "<path style=\"fill:none;stroke-width:1;stroke-linecap:butt;stroke-linejoin:miter;stroke:rgb(73.333333%,73.333333%,73.333333%);stroke-opacity:1;stroke-miterlimit:10;\" d=\"M 50 125 L 620.960938 196.371094 \"/>\n",
       "<path style=\" stroke:none;fill-rule:nonzero;fill:rgb(73.333333%,73.333333%,73.333333%);fill-opacity:1;\" d=\"M 635.117188 198.140625 L 620.386719 200.96875 L 621.535156 191.769531 L 635.117188 198.140625 \"/>\n",
       "<path style=\"fill-rule:nonzero;fill:rgb(55.294118%,82.745098%,78.039216%);fill-opacity:1;stroke-width:1;stroke-linecap:butt;stroke-linejoin:miter;stroke:rgb(0%,0%,0%);stroke-opacity:1;stroke-miterlimit:10;\" d=\"M 215 50 C 215 58.285156 208.285156 65 200 65 C 191.714844 65 185 58.285156 185 50 C 185 41.714844 191.714844 35 200 35 C 208.285156 35 215 41.714844 215 50 \"/>\n",
       "<path style=\"fill-rule:nonzero;fill:rgb(100%,100%,70.196078%);fill-opacity:1;stroke-width:1;stroke-linecap:butt;stroke-linejoin:miter;stroke:rgb(0%,0%,0%);stroke-opacity:1;stroke-miterlimit:10;\" d=\"M 215 100 C 215 108.285156 208.285156 115 200 115 C 191.714844 115 185 108.285156 185 100 C 185 91.714844 191.714844 85 200 85 C 208.285156 85 215 91.714844 215 100 \"/>\n",
       "<path style=\"fill-rule:nonzero;fill:rgb(74.509804%,72.941176%,85.490196%);fill-opacity:1;stroke-width:1;stroke-linecap:butt;stroke-linejoin:miter;stroke:rgb(0%,0%,0%);stroke-opacity:1;stroke-miterlimit:10;\" d=\"M 215 150 C 215 158.285156 208.285156 165 200 165 C 191.714844 165 185 158.285156 185 150 C 185 141.714844 191.714844 135 200 135 C 208.285156 135 215 141.714844 215 150 \"/>\n",
       "<path style=\"fill-rule:nonzero;fill:rgb(98.431373%,50.196078%,44.705882%);fill-opacity:1;stroke-width:1;stroke-linecap:butt;stroke-linejoin:miter;stroke:rgb(0%,0%,0%);stroke-opacity:1;stroke-miterlimit:10;\" d=\"M 215 200 C 215 208.285156 208.285156 215 200 215 C 191.714844 215 185 208.285156 185 200 C 185 191.714844 191.714844 185 200 185 C 208.285156 185 215 191.714844 215 200 \"/>\n",
       "<path style=\"fill-rule:nonzero;fill:rgb(55.294118%,82.745098%,78.039216%);fill-opacity:1;stroke-width:1;stroke-linecap:butt;stroke-linejoin:miter;stroke:rgb(0%,0%,0%);stroke-opacity:1;stroke-miterlimit:10;\" d=\"M 365 50 C 365 58.285156 358.285156 65 350 65 C 341.714844 65 335 58.285156 335 50 C 335 41.714844 341.714844 35 350 35 C 358.285156 35 365 41.714844 365 50 \"/>\n",
       "<path style=\"fill-rule:nonzero;fill:rgb(100%,100%,70.196078%);fill-opacity:1;stroke-width:1;stroke-linecap:butt;stroke-linejoin:miter;stroke:rgb(0%,0%,0%);stroke-opacity:1;stroke-miterlimit:10;\" d=\"M 365 100 C 365 108.285156 358.285156 115 350 115 C 341.714844 115 335 108.285156 335 100 C 335 91.714844 341.714844 85 350 85 C 358.285156 85 365 91.714844 365 100 \"/>\n",
       "<path style=\"fill-rule:nonzero;fill:rgb(74.509804%,72.941176%,85.490196%);fill-opacity:1;stroke-width:1;stroke-linecap:butt;stroke-linejoin:miter;stroke:rgb(0%,0%,0%);stroke-opacity:1;stroke-miterlimit:10;\" d=\"M 365 150 C 365 158.285156 358.285156 165 350 165 C 341.714844 165 335 158.285156 335 150 C 335 141.714844 341.714844 135 350 135 C 358.285156 135 365 141.714844 365 150 \"/>\n",
       "<path style=\"fill-rule:nonzero;fill:rgb(98.431373%,50.196078%,44.705882%);fill-opacity:1;stroke-width:1;stroke-linecap:butt;stroke-linejoin:miter;stroke:rgb(0%,0%,0%);stroke-opacity:1;stroke-miterlimit:10;\" d=\"M 365 200 C 365 208.285156 358.285156 215 350 215 C 341.714844 215 335 208.285156 335 200 C 335 191.714844 341.714844 185 350 185 C 358.285156 185 365 191.714844 365 200 \"/>\n",
       "<path style=\"fill-rule:nonzero;fill:rgb(55.294118%,82.745098%,78.039216%);fill-opacity:1;stroke-width:1;stroke-linecap:butt;stroke-linejoin:miter;stroke:rgb(0%,0%,0%);stroke-opacity:1;stroke-miterlimit:10;\" d=\"M 515 50 C 515 58.285156 508.285156 65 500 65 C 491.714844 65 485 58.285156 485 50 C 485 41.714844 491.714844 35 500 35 C 508.285156 35 515 41.714844 515 50 \"/>\n",
       "<path style=\"fill-rule:nonzero;fill:rgb(100%,100%,70.196078%);fill-opacity:1;stroke-width:1;stroke-linecap:butt;stroke-linejoin:miter;stroke:rgb(0%,0%,0%);stroke-opacity:1;stroke-miterlimit:10;\" d=\"M 515 100 C 515 108.285156 508.285156 115 500 115 C 491.714844 115 485 108.285156 485 100 C 485 91.714844 491.714844 85 500 85 C 508.285156 85 515 91.714844 515 100 \"/>\n",
       "<path style=\"fill-rule:nonzero;fill:rgb(74.509804%,72.941176%,85.490196%);fill-opacity:1;stroke-width:1;stroke-linecap:butt;stroke-linejoin:miter;stroke:rgb(0%,0%,0%);stroke-opacity:1;stroke-miterlimit:10;\" d=\"M 515 150 C 515 158.285156 508.285156 165 500 165 C 491.714844 165 485 158.285156 485 150 C 485 141.714844 491.714844 135 500 135 C 508.285156 135 515 141.714844 515 150 \"/>\n",
       "<path style=\"fill-rule:nonzero;fill:rgb(98.431373%,50.196078%,44.705882%);fill-opacity:1;stroke-width:1;stroke-linecap:butt;stroke-linejoin:miter;stroke:rgb(0%,0%,0%);stroke-opacity:1;stroke-miterlimit:10;\" d=\"M 515 200 C 515 208.285156 508.285156 215 500 215 C 491.714844 215 485 208.285156 485 200 C 485 191.714844 491.714844 185 500 185 C 508.285156 185 515 191.714844 515 200 \"/>\n",
       "<path style=\"fill-rule:nonzero;fill:rgb(55.294118%,82.745098%,78.039216%);fill-opacity:1;stroke-width:1;stroke-linecap:butt;stroke-linejoin:miter;stroke:rgb(0%,0%,0%);stroke-opacity:1;stroke-miterlimit:10;\" d=\"M 665 50 C 665 58.285156 658.285156 65 650 65 C 641.714844 65 635 58.285156 635 50 C 635 41.714844 641.714844 35 650 35 C 658.285156 35 665 41.714844 665 50 \"/>\n",
       "<path style=\"fill-rule:nonzero;fill:rgb(100%,100%,70.196078%);fill-opacity:1;stroke-width:1;stroke-linecap:butt;stroke-linejoin:miter;stroke:rgb(0%,0%,0%);stroke-opacity:1;stroke-miterlimit:10;\" d=\"M 665 100 C 665 108.285156 658.285156 115 650 115 C 641.714844 115 635 108.285156 635 100 C 635 91.714844 641.714844 85 650 85 C 658.285156 85 665 91.714844 665 100 \"/>\n",
       "<path style=\"fill-rule:nonzero;fill:rgb(74.509804%,72.941176%,85.490196%);fill-opacity:1;stroke-width:1;stroke-linecap:butt;stroke-linejoin:miter;stroke:rgb(0%,0%,0%);stroke-opacity:1;stroke-miterlimit:10;\" d=\"M 665 150 C 665 158.285156 658.285156 165 650 165 C 641.714844 165 635 158.285156 635 150 C 635 141.714844 641.714844 135 650 135 C 658.285156 135 665 141.714844 665 150 \"/>\n",
       "<path style=\"fill-rule:nonzero;fill:rgb(98.431373%,50.196078%,44.705882%);fill-opacity:1;stroke-width:1;stroke-linecap:butt;stroke-linejoin:miter;stroke:rgb(0%,0%,0%);stroke-opacity:1;stroke-miterlimit:10;\" d=\"M 665 200 C 665 208.285156 658.285156 215 650 215 C 641.714844 215 635 208.285156 635 200 C 635 191.714844 641.714844 185 650 185 C 658.285156 185 665 191.714844 665 200 \"/>\n",
       "<path style=\"fill-rule:nonzero;fill:rgb(73.333333%,73.333333%,73.333333%);fill-opacity:1;stroke-width:1;stroke-linecap:butt;stroke-linejoin:miter;stroke:rgb(0%,0%,0%);stroke-opacity:1;stroke-miterlimit:10;\" d=\"M 65 125 C 65 133.285156 58.285156 140 50 140 C 41.714844 140 35 133.285156 35 125 C 35 116.714844 41.714844 110 50 110 C 58.285156 110 65 116.714844 65 125 \"/>\n",
       "<g style=\"fill:rgb(0%,0%,0%);fill-opacity:1;\">\n",
       "  <use xlink:href=\"#glyph0-1\" x=\"186.558594\" y=\"54.972656\"/>\n",
       "  <use xlink:href=\"#glyph0-2\" x=\"190.459961\" y=\"54.972656\"/>\n",
       "  <use xlink:href=\"#glyph0-3\" x=\"196.822266\" y=\"54.972656\"/>\n",
       "  <use xlink:href=\"#glyph0-4\" x=\"200.000977\" y=\"54.972656\"/>\n",
       "  <use xlink:href=\"#glyph0-2\" x=\"203.179688\" y=\"54.972656\"/>\n",
       "  <use xlink:href=\"#glyph0-5\" x=\"209.541992\" y=\"54.972656\"/>\n",
       "</g>\n",
       "<g style=\"fill:rgb(0%,0%,0%);fill-opacity:1;\">\n",
       "  <use xlink:href=\"#glyph0-1\" x=\"186.558594\" y=\"104.972656\"/>\n",
       "  <use xlink:href=\"#glyph0-2\" x=\"190.459961\" y=\"104.972656\"/>\n",
       "  <use xlink:href=\"#glyph0-3\" x=\"196.822266\" y=\"104.972656\"/>\n",
       "  <use xlink:href=\"#glyph0-4\" x=\"200.000977\" y=\"104.972656\"/>\n",
       "  <use xlink:href=\"#glyph0-6\" x=\"203.179688\" y=\"104.972656\"/>\n",
       "  <use xlink:href=\"#glyph0-5\" x=\"209.541992\" y=\"104.972656\"/>\n",
       "</g>\n",
       "<g style=\"fill:rgb(0%,0%,0%);fill-opacity:1;\">\n",
       "  <use xlink:href=\"#glyph0-1\" x=\"186.558594\" y=\"154.972656\"/>\n",
       "  <use xlink:href=\"#glyph0-2\" x=\"190.459961\" y=\"154.972656\"/>\n",
       "  <use xlink:href=\"#glyph0-3\" x=\"196.822266\" y=\"154.972656\"/>\n",
       "  <use xlink:href=\"#glyph0-4\" x=\"200.000977\" y=\"154.972656\"/>\n",
       "  <use xlink:href=\"#glyph0-7\" x=\"203.179688\" y=\"154.972656\"/>\n",
       "  <use xlink:href=\"#glyph0-5\" x=\"209.541992\" y=\"154.972656\"/>\n",
       "</g>\n",
       "<g style=\"fill:rgb(0%,0%,0%);fill-opacity:1;\">\n",
       "  <use xlink:href=\"#glyph0-1\" x=\"186.558594\" y=\"204.972656\"/>\n",
       "  <use xlink:href=\"#glyph0-2\" x=\"190.459961\" y=\"204.972656\"/>\n",
       "  <use xlink:href=\"#glyph0-3\" x=\"196.822266\" y=\"204.972656\"/>\n",
       "  <use xlink:href=\"#glyph0-4\" x=\"200.000977\" y=\"204.972656\"/>\n",
       "  <use xlink:href=\"#glyph0-8\" x=\"203.179688\" y=\"204.972656\"/>\n",
       "  <use xlink:href=\"#glyph0-5\" x=\"209.541992\" y=\"204.972656\"/>\n",
       "</g>\n",
       "<g style=\"fill:rgb(0%,0%,0%);fill-opacity:1;\">\n",
       "  <use xlink:href=\"#glyph0-1\" x=\"336.558594\" y=\"54.972656\"/>\n",
       "  <use xlink:href=\"#glyph0-6\" x=\"340.459961\" y=\"54.972656\"/>\n",
       "  <use xlink:href=\"#glyph0-3\" x=\"346.822266\" y=\"54.972656\"/>\n",
       "  <use xlink:href=\"#glyph0-4\" x=\"350.000977\" y=\"54.972656\"/>\n",
       "  <use xlink:href=\"#glyph0-2\" x=\"353.179688\" y=\"54.972656\"/>\n",
       "  <use xlink:href=\"#glyph0-5\" x=\"359.541992\" y=\"54.972656\"/>\n",
       "</g>\n",
       "<g style=\"fill:rgb(0%,0%,0%);fill-opacity:1;\">\n",
       "  <use xlink:href=\"#glyph0-1\" x=\"336.558594\" y=\"104.972656\"/>\n",
       "  <use xlink:href=\"#glyph0-6\" x=\"340.459961\" y=\"104.972656\"/>\n",
       "  <use xlink:href=\"#glyph0-3\" x=\"346.822266\" y=\"104.972656\"/>\n",
       "  <use xlink:href=\"#glyph0-4\" x=\"350.000977\" y=\"104.972656\"/>\n",
       "  <use xlink:href=\"#glyph0-6\" x=\"353.179688\" y=\"104.972656\"/>\n",
       "  <use xlink:href=\"#glyph0-5\" x=\"359.541992\" y=\"104.972656\"/>\n",
       "</g>\n",
       "<g style=\"fill:rgb(0%,0%,0%);fill-opacity:1;\">\n",
       "  <use xlink:href=\"#glyph0-1\" x=\"336.558594\" y=\"154.972656\"/>\n",
       "  <use xlink:href=\"#glyph0-6\" x=\"340.459961\" y=\"154.972656\"/>\n",
       "  <use xlink:href=\"#glyph0-3\" x=\"346.822266\" y=\"154.972656\"/>\n",
       "  <use xlink:href=\"#glyph0-4\" x=\"350.000977\" y=\"154.972656\"/>\n",
       "  <use xlink:href=\"#glyph0-7\" x=\"353.179688\" y=\"154.972656\"/>\n",
       "  <use xlink:href=\"#glyph0-5\" x=\"359.541992\" y=\"154.972656\"/>\n",
       "</g>\n",
       "<g style=\"fill:rgb(0%,0%,0%);fill-opacity:1;\">\n",
       "  <use xlink:href=\"#glyph0-1\" x=\"336.558594\" y=\"204.972656\"/>\n",
       "  <use xlink:href=\"#glyph0-6\" x=\"340.459961\" y=\"204.972656\"/>\n",
       "  <use xlink:href=\"#glyph0-3\" x=\"346.822266\" y=\"204.972656\"/>\n",
       "  <use xlink:href=\"#glyph0-4\" x=\"350.000977\" y=\"204.972656\"/>\n",
       "  <use xlink:href=\"#glyph0-8\" x=\"353.179688\" y=\"204.972656\"/>\n",
       "  <use xlink:href=\"#glyph0-5\" x=\"359.541992\" y=\"204.972656\"/>\n",
       "</g>\n",
       "<g style=\"fill:rgb(0%,0%,0%);fill-opacity:1;\">\n",
       "  <use xlink:href=\"#glyph0-1\" x=\"486.558594\" y=\"54.972656\"/>\n",
       "  <use xlink:href=\"#glyph0-7\" x=\"490.459961\" y=\"54.972656\"/>\n",
       "  <use xlink:href=\"#glyph0-3\" x=\"496.822266\" y=\"54.972656\"/>\n",
       "  <use xlink:href=\"#glyph0-4\" x=\"500.000977\" y=\"54.972656\"/>\n",
       "  <use xlink:href=\"#glyph0-2\" x=\"503.179688\" y=\"54.972656\"/>\n",
       "  <use xlink:href=\"#glyph0-5\" x=\"509.541992\" y=\"54.972656\"/>\n",
       "</g>\n",
       "<g style=\"fill:rgb(0%,0%,0%);fill-opacity:1;\">\n",
       "  <use xlink:href=\"#glyph0-1\" x=\"486.558594\" y=\"104.972656\"/>\n",
       "  <use xlink:href=\"#glyph0-7\" x=\"490.459961\" y=\"104.972656\"/>\n",
       "  <use xlink:href=\"#glyph0-3\" x=\"496.822266\" y=\"104.972656\"/>\n",
       "  <use xlink:href=\"#glyph0-4\" x=\"500.000977\" y=\"104.972656\"/>\n",
       "  <use xlink:href=\"#glyph0-6\" x=\"503.179688\" y=\"104.972656\"/>\n",
       "  <use xlink:href=\"#glyph0-5\" x=\"509.541992\" y=\"104.972656\"/>\n",
       "</g>\n",
       "<g style=\"fill:rgb(0%,0%,0%);fill-opacity:1;\">\n",
       "  <use xlink:href=\"#glyph0-1\" x=\"486.558594\" y=\"154.972656\"/>\n",
       "  <use xlink:href=\"#glyph0-7\" x=\"490.459961\" y=\"154.972656\"/>\n",
       "  <use xlink:href=\"#glyph0-3\" x=\"496.822266\" y=\"154.972656\"/>\n",
       "  <use xlink:href=\"#glyph0-4\" x=\"500.000977\" y=\"154.972656\"/>\n",
       "  <use xlink:href=\"#glyph0-7\" x=\"503.179688\" y=\"154.972656\"/>\n",
       "  <use xlink:href=\"#glyph0-5\" x=\"509.541992\" y=\"154.972656\"/>\n",
       "</g>\n",
       "<g style=\"fill:rgb(0%,0%,0%);fill-opacity:1;\">\n",
       "  <use xlink:href=\"#glyph0-1\" x=\"486.558594\" y=\"204.972656\"/>\n",
       "  <use xlink:href=\"#glyph0-7\" x=\"490.459961\" y=\"204.972656\"/>\n",
       "  <use xlink:href=\"#glyph0-3\" x=\"496.822266\" y=\"204.972656\"/>\n",
       "  <use xlink:href=\"#glyph0-4\" x=\"500.000977\" y=\"204.972656\"/>\n",
       "  <use xlink:href=\"#glyph0-8\" x=\"503.179688\" y=\"204.972656\"/>\n",
       "  <use xlink:href=\"#glyph0-5\" x=\"509.541992\" y=\"204.972656\"/>\n",
       "</g>\n",
       "<g style=\"fill:rgb(0%,0%,0%);fill-opacity:1;\">\n",
       "  <use xlink:href=\"#glyph0-1\" x=\"636.558594\" y=\"54.972656\"/>\n",
       "  <use xlink:href=\"#glyph0-8\" x=\"640.459961\" y=\"54.972656\"/>\n",
       "  <use xlink:href=\"#glyph0-3\" x=\"646.822266\" y=\"54.972656\"/>\n",
       "  <use xlink:href=\"#glyph0-4\" x=\"650.000977\" y=\"54.972656\"/>\n",
       "  <use xlink:href=\"#glyph0-2\" x=\"653.179688\" y=\"54.972656\"/>\n",
       "  <use xlink:href=\"#glyph0-5\" x=\"659.541992\" y=\"54.972656\"/>\n",
       "</g>\n",
       "<g style=\"fill:rgb(0%,0%,0%);fill-opacity:1;\">\n",
       "  <use xlink:href=\"#glyph0-1\" x=\"636.558594\" y=\"104.972656\"/>\n",
       "  <use xlink:href=\"#glyph0-8\" x=\"640.459961\" y=\"104.972656\"/>\n",
       "  <use xlink:href=\"#glyph0-3\" x=\"646.822266\" y=\"104.972656\"/>\n",
       "  <use xlink:href=\"#glyph0-4\" x=\"650.000977\" y=\"104.972656\"/>\n",
       "  <use xlink:href=\"#glyph0-6\" x=\"653.179688\" y=\"104.972656\"/>\n",
       "  <use xlink:href=\"#glyph0-5\" x=\"659.541992\" y=\"104.972656\"/>\n",
       "</g>\n",
       "<g style=\"fill:rgb(0%,0%,0%);fill-opacity:1;\">\n",
       "  <use xlink:href=\"#glyph0-1\" x=\"636.558594\" y=\"154.972656\"/>\n",
       "  <use xlink:href=\"#glyph0-8\" x=\"640.459961\" y=\"154.972656\"/>\n",
       "  <use xlink:href=\"#glyph0-3\" x=\"646.822266\" y=\"154.972656\"/>\n",
       "  <use xlink:href=\"#glyph0-4\" x=\"650.000977\" y=\"154.972656\"/>\n",
       "  <use xlink:href=\"#glyph0-7\" x=\"653.179688\" y=\"154.972656\"/>\n",
       "  <use xlink:href=\"#glyph0-5\" x=\"659.541992\" y=\"154.972656\"/>\n",
       "</g>\n",
       "<g style=\"fill:rgb(0%,0%,0%);fill-opacity:1;\">\n",
       "  <use xlink:href=\"#glyph0-1\" x=\"636.558594\" y=\"204.972656\"/>\n",
       "  <use xlink:href=\"#glyph0-8\" x=\"640.459961\" y=\"204.972656\"/>\n",
       "  <use xlink:href=\"#glyph0-3\" x=\"646.822266\" y=\"204.972656\"/>\n",
       "  <use xlink:href=\"#glyph0-4\" x=\"650.000977\" y=\"204.972656\"/>\n",
       "  <use xlink:href=\"#glyph0-8\" x=\"653.179688\" y=\"204.972656\"/>\n",
       "  <use xlink:href=\"#glyph0-5\" x=\"659.541992\" y=\"204.972656\"/>\n",
       "</g>\n",
       "<g style=\"fill:rgb(0%,0%,0%);fill-opacity:1;\">\n",
       "  <use xlink:href=\"#glyph0-1\" x=\"32.949219\" y=\"129.972656\"/>\n",
       "  <use xlink:href=\"#glyph0-9\" x=\"36.850586\" y=\"129.972656\"/>\n",
       "  <use xlink:href=\"#glyph0-6\" x=\"40.458984\" y=\"129.972656\"/>\n",
       "  <use xlink:href=\"#glyph0-3\" x=\"46.821289\" y=\"129.972656\"/>\n",
       "  <use xlink:href=\"#glyph0-4\" x=\"50\" y=\"129.972656\"/>\n",
       "  <use xlink:href=\"#glyph0-9\" x=\"53.178711\" y=\"129.972656\"/>\n",
       "  <use xlink:href=\"#glyph0-6\" x=\"56.787109\" y=\"129.972656\"/>\n",
       "  <use xlink:href=\"#glyph0-5\" x=\"63.149414\" y=\"129.972656\"/>\n",
       "</g>\n",
       "</g>\n",
       "</svg>\n"
      ],
      "text/plain": [
       "<igraph.drawing.Plot at 0x7f49bc517668>"
      ]
     },
     "execution_count": 6,
     "metadata": {
      "image/svg+xml": {
       "isolated": true
      }
     },
     "output_type": "execute_result"
    }
   ],
   "source": [
    "tugcs, tugcs_source = util._add_source_to_tug(tugc)\n",
    "ig.plot(tugcs, **util.get_visual_style(tugcs), bbox=(700, 250), margin=50)"
   ]
  },
  {
   "cell_type": "markdown",
   "metadata": {},
   "source": [
    "* The node is associate to the time step $-1$ and (original) index $-1$"
   ]
  },
  {
   "cell_type": "markdown",
   "metadata": {
    "slideshow": {
     "slide_type": "subslide"
    }
   },
   "source": [
    "## Path Enumeration\n",
    "\n",
    "**Then we can use a _depth-first traversal_ to enumerate all paths**"
   ]
  },
  {
   "cell_type": "code",
   "execution_count": 9,
   "metadata": {},
   "outputs": [
    {
     "name": "stdout",
     "output_type": "stream",
     "text": [
      "0: [0]\n",
      "1: [0, 4]\n",
      "2: [0, 4, 8]\n",
      "3: [0, 4, 8, 12]\n",
      "4: [0, 4, 8, 13]\n",
      "5: [0, 4, 8, 14]\n",
      "6: [0, 4, 8, 15]\n",
      "7: [0, 4, 9]\n",
      "8: [0, 4, 9, 12]\n",
      "9: [0, 4, 9, 13]\n",
      "10: [0, 4, 9, 14]\n",
      "11: [0, 4, 10]\n",
      "12: [0, 4, 10, 14]\n",
      "13: [0, 4, 11]\n",
      "14: [0, 4, 11, 15]\n",
      "15: [0, 5]\n",
      "16: [0, 5, 8]\n",
      "17: [0, 5, 8, 12]\n",
      "18: [0, 5, 8, 13]\n",
      "19: [0, 5, 8, 14]\n",
      "20: [0, 5, 8, 15]\n",
      "21: [0, 5, 9]\n",
      "22: [0, 5, 9, 12]\n",
      "23: [0, 5, 9, 13]\n",
      "24: [0, 5, 9, 14]\n",
      "25: [0, 5, 10]\n",
      "26: [0, 5, 10, 14]\n",
      "27: [0, 6]\n",
      "28: [0, 6, 10]\n",
      "29: [0, 6, 10, 14]\n",
      "30: [0, 7]\n",
      "31: [0, 7, 11]\n",
      "32: [0, 7, 11, 15]\n",
      "33: [1]\n",
      "34: [1, 4]\n",
      "35: [1, 4, 8]\n",
      "36: [1, 4, 8, 12]\n",
      "37: [1, 4, 8, 13]\n",
      "38: [1, 4, 8, 14]\n",
      "39: [1, 4, 8, 15]\n",
      "40: [1, 4, 9]\n",
      "41: [1, 4, 9, 12]\n",
      "42: [1, 4, 9, 13]\n",
      "43: [1, 4, 9, 14]\n",
      "44: [1, 4, 10]\n",
      "45: [1, 4, 10, 14]\n",
      "46: [1, 4, 11]\n",
      "47: [1, 4, 11, 15]\n",
      "48: [1, 5]\n",
      "49: [1, 5, 8]\n",
      "50: [1, 5, 8, 12]\n",
      "51: [1, 5, 8, 13]\n",
      "52: [1, 5, 8, 14]\n",
      "53: [1, 5, 8, 15]\n",
      "54: [1, 5, 9]\n",
      "55: [1, 5, 9, 12]\n",
      "56: [1, 5, 9, 13]\n",
      "57: [1, 5, 9, 14]\n",
      "58: [1, 5, 10]\n",
      "59: [1, 5, 10, 14]\n",
      "60: [1, 6]\n",
      "61: [1, 6, 10]\n",
      "62: [1, 6, 10, 14]\n",
      "63: [2]\n",
      "64: [2, 6]\n",
      "65: [2, 6, 10]\n",
      "66: [2, 6, 10, 14]\n",
      "67: [3]\n",
      "68: [3, 7]\n",
      "69: [3, 7, 11]\n",
      "70: [3, 7, 11, 15]\n",
      "71: [4]\n",
      "72: [4, 8]\n",
      "73: [4, 8, 12]\n",
      "74: [4, 8, 13]\n",
      "75: [4, 8, 14]\n",
      "76: [4, 8, 15]\n",
      "77: [4, 9]\n",
      "78: [4, 9, 12]\n",
      "79: [4, 9, 13]\n",
      "80: [4, 9, 14]\n",
      "81: [4, 10]\n",
      "82: [4, 10, 14]\n",
      "83: [4, 11]\n",
      "84: [4, 11, 15]\n",
      "85: [5]\n",
      "86: [5, 8]\n",
      "87: [5, 8, 12]\n",
      "88: [5, 8, 13]\n",
      "89: [5, 8, 14]\n",
      "90: [5, 8, 15]\n",
      "91: [5, 9]\n",
      "92: [5, 9, 12]\n",
      "93: [5, 9, 13]\n",
      "94: [5, 9, 14]\n",
      "95: [5, 10]\n",
      "96: [5, 10, 14]\n",
      "97: [6]\n",
      "98: [6, 10]\n",
      "99: [6, 10, 14]\n",
      "100: [7]\n",
      "101: [7, 11]\n",
      "102: [7, 11, 15]\n",
      "103: [8]\n",
      "104: [8, 12]\n",
      "105: [8, 13]\n",
      "106: [8, 14]\n",
      "107: [8, 15]\n",
      "108: [9]\n",
      "109: [9, 12]\n",
      "110: [9, 13]\n",
      "111: [9, 14]\n",
      "112: [10]\n",
      "113: [10, 14]\n",
      "114: [11]\n",
      "115: [11, 15]\n",
      "116: [12]\n",
      "117: [13]\n",
      "118: [14]\n",
      "119: [15]\n"
     ]
    }
   ],
   "source": [
    "tug_paths = util.enumerate_paths(tugcs, tugcs_source, exclude_source=True)\n",
    "for i, p in enumerate(tug_paths):\n",
    "    print(f'{i}: {p}')"
   ]
  },
  {
   "cell_type": "markdown",
   "metadata": {},
   "source": [
    "## Path Enumeratation\n",
    "\n",
    "**By default we use TUG node indexes, but we can plot the original ones:**"
   ]
  },
  {
   "cell_type": "code",
   "execution_count": 10,
   "metadata": {
    "slideshow": {
     "slide_type": "subslide"
    }
   },
   "outputs": [
    {
     "name": "stdout",
     "output_type": "stream",
     "text": [
      "0: [(0, 0)]\n",
      "1: [(0, 0), (1, 0)]\n",
      "2: [(0, 0), (1, 0), (2, 0)]\n",
      "3: [(0, 0), (1, 0), (2, 0), (3, 0)]\n",
      "4: [(0, 0), (1, 0), (2, 0), (3, 1)]\n",
      "5: [(0, 0), (1, 0), (2, 0), (3, 2)]\n",
      "6: [(0, 0), (1, 0), (2, 0), (3, 3)]\n",
      "7: [(0, 0), (1, 0), (2, 1)]\n",
      "8: [(0, 0), (1, 0), (2, 1), (3, 0)]\n",
      "9: [(0, 0), (1, 0), (2, 1), (3, 1)]\n",
      "10: [(0, 0), (1, 0), (2, 1), (3, 2)]\n",
      "11: [(0, 0), (1, 0), (2, 2)]\n",
      "12: [(0, 0), (1, 0), (2, 2), (3, 2)]\n",
      "13: [(0, 0), (1, 0), (2, 3)]\n",
      "14: [(0, 0), (1, 0), (2, 3), (3, 3)]\n",
      "15: [(0, 0), (1, 1)]\n",
      "16: [(0, 0), (1, 1), (2, 0)]\n",
      "17: [(0, 0), (1, 1), (2, 0), (3, 0)]\n",
      "18: [(0, 0), (1, 1), (2, 0), (3, 1)]\n",
      "19: [(0, 0), (1, 1), (2, 0), (3, 2)]\n",
      "20: [(0, 0), (1, 1), (2, 0), (3, 3)]\n",
      "21: [(0, 0), (1, 1), (2, 1)]\n",
      "22: [(0, 0), (1, 1), (2, 1), (3, 0)]\n",
      "23: [(0, 0), (1, 1), (2, 1), (3, 1)]\n",
      "24: [(0, 0), (1, 1), (2, 1), (3, 2)]\n",
      "25: [(0, 0), (1, 1), (2, 2)]\n",
      "26: [(0, 0), (1, 1), (2, 2), (3, 2)]\n",
      "27: [(0, 0), (1, 2)]\n",
      "28: [(0, 0), (1, 2), (2, 2)]\n",
      "29: [(0, 0), (1, 2), (2, 2), (3, 2)]\n",
      "30: [(0, 0), (1, 3)]\n",
      "31: [(0, 0), (1, 3), (2, 3)]\n",
      "32: [(0, 0), (1, 3), (2, 3), (3, 3)]\n",
      "33: [(0, 1)]\n",
      "34: [(0, 1), (1, 0)]\n",
      "35: [(0, 1), (1, 0), (2, 0)]\n",
      "36: [(0, 1), (1, 0), (2, 0), (3, 0)]\n",
      "37: [(0, 1), (1, 0), (2, 0), (3, 1)]\n",
      "38: [(0, 1), (1, 0), (2, 0), (3, 2)]\n",
      "39: [(0, 1), (1, 0), (2, 0), (3, 3)]\n",
      "40: [(0, 1), (1, 0), (2, 1)]\n",
      "41: [(0, 1), (1, 0), (2, 1), (3, 0)]\n",
      "42: [(0, 1), (1, 0), (2, 1), (3, 1)]\n",
      "43: [(0, 1), (1, 0), (2, 1), (3, 2)]\n",
      "44: [(0, 1), (1, 0), (2, 2)]\n",
      "45: [(0, 1), (1, 0), (2, 2), (3, 2)]\n",
      "46: [(0, 1), (1, 0), (2, 3)]\n",
      "47: [(0, 1), (1, 0), (2, 3), (3, 3)]\n",
      "48: [(0, 1), (1, 1)]\n",
      "49: [(0, 1), (1, 1), (2, 0)]\n",
      "50: [(0, 1), (1, 1), (2, 0), (3, 0)]\n",
      "51: [(0, 1), (1, 1), (2, 0), (3, 1)]\n",
      "52: [(0, 1), (1, 1), (2, 0), (3, 2)]\n",
      "53: [(0, 1), (1, 1), (2, 0), (3, 3)]\n",
      "54: [(0, 1), (1, 1), (2, 1)]\n",
      "55: [(0, 1), (1, 1), (2, 1), (3, 0)]\n",
      "56: [(0, 1), (1, 1), (2, 1), (3, 1)]\n",
      "57: [(0, 1), (1, 1), (2, 1), (3, 2)]\n",
      "58: [(0, 1), (1, 1), (2, 2)]\n",
      "59: [(0, 1), (1, 1), (2, 2), (3, 2)]\n",
      "60: [(0, 1), (1, 2)]\n",
      "61: [(0, 1), (1, 2), (2, 2)]\n",
      "62: [(0, 1), (1, 2), (2, 2), (3, 2)]\n",
      "63: [(0, 2)]\n",
      "64: [(0, 2), (1, 2)]\n",
      "65: [(0, 2), (1, 2), (2, 2)]\n",
      "66: [(0, 2), (1, 2), (2, 2), (3, 2)]\n",
      "67: [(0, 3)]\n",
      "68: [(0, 3), (1, 3)]\n",
      "69: [(0, 3), (1, 3), (2, 3)]\n",
      "70: [(0, 3), (1, 3), (2, 3), (3, 3)]\n",
      "71: [(1, 0)]\n",
      "72: [(1, 0), (2, 0)]\n",
      "73: [(1, 0), (2, 0), (3, 0)]\n",
      "74: [(1, 0), (2, 0), (3, 1)]\n",
      "75: [(1, 0), (2, 0), (3, 2)]\n",
      "76: [(1, 0), (2, 0), (3, 3)]\n",
      "77: [(1, 0), (2, 1)]\n",
      "78: [(1, 0), (2, 1), (3, 0)]\n",
      "79: [(1, 0), (2, 1), (3, 1)]\n",
      "80: [(1, 0), (2, 1), (3, 2)]\n",
      "81: [(1, 0), (2, 2)]\n",
      "82: [(1, 0), (2, 2), (3, 2)]\n",
      "83: [(1, 0), (2, 3)]\n",
      "84: [(1, 0), (2, 3), (3, 3)]\n",
      "85: [(1, 1)]\n",
      "86: [(1, 1), (2, 0)]\n",
      "87: [(1, 1), (2, 0), (3, 0)]\n",
      "88: [(1, 1), (2, 0), (3, 1)]\n",
      "89: [(1, 1), (2, 0), (3, 2)]\n",
      "90: [(1, 1), (2, 0), (3, 3)]\n",
      "91: [(1, 1), (2, 1)]\n",
      "92: [(1, 1), (2, 1), (3, 0)]\n",
      "93: [(1, 1), (2, 1), (3, 1)]\n",
      "94: [(1, 1), (2, 1), (3, 2)]\n",
      "95: [(1, 1), (2, 2)]\n",
      "96: [(1, 1), (2, 2), (3, 2)]\n",
      "97: [(1, 2)]\n",
      "98: [(1, 2), (2, 2)]\n",
      "99: [(1, 2), (2, 2), (3, 2)]\n",
      "100: [(1, 3)]\n",
      "101: [(1, 3), (2, 3)]\n",
      "102: [(1, 3), (2, 3), (3, 3)]\n",
      "103: [(2, 0)]\n",
      "104: [(2, 0), (3, 0)]\n",
      "105: [(2, 0), (3, 1)]\n",
      "106: [(2, 0), (3, 2)]\n",
      "107: [(2, 0), (3, 3)]\n",
      "108: [(2, 1)]\n",
      "109: [(2, 1), (3, 0)]\n",
      "110: [(2, 1), (3, 1)]\n",
      "111: [(2, 1), (3, 2)]\n",
      "112: [(2, 2)]\n",
      "113: [(2, 2), (3, 2)]\n",
      "114: [(2, 3)]\n",
      "115: [(2, 3), (3, 3)]\n",
      "116: [(3, 0)]\n",
      "117: [(3, 1)]\n",
      "118: [(3, 2)]\n",
      "119: [(3, 3)]\n"
     ]
    }
   ],
   "source": [
    "tmp = util.tug_paths_to_original(tugcs, tug_paths)\n",
    "for i, p in enumerate(tmp):\n",
    "    print(f'{i}: {p}')"
   ]
  },
  {
   "cell_type": "markdown",
   "metadata": {
    "slideshow": {
     "slide_type": "subslide"
    }
   },
   "source": [
    "## Building the Matrices and Vectors\n",
    "\n",
    "**Now we can build the $V$ and $E$ matrices and the $\\hat{v}$ and $\\hat{e}$ vectors**\n",
    "\n",
    "These define the least squares terms $\\|Vx - \\hat{v}\\|_2^2$ and $\\|Ex - \\hat{e}\\|_2^2$"
   ]
  },
  {
   "cell_type": "code",
   "execution_count": 14,
   "metadata": {},
   "outputs": [],
   "source": [
    "V, E = util._paths_to_coefficient_matrices(tug, tug_paths)\n",
    "v, e = util._counts_to_target_vectors(tug, node_counts, arc_counts)"
   ]
  },
  {
   "cell_type": "markdown",
   "metadata": {
    "slideshow": {
     "slide_type": "fragment"
    }
   },
   "source": [
    "Here's a visualization of the $V, \\hat{v}$ pair:"
   ]
  },
  {
   "cell_type": "code",
   "execution_count": 13,
   "metadata": {
    "slideshow": {
     "slide_type": "-"
    }
   },
   "outputs": [
    {
     "data": {
      "application/vnd.jupyter.widget-view+json": {
       "model_id": "8fc8a5dee60848078fa8433423208626",
       "version_major": 2,
       "version_minor": 0
      },
      "text/html": [
       "\n",
       "            <div style=\"display: inline-block;\">\n",
       "                <div class=\"jupyter-widgets widget-label\" style=\"text-align: center;\">\n",
       "                    Figure\n",
       "                </div>\n",
       "                <img src='data:image/png;base64,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' width=900.0/>\n",
       "            </div>\n",
       "        "
      ],
      "text/plain": [
       "Canvas(toolbar=Toolbar(toolitems=[('Home', 'Reset original view', 'home', 'home'), ('Back', 'Back to previous …"
      ]
     },
     "metadata": {},
     "output_type": "display_data"
    }
   ],
   "source": [
    "util.plot_matrix(V.toarray(), v, figsize=figsize, title='V', title_b='v')"
   ]
  },
  {
   "cell_type": "markdown",
   "metadata": {
    "slideshow": {
     "slide_type": "subslide"
    }
   },
   "source": [
    "## Building the Matrices and Vectors\n",
    "\n",
    "**Now we can build the $V$ and $E$ matrices and the $\\hat{v}$ and $\\hat{e}$ vectors**\n",
    "\n",
    "These define the least squares terms $\\|Vx - \\hat{v}\\|_2^2$ and $\\|Ex - \\hat{e}\\|_2^2$"
   ]
  },
  {
   "cell_type": "code",
   "execution_count": 14,
   "metadata": {},
   "outputs": [],
   "source": [
    "V, E = util._paths_to_coefficient_matrices(tug, tug_paths)\n",
    "v, e = util._counts_to_target_vectors(tug, node_counts, arc_counts)"
   ]
  },
  {
   "cell_type": "markdown",
   "metadata": {
    "slideshow": {
     "slide_type": "-"
    }
   },
   "source": [
    "Here's the same for the $E, \\hat{e}$ pair:"
   ]
  },
  {
   "cell_type": "code",
   "execution_count": 15,
   "metadata": {
    "slideshow": {
     "slide_type": "-"
    }
   },
   "outputs": [
    {
     "data": {
      "application/vnd.jupyter.widget-view+json": {
       "model_id": "c18351ff596b409a9e9bc7f9626afacc",
       "version_major": 2,
       "version_minor": 0
      },
      "text/html": [
       "\n",
       "            <div style=\"display: inline-block;\">\n",
       "                <div class=\"jupyter-widgets widget-label\" style=\"text-align: center;\">\n",
       "                    Figure\n",
       "                </div>\n",
       "                <img src='data:image/png;base64,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' width=900.0/>\n",
       "            </div>\n",
       "        "
      ],
      "text/plain": [
       "Canvas(toolbar=Toolbar(toolitems=[('Home', 'Reset original view', 'home', 'home'), ('Back', 'Back to previous …"
      ]
     },
     "metadata": {},
     "output_type": "display_data"
    }
   ],
   "source": [
    "util.plot_matrix(E.toarray(), e, figsize=figsize, title='E', title_b='e')"
   ]
  },
  {
   "cell_type": "markdown",
   "metadata": {
    "slideshow": {
     "slide_type": "subslide"
    }
   },
   "source": [
    "## Solving the QP Problem\n",
    "\n",
    "**The code for solving the QP is in the `solve_path_selection_full` function**\n",
    "\n",
    "Here's a relevant snippet:\n",
    "\n",
    "```python\n",
    "# Enumerate all paths\n",
    "tugs, tugs_source = _add_source_to_tug(tug)\n",
    "paths = enumerate_paths(tugs, tugs_source, exclude_source=True)\n",
    "# Build the path selection solver\n",
    "prb = PathSelectionSolver(tug, node_counts, arc_counts)\n",
    "# Solve the path selection problem\n",
    "sol = prb.solve(paths, verbose=verbose, polish=True, **settings)\n",
    "```\n",
    "\n",
    "* First we build a `PathSelectionSolver`, i.e. a custom class from the `util` module\n",
    "* Then we call the `solve` method\n",
    "* With `polish = True` we attempt to obtain an exact solution\n",
    "* Otherwise, we get a (feasible, but) approximate solution"
   ]
  },
  {
   "cell_type": "markdown",
   "metadata": {
    "slideshow": {
     "slide_type": "subslide"
    }
   },
   "source": [
    "## Solving the QP Problem\n",
    "\n",
    "**In turn, `PathSelectionSolver.solve` contains the following code:**\n",
    "\n",
    "```python\n",
    "# Build the solver\n",
    "self.mdl = osqp.OSQP()\n",
    "# Recompute the problem matrices\n",
    "P, q, A, l, u = self._recompute_matrices(paths)\n",
    "# Setup the solver\n",
    "self.mdl.setup(P=P, q=q, A=A, l=l, u=u, **settings)\n",
    "# Solve the problem\n",
    "sol = self.mdl.solve()\n",
    "```\n",
    "This is how we use the actual OSQP solver\n",
    "\n",
    "* We build an `OSQP` object, we call `setup`, then we cal `solve`\n",
    "* ...But first we need to compute the terms $P, q, A, l, u$"
   ]
  },
  {
   "cell_type": "markdown",
   "metadata": {
    "slideshow": {
     "slide_type": "subslide"
    }
   },
   "source": [
    "## Solving the QP Problem\n",
    "\n",
    "**Matrix construction happens in the `_recompute_matrices` function**\n",
    "\n",
    "We already know that:\n",
    "\n",
    "$$\n",
    "P = V^T V + E^T E \\quad \\text{and} \\quad q = -V^T \\hat{v} -E^T \\hat{e}\n",
    "$$\n",
    "\n",
    "* Where $V$ and $E$ specify which nodes/arcs belong to each path\n",
    "* ...And $\\hat{v}$ and $\\hat{e}$ are the counts for all TUG nodes and arcs\n",
    "\n",
    "About the $A$ matrix and $l$ and $u$ vectors\n",
    "\n",
    "* They are meant to specify the problem constraints\n",
    "* Since in our problem we have $x \\geq 0$, then:\n",
    "\n",
    "$$\n",
    "A = I \\quad \\text{and} \\quad l = 0 \\quad \\text{and} \\quad u = +\\infty\n",
    "$$"
   ]
  },
  {
   "cell_type": "markdown",
   "metadata": {
    "slideshow": {
     "slide_type": "subslide"
    }
   },
   "source": [
    "## Solving the QP Problem\n",
    "\n",
    "**Let's actually solve the problem and inspect the output**"
   ]
  },
  {
   "cell_type": "code",
   "execution_count": 17,
   "metadata": {
    "scrolled": false
   },
   "outputs": [
    {
     "name": "stdout",
     "output_type": "stream",
     "text": [
      "-----------------------------------------------------------------\n",
      "           OSQP v0.6.2  -  Operator Splitting QP Solver\n",
      "              (c) Bartolomeo Stellato,  Goran Banjac\n",
      "        University of Oxford  -  Stanford University 2021\n",
      "-----------------------------------------------------------------\n",
      "problem:  variables n = 120, constraints m = 120\n",
      "          nnz(P) + nnz(A) = 3520\n",
      "settings: linear system solver = qdldl,\n",
      "          eps_abs = 1.0e-03, eps_rel = 1.0e-03,\n",
      "          eps_prim_inf = 1.0e-04, eps_dual_inf = 1.0e-04,\n",
      "          rho = 1.00e-01 (adaptive),\n",
      "          sigma = 1.00e-06, alpha = 1.60, max_iter = 4000\n",
      "          check_termination: on (interval 25),\n",
      "          scaling: on, scaled_termination: off\n",
      "          warm start: on, polish: on, time_limit: off\n",
      "\n",
      "iter   objective    pri res    dua res    rho        time\n",
      "   1  -1.5048e+02   4.34e-01   1.81e+01   1.00e-01   9.66e-04s\n",
      "  50  -1.9458e+02   7.04e-04   4.24e-02   1.00e-01   2.59e-03s\n",
      "plsh  -1.9460e+02   1.82e-16   2.95e-14   --------   3.39e-03s\n",
      "\n",
      "status:               solved\n",
      "solution polish:      successful\n",
      "number of iterations: 50\n",
      "optimal objective:    -194.5965\n",
      "run time:             3.39e-03s\n",
      "optimal rho estimate: 2.83e-02\n",
      "\n"
     ]
    }
   ],
   "source": [
    "rflows, rpaths = util.solve_path_selection_full(tug, node_counts, arc_counts, verbose=1)"
   ]
  },
  {
   "cell_type": "markdown",
   "metadata": {
    "slideshow": {
     "slide_type": "subslide"
    }
   },
   "source": [
    "## Inspecting the Solution\n",
    "\n",
    "**The raw solver log does not relate much to our specific problem**\n",
    "\n",
    "But we can obtain clearer plots using some ad-hoc built functions:"
   ]
  },
  {
   "cell_type": "code",
   "execution_count": 22,
   "metadata": {},
   "outputs": [
    {
     "name": "stdout",
     "output_type": "stream",
     "text": [
      "FLOW: PATH\n",
      "9.58: 3,0\n",
      "3.40: 0,1 > 1,1 > 2,0 > 3,1\n",
      "2.05: 0,1 > 1,1 > 2,0 > 3,2\n",
      "2.05: 1,0 > 2,0 > 3,1\n",
      "1.23: 0,1 > 1,2 > 2,2 > 3,2\n",
      "0.47: 1,0 > 2,0 > 3,2\n",
      "\n",
      "RSSE: 0.00\n"
     ]
    }
   ],
   "source": [
    "print('FLOW: PATH')\n",
    "util.print_solution(tug, rflows, rpaths, sort='descending')\n",
    "sse = util.get_reconstruction_error(tug, rflows, rpaths, node_counts, arc_counts)\n",
    "print(f'\\nRSSE: {np.sqrt(sse):.2f}')"
   ]
  },
  {
   "cell_type": "markdown",
   "metadata": {},
   "source": [
    "* We know see which paths have been used to \"reconstruct\" the counts\n",
    "* The corresponding estimated flows\n",
    "* And the Root Sum of Squared Errors"
   ]
  }
 ],
 "metadata": {
  "celltoolbar": "Slideshow",
  "kernelspec": {
   "display_name": "Python 3",
   "language": "python",
   "name": "python3"
  },
  "language_info": {
   "codemirror_mode": {
    "name": "ipython",
    "version": 3
   },
   "file_extension": ".py",
   "mimetype": "text/x-python",
   "name": "python",
   "nbconvert_exporter": "python",
   "pygments_lexer": "ipython3",
   "version": "3.6.9"
  },
  "rise": {
   "center": false,
   "transition": "fade"
  }
 },
 "nbformat": 4,
 "nbformat_minor": 4
}
