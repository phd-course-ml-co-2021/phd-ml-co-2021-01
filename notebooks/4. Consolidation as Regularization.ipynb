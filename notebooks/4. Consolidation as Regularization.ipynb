{
 "cells": [
  {
   "cell_type": "code",
   "execution_count": 1,
   "metadata": {
    "slideshow": {
     "slide_type": "skip"
    }
   },
   "outputs": [
    {
     "name": "stderr",
     "output_type": "stream",
     "text": [
      "/usr/local/lib/python3.6/dist-packages/scipy/sparse/_index.py:82: SparseEfficiencyWarning: Changing the sparsity structure of a csc_matrix is expensive. lil_matrix is more efficient.\n",
      "  self._set_intXint(row, col, x.flat[0])\n"
     ]
    }
   ],
   "source": [
    "# ============================================================\n",
    "# Notebook setup: run this before everything\n",
    "# ============================================================\n",
    "\n",
    "%load_ext autoreload\n",
    "%autoreload 2\n",
    "\n",
    "# Control figure size\n",
    "interactive_figures = True\n",
    "if interactive_figures:\n",
    "    # Normal behavior\n",
    "    %matplotlib widget\n",
    "    figsize=(9, 3)\n",
    "else:\n",
    "    # PDF export behavior\n",
    "    figsize=(14, 5)\n",
    "\n",
    "#from matplotlib import pyplot as plt\n",
    "from util import util\n",
    "import igraph as ig\n",
    "import numpy as np\n",
    "\n",
    "# ============================================================\n",
    "# Repeat the relevant previous steps\n",
    "# ============================================================\n",
    "\n",
    "# Generate a graph\n",
    "g = util.build_website_graph(nnodes=4, rate=3, extra_arc_fraction=0.25, seed=42)\n",
    "# Route flows (ground truth)\n",
    "eoh = 4\n",
    "flows, paths = util.build_random_paths(g, min_paths=3, max_paths=5,\n",
    "                                          min_units=1, max_units=10, eoh=eoh, seed=10)\n",
    "# Unfold\n",
    "tug = util.build_time_unfolded_graph(g, eoh=eoh)\n",
    "# Compute counts\n",
    "node_counts, arc_counts = util.get_counts(tug, flows, paths)\n",
    "# Apply counts\n",
    "tugc = util.apply_weights(tug, node_counts, arc_counts)\n",
    "# Solve the path formulation\n",
    "rflows, rpaths = util.solve_path_selection_full(tug, node_counts, arc_counts, verbose=0)"
   ]
  },
  {
   "cell_type": "markdown",
   "metadata": {
    "slideshow": {
     "slide_type": "slide"
    }
   },
   "source": [
    "# Symmetries\n",
    "\n",
    "Sometimes metrics are not enough"
   ]
  },
  {
   "cell_type": "markdown",
   "metadata": {
    "slideshow": {
     "slide_type": "subslide"
    }
   },
   "source": [
    "## Unexpected Discrepancy\n",
    "\n",
    "**Our current solution seems apparently perfect**"
   ]
  },
  {
   "cell_type": "code",
   "execution_count": 8,
   "metadata": {},
   "outputs": [
    {
     "name": "stdout",
     "output_type": "stream",
     "text": [
      "9.58: 3,0\n",
      "3.40: 0,1 > 1,1 > 2,0 > 3,1\n",
      "2.05: 0,1 > 1,1 > 2,0 > 3,2\n",
      "2.05: 1,0 > 2,0 > 3,1\n",
      "1.23: 0,1 > 1,2 > 2,2 > 3,2\n",
      "0.47: 1,0 > 2,0 > 3,2\n",
      "\n",
      "RSSE: 0.00\n"
     ]
    }
   ],
   "source": [
    "util.print_solution(tug, rflows, rpaths, sort='descending')\n",
    "sse = util.get_reconstruction_error(tug, rflows, rpaths, node_counts, arc_counts)\n",
    "print(f'\\nRSSE: {np.sqrt(sse):.2f}')"
   ]
  },
  {
   "cell_type": "markdown",
   "metadata": {},
   "source": [
    "...And yet it _does not match_ the ground truth!"
   ]
  },
  {
   "cell_type": "code",
   "execution_count": 7,
   "metadata": {},
   "outputs": [
    {
     "name": "stdout",
     "output_type": "stream",
     "text": [
      "9.58: 3,0\n",
      "5.45: 0,1 > 1,1 > 2,0 > 3,1\n",
      "2.52: 1,0 > 2,0 > 3,2\n",
      "1.23: 0,1 > 1,2 > 2,2 > 3,2\n"
     ]
    }
   ],
   "source": [
    "util.print_ground_truth(flows, paths, sort='descending')"
   ]
  },
  {
   "cell_type": "markdown",
   "metadata": {
    "slideshow": {
     "slide_type": "subslide"
    }
   },
   "source": [
    "## Unexpected Discrepancy\n",
    "\n",
    "**The discrepancy is unexpected, due to the 0 reconstruction error**\n",
    "\n",
    "Indeed, we can check that the reconstructed counts match the true ones:"
   ]
  },
  {
   "cell_type": "code",
   "execution_count": 9,
   "metadata": {},
   "outputs": [
    {
     "data": {
      "application/vnd.jupyter.widget-view+json": {
       "model_id": "dc4fbd0b94c442ac997e830b7ddf6053",
       "version_major": 2,
       "version_minor": 0
      },
      "text/html": [
       "\n",
       "            <div style=\"display: inline-block;\">\n",
       "                <div class=\"jupyter-widgets widget-label\" style=\"text-align: center;\">\n",
       "                    Figure\n",
       "                </div>\n",
       "                <img src='data:image/png;base64,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' width=900.0/>\n",
       "            </div>\n",
       "        "
      ],
      "text/plain": [
       "Canvas(toolbar=Toolbar(toolitems=[('Home', 'Reset original view', 'home', 'home'), ('Back', 'Back to previous …"
      ]
     },
     "metadata": {},
     "output_type": "display_data"
    }
   ],
   "source": [
    "rnc, rac = util.get_counts(tug, rflows, rpaths)\n",
    "util.plot_dict(rnc, figsize=figsize, label='reconstructed', data2=node_counts, label2='target', title='Node Counts')"
   ]
  },
  {
   "cell_type": "markdown",
   "metadata": {
    "slideshow": {
     "slide_type": "subslide"
    }
   },
   "source": [
    "## Unexpected Discrepancy\n",
    "\n",
    "> **What is going on?**"
   ]
  },
  {
   "cell_type": "markdown",
   "metadata": {
    "slideshow": {
     "slide_type": "fragment"
    }
   },
   "source": [
    "**We mentioned early on that _the available information is poor_**\n",
    "\n",
    "* There are many possible paths\n",
    "* ...And many possible ways to explain the original counts!\n",
    "\n",
    "> **How do we fix these _symmetries_?**"
   ]
  },
  {
   "cell_type": "markdown",
   "metadata": {
    "slideshow": {
     "slide_type": "fragment"
    }
   },
   "source": [
    "* The only way is adding external information (e.g. a preference on paths)\n",
    "* We can view this as a form of regularization"
   ]
  },
  {
   "cell_type": "markdown",
   "metadata": {
    "slideshow": {
     "slide_type": "subslide"
    }
   },
   "source": [
    "## Occam's Razor\n",
    "\n",
    "**Intuitively, we could give priority to _the simplest explanation_**\n",
    "\n",
    "<center style=\"font-size:small\">\n",
    "<img src=\"assets/occam.png\" width=250px/>\n",
    "Image credit: <a href=\"https://xkcd.com/2541/\">xkcd 2541</a>\n",
    "</center>\n",
    "\n",
    "A reasonable choice may be to use _a small number of paths_\n",
    "\n",
    "> **How do we enforce this?**"
   ]
  },
  {
   "cell_type": "markdown",
   "metadata": {
    "slideshow": {
     "slide_type": "subslide"
    }
   },
   "source": [
    "## L1 Regularization and Path Number\n",
    "\n",
    "**We may think of using an L1 regularization**\n",
    "\n",
    "We would just need to add a linear term to the path formulation:\n",
    "$$\n",
    "\\arg \\min_{x} \\left\\{\\frac{1}{2} x^T P x + q^T x + \\alpha x \\mid x \\geq 0 \\right\\}\n",
    "$$\n",
    "\n",
    "...Which would translate into a correction on the $q$ vector:\n",
    "$$\n",
    "\\arg \\min_{x} \\left\\{\\frac{1}{2} x^T P x + (q^T + \\alpha) x \\mid x \\geq 0 \\right\\}\n",
    "$$\n",
    "\n",
    "* This trick is implemented in the `solve_path_selection_full` function\n",
    "* We just need to pass a value for the `alpha` argument"
   ]
  },
  {
   "cell_type": "markdown",
   "metadata": {
    "slideshow": {
     "slide_type": "subslide"
    }
   },
   "source": [
    "## L1 Regularization and Path Number\n",
    "\n",
    "**Let's begin by trying $\\alpha = 1$**"
   ]
  },
  {
   "cell_type": "code",
   "execution_count": 11,
   "metadata": {},
   "outputs": [
    {
     "name": "stdout",
     "output_type": "stream",
     "text": [
      "FLOW: PATH\n",
      "8.15: 3,0\n",
      "3.14: 0,1 > 1,1 > 2,0 > 3,1\n",
      "1.93: 1,0 > 2,0 > 3,1\n",
      "1.86: 0,1 > 1,1 > 2,0 > 3,2\n",
      "1.11: 0,1 > 1,2 > 2,2 > 3,2\n",
      "0.41: 1,0 > 2,0 > 3,2\n",
      "0.38: 0,1 > 1,1 > 2,0 > 3,0\n",
      "0.07: 0,1 > 1,0 > 2,0 > 3,1\n",
      "0.04: 0,1 > 1,1 > 2,1 > 3,0\n",
      "\n",
      "RSSE: 1.30\n"
     ]
    }
   ],
   "source": [
    "rflows2, rpaths2 = util.solve_path_selection_full(tug, node_counts, arc_counts, verbose=0, alpha=1)\n",
    "print('FLOW: PATH')\n",
    "util.print_solution(tug, rflows2, rpaths2, sort='descending')\n",
    "sse = util.get_reconstruction_error(tug, rflows2, rpaths2, node_counts, arc_counts)\n",
    "print(f'\\nRSSE: {np.sqrt(sse):.2f}')"
   ]
  },
  {
   "cell_type": "markdown",
   "metadata": {
    "slideshow": {
     "slide_type": "fragment"
    }
   },
   "source": [
    "* The RSSE grows (as it could be expcted)\n",
    "* But we have _more_ paths!"
   ]
  },
  {
   "cell_type": "markdown",
   "metadata": {
    "slideshow": {
     "slide_type": "subslide"
    }
   },
   "source": [
    "## L1 Regularization and Path Number\n",
    "\n",
    "**What if we make $\\alpha$ larger?**"
   ]
  },
  {
   "cell_type": "code",
   "execution_count": 15,
   "metadata": {},
   "outputs": [
    {
     "name": "stdout",
     "output_type": "stream",
     "text": [
      "FLOW: PATH\n",
      "2.24: 0,1 > 1,1 > 2,0 > 3,1\n",
      "1.94: 0,1 > 1,1 > 2,0 > 3,0\n",
      "0.61: 0,1 > 1,0 > 2,0 > 3,1\n",
      "0.61: 0,1 > 1,1 > 2,0 > 3,2\n",
      "0.31: 0,1 > 1,0 > 2,0 > 3,0\n",
      "0.09: 1,0 > 2,0 > 3,1\n",
      "0.04: 1,0 > 2,0 > 3,0\n",
      "0.03: 0,1 > 1,2 > 2,2 > 3,2\n",
      "0.01: 1,0 > 2,0 > 3,2\n",
      "\n",
      "RSSE: 10.14\n"
     ]
    }
   ],
   "source": [
    "rflows2, rpaths2 = util.solve_path_selection_full(tug, node_counts, arc_counts, verbose=0, alpha=10)\n",
    "print('FLOW: PATH')\n",
    "util.print_solution(tug, rflows2, rpaths2, sort='descending')\n",
    "sse = util.get_reconstruction_error(tug, rflows2, rpaths2, node_counts, arc_counts)\n",
    "print(f'\\nRSSE: {np.sqrt(sse):.2f}')"
   ]
  },
  {
   "cell_type": "markdown",
   "metadata": {
    "slideshow": {
     "slide_type": "fragment"
    }
   },
   "source": [
    "* We don't seem to be getting _fewer_ paths\n",
    "* ...But rather _longer_ ones"
   ]
  },
  {
   "cell_type": "markdown",
   "metadata": {
    "slideshow": {
     "slide_type": "subslide"
    }
   },
   "source": [
    "## L1 Regularization and Path Number\n",
    "\n",
    "**Shouldn't L1 norm work as a sparsifier?**\n",
    "\n",
    "Not exactly: it simply results in a _fixed penalty rate_ for raising a variable\n",
    "\n",
    "* The solver will try to _balance_ it with a larger reduction of the quadratic loss\n",
    "* ...Which we can easily improve by including _more nodes_ in each path"
   ]
  },
  {
   "cell_type": "markdown",
   "metadata": {
    "slideshow": {
     "slide_type": "fragment"
    }
   },
   "source": [
    "**The truth is that when we use an L1 norm as sparsifier...**\n",
    "\n",
    "...We really wished our regularizer to be:\n",
    "$$\n",
    "N_{paths} = \\sum_{j=1}^n z_j \\quad \\text{with: } z_j = \\left\\{\\begin{aligned}\n",
    "1 & \\text{ if $x_j > 0$} \\\\\n",
    "0 & \\text{ otherwise}\n",
    "\\end{aligned}\\right.\n",
    "$$\n",
    "\n",
    "* Which is inconvenient, since it is non-differentiable\n",
    "* ...But what if we used an approach for non-differentiable optimization?"
   ]
  },
  {
   "cell_type": "markdown",
   "metadata": {
    "slideshow": {
     "slide_type": "slide"
    }
   },
   "source": [
    "# Path Consolidation Problem\n",
    "\n",
    "Let's face an inconvenient truth"
   ]
  },
  {
   "cell_type": "markdown",
   "metadata": {
    "slideshow": {
     "slide_type": "subslide"
    }
   },
   "source": [
    "## Path Consolidation Problem\n",
    "\n",
    "**For example, we could _focus on the paths in the current solution_:**\n",
    "\n",
    "* ..._Minimize the number_ of used paths\n",
    "* ...While preserving our reconstruction error\n",
    "\n",
    "This is form of _symmetry breaking_ (as a post-processing step)\n",
    "\n",
    "**By doing this, we obtain a _\"path consolidation problem\"_ in the form:**\n",
    "\n",
    "$$\\begin{align}\n",
    "\\arg \\min_{x} \\ & \\|z\\|_1 \\\\\n",
    "\\text{subject to: } & Vx = v^* \\\\\n",
    "& Ex = e^* \\\\\n",
    "& x \\leq M z \\\\\n",
    "& x \\geq 0 \\\\\n",
    "& z \\in \\{0, 1\\}^n\n",
    "\\end{align}$$"
   ]
  },
  {
   "cell_type": "markdown",
   "metadata": {
    "slideshow": {
     "slide_type": "subslide"
    }
   },
   "source": [
    "## Path Consolidation Problem\n",
    "\n",
    "**Let's proceed to examine the formulation a bit better:**\n",
    "\n",
    "$$\\begin{align}\n",
    "\\arg \\min_{x} \\ & \\|z\\|_1 \\\\\n",
    "\\text{subject to: } & Vx = v^* \\\\\n",
    "& Ex = e^* \\\\\n",
    "& x \\leq M z \\\\\n",
    "& x \\geq 0 \\\\\n",
    "& z \\in \\{0, 1\\}^n\n",
    "\\end{align}$$\n",
    "\n",
    "* The terms $V$, $E$, and $x$ are the same as before\n",
    "* ...Except in this case we will consider a _a subset of the paths_\n",
    "* $v^*$ and $e^*$ are the counts from the optimal path formulation solution\n",
    "* We are requiring the (reconstructed) counts to be _exactly the same_"
   ]
  },
  {
   "cell_type": "markdown",
   "metadata": {
    "slideshow": {
     "slide_type": "subslide"
    }
   },
   "source": [
    "## Path Consolidation Problem\n",
    "\n",
    "**Let's proceed to examine the formulation a bit better:**\n",
    "\n",
    "$$\\begin{align}\n",
    "\\arg \\min_{x} \\ & \\|z\\|_1 \\\\\n",
    "\\text{subject to: } & Vx = v^* \\\\\n",
    "& Ex = e^* \\\\\n",
    "& x \\leq M z \\\\\n",
    "& x \\geq 0 \\\\\n",
    "& z \\in \\{0, 1\\}^n\n",
    "\\end{align}$$\n",
    "\n",
    "* The $z$ variables determine whether a path is used ($z_j = 1$) or not ($z_j = 0$)\n",
    "* $M$ is a constant large enough to make the constraint trivial if $z_j = 1$\n",
    "* Constants such as these are often referred to as \"big-Ms\"\n",
    "* Basically, $x \\leq Mz$ is a linearization of the implication $x > 0 \\Rightarrow z = 1$"
   ]
  },
  {
   "cell_type": "markdown",
   "metadata": {
    "slideshow": {
     "slide_type": "subslide"
    }
   },
   "source": [
    "## Path Consolidation Problem\n",
    "\n",
    "**Let's proceed to examine the formulation a bit better:**\n",
    "\n",
    "$$\\begin{align}\n",
    "\\arg \\min_{x} \\ & \\|z\\|_1 \\\\\n",
    "\\text{subject to: } & Vx = v^* \\\\\n",
    "& Ex = e^* \\\\\n",
    "& x \\leq M z \\\\\n",
    "& x \\geq 0 \\\\\n",
    "& z \\in \\{0, 1\\}^n\n",
    "\\end{align}$$\n",
    "\n",
    "* All constraints are linear\n",
    "* The cost function is linear\n",
    "* Some variables are integer\n",
    "\n",
    "**This is a _Mixed Integer Linear Program (MILP)_**"
   ]
  }
 ],
 "metadata": {
  "celltoolbar": "Slideshow",
  "kernelspec": {
   "display_name": "Python 3",
   "language": "python",
   "name": "python3"
  },
  "language_info": {
   "codemirror_mode": {
    "name": "ipython",
    "version": 3
   },
   "file_extension": ".py",
   "mimetype": "text/x-python",
   "name": "python",
   "nbconvert_exporter": "python",
   "pygments_lexer": "ipython3",
   "version": "3.6.9"
  },
  "rise": {
   "center": false,
   "transition": "fade"
  }
 },
 "nbformat": 4,
 "nbformat_minor": 4
}
