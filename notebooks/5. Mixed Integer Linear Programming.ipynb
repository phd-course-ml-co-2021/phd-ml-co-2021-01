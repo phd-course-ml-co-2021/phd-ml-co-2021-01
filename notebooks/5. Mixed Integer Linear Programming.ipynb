{
 "cells": [
  {
   "cell_type": "markdown",
   "metadata": {
    "slideshow": {
     "slide_type": "slide"
    }
   },
   "source": [
    "# Mixed Integer Linear Programming\n",
    "\n",
    "Which is sort of famous, for valid reasons"
   ]
  },
  {
   "cell_type": "markdown",
   "metadata": {
    "slideshow": {
     "slide_type": "subslide"
    }
   },
   "source": [
    "## Mixed Integer Linear Programming\n",
    "\n",
    "**A _Mixed Integer Linear Program_ is a problem in the form**\n",
    "\n",
    "$$\n",
    "\\text{argmin}_x \\left\\{ c^Tx \\mid Ax \\geq b, x \\geq 0, x_{I} \\in \\mathbb{Z} \\right\\}\n",
    "$$\n",
    "\n",
    "* The cost function and all constraints are linear\n",
    "* All variables are non-negative\n",
    "* _Some_ variables (those with index in $I$) are _integer_\n",
    "\n",
    "**MILP is an extremely powerful formalism**\n",
    "\n",
    "Thanks to the presence of integer variables\n",
    "\n",
    "* ...Any _combinatorial element_ can be modeled\n",
    "* ...And _non-linearity_ can be approximated\n",
    "\n",
    "**MILP solvers classically rely on _three main techniques_**"
   ]
  },
  {
   "cell_type": "markdown",
   "metadata": {
    "slideshow": {
     "slide_type": "subslide"
    }
   },
   "source": [
    "## Linear Relaxation\n",
    "\n",
    "**If we remove the integrality constraints from a MILP we obtain an LP**\n",
    "\n",
    "<center><img src=\"assets/milp_geometric.png\" width=700px/></center>\n",
    "\n",
    "$$\n",
    "\\text{argmin}_x \\left\\{ c^Tx \\mid Ax \\geq b, x \\geq 0 \\right\\}\n",
    "$$\n",
    "\n",
    "**This is called the _linear (or LP) relaxation_ of the MILP**\n",
    "\n",
    "* The feasible space is defined via linear constraints $\\Rightarrow$ is is a _polytope_\n",
    "* The cost vector $c$ is also the _gradient_ and determines an optimization direction"
   ]
  },
  {
   "cell_type": "markdown",
   "metadata": {
    "slideshow": {
     "slide_type": "subslide"
    }
   },
   "source": [
    "## Linear Relaxation\n",
    "\n",
    "**If we remove the integrality constraints from a MILP we obtain an LP**\n",
    "\n",
    "<center><img src=\"assets/milp_simplex.png\" width=700px/></center>\n",
    "\n",
    "$$\n",
    "\\text{argmin}_x \\left\\{ c^Tx \\mid Ax \\geq b, x \\geq 0 \\right\\}\n",
    "$$\n",
    "\n",
    "**LPs can be solved in pseudo-polynomial time via the [_Simplex method_](https://onlinelibrary.wiley.com/doi/book/10.1002/9781118627372)**\n",
    "\n",
    "* The method start from a polytope vertex\n",
    "* ...And then moves between adjiacent vertexes until the optimum is reached"
   ]
  },
  {
   "cell_type": "markdown",
   "metadata": {
    "slideshow": {
     "slide_type": "subslide"
    }
   },
   "source": [
    "## Linear Relaxation\n",
    "\n",
    "**If we remove the integrality constraints from a MILP we obtain an LP**\n",
    "\n",
    "<center><img src=\"assets/milp_simplex.png\" width=700px/></center>\n",
    "\n",
    "$$\n",
    "\\text{argmin}_x \\left\\{ c^Tx \\mid Ax \\geq b, x \\geq 0 \\right\\}\n",
    "$$\n",
    "\n",
    "**LPs can be solved in _polynomial_ time via [Interior Point methods](https://web.stanford.edu/~boyd/cvxbook/)**\n",
    "\n",
    "* These used to be slower in practice than the Simplex, but not anymore\n",
    "* In a MILP complex, the Simplex is still preferred (later we will see why)"
   ]
  },
  {
   "cell_type": "markdown",
   "metadata": {
    "slideshow": {
     "slide_type": "subslide"
    }
   },
   "source": [
    "## Technique #1: Branching\n",
    "\n",
    "**When tackling a MILP, we start by _solving its LP relaxation_**\n",
    "\n",
    "<center><img src=\"assets/milp_branching.png\" width=700px/></center>\n",
    "\n",
    "* If all integrality constraints are satisfied, we have found the true optimum\n",
    "* If some $x_j$ has a fraction value $v_j$, we _split the problem_ in two:\n",
    "  - In the first subproblem, we add the constraint $x_j \\leq \\lfloor v_j \\rfloor$\n",
    "  - In the second subproblem, we add $x_j \\geq \\lceil v_j \\rceil$\n",
    "* Then we can repeat the whole process"
   ]
  },
  {
   "cell_type": "markdown",
   "metadata": {
    "slideshow": {
     "slide_type": "subslide"
    }
   },
   "source": [
    "## Technique #1: Branching\n",
    "\n",
    "**This approach is referred to as _branching_**\n",
    "\n",
    "<center><img src=\"assets/milp_branching.png\" width=700px/></center>\n",
    "\n",
    "* The first subproblem is also known as the _left branch_\n",
    "* The second as the _right branch_\n",
    "\n",
    "**Branching is the main method that makes MILP solvers complete**\n",
    "\n",
    "* In the worst case, we end up with a _search tree_ having an exponential number of nodes\n",
    "* ...But that's somewhat unavoidable, since _solving MILP is NP-hard_\n"
   ]
  },
  {
   "cell_type": "markdown",
   "metadata": {
    "slideshow": {
     "slide_type": "subslide"
    }
   },
   "source": [
    "## Technique #1: Branching\n",
    "\n",
    "**This approach is referred to as _branching_**\n",
    "\n",
    "<center><img src=\"assets/milp_branching.png\" width=700px/></center>\n",
    "\n",
    "**Branching is also the reason why the Simplex method is preferred to MILPs**\n",
    "\n",
    "* The Simplex method has a \"dual\" version\n",
    "* ...Whose optimum can be updated efficiently when new constraints are added\n",
    "\n",
    "...And you can guess that's a pretty common operation ;-)"
   ]
  },
  {
   "cell_type": "markdown",
   "metadata": {
    "slideshow": {
     "slide_type": "subslide"
    }
   },
   "source": [
    "## Technique #2: Bounding\n",
    "\n",
    "**Let's look again at the LP relaxation**\n",
    "\n",
    "$$\n",
    "\\text{argmin}_x \\left\\{ c^Tx \\mid Ax \\geq b, x \\geq 0 \\right\\}\n",
    "$$\n",
    "\n",
    "* The problem has the same structure\n",
    "* ...But a larger feasible space (that's why it is called a relaxation)\n",
    "\n",
    "Hence, its optimal cost will be a _lower bound_ (say $lb$) for the MILP\n",
    "\n",
    "**We can use this bound as an early stopping criterion**\n",
    "\n",
    "* Let $x^*$ be the best (mixed-integer) solution we have found so far\n",
    "* If for some node of the search tree we have $lb > c^T x^*$\n",
    "* Then we have no hope of beating $x^*$ and we can destroy (_fathom_) the node\n",
    "\n",
    "**Branching + Bounding = Branch & Bound**"
   ]
  },
  {
   "cell_type": "markdown",
   "metadata": {
    "slideshow": {
     "slide_type": "subslide"
    }
   },
   "source": [
    "## Technique #3: Cutting Planes\n",
    "\n",
    "**It is also common to speed-up MILP solution by using _cutting planes_**\n",
    "\n",
    "<center><img src=\"assets/milp_cuts.png\" width=700px/></center>\n",
    "\n",
    "**Cutting planes are linear inequalities _inferred_ by relying on some property**\n",
    "\n",
    "* In MILP they are typically inferred based on integrality constraint\n",
    "* They must be _valid_ for any feasible solution\n",
    "* They are useful if they force a fractional solution to become closer to integer"
   ]
  },
  {
   "cell_type": "markdown",
   "metadata": {
    "slideshow": {
     "slide_type": "subslide"
    }
   },
   "source": [
    "## Technique #3: Cutting Planes\n",
    "\n",
    "**A common example is that of _Gomory Cuts_**\n",
    "\n",
    "While solving the simplex, we end up with many equalities in the form:\n",
    "$$\n",
    "x_i + \\sum_{j \\in \\bar{B}} \\bar{a}_{ij} x_j = \\bar{b}_i\n",
    "$$\n",
    "\n",
    "* Where $x_i > 0$ and $x_j = 0, \\forall j \\in \\bar{B}$\n",
    "* $B = $ the set of indexes of _non-zero_ variables in the current LP solution (base)\n",
    "* $\\bar{B} = $ the set of indexes of _zero_ variables in the current LP solution\n",
    "* We will assume all variables are integer, for simplicity\n",
    "\n",
    "**We can rewrite the equation as**\n",
    "\n",
    "$$\n",
    "x_i + \\sum_{j \\in \\bar{B}} (\\bar{a}_{ij} - \\lfloor \\bar{a}_{ij} \\rfloor + \\lfloor \\bar{a}_{ij} \\rfloor) x_j = \\bar{b}_i - \\lfloor \\bar{b}_i \\rfloor + \\lfloor \\bar{b}_i \\rfloor\n",
    "$$\n"
   ]
  },
  {
   "cell_type": "markdown",
   "metadata": {
    "slideshow": {
     "slide_type": "subslide"
    }
   },
   "source": [
    "## Technique #3: Cutting Planes\n",
    "\n",
    "**By simple algebraic manipulation we can then get:**\n",
    "\n",
    "$$\n",
    "x_i + \\sum_{j \\in \\bar{B}} \\lfloor \\bar{a}_{ij} \\rfloor x_j - \\lfloor \\bar{b}_i \\rfloor = - \\sum_{j \\in \\bar{B}} (\\bar{a}_{ij} - \\lfloor \\bar{a}_{ij} \\rfloor) x_j + (\\bar{b}_i - \\lfloor \\bar{b}_i \\rfloor)\n",
    "$$\n",
    "\n",
    "We will build an inequality that is valid for _any feasible, integer_ point:\n",
    "\n",
    "* The right-most part is necessarily $< 1$, since:\n",
    "  - $\\bar{b}_i - \\lfloor \\bar{b}_i \\rfloor$ is positive and fractional\n",
    "  - Each $\\bar{a}_{ij} - \\lfloor \\bar{a}_{ij} \\rfloor$ is positive (and fractional)\n",
    "  - Each $x_j$ must be $\\geq 0$\n",
    "* The left-most part is necessarily an integer, since:\n",
    "  - $\\lfloor \\bar{b}_i \\rfloor$ is integer and each $\\lfloor \\bar{a}_{ij} \\rfloor$ is integer\n",
    "  - Variables are integer as per our assumption"
   ]
  },
  {
   "cell_type": "markdown",
   "metadata": {
    "slideshow": {
     "slide_type": "subslide"
    }
   },
   "source": [
    "## Technique #3: Cutting Planes\n",
    "\n",
    "**By simple algebraic manipulation we can then get:**\n",
    "\n",
    "$$\n",
    "x_i + \\sum_{j \\in \\bar{B}} \\lfloor \\bar{a}_{ij} \\rfloor x_j - \\lfloor \\bar{b}_i \\rfloor = - \\sum_{j \\in \\bar{B}} (\\bar{a}_{ij} - \\lfloor \\bar{a}_{ij} \\rfloor) x_j + (\\bar{b}_i - \\lfloor \\bar{b}_i \\rfloor)\n",
    "$$\n",
    "\n",
    "* Hence, the right-most part should be $< 1$ and integer\n",
    "* ...Meaning that it must be $\\leq 0$\n",
    "\n",
    "$$\n",
    "- \\sum_{j \\in \\bar{B}} (\\bar{a}_{ij} - \\lfloor \\bar{a}_{ij} \\rfloor) x_j + (\\bar{b}_i - \\lfloor \\bar{b}_i \\rfloor) \\leq 0\n",
    "$$\n",
    "\n",
    "And from here:\n",
    "\n",
    "$$\n",
    "\\sum_{j \\in \\bar{B}} (\\bar{a}_{ij} - \\lfloor \\bar{a}_{ij} \\rfloor) x_j \\geq (\\bar{b}_i - \\lfloor \\bar{b}_i \\rfloor)\n",
    "$$\n"
   ]
  },
  {
   "cell_type": "markdown",
   "metadata": {
    "slideshow": {
     "slide_type": "subslide"
    }
   },
   "source": [
    "## Technique #3: Cutting Planes\n",
    "\n",
    "**This inequality is the Gomory Cut**\n",
    "\n",
    "$$\n",
    "\\sum_{j \\in \\bar{B}} (\\bar{a}_{ij} - \\lfloor \\bar{a}_{ij} \\rfloor) x_j \\geq (\\bar{b}_i - \\lfloor \\bar{b}_i \\rfloor)\n",
    "$$\n",
    "\n",
    "* Now, if we target a $x_i$ that should be integer, i.e. $i \\in I$\n",
    "* ...But it's fractional in the current solution\n",
    "\n",
    "Then we have $\\bar{b}_i - \\lfloor \\bar{b}_i \\rfloor > 0$\n",
    "\n",
    "* Combined with the fact that $x_j = 0, \\forall j \\in \\bar{B}$ in the current solution\n",
    "* We have that the cut is actually _making the solution no longer feasible_\n",
    "\n",
    "**Branching + Bounding + Cutting Planes = Branch & Cut**\n",
    "\n",
    "* Using cutting planes can speed up the solution process considerably\n",
    "* But it's best not to overdo it, since subsequent cuts may become weaker"
   ]
  },
  {
   "cell_type": "markdown",
   "metadata": {
    "slideshow": {
     "slide_type": "subslide"
    }
   },
   "source": [
    "## Some Considerations\n",
    "\n",
    "**We have just scratched the surface with MILP**\n",
    "\n",
    "Modern MILP solver do much more:\n",
    "\n",
    "* Presolving\n",
    "* Constraint propagations\n",
    "* Symmetry breaking\n",
    "* ...\n",
    "\n",
    "**MILP methods have a long history**\n",
    "\n",
    "* There is a _huge gap_ between the solver performance\n",
    "* The best solvers ([Gurobi](https://www.gurobi.com/), [Cplex](https://www.ibm.com/analytics/cplex-optimizer), [Mosek](https://www.mosek.com/)) are commercial (free for academics)\n",
    "* Then you have a single semi-free solver ([SCIP](https://www.scipopt.org/))\n",
    "* ...A good free solver ([CBC](https://github.com/coin-or/Cbc))\n",
    "* ...And finally there is stuff you _should not_ touch (glpk, lpsolve)"
   ]
  }
 ],
 "metadata": {
  "celltoolbar": "Slideshow",
  "kernelspec": {
   "display_name": "Python 3",
   "language": "python",
   "name": "python3"
  },
  "language_info": {
   "codemirror_mode": {
    "name": "ipython",
    "version": 3
   },
   "file_extension": ".py",
   "mimetype": "text/x-python",
   "name": "python",
   "nbconvert_exporter": "python",
   "pygments_lexer": "ipython3",
   "version": "3.6.9"
  },
  "rise": {
   "center": false,
   "transition": "fade"
  }
 },
 "nbformat": 4,
 "nbformat_minor": 4
}
