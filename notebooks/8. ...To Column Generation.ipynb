{
 "cells": [
  {
   "cell_type": "code",
   "execution_count": 7,
   "metadata": {
    "slideshow": {
     "slide_type": "skip"
    }
   },
   "outputs": [
    {
     "name": "stdout",
     "output_type": "stream",
     "text": [
      "The autoreload extension is already loaded. To reload it, use:\n",
      "  %reload_ext autoreload\n"
     ]
    }
   ],
   "source": [
    "# ============================================================\n",
    "# Notebook setup: run this before everything\n",
    "# ============================================================\n",
    "\n",
    "%load_ext autoreload\n",
    "%autoreload 2\n",
    "\n",
    "# Control figure size\n",
    "interactive_figures = True\n",
    "if interactive_figures:\n",
    "    # Normal behavior\n",
    "    %matplotlib widget\n",
    "    figsize=(9, 3)\n",
    "else:\n",
    "    # PDF export behavior\n",
    "    figsize=(14, 5)\n",
    "\n",
    "#from matplotlib import pyplot as plt\n",
    "from util import util\n",
    "import igraph as ig\n",
    "import numpy as np\n",
    "\n",
    "# ============================================================\n",
    "# Repeat relevant operations\n",
    "# ============================================================\n",
    "\n",
    "# Build the small graph used to explain concepts\n",
    "eoh = 4\n",
    "g = util.build_website_graph(nnodes=4, rate=3, extra_arc_fraction=0.25, seed=42)\n",
    "flows, paths = util.build_random_paths(g, min_paths=3, max_paths=5,\n",
    "                                          min_units=1, max_units=10, eoh=eoh, seed=10)\n",
    "tug = util.build_time_unfolded_graph(g, eoh=eoh)\n",
    "node_counts, arc_counts = util.get_counts(tug, flows, paths)\n",
    "# Enumerate all paths\n",
    "tugs, tugs_source = util._add_source_to_tug(tug)\n",
    "tug_paths = util.enumerate_paths(tugs, tugs_source, exclude_source=True)\n",
    "# Solve a restricted master problem\n",
    "path_pool = tug_paths[:10]\n",
    "rflows0, rpaths0 = util.solve_path_selection_full(tug, node_counts, arc_counts,\n",
    "                                                  initial_paths=path_pool, verbose=0)\n",
    "nres0, ares0 = util._get_residuals(tug, rflows0, rpaths0, node_counts, arc_counts)"
   ]
  },
  {
   "cell_type": "markdown",
   "metadata": {
    "slideshow": {
     "slide_type": "slide"
    }
   },
   "source": [
    "# Column Generation\n",
    "\n",
    "Because we cannot spend all day pricing"
   ]
  },
  {
   "cell_type": "markdown",
   "metadata": {
    "slideshow": {
     "slide_type": "subslide"
    }
   },
   "source": [
    "## Column Generation\n",
    "\n",
    "**We now have a mechanism to price all variables not in the pool**\n",
    "\n",
    "...But we still need to handle an exponential number of them\n",
    "\n",
    "* I.e. enumerating paths would still be prohibitively expensive\n",
    "\n",
    "> **What can we do about it?**"
   ]
  },
  {
   "cell_type": "markdown",
   "metadata": {
    "slideshow": {
     "slide_type": "fragment"
    }
   },
   "source": [
    "* There is no need to find _all paths_ with negative $\\frac{\\partial}{\\partial x_j} f(x) < 0$\n",
    "* We just need to determine whether _one such path_ exists\n",
    "\n",
    "**Hence, we can _build_ a variable with the _most negative_ $\\frac{\\partial}{\\partial x_j} f(x) < 0$**\n",
    "\n",
    "* Since variables correspond to columns in LP\n",
    "* ...This approach is called _Column Generation_"
   ]
  },
  {
   "cell_type": "markdown",
   "metadata": {
    "slideshow": {
     "slide_type": "subslide"
    }
   },
   "source": [
    "## Pricing ad Optimization\n",
    "\n",
    "**In practice, we view pricing as an _optimization problem_**\n",
    "\n",
    "* In our case we are looking at paths\n",
    "* ...So it make sense to visualize them on the Time Unfolded Graph"
   ]
  },
  {
   "cell_type": "code",
   "execution_count": 33,
   "metadata": {},
   "outputs": [
    {
     "data": {
      "image/svg+xml": [
       "<?xml version=\"1.0\" encoding=\"UTF-8\"?>\n",
       "<svg xmlns=\"http://www.w3.org/2000/svg\" xmlns:xlink=\"http://www.w3.org/1999/xlink\" width=\"700pt\" height=\"300pt\" viewBox=\"0 0 700 300\" version=\"1.1\">\n",
       "<defs>\n",
       "<g>\n",
       "<symbol overflow=\"visible\" id=\"glyph0-0\">\n",
       "<path style=\"stroke:none;\" d=\"M 0.5 1.765625 L 0.5 -7.046875 L 5.5 -7.046875 L 5.5 1.765625 Z M 1.0625 1.21875 L 4.9375 1.21875 L 4.9375 -6.484375 L 1.0625 -6.484375 Z M 1.0625 1.21875 \"/>\n",
       "</symbol>\n",
       "<symbol overflow=\"visible\" id=\"glyph0-1\">\n",
       "<path style=\"stroke:none;\" d=\"M 3.171875 -6.640625 C 2.671875 -6.640625 2.289062 -6.390625 2.03125 -5.890625 C 1.78125 -5.390625 1.65625 -4.640625 1.65625 -3.640625 C 1.65625 -2.640625 1.78125 -1.890625 2.03125 -1.390625 C 2.289062 -0.890625 2.671875 -0.640625 3.171875 -0.640625 C 3.691406 -0.640625 4.078125 -0.890625 4.328125 -1.390625 C 4.585938 -1.890625 4.71875 -2.640625 4.71875 -3.640625 C 4.71875 -4.640625 4.585938 -5.390625 4.328125 -5.890625 C 4.078125 -6.390625 3.691406 -6.640625 3.171875 -6.640625 Z M 3.171875 -7.421875 C 3.992188 -7.421875 4.617188 -7.097656 5.046875 -6.453125 C 5.484375 -5.804688 5.703125 -4.867188 5.703125 -3.640625 C 5.703125 -2.410156 5.484375 -1.472656 5.046875 -0.828125 C 4.617188 -0.179688 3.992188 0.140625 3.171875 0.140625 C 2.359375 0.140625 1.734375 -0.179688 1.296875 -0.828125 C 0.867188 -1.472656 0.65625 -2.410156 0.65625 -3.640625 C 0.65625 -4.867188 0.867188 -5.804688 1.296875 -6.453125 C 1.734375 -7.097656 2.359375 -7.421875 3.171875 -7.421875 Z M 3.171875 -7.421875 \"/>\n",
       "</symbol>\n",
       "<symbol overflow=\"visible\" id=\"glyph0-2\">\n",
       "<path style=\"stroke:none;\" d=\"M 1.171875 -1.234375 L 2.203125 -1.234375 L 2.203125 -0.40625 L 1.40625 1.15625 L 0.765625 1.15625 L 1.171875 -0.40625 Z M 1.171875 -1.234375 \"/>\n",
       "</symbol>\n",
       "<symbol overflow=\"visible\" id=\"glyph0-3\">\n",
       "<path style=\"stroke:none;\" d=\"M 1.234375 -0.828125 L 2.859375 -0.828125 L 2.859375 -6.390625 L 1.09375 -6.046875 L 1.09375 -6.9375 L 2.84375 -7.296875 L 3.828125 -7.296875 L 3.828125 -0.828125 L 5.4375 -0.828125 L 5.4375 0 L 1.234375 0 Z M 1.234375 -0.828125 \"/>\n",
       "</symbol>\n",
       "<symbol overflow=\"visible\" id=\"glyph0-4\">\n",
       "<path style=\"stroke:none;\" d=\"M 1.921875 -0.828125 L 5.359375 -0.828125 L 5.359375 0 L 0.734375 0 L 0.734375 -0.828125 C 1.109375 -1.210938 1.617188 -1.734375 2.265625 -2.390625 C 2.910156 -3.046875 3.316406 -3.46875 3.484375 -3.65625 C 3.796875 -4.007812 4.015625 -4.304688 4.140625 -4.546875 C 4.265625 -4.796875 4.328125 -5.039062 4.328125 -5.28125 C 4.328125 -5.664062 4.191406 -5.976562 3.921875 -6.21875 C 3.648438 -6.46875 3.296875 -6.59375 2.859375 -6.59375 C 2.546875 -6.59375 2.21875 -6.535156 1.875 -6.421875 C 1.539062 -6.316406 1.175781 -6.15625 0.78125 -5.9375 L 0.78125 -6.9375 C 1.175781 -7.09375 1.546875 -7.210938 1.890625 -7.296875 C 2.234375 -7.378906 2.550781 -7.421875 2.84375 -7.421875 C 3.59375 -7.421875 4.191406 -7.234375 4.640625 -6.859375 C 5.097656 -6.484375 5.328125 -5.976562 5.328125 -5.34375 C 5.328125 -5.039062 5.269531 -4.753906 5.15625 -4.484375 C 5.039062 -4.222656 4.835938 -3.910156 4.546875 -3.546875 C 4.460938 -3.453125 4.203125 -3.175781 3.765625 -2.71875 C 3.328125 -2.269531 2.710938 -1.640625 1.921875 -0.828125 Z M 1.921875 -0.828125 \"/>\n",
       "</symbol>\n",
       "<symbol overflow=\"visible\" id=\"glyph0-5\">\n",
       "<path style=\"stroke:none;\" d=\"M 4.0625 -3.9375 C 4.53125 -3.832031 4.894531 -3.617188 5.15625 -3.296875 C 5.425781 -2.984375 5.5625 -2.59375 5.5625 -2.125 C 5.5625 -1.40625 5.3125 -0.847656 4.8125 -0.453125 C 4.320312 -0.0546875 3.617188 0.140625 2.703125 0.140625 C 2.398438 0.140625 2.085938 0.109375 1.765625 0.046875 C 1.441406 -0.015625 1.109375 -0.101562 0.765625 -0.21875 L 0.765625 -1.171875 C 1.035156 -1.015625 1.332031 -0.894531 1.65625 -0.8125 C 1.988281 -0.726562 2.332031 -0.6875 2.6875 -0.6875 C 3.300781 -0.6875 3.769531 -0.804688 4.09375 -1.046875 C 4.414062 -1.296875 4.578125 -1.65625 4.578125 -2.125 C 4.578125 -2.550781 4.425781 -2.882812 4.125 -3.125 C 3.820312 -3.363281 3.40625 -3.484375 2.875 -3.484375 L 2.015625 -3.484375 L 2.015625 -4.296875 L 2.90625 -4.296875 C 3.394531 -4.296875 3.765625 -4.394531 4.015625 -4.59375 C 4.273438 -4.789062 4.40625 -5.070312 4.40625 -5.4375 C 4.40625 -5.800781 4.269531 -6.082031 4 -6.28125 C 3.738281 -6.488281 3.363281 -6.59375 2.875 -6.59375 C 2.601562 -6.59375 2.3125 -6.5625 2 -6.5 C 1.6875 -6.445312 1.347656 -6.359375 0.984375 -6.234375 L 0.984375 -7.109375 C 1.359375 -7.210938 1.707031 -7.289062 2.03125 -7.34375 C 2.363281 -7.394531 2.671875 -7.421875 2.953125 -7.421875 C 3.703125 -7.421875 4.296875 -7.25 4.734375 -6.90625 C 5.171875 -6.570312 5.390625 -6.113281 5.390625 -5.53125 C 5.390625 -5.125 5.273438 -4.78125 5.046875 -4.5 C 4.816406 -4.226562 4.488281 -4.039062 4.0625 -3.9375 Z M 4.0625 -3.9375 \"/>\n",
       "</symbol>\n",
       "</g>\n",
       "</defs>\n",
       "<g id=\"surface26\">\n",
       "<rect x=\"0\" y=\"0\" width=\"700\" height=\"300\" style=\"fill:rgb(100%,100%,100%);fill-opacity:1;stroke:none;\"/>\n",
       "<path style=\"fill:none;stroke-width:1;stroke-linecap:butt;stroke-linejoin:miter;stroke:rgb(26.666667%,26.666667%,26.666667%);stroke-opacity:1;stroke-miterlimit:10;\" d=\"M 50 50 L 220.734375 50 \"/>\n",
       "<path style=\" stroke:none;fill-rule:nonzero;fill:rgb(26.666667%,26.666667%,26.666667%);fill-opacity:1;\" d=\"M 235 50 L 220.734375 54.636719 L 220.734375 45.363281 L 235 50 \"/>\n",
       "<path style=\"fill:none;stroke-width:1;stroke-linecap:butt;stroke-linejoin:miter;stroke:rgb(26.666667%,26.666667%,26.666667%);stroke-opacity:1;stroke-miterlimit:10;\" d=\"M 50 50 L 222.234375 107.410156 \"/>\n",
       "<path style=\" stroke:none;fill-rule:nonzero;fill:rgb(26.666667%,26.666667%,26.666667%);fill-opacity:1;\" d=\"M 235.769531 111.921875 L 220.769531 111.808594 L 223.703125 103.015625 L 235.769531 111.921875 \"/>\n",
       "<path style=\"fill:none;stroke-width:1;stroke-linecap:butt;stroke-linejoin:miter;stroke:rgb(26.666667%,26.666667%,26.666667%);stroke-opacity:1;stroke-miterlimit:10;\" d=\"M 50 116.667969 L 220.734375 116.667969 \"/>\n",
       "<path style=\" stroke:none;fill-rule:nonzero;fill:rgb(26.666667%,26.666667%,26.666667%);fill-opacity:1;\" d=\"M 235 116.667969 L 220.734375 121.300781 L 220.734375 112.03125 L 235 116.667969 \"/>\n",
       "<path style=\"fill:none;stroke-width:1;stroke-linecap:butt;stroke-linejoin:miter;stroke:rgb(26.666667%,26.666667%,26.666667%);stroke-opacity:1;stroke-miterlimit:10;\" d=\"M 50 50 L 225.648438 167.097656 \"/>\n",
       "<path style=\" stroke:none;fill-rule:nonzero;fill:rgb(26.666667%,26.666667%,26.666667%);fill-opacity:1;\" d=\"M 237.519531 175.011719 L 223.078125 170.957031 L 228.21875 163.242188 L 237.519531 175.011719 \"/>\n",
       "<path style=\"fill:none;stroke-width:1;stroke-linecap:butt;stroke-linejoin:miter;stroke:rgb(26.666667%,26.666667%,26.666667%);stroke-opacity:1;stroke-miterlimit:10;\" d=\"M 50 183.332031 L 220.734375 183.332031 \"/>\n",
       "<path style=\" stroke:none;fill-rule:nonzero;fill:rgb(26.666667%,26.666667%,26.666667%);fill-opacity:1;\" d=\"M 235 183.332031 L 220.734375 187.96875 L 220.734375 178.699219 L 235 183.332031 \"/>\n",
       "<path style=\"fill:none;stroke-width:1;stroke-linecap:butt;stroke-linejoin:miter;stroke:rgb(26.666667%,26.666667%,26.666667%);stroke-opacity:1;stroke-miterlimit:10;\" d=\"M 50 50 L 229.304688 229.304688 \"/>\n",
       "<path style=\" stroke:none;fill-rule:nonzero;fill:rgb(26.666667%,26.666667%,26.666667%);fill-opacity:1;\" d=\"M 239.394531 239.394531 L 226.027344 232.582031 L 232.582031 226.027344 L 239.394531 239.394531 \"/>\n",
       "<path style=\"fill:none;stroke-width:1;stroke-linecap:butt;stroke-linejoin:miter;stroke:rgb(26.666667%,26.666667%,26.666667%);stroke-opacity:1;stroke-miterlimit:10;\" d=\"M 50 250 L 220.734375 250 \"/>\n",
       "<path style=\" stroke:none;fill-rule:nonzero;fill:rgb(26.666667%,26.666667%,26.666667%);fill-opacity:1;\" d=\"M 235 250 L 220.734375 254.636719 L 220.734375 245.363281 L 235 250 \"/>\n",
       "<path style=\"fill:none;stroke-width:1;stroke-linecap:butt;stroke-linejoin:miter;stroke:rgb(26.666667%,26.666667%,26.666667%);stroke-opacity:1;stroke-miterlimit:10;\" d=\"M 50 116.667969 L 222.234375 59.253906 \"/>\n",
       "<path style=\" stroke:none;fill-rule:nonzero;fill:rgb(26.666667%,26.666667%,26.666667%);fill-opacity:1;\" d=\"M 235.769531 54.742188 L 223.703125 63.652344 L 220.769531 54.855469 L 235.769531 54.742188 \"/>\n",
       "<path style=\"fill:none;stroke-width:1;stroke-linecap:butt;stroke-linejoin:miter;stroke:rgb(26.666667%,26.666667%,26.666667%);stroke-opacity:1;stroke-miterlimit:10;\" d=\"M 50 116.667969 L 222.234375 174.078125 \"/>\n",
       "<path style=\" stroke:none;fill-rule:nonzero;fill:rgb(26.666667%,26.666667%,26.666667%);fill-opacity:1;\" d=\"M 235.769531 178.589844 L 220.769531 178.476562 L 223.703125 169.679688 L 235.769531 178.589844 \"/>\n",
       "<path style=\"fill:none;stroke-width:1;stroke-linecap:butt;stroke-linejoin:miter;stroke:rgb(26.666667%,26.666667%,26.666667%);stroke-opacity:1;stroke-miterlimit:10;\" d=\"M 250 50 L 420.734375 50 \"/>\n",
       "<path style=\" stroke:none;fill-rule:nonzero;fill:rgb(26.666667%,26.666667%,26.666667%);fill-opacity:1;\" d=\"M 435 50 L 420.734375 54.636719 L 420.734375 45.363281 L 435 50 \"/>\n",
       "<path style=\"fill:none;stroke-width:1;stroke-linecap:butt;stroke-linejoin:miter;stroke:rgb(26.666667%,26.666667%,26.666667%);stroke-opacity:1;stroke-miterlimit:10;\" d=\"M 250 50 L 422.234375 107.410156 \"/>\n",
       "<path style=\" stroke:none;fill-rule:nonzero;fill:rgb(26.666667%,26.666667%,26.666667%);fill-opacity:1;\" d=\"M 435.769531 111.921875 L 420.769531 111.808594 L 423.703125 103.015625 L 435.769531 111.921875 \"/>\n",
       "<path style=\"fill:none;stroke-width:1;stroke-linecap:butt;stroke-linejoin:miter;stroke:rgb(26.666667%,26.666667%,26.666667%);stroke-opacity:1;stroke-miterlimit:10;\" d=\"M 250 116.667969 L 420.734375 116.667969 \"/>\n",
       "<path style=\" stroke:none;fill-rule:nonzero;fill:rgb(26.666667%,26.666667%,26.666667%);fill-opacity:1;\" d=\"M 435 116.667969 L 420.734375 121.300781 L 420.734375 112.03125 L 435 116.667969 \"/>\n",
       "<path style=\"fill:none;stroke-width:1;stroke-linecap:butt;stroke-linejoin:miter;stroke:rgb(26.666667%,26.666667%,26.666667%);stroke-opacity:1;stroke-miterlimit:10;\" d=\"M 250 50 L 425.648438 167.097656 \"/>\n",
       "<path style=\" stroke:none;fill-rule:nonzero;fill:rgb(26.666667%,26.666667%,26.666667%);fill-opacity:1;\" d=\"M 437.519531 175.011719 L 423.078125 170.957031 L 428.21875 163.242188 L 437.519531 175.011719 \"/>\n",
       "<path style=\"fill:none;stroke-width:1;stroke-linecap:butt;stroke-linejoin:miter;stroke:rgb(26.666667%,26.666667%,26.666667%);stroke-opacity:1;stroke-miterlimit:10;\" d=\"M 250 183.332031 L 420.734375 183.332031 \"/>\n",
       "<path style=\" stroke:none;fill-rule:nonzero;fill:rgb(26.666667%,26.666667%,26.666667%);fill-opacity:1;\" d=\"M 435 183.332031 L 420.734375 187.96875 L 420.734375 178.699219 L 435 183.332031 \"/>\n",
       "<path style=\"fill:none;stroke-width:1;stroke-linecap:butt;stroke-linejoin:miter;stroke:rgb(26.666667%,26.666667%,26.666667%);stroke-opacity:1;stroke-miterlimit:10;\" d=\"M 250 50 L 429.304688 229.304688 \"/>\n",
       "<path style=\" stroke:none;fill-rule:nonzero;fill:rgb(26.666667%,26.666667%,26.666667%);fill-opacity:1;\" d=\"M 439.394531 239.394531 L 426.027344 232.582031 L 432.582031 226.027344 L 439.394531 239.394531 \"/>\n",
       "<path style=\"fill:none;stroke-width:1;stroke-linecap:butt;stroke-linejoin:miter;stroke:rgb(26.666667%,26.666667%,26.666667%);stroke-opacity:1;stroke-miterlimit:10;\" d=\"M 250 250 L 420.734375 250 \"/>\n",
       "<path style=\" stroke:none;fill-rule:nonzero;fill:rgb(26.666667%,26.666667%,26.666667%);fill-opacity:1;\" d=\"M 435 250 L 420.734375 254.636719 L 420.734375 245.363281 L 435 250 \"/>\n",
       "<path style=\"fill:none;stroke-width:1;stroke-linecap:butt;stroke-linejoin:miter;stroke:rgb(26.666667%,26.666667%,26.666667%);stroke-opacity:1;stroke-miterlimit:10;\" d=\"M 250 116.667969 L 422.234375 59.253906 \"/>\n",
       "<path style=\" stroke:none;fill-rule:nonzero;fill:rgb(26.666667%,26.666667%,26.666667%);fill-opacity:1;\" d=\"M 435.769531 54.742188 L 423.703125 63.652344 L 420.769531 54.855469 L 435.769531 54.742188 \"/>\n",
       "<path style=\"fill:none;stroke-width:1;stroke-linecap:butt;stroke-linejoin:miter;stroke:rgb(26.666667%,26.666667%,26.666667%);stroke-opacity:1;stroke-miterlimit:10;\" d=\"M 250 116.667969 L 422.234375 174.078125 \"/>\n",
       "<path style=\" stroke:none;fill-rule:nonzero;fill:rgb(26.666667%,26.666667%,26.666667%);fill-opacity:1;\" d=\"M 435.769531 178.589844 L 420.769531 178.476562 L 423.703125 169.679688 L 435.769531 178.589844 \"/>\n",
       "<path style=\"fill:none;stroke-width:1;stroke-linecap:butt;stroke-linejoin:miter;stroke:rgb(26.666667%,26.666667%,26.666667%);stroke-opacity:1;stroke-miterlimit:10;\" d=\"M 450 50 L 620.734375 50 \"/>\n",
       "<path style=\" stroke:none;fill-rule:nonzero;fill:rgb(26.666667%,26.666667%,26.666667%);fill-opacity:1;\" d=\"M 635 50 L 620.734375 54.636719 L 620.734375 45.363281 L 635 50 \"/>\n",
       "<path style=\"fill:none;stroke-width:1;stroke-linecap:butt;stroke-linejoin:miter;stroke:rgb(26.666667%,26.666667%,26.666667%);stroke-opacity:1;stroke-miterlimit:10;\" d=\"M 450 50 L 622.234375 107.410156 \"/>\n",
       "<path style=\" stroke:none;fill-rule:nonzero;fill:rgb(26.666667%,26.666667%,26.666667%);fill-opacity:1;\" d=\"M 635.769531 111.921875 L 620.769531 111.808594 L 623.703125 103.015625 L 635.769531 111.921875 \"/>\n",
       "<path style=\"fill:none;stroke-width:1;stroke-linecap:butt;stroke-linejoin:miter;stroke:rgb(26.666667%,26.666667%,26.666667%);stroke-opacity:1;stroke-miterlimit:10;\" d=\"M 450 116.667969 L 620.734375 116.667969 \"/>\n",
       "<path style=\" stroke:none;fill-rule:nonzero;fill:rgb(26.666667%,26.666667%,26.666667%);fill-opacity:1;\" d=\"M 635 116.667969 L 620.734375 121.300781 L 620.734375 112.03125 L 635 116.667969 \"/>\n",
       "<path style=\"fill:none;stroke-width:1;stroke-linecap:butt;stroke-linejoin:miter;stroke:rgb(26.666667%,26.666667%,26.666667%);stroke-opacity:1;stroke-miterlimit:10;\" d=\"M 450 50 L 625.648438 167.097656 \"/>\n",
       "<path style=\" stroke:none;fill-rule:nonzero;fill:rgb(26.666667%,26.666667%,26.666667%);fill-opacity:1;\" d=\"M 637.519531 175.011719 L 623.078125 170.957031 L 628.21875 163.242188 L 637.519531 175.011719 \"/>\n",
       "<path style=\"fill:none;stroke-width:1;stroke-linecap:butt;stroke-linejoin:miter;stroke:rgb(26.666667%,26.666667%,26.666667%);stroke-opacity:1;stroke-miterlimit:10;\" d=\"M 450 183.332031 L 620.734375 183.332031 \"/>\n",
       "<path style=\" stroke:none;fill-rule:nonzero;fill:rgb(26.666667%,26.666667%,26.666667%);fill-opacity:1;\" d=\"M 635 183.332031 L 620.734375 187.96875 L 620.734375 178.699219 L 635 183.332031 \"/>\n",
       "<path style=\"fill:none;stroke-width:1;stroke-linecap:butt;stroke-linejoin:miter;stroke:rgb(26.666667%,26.666667%,26.666667%);stroke-opacity:1;stroke-miterlimit:10;\" d=\"M 450 50 L 629.304688 229.304688 \"/>\n",
       "<path style=\" stroke:none;fill-rule:nonzero;fill:rgb(26.666667%,26.666667%,26.666667%);fill-opacity:1;\" d=\"M 639.394531 239.394531 L 626.027344 232.582031 L 632.582031 226.027344 L 639.394531 239.394531 \"/>\n",
       "<path style=\"fill:none;stroke-width:1;stroke-linecap:butt;stroke-linejoin:miter;stroke:rgb(26.666667%,26.666667%,26.666667%);stroke-opacity:1;stroke-miterlimit:10;\" d=\"M 450 250 L 620.734375 250 \"/>\n",
       "<path style=\" stroke:none;fill-rule:nonzero;fill:rgb(26.666667%,26.666667%,26.666667%);fill-opacity:1;\" d=\"M 635 250 L 620.734375 254.636719 L 620.734375 245.363281 L 635 250 \"/>\n",
       "<path style=\"fill:none;stroke-width:1;stroke-linecap:butt;stroke-linejoin:miter;stroke:rgb(26.666667%,26.666667%,26.666667%);stroke-opacity:1;stroke-miterlimit:10;\" d=\"M 450 116.667969 L 622.234375 59.253906 \"/>\n",
       "<path style=\" stroke:none;fill-rule:nonzero;fill:rgb(26.666667%,26.666667%,26.666667%);fill-opacity:1;\" d=\"M 635.769531 54.742188 L 623.703125 63.652344 L 620.769531 54.855469 L 635.769531 54.742188 \"/>\n",
       "<path style=\"fill:none;stroke-width:1;stroke-linecap:butt;stroke-linejoin:miter;stroke:rgb(26.666667%,26.666667%,26.666667%);stroke-opacity:1;stroke-miterlimit:10;\" d=\"M 450 116.667969 L 622.234375 174.078125 \"/>\n",
       "<path style=\" stroke:none;fill-rule:nonzero;fill:rgb(26.666667%,26.666667%,26.666667%);fill-opacity:1;\" d=\"M 635.769531 178.589844 L 620.769531 178.476562 L 623.703125 169.679688 L 635.769531 178.589844 \"/>\n",
       "<path style=\"fill-rule:nonzero;fill:rgb(55.294118%,82.745098%,78.039216%);fill-opacity:1;stroke-width:1;stroke-linecap:butt;stroke-linejoin:miter;stroke:rgb(0%,0%,0%);stroke-opacity:1;stroke-miterlimit:10;\" d=\"M 65 50 C 65 58.285156 58.285156 65 50 65 C 41.714844 65 35 58.285156 35 50 C 35 41.714844 41.714844 35 50 35 C 58.285156 35 65 41.714844 65 50 \"/>\n",
       "<path style=\"fill-rule:nonzero;fill:rgb(100%,100%,70.196078%);fill-opacity:1;stroke-width:1;stroke-linecap:butt;stroke-linejoin:miter;stroke:rgb(0%,0%,0%);stroke-opacity:1;stroke-miterlimit:10;\" d=\"M 65 116.667969 C 65 124.949219 58.285156 131.667969 50 131.667969 C 41.714844 131.667969 35 124.949219 35 116.667969 C 35 108.382812 41.714844 101.667969 50 101.667969 C 58.285156 101.667969 65 108.382812 65 116.667969 \"/>\n",
       "<path style=\"fill-rule:nonzero;fill:rgb(74.509804%,72.941176%,85.490196%);fill-opacity:1;stroke-width:1;stroke-linecap:butt;stroke-linejoin:miter;stroke:rgb(0%,0%,0%);stroke-opacity:1;stroke-miterlimit:10;\" d=\"M 65 183.332031 C 65 191.617188 58.285156 198.332031 50 198.332031 C 41.714844 198.332031 35 191.617188 35 183.332031 C 35 175.050781 41.714844 168.332031 50 168.332031 C 58.285156 168.332031 65 175.050781 65 183.332031 \"/>\n",
       "<path style=\"fill-rule:nonzero;fill:rgb(98.431373%,50.196078%,44.705882%);fill-opacity:1;stroke-width:1;stroke-linecap:butt;stroke-linejoin:miter;stroke:rgb(0%,0%,0%);stroke-opacity:1;stroke-miterlimit:10;\" d=\"M 65 250 C 65 258.285156 58.285156 265 50 265 C 41.714844 265 35 258.285156 35 250 C 35 241.714844 41.714844 235 50 235 C 58.285156 235 65 241.714844 65 250 \"/>\n",
       "<path style=\"fill-rule:nonzero;fill:rgb(55.294118%,82.745098%,78.039216%);fill-opacity:1;stroke-width:1;stroke-linecap:butt;stroke-linejoin:miter;stroke:rgb(0%,0%,0%);stroke-opacity:1;stroke-miterlimit:10;\" d=\"M 265 50 C 265 58.285156 258.285156 65 250 65 C 241.714844 65 235 58.285156 235 50 C 235 41.714844 241.714844 35 250 35 C 258.285156 35 265 41.714844 265 50 \"/>\n",
       "<path style=\"fill-rule:nonzero;fill:rgb(100%,100%,70.196078%);fill-opacity:1;stroke-width:1;stroke-linecap:butt;stroke-linejoin:miter;stroke:rgb(0%,0%,0%);stroke-opacity:1;stroke-miterlimit:10;\" d=\"M 265 116.667969 C 265 124.949219 258.285156 131.667969 250 131.667969 C 241.714844 131.667969 235 124.949219 235 116.667969 C 235 108.382812 241.714844 101.667969 250 101.667969 C 258.285156 101.667969 265 108.382812 265 116.667969 \"/>\n",
       "<path style=\"fill-rule:nonzero;fill:rgb(74.509804%,72.941176%,85.490196%);fill-opacity:1;stroke-width:1;stroke-linecap:butt;stroke-linejoin:miter;stroke:rgb(0%,0%,0%);stroke-opacity:1;stroke-miterlimit:10;\" d=\"M 265 183.332031 C 265 191.617188 258.285156 198.332031 250 198.332031 C 241.714844 198.332031 235 191.617188 235 183.332031 C 235 175.050781 241.714844 168.332031 250 168.332031 C 258.285156 168.332031 265 175.050781 265 183.332031 \"/>\n",
       "<path style=\"fill-rule:nonzero;fill:rgb(98.431373%,50.196078%,44.705882%);fill-opacity:1;stroke-width:1;stroke-linecap:butt;stroke-linejoin:miter;stroke:rgb(0%,0%,0%);stroke-opacity:1;stroke-miterlimit:10;\" d=\"M 265 250 C 265 258.285156 258.285156 265 250 265 C 241.714844 265 235 258.285156 235 250 C 235 241.714844 241.714844 235 250 235 C 258.285156 235 265 241.714844 265 250 \"/>\n",
       "<path style=\"fill-rule:nonzero;fill:rgb(55.294118%,82.745098%,78.039216%);fill-opacity:1;stroke-width:1;stroke-linecap:butt;stroke-linejoin:miter;stroke:rgb(0%,0%,0%);stroke-opacity:1;stroke-miterlimit:10;\" d=\"M 465 50 C 465 58.285156 458.285156 65 450 65 C 441.714844 65 435 58.285156 435 50 C 435 41.714844 441.714844 35 450 35 C 458.285156 35 465 41.714844 465 50 \"/>\n",
       "<path style=\"fill-rule:nonzero;fill:rgb(100%,100%,70.196078%);fill-opacity:1;stroke-width:1;stroke-linecap:butt;stroke-linejoin:miter;stroke:rgb(0%,0%,0%);stroke-opacity:1;stroke-miterlimit:10;\" d=\"M 465 116.667969 C 465 124.949219 458.285156 131.667969 450 131.667969 C 441.714844 131.667969 435 124.949219 435 116.667969 C 435 108.382812 441.714844 101.667969 450 101.667969 C 458.285156 101.667969 465 108.382812 465 116.667969 \"/>\n",
       "<path style=\"fill-rule:nonzero;fill:rgb(74.509804%,72.941176%,85.490196%);fill-opacity:1;stroke-width:1;stroke-linecap:butt;stroke-linejoin:miter;stroke:rgb(0%,0%,0%);stroke-opacity:1;stroke-miterlimit:10;\" d=\"M 465 183.332031 C 465 191.617188 458.285156 198.332031 450 198.332031 C 441.714844 198.332031 435 191.617188 435 183.332031 C 435 175.050781 441.714844 168.332031 450 168.332031 C 458.285156 168.332031 465 175.050781 465 183.332031 \"/>\n",
       "<path style=\"fill-rule:nonzero;fill:rgb(98.431373%,50.196078%,44.705882%);fill-opacity:1;stroke-width:1;stroke-linecap:butt;stroke-linejoin:miter;stroke:rgb(0%,0%,0%);stroke-opacity:1;stroke-miterlimit:10;\" d=\"M 465 250 C 465 258.285156 458.285156 265 450 265 C 441.714844 265 435 258.285156 435 250 C 435 241.714844 441.714844 235 450 235 C 458.285156 235 465 241.714844 465 250 \"/>\n",
       "<path style=\"fill-rule:nonzero;fill:rgb(55.294118%,82.745098%,78.039216%);fill-opacity:1;stroke-width:1;stroke-linecap:butt;stroke-linejoin:miter;stroke:rgb(0%,0%,0%);stroke-opacity:1;stroke-miterlimit:10;\" d=\"M 665 50 C 665 58.285156 658.285156 65 650 65 C 641.714844 65 635 58.285156 635 50 C 635 41.714844 641.714844 35 650 35 C 658.285156 35 665 41.714844 665 50 \"/>\n",
       "<path style=\"fill-rule:nonzero;fill:rgb(100%,100%,70.196078%);fill-opacity:1;stroke-width:1;stroke-linecap:butt;stroke-linejoin:miter;stroke:rgb(0%,0%,0%);stroke-opacity:1;stroke-miterlimit:10;\" d=\"M 665 116.667969 C 665 124.949219 658.285156 131.667969 650 131.667969 C 641.714844 131.667969 635 124.949219 635 116.667969 C 635 108.382812 641.714844 101.667969 650 101.667969 C 658.285156 101.667969 665 108.382812 665 116.667969 \"/>\n",
       "<path style=\"fill-rule:nonzero;fill:rgb(74.509804%,72.941176%,85.490196%);fill-opacity:1;stroke-width:1;stroke-linecap:butt;stroke-linejoin:miter;stroke:rgb(0%,0%,0%);stroke-opacity:1;stroke-miterlimit:10;\" d=\"M 665 183.332031 C 665 191.617188 658.285156 198.332031 650 198.332031 C 641.714844 198.332031 635 191.617188 635 183.332031 C 635 175.050781 641.714844 168.332031 650 168.332031 C 658.285156 168.332031 665 175.050781 665 183.332031 \"/>\n",
       "<path style=\"fill-rule:nonzero;fill:rgb(98.431373%,50.196078%,44.705882%);fill-opacity:1;stroke-width:1;stroke-linecap:butt;stroke-linejoin:miter;stroke:rgb(0%,0%,0%);stroke-opacity:1;stroke-miterlimit:10;\" d=\"M 665 250 C 665 258.285156 658.285156 265 650 265 C 641.714844 265 635 258.285156 635 250 C 635 241.714844 641.714844 235 650 235 C 658.285156 235 665 241.714844 665 250 \"/>\n",
       "<g style=\"fill:rgb(0%,0%,0%);fill-opacity:1;\">\n",
       "  <use xlink:href=\"#glyph0-1\" x=\"42.050781\" y=\"54.890625\"/>\n",
       "  <use xlink:href=\"#glyph0-2\" x=\"48.413086\" y=\"54.890625\"/>\n",
       "  <use xlink:href=\"#glyph0-1\" x=\"51.591797\" y=\"54.890625\"/>\n",
       "</g>\n",
       "<g style=\"fill:rgb(0%,0%,0%);fill-opacity:1;\">\n",
       "  <use xlink:href=\"#glyph0-1\" x=\"42.179688\" y=\"121.558594\"/>\n",
       "  <use xlink:href=\"#glyph0-2\" x=\"48.541992\" y=\"121.558594\"/>\n",
       "  <use xlink:href=\"#glyph0-3\" x=\"51.720703\" y=\"121.558594\"/>\n",
       "</g>\n",
       "<g style=\"fill:rgb(0%,0%,0%);fill-opacity:1;\">\n",
       "  <use xlink:href=\"#glyph0-1\" x=\"42.21875\" y=\"188.222656\"/>\n",
       "  <use xlink:href=\"#glyph0-2\" x=\"48.581055\" y=\"188.222656\"/>\n",
       "  <use xlink:href=\"#glyph0-4\" x=\"51.759766\" y=\"188.222656\"/>\n",
       "</g>\n",
       "<g style=\"fill:rgb(0%,0%,0%);fill-opacity:1;\">\n",
       "  <use xlink:href=\"#glyph0-1\" x=\"42.117188\" y=\"254.890625\"/>\n",
       "  <use xlink:href=\"#glyph0-2\" x=\"48.479492\" y=\"254.890625\"/>\n",
       "  <use xlink:href=\"#glyph0-5\" x=\"51.658203\" y=\"254.890625\"/>\n",
       "</g>\n",
       "<g style=\"fill:rgb(0%,0%,0%);fill-opacity:1;\">\n",
       "  <use xlink:href=\"#glyph0-3\" x=\"241.832031\" y=\"54.890625\"/>\n",
       "  <use xlink:href=\"#glyph0-2\" x=\"248.194336\" y=\"54.890625\"/>\n",
       "  <use xlink:href=\"#glyph0-1\" x=\"251.373047\" y=\"54.890625\"/>\n",
       "</g>\n",
       "<g style=\"fill:rgb(0%,0%,0%);fill-opacity:1;\">\n",
       "  <use xlink:href=\"#glyph0-3\" x=\"241.960938\" y=\"121.492188\"/>\n",
       "  <use xlink:href=\"#glyph0-2\" x=\"248.323242\" y=\"121.492188\"/>\n",
       "  <use xlink:href=\"#glyph0-3\" x=\"251.501953\" y=\"121.492188\"/>\n",
       "</g>\n",
       "<g style=\"fill:rgb(0%,0%,0%);fill-opacity:1;\">\n",
       "  <use xlink:href=\"#glyph0-3\" x=\"242\" y=\"188.222656\"/>\n",
       "  <use xlink:href=\"#glyph0-2\" x=\"248.362305\" y=\"188.222656\"/>\n",
       "  <use xlink:href=\"#glyph0-4\" x=\"251.541016\" y=\"188.222656\"/>\n",
       "</g>\n",
       "<g style=\"fill:rgb(0%,0%,0%);fill-opacity:1;\">\n",
       "  <use xlink:href=\"#glyph0-3\" x=\"241.898438\" y=\"254.890625\"/>\n",
       "  <use xlink:href=\"#glyph0-2\" x=\"248.260742\" y=\"254.890625\"/>\n",
       "  <use xlink:href=\"#glyph0-5\" x=\"251.439453\" y=\"254.890625\"/>\n",
       "</g>\n",
       "<g style=\"fill:rgb(0%,0%,0%);fill-opacity:1;\">\n",
       "  <use xlink:href=\"#glyph0-4\" x=\"442.015625\" y=\"54.890625\"/>\n",
       "  <use xlink:href=\"#glyph0-2\" x=\"448.37793\" y=\"54.890625\"/>\n",
       "  <use xlink:href=\"#glyph0-1\" x=\"451.556641\" y=\"54.890625\"/>\n",
       "</g>\n",
       "<g style=\"fill:rgb(0%,0%,0%);fill-opacity:1;\">\n",
       "  <use xlink:href=\"#glyph0-4\" x=\"442.144531\" y=\"121.558594\"/>\n",
       "  <use xlink:href=\"#glyph0-2\" x=\"448.506836\" y=\"121.558594\"/>\n",
       "  <use xlink:href=\"#glyph0-3\" x=\"451.685547\" y=\"121.558594\"/>\n",
       "</g>\n",
       "<g style=\"fill:rgb(0%,0%,0%);fill-opacity:1;\">\n",
       "  <use xlink:href=\"#glyph0-4\" x=\"442.183594\" y=\"188.222656\"/>\n",
       "  <use xlink:href=\"#glyph0-2\" x=\"448.545898\" y=\"188.222656\"/>\n",
       "  <use xlink:href=\"#glyph0-4\" x=\"451.724609\" y=\"188.222656\"/>\n",
       "</g>\n",
       "<g style=\"fill:rgb(0%,0%,0%);fill-opacity:1;\">\n",
       "  <use xlink:href=\"#glyph0-4\" x=\"442.082031\" y=\"254.890625\"/>\n",
       "  <use xlink:href=\"#glyph0-2\" x=\"448.444336\" y=\"254.890625\"/>\n",
       "  <use xlink:href=\"#glyph0-5\" x=\"451.623047\" y=\"254.890625\"/>\n",
       "</g>\n",
       "<g style=\"fill:rgb(0%,0%,0%);fill-opacity:1;\">\n",
       "  <use xlink:href=\"#glyph0-5\" x=\"642\" y=\"54.890625\"/>\n",
       "  <use xlink:href=\"#glyph0-2\" x=\"648.362305\" y=\"54.890625\"/>\n",
       "  <use xlink:href=\"#glyph0-1\" x=\"651.541016\" y=\"54.890625\"/>\n",
       "</g>\n",
       "<g style=\"fill:rgb(0%,0%,0%);fill-opacity:1;\">\n",
       "  <use xlink:href=\"#glyph0-5\" x=\"642.128906\" y=\"121.558594\"/>\n",
       "  <use xlink:href=\"#glyph0-2\" x=\"648.491211\" y=\"121.558594\"/>\n",
       "  <use xlink:href=\"#glyph0-3\" x=\"651.669922\" y=\"121.558594\"/>\n",
       "</g>\n",
       "<g style=\"fill:rgb(0%,0%,0%);fill-opacity:1;\">\n",
       "  <use xlink:href=\"#glyph0-5\" x=\"642.167969\" y=\"188.222656\"/>\n",
       "  <use xlink:href=\"#glyph0-2\" x=\"648.530273\" y=\"188.222656\"/>\n",
       "  <use xlink:href=\"#glyph0-4\" x=\"651.708984\" y=\"188.222656\"/>\n",
       "</g>\n",
       "<g style=\"fill:rgb(0%,0%,0%);fill-opacity:1;\">\n",
       "  <use xlink:href=\"#glyph0-5\" x=\"642.066406\" y=\"254.890625\"/>\n",
       "  <use xlink:href=\"#glyph0-2\" x=\"648.428711\" y=\"254.890625\"/>\n",
       "  <use xlink:href=\"#glyph0-5\" x=\"651.607422\" y=\"254.890625\"/>\n",
       "</g>\n",
       "</g>\n",
       "</svg>\n"
      ],
      "text/plain": [
       "<igraph.drawing.Plot at 0x7f9b93a0b048>"
      ]
     },
     "execution_count": 33,
     "metadata": {
      "image/svg+xml": {
       "isolated": true
      }
     },
     "output_type": "execute_result"
    }
   ],
   "source": [
    "ig.plot(tug, **util.get_visual_style(tug), bbox=(700, 300), margin=50)"
   ]
  },
  {
   "cell_type": "markdown",
   "metadata": {
    "slideshow": {
     "slide_type": "subslide"
    }
   },
   "source": [
    "## Pricing ad Optimization\n",
    "\n",
    "**When you want to consider all paths in a directed graph**\n",
    "\n",
    "* ...It is convenient to add a fake source node\n",
    "* Then you can assume that all paths start from that node"
   ]
  },
  {
   "cell_type": "code",
   "execution_count": 34,
   "metadata": {},
   "outputs": [
    {
     "data": {
      "image/svg+xml": [
       "<?xml version=\"1.0\" encoding=\"UTF-8\"?>\n",
       "<svg xmlns=\"http://www.w3.org/2000/svg\" xmlns:xlink=\"http://www.w3.org/1999/xlink\" width=\"700pt\" height=\"300pt\" viewBox=\"0 0 700 300\" version=\"1.1\">\n",
       "<defs>\n",
       "<g>\n",
       "<symbol overflow=\"visible\" id=\"glyph0-0\">\n",
       "<path style=\"stroke:none;\" d=\"M 0.5 1.765625 L 0.5 -7.046875 L 5.5 -7.046875 L 5.5 1.765625 Z M 1.0625 1.21875 L 4.9375 1.21875 L 4.9375 -6.484375 L 1.0625 -6.484375 Z M 1.0625 1.21875 \"/>\n",
       "</symbol>\n",
       "<symbol overflow=\"visible\" id=\"glyph0-1\">\n",
       "<path style=\"stroke:none;\" d=\"M 3.171875 -6.640625 C 2.671875 -6.640625 2.289062 -6.390625 2.03125 -5.890625 C 1.78125 -5.390625 1.65625 -4.640625 1.65625 -3.640625 C 1.65625 -2.640625 1.78125 -1.890625 2.03125 -1.390625 C 2.289062 -0.890625 2.671875 -0.640625 3.171875 -0.640625 C 3.691406 -0.640625 4.078125 -0.890625 4.328125 -1.390625 C 4.585938 -1.890625 4.71875 -2.640625 4.71875 -3.640625 C 4.71875 -4.640625 4.585938 -5.390625 4.328125 -5.890625 C 4.078125 -6.390625 3.691406 -6.640625 3.171875 -6.640625 Z M 3.171875 -7.421875 C 3.992188 -7.421875 4.617188 -7.097656 5.046875 -6.453125 C 5.484375 -5.804688 5.703125 -4.867188 5.703125 -3.640625 C 5.703125 -2.410156 5.484375 -1.472656 5.046875 -0.828125 C 4.617188 -0.179688 3.992188 0.140625 3.171875 0.140625 C 2.359375 0.140625 1.734375 -0.179688 1.296875 -0.828125 C 0.867188 -1.472656 0.65625 -2.410156 0.65625 -3.640625 C 0.65625 -4.867188 0.867188 -5.804688 1.296875 -6.453125 C 1.734375 -7.097656 2.359375 -7.421875 3.171875 -7.421875 Z M 3.171875 -7.421875 \"/>\n",
       "</symbol>\n",
       "<symbol overflow=\"visible\" id=\"glyph0-2\">\n",
       "<path style=\"stroke:none;\" d=\"M 1.171875 -1.234375 L 2.203125 -1.234375 L 2.203125 -0.40625 L 1.40625 1.15625 L 0.765625 1.15625 L 1.171875 -0.40625 Z M 1.171875 -1.234375 \"/>\n",
       "</symbol>\n",
       "<symbol overflow=\"visible\" id=\"glyph0-3\">\n",
       "<path style=\"stroke:none;\" d=\"M 1.234375 -0.828125 L 2.859375 -0.828125 L 2.859375 -6.390625 L 1.09375 -6.046875 L 1.09375 -6.9375 L 2.84375 -7.296875 L 3.828125 -7.296875 L 3.828125 -0.828125 L 5.4375 -0.828125 L 5.4375 0 L 1.234375 0 Z M 1.234375 -0.828125 \"/>\n",
       "</symbol>\n",
       "<symbol overflow=\"visible\" id=\"glyph0-4\">\n",
       "<path style=\"stroke:none;\" d=\"M 1.921875 -0.828125 L 5.359375 -0.828125 L 5.359375 0 L 0.734375 0 L 0.734375 -0.828125 C 1.109375 -1.210938 1.617188 -1.734375 2.265625 -2.390625 C 2.910156 -3.046875 3.316406 -3.46875 3.484375 -3.65625 C 3.796875 -4.007812 4.015625 -4.304688 4.140625 -4.546875 C 4.265625 -4.796875 4.328125 -5.039062 4.328125 -5.28125 C 4.328125 -5.664062 4.191406 -5.976562 3.921875 -6.21875 C 3.648438 -6.46875 3.296875 -6.59375 2.859375 -6.59375 C 2.546875 -6.59375 2.21875 -6.535156 1.875 -6.421875 C 1.539062 -6.316406 1.175781 -6.15625 0.78125 -5.9375 L 0.78125 -6.9375 C 1.175781 -7.09375 1.546875 -7.210938 1.890625 -7.296875 C 2.234375 -7.378906 2.550781 -7.421875 2.84375 -7.421875 C 3.59375 -7.421875 4.191406 -7.234375 4.640625 -6.859375 C 5.097656 -6.484375 5.328125 -5.976562 5.328125 -5.34375 C 5.328125 -5.039062 5.269531 -4.753906 5.15625 -4.484375 C 5.039062 -4.222656 4.835938 -3.910156 4.546875 -3.546875 C 4.460938 -3.453125 4.203125 -3.175781 3.765625 -2.71875 C 3.328125 -2.269531 2.710938 -1.640625 1.921875 -0.828125 Z M 1.921875 -0.828125 \"/>\n",
       "</symbol>\n",
       "<symbol overflow=\"visible\" id=\"glyph0-5\">\n",
       "<path style=\"stroke:none;\" d=\"M 4.0625 -3.9375 C 4.53125 -3.832031 4.894531 -3.617188 5.15625 -3.296875 C 5.425781 -2.984375 5.5625 -2.59375 5.5625 -2.125 C 5.5625 -1.40625 5.3125 -0.847656 4.8125 -0.453125 C 4.320312 -0.0546875 3.617188 0.140625 2.703125 0.140625 C 2.398438 0.140625 2.085938 0.109375 1.765625 0.046875 C 1.441406 -0.015625 1.109375 -0.101562 0.765625 -0.21875 L 0.765625 -1.171875 C 1.035156 -1.015625 1.332031 -0.894531 1.65625 -0.8125 C 1.988281 -0.726562 2.332031 -0.6875 2.6875 -0.6875 C 3.300781 -0.6875 3.769531 -0.804688 4.09375 -1.046875 C 4.414062 -1.296875 4.578125 -1.65625 4.578125 -2.125 C 4.578125 -2.550781 4.425781 -2.882812 4.125 -3.125 C 3.820312 -3.363281 3.40625 -3.484375 2.875 -3.484375 L 2.015625 -3.484375 L 2.015625 -4.296875 L 2.90625 -4.296875 C 3.394531 -4.296875 3.765625 -4.394531 4.015625 -4.59375 C 4.273438 -4.789062 4.40625 -5.070312 4.40625 -5.4375 C 4.40625 -5.800781 4.269531 -6.082031 4 -6.28125 C 3.738281 -6.488281 3.363281 -6.59375 2.875 -6.59375 C 2.601562 -6.59375 2.3125 -6.5625 2 -6.5 C 1.6875 -6.445312 1.347656 -6.359375 0.984375 -6.234375 L 0.984375 -7.109375 C 1.359375 -7.210938 1.707031 -7.289062 2.03125 -7.34375 C 2.363281 -7.394531 2.671875 -7.421875 2.953125 -7.421875 C 3.703125 -7.421875 4.296875 -7.25 4.734375 -6.90625 C 5.171875 -6.570312 5.390625 -6.113281 5.390625 -5.53125 C 5.390625 -5.125 5.273438 -4.78125 5.046875 -4.5 C 4.816406 -4.226562 4.488281 -4.039062 4.0625 -3.9375 Z M 4.0625 -3.9375 \"/>\n",
       "</symbol>\n",
       "<symbol overflow=\"visible\" id=\"glyph0-6\">\n",
       "<path style=\"stroke:none;\" d=\"M 0.484375 -3.140625 L 3.125 -3.140625 L 3.125 -2.34375 L 0.484375 -2.34375 Z M 0.484375 -3.140625 \"/>\n",
       "</symbol>\n",
       "</g>\n",
       "</defs>\n",
       "<g id=\"surface32\">\n",
       "<rect x=\"0\" y=\"0\" width=\"700\" height=\"300\" style=\"fill:rgb(100%,100%,100%);fill-opacity:1;stroke:none;\"/>\n",
       "<path style=\"fill:none;stroke-width:1;stroke-linecap:butt;stroke-linejoin:miter;stroke:rgb(26.666667%,26.666667%,26.666667%);stroke-opacity:1;stroke-miterlimit:10;\" d=\"M 200 50 L 320.734375 50 \"/>\n",
       "<path style=\" stroke:none;fill-rule:nonzero;fill:rgb(26.666667%,26.666667%,26.666667%);fill-opacity:1;\" d=\"M 335 50 L 320.734375 54.636719 L 320.734375 45.363281 L 335 50 \"/>\n",
       "<path style=\"fill:none;stroke-width:1;stroke-linecap:butt;stroke-linejoin:miter;stroke:rgb(26.666667%,26.666667%,26.666667%);stroke-opacity:1;stroke-miterlimit:10;\" d=\"M 200 50 L 323.257812 104.78125 \"/>\n",
       "<path style=\" stroke:none;fill-rule:nonzero;fill:rgb(26.666667%,26.666667%,26.666667%);fill-opacity:1;\" d=\"M 336.292969 110.574219 L 321.375 109.015625 L 325.140625 100.546875 L 336.292969 110.574219 \"/>\n",
       "<path style=\"fill:none;stroke-width:1;stroke-linecap:butt;stroke-linejoin:miter;stroke:rgb(26.666667%,26.666667%,26.666667%);stroke-opacity:1;stroke-miterlimit:10;\" d=\"M 200 116.667969 L 320.734375 116.667969 \"/>\n",
       "<path style=\" stroke:none;fill-rule:nonzero;fill:rgb(26.666667%,26.666667%,26.666667%);fill-opacity:1;\" d=\"M 335 116.667969 L 320.734375 121.300781 L 320.734375 112.03125 L 335 116.667969 \"/>\n",
       "<path style=\"fill:none;stroke-width:1;stroke-linecap:butt;stroke-linejoin:miter;stroke:rgb(26.666667%,26.666667%,26.666667%);stroke-opacity:1;stroke-miterlimit:10;\" d=\"M 200 50 L 328.125 163.890625 \"/>\n",
       "<path style=\" stroke:none;fill-rule:nonzero;fill:rgb(26.666667%,26.666667%,26.666667%);fill-opacity:1;\" d=\"M 338.789062 173.367188 L 325.046875 167.355469 L 331.207031 160.425781 L 338.789062 173.367188 \"/>\n",
       "<path style=\"fill:none;stroke-width:1;stroke-linecap:butt;stroke-linejoin:miter;stroke:rgb(26.666667%,26.666667%,26.666667%);stroke-opacity:1;stroke-miterlimit:10;\" d=\"M 200 183.332031 L 320.734375 183.332031 \"/>\n",
       "<path style=\" stroke:none;fill-rule:nonzero;fill:rgb(26.666667%,26.666667%,26.666667%);fill-opacity:1;\" d=\"M 335 183.332031 L 320.734375 187.96875 L 320.734375 178.699219 L 335 183.332031 \"/>\n",
       "<path style=\"fill:none;stroke-width:1;stroke-linecap:butt;stroke-linejoin:miter;stroke:rgb(26.666667%,26.666667%,26.666667%);stroke-opacity:1;stroke-miterlimit:10;\" d=\"M 200 50 L 332.441406 226.585938 \"/>\n",
       "<path style=\" stroke:none;fill-rule:nonzero;fill:rgb(26.666667%,26.666667%,26.666667%);fill-opacity:1;\" d=\"M 341 238 L 328.730469 229.367188 L 336.148438 223.804688 L 341 238 \"/>\n",
       "<path style=\"fill:none;stroke-width:1;stroke-linecap:butt;stroke-linejoin:miter;stroke:rgb(26.666667%,26.666667%,26.666667%);stroke-opacity:1;stroke-miterlimit:10;\" d=\"M 200 250 L 320.734375 250 \"/>\n",
       "<path style=\" stroke:none;fill-rule:nonzero;fill:rgb(26.666667%,26.666667%,26.666667%);fill-opacity:1;\" d=\"M 335 250 L 320.734375 254.636719 L 320.734375 245.363281 L 335 250 \"/>\n",
       "<path style=\"fill:none;stroke-width:1;stroke-linecap:butt;stroke-linejoin:miter;stroke:rgb(26.666667%,26.666667%,26.666667%);stroke-opacity:1;stroke-miterlimit:10;\" d=\"M 200 116.667969 L 323.257812 61.886719 \"/>\n",
       "<path style=\" stroke:none;fill-rule:nonzero;fill:rgb(26.666667%,26.666667%,26.666667%);fill-opacity:1;\" d=\"M 336.292969 56.09375 L 325.140625 66.121094 L 321.375 57.648438 L 336.292969 56.09375 \"/>\n",
       "<path style=\"fill:none;stroke-width:1;stroke-linecap:butt;stroke-linejoin:miter;stroke:rgb(26.666667%,26.666667%,26.666667%);stroke-opacity:1;stroke-miterlimit:10;\" d=\"M 200 116.667969 L 323.257812 171.449219 \"/>\n",
       "<path style=\" stroke:none;fill-rule:nonzero;fill:rgb(26.666667%,26.666667%,26.666667%);fill-opacity:1;\" d=\"M 336.292969 177.242188 L 321.375 175.683594 L 325.140625 167.210938 L 336.292969 177.242188 \"/>\n",
       "<path style=\"fill:none;stroke-width:1;stroke-linecap:butt;stroke-linejoin:miter;stroke:rgb(26.666667%,26.666667%,26.666667%);stroke-opacity:1;stroke-miterlimit:10;\" d=\"M 350 50 L 470.734375 50 \"/>\n",
       "<path style=\" stroke:none;fill-rule:nonzero;fill:rgb(26.666667%,26.666667%,26.666667%);fill-opacity:1;\" d=\"M 485 50 L 470.734375 54.636719 L 470.734375 45.363281 L 485 50 \"/>\n",
       "<path style=\"fill:none;stroke-width:1;stroke-linecap:butt;stroke-linejoin:miter;stroke:rgb(26.666667%,26.666667%,26.666667%);stroke-opacity:1;stroke-miterlimit:10;\" d=\"M 350 50 L 473.257812 104.78125 \"/>\n",
       "<path style=\" stroke:none;fill-rule:nonzero;fill:rgb(26.666667%,26.666667%,26.666667%);fill-opacity:1;\" d=\"M 486.292969 110.574219 L 471.375 109.015625 L 475.140625 100.546875 L 486.292969 110.574219 \"/>\n",
       "<path style=\"fill:none;stroke-width:1;stroke-linecap:butt;stroke-linejoin:miter;stroke:rgb(26.666667%,26.666667%,26.666667%);stroke-opacity:1;stroke-miterlimit:10;\" d=\"M 350 116.667969 L 470.734375 116.667969 \"/>\n",
       "<path style=\" stroke:none;fill-rule:nonzero;fill:rgb(26.666667%,26.666667%,26.666667%);fill-opacity:1;\" d=\"M 485 116.667969 L 470.734375 121.300781 L 470.734375 112.03125 L 485 116.667969 \"/>\n",
       "<path style=\"fill:none;stroke-width:1;stroke-linecap:butt;stroke-linejoin:miter;stroke:rgb(26.666667%,26.666667%,26.666667%);stroke-opacity:1;stroke-miterlimit:10;\" d=\"M 350 50 L 478.125 163.890625 \"/>\n",
       "<path style=\" stroke:none;fill-rule:nonzero;fill:rgb(26.666667%,26.666667%,26.666667%);fill-opacity:1;\" d=\"M 488.789062 173.367188 L 475.046875 167.355469 L 481.207031 160.425781 L 488.789062 173.367188 \"/>\n",
       "<path style=\"fill:none;stroke-width:1;stroke-linecap:butt;stroke-linejoin:miter;stroke:rgb(26.666667%,26.666667%,26.666667%);stroke-opacity:1;stroke-miterlimit:10;\" d=\"M 350 183.332031 L 470.734375 183.332031 \"/>\n",
       "<path style=\" stroke:none;fill-rule:nonzero;fill:rgb(26.666667%,26.666667%,26.666667%);fill-opacity:1;\" d=\"M 485 183.332031 L 470.734375 187.96875 L 470.734375 178.699219 L 485 183.332031 \"/>\n",
       "<path style=\"fill:none;stroke-width:1;stroke-linecap:butt;stroke-linejoin:miter;stroke:rgb(26.666667%,26.666667%,26.666667%);stroke-opacity:1;stroke-miterlimit:10;\" d=\"M 350 50 L 482.441406 226.585938 \"/>\n",
       "<path style=\" stroke:none;fill-rule:nonzero;fill:rgb(26.666667%,26.666667%,26.666667%);fill-opacity:1;\" d=\"M 491 238 L 478.730469 229.367188 L 486.148438 223.804688 L 491 238 \"/>\n",
       "<path style=\"fill:none;stroke-width:1;stroke-linecap:butt;stroke-linejoin:miter;stroke:rgb(26.666667%,26.666667%,26.666667%);stroke-opacity:1;stroke-miterlimit:10;\" d=\"M 350 250 L 470.734375 250 \"/>\n",
       "<path style=\" stroke:none;fill-rule:nonzero;fill:rgb(26.666667%,26.666667%,26.666667%);fill-opacity:1;\" d=\"M 485 250 L 470.734375 254.636719 L 470.734375 245.363281 L 485 250 \"/>\n",
       "<path style=\"fill:none;stroke-width:1;stroke-linecap:butt;stroke-linejoin:miter;stroke:rgb(26.666667%,26.666667%,26.666667%);stroke-opacity:1;stroke-miterlimit:10;\" d=\"M 350 116.667969 L 473.257812 61.886719 \"/>\n",
       "<path style=\" stroke:none;fill-rule:nonzero;fill:rgb(26.666667%,26.666667%,26.666667%);fill-opacity:1;\" d=\"M 486.292969 56.09375 L 475.140625 66.121094 L 471.375 57.648438 L 486.292969 56.09375 \"/>\n",
       "<path style=\"fill:none;stroke-width:1;stroke-linecap:butt;stroke-linejoin:miter;stroke:rgb(26.666667%,26.666667%,26.666667%);stroke-opacity:1;stroke-miterlimit:10;\" d=\"M 350 116.667969 L 473.257812 171.449219 \"/>\n",
       "<path style=\" stroke:none;fill-rule:nonzero;fill:rgb(26.666667%,26.666667%,26.666667%);fill-opacity:1;\" d=\"M 486.292969 177.242188 L 471.375 175.683594 L 475.140625 167.210938 L 486.292969 177.242188 \"/>\n",
       "<path style=\"fill:none;stroke-width:1;stroke-linecap:butt;stroke-linejoin:miter;stroke:rgb(26.666667%,26.666667%,26.666667%);stroke-opacity:1;stroke-miterlimit:10;\" d=\"M 500 50 L 620.734375 50 \"/>\n",
       "<path style=\" stroke:none;fill-rule:nonzero;fill:rgb(26.666667%,26.666667%,26.666667%);fill-opacity:1;\" d=\"M 635 50 L 620.734375 54.636719 L 620.734375 45.363281 L 635 50 \"/>\n",
       "<path style=\"fill:none;stroke-width:1;stroke-linecap:butt;stroke-linejoin:miter;stroke:rgb(26.666667%,26.666667%,26.666667%);stroke-opacity:1;stroke-miterlimit:10;\" d=\"M 500 50 L 623.257812 104.78125 \"/>\n",
       "<path style=\" stroke:none;fill-rule:nonzero;fill:rgb(26.666667%,26.666667%,26.666667%);fill-opacity:1;\" d=\"M 636.292969 110.574219 L 621.375 109.015625 L 625.140625 100.546875 L 636.292969 110.574219 \"/>\n",
       "<path style=\"fill:none;stroke-width:1;stroke-linecap:butt;stroke-linejoin:miter;stroke:rgb(26.666667%,26.666667%,26.666667%);stroke-opacity:1;stroke-miterlimit:10;\" d=\"M 500 116.667969 L 620.734375 116.667969 \"/>\n",
       "<path style=\" stroke:none;fill-rule:nonzero;fill:rgb(26.666667%,26.666667%,26.666667%);fill-opacity:1;\" d=\"M 635 116.667969 L 620.734375 121.300781 L 620.734375 112.03125 L 635 116.667969 \"/>\n",
       "<path style=\"fill:none;stroke-width:1;stroke-linecap:butt;stroke-linejoin:miter;stroke:rgb(26.666667%,26.666667%,26.666667%);stroke-opacity:1;stroke-miterlimit:10;\" d=\"M 500 50 L 628.125 163.890625 \"/>\n",
       "<path style=\" stroke:none;fill-rule:nonzero;fill:rgb(26.666667%,26.666667%,26.666667%);fill-opacity:1;\" d=\"M 638.789062 173.367188 L 625.046875 167.355469 L 631.207031 160.425781 L 638.789062 173.367188 \"/>\n",
       "<path style=\"fill:none;stroke-width:1;stroke-linecap:butt;stroke-linejoin:miter;stroke:rgb(26.666667%,26.666667%,26.666667%);stroke-opacity:1;stroke-miterlimit:10;\" d=\"M 500 183.332031 L 620.734375 183.332031 \"/>\n",
       "<path style=\" stroke:none;fill-rule:nonzero;fill:rgb(26.666667%,26.666667%,26.666667%);fill-opacity:1;\" d=\"M 635 183.332031 L 620.734375 187.96875 L 620.734375 178.699219 L 635 183.332031 \"/>\n",
       "<path style=\"fill:none;stroke-width:1;stroke-linecap:butt;stroke-linejoin:miter;stroke:rgb(26.666667%,26.666667%,26.666667%);stroke-opacity:1;stroke-miterlimit:10;\" d=\"M 500 50 L 632.441406 226.585938 \"/>\n",
       "<path style=\" stroke:none;fill-rule:nonzero;fill:rgb(26.666667%,26.666667%,26.666667%);fill-opacity:1;\" d=\"M 641 238 L 628.730469 229.367188 L 636.148438 223.804688 L 641 238 \"/>\n",
       "<path style=\"fill:none;stroke-width:1;stroke-linecap:butt;stroke-linejoin:miter;stroke:rgb(26.666667%,26.666667%,26.666667%);stroke-opacity:1;stroke-miterlimit:10;\" d=\"M 500 250 L 620.734375 250 \"/>\n",
       "<path style=\" stroke:none;fill-rule:nonzero;fill:rgb(26.666667%,26.666667%,26.666667%);fill-opacity:1;\" d=\"M 635 250 L 620.734375 254.636719 L 620.734375 245.363281 L 635 250 \"/>\n",
       "<path style=\"fill:none;stroke-width:1;stroke-linecap:butt;stroke-linejoin:miter;stroke:rgb(26.666667%,26.666667%,26.666667%);stroke-opacity:1;stroke-miterlimit:10;\" d=\"M 500 116.667969 L 623.257812 61.886719 \"/>\n",
       "<path style=\" stroke:none;fill-rule:nonzero;fill:rgb(26.666667%,26.666667%,26.666667%);fill-opacity:1;\" d=\"M 636.292969 56.09375 L 625.140625 66.121094 L 621.375 57.648438 L 636.292969 56.09375 \"/>\n",
       "<path style=\"fill:none;stroke-width:1;stroke-linecap:butt;stroke-linejoin:miter;stroke:rgb(26.666667%,26.666667%,26.666667%);stroke-opacity:1;stroke-miterlimit:10;\" d=\"M 500 116.667969 L 623.257812 171.449219 \"/>\n",
       "<path style=\" stroke:none;fill-rule:nonzero;fill:rgb(26.666667%,26.666667%,26.666667%);fill-opacity:1;\" d=\"M 636.292969 177.242188 L 621.375 175.683594 L 625.140625 167.210938 L 636.292969 177.242188 \"/>\n",
       "<path style=\"fill:none;stroke-width:1;stroke-linecap:butt;stroke-linejoin:miter;stroke:rgb(26.666667%,26.666667%,26.666667%);stroke-opacity:1;stroke-miterlimit:10;\" d=\"M 50 150 L 175.648438 66.234375 \"/>\n",
       "<path style=\" stroke:none;fill-rule:nonzero;fill:rgb(26.666667%,26.666667%,26.666667%);fill-opacity:1;\" d=\"M 187.519531 58.320312 L 178.21875 70.089844 L 173.078125 62.378906 L 187.519531 58.320312 \"/>\n",
       "<path style=\"fill:none;stroke-width:1;stroke-linecap:butt;stroke-linejoin:miter;stroke:rgb(26.666667%,26.666667%,26.666667%);stroke-opacity:1;stroke-miterlimit:10;\" d=\"M 50 150 L 171.429688 123.015625 \"/>\n",
       "<path style=\" stroke:none;fill-rule:nonzero;fill:rgb(26.666667%,26.666667%,26.666667%);fill-opacity:1;\" d=\"M 185.355469 119.921875 L 172.4375 127.539062 L 170.425781 118.492188 L 185.355469 119.921875 \"/>\n",
       "<path style=\"fill:none;stroke-width:1;stroke-linecap:butt;stroke-linejoin:miter;stroke:rgb(26.666667%,26.666667%,26.666667%);stroke-opacity:1;stroke-miterlimit:10;\" d=\"M 50 150 L 171.429688 176.984375 \"/>\n",
       "<path style=\" stroke:none;fill-rule:nonzero;fill:rgb(26.666667%,26.666667%,26.666667%);fill-opacity:1;\" d=\"M 185.355469 180.078125 L 170.425781 181.507812 L 172.4375 172.460938 L 185.355469 180.078125 \"/>\n",
       "<path style=\"fill:none;stroke-width:1;stroke-linecap:butt;stroke-linejoin:miter;stroke:rgb(26.666667%,26.666667%,26.666667%);stroke-opacity:1;stroke-miterlimit:10;\" d=\"M 50 150 L 175.648438 233.765625 \"/>\n",
       "<path style=\" stroke:none;fill-rule:nonzero;fill:rgb(26.666667%,26.666667%,26.666667%);fill-opacity:1;\" d=\"M 187.519531 241.679688 L 173.078125 237.621094 L 178.21875 229.910156 L 187.519531 241.679688 \"/>\n",
       "<path style=\"fill:none;stroke-width:1;stroke-linecap:butt;stroke-linejoin:miter;stroke:rgb(26.666667%,26.666667%,26.666667%);stroke-opacity:1;stroke-miterlimit:10;\" d=\"M 50 150 L 322.234375 59.253906 \"/>\n",
       "<path style=\" stroke:none;fill-rule:nonzero;fill:rgb(26.666667%,26.666667%,26.666667%);fill-opacity:1;\" d=\"M 335.769531 54.742188 L 323.703125 63.652344 L 320.769531 54.855469 L 335.769531 54.742188 \"/>\n",
       "<path style=\"fill:none;stroke-width:1;stroke-linecap:butt;stroke-linejoin:miter;stroke:rgb(26.666667%,26.666667%,26.666667%);stroke-opacity:1;stroke-miterlimit:10;\" d=\"M 50 150 L 320.914062 119.898438 \"/>\n",
       "<path style=\" stroke:none;fill-rule:nonzero;fill:rgb(26.666667%,26.666667%,26.666667%);fill-opacity:1;\" d=\"M 335.089844 118.324219 L 321.425781 124.503906 L 320.402344 115.292969 L 335.089844 118.324219 \"/>\n",
       "<path style=\"fill:none;stroke-width:1;stroke-linecap:butt;stroke-linejoin:miter;stroke:rgb(26.666667%,26.666667%,26.666667%);stroke-opacity:1;stroke-miterlimit:10;\" d=\"M 50 150 L 320.914062 180.101562 \"/>\n",
       "<path style=\" stroke:none;fill-rule:nonzero;fill:rgb(26.666667%,26.666667%,26.666667%);fill-opacity:1;\" d=\"M 335.089844 181.675781 L 320.402344 184.707031 L 321.425781 175.496094 L 335.089844 181.675781 \"/>\n",
       "<path style=\"fill:none;stroke-width:1;stroke-linecap:butt;stroke-linejoin:miter;stroke:rgb(26.666667%,26.666667%,26.666667%);stroke-opacity:1;stroke-miterlimit:10;\" d=\"M 50 150 L 322.234375 240.746094 \"/>\n",
       "<path style=\" stroke:none;fill-rule:nonzero;fill:rgb(26.666667%,26.666667%,26.666667%);fill-opacity:1;\" d=\"M 335.769531 245.257812 L 320.769531 245.144531 L 323.703125 236.347656 L 335.769531 245.257812 \"/>\n",
       "<path style=\"fill:none;stroke-width:1;stroke-linecap:butt;stroke-linejoin:miter;stroke:rgb(26.666667%,26.666667%,26.666667%);stroke-opacity:1;stroke-miterlimit:10;\" d=\"M 50 150 L 471.429688 56.347656 \"/>\n",
       "<path style=\" stroke:none;fill-rule:nonzero;fill:rgb(26.666667%,26.666667%,26.666667%);fill-opacity:1;\" d=\"M 485.355469 53.253906 L 472.4375 60.875 L 470.425781 51.824219 L 485.355469 53.253906 \"/>\n",
       "<path style=\"fill:none;stroke-width:1;stroke-linecap:butt;stroke-linejoin:miter;stroke:rgb(26.666667%,26.666667%,26.666667%);stroke-opacity:1;stroke-miterlimit:10;\" d=\"M 50 150 L 470.8125 118.828125 \"/>\n",
       "<path style=\" stroke:none;fill-rule:nonzero;fill:rgb(26.666667%,26.666667%,26.666667%);fill-opacity:1;\" d=\"M 485.039062 117.773438 L 471.15625 123.453125 L 470.472656 114.207031 L 485.039062 117.773438 \"/>\n",
       "<path style=\"fill:none;stroke-width:1;stroke-linecap:butt;stroke-linejoin:miter;stroke:rgb(26.666667%,26.666667%,26.666667%);stroke-opacity:1;stroke-miterlimit:10;\" d=\"M 50 150 L 470.8125 181.171875 \"/>\n",
       "<path style=\" stroke:none;fill-rule:nonzero;fill:rgb(26.666667%,26.666667%,26.666667%);fill-opacity:1;\" d=\"M 485.039062 182.226562 L 470.472656 185.792969 L 471.15625 176.546875 L 485.039062 182.226562 \"/>\n",
       "<path style=\"fill:none;stroke-width:1;stroke-linecap:butt;stroke-linejoin:miter;stroke:rgb(26.666667%,26.666667%,26.666667%);stroke-opacity:1;stroke-miterlimit:10;\" d=\"M 50 150 L 471.429688 243.652344 \"/>\n",
       "<path style=\" stroke:none;fill-rule:nonzero;fill:rgb(26.666667%,26.666667%,26.666667%);fill-opacity:1;\" d=\"M 485.355469 246.746094 L 470.425781 248.175781 L 472.4375 239.125 L 485.355469 246.746094 \"/>\n",
       "<path style=\"fill:none;stroke-width:1;stroke-linecap:butt;stroke-linejoin:miter;stroke:rgb(26.666667%,26.666667%,26.666667%);stroke-opacity:1;stroke-miterlimit:10;\" d=\"M 50 150 L 621.132812 54.8125 \"/>\n",
       "<path style=\" stroke:none;fill-rule:nonzero;fill:rgb(26.666667%,26.666667%,26.666667%);fill-opacity:1;\" d=\"M 635.203125 52.464844 L 621.894531 59.382812 L 620.371094 50.238281 L 635.203125 52.464844 \"/>\n",
       "<path style=\"fill:none;stroke-width:1;stroke-linecap:butt;stroke-linejoin:miter;stroke:rgb(26.666667%,26.666667%,26.666667%);stroke-opacity:1;stroke-miterlimit:10;\" d=\"M 50 150 L 620.777344 118.289062 \"/>\n",
       "<path style=\" stroke:none;fill-rule:nonzero;fill:rgb(26.666667%,26.666667%,26.666667%);fill-opacity:1;\" d=\"M 635.023438 117.5 L 621.035156 122.917969 L 620.523438 113.660156 L 635.023438 117.5 \"/>\n",
       "<path style=\"fill:none;stroke-width:1;stroke-linecap:butt;stroke-linejoin:miter;stroke:rgb(26.666667%,26.666667%,26.666667%);stroke-opacity:1;stroke-miterlimit:10;\" d=\"M 50 150 L 620.777344 181.710938 \"/>\n",
       "<path style=\" stroke:none;fill-rule:nonzero;fill:rgb(26.666667%,26.666667%,26.666667%);fill-opacity:1;\" d=\"M 635.023438 182.5 L 620.523438 186.339844 L 621.035156 177.082031 L 635.023438 182.5 \"/>\n",
       "<path style=\"fill:none;stroke-width:1;stroke-linecap:butt;stroke-linejoin:miter;stroke:rgb(26.666667%,26.666667%,26.666667%);stroke-opacity:1;stroke-miterlimit:10;\" d=\"M 50 150 L 621.132812 245.1875 \"/>\n",
       "<path style=\" stroke:none;fill-rule:nonzero;fill:rgb(26.666667%,26.666667%,26.666667%);fill-opacity:1;\" d=\"M 635.203125 247.535156 L 620.371094 249.761719 L 621.894531 240.617188 L 635.203125 247.535156 \"/>\n",
       "<path style=\"fill-rule:nonzero;fill:rgb(55.294118%,82.745098%,78.039216%);fill-opacity:1;stroke-width:1;stroke-linecap:butt;stroke-linejoin:miter;stroke:rgb(0%,0%,0%);stroke-opacity:1;stroke-miterlimit:10;\" d=\"M 215 50 C 215 58.285156 208.285156 65 200 65 C 191.714844 65 185 58.285156 185 50 C 185 41.714844 191.714844 35 200 35 C 208.285156 35 215 41.714844 215 50 \"/>\n",
       "<path style=\"fill-rule:nonzero;fill:rgb(100%,100%,70.196078%);fill-opacity:1;stroke-width:1;stroke-linecap:butt;stroke-linejoin:miter;stroke:rgb(0%,0%,0%);stroke-opacity:1;stroke-miterlimit:10;\" d=\"M 215 116.667969 C 215 124.949219 208.285156 131.667969 200 131.667969 C 191.714844 131.667969 185 124.949219 185 116.667969 C 185 108.382812 191.714844 101.667969 200 101.667969 C 208.285156 101.667969 215 108.382812 215 116.667969 \"/>\n",
       "<path style=\"fill-rule:nonzero;fill:rgb(74.509804%,72.941176%,85.490196%);fill-opacity:1;stroke-width:1;stroke-linecap:butt;stroke-linejoin:miter;stroke:rgb(0%,0%,0%);stroke-opacity:1;stroke-miterlimit:10;\" d=\"M 215 183.332031 C 215 191.617188 208.285156 198.332031 200 198.332031 C 191.714844 198.332031 185 191.617188 185 183.332031 C 185 175.050781 191.714844 168.332031 200 168.332031 C 208.285156 168.332031 215 175.050781 215 183.332031 \"/>\n",
       "<path style=\"fill-rule:nonzero;fill:rgb(98.431373%,50.196078%,44.705882%);fill-opacity:1;stroke-width:1;stroke-linecap:butt;stroke-linejoin:miter;stroke:rgb(0%,0%,0%);stroke-opacity:1;stroke-miterlimit:10;\" d=\"M 215 250 C 215 258.285156 208.285156 265 200 265 C 191.714844 265 185 258.285156 185 250 C 185 241.714844 191.714844 235 200 235 C 208.285156 235 215 241.714844 215 250 \"/>\n",
       "<path style=\"fill-rule:nonzero;fill:rgb(55.294118%,82.745098%,78.039216%);fill-opacity:1;stroke-width:1;stroke-linecap:butt;stroke-linejoin:miter;stroke:rgb(0%,0%,0%);stroke-opacity:1;stroke-miterlimit:10;\" d=\"M 365 50 C 365 58.285156 358.285156 65 350 65 C 341.714844 65 335 58.285156 335 50 C 335 41.714844 341.714844 35 350 35 C 358.285156 35 365 41.714844 365 50 \"/>\n",
       "<path style=\"fill-rule:nonzero;fill:rgb(100%,100%,70.196078%);fill-opacity:1;stroke-width:1;stroke-linecap:butt;stroke-linejoin:miter;stroke:rgb(0%,0%,0%);stroke-opacity:1;stroke-miterlimit:10;\" d=\"M 365 116.667969 C 365 124.949219 358.285156 131.667969 350 131.667969 C 341.714844 131.667969 335 124.949219 335 116.667969 C 335 108.382812 341.714844 101.667969 350 101.667969 C 358.285156 101.667969 365 108.382812 365 116.667969 \"/>\n",
       "<path style=\"fill-rule:nonzero;fill:rgb(74.509804%,72.941176%,85.490196%);fill-opacity:1;stroke-width:1;stroke-linecap:butt;stroke-linejoin:miter;stroke:rgb(0%,0%,0%);stroke-opacity:1;stroke-miterlimit:10;\" d=\"M 365 183.332031 C 365 191.617188 358.285156 198.332031 350 198.332031 C 341.714844 198.332031 335 191.617188 335 183.332031 C 335 175.050781 341.714844 168.332031 350 168.332031 C 358.285156 168.332031 365 175.050781 365 183.332031 \"/>\n",
       "<path style=\"fill-rule:nonzero;fill:rgb(98.431373%,50.196078%,44.705882%);fill-opacity:1;stroke-width:1;stroke-linecap:butt;stroke-linejoin:miter;stroke:rgb(0%,0%,0%);stroke-opacity:1;stroke-miterlimit:10;\" d=\"M 365 250 C 365 258.285156 358.285156 265 350 265 C 341.714844 265 335 258.285156 335 250 C 335 241.714844 341.714844 235 350 235 C 358.285156 235 365 241.714844 365 250 \"/>\n",
       "<path style=\"fill-rule:nonzero;fill:rgb(55.294118%,82.745098%,78.039216%);fill-opacity:1;stroke-width:1;stroke-linecap:butt;stroke-linejoin:miter;stroke:rgb(0%,0%,0%);stroke-opacity:1;stroke-miterlimit:10;\" d=\"M 515 50 C 515 58.285156 508.285156 65 500 65 C 491.714844 65 485 58.285156 485 50 C 485 41.714844 491.714844 35 500 35 C 508.285156 35 515 41.714844 515 50 \"/>\n",
       "<path style=\"fill-rule:nonzero;fill:rgb(100%,100%,70.196078%);fill-opacity:1;stroke-width:1;stroke-linecap:butt;stroke-linejoin:miter;stroke:rgb(0%,0%,0%);stroke-opacity:1;stroke-miterlimit:10;\" d=\"M 515 116.667969 C 515 124.949219 508.285156 131.667969 500 131.667969 C 491.714844 131.667969 485 124.949219 485 116.667969 C 485 108.382812 491.714844 101.667969 500 101.667969 C 508.285156 101.667969 515 108.382812 515 116.667969 \"/>\n",
       "<path style=\"fill-rule:nonzero;fill:rgb(74.509804%,72.941176%,85.490196%);fill-opacity:1;stroke-width:1;stroke-linecap:butt;stroke-linejoin:miter;stroke:rgb(0%,0%,0%);stroke-opacity:1;stroke-miterlimit:10;\" d=\"M 515 183.332031 C 515 191.617188 508.285156 198.332031 500 198.332031 C 491.714844 198.332031 485 191.617188 485 183.332031 C 485 175.050781 491.714844 168.332031 500 168.332031 C 508.285156 168.332031 515 175.050781 515 183.332031 \"/>\n",
       "<path style=\"fill-rule:nonzero;fill:rgb(98.431373%,50.196078%,44.705882%);fill-opacity:1;stroke-width:1;stroke-linecap:butt;stroke-linejoin:miter;stroke:rgb(0%,0%,0%);stroke-opacity:1;stroke-miterlimit:10;\" d=\"M 515 250 C 515 258.285156 508.285156 265 500 265 C 491.714844 265 485 258.285156 485 250 C 485 241.714844 491.714844 235 500 235 C 508.285156 235 515 241.714844 515 250 \"/>\n",
       "<path style=\"fill-rule:nonzero;fill:rgb(55.294118%,82.745098%,78.039216%);fill-opacity:1;stroke-width:1;stroke-linecap:butt;stroke-linejoin:miter;stroke:rgb(0%,0%,0%);stroke-opacity:1;stroke-miterlimit:10;\" d=\"M 665 50 C 665 58.285156 658.285156 65 650 65 C 641.714844 65 635 58.285156 635 50 C 635 41.714844 641.714844 35 650 35 C 658.285156 35 665 41.714844 665 50 \"/>\n",
       "<path style=\"fill-rule:nonzero;fill:rgb(100%,100%,70.196078%);fill-opacity:1;stroke-width:1;stroke-linecap:butt;stroke-linejoin:miter;stroke:rgb(0%,0%,0%);stroke-opacity:1;stroke-miterlimit:10;\" d=\"M 665 116.667969 C 665 124.949219 658.285156 131.667969 650 131.667969 C 641.714844 131.667969 635 124.949219 635 116.667969 C 635 108.382812 641.714844 101.667969 650 101.667969 C 658.285156 101.667969 665 108.382812 665 116.667969 \"/>\n",
       "<path style=\"fill-rule:nonzero;fill:rgb(74.509804%,72.941176%,85.490196%);fill-opacity:1;stroke-width:1;stroke-linecap:butt;stroke-linejoin:miter;stroke:rgb(0%,0%,0%);stroke-opacity:1;stroke-miterlimit:10;\" d=\"M 665 183.332031 C 665 191.617188 658.285156 198.332031 650 198.332031 C 641.714844 198.332031 635 191.617188 635 183.332031 C 635 175.050781 641.714844 168.332031 650 168.332031 C 658.285156 168.332031 665 175.050781 665 183.332031 \"/>\n",
       "<path style=\"fill-rule:nonzero;fill:rgb(98.431373%,50.196078%,44.705882%);fill-opacity:1;stroke-width:1;stroke-linecap:butt;stroke-linejoin:miter;stroke:rgb(0%,0%,0%);stroke-opacity:1;stroke-miterlimit:10;\" d=\"M 665 250 C 665 258.285156 658.285156 265 650 265 C 641.714844 265 635 258.285156 635 250 C 635 241.714844 641.714844 235 650 235 C 658.285156 235 665 241.714844 665 250 \"/>\n",
       "<path style=\"fill-rule:nonzero;fill:rgb(73.333333%,73.333333%,73.333333%);fill-opacity:1;stroke-width:1;stroke-linecap:butt;stroke-linejoin:miter;stroke:rgb(0%,0%,0%);stroke-opacity:1;stroke-miterlimit:10;\" d=\"M 65 150 C 65 158.285156 58.285156 165 50 165 C 41.714844 165 35 158.285156 35 150 C 35 141.714844 41.714844 135 50 135 C 58.285156 135 65 141.714844 65 150 \"/>\n",
       "<g style=\"fill:rgb(0%,0%,0%);fill-opacity:1;\">\n",
       "  <use xlink:href=\"#glyph0-1\" x=\"192.050781\" y=\"54.890625\"/>\n",
       "  <use xlink:href=\"#glyph0-2\" x=\"198.413086\" y=\"54.890625\"/>\n",
       "  <use xlink:href=\"#glyph0-1\" x=\"201.591797\" y=\"54.890625\"/>\n",
       "</g>\n",
       "<g style=\"fill:rgb(0%,0%,0%);fill-opacity:1;\">\n",
       "  <use xlink:href=\"#glyph0-1\" x=\"192.179688\" y=\"121.558594\"/>\n",
       "  <use xlink:href=\"#glyph0-2\" x=\"198.541992\" y=\"121.558594\"/>\n",
       "  <use xlink:href=\"#glyph0-3\" x=\"201.720703\" y=\"121.558594\"/>\n",
       "</g>\n",
       "<g style=\"fill:rgb(0%,0%,0%);fill-opacity:1;\">\n",
       "  <use xlink:href=\"#glyph0-1\" x=\"192.21875\" y=\"188.222656\"/>\n",
       "  <use xlink:href=\"#glyph0-2\" x=\"198.581055\" y=\"188.222656\"/>\n",
       "  <use xlink:href=\"#glyph0-4\" x=\"201.759766\" y=\"188.222656\"/>\n",
       "</g>\n",
       "<g style=\"fill:rgb(0%,0%,0%);fill-opacity:1;\">\n",
       "  <use xlink:href=\"#glyph0-1\" x=\"192.117188\" y=\"254.890625\"/>\n",
       "  <use xlink:href=\"#glyph0-2\" x=\"198.479492\" y=\"254.890625\"/>\n",
       "  <use xlink:href=\"#glyph0-5\" x=\"201.658203\" y=\"254.890625\"/>\n",
       "</g>\n",
       "<g style=\"fill:rgb(0%,0%,0%);fill-opacity:1;\">\n",
       "  <use xlink:href=\"#glyph0-3\" x=\"341.832031\" y=\"54.890625\"/>\n",
       "  <use xlink:href=\"#glyph0-2\" x=\"348.194336\" y=\"54.890625\"/>\n",
       "  <use xlink:href=\"#glyph0-1\" x=\"351.373047\" y=\"54.890625\"/>\n",
       "</g>\n",
       "<g style=\"fill:rgb(0%,0%,0%);fill-opacity:1;\">\n",
       "  <use xlink:href=\"#glyph0-3\" x=\"341.960938\" y=\"121.492188\"/>\n",
       "  <use xlink:href=\"#glyph0-2\" x=\"348.323242\" y=\"121.492188\"/>\n",
       "  <use xlink:href=\"#glyph0-3\" x=\"351.501953\" y=\"121.492188\"/>\n",
       "</g>\n",
       "<g style=\"fill:rgb(0%,0%,0%);fill-opacity:1;\">\n",
       "  <use xlink:href=\"#glyph0-3\" x=\"342\" y=\"188.222656\"/>\n",
       "  <use xlink:href=\"#glyph0-2\" x=\"348.362305\" y=\"188.222656\"/>\n",
       "  <use xlink:href=\"#glyph0-4\" x=\"351.541016\" y=\"188.222656\"/>\n",
       "</g>\n",
       "<g style=\"fill:rgb(0%,0%,0%);fill-opacity:1;\">\n",
       "  <use xlink:href=\"#glyph0-3\" x=\"341.898438\" y=\"254.890625\"/>\n",
       "  <use xlink:href=\"#glyph0-2\" x=\"348.260742\" y=\"254.890625\"/>\n",
       "  <use xlink:href=\"#glyph0-5\" x=\"351.439453\" y=\"254.890625\"/>\n",
       "</g>\n",
       "<g style=\"fill:rgb(0%,0%,0%);fill-opacity:1;\">\n",
       "  <use xlink:href=\"#glyph0-4\" x=\"492.015625\" y=\"54.890625\"/>\n",
       "  <use xlink:href=\"#glyph0-2\" x=\"498.37793\" y=\"54.890625\"/>\n",
       "  <use xlink:href=\"#glyph0-1\" x=\"501.556641\" y=\"54.890625\"/>\n",
       "</g>\n",
       "<g style=\"fill:rgb(0%,0%,0%);fill-opacity:1;\">\n",
       "  <use xlink:href=\"#glyph0-4\" x=\"492.144531\" y=\"121.558594\"/>\n",
       "  <use xlink:href=\"#glyph0-2\" x=\"498.506836\" y=\"121.558594\"/>\n",
       "  <use xlink:href=\"#glyph0-3\" x=\"501.685547\" y=\"121.558594\"/>\n",
       "</g>\n",
       "<g style=\"fill:rgb(0%,0%,0%);fill-opacity:1;\">\n",
       "  <use xlink:href=\"#glyph0-4\" x=\"492.183594\" y=\"188.222656\"/>\n",
       "  <use xlink:href=\"#glyph0-2\" x=\"498.545898\" y=\"188.222656\"/>\n",
       "  <use xlink:href=\"#glyph0-4\" x=\"501.724609\" y=\"188.222656\"/>\n",
       "</g>\n",
       "<g style=\"fill:rgb(0%,0%,0%);fill-opacity:1;\">\n",
       "  <use xlink:href=\"#glyph0-4\" x=\"492.082031\" y=\"254.890625\"/>\n",
       "  <use xlink:href=\"#glyph0-2\" x=\"498.444336\" y=\"254.890625\"/>\n",
       "  <use xlink:href=\"#glyph0-5\" x=\"501.623047\" y=\"254.890625\"/>\n",
       "</g>\n",
       "<g style=\"fill:rgb(0%,0%,0%);fill-opacity:1;\">\n",
       "  <use xlink:href=\"#glyph0-5\" x=\"642\" y=\"54.890625\"/>\n",
       "  <use xlink:href=\"#glyph0-2\" x=\"648.362305\" y=\"54.890625\"/>\n",
       "  <use xlink:href=\"#glyph0-1\" x=\"651.541016\" y=\"54.890625\"/>\n",
       "</g>\n",
       "<g style=\"fill:rgb(0%,0%,0%);fill-opacity:1;\">\n",
       "  <use xlink:href=\"#glyph0-5\" x=\"642.128906\" y=\"121.558594\"/>\n",
       "  <use xlink:href=\"#glyph0-2\" x=\"648.491211\" y=\"121.558594\"/>\n",
       "  <use xlink:href=\"#glyph0-3\" x=\"651.669922\" y=\"121.558594\"/>\n",
       "</g>\n",
       "<g style=\"fill:rgb(0%,0%,0%);fill-opacity:1;\">\n",
       "  <use xlink:href=\"#glyph0-5\" x=\"642.167969\" y=\"188.222656\"/>\n",
       "  <use xlink:href=\"#glyph0-2\" x=\"648.530273\" y=\"188.222656\"/>\n",
       "  <use xlink:href=\"#glyph0-4\" x=\"651.708984\" y=\"188.222656\"/>\n",
       "</g>\n",
       "<g style=\"fill:rgb(0%,0%,0%);fill-opacity:1;\">\n",
       "  <use xlink:href=\"#glyph0-5\" x=\"642.066406\" y=\"254.890625\"/>\n",
       "  <use xlink:href=\"#glyph0-2\" x=\"648.428711\" y=\"254.890625\"/>\n",
       "  <use xlink:href=\"#glyph0-5\" x=\"651.607422\" y=\"254.890625\"/>\n",
       "</g>\n",
       "<g style=\"fill:rgb(0%,0%,0%);fill-opacity:1;\">\n",
       "  <use xlink:href=\"#glyph0-6\" x=\"38.65625\" y=\"154.824219\"/>\n",
       "  <use xlink:href=\"#glyph0-3\" x=\"42.264648\" y=\"154.824219\"/>\n",
       "  <use xlink:href=\"#glyph0-2\" x=\"48.626953\" y=\"154.824219\"/>\n",
       "  <use xlink:href=\"#glyph0-6\" x=\"51.805664\" y=\"154.824219\"/>\n",
       "  <use xlink:href=\"#glyph0-3\" x=\"55.414062\" y=\"154.824219\"/>\n",
       "</g>\n",
       "</g>\n",
       "</svg>\n"
      ],
      "text/plain": [
       "<igraph.drawing.Plot at 0x7f9b93a0b438>"
      ]
     },
     "execution_count": 34,
     "metadata": {
      "image/svg+xml": {
       "isolated": true
      }
     },
     "output_type": "execute_result"
    }
   ],
   "source": [
    "ig.plot(tugs, **util.get_visual_style(tugs), bbox=(700, 300), margin=50)"
   ]
  },
  {
   "cell_type": "markdown",
   "metadata": {
    "slideshow": {
     "slide_type": "subslide"
    }
   },
   "source": [
    "## Pricing as Optimization\n",
    "\n",
    "**We can treat our residual as _node and arc weights_**\n",
    "\n",
    "* In the plot, a grey shade corresponds to near-zero weight\n",
    "* A blue shade is used for negative weights, and a red share for positive ones"
   ]
  },
  {
   "cell_type": "code",
   "execution_count": 35,
   "metadata": {},
   "outputs": [
    {
     "data": {
      "image/svg+xml": [
       "<?xml version=\"1.0\" encoding=\"UTF-8\"?>\n",
       "<svg xmlns=\"http://www.w3.org/2000/svg\" xmlns:xlink=\"http://www.w3.org/1999/xlink\" width=\"700pt\" height=\"300pt\" viewBox=\"0 0 700 300\" version=\"1.1\">\n",
       "<defs>\n",
       "<g>\n",
       "<symbol overflow=\"visible\" id=\"glyph0-0\">\n",
       "<path style=\"stroke:none;\" d=\"M 0.5 1.765625 L 0.5 -7.046875 L 5.5 -7.046875 L 5.5 1.765625 Z M 1.0625 1.21875 L 4.9375 1.21875 L 4.9375 -6.484375 L 1.0625 -6.484375 Z M 1.0625 1.21875 \"/>\n",
       "</symbol>\n",
       "<symbol overflow=\"visible\" id=\"glyph0-1\">\n",
       "<path style=\"stroke:none;\" d=\"M 3.171875 -6.640625 C 2.671875 -6.640625 2.289062 -6.390625 2.03125 -5.890625 C 1.78125 -5.390625 1.65625 -4.640625 1.65625 -3.640625 C 1.65625 -2.640625 1.78125 -1.890625 2.03125 -1.390625 C 2.289062 -0.890625 2.671875 -0.640625 3.171875 -0.640625 C 3.691406 -0.640625 4.078125 -0.890625 4.328125 -1.390625 C 4.585938 -1.890625 4.71875 -2.640625 4.71875 -3.640625 C 4.71875 -4.640625 4.585938 -5.390625 4.328125 -5.890625 C 4.078125 -6.390625 3.691406 -6.640625 3.171875 -6.640625 Z M 3.171875 -7.421875 C 3.992188 -7.421875 4.617188 -7.097656 5.046875 -6.453125 C 5.484375 -5.804688 5.703125 -4.867188 5.703125 -3.640625 C 5.703125 -2.410156 5.484375 -1.472656 5.046875 -0.828125 C 4.617188 -0.179688 3.992188 0.140625 3.171875 0.140625 C 2.359375 0.140625 1.734375 -0.179688 1.296875 -0.828125 C 0.867188 -1.472656 0.65625 -2.410156 0.65625 -3.640625 C 0.65625 -4.867188 0.867188 -5.804688 1.296875 -6.453125 C 1.734375 -7.097656 2.359375 -7.421875 3.171875 -7.421875 Z M 3.171875 -7.421875 \"/>\n",
       "</symbol>\n",
       "<symbol overflow=\"visible\" id=\"glyph0-2\">\n",
       "<path style=\"stroke:none;\" d=\"M 1.171875 -1.234375 L 2.203125 -1.234375 L 2.203125 -0.40625 L 1.40625 1.15625 L 0.765625 1.15625 L 1.171875 -0.40625 Z M 1.171875 -1.234375 \"/>\n",
       "</symbol>\n",
       "<symbol overflow=\"visible\" id=\"glyph0-3\">\n",
       "<path style=\"stroke:none;\" d=\"M 1.234375 -0.828125 L 2.859375 -0.828125 L 2.859375 -6.390625 L 1.09375 -6.046875 L 1.09375 -6.9375 L 2.84375 -7.296875 L 3.828125 -7.296875 L 3.828125 -0.828125 L 5.4375 -0.828125 L 5.4375 0 L 1.234375 0 Z M 1.234375 -0.828125 \"/>\n",
       "</symbol>\n",
       "<symbol overflow=\"visible\" id=\"glyph0-4\">\n",
       "<path style=\"stroke:none;\" d=\"M 1.921875 -0.828125 L 5.359375 -0.828125 L 5.359375 0 L 0.734375 0 L 0.734375 -0.828125 C 1.109375 -1.210938 1.617188 -1.734375 2.265625 -2.390625 C 2.910156 -3.046875 3.316406 -3.46875 3.484375 -3.65625 C 3.796875 -4.007812 4.015625 -4.304688 4.140625 -4.546875 C 4.265625 -4.796875 4.328125 -5.039062 4.328125 -5.28125 C 4.328125 -5.664062 4.191406 -5.976562 3.921875 -6.21875 C 3.648438 -6.46875 3.296875 -6.59375 2.859375 -6.59375 C 2.546875 -6.59375 2.21875 -6.535156 1.875 -6.421875 C 1.539062 -6.316406 1.175781 -6.15625 0.78125 -5.9375 L 0.78125 -6.9375 C 1.175781 -7.09375 1.546875 -7.210938 1.890625 -7.296875 C 2.234375 -7.378906 2.550781 -7.421875 2.84375 -7.421875 C 3.59375 -7.421875 4.191406 -7.234375 4.640625 -6.859375 C 5.097656 -6.484375 5.328125 -5.976562 5.328125 -5.34375 C 5.328125 -5.039062 5.269531 -4.753906 5.15625 -4.484375 C 5.039062 -4.222656 4.835938 -3.910156 4.546875 -3.546875 C 4.460938 -3.453125 4.203125 -3.175781 3.765625 -2.71875 C 3.328125 -2.269531 2.710938 -1.640625 1.921875 -0.828125 Z M 1.921875 -0.828125 \"/>\n",
       "</symbol>\n",
       "<symbol overflow=\"visible\" id=\"glyph0-5\">\n",
       "<path style=\"stroke:none;\" d=\"M 4.0625 -3.9375 C 4.53125 -3.832031 4.894531 -3.617188 5.15625 -3.296875 C 5.425781 -2.984375 5.5625 -2.59375 5.5625 -2.125 C 5.5625 -1.40625 5.3125 -0.847656 4.8125 -0.453125 C 4.320312 -0.0546875 3.617188 0.140625 2.703125 0.140625 C 2.398438 0.140625 2.085938 0.109375 1.765625 0.046875 C 1.441406 -0.015625 1.109375 -0.101562 0.765625 -0.21875 L 0.765625 -1.171875 C 1.035156 -1.015625 1.332031 -0.894531 1.65625 -0.8125 C 1.988281 -0.726562 2.332031 -0.6875 2.6875 -0.6875 C 3.300781 -0.6875 3.769531 -0.804688 4.09375 -1.046875 C 4.414062 -1.296875 4.578125 -1.65625 4.578125 -2.125 C 4.578125 -2.550781 4.425781 -2.882812 4.125 -3.125 C 3.820312 -3.363281 3.40625 -3.484375 2.875 -3.484375 L 2.015625 -3.484375 L 2.015625 -4.296875 L 2.90625 -4.296875 C 3.394531 -4.296875 3.765625 -4.394531 4.015625 -4.59375 C 4.273438 -4.789062 4.40625 -5.070312 4.40625 -5.4375 C 4.40625 -5.800781 4.269531 -6.082031 4 -6.28125 C 3.738281 -6.488281 3.363281 -6.59375 2.875 -6.59375 C 2.601562 -6.59375 2.3125 -6.5625 2 -6.5 C 1.6875 -6.445312 1.347656 -6.359375 0.984375 -6.234375 L 0.984375 -7.109375 C 1.359375 -7.210938 1.707031 -7.289062 2.03125 -7.34375 C 2.363281 -7.394531 2.671875 -7.421875 2.953125 -7.421875 C 3.703125 -7.421875 4.296875 -7.25 4.734375 -6.90625 C 5.171875 -6.570312 5.390625 -6.113281 5.390625 -5.53125 C 5.390625 -5.125 5.273438 -4.78125 5.046875 -4.5 C 4.816406 -4.226562 4.488281 -4.039062 4.0625 -3.9375 Z M 4.0625 -3.9375 \"/>\n",
       "</symbol>\n",
       "<symbol overflow=\"visible\" id=\"glyph0-6\">\n",
       "<path style=\"stroke:none;\" d=\"M 0.484375 -3.140625 L 3.125 -3.140625 L 3.125 -2.34375 L 0.484375 -2.34375 Z M 0.484375 -3.140625 \"/>\n",
       "</symbol>\n",
       "</g>\n",
       "</defs>\n",
       "<g id=\"surface38\">\n",
       "<rect x=\"0\" y=\"0\" width=\"700\" height=\"300\" style=\"fill:rgb(100%,100%,100%);fill-opacity:1;stroke:none;\"/>\n",
       "<path style=\"fill:none;stroke-width:1;stroke-linecap:butt;stroke-linejoin:miter;stroke:rgb(88.464344%,41.00171%,32.250655%);stroke-opacity:1;stroke-miterlimit:10;\" d=\"M 200 50 L 320.734375 50 \"/>\n",
       "<path style=\" stroke:none;fill-rule:nonzero;fill:rgb(88.464344%,41.00171%,32.250655%);fill-opacity:1;\" d=\"M 335 50 L 320.734375 54.636719 L 320.734375 45.363281 L 335 50 \"/>\n",
       "<path style=\"fill:none;stroke-width:1;stroke-linecap:butt;stroke-linejoin:miter;stroke:rgb(86.742764%,86.43766%,86.260246%);stroke-opacity:1;stroke-miterlimit:10;\" d=\"M 200 50 L 323.257812 104.78125 \"/>\n",
       "<path style=\" stroke:none;fill-rule:nonzero;fill:rgb(86.742764%,86.43766%,86.260246%);fill-opacity:1;\" d=\"M 336.292969 110.574219 L 321.375 109.015625 L 325.140625 100.546875 L 336.292969 110.574219 \"/>\n",
       "<path style=\"fill:none;stroke-width:1;stroke-linecap:butt;stroke-linejoin:miter;stroke:rgb(34.832334%,46.571115%,88.834616%);stroke-opacity:1;stroke-miterlimit:10;\" d=\"M 200 116.667969 L 320.734375 116.667969 \"/>\n",
       "<path style=\" stroke:none;fill-rule:nonzero;fill:rgb(34.832334%,46.571115%,88.834616%);fill-opacity:1;\" d=\"M 335 116.667969 L 320.734375 121.300781 L 320.734375 112.03125 L 335 116.667969 \"/>\n",
       "<path style=\"fill:none;stroke-width:1;stroke-linecap:butt;stroke-linejoin:miter;stroke:rgb(86.742764%,86.43766%,86.260246%);stroke-opacity:1;stroke-miterlimit:10;\" d=\"M 200 50 L 328.125 163.890625 \"/>\n",
       "<path style=\" stroke:none;fill-rule:nonzero;fill:rgb(86.742764%,86.43766%,86.260246%);fill-opacity:1;\" d=\"M 338.789062 173.367188 L 325.046875 167.355469 L 331.207031 160.425781 L 338.789062 173.367188 \"/>\n",
       "<path style=\"fill:none;stroke-width:1;stroke-linecap:butt;stroke-linejoin:miter;stroke:rgb(86.742764%,86.43766%,86.260246%);stroke-opacity:1;stroke-miterlimit:10;\" d=\"M 200 183.332031 L 320.734375 183.332031 \"/>\n",
       "<path style=\" stroke:none;fill-rule:nonzero;fill:rgb(86.742764%,86.43766%,86.260246%);fill-opacity:1;\" d=\"M 335 183.332031 L 320.734375 187.96875 L 320.734375 178.699219 L 335 183.332031 \"/>\n",
       "<path style=\"fill:none;stroke-width:1;stroke-linecap:butt;stroke-linejoin:miter;stroke:rgb(86.742764%,86.43766%,86.260246%);stroke-opacity:1;stroke-miterlimit:10;\" d=\"M 200 50 L 332.441406 226.585938 \"/>\n",
       "<path style=\" stroke:none;fill-rule:nonzero;fill:rgb(86.742764%,86.43766%,86.260246%);fill-opacity:1;\" d=\"M 341 238 L 328.730469 229.367188 L 336.148438 223.804688 L 341 238 \"/>\n",
       "<path style=\"fill:none;stroke-width:1;stroke-linecap:butt;stroke-linejoin:miter;stroke:rgb(86.742764%,86.43766%,86.260246%);stroke-opacity:1;stroke-miterlimit:10;\" d=\"M 200 250 L 320.734375 250 \"/>\n",
       "<path style=\" stroke:none;fill-rule:nonzero;fill:rgb(86.742764%,86.43766%,86.260246%);fill-opacity:1;\" d=\"M 335 250 L 320.734375 254.636719 L 320.734375 245.363281 L 335 250 \"/>\n",
       "<path style=\"fill:none;stroke-width:1;stroke-linecap:butt;stroke-linejoin:miter;stroke:rgb(86.742764%,86.43766%,86.260246%);stroke-opacity:1;stroke-miterlimit:10;\" d=\"M 200 116.667969 L 323.257812 61.886719 \"/>\n",
       "<path style=\" stroke:none;fill-rule:nonzero;fill:rgb(86.742764%,86.43766%,86.260246%);fill-opacity:1;\" d=\"M 336.292969 56.09375 L 325.140625 66.121094 L 321.375 57.648438 L 336.292969 56.09375 \"/>\n",
       "<path style=\"fill:none;stroke-width:1;stroke-linecap:butt;stroke-linejoin:miter;stroke:rgb(73.882599%,82.257162%,96.826106%);stroke-opacity:1;stroke-miterlimit:10;\" d=\"M 200 116.667969 L 323.257812 171.449219 \"/>\n",
       "<path style=\" stroke:none;fill-rule:nonzero;fill:rgb(73.882599%,82.257162%,96.826106%);fill-opacity:1;\" d=\"M 336.292969 177.242188 L 321.375 175.683594 L 325.140625 167.210938 L 336.292969 177.242188 \"/>\n",
       "<path style=\"fill:none;stroke-width:1;stroke-linecap:butt;stroke-linejoin:miter;stroke:rgb(95.817603%,77.123409%,68.030104%);stroke-opacity:1;stroke-miterlimit:10;\" d=\"M 350 50 L 470.734375 50 \"/>\n",
       "<path style=\" stroke:none;fill-rule:nonzero;fill:rgb(95.817603%,77.123409%,68.030104%);fill-opacity:1;\" d=\"M 485 50 L 470.734375 54.636719 L 470.734375 45.363281 L 485 50 \"/>\n",
       "<path style=\"fill:none;stroke-width:1;stroke-linecap:butt;stroke-linejoin:miter;stroke:rgb(86.742764%,86.43766%,86.260246%);stroke-opacity:1;stroke-miterlimit:10;\" d=\"M 350 50 L 473.257812 104.78125 \"/>\n",
       "<path style=\" stroke:none;fill-rule:nonzero;fill:rgb(86.742764%,86.43766%,86.260246%);fill-opacity:1;\" d=\"M 486.292969 110.574219 L 471.375 109.015625 L 475.140625 100.546875 L 486.292969 110.574219 \"/>\n",
       "<path style=\"fill:none;stroke-width:1;stroke-linecap:butt;stroke-linejoin:miter;stroke:rgb(86.742764%,86.43766%,86.260246%);stroke-opacity:1;stroke-miterlimit:10;\" d=\"M 350 116.667969 L 470.734375 116.667969 \"/>\n",
       "<path style=\" stroke:none;fill-rule:nonzero;fill:rgb(86.742764%,86.43766%,86.260246%);fill-opacity:1;\" d=\"M 485 116.667969 L 470.734375 121.300781 L 470.734375 112.03125 L 485 116.667969 \"/>\n",
       "<path style=\"fill:none;stroke-width:1;stroke-linecap:butt;stroke-linejoin:miter;stroke:rgb(86.742764%,86.43766%,86.260246%);stroke-opacity:1;stroke-miterlimit:10;\" d=\"M 350 50 L 478.125 163.890625 \"/>\n",
       "<path style=\" stroke:none;fill-rule:nonzero;fill:rgb(86.742764%,86.43766%,86.260246%);fill-opacity:1;\" d=\"M 488.789062 173.367188 L 475.046875 167.355469 L 481.207031 160.425781 L 488.789062 173.367188 \"/>\n",
       "<path style=\"fill:none;stroke-width:1;stroke-linecap:butt;stroke-linejoin:miter;stroke:rgb(73.882599%,82.257162%,96.826106%);stroke-opacity:1;stroke-miterlimit:10;\" d=\"M 350 183.332031 L 470.734375 183.332031 \"/>\n",
       "<path style=\" stroke:none;fill-rule:nonzero;fill:rgb(73.882599%,82.257162%,96.826106%);fill-opacity:1;\" d=\"M 485 183.332031 L 470.734375 187.96875 L 470.734375 178.699219 L 485 183.332031 \"/>\n",
       "<path style=\"fill:none;stroke-width:1;stroke-linecap:butt;stroke-linejoin:miter;stroke:rgb(86.742764%,86.43766%,86.260246%);stroke-opacity:1;stroke-miterlimit:10;\" d=\"M 350 50 L 482.441406 226.585938 \"/>\n",
       "<path style=\" stroke:none;fill-rule:nonzero;fill:rgb(86.742764%,86.43766%,86.260246%);fill-opacity:1;\" d=\"M 491 238 L 478.730469 229.367188 L 486.148438 223.804688 L 491 238 \"/>\n",
       "<path style=\"fill:none;stroke-width:1;stroke-linecap:butt;stroke-linejoin:miter;stroke:rgb(86.742764%,86.43766%,86.260246%);stroke-opacity:1;stroke-miterlimit:10;\" d=\"M 350 250 L 470.734375 250 \"/>\n",
       "<path style=\" stroke:none;fill-rule:nonzero;fill:rgb(86.742764%,86.43766%,86.260246%);fill-opacity:1;\" d=\"M 485 250 L 470.734375 254.636719 L 470.734375 245.363281 L 485 250 \"/>\n",
       "<path style=\"fill:none;stroke-width:1;stroke-linecap:butt;stroke-linejoin:miter;stroke:rgb(34.832334%,46.571115%,88.834616%);stroke-opacity:1;stroke-miterlimit:10;\" d=\"M 350 116.667969 L 473.257812 61.886719 \"/>\n",
       "<path style=\" stroke:none;fill-rule:nonzero;fill:rgb(34.832334%,46.571115%,88.834616%);fill-opacity:1;\" d=\"M 486.292969 56.09375 L 475.140625 66.121094 L 471.375 57.648438 L 486.292969 56.09375 \"/>\n",
       "<path style=\"fill:none;stroke-width:1;stroke-linecap:butt;stroke-linejoin:miter;stroke:rgb(86.742764%,86.43766%,86.260246%);stroke-opacity:1;stroke-miterlimit:10;\" d=\"M 350 116.667969 L 473.257812 171.449219 \"/>\n",
       "<path style=\" stroke:none;fill-rule:nonzero;fill:rgb(86.742764%,86.43766%,86.260246%);fill-opacity:1;\" d=\"M 486.292969 177.242188 L 471.375 175.683594 L 475.140625 167.210938 L 486.292969 177.242188 \"/>\n",
       "<path style=\"fill:none;stroke-width:1;stroke-linecap:butt;stroke-linejoin:miter;stroke:rgb(96.483536%,74.461367%,64.323888%);stroke-opacity:1;stroke-miterlimit:10;\" d=\"M 500 50 L 620.734375 50 \"/>\n",
       "<path style=\" stroke:none;fill-rule:nonzero;fill:rgb(96.483536%,74.461367%,64.323888%);fill-opacity:1;\" d=\"M 635 50 L 620.734375 54.636719 L 620.734375 45.363281 L 635 50 \"/>\n",
       "<path style=\"fill:none;stroke-width:1;stroke-linecap:butt;stroke-linejoin:miter;stroke:rgb(49.463849%,63.302226%,97.898282%);stroke-opacity:1;stroke-miterlimit:10;\" d=\"M 500 50 L 623.257812 104.78125 \"/>\n",
       "<path style=\" stroke:none;fill-rule:nonzero;fill:rgb(49.463849%,63.302226%,97.898282%);fill-opacity:1;\" d=\"M 636.292969 110.574219 L 621.375 109.015625 L 625.140625 100.546875 L 636.292969 110.574219 \"/>\n",
       "<path style=\"fill:none;stroke-width:1;stroke-linecap:butt;stroke-linejoin:miter;stroke:rgb(86.742764%,86.43766%,86.260246%);stroke-opacity:1;stroke-miterlimit:10;\" d=\"M 500 116.667969 L 620.734375 116.667969 \"/>\n",
       "<path style=\" stroke:none;fill-rule:nonzero;fill:rgb(86.742764%,86.43766%,86.260246%);fill-opacity:1;\" d=\"M 635 116.667969 L 620.734375 121.300781 L 620.734375 112.03125 L 635 116.667969 \"/>\n",
       "<path style=\"fill:none;stroke-width:1;stroke-linecap:butt;stroke-linejoin:miter;stroke:rgb(57.605129%,70.877988%,99.775459%);stroke-opacity:1;stroke-miterlimit:10;\" d=\"M 500 50 L 628.125 163.890625 \"/>\n",
       "<path style=\" stroke:none;fill-rule:nonzero;fill:rgb(57.605129%,70.877988%,99.775459%);fill-opacity:1;\" d=\"M 638.789062 173.367188 L 625.046875 167.355469 L 631.207031 160.425781 L 638.789062 173.367188 \"/>\n",
       "<path style=\"fill:none;stroke-width:1;stroke-linecap:butt;stroke-linejoin:miter;stroke:rgb(73.882599%,82.257162%,96.826106%);stroke-opacity:1;stroke-miterlimit:10;\" d=\"M 500 183.332031 L 620.734375 183.332031 \"/>\n",
       "<path style=\" stroke:none;fill-rule:nonzero;fill:rgb(73.882599%,82.257162%,96.826106%);fill-opacity:1;\" d=\"M 635 183.332031 L 620.734375 187.96875 L 620.734375 178.699219 L 635 183.332031 \"/>\n",
       "<path style=\"fill:none;stroke-width:1;stroke-linecap:butt;stroke-linejoin:miter;stroke:rgb(86.742764%,86.43766%,86.260246%);stroke-opacity:1;stroke-miterlimit:10;\" d=\"M 500 50 L 632.441406 226.585938 \"/>\n",
       "<path style=\" stroke:none;fill-rule:nonzero;fill:rgb(86.742764%,86.43766%,86.260246%);fill-opacity:1;\" d=\"M 641 238 L 628.730469 229.367188 L 636.148438 223.804688 L 641 238 \"/>\n",
       "<path style=\"fill:none;stroke-width:1;stroke-linecap:butt;stroke-linejoin:miter;stroke:rgb(86.742764%,86.43766%,86.260246%);stroke-opacity:1;stroke-miterlimit:10;\" d=\"M 500 250 L 620.734375 250 \"/>\n",
       "<path style=\" stroke:none;fill-rule:nonzero;fill:rgb(86.742764%,86.43766%,86.260246%);fill-opacity:1;\" d=\"M 635 250 L 620.734375 254.636719 L 620.734375 245.363281 L 635 250 \"/>\n",
       "<path style=\"fill:none;stroke-width:1;stroke-linecap:butt;stroke-linejoin:miter;stroke:rgb(86.742764%,86.43766%,86.260246%);stroke-opacity:1;stroke-miterlimit:10;\" d=\"M 500 116.667969 L 623.257812 61.886719 \"/>\n",
       "<path style=\" stroke:none;fill-rule:nonzero;fill:rgb(86.742764%,86.43766%,86.260246%);fill-opacity:1;\" d=\"M 636.292969 56.09375 L 625.140625 66.121094 L 621.375 57.648438 L 636.292969 56.09375 \"/>\n",
       "<path style=\"fill:none;stroke-width:1;stroke-linecap:butt;stroke-linejoin:miter;stroke:rgb(86.742764%,86.43766%,86.260246%);stroke-opacity:1;stroke-miterlimit:10;\" d=\"M 500 116.667969 L 623.257812 171.449219 \"/>\n",
       "<path style=\" stroke:none;fill-rule:nonzero;fill:rgb(86.742764%,86.43766%,86.260246%);fill-opacity:1;\" d=\"M 636.292969 177.242188 L 621.375 175.683594 L 625.140625 167.210938 L 636.292969 177.242188 \"/>\n",
       "<path style=\"fill:none;stroke-width:1;stroke-linecap:butt;stroke-linejoin:miter;stroke:rgb(86.742764%,86.43766%,86.260246%);stroke-opacity:1;stroke-miterlimit:10;\" d=\"M 50 150 L 175.648438 66.234375 \"/>\n",
       "<path style=\" stroke:none;fill-rule:nonzero;fill:rgb(86.742764%,86.43766%,86.260246%);fill-opacity:1;\" d=\"M 187.519531 58.320312 L 178.21875 70.089844 L 173.078125 62.378906 L 187.519531 58.320312 \"/>\n",
       "<path style=\"fill:none;stroke-width:1;stroke-linecap:butt;stroke-linejoin:miter;stroke:rgb(86.742764%,86.43766%,86.260246%);stroke-opacity:1;stroke-miterlimit:10;\" d=\"M 50 150 L 171.429688 123.015625 \"/>\n",
       "<path style=\" stroke:none;fill-rule:nonzero;fill:rgb(86.742764%,86.43766%,86.260246%);fill-opacity:1;\" d=\"M 185.355469 119.921875 L 172.4375 127.539062 L 170.425781 118.492188 L 185.355469 119.921875 \"/>\n",
       "<path style=\"fill:none;stroke-width:1;stroke-linecap:butt;stroke-linejoin:miter;stroke:rgb(86.742764%,86.43766%,86.260246%);stroke-opacity:1;stroke-miterlimit:10;\" d=\"M 50 150 L 171.429688 176.984375 \"/>\n",
       "<path style=\" stroke:none;fill-rule:nonzero;fill:rgb(86.742764%,86.43766%,86.260246%);fill-opacity:1;\" d=\"M 185.355469 180.078125 L 170.425781 181.507812 L 172.4375 172.460938 L 185.355469 180.078125 \"/>\n",
       "<path style=\"fill:none;stroke-width:1;stroke-linecap:butt;stroke-linejoin:miter;stroke:rgb(86.742764%,86.43766%,86.260246%);stroke-opacity:1;stroke-miterlimit:10;\" d=\"M 50 150 L 175.648438 233.765625 \"/>\n",
       "<path style=\" stroke:none;fill-rule:nonzero;fill:rgb(86.742764%,86.43766%,86.260246%);fill-opacity:1;\" d=\"M 187.519531 241.679688 L 173.078125 237.621094 L 178.21875 229.910156 L 187.519531 241.679688 \"/>\n",
       "<path style=\"fill:none;stroke-width:1;stroke-linecap:butt;stroke-linejoin:miter;stroke:rgb(86.742764%,86.43766%,86.260246%);stroke-opacity:1;stroke-miterlimit:10;\" d=\"M 50 150 L 322.234375 59.253906 \"/>\n",
       "<path style=\" stroke:none;fill-rule:nonzero;fill:rgb(86.742764%,86.43766%,86.260246%);fill-opacity:1;\" d=\"M 335.769531 54.742188 L 323.703125 63.652344 L 320.769531 54.855469 L 335.769531 54.742188 \"/>\n",
       "<path style=\"fill:none;stroke-width:1;stroke-linecap:butt;stroke-linejoin:miter;stroke:rgb(86.742764%,86.43766%,86.260246%);stroke-opacity:1;stroke-miterlimit:10;\" d=\"M 50 150 L 320.914062 119.898438 \"/>\n",
       "<path style=\" stroke:none;fill-rule:nonzero;fill:rgb(86.742764%,86.43766%,86.260246%);fill-opacity:1;\" d=\"M 335.089844 118.324219 L 321.425781 124.503906 L 320.402344 115.292969 L 335.089844 118.324219 \"/>\n",
       "<path style=\"fill:none;stroke-width:1;stroke-linecap:butt;stroke-linejoin:miter;stroke:rgb(86.742764%,86.43766%,86.260246%);stroke-opacity:1;stroke-miterlimit:10;\" d=\"M 50 150 L 320.914062 180.101562 \"/>\n",
       "<path style=\" stroke:none;fill-rule:nonzero;fill:rgb(86.742764%,86.43766%,86.260246%);fill-opacity:1;\" d=\"M 335.089844 181.675781 L 320.402344 184.707031 L 321.425781 175.496094 L 335.089844 181.675781 \"/>\n",
       "<path style=\"fill:none;stroke-width:1;stroke-linecap:butt;stroke-linejoin:miter;stroke:rgb(86.742764%,86.43766%,86.260246%);stroke-opacity:1;stroke-miterlimit:10;\" d=\"M 50 150 L 322.234375 240.746094 \"/>\n",
       "<path style=\" stroke:none;fill-rule:nonzero;fill:rgb(86.742764%,86.43766%,86.260246%);fill-opacity:1;\" d=\"M 335.769531 245.257812 L 320.769531 245.144531 L 323.703125 236.347656 L 335.769531 245.257812 \"/>\n",
       "<path style=\"fill:none;stroke-width:1;stroke-linecap:butt;stroke-linejoin:miter;stroke:rgb(86.742764%,86.43766%,86.260246%);stroke-opacity:1;stroke-miterlimit:10;\" d=\"M 50 150 L 471.429688 56.347656 \"/>\n",
       "<path style=\" stroke:none;fill-rule:nonzero;fill:rgb(86.742764%,86.43766%,86.260246%);fill-opacity:1;\" d=\"M 485.355469 53.253906 L 472.4375 60.875 L 470.425781 51.824219 L 485.355469 53.253906 \"/>\n",
       "<path style=\"fill:none;stroke-width:1;stroke-linecap:butt;stroke-linejoin:miter;stroke:rgb(86.742764%,86.43766%,86.260246%);stroke-opacity:1;stroke-miterlimit:10;\" d=\"M 50 150 L 470.8125 118.828125 \"/>\n",
       "<path style=\" stroke:none;fill-rule:nonzero;fill:rgb(86.742764%,86.43766%,86.260246%);fill-opacity:1;\" d=\"M 485.039062 117.773438 L 471.15625 123.453125 L 470.472656 114.207031 L 485.039062 117.773438 \"/>\n",
       "<path style=\"fill:none;stroke-width:1;stroke-linecap:butt;stroke-linejoin:miter;stroke:rgb(86.742764%,86.43766%,86.260246%);stroke-opacity:1;stroke-miterlimit:10;\" d=\"M 50 150 L 470.8125 181.171875 \"/>\n",
       "<path style=\" stroke:none;fill-rule:nonzero;fill:rgb(86.742764%,86.43766%,86.260246%);fill-opacity:1;\" d=\"M 485.039062 182.226562 L 470.472656 185.792969 L 471.15625 176.546875 L 485.039062 182.226562 \"/>\n",
       "<path style=\"fill:none;stroke-width:1;stroke-linecap:butt;stroke-linejoin:miter;stroke:rgb(86.742764%,86.43766%,86.260246%);stroke-opacity:1;stroke-miterlimit:10;\" d=\"M 50 150 L 471.429688 243.652344 \"/>\n",
       "<path style=\" stroke:none;fill-rule:nonzero;fill:rgb(86.742764%,86.43766%,86.260246%);fill-opacity:1;\" d=\"M 485.355469 246.746094 L 470.425781 248.175781 L 472.4375 239.125 L 485.355469 246.746094 \"/>\n",
       "<path style=\"fill:none;stroke-width:1;stroke-linecap:butt;stroke-linejoin:miter;stroke:rgb(86.742764%,86.43766%,86.260246%);stroke-opacity:1;stroke-miterlimit:10;\" d=\"M 50 150 L 621.132812 54.8125 \"/>\n",
       "<path style=\" stroke:none;fill-rule:nonzero;fill:rgb(86.742764%,86.43766%,86.260246%);fill-opacity:1;\" d=\"M 635.203125 52.464844 L 621.894531 59.382812 L 620.371094 50.238281 L 635.203125 52.464844 \"/>\n",
       "<path style=\"fill:none;stroke-width:1;stroke-linecap:butt;stroke-linejoin:miter;stroke:rgb(86.742764%,86.43766%,86.260246%);stroke-opacity:1;stroke-miterlimit:10;\" d=\"M 50 150 L 620.777344 118.289062 \"/>\n",
       "<path style=\" stroke:none;fill-rule:nonzero;fill:rgb(86.742764%,86.43766%,86.260246%);fill-opacity:1;\" d=\"M 635.023438 117.5 L 621.035156 122.917969 L 620.523438 113.660156 L 635.023438 117.5 \"/>\n",
       "<path style=\"fill:none;stroke-width:1;stroke-linecap:butt;stroke-linejoin:miter;stroke:rgb(86.742764%,86.43766%,86.260246%);stroke-opacity:1;stroke-miterlimit:10;\" d=\"M 50 150 L 620.777344 181.710938 \"/>\n",
       "<path style=\" stroke:none;fill-rule:nonzero;fill:rgb(86.742764%,86.43766%,86.260246%);fill-opacity:1;\" d=\"M 635.023438 182.5 L 620.523438 186.339844 L 621.035156 177.082031 L 635.023438 182.5 \"/>\n",
       "<path style=\"fill:none;stroke-width:1;stroke-linecap:butt;stroke-linejoin:miter;stroke:rgb(86.742764%,86.43766%,86.260246%);stroke-opacity:1;stroke-miterlimit:10;\" d=\"M 50 150 L 621.132812 245.1875 \"/>\n",
       "<path style=\" stroke:none;fill-rule:nonzero;fill:rgb(86.742764%,86.43766%,86.260246%);fill-opacity:1;\" d=\"M 635.203125 247.535156 L 620.371094 249.761719 L 621.894531 240.617188 L 635.203125 247.535156 \"/>\n",
       "<path style=\"fill-rule:nonzero;fill:rgb(95.938473%,61.030576%,48.938185%);fill-opacity:1;stroke-width:1;stroke-linecap:butt;stroke-linejoin:miter;stroke:rgb(0%,0%,0%);stroke-opacity:1;stroke-miterlimit:10;\" d=\"M 215 50 C 215 58.285156 208.285156 65 200 65 C 191.714844 65 185 58.285156 185 50 C 185 41.714844 191.714844 35 200 35 C 208.285156 35 215 41.714844 215 50 \"/>\n",
       "<path style=\"fill-rule:nonzero;fill:rgb(34.832334%,46.571115%,88.834616%);fill-opacity:1;stroke-width:1;stroke-linecap:butt;stroke-linejoin:miter;stroke:rgb(0%,0%,0%);stroke-opacity:1;stroke-miterlimit:10;\" d=\"M 215 116.667969 C 215 124.949219 208.285156 131.667969 200 131.667969 C 191.714844 131.667969 185 124.949219 185 116.667969 C 185 108.382812 191.714844 101.667969 200 101.667969 C 208.285156 101.667969 215 108.382812 215 116.667969 \"/>\n",
       "<path style=\"fill-rule:nonzero;fill:rgb(86.742764%,86.43766%,86.260246%);fill-opacity:1;stroke-width:1;stroke-linecap:butt;stroke-linejoin:miter;stroke:rgb(0%,0%,0%);stroke-opacity:1;stroke-miterlimit:10;\" d=\"M 215 183.332031 C 215 191.617188 208.285156 198.332031 200 198.332031 C 191.714844 198.332031 185 191.617188 185 183.332031 C 185 175.050781 191.714844 168.332031 200 168.332031 C 208.285156 168.332031 215 175.050781 215 183.332031 \"/>\n",
       "<path style=\"fill-rule:nonzero;fill:rgb(86.742764%,86.43766%,86.260246%);fill-opacity:1;stroke-width:1;stroke-linecap:butt;stroke-linejoin:miter;stroke:rgb(0%,0%,0%);stroke-opacity:1;stroke-miterlimit:10;\" d=\"M 215 250 C 215 258.285156 208.285156 265 200 265 C 191.714844 265 185 258.285156 185 250 C 185 241.714844 191.714844 235 200 235 C 208.285156 235 215 241.714844 215 250 \"/>\n",
       "<path style=\"fill-rule:nonzero;fill:rgb(93.832636%,80.891655%,74.116152%);fill-opacity:1;stroke-width:1;stroke-linecap:butt;stroke-linejoin:miter;stroke:rgb(0%,0%,0%);stroke-opacity:1;stroke-miterlimit:10;\" d=\"M 365 50 C 365 58.285156 358.285156 65 350 65 C 341.714844 65 335 58.285156 335 50 C 335 41.714844 341.714844 35 350 35 C 358.285156 35 365 41.714844 365 50 \"/>\n",
       "<path style=\"fill-rule:nonzero;fill:rgb(42.519897%,55.905818%,94.606146%);fill-opacity:1;stroke-width:1;stroke-linecap:butt;stroke-linejoin:miter;stroke:rgb(0%,0%,0%);stroke-opacity:1;stroke-miterlimit:10;\" d=\"M 365 116.667969 C 365 124.949219 358.285156 131.667969 350 131.667969 C 341.714844 131.667969 335 124.949219 335 116.667969 C 335 108.382812 341.714844 101.667969 350 101.667969 C 358.285156 101.667969 365 108.382812 365 116.667969 \"/>\n",
       "<path style=\"fill-rule:nonzero;fill:rgb(78.204912%,84.286421%,94.297984%);fill-opacity:1;stroke-width:1;stroke-linecap:butt;stroke-linejoin:miter;stroke:rgb(0%,0%,0%);stroke-opacity:1;stroke-miterlimit:10;\" d=\"M 365 183.332031 C 365 191.617188 358.285156 198.332031 350 198.332031 C 341.714844 198.332031 335 191.617188 335 183.332031 C 335 175.050781 341.714844 168.332031 350 168.332031 C 358.285156 168.332031 365 175.050781 365 183.332031 \"/>\n",
       "<path style=\"fill-rule:nonzero;fill:rgb(86.742764%,86.43766%,86.260246%);fill-opacity:1;stroke-width:1;stroke-linecap:butt;stroke-linejoin:miter;stroke:rgb(0%,0%,0%);stroke-opacity:1;stroke-miterlimit:10;\" d=\"M 365 250 C 365 258.285156 358.285156 265 350 265 C 341.714844 265 335 258.285156 335 250 C 335 241.714844 341.714844 235 350 235 C 358.285156 235 365 241.714844 365 250 \"/>\n",
       "<path style=\"fill-rule:nonzero;fill:rgb(54.344019%,68.000259%,99.305052%);fill-opacity:1;stroke-width:1;stroke-linecap:butt;stroke-linejoin:miter;stroke:rgb(0%,0%,0%);stroke-opacity:1;stroke-miterlimit:10;\" d=\"M 515 50 C 515 58.285156 508.285156 65 500 65 C 491.714844 65 485 58.285156 485 50 C 485 41.714844 491.714844 35 500 35 C 508.285156 35 515 41.714844 515 50 \"/>\n",
       "<path style=\"fill-rule:nonzero;fill:rgb(86.742764%,86.43766%,86.260246%);fill-opacity:1;stroke-width:1;stroke-linecap:butt;stroke-linejoin:miter;stroke:rgb(0%,0%,0%);stroke-opacity:1;stroke-miterlimit:10;\" d=\"M 515 116.667969 C 515 124.949219 508.285156 131.667969 500 131.667969 C 491.714844 131.667969 485 124.949219 485 116.667969 C 485 108.382812 491.714844 101.667969 500 101.667969 C 508.285156 101.667969 515 108.382812 515 116.667969 \"/>\n",
       "<path style=\"fill-rule:nonzero;fill:rgb(78.204912%,84.286421%,94.297984%);fill-opacity:1;stroke-width:1;stroke-linecap:butt;stroke-linejoin:miter;stroke:rgb(0%,0%,0%);stroke-opacity:1;stroke-miterlimit:10;\" d=\"M 515 183.332031 C 515 191.617188 508.285156 198.332031 500 198.332031 C 491.714844 198.332031 485 191.617188 485 183.332031 C 485 175.050781 491.714844 168.332031 500 168.332031 C 508.285156 168.332031 515 175.050781 515 183.332031 \"/>\n",
       "<path style=\"fill-rule:nonzero;fill:rgb(86.742764%,86.43766%,86.260246%);fill-opacity:1;stroke-width:1;stroke-linecap:butt;stroke-linejoin:miter;stroke:rgb(0%,0%,0%);stroke-opacity:1;stroke-miterlimit:10;\" d=\"M 515 250 C 515 258.285156 508.285156 265 500 265 C 491.714844 265 485 258.285156 485 250 C 485 241.714844 491.714844 235 500 235 C 508.285156 235 515 241.714844 515 250 \"/>\n",
       "<path style=\"fill-rule:nonzero;fill:rgb(34.832334%,46.571115%,88.834616%);fill-opacity:1;stroke-width:1;stroke-linecap:butt;stroke-linejoin:miter;stroke:rgb(0%,0%,0%);stroke-opacity:1;stroke-miterlimit:10;\" d=\"M 665 50 C 665 58.285156 658.285156 65 650 65 C 641.714844 65 635 58.285156 635 50 C 635 41.714844 641.714844 35 650 35 C 658.285156 35 665 41.714844 665 50 \"/>\n",
       "<path style=\"fill-rule:nonzero;fill:rgb(61.931795%,74.412073%,99.893092%);fill-opacity:1;stroke-width:1;stroke-linecap:butt;stroke-linejoin:miter;stroke:rgb(0%,0%,0%);stroke-opacity:1;stroke-miterlimit:10;\" d=\"M 665 116.667969 C 665 124.949219 658.285156 131.667969 650 131.667969 C 641.714844 131.667969 635 124.949219 635 116.667969 C 635 108.382812 641.714844 101.667969 650 101.667969 C 658.285156 101.667969 665 108.382812 665 116.667969 \"/>\n",
       "<path style=\"fill-rule:nonzero;fill:rgb(57.061644%,70.410916%,99.719483%);fill-opacity:1;stroke-width:1;stroke-linecap:butt;stroke-linejoin:miter;stroke:rgb(0%,0%,0%);stroke-opacity:1;stroke-miterlimit:10;\" d=\"M 665 183.332031 C 665 191.617188 658.285156 198.332031 650 198.332031 C 641.714844 198.332031 635 191.617188 635 183.332031 C 635 175.050781 641.714844 168.332031 650 168.332031 C 658.285156 168.332031 665 175.050781 665 183.332031 \"/>\n",
       "<path style=\"fill-rule:nonzero;fill:rgb(86.742764%,86.43766%,86.260246%);fill-opacity:1;stroke-width:1;stroke-linecap:butt;stroke-linejoin:miter;stroke:rgb(0%,0%,0%);stroke-opacity:1;stroke-miterlimit:10;\" d=\"M 665 250 C 665 258.285156 658.285156 265 650 265 C 641.714844 265 635 258.285156 635 250 C 635 241.714844 641.714844 235 650 235 C 658.285156 235 665 241.714844 665 250 \"/>\n",
       "<path style=\"fill-rule:nonzero;fill:rgb(86.742764%,86.43766%,86.260246%);fill-opacity:1;stroke-width:1;stroke-linecap:butt;stroke-linejoin:miter;stroke:rgb(0%,0%,0%);stroke-opacity:1;stroke-miterlimit:10;\" d=\"M 65 150 C 65 158.285156 58.285156 165 50 165 C 41.714844 165 35 158.285156 35 150 C 35 141.714844 41.714844 135 50 135 C 58.285156 135 65 141.714844 65 150 \"/>\n",
       "<g style=\"fill:rgb(0%,0%,0%);fill-opacity:1;\">\n",
       "  <use xlink:href=\"#glyph0-1\" x=\"192.050781\" y=\"54.890625\"/>\n",
       "  <use xlink:href=\"#glyph0-2\" x=\"198.413086\" y=\"54.890625\"/>\n",
       "  <use xlink:href=\"#glyph0-1\" x=\"201.591797\" y=\"54.890625\"/>\n",
       "</g>\n",
       "<g style=\"fill:rgb(0%,0%,0%);fill-opacity:1;\">\n",
       "  <use xlink:href=\"#glyph0-1\" x=\"192.179688\" y=\"121.558594\"/>\n",
       "  <use xlink:href=\"#glyph0-2\" x=\"198.541992\" y=\"121.558594\"/>\n",
       "  <use xlink:href=\"#glyph0-3\" x=\"201.720703\" y=\"121.558594\"/>\n",
       "</g>\n",
       "<g style=\"fill:rgb(0%,0%,0%);fill-opacity:1;\">\n",
       "  <use xlink:href=\"#glyph0-1\" x=\"192.21875\" y=\"188.222656\"/>\n",
       "  <use xlink:href=\"#glyph0-2\" x=\"198.581055\" y=\"188.222656\"/>\n",
       "  <use xlink:href=\"#glyph0-4\" x=\"201.759766\" y=\"188.222656\"/>\n",
       "</g>\n",
       "<g style=\"fill:rgb(0%,0%,0%);fill-opacity:1;\">\n",
       "  <use xlink:href=\"#glyph0-1\" x=\"192.117188\" y=\"254.890625\"/>\n",
       "  <use xlink:href=\"#glyph0-2\" x=\"198.479492\" y=\"254.890625\"/>\n",
       "  <use xlink:href=\"#glyph0-5\" x=\"201.658203\" y=\"254.890625\"/>\n",
       "</g>\n",
       "<g style=\"fill:rgb(0%,0%,0%);fill-opacity:1;\">\n",
       "  <use xlink:href=\"#glyph0-3\" x=\"341.832031\" y=\"54.890625\"/>\n",
       "  <use xlink:href=\"#glyph0-2\" x=\"348.194336\" y=\"54.890625\"/>\n",
       "  <use xlink:href=\"#glyph0-1\" x=\"351.373047\" y=\"54.890625\"/>\n",
       "</g>\n",
       "<g style=\"fill:rgb(0%,0%,0%);fill-opacity:1;\">\n",
       "  <use xlink:href=\"#glyph0-3\" x=\"341.960938\" y=\"121.492188\"/>\n",
       "  <use xlink:href=\"#glyph0-2\" x=\"348.323242\" y=\"121.492188\"/>\n",
       "  <use xlink:href=\"#glyph0-3\" x=\"351.501953\" y=\"121.492188\"/>\n",
       "</g>\n",
       "<g style=\"fill:rgb(0%,0%,0%);fill-opacity:1;\">\n",
       "  <use xlink:href=\"#glyph0-3\" x=\"342\" y=\"188.222656\"/>\n",
       "  <use xlink:href=\"#glyph0-2\" x=\"348.362305\" y=\"188.222656\"/>\n",
       "  <use xlink:href=\"#glyph0-4\" x=\"351.541016\" y=\"188.222656\"/>\n",
       "</g>\n",
       "<g style=\"fill:rgb(0%,0%,0%);fill-opacity:1;\">\n",
       "  <use xlink:href=\"#glyph0-3\" x=\"341.898438\" y=\"254.890625\"/>\n",
       "  <use xlink:href=\"#glyph0-2\" x=\"348.260742\" y=\"254.890625\"/>\n",
       "  <use xlink:href=\"#glyph0-5\" x=\"351.439453\" y=\"254.890625\"/>\n",
       "</g>\n",
       "<g style=\"fill:rgb(0%,0%,0%);fill-opacity:1;\">\n",
       "  <use xlink:href=\"#glyph0-4\" x=\"492.015625\" y=\"54.890625\"/>\n",
       "  <use xlink:href=\"#glyph0-2\" x=\"498.37793\" y=\"54.890625\"/>\n",
       "  <use xlink:href=\"#glyph0-1\" x=\"501.556641\" y=\"54.890625\"/>\n",
       "</g>\n",
       "<g style=\"fill:rgb(0%,0%,0%);fill-opacity:1;\">\n",
       "  <use xlink:href=\"#glyph0-4\" x=\"492.144531\" y=\"121.558594\"/>\n",
       "  <use xlink:href=\"#glyph0-2\" x=\"498.506836\" y=\"121.558594\"/>\n",
       "  <use xlink:href=\"#glyph0-3\" x=\"501.685547\" y=\"121.558594\"/>\n",
       "</g>\n",
       "<g style=\"fill:rgb(0%,0%,0%);fill-opacity:1;\">\n",
       "  <use xlink:href=\"#glyph0-4\" x=\"492.183594\" y=\"188.222656\"/>\n",
       "  <use xlink:href=\"#glyph0-2\" x=\"498.545898\" y=\"188.222656\"/>\n",
       "  <use xlink:href=\"#glyph0-4\" x=\"501.724609\" y=\"188.222656\"/>\n",
       "</g>\n",
       "<g style=\"fill:rgb(0%,0%,0%);fill-opacity:1;\">\n",
       "  <use xlink:href=\"#glyph0-4\" x=\"492.082031\" y=\"254.890625\"/>\n",
       "  <use xlink:href=\"#glyph0-2\" x=\"498.444336\" y=\"254.890625\"/>\n",
       "  <use xlink:href=\"#glyph0-5\" x=\"501.623047\" y=\"254.890625\"/>\n",
       "</g>\n",
       "<g style=\"fill:rgb(0%,0%,0%);fill-opacity:1;\">\n",
       "  <use xlink:href=\"#glyph0-5\" x=\"642\" y=\"54.890625\"/>\n",
       "  <use xlink:href=\"#glyph0-2\" x=\"648.362305\" y=\"54.890625\"/>\n",
       "  <use xlink:href=\"#glyph0-1\" x=\"651.541016\" y=\"54.890625\"/>\n",
       "</g>\n",
       "<g style=\"fill:rgb(0%,0%,0%);fill-opacity:1;\">\n",
       "  <use xlink:href=\"#glyph0-5\" x=\"642.128906\" y=\"121.558594\"/>\n",
       "  <use xlink:href=\"#glyph0-2\" x=\"648.491211\" y=\"121.558594\"/>\n",
       "  <use xlink:href=\"#glyph0-3\" x=\"651.669922\" y=\"121.558594\"/>\n",
       "</g>\n",
       "<g style=\"fill:rgb(0%,0%,0%);fill-opacity:1;\">\n",
       "  <use xlink:href=\"#glyph0-5\" x=\"642.167969\" y=\"188.222656\"/>\n",
       "  <use xlink:href=\"#glyph0-2\" x=\"648.530273\" y=\"188.222656\"/>\n",
       "  <use xlink:href=\"#glyph0-4\" x=\"651.708984\" y=\"188.222656\"/>\n",
       "</g>\n",
       "<g style=\"fill:rgb(0%,0%,0%);fill-opacity:1;\">\n",
       "  <use xlink:href=\"#glyph0-5\" x=\"642.066406\" y=\"254.890625\"/>\n",
       "  <use xlink:href=\"#glyph0-2\" x=\"648.428711\" y=\"254.890625\"/>\n",
       "  <use xlink:href=\"#glyph0-5\" x=\"651.607422\" y=\"254.890625\"/>\n",
       "</g>\n",
       "<g style=\"fill:rgb(0%,0%,0%);fill-opacity:1;\">\n",
       "  <use xlink:href=\"#glyph0-6\" x=\"38.65625\" y=\"154.824219\"/>\n",
       "  <use xlink:href=\"#glyph0-3\" x=\"42.264648\" y=\"154.824219\"/>\n",
       "  <use xlink:href=\"#glyph0-2\" x=\"48.626953\" y=\"154.824219\"/>\n",
       "  <use xlink:href=\"#glyph0-6\" x=\"51.805664\" y=\"154.824219\"/>\n",
       "  <use xlink:href=\"#glyph0-3\" x=\"55.414062\" y=\"154.824219\"/>\n",
       "</g>\n",
       "</g>\n",
       "</svg>\n"
      ],
      "text/plain": [
       "<igraph.drawing.Plot at 0x7f9b938ac5c0>"
      ]
     },
     "execution_count": 35,
     "metadata": {
      "image/svg+xml": {
       "isolated": true
      }
     },
     "output_type": "execute_result"
    }
   ],
   "source": [
    "visual_style = util.get_visual_style(tugs, vertex_weights=nres0, edge_weights=ares0)\n",
    "ig.plot(tugs, **visual_style, bbox=(700, 300), margin=50)"
   ]
  },
  {
   "cell_type": "markdown",
   "metadata": {},
   "source": [
    "## Pricing as Optimization\n",
    "\n",
    "**The our pricing problem corresponds to a shortest path problem**\n",
    "\n",
    "* We care about the path with the most negative sum of residuals\n",
    "* ...And therefore the smallest total weight"
   ]
  },
  {
   "cell_type": "code",
   "execution_count": 36,
   "metadata": {},
   "outputs": [
    {
     "data": {
      "image/svg+xml": [
       "<?xml version=\"1.0\" encoding=\"UTF-8\"?>\n",
       "<svg xmlns=\"http://www.w3.org/2000/svg\" xmlns:xlink=\"http://www.w3.org/1999/xlink\" width=\"700pt\" height=\"300pt\" viewBox=\"0 0 700 300\" version=\"1.1\">\n",
       "<defs>\n",
       "<g>\n",
       "<symbol overflow=\"visible\" id=\"glyph0-0\">\n",
       "<path style=\"stroke:none;\" d=\"M 0.5 1.765625 L 0.5 -7.046875 L 5.5 -7.046875 L 5.5 1.765625 Z M 1.0625 1.21875 L 4.9375 1.21875 L 4.9375 -6.484375 L 1.0625 -6.484375 Z M 1.0625 1.21875 \"/>\n",
       "</symbol>\n",
       "<symbol overflow=\"visible\" id=\"glyph0-1\">\n",
       "<path style=\"stroke:none;\" d=\"M 3.171875 -6.640625 C 2.671875 -6.640625 2.289062 -6.390625 2.03125 -5.890625 C 1.78125 -5.390625 1.65625 -4.640625 1.65625 -3.640625 C 1.65625 -2.640625 1.78125 -1.890625 2.03125 -1.390625 C 2.289062 -0.890625 2.671875 -0.640625 3.171875 -0.640625 C 3.691406 -0.640625 4.078125 -0.890625 4.328125 -1.390625 C 4.585938 -1.890625 4.71875 -2.640625 4.71875 -3.640625 C 4.71875 -4.640625 4.585938 -5.390625 4.328125 -5.890625 C 4.078125 -6.390625 3.691406 -6.640625 3.171875 -6.640625 Z M 3.171875 -7.421875 C 3.992188 -7.421875 4.617188 -7.097656 5.046875 -6.453125 C 5.484375 -5.804688 5.703125 -4.867188 5.703125 -3.640625 C 5.703125 -2.410156 5.484375 -1.472656 5.046875 -0.828125 C 4.617188 -0.179688 3.992188 0.140625 3.171875 0.140625 C 2.359375 0.140625 1.734375 -0.179688 1.296875 -0.828125 C 0.867188 -1.472656 0.65625 -2.410156 0.65625 -3.640625 C 0.65625 -4.867188 0.867188 -5.804688 1.296875 -6.453125 C 1.734375 -7.097656 2.359375 -7.421875 3.171875 -7.421875 Z M 3.171875 -7.421875 \"/>\n",
       "</symbol>\n",
       "<symbol overflow=\"visible\" id=\"glyph0-2\">\n",
       "<path style=\"stroke:none;\" d=\"M 1.171875 -1.234375 L 2.203125 -1.234375 L 2.203125 -0.40625 L 1.40625 1.15625 L 0.765625 1.15625 L 1.171875 -0.40625 Z M 1.171875 -1.234375 \"/>\n",
       "</symbol>\n",
       "<symbol overflow=\"visible\" id=\"glyph0-3\">\n",
       "<path style=\"stroke:none;\" d=\"M 1.234375 -0.828125 L 2.859375 -0.828125 L 2.859375 -6.390625 L 1.09375 -6.046875 L 1.09375 -6.9375 L 2.84375 -7.296875 L 3.828125 -7.296875 L 3.828125 -0.828125 L 5.4375 -0.828125 L 5.4375 0 L 1.234375 0 Z M 1.234375 -0.828125 \"/>\n",
       "</symbol>\n",
       "<symbol overflow=\"visible\" id=\"glyph0-4\">\n",
       "<path style=\"stroke:none;\" d=\"M 1.921875 -0.828125 L 5.359375 -0.828125 L 5.359375 0 L 0.734375 0 L 0.734375 -0.828125 C 1.109375 -1.210938 1.617188 -1.734375 2.265625 -2.390625 C 2.910156 -3.046875 3.316406 -3.46875 3.484375 -3.65625 C 3.796875 -4.007812 4.015625 -4.304688 4.140625 -4.546875 C 4.265625 -4.796875 4.328125 -5.039062 4.328125 -5.28125 C 4.328125 -5.664062 4.191406 -5.976562 3.921875 -6.21875 C 3.648438 -6.46875 3.296875 -6.59375 2.859375 -6.59375 C 2.546875 -6.59375 2.21875 -6.535156 1.875 -6.421875 C 1.539062 -6.316406 1.175781 -6.15625 0.78125 -5.9375 L 0.78125 -6.9375 C 1.175781 -7.09375 1.546875 -7.210938 1.890625 -7.296875 C 2.234375 -7.378906 2.550781 -7.421875 2.84375 -7.421875 C 3.59375 -7.421875 4.191406 -7.234375 4.640625 -6.859375 C 5.097656 -6.484375 5.328125 -5.976562 5.328125 -5.34375 C 5.328125 -5.039062 5.269531 -4.753906 5.15625 -4.484375 C 5.039062 -4.222656 4.835938 -3.910156 4.546875 -3.546875 C 4.460938 -3.453125 4.203125 -3.175781 3.765625 -2.71875 C 3.328125 -2.269531 2.710938 -1.640625 1.921875 -0.828125 Z M 1.921875 -0.828125 \"/>\n",
       "</symbol>\n",
       "<symbol overflow=\"visible\" id=\"glyph0-5\">\n",
       "<path style=\"stroke:none;\" d=\"M 4.0625 -3.9375 C 4.53125 -3.832031 4.894531 -3.617188 5.15625 -3.296875 C 5.425781 -2.984375 5.5625 -2.59375 5.5625 -2.125 C 5.5625 -1.40625 5.3125 -0.847656 4.8125 -0.453125 C 4.320312 -0.0546875 3.617188 0.140625 2.703125 0.140625 C 2.398438 0.140625 2.085938 0.109375 1.765625 0.046875 C 1.441406 -0.015625 1.109375 -0.101562 0.765625 -0.21875 L 0.765625 -1.171875 C 1.035156 -1.015625 1.332031 -0.894531 1.65625 -0.8125 C 1.988281 -0.726562 2.332031 -0.6875 2.6875 -0.6875 C 3.300781 -0.6875 3.769531 -0.804688 4.09375 -1.046875 C 4.414062 -1.296875 4.578125 -1.65625 4.578125 -2.125 C 4.578125 -2.550781 4.425781 -2.882812 4.125 -3.125 C 3.820312 -3.363281 3.40625 -3.484375 2.875 -3.484375 L 2.015625 -3.484375 L 2.015625 -4.296875 L 2.90625 -4.296875 C 3.394531 -4.296875 3.765625 -4.394531 4.015625 -4.59375 C 4.273438 -4.789062 4.40625 -5.070312 4.40625 -5.4375 C 4.40625 -5.800781 4.269531 -6.082031 4 -6.28125 C 3.738281 -6.488281 3.363281 -6.59375 2.875 -6.59375 C 2.601562 -6.59375 2.3125 -6.5625 2 -6.5 C 1.6875 -6.445312 1.347656 -6.359375 0.984375 -6.234375 L 0.984375 -7.109375 C 1.359375 -7.210938 1.707031 -7.289062 2.03125 -7.34375 C 2.363281 -7.394531 2.671875 -7.421875 2.953125 -7.421875 C 3.703125 -7.421875 4.296875 -7.25 4.734375 -6.90625 C 5.171875 -6.570312 5.390625 -6.113281 5.390625 -5.53125 C 5.390625 -5.125 5.273438 -4.78125 5.046875 -4.5 C 4.816406 -4.226562 4.488281 -4.039062 4.0625 -3.9375 Z M 4.0625 -3.9375 \"/>\n",
       "</symbol>\n",
       "<symbol overflow=\"visible\" id=\"glyph0-6\">\n",
       "<path style=\"stroke:none;\" d=\"M 0.484375 -3.140625 L 3.125 -3.140625 L 3.125 -2.34375 L 0.484375 -2.34375 Z M 0.484375 -3.140625 \"/>\n",
       "</symbol>\n",
       "</g>\n",
       "</defs>\n",
       "<g id=\"surface44\">\n",
       "<rect x=\"0\" y=\"0\" width=\"700\" height=\"300\" style=\"fill:rgb(100%,100%,100%);fill-opacity:1;stroke:none;\"/>\n",
       "<path style=\"fill:none;stroke-width:1;stroke-linecap:butt;stroke-linejoin:miter;stroke:rgb(88.464344%,41.00171%,32.250655%);stroke-opacity:1;stroke-miterlimit:10;\" d=\"M 200 50 L 320.734375 50 \"/>\n",
       "<path style=\" stroke:none;fill-rule:nonzero;fill:rgb(88.464344%,41.00171%,32.250655%);fill-opacity:1;\" d=\"M 335 50 L 320.734375 54.636719 L 320.734375 45.363281 L 335 50 \"/>\n",
       "<path style=\"fill:none;stroke-width:1;stroke-linecap:butt;stroke-linejoin:miter;stroke:rgb(86.742764%,86.43766%,86.260246%);stroke-opacity:1;stroke-miterlimit:10;\" d=\"M 200 50 L 323.257812 104.78125 \"/>\n",
       "<path style=\" stroke:none;fill-rule:nonzero;fill:rgb(86.742764%,86.43766%,86.260246%);fill-opacity:1;\" d=\"M 336.292969 110.574219 L 321.375 109.015625 L 325.140625 100.546875 L 336.292969 110.574219 \"/>\n",
       "<path style=\"fill:none;stroke-width:1;stroke-linecap:butt;stroke-linejoin:miter;stroke:rgb(34.832334%,46.571115%,88.834616%);stroke-opacity:1;stroke-miterlimit:10;\" d=\"M 200 116.667969 L 320.734375 116.667969 \"/>\n",
       "<path style=\" stroke:none;fill-rule:nonzero;fill:rgb(34.832334%,46.571115%,88.834616%);fill-opacity:1;\" d=\"M 335 116.667969 L 320.734375 121.300781 L 320.734375 112.03125 L 335 116.667969 \"/>\n",
       "<path style=\"fill:none;stroke-width:1;stroke-linecap:butt;stroke-linejoin:miter;stroke:rgb(86.742764%,86.43766%,86.260246%);stroke-opacity:1;stroke-miterlimit:10;\" d=\"M 200 50 L 328.125 163.890625 \"/>\n",
       "<path style=\" stroke:none;fill-rule:nonzero;fill:rgb(86.742764%,86.43766%,86.260246%);fill-opacity:1;\" d=\"M 338.789062 173.367188 L 325.046875 167.355469 L 331.207031 160.425781 L 338.789062 173.367188 \"/>\n",
       "<path style=\"fill:none;stroke-width:1;stroke-linecap:butt;stroke-linejoin:miter;stroke:rgb(86.742764%,86.43766%,86.260246%);stroke-opacity:1;stroke-miterlimit:10;\" d=\"M 200 183.332031 L 320.734375 183.332031 \"/>\n",
       "<path style=\" stroke:none;fill-rule:nonzero;fill:rgb(86.742764%,86.43766%,86.260246%);fill-opacity:1;\" d=\"M 335 183.332031 L 320.734375 187.96875 L 320.734375 178.699219 L 335 183.332031 \"/>\n",
       "<path style=\"fill:none;stroke-width:1;stroke-linecap:butt;stroke-linejoin:miter;stroke:rgb(86.742764%,86.43766%,86.260246%);stroke-opacity:1;stroke-miterlimit:10;\" d=\"M 200 50 L 332.441406 226.585938 \"/>\n",
       "<path style=\" stroke:none;fill-rule:nonzero;fill:rgb(86.742764%,86.43766%,86.260246%);fill-opacity:1;\" d=\"M 341 238 L 328.730469 229.367188 L 336.148438 223.804688 L 341 238 \"/>\n",
       "<path style=\"fill:none;stroke-width:1;stroke-linecap:butt;stroke-linejoin:miter;stroke:rgb(86.742764%,86.43766%,86.260246%);stroke-opacity:1;stroke-miterlimit:10;\" d=\"M 200 250 L 320.734375 250 \"/>\n",
       "<path style=\" stroke:none;fill-rule:nonzero;fill:rgb(86.742764%,86.43766%,86.260246%);fill-opacity:1;\" d=\"M 335 250 L 320.734375 254.636719 L 320.734375 245.363281 L 335 250 \"/>\n",
       "<path style=\"fill:none;stroke-width:1;stroke-linecap:butt;stroke-linejoin:miter;stroke:rgb(86.742764%,86.43766%,86.260246%);stroke-opacity:1;stroke-miterlimit:10;\" d=\"M 200 116.667969 L 323.257812 61.886719 \"/>\n",
       "<path style=\" stroke:none;fill-rule:nonzero;fill:rgb(86.742764%,86.43766%,86.260246%);fill-opacity:1;\" d=\"M 336.292969 56.09375 L 325.140625 66.121094 L 321.375 57.648438 L 336.292969 56.09375 \"/>\n",
       "<path style=\"fill:none;stroke-width:1;stroke-linecap:butt;stroke-linejoin:miter;stroke:rgb(73.882599%,82.257162%,96.826106%);stroke-opacity:1;stroke-miterlimit:10;\" d=\"M 200 116.667969 L 323.257812 171.449219 \"/>\n",
       "<path style=\" stroke:none;fill-rule:nonzero;fill:rgb(73.882599%,82.257162%,96.826106%);fill-opacity:1;\" d=\"M 336.292969 177.242188 L 321.375 175.683594 L 325.140625 167.210938 L 336.292969 177.242188 \"/>\n",
       "<path style=\"fill:none;stroke-width:1;stroke-linecap:butt;stroke-linejoin:miter;stroke:rgb(95.817603%,77.123409%,68.030104%);stroke-opacity:1;stroke-miterlimit:10;\" d=\"M 350 50 L 470.734375 50 \"/>\n",
       "<path style=\" stroke:none;fill-rule:nonzero;fill:rgb(95.817603%,77.123409%,68.030104%);fill-opacity:1;\" d=\"M 485 50 L 470.734375 54.636719 L 470.734375 45.363281 L 485 50 \"/>\n",
       "<path style=\"fill:none;stroke-width:1;stroke-linecap:butt;stroke-linejoin:miter;stroke:rgb(86.742764%,86.43766%,86.260246%);stroke-opacity:1;stroke-miterlimit:10;\" d=\"M 350 50 L 473.257812 104.78125 \"/>\n",
       "<path style=\" stroke:none;fill-rule:nonzero;fill:rgb(86.742764%,86.43766%,86.260246%);fill-opacity:1;\" d=\"M 486.292969 110.574219 L 471.375 109.015625 L 475.140625 100.546875 L 486.292969 110.574219 \"/>\n",
       "<path style=\"fill:none;stroke-width:1;stroke-linecap:butt;stroke-linejoin:miter;stroke:rgb(86.742764%,86.43766%,86.260246%);stroke-opacity:1;stroke-miterlimit:10;\" d=\"M 350 116.667969 L 470.734375 116.667969 \"/>\n",
       "<path style=\" stroke:none;fill-rule:nonzero;fill:rgb(86.742764%,86.43766%,86.260246%);fill-opacity:1;\" d=\"M 485 116.667969 L 470.734375 121.300781 L 470.734375 112.03125 L 485 116.667969 \"/>\n",
       "<path style=\"fill:none;stroke-width:1;stroke-linecap:butt;stroke-linejoin:miter;stroke:rgb(86.742764%,86.43766%,86.260246%);stroke-opacity:1;stroke-miterlimit:10;\" d=\"M 350 50 L 478.125 163.890625 \"/>\n",
       "<path style=\" stroke:none;fill-rule:nonzero;fill:rgb(86.742764%,86.43766%,86.260246%);fill-opacity:1;\" d=\"M 488.789062 173.367188 L 475.046875 167.355469 L 481.207031 160.425781 L 488.789062 173.367188 \"/>\n",
       "<path style=\"fill:none;stroke-width:1;stroke-linecap:butt;stroke-linejoin:miter;stroke:rgb(73.882599%,82.257162%,96.826106%);stroke-opacity:1;stroke-miterlimit:10;\" d=\"M 350 183.332031 L 470.734375 183.332031 \"/>\n",
       "<path style=\" stroke:none;fill-rule:nonzero;fill:rgb(73.882599%,82.257162%,96.826106%);fill-opacity:1;\" d=\"M 485 183.332031 L 470.734375 187.96875 L 470.734375 178.699219 L 485 183.332031 \"/>\n",
       "<path style=\"fill:none;stroke-width:1;stroke-linecap:butt;stroke-linejoin:miter;stroke:rgb(86.742764%,86.43766%,86.260246%);stroke-opacity:1;stroke-miterlimit:10;\" d=\"M 350 50 L 482.441406 226.585938 \"/>\n",
       "<path style=\" stroke:none;fill-rule:nonzero;fill:rgb(86.742764%,86.43766%,86.260246%);fill-opacity:1;\" d=\"M 491 238 L 478.730469 229.367188 L 486.148438 223.804688 L 491 238 \"/>\n",
       "<path style=\"fill:none;stroke-width:1;stroke-linecap:butt;stroke-linejoin:miter;stroke:rgb(86.742764%,86.43766%,86.260246%);stroke-opacity:1;stroke-miterlimit:10;\" d=\"M 350 250 L 470.734375 250 \"/>\n",
       "<path style=\" stroke:none;fill-rule:nonzero;fill:rgb(86.742764%,86.43766%,86.260246%);fill-opacity:1;\" d=\"M 485 250 L 470.734375 254.636719 L 470.734375 245.363281 L 485 250 \"/>\n",
       "<path style=\"fill:none;stroke-width:1;stroke-linecap:butt;stroke-linejoin:miter;stroke:rgb(34.832334%,46.571115%,88.834616%);stroke-opacity:1;stroke-miterlimit:10;\" d=\"M 350 116.667969 L 473.257812 61.886719 \"/>\n",
       "<path style=\" stroke:none;fill-rule:nonzero;fill:rgb(34.832334%,46.571115%,88.834616%);fill-opacity:1;\" d=\"M 486.292969 56.09375 L 475.140625 66.121094 L 471.375 57.648438 L 486.292969 56.09375 \"/>\n",
       "<path style=\"fill:none;stroke-width:1;stroke-linecap:butt;stroke-linejoin:miter;stroke:rgb(86.742764%,86.43766%,86.260246%);stroke-opacity:1;stroke-miterlimit:10;\" d=\"M 350 116.667969 L 473.257812 171.449219 \"/>\n",
       "<path style=\" stroke:none;fill-rule:nonzero;fill:rgb(86.742764%,86.43766%,86.260246%);fill-opacity:1;\" d=\"M 486.292969 177.242188 L 471.375 175.683594 L 475.140625 167.210938 L 486.292969 177.242188 \"/>\n",
       "<path style=\"fill:none;stroke-width:1;stroke-linecap:butt;stroke-linejoin:miter;stroke:rgb(96.483536%,74.461367%,64.323888%);stroke-opacity:1;stroke-miterlimit:10;\" d=\"M 500 50 L 620.734375 50 \"/>\n",
       "<path style=\" stroke:none;fill-rule:nonzero;fill:rgb(96.483536%,74.461367%,64.323888%);fill-opacity:1;\" d=\"M 635 50 L 620.734375 54.636719 L 620.734375 45.363281 L 635 50 \"/>\n",
       "<path style=\"fill:none;stroke-width:1;stroke-linecap:butt;stroke-linejoin:miter;stroke:rgb(49.463849%,63.302226%,97.898282%);stroke-opacity:1;stroke-miterlimit:10;\" d=\"M 500 50 L 623.257812 104.78125 \"/>\n",
       "<path style=\" stroke:none;fill-rule:nonzero;fill:rgb(49.463849%,63.302226%,97.898282%);fill-opacity:1;\" d=\"M 636.292969 110.574219 L 621.375 109.015625 L 625.140625 100.546875 L 636.292969 110.574219 \"/>\n",
       "<path style=\"fill:none;stroke-width:1;stroke-linecap:butt;stroke-linejoin:miter;stroke:rgb(86.742764%,86.43766%,86.260246%);stroke-opacity:1;stroke-miterlimit:10;\" d=\"M 500 116.667969 L 620.734375 116.667969 \"/>\n",
       "<path style=\" stroke:none;fill-rule:nonzero;fill:rgb(86.742764%,86.43766%,86.260246%);fill-opacity:1;\" d=\"M 635 116.667969 L 620.734375 121.300781 L 620.734375 112.03125 L 635 116.667969 \"/>\n",
       "<path style=\"fill:none;stroke-width:1;stroke-linecap:butt;stroke-linejoin:miter;stroke:rgb(57.605129%,70.877988%,99.775459%);stroke-opacity:1;stroke-miterlimit:10;\" d=\"M 500 50 L 628.125 163.890625 \"/>\n",
       "<path style=\" stroke:none;fill-rule:nonzero;fill:rgb(57.605129%,70.877988%,99.775459%);fill-opacity:1;\" d=\"M 638.789062 173.367188 L 625.046875 167.355469 L 631.207031 160.425781 L 638.789062 173.367188 \"/>\n",
       "<path style=\"fill:none;stroke-width:1;stroke-linecap:butt;stroke-linejoin:miter;stroke:rgb(73.882599%,82.257162%,96.826106%);stroke-opacity:1;stroke-miterlimit:10;\" d=\"M 500 183.332031 L 620.734375 183.332031 \"/>\n",
       "<path style=\" stroke:none;fill-rule:nonzero;fill:rgb(73.882599%,82.257162%,96.826106%);fill-opacity:1;\" d=\"M 635 183.332031 L 620.734375 187.96875 L 620.734375 178.699219 L 635 183.332031 \"/>\n",
       "<path style=\"fill:none;stroke-width:1;stroke-linecap:butt;stroke-linejoin:miter;stroke:rgb(86.742764%,86.43766%,86.260246%);stroke-opacity:1;stroke-miterlimit:10;\" d=\"M 500 50 L 632.441406 226.585938 \"/>\n",
       "<path style=\" stroke:none;fill-rule:nonzero;fill:rgb(86.742764%,86.43766%,86.260246%);fill-opacity:1;\" d=\"M 641 238 L 628.730469 229.367188 L 636.148438 223.804688 L 641 238 \"/>\n",
       "<path style=\"fill:none;stroke-width:1;stroke-linecap:butt;stroke-linejoin:miter;stroke:rgb(86.742764%,86.43766%,86.260246%);stroke-opacity:1;stroke-miterlimit:10;\" d=\"M 500 250 L 620.734375 250 \"/>\n",
       "<path style=\" stroke:none;fill-rule:nonzero;fill:rgb(86.742764%,86.43766%,86.260246%);fill-opacity:1;\" d=\"M 635 250 L 620.734375 254.636719 L 620.734375 245.363281 L 635 250 \"/>\n",
       "<path style=\"fill:none;stroke-width:1;stroke-linecap:butt;stroke-linejoin:miter;stroke:rgb(86.742764%,86.43766%,86.260246%);stroke-opacity:1;stroke-miterlimit:10;\" d=\"M 500 116.667969 L 623.257812 61.886719 \"/>\n",
       "<path style=\" stroke:none;fill-rule:nonzero;fill:rgb(86.742764%,86.43766%,86.260246%);fill-opacity:1;\" d=\"M 636.292969 56.09375 L 625.140625 66.121094 L 621.375 57.648438 L 636.292969 56.09375 \"/>\n",
       "<path style=\"fill:none;stroke-width:1;stroke-linecap:butt;stroke-linejoin:miter;stroke:rgb(86.742764%,86.43766%,86.260246%);stroke-opacity:1;stroke-miterlimit:10;\" d=\"M 500 116.667969 L 623.257812 171.449219 \"/>\n",
       "<path style=\" stroke:none;fill-rule:nonzero;fill:rgb(86.742764%,86.43766%,86.260246%);fill-opacity:1;\" d=\"M 636.292969 177.242188 L 621.375 175.683594 L 625.140625 167.210938 L 636.292969 177.242188 \"/>\n",
       "<path style=\"fill:none;stroke-width:1;stroke-linecap:butt;stroke-linejoin:miter;stroke:rgb(86.742764%,86.43766%,86.260246%);stroke-opacity:1;stroke-miterlimit:10;\" d=\"M 50 150 L 175.648438 66.234375 \"/>\n",
       "<path style=\" stroke:none;fill-rule:nonzero;fill:rgb(86.742764%,86.43766%,86.260246%);fill-opacity:1;\" d=\"M 187.519531 58.320312 L 178.21875 70.089844 L 173.078125 62.378906 L 187.519531 58.320312 \"/>\n",
       "<path style=\"fill:none;stroke-width:1;stroke-linecap:butt;stroke-linejoin:miter;stroke:rgb(86.742764%,86.43766%,86.260246%);stroke-opacity:1;stroke-miterlimit:10;\" d=\"M 50 150 L 171.429688 123.015625 \"/>\n",
       "<path style=\" stroke:none;fill-rule:nonzero;fill:rgb(86.742764%,86.43766%,86.260246%);fill-opacity:1;\" d=\"M 185.355469 119.921875 L 172.4375 127.539062 L 170.425781 118.492188 L 185.355469 119.921875 \"/>\n",
       "<path style=\"fill:none;stroke-width:1;stroke-linecap:butt;stroke-linejoin:miter;stroke:rgb(86.742764%,86.43766%,86.260246%);stroke-opacity:1;stroke-miterlimit:10;\" d=\"M 50 150 L 171.429688 176.984375 \"/>\n",
       "<path style=\" stroke:none;fill-rule:nonzero;fill:rgb(86.742764%,86.43766%,86.260246%);fill-opacity:1;\" d=\"M 185.355469 180.078125 L 170.425781 181.507812 L 172.4375 172.460938 L 185.355469 180.078125 \"/>\n",
       "<path style=\"fill:none;stroke-width:1;stroke-linecap:butt;stroke-linejoin:miter;stroke:rgb(86.742764%,86.43766%,86.260246%);stroke-opacity:1;stroke-miterlimit:10;\" d=\"M 50 150 L 175.648438 233.765625 \"/>\n",
       "<path style=\" stroke:none;fill-rule:nonzero;fill:rgb(86.742764%,86.43766%,86.260246%);fill-opacity:1;\" d=\"M 187.519531 241.679688 L 173.078125 237.621094 L 178.21875 229.910156 L 187.519531 241.679688 \"/>\n",
       "<path style=\"fill:none;stroke-width:1;stroke-linecap:butt;stroke-linejoin:miter;stroke:rgb(86.742764%,86.43766%,86.260246%);stroke-opacity:1;stroke-miterlimit:10;\" d=\"M 50 150 L 322.234375 59.253906 \"/>\n",
       "<path style=\" stroke:none;fill-rule:nonzero;fill:rgb(86.742764%,86.43766%,86.260246%);fill-opacity:1;\" d=\"M 335.769531 54.742188 L 323.703125 63.652344 L 320.769531 54.855469 L 335.769531 54.742188 \"/>\n",
       "<path style=\"fill:none;stroke-width:1;stroke-linecap:butt;stroke-linejoin:miter;stroke:rgb(86.742764%,86.43766%,86.260246%);stroke-opacity:1;stroke-miterlimit:10;\" d=\"M 50 150 L 320.914062 119.898438 \"/>\n",
       "<path style=\" stroke:none;fill-rule:nonzero;fill:rgb(86.742764%,86.43766%,86.260246%);fill-opacity:1;\" d=\"M 335.089844 118.324219 L 321.425781 124.503906 L 320.402344 115.292969 L 335.089844 118.324219 \"/>\n",
       "<path style=\"fill:none;stroke-width:1;stroke-linecap:butt;stroke-linejoin:miter;stroke:rgb(86.742764%,86.43766%,86.260246%);stroke-opacity:1;stroke-miterlimit:10;\" d=\"M 50 150 L 320.914062 180.101562 \"/>\n",
       "<path style=\" stroke:none;fill-rule:nonzero;fill:rgb(86.742764%,86.43766%,86.260246%);fill-opacity:1;\" d=\"M 335.089844 181.675781 L 320.402344 184.707031 L 321.425781 175.496094 L 335.089844 181.675781 \"/>\n",
       "<path style=\"fill:none;stroke-width:1;stroke-linecap:butt;stroke-linejoin:miter;stroke:rgb(86.742764%,86.43766%,86.260246%);stroke-opacity:1;stroke-miterlimit:10;\" d=\"M 50 150 L 322.234375 240.746094 \"/>\n",
       "<path style=\" stroke:none;fill-rule:nonzero;fill:rgb(86.742764%,86.43766%,86.260246%);fill-opacity:1;\" d=\"M 335.769531 245.257812 L 320.769531 245.144531 L 323.703125 236.347656 L 335.769531 245.257812 \"/>\n",
       "<path style=\"fill:none;stroke-width:1;stroke-linecap:butt;stroke-linejoin:miter;stroke:rgb(86.742764%,86.43766%,86.260246%);stroke-opacity:1;stroke-miterlimit:10;\" d=\"M 50 150 L 471.429688 56.347656 \"/>\n",
       "<path style=\" stroke:none;fill-rule:nonzero;fill:rgb(86.742764%,86.43766%,86.260246%);fill-opacity:1;\" d=\"M 485.355469 53.253906 L 472.4375 60.875 L 470.425781 51.824219 L 485.355469 53.253906 \"/>\n",
       "<path style=\"fill:none;stroke-width:1;stroke-linecap:butt;stroke-linejoin:miter;stroke:rgb(86.742764%,86.43766%,86.260246%);stroke-opacity:1;stroke-miterlimit:10;\" d=\"M 50 150 L 470.8125 118.828125 \"/>\n",
       "<path style=\" stroke:none;fill-rule:nonzero;fill:rgb(86.742764%,86.43766%,86.260246%);fill-opacity:1;\" d=\"M 485.039062 117.773438 L 471.15625 123.453125 L 470.472656 114.207031 L 485.039062 117.773438 \"/>\n",
       "<path style=\"fill:none;stroke-width:1;stroke-linecap:butt;stroke-linejoin:miter;stroke:rgb(86.742764%,86.43766%,86.260246%);stroke-opacity:1;stroke-miterlimit:10;\" d=\"M 50 150 L 470.8125 181.171875 \"/>\n",
       "<path style=\" stroke:none;fill-rule:nonzero;fill:rgb(86.742764%,86.43766%,86.260246%);fill-opacity:1;\" d=\"M 485.039062 182.226562 L 470.472656 185.792969 L 471.15625 176.546875 L 485.039062 182.226562 \"/>\n",
       "<path style=\"fill:none;stroke-width:1;stroke-linecap:butt;stroke-linejoin:miter;stroke:rgb(86.742764%,86.43766%,86.260246%);stroke-opacity:1;stroke-miterlimit:10;\" d=\"M 50 150 L 471.429688 243.652344 \"/>\n",
       "<path style=\" stroke:none;fill-rule:nonzero;fill:rgb(86.742764%,86.43766%,86.260246%);fill-opacity:1;\" d=\"M 485.355469 246.746094 L 470.425781 248.175781 L 472.4375 239.125 L 485.355469 246.746094 \"/>\n",
       "<path style=\"fill:none;stroke-width:1;stroke-linecap:butt;stroke-linejoin:miter;stroke:rgb(86.742764%,86.43766%,86.260246%);stroke-opacity:1;stroke-miterlimit:10;\" d=\"M 50 150 L 621.132812 54.8125 \"/>\n",
       "<path style=\" stroke:none;fill-rule:nonzero;fill:rgb(86.742764%,86.43766%,86.260246%);fill-opacity:1;\" d=\"M 635.203125 52.464844 L 621.894531 59.382812 L 620.371094 50.238281 L 635.203125 52.464844 \"/>\n",
       "<path style=\"fill:none;stroke-width:1;stroke-linecap:butt;stroke-linejoin:miter;stroke:rgb(86.742764%,86.43766%,86.260246%);stroke-opacity:1;stroke-miterlimit:10;\" d=\"M 50 150 L 620.777344 118.289062 \"/>\n",
       "<path style=\" stroke:none;fill-rule:nonzero;fill:rgb(86.742764%,86.43766%,86.260246%);fill-opacity:1;\" d=\"M 635.023438 117.5 L 621.035156 122.917969 L 620.523438 113.660156 L 635.023438 117.5 \"/>\n",
       "<path style=\"fill:none;stroke-width:1;stroke-linecap:butt;stroke-linejoin:miter;stroke:rgb(86.742764%,86.43766%,86.260246%);stroke-opacity:1;stroke-miterlimit:10;\" d=\"M 50 150 L 620.777344 181.710938 \"/>\n",
       "<path style=\" stroke:none;fill-rule:nonzero;fill:rgb(86.742764%,86.43766%,86.260246%);fill-opacity:1;\" d=\"M 635.023438 182.5 L 620.523438 186.339844 L 621.035156 177.082031 L 635.023438 182.5 \"/>\n",
       "<path style=\"fill:none;stroke-width:1;stroke-linecap:butt;stroke-linejoin:miter;stroke:rgb(86.742764%,86.43766%,86.260246%);stroke-opacity:1;stroke-miterlimit:10;\" d=\"M 50 150 L 621.132812 245.1875 \"/>\n",
       "<path style=\" stroke:none;fill-rule:nonzero;fill:rgb(86.742764%,86.43766%,86.260246%);fill-opacity:1;\" d=\"M 635.203125 247.535156 L 620.371094 249.761719 L 621.894531 240.617188 L 635.203125 247.535156 \"/>\n",
       "<path style=\"fill-rule:nonzero;fill:rgb(95.938473%,61.030576%,48.938185%);fill-opacity:1;stroke-width:1;stroke-linecap:butt;stroke-linejoin:miter;stroke:rgb(0%,0%,0%);stroke-opacity:1;stroke-miterlimit:10;\" d=\"M 215 50 C 215 58.285156 208.285156 65 200 65 C 191.714844 65 185 58.285156 185 50 C 185 41.714844 191.714844 35 200 35 C 208.285156 35 215 41.714844 215 50 \"/>\n",
       "<path style=\"fill-rule:nonzero;fill:rgb(34.832334%,46.571115%,88.834616%);fill-opacity:1;stroke-width:1;stroke-linecap:butt;stroke-linejoin:miter;stroke:rgb(0%,0%,0%);stroke-opacity:1;stroke-miterlimit:10;\" d=\"M 215 116.667969 C 215 124.949219 208.285156 131.667969 200 131.667969 C 191.714844 131.667969 185 124.949219 185 116.667969 C 185 108.382812 191.714844 101.667969 200 101.667969 C 208.285156 101.667969 215 108.382812 215 116.667969 \"/>\n",
       "<path style=\"fill-rule:nonzero;fill:rgb(86.742764%,86.43766%,86.260246%);fill-opacity:1;stroke-width:1;stroke-linecap:butt;stroke-linejoin:miter;stroke:rgb(0%,0%,0%);stroke-opacity:1;stroke-miterlimit:10;\" d=\"M 215 183.332031 C 215 191.617188 208.285156 198.332031 200 198.332031 C 191.714844 198.332031 185 191.617188 185 183.332031 C 185 175.050781 191.714844 168.332031 200 168.332031 C 208.285156 168.332031 215 175.050781 215 183.332031 \"/>\n",
       "<path style=\"fill-rule:nonzero;fill:rgb(86.742764%,86.43766%,86.260246%);fill-opacity:1;stroke-width:1;stroke-linecap:butt;stroke-linejoin:miter;stroke:rgb(0%,0%,0%);stroke-opacity:1;stroke-miterlimit:10;\" d=\"M 215 250 C 215 258.285156 208.285156 265 200 265 C 191.714844 265 185 258.285156 185 250 C 185 241.714844 191.714844 235 200 235 C 208.285156 235 215 241.714844 215 250 \"/>\n",
       "<path style=\"fill-rule:nonzero;fill:rgb(93.832636%,80.891655%,74.116152%);fill-opacity:1;stroke-width:1;stroke-linecap:butt;stroke-linejoin:miter;stroke:rgb(0%,0%,0%);stroke-opacity:1;stroke-miterlimit:10;\" d=\"M 365 50 C 365 58.285156 358.285156 65 350 65 C 341.714844 65 335 58.285156 335 50 C 335 41.714844 341.714844 35 350 35 C 358.285156 35 365 41.714844 365 50 \"/>\n",
       "<path style=\"fill-rule:nonzero;fill:rgb(42.519897%,55.905818%,94.606146%);fill-opacity:1;stroke-width:1;stroke-linecap:butt;stroke-linejoin:miter;stroke:rgb(0%,0%,0%);stroke-opacity:1;stroke-miterlimit:10;\" d=\"M 365 116.667969 C 365 124.949219 358.285156 131.667969 350 131.667969 C 341.714844 131.667969 335 124.949219 335 116.667969 C 335 108.382812 341.714844 101.667969 350 101.667969 C 358.285156 101.667969 365 108.382812 365 116.667969 \"/>\n",
       "<path style=\"fill-rule:nonzero;fill:rgb(78.204912%,84.286421%,94.297984%);fill-opacity:1;stroke-width:1;stroke-linecap:butt;stroke-linejoin:miter;stroke:rgb(0%,0%,0%);stroke-opacity:1;stroke-miterlimit:10;\" d=\"M 365 183.332031 C 365 191.617188 358.285156 198.332031 350 198.332031 C 341.714844 198.332031 335 191.617188 335 183.332031 C 335 175.050781 341.714844 168.332031 350 168.332031 C 358.285156 168.332031 365 175.050781 365 183.332031 \"/>\n",
       "<path style=\"fill-rule:nonzero;fill:rgb(86.742764%,86.43766%,86.260246%);fill-opacity:1;stroke-width:1;stroke-linecap:butt;stroke-linejoin:miter;stroke:rgb(0%,0%,0%);stroke-opacity:1;stroke-miterlimit:10;\" d=\"M 365 250 C 365 258.285156 358.285156 265 350 265 C 341.714844 265 335 258.285156 335 250 C 335 241.714844 341.714844 235 350 235 C 358.285156 235 365 241.714844 365 250 \"/>\n",
       "<path style=\"fill-rule:nonzero;fill:rgb(54.344019%,68.000259%,99.305052%);fill-opacity:1;stroke-width:1;stroke-linecap:butt;stroke-linejoin:miter;stroke:rgb(0%,0%,0%);stroke-opacity:1;stroke-miterlimit:10;\" d=\"M 515 50 C 515 58.285156 508.285156 65 500 65 C 491.714844 65 485 58.285156 485 50 C 485 41.714844 491.714844 35 500 35 C 508.285156 35 515 41.714844 515 50 \"/>\n",
       "<path style=\"fill-rule:nonzero;fill:rgb(86.742764%,86.43766%,86.260246%);fill-opacity:1;stroke-width:1;stroke-linecap:butt;stroke-linejoin:miter;stroke:rgb(0%,0%,0%);stroke-opacity:1;stroke-miterlimit:10;\" d=\"M 515 116.667969 C 515 124.949219 508.285156 131.667969 500 131.667969 C 491.714844 131.667969 485 124.949219 485 116.667969 C 485 108.382812 491.714844 101.667969 500 101.667969 C 508.285156 101.667969 515 108.382812 515 116.667969 \"/>\n",
       "<path style=\"fill-rule:nonzero;fill:rgb(78.204912%,84.286421%,94.297984%);fill-opacity:1;stroke-width:1;stroke-linecap:butt;stroke-linejoin:miter;stroke:rgb(0%,0%,0%);stroke-opacity:1;stroke-miterlimit:10;\" d=\"M 515 183.332031 C 515 191.617188 508.285156 198.332031 500 198.332031 C 491.714844 198.332031 485 191.617188 485 183.332031 C 485 175.050781 491.714844 168.332031 500 168.332031 C 508.285156 168.332031 515 175.050781 515 183.332031 \"/>\n",
       "<path style=\"fill-rule:nonzero;fill:rgb(86.742764%,86.43766%,86.260246%);fill-opacity:1;stroke-width:1;stroke-linecap:butt;stroke-linejoin:miter;stroke:rgb(0%,0%,0%);stroke-opacity:1;stroke-miterlimit:10;\" d=\"M 515 250 C 515 258.285156 508.285156 265 500 265 C 491.714844 265 485 258.285156 485 250 C 485 241.714844 491.714844 235 500 235 C 508.285156 235 515 241.714844 515 250 \"/>\n",
       "<path style=\"fill-rule:nonzero;fill:rgb(34.832334%,46.571115%,88.834616%);fill-opacity:1;stroke-width:1;stroke-linecap:butt;stroke-linejoin:miter;stroke:rgb(0%,0%,0%);stroke-opacity:1;stroke-miterlimit:10;\" d=\"M 665 50 C 665 58.285156 658.285156 65 650 65 C 641.714844 65 635 58.285156 635 50 C 635 41.714844 641.714844 35 650 35 C 658.285156 35 665 41.714844 665 50 \"/>\n",
       "<path style=\"fill-rule:nonzero;fill:rgb(61.931795%,74.412073%,99.893092%);fill-opacity:1;stroke-width:1;stroke-linecap:butt;stroke-linejoin:miter;stroke:rgb(0%,0%,0%);stroke-opacity:1;stroke-miterlimit:10;\" d=\"M 665 116.667969 C 665 124.949219 658.285156 131.667969 650 131.667969 C 641.714844 131.667969 635 124.949219 635 116.667969 C 635 108.382812 641.714844 101.667969 650 101.667969 C 658.285156 101.667969 665 108.382812 665 116.667969 \"/>\n",
       "<path style=\"fill-rule:nonzero;fill:rgb(57.061644%,70.410916%,99.719483%);fill-opacity:1;stroke-width:1;stroke-linecap:butt;stroke-linejoin:miter;stroke:rgb(0%,0%,0%);stroke-opacity:1;stroke-miterlimit:10;\" d=\"M 665 183.332031 C 665 191.617188 658.285156 198.332031 650 198.332031 C 641.714844 198.332031 635 191.617188 635 183.332031 C 635 175.050781 641.714844 168.332031 650 168.332031 C 658.285156 168.332031 665 175.050781 665 183.332031 \"/>\n",
       "<path style=\"fill-rule:nonzero;fill:rgb(86.742764%,86.43766%,86.260246%);fill-opacity:1;stroke-width:1;stroke-linecap:butt;stroke-linejoin:miter;stroke:rgb(0%,0%,0%);stroke-opacity:1;stroke-miterlimit:10;\" d=\"M 665 250 C 665 258.285156 658.285156 265 650 265 C 641.714844 265 635 258.285156 635 250 C 635 241.714844 641.714844 235 650 235 C 658.285156 235 665 241.714844 665 250 \"/>\n",
       "<path style=\"fill-rule:nonzero;fill:rgb(86.742764%,86.43766%,86.260246%);fill-opacity:1;stroke-width:1;stroke-linecap:butt;stroke-linejoin:miter;stroke:rgb(0%,0%,0%);stroke-opacity:1;stroke-miterlimit:10;\" d=\"M 65 150 C 65 158.285156 58.285156 165 50 165 C 41.714844 165 35 158.285156 35 150 C 35 141.714844 41.714844 135 50 135 C 58.285156 135 65 141.714844 65 150 \"/>\n",
       "<g style=\"fill:rgb(0%,0%,0%);fill-opacity:1;\">\n",
       "  <use xlink:href=\"#glyph0-1\" x=\"192.050781\" y=\"54.890625\"/>\n",
       "  <use xlink:href=\"#glyph0-2\" x=\"198.413086\" y=\"54.890625\"/>\n",
       "  <use xlink:href=\"#glyph0-1\" x=\"201.591797\" y=\"54.890625\"/>\n",
       "</g>\n",
       "<g style=\"fill:rgb(0%,0%,0%);fill-opacity:1;\">\n",
       "  <use xlink:href=\"#glyph0-1\" x=\"192.179688\" y=\"121.558594\"/>\n",
       "  <use xlink:href=\"#glyph0-2\" x=\"198.541992\" y=\"121.558594\"/>\n",
       "  <use xlink:href=\"#glyph0-3\" x=\"201.720703\" y=\"121.558594\"/>\n",
       "</g>\n",
       "<g style=\"fill:rgb(0%,0%,0%);fill-opacity:1;\">\n",
       "  <use xlink:href=\"#glyph0-1\" x=\"192.21875\" y=\"188.222656\"/>\n",
       "  <use xlink:href=\"#glyph0-2\" x=\"198.581055\" y=\"188.222656\"/>\n",
       "  <use xlink:href=\"#glyph0-4\" x=\"201.759766\" y=\"188.222656\"/>\n",
       "</g>\n",
       "<g style=\"fill:rgb(0%,0%,0%);fill-opacity:1;\">\n",
       "  <use xlink:href=\"#glyph0-1\" x=\"192.117188\" y=\"254.890625\"/>\n",
       "  <use xlink:href=\"#glyph0-2\" x=\"198.479492\" y=\"254.890625\"/>\n",
       "  <use xlink:href=\"#glyph0-5\" x=\"201.658203\" y=\"254.890625\"/>\n",
       "</g>\n",
       "<g style=\"fill:rgb(0%,0%,0%);fill-opacity:1;\">\n",
       "  <use xlink:href=\"#glyph0-3\" x=\"341.832031\" y=\"54.890625\"/>\n",
       "  <use xlink:href=\"#glyph0-2\" x=\"348.194336\" y=\"54.890625\"/>\n",
       "  <use xlink:href=\"#glyph0-1\" x=\"351.373047\" y=\"54.890625\"/>\n",
       "</g>\n",
       "<g style=\"fill:rgb(0%,0%,0%);fill-opacity:1;\">\n",
       "  <use xlink:href=\"#glyph0-3\" x=\"341.960938\" y=\"121.492188\"/>\n",
       "  <use xlink:href=\"#glyph0-2\" x=\"348.323242\" y=\"121.492188\"/>\n",
       "  <use xlink:href=\"#glyph0-3\" x=\"351.501953\" y=\"121.492188\"/>\n",
       "</g>\n",
       "<g style=\"fill:rgb(0%,0%,0%);fill-opacity:1;\">\n",
       "  <use xlink:href=\"#glyph0-3\" x=\"342\" y=\"188.222656\"/>\n",
       "  <use xlink:href=\"#glyph0-2\" x=\"348.362305\" y=\"188.222656\"/>\n",
       "  <use xlink:href=\"#glyph0-4\" x=\"351.541016\" y=\"188.222656\"/>\n",
       "</g>\n",
       "<g style=\"fill:rgb(0%,0%,0%);fill-opacity:1;\">\n",
       "  <use xlink:href=\"#glyph0-3\" x=\"341.898438\" y=\"254.890625\"/>\n",
       "  <use xlink:href=\"#glyph0-2\" x=\"348.260742\" y=\"254.890625\"/>\n",
       "  <use xlink:href=\"#glyph0-5\" x=\"351.439453\" y=\"254.890625\"/>\n",
       "</g>\n",
       "<g style=\"fill:rgb(0%,0%,0%);fill-opacity:1;\">\n",
       "  <use xlink:href=\"#glyph0-4\" x=\"492.015625\" y=\"54.890625\"/>\n",
       "  <use xlink:href=\"#glyph0-2\" x=\"498.37793\" y=\"54.890625\"/>\n",
       "  <use xlink:href=\"#glyph0-1\" x=\"501.556641\" y=\"54.890625\"/>\n",
       "</g>\n",
       "<g style=\"fill:rgb(0%,0%,0%);fill-opacity:1;\">\n",
       "  <use xlink:href=\"#glyph0-4\" x=\"492.144531\" y=\"121.558594\"/>\n",
       "  <use xlink:href=\"#glyph0-2\" x=\"498.506836\" y=\"121.558594\"/>\n",
       "  <use xlink:href=\"#glyph0-3\" x=\"501.685547\" y=\"121.558594\"/>\n",
       "</g>\n",
       "<g style=\"fill:rgb(0%,0%,0%);fill-opacity:1;\">\n",
       "  <use xlink:href=\"#glyph0-4\" x=\"492.183594\" y=\"188.222656\"/>\n",
       "  <use xlink:href=\"#glyph0-2\" x=\"498.545898\" y=\"188.222656\"/>\n",
       "  <use xlink:href=\"#glyph0-4\" x=\"501.724609\" y=\"188.222656\"/>\n",
       "</g>\n",
       "<g style=\"fill:rgb(0%,0%,0%);fill-opacity:1;\">\n",
       "  <use xlink:href=\"#glyph0-4\" x=\"492.082031\" y=\"254.890625\"/>\n",
       "  <use xlink:href=\"#glyph0-2\" x=\"498.444336\" y=\"254.890625\"/>\n",
       "  <use xlink:href=\"#glyph0-5\" x=\"501.623047\" y=\"254.890625\"/>\n",
       "</g>\n",
       "<g style=\"fill:rgb(0%,0%,0%);fill-opacity:1;\">\n",
       "  <use xlink:href=\"#glyph0-5\" x=\"642\" y=\"54.890625\"/>\n",
       "  <use xlink:href=\"#glyph0-2\" x=\"648.362305\" y=\"54.890625\"/>\n",
       "  <use xlink:href=\"#glyph0-1\" x=\"651.541016\" y=\"54.890625\"/>\n",
       "</g>\n",
       "<g style=\"fill:rgb(0%,0%,0%);fill-opacity:1;\">\n",
       "  <use xlink:href=\"#glyph0-5\" x=\"642.128906\" y=\"121.558594\"/>\n",
       "  <use xlink:href=\"#glyph0-2\" x=\"648.491211\" y=\"121.558594\"/>\n",
       "  <use xlink:href=\"#glyph0-3\" x=\"651.669922\" y=\"121.558594\"/>\n",
       "</g>\n",
       "<g style=\"fill:rgb(0%,0%,0%);fill-opacity:1;\">\n",
       "  <use xlink:href=\"#glyph0-5\" x=\"642.167969\" y=\"188.222656\"/>\n",
       "  <use xlink:href=\"#glyph0-2\" x=\"648.530273\" y=\"188.222656\"/>\n",
       "  <use xlink:href=\"#glyph0-4\" x=\"651.708984\" y=\"188.222656\"/>\n",
       "</g>\n",
       "<g style=\"fill:rgb(0%,0%,0%);fill-opacity:1;\">\n",
       "  <use xlink:href=\"#glyph0-5\" x=\"642.066406\" y=\"254.890625\"/>\n",
       "  <use xlink:href=\"#glyph0-2\" x=\"648.428711\" y=\"254.890625\"/>\n",
       "  <use xlink:href=\"#glyph0-5\" x=\"651.607422\" y=\"254.890625\"/>\n",
       "</g>\n",
       "<g style=\"fill:rgb(0%,0%,0%);fill-opacity:1;\">\n",
       "  <use xlink:href=\"#glyph0-6\" x=\"38.65625\" y=\"154.824219\"/>\n",
       "  <use xlink:href=\"#glyph0-3\" x=\"42.264648\" y=\"154.824219\"/>\n",
       "  <use xlink:href=\"#glyph0-2\" x=\"48.626953\" y=\"154.824219\"/>\n",
       "  <use xlink:href=\"#glyph0-6\" x=\"51.805664\" y=\"154.824219\"/>\n",
       "  <use xlink:href=\"#glyph0-3\" x=\"55.414062\" y=\"154.824219\"/>\n",
       "</g>\n",
       "</g>\n",
       "</svg>\n"
      ],
      "text/plain": [
       "<igraph.drawing.Plot at 0x7f9b938aca58>"
      ]
     },
     "execution_count": 36,
     "metadata": {
      "image/svg+xml": {
       "isolated": true
      }
     },
     "output_type": "execute_result"
    }
   ],
   "source": [
    "visual_style = util.get_visual_style(tugs, vertex_weights=nres0, edge_weights=ares0)\n",
    "ig.plot(tugs, **visual_style, bbox=(700, 300), margin=50)"
   ]
  },
  {
   "cell_type": "markdown",
   "metadata": {
    "slideshow": {
     "slide_type": "subslide"
    }
   },
   "source": [
    "## Shortest Path Algorithms\n",
    "\n",
    "**Optimization problems over graphs**\n",
    "\n",
    "...Are often amenable to _dedicated, very efficient, algorithms_\n",
    "\n",
    "> **What about our graph?**"
   ]
  },
  {
   "cell_type": "markdown",
   "metadata": {
    "slideshow": {
     "slide_type": "fragment"
    }
   },
   "source": [
    "**Weights can be negative**\n",
    "\n",
    "* ...So one may think of using the [Bellman-Ford algorithm](https://en.wikipedia.org/wiki/Bellman%E2%80%93Ford_algorithm), which runs in $O(n_v n_e)$\n",
    "\n",
    "**...But this is a Direct, _Acyclic_ Graph (DAG)**\n",
    "\n",
    "* Meaning that we can process the nodes in _topological order_\n",
    "* ...And apply [Dijkstra algorithm](https://en.wikipedia.org/wiki/Dijkstra%27s_algorithm), which runs in $O(n_e)$"
   ]
  },
  {
   "cell_type": "markdown",
   "metadata": {
    "slideshow": {
     "slide_type": "subslide"
    }
   },
   "source": [
    "## Dijkstra's Algorithm for DAGs\n",
    "\n",
    "**Intuitively, we proceed as follows**\n",
    "\n",
    "* $Q = [0]$ # We enqueue the fake source node\n",
    "* $sp_i = [], \\forall i = 0..n_v$ # All shortest paths are empy\n",
    "* $\\text{while $|Q| > 0$:}$\n",
    "  - $\\text{pop a node $i$ from $Q$}$\n",
    "  - $\\text{append $i$ to $sp_i$}$ # Extend the shortest path\n",
    "  - $\\text{for $j$ successor of $i$:}$\n",
    "    - $\\text{mark the arc $(i, j)$ as visited}$\n",
    "    - $\\text{if the shortest path passing for $i$ is shorter than $sp_j$}$\n",
    "      - $\\text{update $sp_j$}$ # Keep only the shortest path to $j$\n",
    "    - $\\text{if all ingoing arcs for $j$ have been visited}$\n",
    "      - $\\text{append $j$ in $Q$}$"
   ]
  },
  {
   "cell_type": "markdown",
   "metadata": {
    "slideshow": {
     "slide_type": "subslide"
    }
   },
   "source": [
    "## Pricing via Shortest Paths\n",
    "\n",
    "**The approach is implemented in the `solve_pricing_problem` function**\n",
    "\n",
    "...Which returns shortest paths _to all TUG nodes_"
   ]
  },
  {
   "cell_type": "code",
   "execution_count": 37,
   "metadata": {},
   "outputs": [
    {
     "name": "stdout",
     "output_type": "stream",
     "text": [
      "COST: PATH\n",
      "-33.49: 0,1 > 1,1 > 2,0 > 3,0\n",
      "-33.49: 0,1 > 1,1 > 2,0 > 3,1\n",
      "-33.40: 0,1 > 1,1 > 2,0 > 3,2\n",
      "-27.13: 0,1 > 1,1 > 2,0\n",
      "-27.13: 0,1 > 1,1 > 2,0 > 3,3\n",
      "-18.81: 0,1 > 1,1 > 2,2\n",
      "-17.58: 0,1 > 1,1\n",
      "-17.58: 0,1 > 1,1 > 2,1\n",
      "-9.13: 0,1 > 1,2\n",
      "-6.68: 0,1\n",
      "-5.32: 0,1 > 1,0\n",
      "-5.32: 0,1 > 1,0 > 2,3\n",
      "0.00: 0,2\n",
      "0.00: 0,3\n",
      "0.00: 1,3\n",
      "3.88: 0,0\n"
     ]
    }
   ],
   "source": [
    "ncosts_a, npaths_a = util.solve_pricing_problem(tug, rflows0, rpaths0,\n",
    "                                             node_counts, arc_counts, filter_paths=False)\n",
    "print('COST: PATH')\n",
    "util.print_solution(tug, ncosts_a, npaths_a, sort=None)"
   ]
  },
  {
   "cell_type": "markdown",
   "metadata": {
    "slideshow": {
     "slide_type": "subslide"
    }
   },
   "source": [
    "## Pricing via Shortest Paths\n",
    "\n",
    "**We can ask for paths with a negative weighs/gradient term**"
   ]
  },
  {
   "cell_type": "code",
   "execution_count": 38,
   "metadata": {},
   "outputs": [
    {
     "name": "stdout",
     "output_type": "stream",
     "text": [
      "COST: PATH\n",
      "-33.49: 0,1 > 1,1 > 2,0 > 3,0\n",
      "-33.49: 0,1 > 1,1 > 2,0 > 3,1\n",
      "-33.40: 0,1 > 1,1 > 2,0 > 3,2\n",
      "-27.13: 0,1 > 1,1 > 2,0\n",
      "-27.13: 0,1 > 1,1 > 2,0 > 3,3\n",
      "-18.81: 0,1 > 1,1 > 2,2\n",
      "-17.58: 0,1 > 1,1\n",
      "-17.58: 0,1 > 1,1 > 2,1\n",
      "-9.13: 0,1 > 1,2\n",
      "-6.68: 0,1\n",
      "-5.32: 0,1 > 1,0\n",
      "-5.32: 0,1 > 1,0 > 2,3\n"
     ]
    }
   ],
   "source": [
    "ncosts, npaths = util.solve_pricing_problem(tug, rflows0, rpaths0,\n",
    "                                             node_counts, arc_counts, filter_paths=True)\n",
    "print('COST: PATH')\n",
    "util.print_solution(tug, ncosts, npaths, sort=None)"
   ]
  },
  {
   "cell_type": "markdown",
   "metadata": {},
   "source": [
    "* Returning multiple paths is usually a good idea\n",
    "* ...Since it typically speeds up the convergence of our dynamic method"
   ]
  },
  {
   "cell_type": "markdown",
   "metadata": {
    "slideshow": {
     "slide_type": "slide"
    }
   },
   "source": [
    "# Let's Loop!\n",
    "\n",
    "Time to start iterating"
   ]
  },
  {
   "cell_type": "markdown",
   "metadata": {
    "slideshow": {
     "slide_type": "subslide"
    }
   },
   "source": [
    "## Does it Work?\n",
    "\n",
    "**Every complex endeavor is worth a double (or triple) check**\n",
    "\n",
    "Let's check again our baseline result:"
   ]
  },
  {
   "cell_type": "code",
   "execution_count": 39,
   "metadata": {},
   "outputs": [
    {
     "name": "stdout",
     "output_type": "stream",
     "text": [
      "FLOW: PATH\n",
      "2.27: 0,0 > 1,0 > 2,0 > 3,1\n",
      "1.61: 0,0 > 1,0 > 2,0 > 3,0\n",
      "RSSE: 17.28\n"
     ]
    }
   ],
   "source": [
    "rflows0, rpaths0 = util.solve_path_selection_full(tug, node_counts, arc_counts,\n",
    "                                                  initial_paths=path_pool, verbose=0)\n",
    "print('FLOW: PATH')\n",
    "util.print_solution(tug, rflows0, rpaths0, sort='descending')\n",
    "sse = util.get_reconstruction_error(tug, rflows0, rpaths0, node_counts, arc_counts)\n",
    "print(f'RSSE: {np.sqrt(sse):.2f}')"
   ]
  },
  {
   "cell_type": "markdown",
   "metadata": {
    "slideshow": {
     "slide_type": "subslide"
    }
   },
   "source": [
    "## Does it Work?\n",
    "\n",
    "**Every complex endeavor is worth a double (or triple) check**\n",
    "\n",
    "Let's try adding paths with _non-negative_ gradient terms"
   ]
  },
  {
   "cell_type": "code",
   "execution_count": 40,
   "metadata": {},
   "outputs": [
    {
     "name": "stdout",
     "output_type": "stream",
     "text": [
      "FLOW: PATH\n",
      "2.27: 0,0 > 1,0 > 2,0 > 3,1\n",
      "1.61: 0,0 > 1,0 > 2,0 > 3,0\n",
      "RSSE: 17.28\n"
     ]
    }
   ],
   "source": [
    "p_paths = [p for p, c in zip(npaths_a, ncosts_a) if c >= 0]\n",
    "path_pool1_p = path_pool + p_paths\n",
    "\n",
    "rflows1_p, rpaths1_p = util.solve_path_selection_full(tug, node_counts, arc_counts,\n",
    "                                                  initial_paths=path_pool1_p, verbose=0)\n",
    "print('FLOW: PATH')\n",
    "util.print_solution(tug, rflows1_p, rpaths1_p, sort='descending')\n",
    "sse = util.get_reconstruction_error(tug, rflows1_p, rpaths1_p, node_counts, arc_counts)\n",
    "print(f'RSSE: {np.sqrt(sse):.2f}')"
   ]
  },
  {
   "cell_type": "markdown",
   "metadata": {
    "slideshow": {
     "slide_type": "fragment"
    }
   },
   "source": [
    "* This is perfectly useless\n",
    "* ...Just as expected!"
   ]
  },
  {
   "cell_type": "markdown",
   "metadata": {
    "slideshow": {
     "slide_type": "subslide"
    }
   },
   "source": [
    "## Does it Work?\n",
    "\n",
    "**Every complex endeavor is worth a double (or triple) check**\n",
    "\n",
    "Now, let's try again with paths having _negative_ gradient terms"
   ]
  },
  {
   "cell_type": "code",
   "execution_count": 41,
   "metadata": {},
   "outputs": [
    {
     "name": "stdout",
     "output_type": "stream",
     "text": [
      "FLOW: PATH\n",
      "2.73: 0,1 > 1,1 > 2,0 > 3,1\n",
      "2.24: 0,1 > 1,1 > 2,0 > 3,0\n",
      "1.40: 0,1 > 1,1 > 2,0 > 3,2\n",
      "1.03: 0,0 > 1,0 > 2,0 > 3,1\n",
      "0.92: 0,1 > 1,2\n",
      "0.64: 0,0 > 1,0 > 2,1 > 3,0\n",
      "0.54: 0,0 > 1,0 > 2,0 > 3,0\n",
      "0.05: 0,0 > 1,0 > 2,0 > 3,2\n",
      "RSSE: 8.82\n"
     ]
    }
   ],
   "source": [
    "n_paths = [p for p, c in zip(npaths_a, ncosts_a) if c < 0]\n",
    "path_pool1 = path_pool + n_paths\n",
    "rflows1, rpaths1 = util.solve_path_selection_full(tug, node_counts, arc_counts,\n",
    "                                                  initial_paths=path_pool1, verbose=0)\n",
    "print('FLOW: PATH')\n",
    "util.print_solution(tug, rflows1, rpaths1, sort='descending')\n",
    "sse = util.get_reconstruction_error(tug, rflows1, rpaths1, node_counts, arc_counts)\n",
    "print(f'RSSE: {np.sqrt(sse):.2f}')"
   ]
  },
  {
   "cell_type": "markdown",
   "metadata": {
    "slideshow": {
     "slide_type": "fragment"
    }
   },
   "source": [
    "This time we have a better solution!"
   ]
  },
  {
   "cell_type": "markdown",
   "metadata": {
    "slideshow": {
     "slide_type": "subslide"
    }
   },
   "source": [
    "## The Column Generation Code\n",
    "\n",
    "**Our CG code can be found in the `trajectory_extraction_cg` function**\n",
    "\n",
    "First, we define our initial path pool\n",
    "\n",
    "```python\n",
    "paths = [[v.index] for v in tug.vs]\n",
    "```\n",
    "\n",
    "* We use one path per node, consisting of the node itself\n",
    "\n",
    "Then we start looping:\n",
    "\n",
    "```python\n",
    "for it in range(max_iter):\n",
    "    # Solve the master problem\n",
    "    ...\n",
    "    # Solve the pricing problem\n",
    "    ...\n",
    "```\n",
    "\n",
    "* We control the total run-time via an iteration limit"
   ]
  },
  {
   "cell_type": "markdown",
   "metadata": {
    "slideshow": {
     "slide_type": "subslide"
    }
   },
   "source": [
    "## The Column Generation Code\n",
    "\n",
    "**Our CG code can be found in the `trajectory_extraction_cg` function**\n",
    "\n",
    "When we add the new paths, we take care of discarding duplicates\n",
    "\n",
    "```python\n",
    "old_as_set = set([tuple(p) for p in paths])\n",
    "found_as_set = set([tuple(p) for p in np])\n",
    "new_as_set = old_as_set.union(found_as_set)\n",
    "```\n",
    "\n",
    "* Duplicates should not theoretically arise\n",
    "* ...But they may in practice due to numerical errors\n",
    "* ...Or when we use approximate solvers\n",
    "\n",
    "We trigger an eary stop if no new path can be added:\n",
    "\n",
    "```python\n",
    "if nnew == 0: break\n",
    "```"
   ]
  },
  {
   "cell_type": "markdown",
   "metadata": {
    "slideshow": {
     "slide_type": "subslide"
    }
   },
   "source": [
    "## Column Generation in Action\n",
    "\n",
    "**Let's test CG on that graph that took ~10 sec with the baseline**"
   ]
  },
  {
   "cell_type": "code",
   "execution_count": 44,
   "metadata": {},
   "outputs": [
    {
     "name": "stdout",
     "output_type": "stream",
     "text": [
      "It.0, sse: 12.44, #paths: 45, new: 5\n",
      "It.1, sse: 0.00, #paths: 45, new: 0\n",
      "CPU times: user 44 ms, sys: 8.49 ms, total: 52.5 ms\n",
      "Wall time: 43.6 ms\n"
     ]
    }
   ],
   "source": [
    "g8_5, t8_5, f8_5, p8_5, nc8_5, ac8_5 = util.get_default_benchmark_graph(nnodes=8, eoh=5, seed=42)\n",
    "%time f8_5, p8_5 = util.trajectory_extraction_cg(t8_5, nc8_5, ac8_5, max_iter=30, verbose=1)"
   ]
  },
  {
   "cell_type": "markdown",
   "metadata": {},
   "source": [
    "**What if the graph is bigger?**"
   ]
  },
  {
   "cell_type": "code",
   "execution_count": 51,
   "metadata": {},
   "outputs": [
    {
     "name": "stdout",
     "output_type": "stream",
     "text": [
      "It.0, sse: 760.43, #paths: 214, new: 74\n",
      "It.1, sse: 348.52, #paths: 251, new: 37\n",
      "It.2, sse: 23.81, #paths: 267, new: 16\n",
      "It.3, sse: 8.06, #paths: 283, new: 16\n",
      "It.4, sse: 6.52, #paths: 317, new: 34\n",
      "It.5, sse: 0.00, #paths: 317, new: 0\n",
      "CPU times: user 1.6 s, sys: 20.5 ms, total: 1.62 s\n",
      "Wall time: 1.6 s\n"
     ]
    }
   ],
   "source": [
    "g20_7, t20_7, f20_7, p20_7, nc20_7, ac20_7 = util.get_default_benchmark_graph(nnodes=20, eoh=7, seed=42)\n",
    "%time f20_7, p20_7 = util.trajectory_extraction_cg(t20_7, nc20_7, ac20_7, max_iter=30, verbose=1)"
   ]
  },
  {
   "cell_type": "markdown",
   "metadata": {
    "slideshow": {
     "slide_type": "subslide"
    }
   },
   "source": [
    "## Column Generation in Action\n",
    "\n",
    "**Let's scale up even more**\n",
    "\n",
    "With this graph, the total number of paths is $O(40^{10})$"
   ]
  },
  {
   "cell_type": "code",
   "execution_count": 52,
   "metadata": {},
   "outputs": [
    {
     "name": "stdout",
     "output_type": "stream",
     "text": [
      "It.0, sse: 432.60, #paths: 691, new: 291\n",
      "It.1, sse: 234.06, #paths: 831, new: 140\n",
      "It.2, sse: 62.99, #paths: 927, new: 96\n",
      "It.3, sse: 0.92, #paths: 1008, new: 81\n",
      "It.4, sse: 0.83, #paths: 1131, new: 123\n",
      "It.5, sse: 0.00, #paths: 1131, new: 0\n",
      "CPU times: user 9.49 s, sys: 7.58 ms, total: 9.49 s\n",
      "Wall time: 9.47 s\n"
     ]
    }
   ],
   "source": [
    "g40_10, t40_10, f40_10, p40_10, nc40_10, ac40_10 = util.get_default_benchmark_graph(nnodes=40, eoh=10, seed=42)\n",
    "%time f40_10, p40_10 = util.trajectory_extraction_cg(t40_10, nc40_10, ac40_10, max_iter=30, verbose=1)"
   ]
  },
  {
   "cell_type": "markdown",
   "metadata": {},
   "source": [
    "* The adds only 1131 paths overall\n",
    "* Convergence is fast\n",
    "* ...And we manage to prove optimality!"
   ]
  },
  {
   "cell_type": "markdown",
   "metadata": {
    "slideshow": {
     "slide_type": "subslide"
    }
   },
   "source": [
    "## Some Considerations\n",
    "\n",
    "**Column Generation is not easy approach to setup**\n",
    "\n",
    "...But when it works, it can provide many advantages\n",
    "\n",
    "* The master can stay remarkably clean\n",
    "* Complicated constraints can be moved in the variable definitions\n",
    "* ...And tackled in the pricing problem\n",
    "* Scalability is pretty good, given the humongous search space\n",
    "\n",
    "CG makes you _want_ to write models with massive number of variables\n",
    "\n",
    "**Some caveats**\n",
    "\n",
    "* A heuristic may still be faster (no sound mathematical theory, though...)\n",
    "* It works well when you _can_ put all its advantages to use\n",
    "* ...In particular, the master problem structure _should_ be very clean"
   ]
  }
 ],
 "metadata": {
  "celltoolbar": "Slideshow",
  "kernelspec": {
   "display_name": "Python 3",
   "language": "python",
   "name": "python3"
  },
  "language_info": {
   "codemirror_mode": {
    "name": "ipython",
    "version": 3
   },
   "file_extension": ".py",
   "mimetype": "text/x-python",
   "name": "python",
   "nbconvert_exporter": "python",
   "pygments_lexer": "ipython3",
   "version": "3.6.9"
  },
  "rise": {
   "center": false,
   "transition": "fade"
  }
 },
 "nbformat": 4,
 "nbformat_minor": 4
}
