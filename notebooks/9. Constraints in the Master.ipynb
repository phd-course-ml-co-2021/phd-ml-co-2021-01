{
 "cells": [
  {
   "cell_type": "code",
   "execution_count": 239,
   "metadata": {
    "slideshow": {
     "slide_type": "skip"
    }
   },
   "outputs": [
    {
     "name": "stdout",
     "output_type": "stream",
     "text": [
      "The autoreload extension is already loaded. To reload it, use:\n",
      "  %reload_ext autoreload\n"
     ]
    }
   ],
   "source": [
    "# ============================================================\n",
    "# Notebook setup: run this before everything\n",
    "# ============================================================\n",
    "\n",
    "%load_ext autoreload\n",
    "%autoreload 2\n",
    "\n",
    "# Control figure size\n",
    "interactive_figures = True\n",
    "if interactive_figures:\n",
    "    # Normal behavior\n",
    "    %matplotlib widget\n",
    "    figsize=(9, 3)\n",
    "else:\n",
    "    # PDF export behavior\n",
    "    figsize=(14, 5)\n",
    "\n",
    "#from matplotlib import pyplot as plt\n",
    "from util import util\n",
    "import igraph as ig\n",
    "import numpy as np\n",
    "\n",
    "# ============================================================\n",
    "# Repeat relevant operations\n",
    "# ============================================================\n",
    "\n",
    "# Build the small graph used to explain concepts\n",
    "eoh = 4\n",
    "g = util.build_website_graph(nnodes=4, rate=3, extra_arc_fraction=0.25, seed=42)\n",
    "flows, paths = util.build_random_paths(g, min_paths=3, max_paths=5,\n",
    "                                          min_units=1, max_units=10, eoh=eoh, seed=10)\n",
    "tug = util.build_time_unfolded_graph(g, eoh=eoh)\n",
    "node_counts, arc_counts = util.get_counts(tug, flows, paths)"
   ]
  },
  {
   "cell_type": "markdown",
   "metadata": {
    "slideshow": {
     "slide_type": "slide"
    }
   },
   "source": [
    "# Constraints for Regularization\n",
    "\n",
    "Where there's room for one elephant, there's room for two"
   ]
  },
  {
   "cell_type": "markdown",
   "metadata": {
    "slideshow": {
     "slide_type": "subslide"
    }
   },
   "source": [
    "## Something Fishy is Going On\n",
    "\n",
    "**Notice how we are consistently getting 0 RSSE?**"
   ]
  },
  {
   "cell_type": "code",
   "execution_count": 240,
   "metadata": {},
   "outputs": [
    {
     "name": "stdout",
     "output_type": "stream",
     "text": [
      "FLOW: PATH\n",
      "9.58: 3,0\n",
      "3.40: 0,1 > 1,1 > 2,0 > 3,1\n",
      "2.05: 0,1 > 1,1 > 2,0 > 3,2\n",
      "2.05: 1,0 > 2,0 > 3,1\n",
      "1.23: 0,1 > 1,2 > 2,2 > 3,2\n",
      "0.47: 1,0 > 2,0 > 3,2\n",
      "\n",
      "RSSE: 0.00\n"
     ]
    }
   ],
   "source": [
    "rflows, rpaths = util.solve_path_selection_full(tug, node_counts, arc_counts, verbose=0)\n",
    "print('FLOW: PATH')\n",
    "util.print_solution(tug, rflows, rpaths, sort='descending')\n",
    "sse = util.get_reconstruction_error(tug, rflows, rpaths, node_counts, arc_counts)\n",
    "print(f'\\nRSSE: {np.sqrt(sse):.2f}')"
   ]
  },
  {
   "cell_type": "markdown",
   "metadata": {
    "slideshow": {
     "slide_type": "fragment"
    }
   },
   "source": [
    "> **How can that be the case?**"
   ]
  },
  {
   "cell_type": "markdown",
   "metadata": {
    "slideshow": {
     "slide_type": "subslide"
    }
   },
   "source": [
    "## The Must be Some Noise in Your Dataset\n",
    "\n",
    "**So far, we have implicitly assumed _noiseless data_**\n",
    "\n",
    "We will fix that by adding some _proportional noise_\n",
    "\n",
    "* Which we picked since it is reasonably realistic\n",
    "* ...Even if it causes issues for our MSE loss\n",
    "\n",
    "**This is done in the `add_proportional_noise` function:**\n",
    "\n",
    "```python\n",
    "# Add noise to the node counts\n",
    "for k, v in node_counts.items():\n",
    "    node_counts[k] = max(0, v * (1 + np.random.normal(0, sigma)))\n",
    "# Add noise to the arc counts\n",
    "for k, v in arc_counts.items():\n",
    "    arc_counts[k] = max(0, v * (1 + np.random.normal(0, sigma)))\n",
    "```\n",
    "\n",
    "* The `sigma` parameter controls the noise level\n"
   ]
  },
  {
   "cell_type": "markdown",
   "metadata": {},
   "source": [
    "## The Must be Some Noise in Your Dataset\n",
    "\n",
    "**Let's inject _a lot_ of noise and inspect the results**"
   ]
  },
  {
   "cell_type": "code",
   "execution_count": 241,
   "metadata": {},
   "outputs": [
    {
     "data": {
      "image/svg+xml": [
       "<?xml version=\"1.0\" encoding=\"UTF-8\"?>\n",
       "<svg xmlns=\"http://www.w3.org/2000/svg\" xmlns:xlink=\"http://www.w3.org/1999/xlink\" width=\"700pt\" height=\"300pt\" viewBox=\"0 0 700 300\" version=\"1.1\">\n",
       "<defs>\n",
       "<g>\n",
       "<symbol overflow=\"visible\" id=\"glyph0-0\">\n",
       "<path style=\"stroke:none;\" d=\"M 0.5 1.765625 L 0.5 -7.046875 L 5.5 -7.046875 L 5.5 1.765625 Z M 1.0625 1.21875 L 4.9375 1.21875 L 4.9375 -6.484375 L 1.0625 -6.484375 Z M 1.0625 1.21875 \"/>\n",
       "</symbol>\n",
       "<symbol overflow=\"visible\" id=\"glyph0-1\">\n",
       "<path style=\"stroke:none;\" d=\"M 3.171875 -6.640625 C 2.671875 -6.640625 2.289062 -6.390625 2.03125 -5.890625 C 1.78125 -5.390625 1.65625 -4.640625 1.65625 -3.640625 C 1.65625 -2.640625 1.78125 -1.890625 2.03125 -1.390625 C 2.289062 -0.890625 2.671875 -0.640625 3.171875 -0.640625 C 3.691406 -0.640625 4.078125 -0.890625 4.328125 -1.390625 C 4.585938 -1.890625 4.71875 -2.640625 4.71875 -3.640625 C 4.71875 -4.640625 4.585938 -5.390625 4.328125 -5.890625 C 4.078125 -6.390625 3.691406 -6.640625 3.171875 -6.640625 Z M 3.171875 -7.421875 C 3.992188 -7.421875 4.617188 -7.097656 5.046875 -6.453125 C 5.484375 -5.804688 5.703125 -4.867188 5.703125 -3.640625 C 5.703125 -2.410156 5.484375 -1.472656 5.046875 -0.828125 C 4.617188 -0.179688 3.992188 0.140625 3.171875 0.140625 C 2.359375 0.140625 1.734375 -0.179688 1.296875 -0.828125 C 0.867188 -1.472656 0.65625 -2.410156 0.65625 -3.640625 C 0.65625 -4.867188 0.867188 -5.804688 1.296875 -6.453125 C 1.734375 -7.097656 2.359375 -7.421875 3.171875 -7.421875 Z M 3.171875 -7.421875 \"/>\n",
       "</symbol>\n",
       "<symbol overflow=\"visible\" id=\"glyph0-2\">\n",
       "<path style=\"stroke:none;\" d=\"M 1.171875 -1.234375 L 2.203125 -1.234375 L 2.203125 -0.40625 L 1.40625 1.15625 L 0.765625 1.15625 L 1.171875 -0.40625 Z M 1.171875 -1.234375 \"/>\n",
       "</symbol>\n",
       "<symbol overflow=\"visible\" id=\"glyph0-3\">\n",
       "<path style=\"stroke:none;\" d=\"M 1.234375 -0.828125 L 2.859375 -0.828125 L 2.859375 -6.390625 L 1.09375 -6.046875 L 1.09375 -6.9375 L 2.84375 -7.296875 L 3.828125 -7.296875 L 3.828125 -0.828125 L 5.4375 -0.828125 L 5.4375 0 L 1.234375 0 Z M 1.234375 -0.828125 \"/>\n",
       "</symbol>\n",
       "<symbol overflow=\"visible\" id=\"glyph0-4\">\n",
       "<path style=\"stroke:none;\" d=\"M 1.921875 -0.828125 L 5.359375 -0.828125 L 5.359375 0 L 0.734375 0 L 0.734375 -0.828125 C 1.109375 -1.210938 1.617188 -1.734375 2.265625 -2.390625 C 2.910156 -3.046875 3.316406 -3.46875 3.484375 -3.65625 C 3.796875 -4.007812 4.015625 -4.304688 4.140625 -4.546875 C 4.265625 -4.796875 4.328125 -5.039062 4.328125 -5.28125 C 4.328125 -5.664062 4.191406 -5.976562 3.921875 -6.21875 C 3.648438 -6.46875 3.296875 -6.59375 2.859375 -6.59375 C 2.546875 -6.59375 2.21875 -6.535156 1.875 -6.421875 C 1.539062 -6.316406 1.175781 -6.15625 0.78125 -5.9375 L 0.78125 -6.9375 C 1.175781 -7.09375 1.546875 -7.210938 1.890625 -7.296875 C 2.234375 -7.378906 2.550781 -7.421875 2.84375 -7.421875 C 3.59375 -7.421875 4.191406 -7.234375 4.640625 -6.859375 C 5.097656 -6.484375 5.328125 -5.976562 5.328125 -5.34375 C 5.328125 -5.039062 5.269531 -4.753906 5.15625 -4.484375 C 5.039062 -4.222656 4.835938 -3.910156 4.546875 -3.546875 C 4.460938 -3.453125 4.203125 -3.175781 3.765625 -2.71875 C 3.328125 -2.269531 2.710938 -1.640625 1.921875 -0.828125 Z M 1.921875 -0.828125 \"/>\n",
       "</symbol>\n",
       "<symbol overflow=\"visible\" id=\"glyph0-5\">\n",
       "<path style=\"stroke:none;\" d=\"M 4.0625 -3.9375 C 4.53125 -3.832031 4.894531 -3.617188 5.15625 -3.296875 C 5.425781 -2.984375 5.5625 -2.59375 5.5625 -2.125 C 5.5625 -1.40625 5.3125 -0.847656 4.8125 -0.453125 C 4.320312 -0.0546875 3.617188 0.140625 2.703125 0.140625 C 2.398438 0.140625 2.085938 0.109375 1.765625 0.046875 C 1.441406 -0.015625 1.109375 -0.101562 0.765625 -0.21875 L 0.765625 -1.171875 C 1.035156 -1.015625 1.332031 -0.894531 1.65625 -0.8125 C 1.988281 -0.726562 2.332031 -0.6875 2.6875 -0.6875 C 3.300781 -0.6875 3.769531 -0.804688 4.09375 -1.046875 C 4.414062 -1.296875 4.578125 -1.65625 4.578125 -2.125 C 4.578125 -2.550781 4.425781 -2.882812 4.125 -3.125 C 3.820312 -3.363281 3.40625 -3.484375 2.875 -3.484375 L 2.015625 -3.484375 L 2.015625 -4.296875 L 2.90625 -4.296875 C 3.394531 -4.296875 3.765625 -4.394531 4.015625 -4.59375 C 4.273438 -4.789062 4.40625 -5.070312 4.40625 -5.4375 C 4.40625 -5.800781 4.269531 -6.082031 4 -6.28125 C 3.738281 -6.488281 3.363281 -6.59375 2.875 -6.59375 C 2.601562 -6.59375 2.3125 -6.5625 2 -6.5 C 1.6875 -6.445312 1.347656 -6.359375 0.984375 -6.234375 L 0.984375 -7.109375 C 1.359375 -7.210938 1.707031 -7.289062 2.03125 -7.34375 C 2.363281 -7.394531 2.671875 -7.421875 2.953125 -7.421875 C 3.703125 -7.421875 4.296875 -7.25 4.734375 -6.90625 C 5.171875 -6.570312 5.390625 -6.113281 5.390625 -5.53125 C 5.390625 -5.125 5.273438 -4.78125 5.046875 -4.5 C 4.816406 -4.226562 4.488281 -4.039062 4.0625 -3.9375 Z M 4.0625 -3.9375 \"/>\n",
       "</symbol>\n",
       "</g>\n",
       "</defs>\n",
       "<g id=\"surface68\">\n",
       "<rect x=\"0\" y=\"0\" width=\"700\" height=\"300\" style=\"fill:rgb(100%,100%,100%);fill-opacity:1;stroke:none;\"/>\n",
       "<path style=\"fill:none;stroke-width:1;stroke-linecap:butt;stroke-linejoin:miter;stroke:rgb(86.742764%,86.43766%,86.260246%);stroke-opacity:1;stroke-miterlimit:10;\" d=\"M 50 50 L 220.734375 50 \"/>\n",
       "<path style=\" stroke:none;fill-rule:nonzero;fill:rgb(86.742764%,86.43766%,86.260246%);fill-opacity:1;\" d=\"M 235 50 L 220.734375 54.636719 L 220.734375 45.363281 L 235 50 \"/>\n",
       "<path style=\"fill:none;stroke-width:1;stroke-linecap:butt;stroke-linejoin:miter;stroke:rgb(86.742764%,86.43766%,86.260246%);stroke-opacity:1;stroke-miterlimit:10;\" d=\"M 50 50 L 222.234375 107.410156 \"/>\n",
       "<path style=\" stroke:none;fill-rule:nonzero;fill:rgb(86.742764%,86.43766%,86.260246%);fill-opacity:1;\" d=\"M 235.769531 111.921875 L 220.769531 111.808594 L 223.703125 103.015625 L 235.769531 111.921875 \"/>\n",
       "<path style=\"fill:none;stroke-width:1;stroke-linecap:butt;stroke-linejoin:miter;stroke:rgb(83.936494%,32.185622%,26.492398%);stroke-opacity:1;stroke-miterlimit:10;\" d=\"M 50 116.667969 L 220.734375 116.667969 \"/>\n",
       "<path style=\" stroke:none;fill-rule:nonzero;fill:rgb(83.936494%,32.185622%,26.492398%);fill-opacity:1;\" d=\"M 235 116.667969 L 220.734375 121.300781 L 220.734375 112.03125 L 235 116.667969 \"/>\n",
       "<path style=\"fill:none;stroke-width:1;stroke-linecap:butt;stroke-linejoin:miter;stroke:rgb(86.742764%,86.43766%,86.260246%);stroke-opacity:1;stroke-miterlimit:10;\" d=\"M 50 50 L 225.648438 167.097656 \"/>\n",
       "<path style=\" stroke:none;fill-rule:nonzero;fill:rgb(86.742764%,86.43766%,86.260246%);fill-opacity:1;\" d=\"M 237.519531 175.011719 L 223.078125 170.957031 L 228.21875 163.242188 L 237.519531 175.011719 \"/>\n",
       "<path style=\"fill:none;stroke-width:1;stroke-linecap:butt;stroke-linejoin:miter;stroke:rgb(86.742764%,86.43766%,86.260246%);stroke-opacity:1;stroke-miterlimit:10;\" d=\"M 50 183.332031 L 220.734375 183.332031 \"/>\n",
       "<path style=\" stroke:none;fill-rule:nonzero;fill:rgb(86.742764%,86.43766%,86.260246%);fill-opacity:1;\" d=\"M 235 183.332031 L 220.734375 187.96875 L 220.734375 178.699219 L 235 183.332031 \"/>\n",
       "<path style=\"fill:none;stroke-width:1;stroke-linecap:butt;stroke-linejoin:miter;stroke:rgb(86.742764%,86.43766%,86.260246%);stroke-opacity:1;stroke-miterlimit:10;\" d=\"M 50 50 L 229.304688 229.304688 \"/>\n",
       "<path style=\" stroke:none;fill-rule:nonzero;fill:rgb(86.742764%,86.43766%,86.260246%);fill-opacity:1;\" d=\"M 239.394531 239.394531 L 226.027344 232.582031 L 232.582031 226.027344 L 239.394531 239.394531 \"/>\n",
       "<path style=\"fill:none;stroke-width:1;stroke-linecap:butt;stroke-linejoin:miter;stroke:rgb(86.742764%,86.43766%,86.260246%);stroke-opacity:1;stroke-miterlimit:10;\" d=\"M 50 250 L 220.734375 250 \"/>\n",
       "<path style=\" stroke:none;fill-rule:nonzero;fill:rgb(86.742764%,86.43766%,86.260246%);fill-opacity:1;\" d=\"M 235 250 L 220.734375 254.636719 L 220.734375 245.363281 L 235 250 \"/>\n",
       "<path style=\"fill:none;stroke-width:1;stroke-linecap:butt;stroke-linejoin:miter;stroke:rgb(86.742764%,86.43766%,86.260246%);stroke-opacity:1;stroke-miterlimit:10;\" d=\"M 50 116.667969 L 222.234375 59.253906 \"/>\n",
       "<path style=\" stroke:none;fill-rule:nonzero;fill:rgb(86.742764%,86.43766%,86.260246%);fill-opacity:1;\" d=\"M 235.769531 54.742188 L 223.703125 63.652344 L 220.769531 54.855469 L 235.769531 54.742188 \"/>\n",
       "<path style=\"fill:none;stroke-width:1;stroke-linecap:butt;stroke-linejoin:miter;stroke:rgb(94.343153%,80.227625%,72.91716%);stroke-opacity:1;stroke-miterlimit:10;\" d=\"M 50 116.667969 L 222.234375 174.078125 \"/>\n",
       "<path style=\" stroke:none;fill-rule:nonzero;fill:rgb(94.343153%,80.227625%,72.91716%);fill-opacity:1;\" d=\"M 235.769531 178.589844 L 220.769531 178.476562 L 223.703125 169.679688 L 235.769531 178.589844 \"/>\n",
       "<path style=\"fill:none;stroke-width:1;stroke-linecap:butt;stroke-linejoin:miter;stroke:rgb(96.380606%,63.418841%,51.372085%);stroke-opacity:1;stroke-miterlimit:10;\" d=\"M 250 50 L 420.734375 50 \"/>\n",
       "<path style=\" stroke:none;fill-rule:nonzero;fill:rgb(96.380606%,63.418841%,51.372085%);fill-opacity:1;\" d=\"M 435 50 L 420.734375 54.636719 L 420.734375 45.363281 L 435 50 \"/>\n",
       "<path style=\"fill:none;stroke-width:1;stroke-linecap:butt;stroke-linejoin:miter;stroke:rgb(86.742764%,86.43766%,86.260246%);stroke-opacity:1;stroke-miterlimit:10;\" d=\"M 250 50 L 422.234375 107.410156 \"/>\n",
       "<path style=\" stroke:none;fill-rule:nonzero;fill:rgb(86.742764%,86.43766%,86.260246%);fill-opacity:1;\" d=\"M 435.769531 111.921875 L 420.769531 111.808594 L 423.703125 103.015625 L 435.769531 111.921875 \"/>\n",
       "<path style=\"fill:none;stroke-width:1;stroke-linecap:butt;stroke-linejoin:miter;stroke:rgb(86.742764%,86.43766%,86.260246%);stroke-opacity:1;stroke-miterlimit:10;\" d=\"M 250 116.667969 L 420.734375 116.667969 \"/>\n",
       "<path style=\" stroke:none;fill-rule:nonzero;fill:rgb(86.742764%,86.43766%,86.260246%);fill-opacity:1;\" d=\"M 435 116.667969 L 420.734375 121.300781 L 420.734375 112.03125 L 435 116.667969 \"/>\n",
       "<path style=\"fill:none;stroke-width:1;stroke-linecap:butt;stroke-linejoin:miter;stroke:rgb(86.742764%,86.43766%,86.260246%);stroke-opacity:1;stroke-miterlimit:10;\" d=\"M 250 50 L 425.648438 167.097656 \"/>\n",
       "<path style=\" stroke:none;fill-rule:nonzero;fill:rgb(86.742764%,86.43766%,86.260246%);fill-opacity:1;\" d=\"M 437.519531 175.011719 L 423.078125 170.957031 L 428.21875 163.242188 L 437.519531 175.011719 \"/>\n",
       "<path style=\"fill:none;stroke-width:1;stroke-linecap:butt;stroke-linejoin:miter;stroke:rgb(92.268145%,82.856814%,77.705439%);stroke-opacity:1;stroke-miterlimit:10;\" d=\"M 250 183.332031 L 420.734375 183.332031 \"/>\n",
       "<path style=\" stroke:none;fill-rule:nonzero;fill:rgb(92.268145%,82.856814%,77.705439%);fill-opacity:1;\" d=\"M 435 183.332031 L 420.734375 187.96875 L 420.734375 178.699219 L 435 183.332031 \"/>\n",
       "<path style=\"fill:none;stroke-width:1;stroke-linecap:butt;stroke-linejoin:miter;stroke:rgb(86.742764%,86.43766%,86.260246%);stroke-opacity:1;stroke-miterlimit:10;\" d=\"M 250 50 L 429.304688 229.304688 \"/>\n",
       "<path style=\" stroke:none;fill-rule:nonzero;fill:rgb(86.742764%,86.43766%,86.260246%);fill-opacity:1;\" d=\"M 439.394531 239.394531 L 426.027344 232.582031 L 432.582031 226.027344 L 439.394531 239.394531 \"/>\n",
       "<path style=\"fill:none;stroke-width:1;stroke-linecap:butt;stroke-linejoin:miter;stroke:rgb(86.742764%,86.43766%,86.260246%);stroke-opacity:1;stroke-miterlimit:10;\" d=\"M 250 250 L 420.734375 250 \"/>\n",
       "<path style=\" stroke:none;fill-rule:nonzero;fill:rgb(86.742764%,86.43766%,86.260246%);fill-opacity:1;\" d=\"M 435 250 L 420.734375 254.636719 L 420.734375 245.363281 L 435 250 \"/>\n",
       "<path style=\"fill:none;stroke-width:1;stroke-linecap:butt;stroke-linejoin:miter;stroke:rgb(88.839049%,41.770292%,32.789791%);stroke-opacity:1;stroke-miterlimit:10;\" d=\"M 250 116.667969 L 422.234375 59.253906 \"/>\n",
       "<path style=\" stroke:none;fill-rule:nonzero;fill:rgb(88.839049%,41.770292%,32.789791%);fill-opacity:1;\" d=\"M 435.769531 54.742188 L 423.703125 63.652344 L 420.769531 54.855469 L 435.769531 54.742188 \"/>\n",
       "<path style=\"fill:none;stroke-width:1;stroke-linecap:butt;stroke-linejoin:miter;stroke:rgb(86.742764%,86.43766%,86.260246%);stroke-opacity:1;stroke-miterlimit:10;\" d=\"M 250 116.667969 L 422.234375 174.078125 \"/>\n",
       "<path style=\" stroke:none;fill-rule:nonzero;fill:rgb(86.742764%,86.43766%,86.260246%);fill-opacity:1;\" d=\"M 435.769531 178.589844 L 420.769531 178.476562 L 423.703125 169.679688 L 435.769531 178.589844 \"/>\n",
       "<path style=\"fill:none;stroke-width:1;stroke-linecap:butt;stroke-linejoin:miter;stroke:rgb(86.742764%,86.43766%,86.260246%);stroke-opacity:1;stroke-miterlimit:10;\" d=\"M 450 50 L 620.734375 50 \"/>\n",
       "<path style=\" stroke:none;fill-rule:nonzero;fill:rgb(86.742764%,86.43766%,86.260246%);fill-opacity:1;\" d=\"M 635 50 L 620.734375 54.636719 L 620.734375 45.363281 L 635 50 \"/>\n",
       "<path style=\"fill:none;stroke-width:1;stroke-linecap:butt;stroke-linejoin:miter;stroke:rgb(91.828167%,48.417347%,37.779393%);stroke-opacity:1;stroke-miterlimit:10;\" d=\"M 450 50 L 622.234375 107.410156 \"/>\n",
       "<path style=\" stroke:none;fill-rule:nonzero;fill:rgb(91.828167%,48.417347%,37.779393%);fill-opacity:1;\" d=\"M 635.769531 111.921875 L 620.769531 111.808594 L 623.703125 103.015625 L 635.769531 111.921875 \"/>\n",
       "<path style=\"fill:none;stroke-width:1;stroke-linecap:butt;stroke-linejoin:miter;stroke:rgb(86.742764%,86.43766%,86.260246%);stroke-opacity:1;stroke-miterlimit:10;\" d=\"M 450 116.667969 L 620.734375 116.667969 \"/>\n",
       "<path style=\" stroke:none;fill-rule:nonzero;fill:rgb(86.742764%,86.43766%,86.260246%);fill-opacity:1;\" d=\"M 635 116.667969 L 620.734375 121.300781 L 620.734375 112.03125 L 635 116.667969 \"/>\n",
       "<path style=\"fill:none;stroke-width:1;stroke-linecap:butt;stroke-linejoin:miter;stroke:rgb(96.889416%,67.947956%,56.281229%);stroke-opacity:1;stroke-miterlimit:10;\" d=\"M 450 50 L 625.648438 167.097656 \"/>\n",
       "<path style=\" stroke:none;fill-rule:nonzero;fill:rgb(96.889416%,67.947956%,56.281229%);fill-opacity:1;\" d=\"M 637.519531 175.011719 L 623.078125 170.957031 L 628.21875 163.242188 L 637.519531 175.011719 \"/>\n",
       "<path style=\"fill:none;stroke-width:1;stroke-linecap:butt;stroke-linejoin:miter;stroke:rgb(94.73454%,79.46955%,71.699051%);stroke-opacity:1;stroke-miterlimit:10;\" d=\"M 450 183.332031 L 620.734375 183.332031 \"/>\n",
       "<path style=\" stroke:none;fill-rule:nonzero;fill:rgb(94.73454%,79.46955%,71.699051%);fill-opacity:1;\" d=\"M 635 183.332031 L 620.734375 187.96875 L 620.734375 178.699219 L 635 183.332031 \"/>\n",
       "<path style=\"fill:none;stroke-width:1;stroke-linecap:butt;stroke-linejoin:miter;stroke:rgb(86.742764%,86.43766%,86.260246%);stroke-opacity:1;stroke-miterlimit:10;\" d=\"M 450 50 L 629.304688 229.304688 \"/>\n",
       "<path style=\" stroke:none;fill-rule:nonzero;fill:rgb(86.742764%,86.43766%,86.260246%);fill-opacity:1;\" d=\"M 639.394531 239.394531 L 626.027344 232.582031 L 632.582031 226.027344 L 639.394531 239.394531 \"/>\n",
       "<path style=\"fill:none;stroke-width:1;stroke-linecap:butt;stroke-linejoin:miter;stroke:rgb(86.742764%,86.43766%,86.260246%);stroke-opacity:1;stroke-miterlimit:10;\" d=\"M 450 250 L 620.734375 250 \"/>\n",
       "<path style=\" stroke:none;fill-rule:nonzero;fill:rgb(86.742764%,86.43766%,86.260246%);fill-opacity:1;\" d=\"M 635 250 L 620.734375 254.636719 L 620.734375 245.363281 L 635 250 \"/>\n",
       "<path style=\"fill:none;stroke-width:1;stroke-linecap:butt;stroke-linejoin:miter;stroke:rgb(86.742764%,86.43766%,86.260246%);stroke-opacity:1;stroke-miterlimit:10;\" d=\"M 450 116.667969 L 622.234375 59.253906 \"/>\n",
       "<path style=\" stroke:none;fill-rule:nonzero;fill:rgb(86.742764%,86.43766%,86.260246%);fill-opacity:1;\" d=\"M 635.769531 54.742188 L 623.703125 63.652344 L 620.769531 54.855469 L 635.769531 54.742188 \"/>\n",
       "<path style=\"fill:none;stroke-width:1;stroke-linecap:butt;stroke-linejoin:miter;stroke:rgb(86.742764%,86.43766%,86.260246%);stroke-opacity:1;stroke-miterlimit:10;\" d=\"M 450 116.667969 L 622.234375 174.078125 \"/>\n",
       "<path style=\" stroke:none;fill-rule:nonzero;fill:rgb(86.742764%,86.43766%,86.260246%);fill-opacity:1;\" d=\"M 635.769531 178.589844 L 620.769531 178.476562 L 623.703125 169.679688 L 635.769531 178.589844 \"/>\n",
       "<path style=\"fill-rule:nonzero;fill:rgb(86.742764%,86.43766%,86.260246%);fill-opacity:1;stroke-width:1;stroke-linecap:butt;stroke-linejoin:miter;stroke:rgb(0%,0%,0%);stroke-opacity:1;stroke-miterlimit:10;\" d=\"M 65 50 C 65 58.285156 58.285156 65 50 65 C 41.714844 65 35 58.285156 35 50 C 35 41.714844 41.714844 35 50 35 C 58.285156 35 65 41.714844 65 50 \"/>\n",
       "<path style=\"fill-rule:nonzero;fill:rgb(83.936494%,32.185622%,26.492398%);fill-opacity:1;stroke-width:1;stroke-linecap:butt;stroke-linejoin:miter;stroke:rgb(0%,0%,0%);stroke-opacity:1;stroke-miterlimit:10;\" d=\"M 65 116.667969 C 65 124.949219 58.285156 131.667969 50 131.667969 C 41.714844 131.667969 35 124.949219 35 116.667969 C 35 108.382812 41.714844 101.667969 50 101.667969 C 58.285156 101.667969 65 108.382812 65 116.667969 \"/>\n",
       "<path style=\"fill-rule:nonzero;fill:rgb(86.742764%,86.43766%,86.260246%);fill-opacity:1;stroke-width:1;stroke-linecap:butt;stroke-linejoin:miter;stroke:rgb(0%,0%,0%);stroke-opacity:1;stroke-miterlimit:10;\" d=\"M 65 183.332031 C 65 191.617188 58.285156 198.332031 50 198.332031 C 41.714844 198.332031 35 191.617188 35 183.332031 C 35 175.050781 41.714844 168.332031 50 168.332031 C 58.285156 168.332031 65 175.050781 65 183.332031 \"/>\n",
       "<path style=\"fill-rule:nonzero;fill:rgb(86.742764%,86.43766%,86.260246%);fill-opacity:1;stroke-width:1;stroke-linecap:butt;stroke-linejoin:miter;stroke:rgb(0%,0%,0%);stroke-opacity:1;stroke-miterlimit:10;\" d=\"M 65 250 C 65 258.285156 58.285156 265 50 265 C 41.714844 265 35 258.285156 35 250 C 35 241.714844 41.714844 235 50 235 C 58.285156 235 65 241.714844 65 250 \"/>\n",
       "<path style=\"fill-rule:nonzero;fill:rgb(96.696244%,73.567%,63.087654%);fill-opacity:1;stroke-width:1;stroke-linecap:butt;stroke-linejoin:miter;stroke:rgb(0%,0%,0%);stroke-opacity:1;stroke-miterlimit:10;\" d=\"M 265 50 C 265 58.285156 258.285156 65 250 65 C 241.714844 65 235 58.285156 235 50 C 235 41.714844 241.714844 35 250 35 C 258.285156 35 265 41.714844 265 50 \"/>\n",
       "<path style=\"fill-rule:nonzero;fill:rgb(83.936494%,32.185622%,26.492398%);fill-opacity:1;stroke-width:1;stroke-linecap:butt;stroke-linejoin:miter;stroke:rgb(0%,0%,0%);stroke-opacity:1;stroke-miterlimit:10;\" d=\"M 265 116.667969 C 265 124.949219 258.285156 131.667969 250 131.667969 C 241.714844 131.667969 235 124.949219 235 116.667969 C 235 108.382812 241.714844 101.667969 250 101.667969 C 258.285156 101.667969 265 108.382812 265 116.667969 \"/>\n",
       "<path style=\"fill-rule:nonzero;fill:rgb(94.55403%,79.860574%,72.310542%);fill-opacity:1;stroke-width:1;stroke-linecap:butt;stroke-linejoin:miter;stroke:rgb(0%,0%,0%);stroke-opacity:1;stroke-miterlimit:10;\" d=\"M 265 183.332031 C 265 191.617188 258.285156 198.332031 250 198.332031 C 241.714844 198.332031 235 191.617188 235 183.332031 C 235 175.050781 241.714844 168.332031 250 168.332031 C 258.285156 168.332031 265 175.050781 265 183.332031 \"/>\n",
       "<path style=\"fill-rule:nonzero;fill:rgb(86.742764%,86.43766%,86.260246%);fill-opacity:1;stroke-width:1;stroke-linecap:butt;stroke-linejoin:miter;stroke:rgb(0%,0%,0%);stroke-opacity:1;stroke-miterlimit:10;\" d=\"M 265 250 C 265 258.285156 258.285156 265 250 265 C 241.714844 265 235 258.285156 235 250 C 235 241.714844 241.714844 235 250 235 C 258.285156 235 265 241.714844 265 250 \"/>\n",
       "<path style=\"fill-rule:nonzero;fill:rgb(83.936494%,32.185622%,26.492398%);fill-opacity:1;stroke-width:1;stroke-linecap:butt;stroke-linejoin:miter;stroke:rgb(0%,0%,0%);stroke-opacity:1;stroke-miterlimit:10;\" d=\"M 465 50 C 465 58.285156 458.285156 65 450 65 C 441.714844 65 435 58.285156 435 50 C 435 41.714844 441.714844 35 450 35 C 458.285156 35 465 41.714844 465 50 \"/>\n",
       "<path style=\"fill-rule:nonzero;fill:rgb(86.742764%,86.43766%,86.260246%);fill-opacity:1;stroke-width:1;stroke-linecap:butt;stroke-linejoin:miter;stroke:rgb(0%,0%,0%);stroke-opacity:1;stroke-miterlimit:10;\" d=\"M 465 116.667969 C 465 124.949219 458.285156 131.667969 450 131.667969 C 441.714844 131.667969 435 124.949219 435 116.667969 C 435 108.382812 441.714844 101.667969 450 101.667969 C 458.285156 101.667969 465 108.382812 465 116.667969 \"/>\n",
       "<path style=\"fill-rule:nonzero;fill:rgb(95.637093%,77.514433%,68.641595%);fill-opacity:1;stroke-width:1;stroke-linecap:butt;stroke-linejoin:miter;stroke:rgb(0%,0%,0%);stroke-opacity:1;stroke-miterlimit:10;\" d=\"M 465 183.332031 C 465 191.617188 458.285156 198.332031 450 198.332031 C 441.714844 198.332031 435 191.617188 435 183.332031 C 435 175.050781 441.714844 168.332031 450 168.332031 C 458.285156 168.332031 465 175.050781 465 183.332031 \"/>\n",
       "<path style=\"fill-rule:nonzero;fill:rgb(86.742764%,86.43766%,86.260246%);fill-opacity:1;stroke-width:1;stroke-linecap:butt;stroke-linejoin:miter;stroke:rgb(0%,0%,0%);stroke-opacity:1;stroke-miterlimit:10;\" d=\"M 465 250 C 465 258.285156 458.285156 265 450 265 C 441.714844 265 435 258.285156 435 250 C 435 241.714844 441.714844 235 450 235 C 458.285156 235 465 241.714844 465 250 \"/>\n",
       "<path style=\"fill-rule:nonzero;fill:rgb(83.936494%,32.185622%,26.492398%);fill-opacity:1;stroke-width:1;stroke-linecap:butt;stroke-linejoin:miter;stroke:rgb(0%,0%,0%);stroke-opacity:1;stroke-miterlimit:10;\" d=\"M 665 50 C 665 58.285156 658.285156 65 650 65 C 641.714844 65 635 58.285156 635 50 C 635 41.714844 641.714844 35 650 35 C 658.285156 35 665 41.714844 665 50 \"/>\n",
       "<path style=\"fill-rule:nonzero;fill:rgb(94.765418%,56.597643%,44.747815%);fill-opacity:1;stroke-width:1;stroke-linecap:butt;stroke-linejoin:miter;stroke:rgb(0%,0%,0%);stroke-opacity:1;stroke-miterlimit:10;\" d=\"M 665 116.667969 C 665 124.949219 658.285156 131.667969 650 131.667969 C 641.714844 131.667969 635 124.949219 635 116.667969 C 635 108.382812 641.714844 101.667969 650 101.667969 C 658.285156 101.667969 665 108.382812 665 116.667969 \"/>\n",
       "<path style=\"fill-rule:nonzero;fill:rgb(93.18313%,51.908552%,40.647961%);fill-opacity:1;stroke-width:1;stroke-linecap:butt;stroke-linejoin:miter;stroke:rgb(0%,0%,0%);stroke-opacity:1;stroke-miterlimit:10;\" d=\"M 665 183.332031 C 665 191.617188 658.285156 198.332031 650 198.332031 C 641.714844 198.332031 635 191.617188 635 183.332031 C 635 175.050781 641.714844 168.332031 650 168.332031 C 658.285156 168.332031 665 175.050781 665 183.332031 \"/>\n",
       "<path style=\"fill-rule:nonzero;fill:rgb(86.742764%,86.43766%,86.260246%);fill-opacity:1;stroke-width:1;stroke-linecap:butt;stroke-linejoin:miter;stroke:rgb(0%,0%,0%);stroke-opacity:1;stroke-miterlimit:10;\" d=\"M 665 250 C 665 258.285156 658.285156 265 650 265 C 641.714844 265 635 258.285156 635 250 C 635 241.714844 641.714844 235 650 235 C 658.285156 235 665 241.714844 665 250 \"/>\n",
       "<g style=\"fill:rgb(0%,0%,0%);fill-opacity:1;\">\n",
       "  <use xlink:href=\"#glyph0-1\" x=\"42.050781\" y=\"54.890625\"/>\n",
       "  <use xlink:href=\"#glyph0-2\" x=\"48.413086\" y=\"54.890625\"/>\n",
       "  <use xlink:href=\"#glyph0-1\" x=\"51.591797\" y=\"54.890625\"/>\n",
       "</g>\n",
       "<g style=\"fill:rgb(0%,0%,0%);fill-opacity:1;\">\n",
       "  <use xlink:href=\"#glyph0-1\" x=\"42.179688\" y=\"121.558594\"/>\n",
       "  <use xlink:href=\"#glyph0-2\" x=\"48.541992\" y=\"121.558594\"/>\n",
       "  <use xlink:href=\"#glyph0-3\" x=\"51.720703\" y=\"121.558594\"/>\n",
       "</g>\n",
       "<g style=\"fill:rgb(0%,0%,0%);fill-opacity:1;\">\n",
       "  <use xlink:href=\"#glyph0-1\" x=\"42.21875\" y=\"188.222656\"/>\n",
       "  <use xlink:href=\"#glyph0-2\" x=\"48.581055\" y=\"188.222656\"/>\n",
       "  <use xlink:href=\"#glyph0-4\" x=\"51.759766\" y=\"188.222656\"/>\n",
       "</g>\n",
       "<g style=\"fill:rgb(0%,0%,0%);fill-opacity:1;\">\n",
       "  <use xlink:href=\"#glyph0-1\" x=\"42.117188\" y=\"254.890625\"/>\n",
       "  <use xlink:href=\"#glyph0-2\" x=\"48.479492\" y=\"254.890625\"/>\n",
       "  <use xlink:href=\"#glyph0-5\" x=\"51.658203\" y=\"254.890625\"/>\n",
       "</g>\n",
       "<g style=\"fill:rgb(0%,0%,0%);fill-opacity:1;\">\n",
       "  <use xlink:href=\"#glyph0-3\" x=\"241.832031\" y=\"54.890625\"/>\n",
       "  <use xlink:href=\"#glyph0-2\" x=\"248.194336\" y=\"54.890625\"/>\n",
       "  <use xlink:href=\"#glyph0-1\" x=\"251.373047\" y=\"54.890625\"/>\n",
       "</g>\n",
       "<g style=\"fill:rgb(0%,0%,0%);fill-opacity:1;\">\n",
       "  <use xlink:href=\"#glyph0-3\" x=\"241.960938\" y=\"121.492188\"/>\n",
       "  <use xlink:href=\"#glyph0-2\" x=\"248.323242\" y=\"121.492188\"/>\n",
       "  <use xlink:href=\"#glyph0-3\" x=\"251.501953\" y=\"121.492188\"/>\n",
       "</g>\n",
       "<g style=\"fill:rgb(0%,0%,0%);fill-opacity:1;\">\n",
       "  <use xlink:href=\"#glyph0-3\" x=\"242\" y=\"188.222656\"/>\n",
       "  <use xlink:href=\"#glyph0-2\" x=\"248.362305\" y=\"188.222656\"/>\n",
       "  <use xlink:href=\"#glyph0-4\" x=\"251.541016\" y=\"188.222656\"/>\n",
       "</g>\n",
       "<g style=\"fill:rgb(0%,0%,0%);fill-opacity:1;\">\n",
       "  <use xlink:href=\"#glyph0-3\" x=\"241.898438\" y=\"254.890625\"/>\n",
       "  <use xlink:href=\"#glyph0-2\" x=\"248.260742\" y=\"254.890625\"/>\n",
       "  <use xlink:href=\"#glyph0-5\" x=\"251.439453\" y=\"254.890625\"/>\n",
       "</g>\n",
       "<g style=\"fill:rgb(0%,0%,0%);fill-opacity:1;\">\n",
       "  <use xlink:href=\"#glyph0-4\" x=\"442.015625\" y=\"54.890625\"/>\n",
       "  <use xlink:href=\"#glyph0-2\" x=\"448.37793\" y=\"54.890625\"/>\n",
       "  <use xlink:href=\"#glyph0-1\" x=\"451.556641\" y=\"54.890625\"/>\n",
       "</g>\n",
       "<g style=\"fill:rgb(0%,0%,0%);fill-opacity:1;\">\n",
       "  <use xlink:href=\"#glyph0-4\" x=\"442.144531\" y=\"121.558594\"/>\n",
       "  <use xlink:href=\"#glyph0-2\" x=\"448.506836\" y=\"121.558594\"/>\n",
       "  <use xlink:href=\"#glyph0-3\" x=\"451.685547\" y=\"121.558594\"/>\n",
       "</g>\n",
       "<g style=\"fill:rgb(0%,0%,0%);fill-opacity:1;\">\n",
       "  <use xlink:href=\"#glyph0-4\" x=\"442.183594\" y=\"188.222656\"/>\n",
       "  <use xlink:href=\"#glyph0-2\" x=\"448.545898\" y=\"188.222656\"/>\n",
       "  <use xlink:href=\"#glyph0-4\" x=\"451.724609\" y=\"188.222656\"/>\n",
       "</g>\n",
       "<g style=\"fill:rgb(0%,0%,0%);fill-opacity:1;\">\n",
       "  <use xlink:href=\"#glyph0-4\" x=\"442.082031\" y=\"254.890625\"/>\n",
       "  <use xlink:href=\"#glyph0-2\" x=\"448.444336\" y=\"254.890625\"/>\n",
       "  <use xlink:href=\"#glyph0-5\" x=\"451.623047\" y=\"254.890625\"/>\n",
       "</g>\n",
       "<g style=\"fill:rgb(0%,0%,0%);fill-opacity:1;\">\n",
       "  <use xlink:href=\"#glyph0-5\" x=\"642\" y=\"54.890625\"/>\n",
       "  <use xlink:href=\"#glyph0-2\" x=\"648.362305\" y=\"54.890625\"/>\n",
       "  <use xlink:href=\"#glyph0-1\" x=\"651.541016\" y=\"54.890625\"/>\n",
       "</g>\n",
       "<g style=\"fill:rgb(0%,0%,0%);fill-opacity:1;\">\n",
       "  <use xlink:href=\"#glyph0-5\" x=\"642.128906\" y=\"121.558594\"/>\n",
       "  <use xlink:href=\"#glyph0-2\" x=\"648.491211\" y=\"121.558594\"/>\n",
       "  <use xlink:href=\"#glyph0-3\" x=\"651.669922\" y=\"121.558594\"/>\n",
       "</g>\n",
       "<g style=\"fill:rgb(0%,0%,0%);fill-opacity:1;\">\n",
       "  <use xlink:href=\"#glyph0-5\" x=\"642.167969\" y=\"188.222656\"/>\n",
       "  <use xlink:href=\"#glyph0-2\" x=\"648.530273\" y=\"188.222656\"/>\n",
       "  <use xlink:href=\"#glyph0-4\" x=\"651.708984\" y=\"188.222656\"/>\n",
       "</g>\n",
       "<g style=\"fill:rgb(0%,0%,0%);fill-opacity:1;\">\n",
       "  <use xlink:href=\"#glyph0-5\" x=\"642.066406\" y=\"254.890625\"/>\n",
       "  <use xlink:href=\"#glyph0-2\" x=\"648.428711\" y=\"254.890625\"/>\n",
       "  <use xlink:href=\"#glyph0-5\" x=\"651.607422\" y=\"254.890625\"/>\n",
       "</g>\n",
       "</g>\n",
       "</svg>\n"
      ],
      "text/plain": [
       "<igraph.drawing.Plot at 0x7f773fc768d0>"
      ]
     },
     "execution_count": 241,
     "metadata": {
      "image/svg+xml": {
       "isolated": true
      }
     },
     "output_type": "execute_result"
    }
   ],
   "source": [
    "node_counts_n, arc_counts_n = util.add_proportional_noise(node_counts, arc_counts, sigma=0.2, seed=42)\n",
    "visual_style = util.get_visual_style(tug, vertex_weights=node_counts_n, edge_weights=arc_counts_n)\n",
    "ig.plot(tug, **visual_style, bbox=(700, 300), margin=50)"
   ]
  },
  {
   "cell_type": "markdown",
   "metadata": {
    "slideshow": {
     "slide_type": "subslide"
    }
   },
   "source": [
    "## Solving the Noisy Path Formulation\n",
    "\n",
    "**Let's try to solve the path formulation with noisy data**"
   ]
  },
  {
   "cell_type": "code",
   "execution_count": 242,
   "metadata": {},
   "outputs": [
    {
     "name": "stdout",
     "output_type": "stream",
     "text": [
      "FLOW: PATH\n",
      "5.79: 3,0\n",
      "2.30: 0,1 > 1,1\n",
      "1.86: 0,1 > 1,1 > 2,0 > 3,1\n",
      "1.46: 0,1 > 1,1 > 2,0 > 3,2\n",
      "1.38: 1,0 > 2,0 > 3,1\n",
      "0.92: 1,0 > 2,0 > 3,2\n",
      "0.59: 2,2 > 3,2\n",
      "0.49: 1,1 > 2,0 > 3,1\n",
      "0.38: 0,1 > 1,2 > 2,2 > 3,2\n",
      "0.35: 0,1 > 1,2\n",
      "0.30: 3,2\n",
      "0.27: 1,2 > 2,2 > 3,2\n",
      "0.26: 0,1 > 1,1 > 2,0\n",
      "0.24: 2,2\n",
      "0.18: 1,2\n",
      "...\n",
      "RSSE: 0.85\n"
     ]
    }
   ],
   "source": [
    "rflows_n, rpaths_n = util.solve_path_selection_full(tug, node_counts_n, arc_counts_n, verbose=0)\n",
    "print('FLOW: PATH')\n",
    "util.print_solution(tug, rflows_n, rpaths_n, sort='descending', max_paths=15)\n",
    "sse = util.get_reconstruction_error(tug, rflows_n, rpaths_n, node_counts_n, arc_counts_n)\n",
    "print(f'RSSE: {np.sqrt(sse):.2f}')"
   ]
  },
  {
   "cell_type": "markdown",
   "metadata": {
    "slideshow": {
     "slide_type": "subslide"
    }
   },
   "source": [
    "## Solving the Noisy Path Formulation\n",
    "\n",
    "**There some very noticeable differences w.r.t. the baseline**\n",
    "\n",
    "* The RSSE is a bit higher, which could be expected\n",
    "* But there are also _many more_ paths, and they tend to be _shorter_\n",
    "\n",
    "> **What is going on?**"
   ]
  },
  {
   "cell_type": "markdown",
   "metadata": {
    "slideshow": {
     "slide_type": "fragment"
    }
   },
   "source": [
    "**We have overfitting issues**\n",
    "\n",
    "* Our data-mining model is _almost free of bias_ (we can use any possible path)\n",
    "* Hence, the model tries to cover all nodes with many, short, paths\n",
    "\n",
    "> **Can we do something about it?**"
   ]
  },
  {
   "cell_type": "markdown",
   "metadata": {
    "slideshow": {
     "slide_type": "subslide"
    }
   },
   "source": [
    "## L1 Regularization, Put to Its Purpose\n",
    "\n",
    "**We know that we can use an L1 regularizer to encourage longer paths**\n",
    "\n",
    "...After all, L1 and L2 regularization were born to _counter overfitting_"
   ]
  },
  {
   "cell_type": "code",
   "execution_count": 243,
   "metadata": {},
   "outputs": [
    {
     "name": "stdout",
     "output_type": "stream",
     "text": [
      "FLOW: PATH\n",
      "3.87: 3,0\n",
      "2.22: 0,1 > 1,1 > 2,0 > 3,1\n",
      "1.66: 0,1 > 1,1 > 2,0 > 3,2\n",
      "1.31: 1,0 > 2,0 > 3,1\n",
      "0.83: 0,1 > 1,2 > 2,2 > 3,2\n",
      "0.65: 1,0 > 2,0 > 3,2\n",
      "0.59: 0,1 > 1,1 > 2,0 > 3,0\n",
      "0.50: 0,1 > 1,1\n",
      "0.49: 0,1 > 1,1 > 2,2 > 3,2\n",
      "0.33: 0,1 > 1,1 > 2,1 > 3,0\n",
      "RSSE: 2.03\n"
     ]
    }
   ],
   "source": [
    "rflows_n2, rpaths_n2 = util.solve_path_selection_full(tug, node_counts_n, arc_counts_n, alpha=1, verbose=0)\n",
    "print('FLOW: PATH')\n",
    "util.print_solution(tug, rflows_n2, rpaths_n2, sort='descending')\n",
    "sse = util.get_reconstruction_error(tug, rflows_n2, rpaths_n2, node_counts_n, arc_counts_n)\n",
    "print(f'RSSE: {np.sqrt(sse):.2f}')"
   ]
  },
  {
   "cell_type": "markdown",
   "metadata": {
    "slideshow": {
     "slide_type": "-"
    }
   },
   "source": [
    "We get _fewer, longer_ paths, at the expense of a _higher RSSE_"
   ]
  },
  {
   "cell_type": "markdown",
   "metadata": {
    "slideshow": {
     "slide_type": "subslide"
    }
   },
   "source": [
    "## L1 Regularization, Put to Its Purpose\n",
    "\n",
    "**As usual, we can try to improve our results via consolidation**"
   ]
  },
  {
   "cell_type": "code",
   "execution_count": 244,
   "metadata": {},
   "outputs": [
    {
     "name": "stdout",
     "output_type": "stream",
     "text": [
      "FLOW: PATH\n",
      "3.87: 3,0\n",
      "3.53: 0,1 > 1,1 > 2,0 > 3,1\n",
      "1.97: 1,0 > 2,0 > 3,2\n",
      "0.83: 0,1 > 1,2 > 2,2 > 3,2\n",
      "...\n"
     ]
    }
   ],
   "source": [
    "node_counts_r, arc_counts_r = util.get_counts(tug, rflows_n2, rpaths_n2)\n",
    "cflows, cpaths, cflag = util.consolidate_paths(tug, rpaths_n2, node_counts_r, arc_counts_r)\n",
    "print('FLOW: PATH')\n",
    "util.print_solution(tug, cflows, cpaths, sort='descending', max_paths=4)"
   ]
  },
  {
   "cell_type": "code",
   "execution_count": 245,
   "metadata": {},
   "outputs": [
    {
     "name": "stdout",
     "output_type": "stream",
     "text": [
      "9.58: 3,0\n",
      "5.45: 0,1 > 1,1 > 2,0 > 3,1\n",
      "2.52: 1,0 > 2,0 > 3,2\n",
      "1.23: 0,1 > 1,2 > 2,2 > 3,2\n"
     ]
    }
   ],
   "source": [
    "util.print_ground_truth(flows, paths, sort='descending')"
   ]
  },
  {
   "cell_type": "markdown",
   "metadata": {},
   "source": [
    "* The ground truth paths are among the top 4, but the flows are _a bit too \"flat\"_"
   ]
  },
  {
   "cell_type": "markdown",
   "metadata": {
    "slideshow": {
     "slide_type": "subslide"
    }
   },
   "source": [
    "## Minimum Cover Constraints\n",
    "\n",
    "**Perhaps we could try to counter the adverse effects of the L1 term**\n",
    "\n",
    "...Without loosing all of its benefits\n",
    "\n",
    "* If the L1 weight is too low, the reguralizer has little effect\n",
    "* ...But if it is too high, the solver stops focusing on the count reconstruction\n",
    "\n",
    "> **What can we do?**"
   ]
  },
  {
   "cell_type": "markdown",
   "metadata": {
    "slideshow": {
     "slide_type": "fragment"
    }
   },
   "source": [
    "**One way to achieve this consists in introducing _new constraints_**\n",
    "\n",
    "* For example, we could require for each vertex\n",
    "* ...To recover a _minimum fraction_ $\\gamma$ of the total count, i.e.\n",
    "\n",
    "$$\n",
    "Vx \\geq \\gamma \\hat{v}\n",
    "$$"
   ]
  },
  {
   "cell_type": "markdown",
   "metadata": {
    "slideshow": {
     "slide_type": "subslide"
    }
   },
   "source": [
    "## Minimum Cover Constraints\n",
    "\n",
    "**The path formulation then becomes**\n",
    "\n",
    "$$\n",
    "\\arg \\min_{x} \\left\\{\\frac{1}{2} x^T P x + q^T x \\mid Vx \\geq \\gamma \\hat{v}, x \\geq 0 \\right\\}\n",
    "$$\n",
    "\n",
    "With $P = V^T V + E^T E$ and $q = -V^T \\hat{v} -E^T \\hat{e} + \\alpha$\n",
    "\n",
    "* We have incorporated both the L1 term (them $\\alpha$ term)\n",
    "* ...And the minimum cover constraints\n",
    "\n",
    "**When calling the OSQP solver**\n",
    "\n",
    "* We need to include $\\alpha$ in the definition of $q$\n",
    "* Then we need to extend the constraint matrix/vectors $A, l, u$\n",
    "* ...So as to account for $V x \\geq \\gamma \\hat{v}$"
   ]
  },
  {
   "cell_type": "markdown",
   "metadata": {
    "slideshow": {
     "slide_type": "subslide"
    }
   },
   "source": [
    "## Solving the Modified Path Formulation\n",
    "\n",
    "Let's try to solve the problem for $\\alpha = 5$ and $\\gamma = 0.8$"
   ]
  },
  {
   "cell_type": "code",
   "execution_count": 246,
   "metadata": {},
   "outputs": [
    {
     "name": "stdout",
     "output_type": "stream",
     "text": [
      "FLOW: PATH\n",
      "4.55: 3,0\n",
      "2.09: 0,1 > 1,1 > 2,0 > 3,1\n",
      "1.59: 0,1 > 1,1 > 2,0 > 3,2\n",
      "1.26: 1,0 > 2,0 > 3,1\n",
      "0.93: 0,1 > 1,1\n",
      "0.77: 0,1 > 1,2 > 2,2 > 3,2\n",
      "0.67: 1,0 > 2,0 > 3,2\n",
      "0.58: 0,1 > 1,1 > 2,0 > 3,0\n",
      "0.36: 0,1 > 1,1 > 2,2 > 3,2\n",
      "0.34: 1,2 > 2,2 > 3,2\n",
      "...\n",
      "RSSE: 1.57\n"
     ]
    }
   ],
   "source": [
    "rflows_n3, rpaths_n3 = util.solve_path_selection_full(tug, node_counts_n, arc_counts_n, alpha=1, verbose=0,\n",
    "                                                    min_vertex_cover=0.95)\n",
    "print('FLOW: PATH')\n",
    "util.print_solution(tug, rflows_n3, rpaths_n3, sort='descending', max_paths=10)\n",
    "sse = util.get_reconstruction_error(tug, rflows_n3, rpaths_n3, node_counts_n, arc_counts_n)\n",
    "print(f'RSSE: {np.sqrt(sse):.2f}')"
   ]
  },
  {
   "cell_type": "markdown",
   "metadata": {},
   "source": [
    "The RSSE is a bit better"
   ]
  },
  {
   "cell_type": "markdown",
   "metadata": {
    "slideshow": {
     "slide_type": "subslide"
    }
   },
   "source": [
    "## Solving the Modified Path Formulation\n",
    "\n",
    "**Let's see what happens with consolidation** "
   ]
  },
  {
   "cell_type": "code",
   "execution_count": 247,
   "metadata": {},
   "outputs": [
    {
     "name": "stdout",
     "output_type": "stream",
     "text": [
      "FLOW: PATH\n",
      "4.55: 3,0\n",
      "3.54: 0,1 > 1,1 > 2,0 > 3,1\n",
      "1.96: 1,0 > 2,0 > 3,2\n",
      "0.74: 0,1 > 1,2 > 2,2 > 3,2\n",
      "...\n"
     ]
    }
   ],
   "source": [
    "node_counts_r, arc_counts_r = util.get_counts(tug, rflows_n3, rpaths_n3)\n",
    "cflows, cpaths, cflag = util.consolidate_paths(tug, rpaths_n3, node_counts_r, arc_counts_r)\n",
    "print('FLOW: PATH')\n",
    "util.print_solution(tug, cflows, cpaths, sort='descending', max_paths=4)"
   ]
  },
  {
   "cell_type": "code",
   "execution_count": 248,
   "metadata": {},
   "outputs": [
    {
     "name": "stdout",
     "output_type": "stream",
     "text": [
      "9.58: 3,0\n",
      "5.45: 0,1 > 1,1 > 2,0 > 3,1\n",
      "2.52: 1,0 > 2,0 > 3,2\n",
      "1.23: 0,1 > 1,2 > 2,2 > 3,2\n"
     ]
    }
   ],
   "source": [
    "util.print_ground_truth(flows, paths, sort='descending')"
   ]
  },
  {
   "cell_type": "markdown",
   "metadata": {},
   "source": [
    "We still got the 4 main paths right, and the flows are _closer_ to their real value"
   ]
  },
  {
   "cell_type": "markdown",
   "metadata": {
    "slideshow": {
     "slide_type": "slide"
    }
   },
   "source": [
    "# Column Generation with Constraints in the Master\n",
    "\n",
    "Where we make our first acquaintance with the KKT conditions"
   ]
  },
  {
   "cell_type": "markdown",
   "metadata": {
    "slideshow": {
     "slide_type": "subslide"
    }
   },
   "source": [
    "## CG and Modified Path Formulation\n",
    "\n",
    "**The new formulation requires to add new constraints _in the master_**\n",
    "\n",
    "This is is a problem for Column Generation. Due to the constraints:\n",
    "\n",
    "* Just looking at the gradient may now be misleading\n",
    "* ...Since changing a variable may _force to change others_\n",
    "\n",
    "$$\n",
    "\\arg \\min_{x} \\left\\{\\frac{1}{2} x^T P x + q^T x \\mid V x \\geq \\gamma \\hat{v}, x \\geq 0 \\right\\}\n",
    "$$\n",
    "\n",
    "**We need a \"constraint-aware gradient\"**\n",
    "\n",
    "One way to achieve that is to rely on a _Lagrangian approach_\n",
    "\n",
    "* The idea is to turn the constraints in to _cost terms_\n",
    "* ...And control their satisfaction by _adjusting weights (multipliers)_\n",
    "\n",
    "We will discuss this approach in a general setting"
   ]
  },
  {
   "cell_type": "markdown",
   "metadata": {
    "slideshow": {
     "slide_type": "subslide"
    }
   },
   "source": [
    "## Lagrangian Approach\n",
    "\n",
    "**Let's consider an optimization in the form**\n",
    "\n",
    "$$\n",
    "\\text{argmin}_x \\left\\{ f(x) \\mid g(x) \\leq 0 \\right\\} \\quad\\quad \\mathbf{(P1)}\n",
    "$$\n",
    "\n",
    "where $x$ belongs to $\\mathbb{R}^n$ (i.e. this is numeric optimization)\n",
    "\n",
    "**From this, we can obtain a related, unconstrained optimization problem**\n",
    "\n",
    "...By moving the constraints in to the cost function, with _weights/multipliers $\\lambda$_:\n",
    "\n",
    "$$\n",
    "\\text{argmin}_x \\mathcal{L}(x, \\lambda) = f(x) + \\lambda^T g(x)  \\quad\\quad \\mathbf{(P2)}\n",
    "$$\n",
    "\n",
    "The term $\\mathcal{L}(x, \\lambda)$ is called a _Lagrangian_\n",
    "\n",
    "* If a constraint $g_i(x)$ is violated, $\\mathcal{L}$ gets a penalty w.r.t. $f(x)$\n",
    "* If a constraint $g_i(x)$ is satisfied, $\\mathcal{L}$ gets a reward w.r.t. $f(x)$\n",
    "\n",
    "**We want to solve (P1) by controlling the multipliers in (P2)** "
   ]
  },
  {
   "cell_type": "markdown",
   "metadata": {
    "slideshow": {
     "slide_type": "subslide"
    }
   },
   "source": [
    "## ...And KKT Conditions\n",
    "\n",
    "**Let's assume that $x$ is an _local_ optimum for the original problem**\n",
    "\n",
    "...If we want to reach it via (P2), the multipliers should be _just right_:\n",
    "\n",
    "* They should make the Lagrangian gradient null, i.e.\n",
    "$$\n",
    "\\nabla_x \\mathcal{L}(x, \\lambda) = 0\n",
    "$$\n",
    "* They should be non-negative (or a penalty may turn into a reward):\n",
    "$$\n",
    "\\lambda \\geq 0\n",
    "$$\n",
    "* They should be 0 for all satisfied constraints (or $\\mathcal{L}$ would be \"inflated\")\n",
    "$$\n",
    "\\lambda \\odot g(x) = 0\n",
    "$$\n",
    "Additionally, $x$ should be feasible, i.e. $g(x) \\leq 0$"
   ]
  },
  {
   "cell_type": "markdown",
   "metadata": {
    "slideshow": {
     "slide_type": "subslide"
    }
   },
   "source": [
    "## ...And KKT Conditions\n",
    "\n",
    "**If certain [constraint qualifications](https://en.wikipedia.org/wiki/Karush%E2%80%93Kuhn%E2%80%93Tucker_conditions#Regularity_conditions_(or_constraint_qualifications)) apply, these are _necessary conditions_**\n",
    "\n",
    "If a point $x$ is a local optimum, then we have:\n",
    "$$\\begin{align}\n",
    "\\nabla_x \\mathcal{L}(x, \\lambda) & = 0 & \\text{(null gradient)}\\\\\n",
    "\\lambda & \\geq 0  & \\text{(dual feasibility)} \\\\\n",
    "\\lambda \\odot g(x) & = 0  & \\text{(complementary slackness)}\\\\\n",
    "g(x) & \\leq 0  & \\text{(primal feasibility)}\n",
    "\\end{align}$$\n",
    "\n",
    "They are known as [Karush-Kuhn-Tucker (KKT) first order optimality conditions](https://en.wikipedia.org/wiki/Karush%E2%80%93Kuhn%E2%80%93Tucker_conditions)\n",
    "\n",
    "**Some comments:**\n",
    "\n",
    "* If $f(x)$ and $g(x)$ are convex, the KKT conditions _are also sufficient_\n",
    "* Equality constrains are equivalent to $g(x) \\leq 0$ and $-g(x) \\leq 0$\n",
    "* ...Which can be manipulated to obtain (slighly) simpler formulas"
   ]
  },
  {
   "cell_type": "markdown",
   "metadata": {
    "slideshow": {
     "slide_type": "subslide"
    }
   },
   "source": [
    "## How to Use the KKT Conditions\n",
    "\n",
    "**We can use the KKT conditions to _constrain_ $x$ to be an optimum**\n",
    "\n",
    "* This is useful in bi-level optimization, i.e.:\n",
    "\n",
    "$$\n",
    "\\text{argmax}_y \\left\\{ f(z) \\mid z = \\text{argmin}_{x \\in X} \\ g(x, y) \\right\\}\n",
    "$$\n",
    "\n",
    "* If $X$ and $g$ are convex, we can use the KKT conditions are constraints\n",
    "* ...And replace the optimization step $\\text{argmin}_{x \\in X} \\ g(x, y)$\n",
    "* Typically, this is useful only the conditions reduce to a simple form\n",
    "\n",
    "**We can use the KKT conditions to _check_ whether $x$ is a local optimum**\n",
    "\n",
    "...Assuming we are in convex optimization and constraint qualifications are met\n",
    "\n",
    "* If we fix $x$, then the KKT conditions reduce to a linear system\n",
    "* ...If we can solve it, then $x$ is a local optimum\n",
    "* ...And we have found the corresponding optimal multipliers"
   ]
  },
  {
   "cell_type": "markdown",
   "metadata": {
    "slideshow": {
     "slide_type": "subslide"
    }
   },
   "source": [
    "## How to Use the KKT Conditions in CG\n",
    "\n",
    "As a by-product of the previous use case...\n",
    "\n",
    "**If we know that $x$ is an optimum, we can _obtain_ the optimal $\\lambda$**\n",
    "\n",
    "This is the application we care about\n",
    "\n",
    "* If we have _constraints in the master_ problem\n",
    "* ...Rather than searching for variables such that:\n",
    "\n",
    "$$\n",
    "\\frac{\\partial}{\\partial x_j} f(x) < 0\n",
    "$$\n",
    "\n",
    "* ...We search instead for _variables such that_:\n",
    "\n",
    "$$\n",
    "\\frac{\\partial}{\\partial x_j} \\mathcal{L}(x, \\lambda) < 0\n",
    "$$\n",
    "\n",
    "\n"
   ]
  },
  {
   "cell_type": "markdown",
   "metadata": {
    "slideshow": {
     "slide_type": "subslide"
    }
   },
   "source": [
    "## CG for the Modified Path Formulation\n",
    "\n",
    "**The modified Path Formulation can be rewritten as:**\n",
    "\n",
    "$$\n",
    "\\arg \\min_{x} \\left\\{\\frac{1}{2} (\\|Vx - \\hat{v}\\|_2^2 + \\|Ex - \\hat{e}\\|_2^2) + \\alpha x \\mid Vx \\geq \\gamma \\hat{v}, x \\geq 0 \\right\\}\n",
    "$$\n",
    "\n",
    "From which we obtain:\n",
    "\n",
    "$$\n",
    "\\mathcal{L}(x, \\lambda, \\mu) = \\frac{1}{2} (\\|Vx - \\hat{v}\\|_2^2 + \\|Ex - \\hat{e}\\|_2^2) + \\alpha x + \\lambda^T (\\gamma \\hat{v} - Vx) - \\mu^T x\n",
    "$$\n",
    "\n",
    "And finally:\n",
    "\n",
    "$$\n",
    "\\frac{\\partial}{\\partial x_j} \\mathcal{L}(x, \\lambda, \\mu) = \\sum_{i=1}^{n_v} r^v_i V_{ij} + \\sum_{k=1}^{n_e} r^e_k E_{kj} - \\sum_{i=1}^{n_v} \\lambda_i V_{ij} + \\alpha - \\mu_j\n",
    "$$"
   ]
  },
  {
   "cell_type": "markdown",
   "metadata": {
    "slideshow": {
     "slide_type": "subslide"
    }
   },
   "source": [
    "## CG for the Modified Path Formulation\n",
    "\n",
    "**Therefore, we can modify our pricing problem so that we minimize:**\n",
    "\n",
    "$$\n",
    "\\sum_{i=1}^{n_v} (r^v_i - \\lambda_i) V_{ij} + \\sum_{k=1}^{n_e} r^e_k E_{kj} + \\alpha - \\mu_j\n",
    "$$\n",
    "\n",
    "Whenever we include an _arc_ $k$ in the path we are constructing:\n",
    "\n",
    "* We accumulate a gradient term equal to $r^e_k$\n",
    "* ...Exactly the same as before\n",
    "\n",
    "Whenever we include a _node_ $i$ in the path we are constructing:\n",
    "\n",
    "* We accumulate a gradient term equal to $r^v_i - \\lambda_i$\n",
    "* I.e. we subtract the multiplier associated to the $i$-th min cover constraint\n",
    "\n",
    "Then, for every path, we add $\\alpha$ and we subtract $\\mu_j$\n",
    "\n",
    "**But how do we get the multipliers?**"
   ]
  },
  {
   "cell_type": "markdown",
   "metadata": {
    "slideshow": {
     "slide_type": "subslide"
    }
   },
   "source": [
    "## CG for the Modified Path Formulation\n",
    "\n",
    "**Every $\\lambda_i$ is associated _to a (min cover) constraint_:**\n",
    "\n",
    "...And we have _all of those_ in our problem!\n",
    "\n",
    "* Hence, we could compute $\\lambda$ for the current optimal solution\n",
    "* In practice, the OSQP sover can _compute $\\lambda$ for us_\n",
    "\n",
    "**Every $\\mu_j$ is associated to _$x_j \\geq 0$ constraint_:**\n",
    "\n",
    "...And unfortunately we have those only for the paths in the pool\n",
    "\n",
    "* However, we know that $\\mu_j \\geq 0$ (by dual feasibility)\n",
    "* ...And we would have $\\mu_j > 0$ only having $x_j < 0$ was beneficial\n",
    "* ...But we are looking for paths with exactly the opposite property\n",
    "* Hence, we can just assume _$\\mu_j = 0$_ when generating new paths\n"
   ]
  },
  {
   "cell_type": "markdown",
   "metadata": {
    "slideshow": {
     "slide_type": "subslide"
    }
   },
   "source": [
    "# Full CG In Action\n",
    "\n",
    "This is Column Generation as it was meant to be"
   ]
  },
  {
   "cell_type": "markdown",
   "metadata": {
    "slideshow": {
     "slide_type": "subslide"
    }
   },
   "source": [
    "## Obtaining the Duals\n",
    "\n",
    "**We start by solving again the master problem**\n",
    "\n",
    "...But this time we retrieve the optimal (dual) multipliers\n",
    "\n",
    "* They are the same weights $\\lambda$ used in the ADMM\n",
    "* ...And can be obtain from the OSQP solution object"
   ]
  },
  {
   "cell_type": "code",
   "execution_count": 268,
   "metadata": {},
   "outputs": [
    {
     "name": "stdout",
     "output_type": "stream",
     "text": [
      "FLOW: PATH\n",
      "4.55: 3,0\n",
      "2.09: 0,1 > 1,1 > 2,0 > 3,1\n",
      "1.59: 0,1 > 1,1 > 2,0 > 3,2\n",
      "1.26: 1,0 > 2,0 > 3,1\n",
      "0.93: 0,1 > 1,1\n",
      "0.77: 0,1 > 1,2 > 2,2 > 3,2\n",
      "...\n",
      "RSSE: 1.57\n"
     ]
    }
   ],
   "source": [
    "mvc, alpha = 0.95, 1\n",
    "rflows_n3, rpaths_n3, nneg_duals3, mvc_duals3 = util.solve_path_selection_full(tug, node_counts_n, arc_counts_n,\n",
    "                                                    alpha=alpha, verbose=0, min_vertex_cover=0.95, return_duals=True)\n",
    "print('FLOW: PATH')\n",
    "util.print_solution(tug, rflows_n3, rpaths_n3, sort='descending', max_paths=6)\n",
    "sse = util.get_reconstruction_error(tug, rflows_n3, rpaths_n3, node_counts_n, arc_counts_n)\n",
    "print(f'RSSE: {np.sqrt(sse):.2f}')"
   ]
  },
  {
   "cell_type": "markdown",
   "metadata": {
    "slideshow": {
     "slide_type": "subslide"
    }
   },
   "source": [
    "## Inspecting the Duals\n",
    "\n",
    "**Let's inspect the multipliers for the minimum cover constraints**"
   ]
  },
  {
   "cell_type": "code",
   "execution_count": 269,
   "metadata": {},
   "outputs": [
    {
     "data": {
      "application/vnd.jupyter.widget-view+json": {
       "model_id": "604a2389b090432fb99f6509fd2f644b",
       "version_major": 2,
       "version_minor": 0
      },
      "text/html": [
       "\n",
       "            <div style=\"display: inline-block;\">\n",
       "                <div class=\"jupyter-widgets widget-label\" style=\"text-align: center;\">\n",
       "                    Figure\n",
       "                </div>\n",
       "                <img src='data:image/png;base64,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' width=900.0/>\n",
       "            </div>\n",
       "        "
      ],
      "text/plain": [
       "Canvas(toolbar=Toolbar(toolitems=[('Home', 'Reset original view', 'home', 'home'), ('Back', 'Back to previous …"
      ]
     },
     "metadata": {},
     "output_type": "display_data"
    }
   ],
   "source": [
    "util.plot_dict({i:v for i, v in enumerate(mvc_duals3)}, figsize=figsize)"
   ]
  },
  {
   "cell_type": "markdown",
   "metadata": {},
   "source": [
    "* Some values are null (when the constraint is satisfied with a slack)\n",
    "* ...And some (unexpectedly, are _negative_)"
   ]
  },
  {
   "cell_type": "markdown",
   "metadata": {
    "slideshow": {
     "slide_type": "subslide"
    }
   },
   "source": [
    "## Inspecting the Duals\n",
    "\n",
    "**Let's inspect the multipliers for the minimum cover constraints**"
   ]
  },
  {
   "cell_type": "code",
   "execution_count": 270,
   "metadata": {},
   "outputs": [
    {
     "data": {
      "application/vnd.jupyter.widget-view+json": {
       "model_id": "6a7758957dfb427fb1da2c375593fb0a",
       "version_major": 2,
       "version_minor": 0
      },
      "text/html": [
       "\n",
       "            <div style=\"display: inline-block;\">\n",
       "                <div class=\"jupyter-widgets widget-label\" style=\"text-align: center;\">\n",
       "                    Figure\n",
       "                </div>\n",
       "                <img src='data:image/png;base64,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' width=900.0/>\n",
       "            </div>\n",
       "        "
      ],
      "text/plain": [
       "Canvas(toolbar=Toolbar(toolitems=[('Home', 'Reset original view', 'home', 'home'), ('Back', 'Back to previous …"
      ]
     },
     "metadata": {},
     "output_type": "display_data"
    }
   ],
   "source": [
    "util.plot_dict({i:v for i, v in enumerate(mvc_duals3)}, figsize=figsize)"
   ]
  },
  {
   "cell_type": "markdown",
   "metadata": {},
   "source": [
    "* The reason is the constraint direction: we have $Vx \\geq \\gamma \\hat{v}$ and not $-Vx \\leq - \\gamma \\hat{v}$\n",
    "* We could fix by switching, the constraint direction..."
   ]
  },
  {
   "cell_type": "markdown",
   "metadata": {
    "slideshow": {
     "slide_type": "subslide"
    }
   },
   "source": [
    "## Inspecting the Duals\n",
    "\n",
    "**Let's inspect the multipliers for the minimum cover constraints**"
   ]
  },
  {
   "cell_type": "code",
   "execution_count": 271,
   "metadata": {},
   "outputs": [
    {
     "data": {
      "application/vnd.jupyter.widget-view+json": {
       "model_id": "0c1a0e5f68394fc5ab9ba78498751257",
       "version_major": 2,
       "version_minor": 0
      },
      "text/html": [
       "\n",
       "            <div style=\"display: inline-block;\">\n",
       "                <div class=\"jupyter-widgets widget-label\" style=\"text-align: center;\">\n",
       "                    Figure\n",
       "                </div>\n",
       "                <img src='data:image/png;base64,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' width=900.0/>\n",
       "            </div>\n",
       "        "
      ],
      "text/plain": [
       "Canvas(toolbar=Toolbar(toolitems=[('Home', 'Reset original view', 'home', 'home'), ('Back', 'Back to previous …"
      ]
     },
     "metadata": {},
     "output_type": "display_data"
    }
   ],
   "source": [
    "util.plot_dict({i:v for i, v in enumerate(mvc_duals3)}, figsize=figsize)"
   ]
  },
  {
   "cell_type": "markdown",
   "metadata": {},
   "source": [
    "* ...Or by reworking the change though the KKT formulas\n",
    "* In our case, when we include a node we _add $\\lambda_i$ instead of subtracting it_"
   ]
  },
  {
   "cell_type": "markdown",
   "metadata": {
    "slideshow": {
     "slide_type": "subslide"
    }
   },
   "source": [
    "## Checking the Pricing Solution\n",
    "\n",
    "**Our pricing problem code can handle both the duals and the L1 weight**\n",
    "\n",
    "We modify node residuals by adding the cover multipliers:\n",
    "\n",
    "```python\n",
    "if cover_duals is not None:\n",
    "    for i, v in enumerate(tug.vs):\n",
    "        nk = v['time'], v['index_o']\n",
    "        nres[nk] += cover_duals[i]\n",
    "```\n",
    "\n",
    "* This provides an _incentive_ to select paths\n",
    "* ...That traverse a node whose cover constraint is satisfied with a slack\n",
    "\n",
    "And we add the constant $\\alpha$ to the final path weights:\n",
    "\n",
    "```python\n",
    "    spw = [v + alpha for v in spw]\n",
    "\n",
    "```\n",
    "\n",
    "* This a uniform _disincentive_ so select paths\n",
    "\n",
    "**The shortest paths problem is solved as usual**"
   ]
  },
  {
   "cell_type": "markdown",
   "metadata": {
    "slideshow": {
     "slide_type": "subslide"
    }
   },
   "source": [
    "## Running the CG Approach\n",
    "\n",
    "**We can now run the CG approach**"
   ]
  },
  {
   "cell_type": "code",
   "execution_count": 280,
   "metadata": {},
   "outputs": [
    {
     "name": "stdout",
     "output_type": "stream",
     "text": [
      "It.0, sse: 89.56, #paths: 26, new: 10\n",
      "It.1, sse: 13.30, #paths: 36, new: 10\n",
      "It.2, sse: 9.91, #paths: 45, new: 9\n",
      "It.3, sse: 4.02, #paths: 51, new: 6\n",
      "It.4, sse: 2.49, #paths: 52, new: 1\n",
      "It.5, sse: 2.49, #paths: 54, new: 2\n",
      "It.6, sse: 2.49, #paths: 55, new: 1\n",
      "It.7, sse: 2.47, #paths: 55, new: 0\n",
      "RSSE: 1.57\n"
     ]
    }
   ],
   "source": [
    "rflows_cg, rpaths_cg = util.trajectory_extraction_cg(tug, node_counts_n, arc_counts_n,\n",
    "                                    alpha=alpha, min_vertex_cover=mvc, max_iter=30,\n",
    "                                    verbose=1, max_paths_per_iter=10)\n",
    "sse = util.get_reconstruction_error(tug, rflows_cg, rpaths_cg, node_counts_n, arc_counts_n)\n",
    "print(f'RSSE: {np.sqrt(sse):.2f}')"
   ]
  },
  {
   "cell_type": "markdown",
   "metadata": {},
   "source": [
    "* Indeed,  we obtain the same RSSE as approach using all paths\n",
    "\n",
    "**We now know how to use CG with constraints in the master problem**\n",
    "\n",
    "...Which significantly extends the applicability of the method"
   ]
  }
 ],
 "metadata": {
  "celltoolbar": "Slideshow",
  "kernelspec": {
   "display_name": "Python 3",
   "language": "python",
   "name": "python3"
  },
  "language_info": {
   "codemirror_mode": {
    "name": "ipython",
    "version": 3
   },
   "file_extension": ".py",
   "mimetype": "text/x-python",
   "name": "python",
   "nbconvert_exporter": "python",
   "pygments_lexer": "ipython3",
   "version": "3.6.9"
  },
  "rise": {
   "center": false,
   "transition": "fade"
  }
 },
 "nbformat": 4,
 "nbformat_minor": 4
}
