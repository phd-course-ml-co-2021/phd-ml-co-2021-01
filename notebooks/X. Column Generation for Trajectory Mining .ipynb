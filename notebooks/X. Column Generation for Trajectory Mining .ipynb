{
 "cells": [
  {
   "cell_type": "code",
   "execution_count": 25,
   "metadata": {
    "slideshow": {
     "slide_type": "skip"
    }
   },
   "outputs": [
    {
     "name": "stdout",
     "output_type": "stream",
     "text": [
      "The autoreload extension is already loaded. To reload it, use:\n",
      "  %reload_ext autoreload\n"
     ]
    }
   ],
   "source": [
    "# ============================================================\n",
    "# Notebook setup\n",
    "# ============================================================\n",
    "\n",
    "%load_ext autoreload\n",
    "%autoreload 2\n",
    "\n",
    "# Control figure size\n",
    "interactive_figures = True\n",
    "if interactive_figures:\n",
    "    # Normal behavior\n",
    "    %matplotlib widget\n",
    "    figsize=(9, 3)\n",
    "else:\n",
    "    # PDF export behavior\n",
    "    figsize=(14, 5)\n",
    "\n",
    "from matplotlib import pyplot as plt\n",
    "import numpy as np\n",
    "from util import util\n",
    "import igraph as ig\n",
    "    \n",
    "#from util import cst\n",
    "#import numpy as np\n",
    "#from matplotlib import pyplot as plt\n",
    "#import pandas as pd\n",
    "#from tensorflow import keras\n",
    "#from tensorflow.keras import layers, callbacks\n",
    "#from tensorflow_probability import distributions\n",
    "#from sklearn.metrics import r2_score, mean_squared_error\n",
    "#from tensorflow.keras import backend as k\n",
    "\n",
    "# Load data\n",
    "#data_folder = '/app/data'\n",
    "#data = cst.load_cmapss_data(data_folder)\n",
    "\n",
    "# Identify input columns\n",
    "#dt_in = list(data.columns[3:-1])"
   ]
  },
  {
   "cell_type": "markdown",
   "metadata": {
    "slideshow": {
     "slide_type": "slide"
    }
   },
   "source": [
    "# Plan"
   ]
  },
  {
   "cell_type": "markdown",
   "metadata": {},
   "source": [
    "## Plan\n",
    "\n",
    "* Mining navigation paths\n",
    "  - Count visited pages\n",
    "  - Count visited links\n",
    "* V1:\n",
    "  - Loops allowed\n",
    "  - Pricing via poly-time algo\n",
    "* V2:\n",
    "  - No loops\n",
    "  - Pricing via CP-SAT?\n",
    "* Master\n",
    "  - Reconstruct available counts\n",
    "  - V1: unconstrained\n",
    "  - V2: minimum cover for all nodes"
   ]
  },
  {
   "cell_type": "code",
   "execution_count": 26,
   "metadata": {},
   "outputs": [
    {
     "data": {
      "image/svg+xml": [
       "<?xml version=\"1.0\" encoding=\"UTF-8\"?>\n",
       "<svg xmlns=\"http://www.w3.org/2000/svg\" xmlns:xlink=\"http://www.w3.org/1999/xlink\" width=\"700pt\" height=\"300pt\" viewBox=\"0 0 700 300\" version=\"1.1\">\n",
       "<defs>\n",
       "<g>\n",
       "<symbol overflow=\"visible\" id=\"glyph0-0\">\n",
       "<path style=\"stroke:none;\" d=\"M 0.5 1.765625 L 0.5 -7.046875 L 5.5 -7.046875 L 5.5 1.765625 Z M 1.0625 1.21875 L 4.9375 1.21875 L 4.9375 -6.484375 L 1.0625 -6.484375 Z M 1.0625 1.21875 \"/>\n",
       "</symbol>\n",
       "<symbol overflow=\"visible\" id=\"glyph0-1\">\n",
       "<path style=\"stroke:none;\" d=\"M 3.171875 -6.640625 C 2.671875 -6.640625 2.289062 -6.390625 2.03125 -5.890625 C 1.78125 -5.390625 1.65625 -4.640625 1.65625 -3.640625 C 1.65625 -2.640625 1.78125 -1.890625 2.03125 -1.390625 C 2.289062 -0.890625 2.671875 -0.640625 3.171875 -0.640625 C 3.691406 -0.640625 4.078125 -0.890625 4.328125 -1.390625 C 4.585938 -1.890625 4.71875 -2.640625 4.71875 -3.640625 C 4.71875 -4.640625 4.585938 -5.390625 4.328125 -5.890625 C 4.078125 -6.390625 3.691406 -6.640625 3.171875 -6.640625 Z M 3.171875 -7.421875 C 3.992188 -7.421875 4.617188 -7.097656 5.046875 -6.453125 C 5.484375 -5.804688 5.703125 -4.867188 5.703125 -3.640625 C 5.703125 -2.410156 5.484375 -1.472656 5.046875 -0.828125 C 4.617188 -0.179688 3.992188 0.140625 3.171875 0.140625 C 2.359375 0.140625 1.734375 -0.179688 1.296875 -0.828125 C 0.867188 -1.472656 0.65625 -2.410156 0.65625 -3.640625 C 0.65625 -4.867188 0.867188 -5.804688 1.296875 -6.453125 C 1.734375 -7.097656 2.359375 -7.421875 3.171875 -7.421875 Z M 3.171875 -7.421875 \"/>\n",
       "</symbol>\n",
       "<symbol overflow=\"visible\" id=\"glyph0-2\">\n",
       "<path style=\"stroke:none;\" d=\"M 1.234375 -0.828125 L 2.859375 -0.828125 L 2.859375 -6.390625 L 1.09375 -6.046875 L 1.09375 -6.9375 L 2.84375 -7.296875 L 3.828125 -7.296875 L 3.828125 -0.828125 L 5.4375 -0.828125 L 5.4375 0 L 1.234375 0 Z M 1.234375 -0.828125 \"/>\n",
       "</symbol>\n",
       "<symbol overflow=\"visible\" id=\"glyph0-3\">\n",
       "<path style=\"stroke:none;\" d=\"M 1.921875 -0.828125 L 5.359375 -0.828125 L 5.359375 0 L 0.734375 0 L 0.734375 -0.828125 C 1.109375 -1.210938 1.617188 -1.734375 2.265625 -2.390625 C 2.910156 -3.046875 3.316406 -3.46875 3.484375 -3.65625 C 3.796875 -4.007812 4.015625 -4.304688 4.140625 -4.546875 C 4.265625 -4.796875 4.328125 -5.039062 4.328125 -5.28125 C 4.328125 -5.664062 4.191406 -5.976562 3.921875 -6.21875 C 3.648438 -6.46875 3.296875 -6.59375 2.859375 -6.59375 C 2.546875 -6.59375 2.21875 -6.535156 1.875 -6.421875 C 1.539062 -6.316406 1.175781 -6.15625 0.78125 -5.9375 L 0.78125 -6.9375 C 1.175781 -7.09375 1.546875 -7.210938 1.890625 -7.296875 C 2.234375 -7.378906 2.550781 -7.421875 2.84375 -7.421875 C 3.59375 -7.421875 4.191406 -7.234375 4.640625 -6.859375 C 5.097656 -6.484375 5.328125 -5.976562 5.328125 -5.34375 C 5.328125 -5.039062 5.269531 -4.753906 5.15625 -4.484375 C 5.039062 -4.222656 4.835938 -3.910156 4.546875 -3.546875 C 4.460938 -3.453125 4.203125 -3.175781 3.765625 -2.71875 C 3.328125 -2.269531 2.710938 -1.640625 1.921875 -0.828125 Z M 1.921875 -0.828125 \"/>\n",
       "</symbol>\n",
       "<symbol overflow=\"visible\" id=\"glyph0-4\">\n",
       "<path style=\"stroke:none;\" d=\"M 4.0625 -3.9375 C 4.53125 -3.832031 4.894531 -3.617188 5.15625 -3.296875 C 5.425781 -2.984375 5.5625 -2.59375 5.5625 -2.125 C 5.5625 -1.40625 5.3125 -0.847656 4.8125 -0.453125 C 4.320312 -0.0546875 3.617188 0.140625 2.703125 0.140625 C 2.398438 0.140625 2.085938 0.109375 1.765625 0.046875 C 1.441406 -0.015625 1.109375 -0.101562 0.765625 -0.21875 L 0.765625 -1.171875 C 1.035156 -1.015625 1.332031 -0.894531 1.65625 -0.8125 C 1.988281 -0.726562 2.332031 -0.6875 2.6875 -0.6875 C 3.300781 -0.6875 3.769531 -0.804688 4.09375 -1.046875 C 4.414062 -1.296875 4.578125 -1.65625 4.578125 -2.125 C 4.578125 -2.550781 4.425781 -2.882812 4.125 -3.125 C 3.820312 -3.363281 3.40625 -3.484375 2.875 -3.484375 L 2.015625 -3.484375 L 2.015625 -4.296875 L 2.90625 -4.296875 C 3.394531 -4.296875 3.765625 -4.394531 4.015625 -4.59375 C 4.273438 -4.789062 4.40625 -5.070312 4.40625 -5.4375 C 4.40625 -5.800781 4.269531 -6.082031 4 -6.28125 C 3.738281 -6.488281 3.363281 -6.59375 2.875 -6.59375 C 2.601562 -6.59375 2.3125 -6.5625 2 -6.5 C 1.6875 -6.445312 1.347656 -6.359375 0.984375 -6.234375 L 0.984375 -7.109375 C 1.359375 -7.210938 1.707031 -7.289062 2.03125 -7.34375 C 2.363281 -7.394531 2.671875 -7.421875 2.953125 -7.421875 C 3.703125 -7.421875 4.296875 -7.25 4.734375 -6.90625 C 5.171875 -6.570312 5.390625 -6.113281 5.390625 -5.53125 C 5.390625 -5.125 5.273438 -4.78125 5.046875 -4.5 C 4.816406 -4.226562 4.488281 -4.039062 4.0625 -3.9375 Z M 4.0625 -3.9375 \"/>\n",
       "</symbol>\n",
       "</g>\n",
       "</defs>\n",
       "<g id=\"surface26\">\n",
       "<rect x=\"0\" y=\"0\" width=\"700\" height=\"300\" style=\"fill:rgb(100%,100%,100%);fill-opacity:1;stroke:none;\"/>\n",
       "<path style=\"fill:none;stroke-width:1;stroke-linecap:butt;stroke-linejoin:miter;stroke:rgb(26.666667%,26.666667%,26.666667%);stroke-opacity:1;stroke-miterlimit:10;\" d=\"M 489.671875 134.3125 C 489.671875 146.738281 479.597656 156.8125 467.171875 156.8125 C 454.746094 156.8125 444.671875 146.738281 444.671875 134.3125 C 444.671875 121.882812 454.746094 111.8125 467.171875 111.8125 C 479.597656 111.8125 489.671875 121.882812 489.671875 134.3125 \"/>\n",
       "<path style=\"fill:none;stroke-width:1;stroke-linecap:butt;stroke-linejoin:miter;stroke:rgb(26.666667%,26.666667%,26.666667%);stroke-opacity:1;stroke-miterlimit:10;\" d=\"M 451.261719 150.222656 C 475.089844 189.070312 510.703125 206.910156 552.957031 190.5 \"/>\n",
       "<path style=\" stroke:none;fill-rule:nonzero;fill:rgb(26.666667%,26.666667%,26.666667%);fill-opacity:1;\" d=\"M 566.257812 185.335938 L 554.636719 194.824219 L 551.28125 186.179688 L 566.257812 185.335938 \"/>\n",
       "<path style=\"fill:none;stroke-width:1;stroke-linecap:butt;stroke-linejoin:miter;stroke:rgb(26.666667%,26.666667%,26.666667%);stroke-opacity:1;stroke-miterlimit:10;\" d=\"M 618.410156 164.089844 C 618.410156 176.515625 608.335938 186.589844 595.910156 186.589844 C 583.484375 186.589844 573.410156 176.515625 573.410156 164.089844 C 573.410156 151.664062 583.484375 141.589844 595.910156 141.589844 C 608.335938 141.589844 618.410156 151.664062 618.410156 164.089844 \"/>\n",
       "<path style=\"fill:none;stroke-width:1;stroke-linecap:butt;stroke-linejoin:miter;stroke:rgb(26.666667%,26.666667%,26.666667%);stroke-opacity:1;stroke-miterlimit:10;\" d=\"M 451.261719 150.222656 L 149.199219 170.636719 \"/>\n",
       "<path style=\" stroke:none;fill-rule:nonzero;fill:rgb(26.666667%,26.666667%,26.666667%);fill-opacity:1;\" d=\"M 134.964844 171.597656 L 148.886719 166.011719 L 149.511719 175.261719 L 134.964844 171.597656 \"/>\n",
       "<path style=\"fill:none;stroke-width:1;stroke-linecap:butt;stroke-linejoin:miter;stroke:rgb(26.666667%,26.666667%,26.666667%);stroke-opacity:1;stroke-miterlimit:10;\" d=\"M 158.410156 156.699219 C 158.410156 169.125 148.335938 179.199219 135.910156 179.199219 C 123.484375 179.199219 113.410156 169.125 113.410156 156.699219 C 113.410156 144.273438 123.484375 134.199219 135.910156 134.199219 C 148.335938 134.199219 158.410156 144.273438 158.410156 156.699219 \"/>\n",
       "<path style=\"fill:none;stroke-width:1;stroke-linecap:butt;stroke-linejoin:miter;stroke:rgb(26.666667%,26.666667%,26.666667%);stroke-opacity:1;stroke-miterlimit:10;\" d=\"M 451.261719 150.222656 L 540.242188 127.300781 \"/>\n",
       "<path style=\" stroke:none;fill-rule:nonzero;fill:rgb(26.666667%,26.666667%,26.666667%);fill-opacity:1;\" d=\"M 554.058594 123.742188 L 541.398438 131.789062 L 539.085938 122.8125 L 554.058594 123.742188 \"/>\n",
       "<path style=\"fill:none;stroke-width:1;stroke-linecap:butt;stroke-linejoin:miter;stroke:rgb(26.666667%,26.666667%,26.666667%);stroke-opacity:1;stroke-miterlimit:10;\" d=\"M 606.992188 104.089844 C 606.992188 116.515625 596.917969 126.589844 584.492188 126.589844 C 572.066406 126.589844 561.992188 116.515625 561.992188 104.089844 C 561.992188 91.664062 572.066406 81.589844 584.492188 81.589844 C 596.917969 81.589844 606.992188 91.664062 606.992188 104.089844 \"/>\n",
       "<path style=\"fill:none;stroke-width:1;stroke-linecap:butt;stroke-linejoin:miter;stroke:rgb(26.666667%,26.666667%,26.666667%);stroke-opacity:1;stroke-miterlimit:10;\" d=\"M 580 180 C 556.171875 141.148438 520.558594 123.308594 478.304688 139.71875 \"/>\n",
       "<path style=\" stroke:none;fill-rule:nonzero;fill:rgb(26.666667%,26.666667%,26.666667%);fill-opacity:1;\" d=\"M 465.007812 144.882812 L 476.628906 135.398438 L 479.984375 144.039062 L 465.007812 144.882812 \"/>\n",
       "<path style=\"fill:none;stroke-width:1;stroke-linecap:butt;stroke-linejoin:miter;stroke:rgb(26.666667%,26.666667%,26.666667%);stroke-opacity:1;stroke-miterlimit:10;\" d=\"M 580 180 L 149.261719 173.082031 \"/>\n",
       "<path style=\" stroke:none;fill-rule:nonzero;fill:rgb(26.666667%,26.666667%,26.666667%);fill-opacity:1;\" d=\"M 135 172.851562 L 149.335938 168.445312 L 149.1875 177.714844 L 135 172.851562 \"/>\n",
       "<path style=\"fill-rule:nonzero;fill:rgb(55.294118%,82.745098%,78.039216%);fill-opacity:1;stroke-width:1;stroke-linecap:butt;stroke-linejoin:miter;stroke:rgb(0%,0%,0%);stroke-opacity:1;stroke-miterlimit:10;\" d=\"M 466.261719 150.222656 C 466.261719 158.503906 459.546875 165.222656 451.261719 165.222656 C 442.976562 165.222656 436.261719 158.503906 436.261719 150.222656 C 436.261719 141.9375 442.976562 135.222656 451.261719 135.222656 C 459.546875 135.222656 466.261719 141.9375 466.261719 150.222656 \"/>\n",
       "<path style=\"fill-rule:nonzero;fill:rgb(100%,100%,70.196078%);fill-opacity:1;stroke-width:1;stroke-linecap:butt;stroke-linejoin:miter;stroke:rgb(0%,0%,0%);stroke-opacity:1;stroke-miterlimit:10;\" d=\"M 595 180 C 595 188.285156 588.285156 195 580 195 C 571.714844 195 565 188.285156 565 180 C 565 171.714844 571.714844 165 580 165 C 588.285156 165 595 171.714844 595 180 \"/>\n",
       "<path style=\"fill-rule:nonzero;fill:rgb(74.509804%,72.941176%,85.490196%);fill-opacity:1;stroke-width:1;stroke-linecap:butt;stroke-linejoin:miter;stroke:rgb(0%,0%,0%);stroke-opacity:1;stroke-miterlimit:10;\" d=\"M 135 172.609375 C 135 180.894531 128.285156 187.609375 120 187.609375 C 111.714844 187.609375 105 180.894531 105 172.609375 C 105 164.324219 111.714844 157.609375 120 157.609375 C 128.285156 157.609375 135 164.324219 135 172.609375 \"/>\n",
       "<path style=\"fill-rule:nonzero;fill:rgb(98.431373%,50.196078%,44.705882%);fill-opacity:1;stroke-width:1;stroke-linecap:butt;stroke-linejoin:miter;stroke:rgb(0%,0%,0%);stroke-opacity:1;stroke-miterlimit:10;\" d=\"M 583.582031 120 C 583.582031 128.285156 576.867188 135 568.582031 135 C 560.300781 135 553.582031 128.285156 553.582031 120 C 553.582031 111.714844 560.300781 105 568.582031 105 C 576.867188 105 583.582031 111.714844 583.582031 120 \"/>\n",
       "<g style=\"fill:rgb(0%,0%,0%);fill-opacity:1;\">\n",
       "  <use xlink:href=\"#glyph0-1\" x=\"448.085938\" y=\"155.109375\"/>\n",
       "</g>\n",
       "<g style=\"fill:rgb(0%,0%,0%);fill-opacity:1;\">\n",
       "  <use xlink:href=\"#glyph0-2\" x=\"576.730469\" y=\"184.824219\"/>\n",
       "</g>\n",
       "<g style=\"fill:rgb(0%,0%,0%);fill-opacity:1;\">\n",
       "  <use xlink:href=\"#glyph0-3\" x=\"116.953125\" y=\"177.5\"/>\n",
       "</g>\n",
       "<g style=\"fill:rgb(0%,0%,0%);fill-opacity:1;\">\n",
       "  <use xlink:href=\"#glyph0-4\" x=\"565.421875\" y=\"124.890625\"/>\n",
       "</g>\n",
       "</g>\n",
       "</svg>\n"
      ],
      "text/plain": [
       "<igraph.drawing.Plot at 0x7f76ded70978>"
      ]
     },
     "execution_count": 26,
     "metadata": {
      "image/svg+xml": {
       "isolated": true
      }
     },
     "output_type": "execute_result"
    }
   ],
   "source": [
    "from util import util\n",
    "import igraph as ig\n",
    "g = util.build_website_graph(nnodes=4, rate=3, extra_arc_fraction=0.25, seed=42)\n",
    "root = g.vs[0]\n",
    "\n",
    "#util.display_graph(g)\n",
    "ig.plot(g, **util.get_visual_style(g), bbox=(700, 300), margin=120)"
   ]
  },
  {
   "cell_type": "code",
   "execution_count": 27,
   "metadata": {},
   "outputs": [
    {
     "data": {
      "text/plain": [
       "(7.497988950401423, [(4, 0), (5, 1)])"
      ]
     },
     "execution_count": 27,
     "metadata": {},
     "output_type": "execute_result"
    }
   ],
   "source": [
    "util.route_random_flow(root, min_units=1, max_units=10, eoh=10, max_len=7)"
   ]
  },
  {
   "cell_type": "code",
   "execution_count": 28,
   "metadata": {
    "scrolled": false
   },
   "outputs": [
    {
     "name": "stdout",
     "output_type": "stream",
     "text": [
      "9.58: 3,0\n",
      "5.45: 0,1 > 1,1 > 2,0 > 3,1\n",
      "2.52: 1,0 > 2,0 > 3,2\n",
      "1.23: 0,1 > 1,2 > 2,2 > 3,2\n"
     ]
    }
   ],
   "source": [
    "eoh = 4\n",
    "flows, paths = util.build_random_paths(g, min_paths=3, max_paths=5,\n",
    "                                                           min_units=1, max_units=10, eoh=eoh,\n",
    "                                                           seed=10)\n",
    "util.print_ground_truth(flows, paths, sort='descending')"
   ]
  },
  {
   "cell_type": "code",
   "execution_count": 29,
   "metadata": {},
   "outputs": [
    {
     "data": {
      "image/svg+xml": [
       "<?xml version=\"1.0\" encoding=\"UTF-8\"?>\n",
       "<svg xmlns=\"http://www.w3.org/2000/svg\" xmlns:xlink=\"http://www.w3.org/1999/xlink\" width=\"700pt\" height=\"300pt\" viewBox=\"0 0 700 300\" version=\"1.1\">\n",
       "<defs>\n",
       "<g>\n",
       "<symbol overflow=\"visible\" id=\"glyph0-0\">\n",
       "<path style=\"stroke:none;\" d=\"M 0.5 1.765625 L 0.5 -7.046875 L 5.5 -7.046875 L 5.5 1.765625 Z M 1.0625 1.21875 L 4.9375 1.21875 L 4.9375 -6.484375 L 1.0625 -6.484375 Z M 1.0625 1.21875 \"/>\n",
       "</symbol>\n",
       "<symbol overflow=\"visible\" id=\"glyph0-1\">\n",
       "<path style=\"stroke:none;\" d=\"M 3.171875 -6.640625 C 2.671875 -6.640625 2.289062 -6.390625 2.03125 -5.890625 C 1.78125 -5.390625 1.65625 -4.640625 1.65625 -3.640625 C 1.65625 -2.640625 1.78125 -1.890625 2.03125 -1.390625 C 2.289062 -0.890625 2.671875 -0.640625 3.171875 -0.640625 C 3.691406 -0.640625 4.078125 -0.890625 4.328125 -1.390625 C 4.585938 -1.890625 4.71875 -2.640625 4.71875 -3.640625 C 4.71875 -4.640625 4.585938 -5.390625 4.328125 -5.890625 C 4.078125 -6.390625 3.691406 -6.640625 3.171875 -6.640625 Z M 3.171875 -7.421875 C 3.992188 -7.421875 4.617188 -7.097656 5.046875 -6.453125 C 5.484375 -5.804688 5.703125 -4.867188 5.703125 -3.640625 C 5.703125 -2.410156 5.484375 -1.472656 5.046875 -0.828125 C 4.617188 -0.179688 3.992188 0.140625 3.171875 0.140625 C 2.359375 0.140625 1.734375 -0.179688 1.296875 -0.828125 C 0.867188 -1.472656 0.65625 -2.410156 0.65625 -3.640625 C 0.65625 -4.867188 0.867188 -5.804688 1.296875 -6.453125 C 1.734375 -7.097656 2.359375 -7.421875 3.171875 -7.421875 Z M 3.171875 -7.421875 \"/>\n",
       "</symbol>\n",
       "<symbol overflow=\"visible\" id=\"glyph0-2\">\n",
       "<path style=\"stroke:none;\" d=\"M 1.171875 -1.234375 L 2.203125 -1.234375 L 2.203125 -0.40625 L 1.40625 1.15625 L 0.765625 1.15625 L 1.171875 -0.40625 Z M 1.171875 -1.234375 \"/>\n",
       "</symbol>\n",
       "<symbol overflow=\"visible\" id=\"glyph0-3\">\n",
       "<path style=\"stroke:none;\" d=\"M 1.234375 -0.828125 L 2.859375 -0.828125 L 2.859375 -6.390625 L 1.09375 -6.046875 L 1.09375 -6.9375 L 2.84375 -7.296875 L 3.828125 -7.296875 L 3.828125 -0.828125 L 5.4375 -0.828125 L 5.4375 0 L 1.234375 0 Z M 1.234375 -0.828125 \"/>\n",
       "</symbol>\n",
       "<symbol overflow=\"visible\" id=\"glyph0-4\">\n",
       "<path style=\"stroke:none;\" d=\"M 1.921875 -0.828125 L 5.359375 -0.828125 L 5.359375 0 L 0.734375 0 L 0.734375 -0.828125 C 1.109375 -1.210938 1.617188 -1.734375 2.265625 -2.390625 C 2.910156 -3.046875 3.316406 -3.46875 3.484375 -3.65625 C 3.796875 -4.007812 4.015625 -4.304688 4.140625 -4.546875 C 4.265625 -4.796875 4.328125 -5.039062 4.328125 -5.28125 C 4.328125 -5.664062 4.191406 -5.976562 3.921875 -6.21875 C 3.648438 -6.46875 3.296875 -6.59375 2.859375 -6.59375 C 2.546875 -6.59375 2.21875 -6.535156 1.875 -6.421875 C 1.539062 -6.316406 1.175781 -6.15625 0.78125 -5.9375 L 0.78125 -6.9375 C 1.175781 -7.09375 1.546875 -7.210938 1.890625 -7.296875 C 2.234375 -7.378906 2.550781 -7.421875 2.84375 -7.421875 C 3.59375 -7.421875 4.191406 -7.234375 4.640625 -6.859375 C 5.097656 -6.484375 5.328125 -5.976562 5.328125 -5.34375 C 5.328125 -5.039062 5.269531 -4.753906 5.15625 -4.484375 C 5.039062 -4.222656 4.835938 -3.910156 4.546875 -3.546875 C 4.460938 -3.453125 4.203125 -3.175781 3.765625 -2.71875 C 3.328125 -2.269531 2.710938 -1.640625 1.921875 -0.828125 Z M 1.921875 -0.828125 \"/>\n",
       "</symbol>\n",
       "<symbol overflow=\"visible\" id=\"glyph0-5\">\n",
       "<path style=\"stroke:none;\" d=\"M 4.0625 -3.9375 C 4.53125 -3.832031 4.894531 -3.617188 5.15625 -3.296875 C 5.425781 -2.984375 5.5625 -2.59375 5.5625 -2.125 C 5.5625 -1.40625 5.3125 -0.847656 4.8125 -0.453125 C 4.320312 -0.0546875 3.617188 0.140625 2.703125 0.140625 C 2.398438 0.140625 2.085938 0.109375 1.765625 0.046875 C 1.441406 -0.015625 1.109375 -0.101562 0.765625 -0.21875 L 0.765625 -1.171875 C 1.035156 -1.015625 1.332031 -0.894531 1.65625 -0.8125 C 1.988281 -0.726562 2.332031 -0.6875 2.6875 -0.6875 C 3.300781 -0.6875 3.769531 -0.804688 4.09375 -1.046875 C 4.414062 -1.296875 4.578125 -1.65625 4.578125 -2.125 C 4.578125 -2.550781 4.425781 -2.882812 4.125 -3.125 C 3.820312 -3.363281 3.40625 -3.484375 2.875 -3.484375 L 2.015625 -3.484375 L 2.015625 -4.296875 L 2.90625 -4.296875 C 3.394531 -4.296875 3.765625 -4.394531 4.015625 -4.59375 C 4.273438 -4.789062 4.40625 -5.070312 4.40625 -5.4375 C 4.40625 -5.800781 4.269531 -6.082031 4 -6.28125 C 3.738281 -6.488281 3.363281 -6.59375 2.875 -6.59375 C 2.601562 -6.59375 2.3125 -6.5625 2 -6.5 C 1.6875 -6.445312 1.347656 -6.359375 0.984375 -6.234375 L 0.984375 -7.109375 C 1.359375 -7.210938 1.707031 -7.289062 2.03125 -7.34375 C 2.363281 -7.394531 2.671875 -7.421875 2.953125 -7.421875 C 3.703125 -7.421875 4.296875 -7.25 4.734375 -6.90625 C 5.171875 -6.570312 5.390625 -6.113281 5.390625 -5.53125 C 5.390625 -5.125 5.273438 -4.78125 5.046875 -4.5 C 4.816406 -4.226562 4.488281 -4.039062 4.0625 -3.9375 Z M 4.0625 -3.9375 \"/>\n",
       "</symbol>\n",
       "</g>\n",
       "</defs>\n",
       "<g id=\"surface32\">\n",
       "<rect x=\"0\" y=\"0\" width=\"700\" height=\"300\" style=\"fill:rgb(100%,100%,100%);fill-opacity:1;stroke:none;\"/>\n",
       "<path style=\"fill:none;stroke-width:1;stroke-linecap:butt;stroke-linejoin:miter;stroke:rgb(26.666667%,26.666667%,26.666667%);stroke-opacity:1;stroke-miterlimit:10;\" d=\"M 50 50 L 220.734375 50 \"/>\n",
       "<path style=\" stroke:none;fill-rule:nonzero;fill:rgb(26.666667%,26.666667%,26.666667%);fill-opacity:1;\" d=\"M 235 50 L 220.734375 54.636719 L 220.734375 45.363281 L 235 50 \"/>\n",
       "<path style=\"fill:none;stroke-width:1;stroke-linecap:butt;stroke-linejoin:miter;stroke:rgb(26.666667%,26.666667%,26.666667%);stroke-opacity:1;stroke-miterlimit:10;\" d=\"M 50 50 L 222.234375 107.410156 \"/>\n",
       "<path style=\" stroke:none;fill-rule:nonzero;fill:rgb(26.666667%,26.666667%,26.666667%);fill-opacity:1;\" d=\"M 235.769531 111.921875 L 220.769531 111.808594 L 223.703125 103.015625 L 235.769531 111.921875 \"/>\n",
       "<path style=\"fill:none;stroke-width:1;stroke-linecap:butt;stroke-linejoin:miter;stroke:rgb(26.666667%,26.666667%,26.666667%);stroke-opacity:1;stroke-miterlimit:10;\" d=\"M 50 116.667969 L 220.734375 116.667969 \"/>\n",
       "<path style=\" stroke:none;fill-rule:nonzero;fill:rgb(26.666667%,26.666667%,26.666667%);fill-opacity:1;\" d=\"M 235 116.667969 L 220.734375 121.300781 L 220.734375 112.03125 L 235 116.667969 \"/>\n",
       "<path style=\"fill:none;stroke-width:1;stroke-linecap:butt;stroke-linejoin:miter;stroke:rgb(26.666667%,26.666667%,26.666667%);stroke-opacity:1;stroke-miterlimit:10;\" d=\"M 50 50 L 225.648438 167.097656 \"/>\n",
       "<path style=\" stroke:none;fill-rule:nonzero;fill:rgb(26.666667%,26.666667%,26.666667%);fill-opacity:1;\" d=\"M 237.519531 175.011719 L 223.078125 170.957031 L 228.21875 163.242188 L 237.519531 175.011719 \"/>\n",
       "<path style=\"fill:none;stroke-width:1;stroke-linecap:butt;stroke-linejoin:miter;stroke:rgb(26.666667%,26.666667%,26.666667%);stroke-opacity:1;stroke-miterlimit:10;\" d=\"M 50 183.332031 L 220.734375 183.332031 \"/>\n",
       "<path style=\" stroke:none;fill-rule:nonzero;fill:rgb(26.666667%,26.666667%,26.666667%);fill-opacity:1;\" d=\"M 235 183.332031 L 220.734375 187.96875 L 220.734375 178.699219 L 235 183.332031 \"/>\n",
       "<path style=\"fill:none;stroke-width:1;stroke-linecap:butt;stroke-linejoin:miter;stroke:rgb(26.666667%,26.666667%,26.666667%);stroke-opacity:1;stroke-miterlimit:10;\" d=\"M 50 50 L 229.304688 229.304688 \"/>\n",
       "<path style=\" stroke:none;fill-rule:nonzero;fill:rgb(26.666667%,26.666667%,26.666667%);fill-opacity:1;\" d=\"M 239.394531 239.394531 L 226.027344 232.582031 L 232.582031 226.027344 L 239.394531 239.394531 \"/>\n",
       "<path style=\"fill:none;stroke-width:1;stroke-linecap:butt;stroke-linejoin:miter;stroke:rgb(26.666667%,26.666667%,26.666667%);stroke-opacity:1;stroke-miterlimit:10;\" d=\"M 50 250 L 220.734375 250 \"/>\n",
       "<path style=\" stroke:none;fill-rule:nonzero;fill:rgb(26.666667%,26.666667%,26.666667%);fill-opacity:1;\" d=\"M 235 250 L 220.734375 254.636719 L 220.734375 245.363281 L 235 250 \"/>\n",
       "<path style=\"fill:none;stroke-width:1;stroke-linecap:butt;stroke-linejoin:miter;stroke:rgb(26.666667%,26.666667%,26.666667%);stroke-opacity:1;stroke-miterlimit:10;\" d=\"M 50 116.667969 L 222.234375 59.253906 \"/>\n",
       "<path style=\" stroke:none;fill-rule:nonzero;fill:rgb(26.666667%,26.666667%,26.666667%);fill-opacity:1;\" d=\"M 235.769531 54.742188 L 223.703125 63.652344 L 220.769531 54.855469 L 235.769531 54.742188 \"/>\n",
       "<path style=\"fill:none;stroke-width:1;stroke-linecap:butt;stroke-linejoin:miter;stroke:rgb(26.666667%,26.666667%,26.666667%);stroke-opacity:1;stroke-miterlimit:10;\" d=\"M 50 116.667969 L 222.234375 174.078125 \"/>\n",
       "<path style=\" stroke:none;fill-rule:nonzero;fill:rgb(26.666667%,26.666667%,26.666667%);fill-opacity:1;\" d=\"M 235.769531 178.589844 L 220.769531 178.476562 L 223.703125 169.679688 L 235.769531 178.589844 \"/>\n",
       "<path style=\"fill:none;stroke-width:1;stroke-linecap:butt;stroke-linejoin:miter;stroke:rgb(26.666667%,26.666667%,26.666667%);stroke-opacity:1;stroke-miterlimit:10;\" d=\"M 250 50 L 420.734375 50 \"/>\n",
       "<path style=\" stroke:none;fill-rule:nonzero;fill:rgb(26.666667%,26.666667%,26.666667%);fill-opacity:1;\" d=\"M 435 50 L 420.734375 54.636719 L 420.734375 45.363281 L 435 50 \"/>\n",
       "<path style=\"fill:none;stroke-width:1;stroke-linecap:butt;stroke-linejoin:miter;stroke:rgb(26.666667%,26.666667%,26.666667%);stroke-opacity:1;stroke-miterlimit:10;\" d=\"M 250 50 L 422.234375 107.410156 \"/>\n",
       "<path style=\" stroke:none;fill-rule:nonzero;fill:rgb(26.666667%,26.666667%,26.666667%);fill-opacity:1;\" d=\"M 435.769531 111.921875 L 420.769531 111.808594 L 423.703125 103.015625 L 435.769531 111.921875 \"/>\n",
       "<path style=\"fill:none;stroke-width:1;stroke-linecap:butt;stroke-linejoin:miter;stroke:rgb(26.666667%,26.666667%,26.666667%);stroke-opacity:1;stroke-miterlimit:10;\" d=\"M 250 116.667969 L 420.734375 116.667969 \"/>\n",
       "<path style=\" stroke:none;fill-rule:nonzero;fill:rgb(26.666667%,26.666667%,26.666667%);fill-opacity:1;\" d=\"M 435 116.667969 L 420.734375 121.300781 L 420.734375 112.03125 L 435 116.667969 \"/>\n",
       "<path style=\"fill:none;stroke-width:1;stroke-linecap:butt;stroke-linejoin:miter;stroke:rgb(26.666667%,26.666667%,26.666667%);stroke-opacity:1;stroke-miterlimit:10;\" d=\"M 250 50 L 425.648438 167.097656 \"/>\n",
       "<path style=\" stroke:none;fill-rule:nonzero;fill:rgb(26.666667%,26.666667%,26.666667%);fill-opacity:1;\" d=\"M 437.519531 175.011719 L 423.078125 170.957031 L 428.21875 163.242188 L 437.519531 175.011719 \"/>\n",
       "<path style=\"fill:none;stroke-width:1;stroke-linecap:butt;stroke-linejoin:miter;stroke:rgb(26.666667%,26.666667%,26.666667%);stroke-opacity:1;stroke-miterlimit:10;\" d=\"M 250 183.332031 L 420.734375 183.332031 \"/>\n",
       "<path style=\" stroke:none;fill-rule:nonzero;fill:rgb(26.666667%,26.666667%,26.666667%);fill-opacity:1;\" d=\"M 435 183.332031 L 420.734375 187.96875 L 420.734375 178.699219 L 435 183.332031 \"/>\n",
       "<path style=\"fill:none;stroke-width:1;stroke-linecap:butt;stroke-linejoin:miter;stroke:rgb(26.666667%,26.666667%,26.666667%);stroke-opacity:1;stroke-miterlimit:10;\" d=\"M 250 50 L 429.304688 229.304688 \"/>\n",
       "<path style=\" stroke:none;fill-rule:nonzero;fill:rgb(26.666667%,26.666667%,26.666667%);fill-opacity:1;\" d=\"M 439.394531 239.394531 L 426.027344 232.582031 L 432.582031 226.027344 L 439.394531 239.394531 \"/>\n",
       "<path style=\"fill:none;stroke-width:1;stroke-linecap:butt;stroke-linejoin:miter;stroke:rgb(26.666667%,26.666667%,26.666667%);stroke-opacity:1;stroke-miterlimit:10;\" d=\"M 250 250 L 420.734375 250 \"/>\n",
       "<path style=\" stroke:none;fill-rule:nonzero;fill:rgb(26.666667%,26.666667%,26.666667%);fill-opacity:1;\" d=\"M 435 250 L 420.734375 254.636719 L 420.734375 245.363281 L 435 250 \"/>\n",
       "<path style=\"fill:none;stroke-width:1;stroke-linecap:butt;stroke-linejoin:miter;stroke:rgb(26.666667%,26.666667%,26.666667%);stroke-opacity:1;stroke-miterlimit:10;\" d=\"M 250 116.667969 L 422.234375 59.253906 \"/>\n",
       "<path style=\" stroke:none;fill-rule:nonzero;fill:rgb(26.666667%,26.666667%,26.666667%);fill-opacity:1;\" d=\"M 435.769531 54.742188 L 423.703125 63.652344 L 420.769531 54.855469 L 435.769531 54.742188 \"/>\n",
       "<path style=\"fill:none;stroke-width:1;stroke-linecap:butt;stroke-linejoin:miter;stroke:rgb(26.666667%,26.666667%,26.666667%);stroke-opacity:1;stroke-miterlimit:10;\" d=\"M 250 116.667969 L 422.234375 174.078125 \"/>\n",
       "<path style=\" stroke:none;fill-rule:nonzero;fill:rgb(26.666667%,26.666667%,26.666667%);fill-opacity:1;\" d=\"M 435.769531 178.589844 L 420.769531 178.476562 L 423.703125 169.679688 L 435.769531 178.589844 \"/>\n",
       "<path style=\"fill:none;stroke-width:1;stroke-linecap:butt;stroke-linejoin:miter;stroke:rgb(26.666667%,26.666667%,26.666667%);stroke-opacity:1;stroke-miterlimit:10;\" d=\"M 450 50 L 620.734375 50 \"/>\n",
       "<path style=\" stroke:none;fill-rule:nonzero;fill:rgb(26.666667%,26.666667%,26.666667%);fill-opacity:1;\" d=\"M 635 50 L 620.734375 54.636719 L 620.734375 45.363281 L 635 50 \"/>\n",
       "<path style=\"fill:none;stroke-width:1;stroke-linecap:butt;stroke-linejoin:miter;stroke:rgb(26.666667%,26.666667%,26.666667%);stroke-opacity:1;stroke-miterlimit:10;\" d=\"M 450 50 L 622.234375 107.410156 \"/>\n",
       "<path style=\" stroke:none;fill-rule:nonzero;fill:rgb(26.666667%,26.666667%,26.666667%);fill-opacity:1;\" d=\"M 635.769531 111.921875 L 620.769531 111.808594 L 623.703125 103.015625 L 635.769531 111.921875 \"/>\n",
       "<path style=\"fill:none;stroke-width:1;stroke-linecap:butt;stroke-linejoin:miter;stroke:rgb(26.666667%,26.666667%,26.666667%);stroke-opacity:1;stroke-miterlimit:10;\" d=\"M 450 116.667969 L 620.734375 116.667969 \"/>\n",
       "<path style=\" stroke:none;fill-rule:nonzero;fill:rgb(26.666667%,26.666667%,26.666667%);fill-opacity:1;\" d=\"M 635 116.667969 L 620.734375 121.300781 L 620.734375 112.03125 L 635 116.667969 \"/>\n",
       "<path style=\"fill:none;stroke-width:1;stroke-linecap:butt;stroke-linejoin:miter;stroke:rgb(26.666667%,26.666667%,26.666667%);stroke-opacity:1;stroke-miterlimit:10;\" d=\"M 450 50 L 625.648438 167.097656 \"/>\n",
       "<path style=\" stroke:none;fill-rule:nonzero;fill:rgb(26.666667%,26.666667%,26.666667%);fill-opacity:1;\" d=\"M 637.519531 175.011719 L 623.078125 170.957031 L 628.21875 163.242188 L 637.519531 175.011719 \"/>\n",
       "<path style=\"fill:none;stroke-width:1;stroke-linecap:butt;stroke-linejoin:miter;stroke:rgb(26.666667%,26.666667%,26.666667%);stroke-opacity:1;stroke-miterlimit:10;\" d=\"M 450 183.332031 L 620.734375 183.332031 \"/>\n",
       "<path style=\" stroke:none;fill-rule:nonzero;fill:rgb(26.666667%,26.666667%,26.666667%);fill-opacity:1;\" d=\"M 635 183.332031 L 620.734375 187.96875 L 620.734375 178.699219 L 635 183.332031 \"/>\n",
       "<path style=\"fill:none;stroke-width:1;stroke-linecap:butt;stroke-linejoin:miter;stroke:rgb(26.666667%,26.666667%,26.666667%);stroke-opacity:1;stroke-miterlimit:10;\" d=\"M 450 50 L 629.304688 229.304688 \"/>\n",
       "<path style=\" stroke:none;fill-rule:nonzero;fill:rgb(26.666667%,26.666667%,26.666667%);fill-opacity:1;\" d=\"M 639.394531 239.394531 L 626.027344 232.582031 L 632.582031 226.027344 L 639.394531 239.394531 \"/>\n",
       "<path style=\"fill:none;stroke-width:1;stroke-linecap:butt;stroke-linejoin:miter;stroke:rgb(26.666667%,26.666667%,26.666667%);stroke-opacity:1;stroke-miterlimit:10;\" d=\"M 450 250 L 620.734375 250 \"/>\n",
       "<path style=\" stroke:none;fill-rule:nonzero;fill:rgb(26.666667%,26.666667%,26.666667%);fill-opacity:1;\" d=\"M 635 250 L 620.734375 254.636719 L 620.734375 245.363281 L 635 250 \"/>\n",
       "<path style=\"fill:none;stroke-width:1;stroke-linecap:butt;stroke-linejoin:miter;stroke:rgb(26.666667%,26.666667%,26.666667%);stroke-opacity:1;stroke-miterlimit:10;\" d=\"M 450 116.667969 L 622.234375 59.253906 \"/>\n",
       "<path style=\" stroke:none;fill-rule:nonzero;fill:rgb(26.666667%,26.666667%,26.666667%);fill-opacity:1;\" d=\"M 635.769531 54.742188 L 623.703125 63.652344 L 620.769531 54.855469 L 635.769531 54.742188 \"/>\n",
       "<path style=\"fill:none;stroke-width:1;stroke-linecap:butt;stroke-linejoin:miter;stroke:rgb(26.666667%,26.666667%,26.666667%);stroke-opacity:1;stroke-miterlimit:10;\" d=\"M 450 116.667969 L 622.234375 174.078125 \"/>\n",
       "<path style=\" stroke:none;fill-rule:nonzero;fill:rgb(26.666667%,26.666667%,26.666667%);fill-opacity:1;\" d=\"M 635.769531 178.589844 L 620.769531 178.476562 L 623.703125 169.679688 L 635.769531 178.589844 \"/>\n",
       "<path style=\"fill-rule:nonzero;fill:rgb(55.294118%,82.745098%,78.039216%);fill-opacity:1;stroke-width:1;stroke-linecap:butt;stroke-linejoin:miter;stroke:rgb(0%,0%,0%);stroke-opacity:1;stroke-miterlimit:10;\" d=\"M 65 50 C 65 58.285156 58.285156 65 50 65 C 41.714844 65 35 58.285156 35 50 C 35 41.714844 41.714844 35 50 35 C 58.285156 35 65 41.714844 65 50 \"/>\n",
       "<path style=\"fill-rule:nonzero;fill:rgb(100%,100%,70.196078%);fill-opacity:1;stroke-width:1;stroke-linecap:butt;stroke-linejoin:miter;stroke:rgb(0%,0%,0%);stroke-opacity:1;stroke-miterlimit:10;\" d=\"M 65 116.667969 C 65 124.949219 58.285156 131.667969 50 131.667969 C 41.714844 131.667969 35 124.949219 35 116.667969 C 35 108.382812 41.714844 101.667969 50 101.667969 C 58.285156 101.667969 65 108.382812 65 116.667969 \"/>\n",
       "<path style=\"fill-rule:nonzero;fill:rgb(74.509804%,72.941176%,85.490196%);fill-opacity:1;stroke-width:1;stroke-linecap:butt;stroke-linejoin:miter;stroke:rgb(0%,0%,0%);stroke-opacity:1;stroke-miterlimit:10;\" d=\"M 65 183.332031 C 65 191.617188 58.285156 198.332031 50 198.332031 C 41.714844 198.332031 35 191.617188 35 183.332031 C 35 175.050781 41.714844 168.332031 50 168.332031 C 58.285156 168.332031 65 175.050781 65 183.332031 \"/>\n",
       "<path style=\"fill-rule:nonzero;fill:rgb(98.431373%,50.196078%,44.705882%);fill-opacity:1;stroke-width:1;stroke-linecap:butt;stroke-linejoin:miter;stroke:rgb(0%,0%,0%);stroke-opacity:1;stroke-miterlimit:10;\" d=\"M 65 250 C 65 258.285156 58.285156 265 50 265 C 41.714844 265 35 258.285156 35 250 C 35 241.714844 41.714844 235 50 235 C 58.285156 235 65 241.714844 65 250 \"/>\n",
       "<path style=\"fill-rule:nonzero;fill:rgb(55.294118%,82.745098%,78.039216%);fill-opacity:1;stroke-width:1;stroke-linecap:butt;stroke-linejoin:miter;stroke:rgb(0%,0%,0%);stroke-opacity:1;stroke-miterlimit:10;\" d=\"M 265 50 C 265 58.285156 258.285156 65 250 65 C 241.714844 65 235 58.285156 235 50 C 235 41.714844 241.714844 35 250 35 C 258.285156 35 265 41.714844 265 50 \"/>\n",
       "<path style=\"fill-rule:nonzero;fill:rgb(100%,100%,70.196078%);fill-opacity:1;stroke-width:1;stroke-linecap:butt;stroke-linejoin:miter;stroke:rgb(0%,0%,0%);stroke-opacity:1;stroke-miterlimit:10;\" d=\"M 265 116.667969 C 265 124.949219 258.285156 131.667969 250 131.667969 C 241.714844 131.667969 235 124.949219 235 116.667969 C 235 108.382812 241.714844 101.667969 250 101.667969 C 258.285156 101.667969 265 108.382812 265 116.667969 \"/>\n",
       "<path style=\"fill-rule:nonzero;fill:rgb(74.509804%,72.941176%,85.490196%);fill-opacity:1;stroke-width:1;stroke-linecap:butt;stroke-linejoin:miter;stroke:rgb(0%,0%,0%);stroke-opacity:1;stroke-miterlimit:10;\" d=\"M 265 183.332031 C 265 191.617188 258.285156 198.332031 250 198.332031 C 241.714844 198.332031 235 191.617188 235 183.332031 C 235 175.050781 241.714844 168.332031 250 168.332031 C 258.285156 168.332031 265 175.050781 265 183.332031 \"/>\n",
       "<path style=\"fill-rule:nonzero;fill:rgb(98.431373%,50.196078%,44.705882%);fill-opacity:1;stroke-width:1;stroke-linecap:butt;stroke-linejoin:miter;stroke:rgb(0%,0%,0%);stroke-opacity:1;stroke-miterlimit:10;\" d=\"M 265 250 C 265 258.285156 258.285156 265 250 265 C 241.714844 265 235 258.285156 235 250 C 235 241.714844 241.714844 235 250 235 C 258.285156 235 265 241.714844 265 250 \"/>\n",
       "<path style=\"fill-rule:nonzero;fill:rgb(55.294118%,82.745098%,78.039216%);fill-opacity:1;stroke-width:1;stroke-linecap:butt;stroke-linejoin:miter;stroke:rgb(0%,0%,0%);stroke-opacity:1;stroke-miterlimit:10;\" d=\"M 465 50 C 465 58.285156 458.285156 65 450 65 C 441.714844 65 435 58.285156 435 50 C 435 41.714844 441.714844 35 450 35 C 458.285156 35 465 41.714844 465 50 \"/>\n",
       "<path style=\"fill-rule:nonzero;fill:rgb(100%,100%,70.196078%);fill-opacity:1;stroke-width:1;stroke-linecap:butt;stroke-linejoin:miter;stroke:rgb(0%,0%,0%);stroke-opacity:1;stroke-miterlimit:10;\" d=\"M 465 116.667969 C 465 124.949219 458.285156 131.667969 450 131.667969 C 441.714844 131.667969 435 124.949219 435 116.667969 C 435 108.382812 441.714844 101.667969 450 101.667969 C 458.285156 101.667969 465 108.382812 465 116.667969 \"/>\n",
       "<path style=\"fill-rule:nonzero;fill:rgb(74.509804%,72.941176%,85.490196%);fill-opacity:1;stroke-width:1;stroke-linecap:butt;stroke-linejoin:miter;stroke:rgb(0%,0%,0%);stroke-opacity:1;stroke-miterlimit:10;\" d=\"M 465 183.332031 C 465 191.617188 458.285156 198.332031 450 198.332031 C 441.714844 198.332031 435 191.617188 435 183.332031 C 435 175.050781 441.714844 168.332031 450 168.332031 C 458.285156 168.332031 465 175.050781 465 183.332031 \"/>\n",
       "<path style=\"fill-rule:nonzero;fill:rgb(98.431373%,50.196078%,44.705882%);fill-opacity:1;stroke-width:1;stroke-linecap:butt;stroke-linejoin:miter;stroke:rgb(0%,0%,0%);stroke-opacity:1;stroke-miterlimit:10;\" d=\"M 465 250 C 465 258.285156 458.285156 265 450 265 C 441.714844 265 435 258.285156 435 250 C 435 241.714844 441.714844 235 450 235 C 458.285156 235 465 241.714844 465 250 \"/>\n",
       "<path style=\"fill-rule:nonzero;fill:rgb(55.294118%,82.745098%,78.039216%);fill-opacity:1;stroke-width:1;stroke-linecap:butt;stroke-linejoin:miter;stroke:rgb(0%,0%,0%);stroke-opacity:1;stroke-miterlimit:10;\" d=\"M 665 50 C 665 58.285156 658.285156 65 650 65 C 641.714844 65 635 58.285156 635 50 C 635 41.714844 641.714844 35 650 35 C 658.285156 35 665 41.714844 665 50 \"/>\n",
       "<path style=\"fill-rule:nonzero;fill:rgb(100%,100%,70.196078%);fill-opacity:1;stroke-width:1;stroke-linecap:butt;stroke-linejoin:miter;stroke:rgb(0%,0%,0%);stroke-opacity:1;stroke-miterlimit:10;\" d=\"M 665 116.667969 C 665 124.949219 658.285156 131.667969 650 131.667969 C 641.714844 131.667969 635 124.949219 635 116.667969 C 635 108.382812 641.714844 101.667969 650 101.667969 C 658.285156 101.667969 665 108.382812 665 116.667969 \"/>\n",
       "<path style=\"fill-rule:nonzero;fill:rgb(74.509804%,72.941176%,85.490196%);fill-opacity:1;stroke-width:1;stroke-linecap:butt;stroke-linejoin:miter;stroke:rgb(0%,0%,0%);stroke-opacity:1;stroke-miterlimit:10;\" d=\"M 665 183.332031 C 665 191.617188 658.285156 198.332031 650 198.332031 C 641.714844 198.332031 635 191.617188 635 183.332031 C 635 175.050781 641.714844 168.332031 650 168.332031 C 658.285156 168.332031 665 175.050781 665 183.332031 \"/>\n",
       "<path style=\"fill-rule:nonzero;fill:rgb(98.431373%,50.196078%,44.705882%);fill-opacity:1;stroke-width:1;stroke-linecap:butt;stroke-linejoin:miter;stroke:rgb(0%,0%,0%);stroke-opacity:1;stroke-miterlimit:10;\" d=\"M 665 250 C 665 258.285156 658.285156 265 650 265 C 641.714844 265 635 258.285156 635 250 C 635 241.714844 641.714844 235 650 235 C 658.285156 235 665 241.714844 665 250 \"/>\n",
       "<g style=\"fill:rgb(0%,0%,0%);fill-opacity:1;\">\n",
       "  <use xlink:href=\"#glyph0-1\" x=\"42.050781\" y=\"54.890625\"/>\n",
       "  <use xlink:href=\"#glyph0-2\" x=\"48.413086\" y=\"54.890625\"/>\n",
       "  <use xlink:href=\"#glyph0-1\" x=\"51.591797\" y=\"54.890625\"/>\n",
       "</g>\n",
       "<g style=\"fill:rgb(0%,0%,0%);fill-opacity:1;\">\n",
       "  <use xlink:href=\"#glyph0-1\" x=\"42.179688\" y=\"121.558594\"/>\n",
       "  <use xlink:href=\"#glyph0-2\" x=\"48.541992\" y=\"121.558594\"/>\n",
       "  <use xlink:href=\"#glyph0-3\" x=\"51.720703\" y=\"121.558594\"/>\n",
       "</g>\n",
       "<g style=\"fill:rgb(0%,0%,0%);fill-opacity:1;\">\n",
       "  <use xlink:href=\"#glyph0-1\" x=\"42.21875\" y=\"188.222656\"/>\n",
       "  <use xlink:href=\"#glyph0-2\" x=\"48.581055\" y=\"188.222656\"/>\n",
       "  <use xlink:href=\"#glyph0-4\" x=\"51.759766\" y=\"188.222656\"/>\n",
       "</g>\n",
       "<g style=\"fill:rgb(0%,0%,0%);fill-opacity:1;\">\n",
       "  <use xlink:href=\"#glyph0-1\" x=\"42.117188\" y=\"254.890625\"/>\n",
       "  <use xlink:href=\"#glyph0-2\" x=\"48.479492\" y=\"254.890625\"/>\n",
       "  <use xlink:href=\"#glyph0-5\" x=\"51.658203\" y=\"254.890625\"/>\n",
       "</g>\n",
       "<g style=\"fill:rgb(0%,0%,0%);fill-opacity:1;\">\n",
       "  <use xlink:href=\"#glyph0-3\" x=\"241.832031\" y=\"54.890625\"/>\n",
       "  <use xlink:href=\"#glyph0-2\" x=\"248.194336\" y=\"54.890625\"/>\n",
       "  <use xlink:href=\"#glyph0-1\" x=\"251.373047\" y=\"54.890625\"/>\n",
       "</g>\n",
       "<g style=\"fill:rgb(0%,0%,0%);fill-opacity:1;\">\n",
       "  <use xlink:href=\"#glyph0-3\" x=\"241.960938\" y=\"121.492188\"/>\n",
       "  <use xlink:href=\"#glyph0-2\" x=\"248.323242\" y=\"121.492188\"/>\n",
       "  <use xlink:href=\"#glyph0-3\" x=\"251.501953\" y=\"121.492188\"/>\n",
       "</g>\n",
       "<g style=\"fill:rgb(0%,0%,0%);fill-opacity:1;\">\n",
       "  <use xlink:href=\"#glyph0-3\" x=\"242\" y=\"188.222656\"/>\n",
       "  <use xlink:href=\"#glyph0-2\" x=\"248.362305\" y=\"188.222656\"/>\n",
       "  <use xlink:href=\"#glyph0-4\" x=\"251.541016\" y=\"188.222656\"/>\n",
       "</g>\n",
       "<g style=\"fill:rgb(0%,0%,0%);fill-opacity:1;\">\n",
       "  <use xlink:href=\"#glyph0-3\" x=\"241.898438\" y=\"254.890625\"/>\n",
       "  <use xlink:href=\"#glyph0-2\" x=\"248.260742\" y=\"254.890625\"/>\n",
       "  <use xlink:href=\"#glyph0-5\" x=\"251.439453\" y=\"254.890625\"/>\n",
       "</g>\n",
       "<g style=\"fill:rgb(0%,0%,0%);fill-opacity:1;\">\n",
       "  <use xlink:href=\"#glyph0-4\" x=\"442.015625\" y=\"54.890625\"/>\n",
       "  <use xlink:href=\"#glyph0-2\" x=\"448.37793\" y=\"54.890625\"/>\n",
       "  <use xlink:href=\"#glyph0-1\" x=\"451.556641\" y=\"54.890625\"/>\n",
       "</g>\n",
       "<g style=\"fill:rgb(0%,0%,0%);fill-opacity:1;\">\n",
       "  <use xlink:href=\"#glyph0-4\" x=\"442.144531\" y=\"121.558594\"/>\n",
       "  <use xlink:href=\"#glyph0-2\" x=\"448.506836\" y=\"121.558594\"/>\n",
       "  <use xlink:href=\"#glyph0-3\" x=\"451.685547\" y=\"121.558594\"/>\n",
       "</g>\n",
       "<g style=\"fill:rgb(0%,0%,0%);fill-opacity:1;\">\n",
       "  <use xlink:href=\"#glyph0-4\" x=\"442.183594\" y=\"188.222656\"/>\n",
       "  <use xlink:href=\"#glyph0-2\" x=\"448.545898\" y=\"188.222656\"/>\n",
       "  <use xlink:href=\"#glyph0-4\" x=\"451.724609\" y=\"188.222656\"/>\n",
       "</g>\n",
       "<g style=\"fill:rgb(0%,0%,0%);fill-opacity:1;\">\n",
       "  <use xlink:href=\"#glyph0-4\" x=\"442.082031\" y=\"254.890625\"/>\n",
       "  <use xlink:href=\"#glyph0-2\" x=\"448.444336\" y=\"254.890625\"/>\n",
       "  <use xlink:href=\"#glyph0-5\" x=\"451.623047\" y=\"254.890625\"/>\n",
       "</g>\n",
       "<g style=\"fill:rgb(0%,0%,0%);fill-opacity:1;\">\n",
       "  <use xlink:href=\"#glyph0-5\" x=\"642\" y=\"54.890625\"/>\n",
       "  <use xlink:href=\"#glyph0-2\" x=\"648.362305\" y=\"54.890625\"/>\n",
       "  <use xlink:href=\"#glyph0-1\" x=\"651.541016\" y=\"54.890625\"/>\n",
       "</g>\n",
       "<g style=\"fill:rgb(0%,0%,0%);fill-opacity:1;\">\n",
       "  <use xlink:href=\"#glyph0-5\" x=\"642.128906\" y=\"121.558594\"/>\n",
       "  <use xlink:href=\"#glyph0-2\" x=\"648.491211\" y=\"121.558594\"/>\n",
       "  <use xlink:href=\"#glyph0-3\" x=\"651.669922\" y=\"121.558594\"/>\n",
       "</g>\n",
       "<g style=\"fill:rgb(0%,0%,0%);fill-opacity:1;\">\n",
       "  <use xlink:href=\"#glyph0-5\" x=\"642.167969\" y=\"188.222656\"/>\n",
       "  <use xlink:href=\"#glyph0-2\" x=\"648.530273\" y=\"188.222656\"/>\n",
       "  <use xlink:href=\"#glyph0-4\" x=\"651.708984\" y=\"188.222656\"/>\n",
       "</g>\n",
       "<g style=\"fill:rgb(0%,0%,0%);fill-opacity:1;\">\n",
       "  <use xlink:href=\"#glyph0-5\" x=\"642.066406\" y=\"254.890625\"/>\n",
       "  <use xlink:href=\"#glyph0-2\" x=\"648.428711\" y=\"254.890625\"/>\n",
       "  <use xlink:href=\"#glyph0-5\" x=\"651.607422\" y=\"254.890625\"/>\n",
       "</g>\n",
       "</g>\n",
       "</svg>\n"
      ],
      "text/plain": [
       "<igraph.drawing.Plot at 0x7f762639bf60>"
      ]
     },
     "execution_count": 29,
     "metadata": {
      "image/svg+xml": {
       "isolated": true
      }
     },
     "output_type": "execute_result"
    }
   ],
   "source": [
    "tug = util.build_time_unfolded_graph(g, eoh=eoh)\n",
    "ig.plot(tug, **util.get_visual_style(tug), bbox=(700, 300), margin=50)"
   ]
  },
  {
   "cell_type": "code",
   "execution_count": 30,
   "metadata": {},
   "outputs": [
    {
     "data": {
      "text/plain": [
       "{(0, 0): 0,\n",
       " (0, 1): 6.677854921559987,\n",
       " (0, 2): 0,\n",
       " (0, 3): 0,\n",
       " (1, 0): 2.521997529062819,\n",
       " (1, 1): 5.451309365800277,\n",
       " (1, 2): 1.2265455557597105,\n",
       " (1, 3): 0,\n",
       " (2, 0): 7.9733068948630965,\n",
       " (2, 1): 0,\n",
       " (2, 2): 1.2265455557597105,\n",
       " (2, 3): 0,\n",
       " (3, 0): 9.58054011575443,\n",
       " (3, 1): 5.451309365800277,\n",
       " (3, 2): 3.7485430848225296,\n",
       " (3, 3): 0}"
      ]
     },
     "execution_count": 30,
     "metadata": {},
     "output_type": "execute_result"
    }
   ],
   "source": [
    "node_counts, arc_counts = util.get_counts(tug, flows, paths)\n",
    "node_counts"
   ]
  },
  {
   "cell_type": "code",
   "execution_count": 31,
   "metadata": {},
   "outputs": [
    {
     "ename": "AttributeError",
     "evalue": "module 'util.util' has no attribute 'apply_weights'",
     "output_type": "error",
     "traceback": [
      "\u001b[0;31m---------------------------------------------------------------------------\u001b[0m",
      "\u001b[0;31mAttributeError\u001b[0m                            Traceback (most recent call last)",
      "\u001b[0;32m<ipython-input-31-ccc5b3a0f12d>\u001b[0m in \u001b[0;36m<module>\u001b[0;34m\u001b[0m\n\u001b[0;32m----> 1\u001b[0;31m \u001b[0mtugc\u001b[0m \u001b[0;34m=\u001b[0m \u001b[0mutil\u001b[0m\u001b[0;34m.\u001b[0m\u001b[0mapply_weights\u001b[0m\u001b[0;34m(\u001b[0m\u001b[0mtug\u001b[0m\u001b[0;34m,\u001b[0m \u001b[0mnode_counts\u001b[0m\u001b[0;34m,\u001b[0m \u001b[0marc_counts\u001b[0m\u001b[0;34m)\u001b[0m\u001b[0;34m\u001b[0m\u001b[0;34m\u001b[0m\u001b[0m\n\u001b[0m\u001b[1;32m      2\u001b[0m \u001b[0mig\u001b[0m\u001b[0;34m.\u001b[0m\u001b[0mplot\u001b[0m\u001b[0;34m(\u001b[0m\u001b[0mtugc\u001b[0m\u001b[0;34m,\u001b[0m \u001b[0;34m**\u001b[0m\u001b[0mutil\u001b[0m\u001b[0;34m.\u001b[0m\u001b[0mget_visual_style\u001b[0m\u001b[0;34m(\u001b[0m\u001b[0mtugc\u001b[0m\u001b[0;34m)\u001b[0m\u001b[0;34m,\u001b[0m \u001b[0mbbox\u001b[0m\u001b[0;34m=\u001b[0m\u001b[0;34m(\u001b[0m\u001b[0;36m700\u001b[0m\u001b[0;34m,\u001b[0m \u001b[0;36m300\u001b[0m\u001b[0;34m)\u001b[0m\u001b[0;34m,\u001b[0m \u001b[0mmargin\u001b[0m\u001b[0;34m=\u001b[0m\u001b[0;36m50\u001b[0m\u001b[0;34m)\u001b[0m\u001b[0;34m\u001b[0m\u001b[0;34m\u001b[0m\u001b[0m\n",
      "\u001b[0;31mAttributeError\u001b[0m: module 'util.util' has no attribute 'apply_weights'"
     ]
    }
   ],
   "source": [
    "tugc = util.apply_weights(tug, node_counts, arc_counts)\n",
    "ig.plot(tugc, **util.get_visual_style(tugc), bbox=(700, 300), margin=50)"
   ]
  },
  {
   "cell_type": "code",
   "execution_count": null,
   "metadata": {},
   "outputs": [],
   "source": [
    "tugcs, tugcs_source = util._add_source_to_tug(tugc)\n",
    "ig.plot(tugcs, **util.get_visual_style(tugcs), bbox=(700, 300), margin=50)"
   ]
  },
  {
   "cell_type": "code",
   "execution_count": null,
   "metadata": {},
   "outputs": [],
   "source": [
    "tug_paths = util.enumerate_paths(tugcs, tugcs_source, exclude_source=True)\n",
    "\n",
    "for i, p in enumerate(tug_paths):\n",
    "    print(f'{i}: {p}')"
   ]
  },
  {
   "cell_type": "code",
   "execution_count": null,
   "metadata": {},
   "outputs": [],
   "source": [
    "tmp = util.tug_paths_to_original(tugcs, tug_paths)\n",
    "for i, p in enumerate(tmp):\n",
    "    print(f'{i}: {p}')"
   ]
  },
  {
   "cell_type": "code",
   "execution_count": null,
   "metadata": {},
   "outputs": [],
   "source": [
    "paths"
   ]
  },
  {
   "cell_type": "code",
   "execution_count": null,
   "metadata": {},
   "outputs": [],
   "source": [
    "#pidx = [0, 26, 32, 30, 16]\n",
    "#tug_paths = [tug_paths[i] for i in pidx]\n",
    "#tug_paths"
   ]
  },
  {
   "cell_type": "markdown",
   "metadata": {},
   "source": [
    "$$\n",
    "\\arg \\min_{x} \\left\\{\\|Vx - \\hat{v}\\|_2^2 + \\|Ex - \\hat{e}\\|_2^2 \\mid x \\geq 0 \\right\\}\n",
    "$$"
   ]
  },
  {
   "cell_type": "markdown",
   "metadata": {},
   "source": [
    "$$\\begin{align}\n",
    "\\|Ax - b\\|_2^2 &= (Ax - b)^T (Ax - b) \\\\\n",
    "&= x^T A^TA x - x^T A^T b - b^T Ax + b^T b \\\\\n",
    "&\\propto \\frac{1}{2} x^T (A^TA) x - \\frac{1}{2} x^T A^T b - \\frac{1}{2} b^T Ax \\\\\n",
    "&= \\frac{1}{2} x^T (A^TA) x + (-A^Tb)^Tx\n",
    "\\end{align}$$\n",
    "\n",
    "Since $y^Tx = x^Ty$ if the result is a scalar"
   ]
  },
  {
   "cell_type": "markdown",
   "metadata": {},
   "source": [
    "$$\n",
    "\\|Vx - \\hat{v}\\|_2^2 + \\|Ex - \\hat{e}\\|_2^2 \\\\\n",
    "\\propto \\frac{1}{2} \\|Vx - \\hat{v}\\|_2^2 + \\frac{1}{2} \\|Ex - \\hat{e}\\|_2^2 \\\\\n",
    "= \\frac{1}{2}x^T (V^T V) x + (-V^T \\hat{v})^T x + \\frac{1}{2} x^T (E^T E) x + (-E^T \\hat{e})^T x \\\\\n",
    "= \\frac{1}{2} x^T P x + q^T x\n",
    "$$\n",
    "where:\n",
    "$$\n",
    "P = V^T V + E^T E \\\\\n",
    "q = -V^T \\hat{v} -E^T \\hat{e}\n",
    "$$\n",
    "and $P$ is guaranteed to be positive semi-definite"
   ]
  },
  {
   "cell_type": "code",
   "execution_count": null,
   "metadata": {},
   "outputs": [],
   "source": [
    "V, E = util._paths_to_coefficient_matrices(tug, tug_paths)\n",
    "v, e = util._counts_to_target_vectors(tug, node_counts, arc_counts)"
   ]
  },
  {
   "cell_type": "code",
   "execution_count": null,
   "metadata": {},
   "outputs": [],
   "source": [
    "node_counts"
   ]
  },
  {
   "cell_type": "code",
   "execution_count": null,
   "metadata": {},
   "outputs": [],
   "source": [
    "v.reshape((-1,1))"
   ]
  },
  {
   "cell_type": "code",
   "execution_count": null,
   "metadata": {},
   "outputs": [],
   "source": [
    "arc_counts"
   ]
  },
  {
   "cell_type": "code",
   "execution_count": null,
   "metadata": {},
   "outputs": [],
   "source": [
    "e.reshape((-1,1))"
   ]
  },
  {
   "cell_type": "code",
   "execution_count": null,
   "metadata": {},
   "outputs": [],
   "source": [
    "plt.close('all')\n",
    "util.plot_matrix(V.toarray(), v, figsize=figsize, title='V', title_b='v')"
   ]
  },
  {
   "cell_type": "code",
   "execution_count": null,
   "metadata": {},
   "outputs": [],
   "source": [
    "plt.close('all')\n",
    "util.plot_matrix(E.toarray(), e, figsize=figsize, title='E', title_b='e')"
   ]
  },
  {
   "cell_type": "code",
   "execution_count": null,
   "metadata": {
    "scrolled": false
   },
   "outputs": [],
   "source": [
    "#prb = util.PathSelectionSolver(tug, node_counts, arc_counts)\n",
    "#sol = prb.solve(tug_paths)\n",
    "#reconstructed_paths = prb.sol_to_paths()\n",
    "#reconstructed_paths\n",
    "\n",
    "rflows, rpaths = util.solve_path_selection_full(tug, node_counts, arc_counts, verbose=1)\n",
    "print('FLOW: PATH')\n",
    "util.print_solution(tug, rflows, rpaths, sort='descending')\n",
    "sse = util.get_reconstruction_error(tug, rflows, rpaths, node_counts, arc_counts)\n",
    "print(f'SSE: {sse:.2f}')"
   ]
  },
  {
   "cell_type": "code",
   "execution_count": null,
   "metadata": {},
   "outputs": [],
   "source": [
    "util.print_ground_truth(flows, paths, sort='descending')"
   ]
  },
  {
   "cell_type": "code",
   "execution_count": null,
   "metadata": {},
   "outputs": [],
   "source": [
    "sse = util.get_reconstruction_error(tug, rflows, rpaths, node_counts, arc_counts)\n",
    "sse"
   ]
  },
  {
   "cell_type": "code",
   "execution_count": null,
   "metadata": {},
   "outputs": [],
   "source": [
    "rec_node_counts, rec_arc_counts = util.get_counts(tug, rflows, rpaths)\n",
    "util.plot_dict(rec_node_counts, figsize=figsize, label='reconstructed', data2=node_counts, label2='target',\n",
    "              title='Node Counts')"
   ]
  },
  {
   "cell_type": "code",
   "execution_count": null,
   "metadata": {},
   "outputs": [],
   "source": [
    "cflows, cpaths, _ = util.consolidate_paths(tug, rpaths, node_counts, arc_counts)\n",
    "util.print_solution(tug, cflows, cpaths, sort='descending')"
   ]
  },
  {
   "cell_type": "code",
   "execution_count": null,
   "metadata": {},
   "outputs": [],
   "source": [
    "util.print_ground_truth(flows, paths, sort='descending')"
   ]
  },
  {
   "cell_type": "code",
   "execution_count": null,
   "metadata": {},
   "outputs": [],
   "source": [
    "node_res, arc_res = util._get_residuals(tug, cflows, cpaths, node_counts, arc_counts)\n",
    "node_res"
   ]
  },
  {
   "cell_type": "code",
   "execution_count": null,
   "metadata": {},
   "outputs": [],
   "source": [
    "# Obtain dual multipliers assuming a standard form\n",
    "#master.get_standard_duals()"
   ]
  },
  {
   "cell_type": "markdown",
   "metadata": {},
   "source": [
    "$$\n",
    "\\mathcal{L}(x, \\lambda) = \\frac{1}{2} x^T P x + q^T x + \\lambda^T (-x) \\\\\n",
    "\\nabla_x \\mathcal{L}(x, \\lambda) = \\frac{1}{2} x^T(P + P^T) + q - \\lambda^T\n",
    "$$"
   ]
  },
  {
   "cell_type": "markdown",
   "metadata": {},
   "source": [
    "$$\n",
    "\\frac{1}{2} \\|Vx - \\hat{v}\\|_2^2 = \\frac{1}{2} \\sum_{i = 1}^m \\left(\\sum_{j=1}^n V_{ij} x_{j} - \\hat{v}_i\\right)^2\n",
    "$$\n",
    "$$\n",
    "\\frac{\\partial}{\\partial x_j} \\frac{1}{2} \\|Vx - \\hat{v}\\|_2^2 = \\sum_{i=1}^m \\left(\\sum_{j=1}^n V_{ij} x_{j} - \\hat{v}_i\\right) V_{ij}\n",
    "$$\n"
   ]
  },
  {
   "cell_type": "code",
   "execution_count": null,
   "metadata": {},
   "outputs": [],
   "source": [
    "tug_path_selection_0 = tug_paths[1:3]\n",
    "\n",
    "rflows0, rpaths0 = util.solve_path_selection_full(tug, node_counts, arc_counts,\n",
    "                                             initial_paths=tug_path_selection_0, verbose=1)\n",
    "\n",
    "#master = util.PathSelectionSolver(tug, node_counts, arc_counts)\n",
    "#sol = master.solve(tug_path_selection_0)\n",
    "#raw_paths_0 = master.sol_to_paths()\n",
    "#raw_paths_0\n",
    "util.print_solution(tug, rflows0, rpaths0, sort='descending')"
   ]
  },
  {
   "cell_type": "code",
   "execution_count": null,
   "metadata": {},
   "outputs": [],
   "source": [
    "nres, ares = util._get_residuals(tug, rflows0, rpaths0, node_counts, arc_counts)\n",
    "nres"
   ]
  },
  {
   "cell_type": "code",
   "execution_count": null,
   "metadata": {},
   "outputs": [],
   "source": [
    "ares"
   ]
  },
  {
   "cell_type": "code",
   "execution_count": null,
   "metadata": {
    "scrolled": false
   },
   "outputs": [],
   "source": [
    "ncosts, npaths = util.solve_pricing_problem(tug, rflows0, rpaths0,\n",
    "                                             node_counts, arc_counts, filter_paths=False)\n",
    "print('COST: PATH')\n",
    "util.print_solution(tug, ncosts, npaths, sort=None)"
   ]
  },
  {
   "cell_type": "code",
   "execution_count": null,
   "metadata": {},
   "outputs": [],
   "source": [
    "neg_paths = [p for p, c in zip(npaths, ncosts) if c < 0]\n",
    "tug_path_selection_1 = tug_path_selection_0 + neg_paths\n",
    "\n",
    "rflows1, rpaths1 = util.solve_path_selection_full(tug, node_counts, arc_counts,\n",
    "                                             initial_paths=tug_path_selection_1, verbose=1)\n",
    "\n",
    "util.print_solution(tug, rflows1, rpaths1, sort='descending')\n"
   ]
  },
  {
   "cell_type": "code",
   "execution_count": null,
   "metadata": {},
   "outputs": [],
   "source": [
    "neg_paths = [p for p, c in zip(npaths, ncosts) if c >= 0]\n",
    "tug_path_selection_1 = tug_path_selection_0 + neg_paths\n",
    "\n",
    "rflows1, rpaths1 = util.solve_path_selection_full(tug, node_counts, arc_counts,\n",
    "                                             initial_paths=tug_path_selection_1, verbose=1)\n",
    "\n",
    "util.print_solution(tug, rflows1, rpaths1, sort='descending')\n"
   ]
  },
  {
   "cell_type": "code",
   "execution_count": null,
   "metadata": {
    "scrolled": false
   },
   "outputs": [],
   "source": [
    "rflows_cg, rpaths_cg = util.trajectory_extraction_cg(tug, node_counts, arc_counts, max_iter=30, verbose=1)\n",
    "print('FLOW: PATH')\n",
    "util.print_solution(tug, rflows_cg, rpaths_cg, sort='descending')"
   ]
  },
  {
   "cell_type": "code",
   "execution_count": null,
   "metadata": {},
   "outputs": [],
   "source": [
    "cflows_cg, cpaths_cg, copt = util.consolidate_paths(tug, rflows_cg, rpaths_cg, node_counts, arc_counts)\n",
    "print('FLOW: PATH')\n",
    "util.print_solution(tug, cflows_cg, cpaths_cg, sort='descending')"
   ]
  },
  {
   "cell_type": "code",
   "execution_count": null,
   "metadata": {},
   "outputs": [],
   "source": [
    "print('FLOW: PATH')\n",
    "util.print_ground_truth(flows, paths, sort='descending')"
   ]
  },
  {
   "cell_type": "markdown",
   "metadata": {},
   "source": [
    "# Scalability"
   ]
  },
  {
   "cell_type": "code",
   "execution_count": null,
   "metadata": {},
   "outputs": [],
   "source": [
    "nnodes2 = 8\n",
    "eoh2 = 5\n",
    "g2 = util.build_website_graph(nnodes=nnodes2, rate=3, extra_arc_fraction=0.25, seed=42)\n",
    "flows2, paths2 = util.build_random_paths(g2, min_paths=nnodes2*eoh2/10, max_paths=3*nnodes2*eoh2/10,\n",
    "                                       min_units=1, max_units=10, eoh=eoh2, seed=10)\n",
    "tug2 = util.build_time_unfolded_graph(g2, eoh=eoh2)\n",
    "node_counts2, arc_counts2 = util.get_counts(tug2, flows2, paths2)\n",
    "\n",
    "#ig.plot(g2, **util.get_visual_style(g2), bbox=(700, 300), margin=120)\n",
    "\n",
    "tugc2 = util.apply_weights(tug2, node_counts2, arc_counts2)\n",
    "ig.plot(tugc2, **util.get_visual_style(tugc2), bbox=(700, 300), margin=50)"
   ]
  },
  {
   "cell_type": "code",
   "execution_count": null,
   "metadata": {
    "scrolled": false
   },
   "outputs": [],
   "source": [
    "%%time\n",
    "rflows2, rpaths2 = util.solve_path_selection_full(tug2, node_counts2, arc_counts2, verbose=1)\n",
    "print('FLOW: PATH')\n",
    "util.print_solution(tug2, rflows2, rpaths2, sort='descending')\n",
    "sse = util.get_reconstruction_error(tug2, rflows2, rpaths2, node_counts2, arc_counts2)\n",
    "print(f'SSE: {sse:.2f}')"
   ]
  },
  {
   "cell_type": "code",
   "execution_count": null,
   "metadata": {
    "scrolled": false
   },
   "outputs": [],
   "source": [
    "%%time\n",
    "rflows_cg2, rpaths_cg2 = util.trajectory_extraction_cg(tug2, node_counts2, arc_counts2,\n",
    "                                                       max_iter=30, verbose=1, max_paths_per_iter=10)\n",
    "print('FLOW: PATH')\n",
    "util.print_solution(tug2, rflows_cg2, rpaths_cg2, sort='descending')\n",
    "sse = util.get_reconstruction_error(tug2, rflows_cg2, rpaths_cg2, node_counts2, arc_counts2)\n",
    "print(f'SSE: {sse:.2f}')"
   ]
  },
  {
   "cell_type": "markdown",
   "metadata": {},
   "source": [
    "# Scale up even more"
   ]
  },
  {
   "cell_type": "code",
   "execution_count": null,
   "metadata": {},
   "outputs": [],
   "source": [
    "nnodes3 = 20\n",
    "eoh3 = 7\n",
    "g3 = util.build_website_graph(nnodes=nnodes3, rate=3, extra_arc_fraction=0.25, seed=42)\n",
    "flows3, paths3 = util.build_random_paths(g3, min_paths=nnodes3*eoh3/10, max_paths=3*nnodes3*eoh3/10,\n",
    "                                       min_units=1, max_units=10, eoh=eoh3, seed=10)\n",
    "tug3 = util.build_time_unfolded_graph(g3, eoh=eoh3)\n",
    "node_counts3, arc_counts3 = util.get_counts(tug3, flows3, paths3)"
   ]
  },
  {
   "cell_type": "code",
   "execution_count": null,
   "metadata": {},
   "outputs": [],
   "source": [
    "%%time\n",
    "rflows_cg3, rpaths_cg3 = util.trajectory_extraction_cg(tug3, node_counts3, arc_counts3,\n",
    "                                                       max_iter=30, verbose=1, max_paths_per_iter=10)\n",
    "print('FLOW: PATH')\n",
    "util.print_solution(tug3, rflows_cg3, rpaths_cg3, sort='descending')\n",
    "sse = util.get_reconstruction_error(tug3, rflows_cg3, rpaths_cg3, node_counts3, arc_counts3)\n",
    "print(f'SSE: {sse:.2f}')"
   ]
  },
  {
   "cell_type": "markdown",
   "metadata": {},
   "source": [
    "# Noise and Minimum cover constraint"
   ]
  },
  {
   "cell_type": "code",
   "execution_count": null,
   "metadata": {},
   "outputs": [],
   "source": [
    "nnodes4 = 4\n",
    "eoh4 = 4\n",
    "g4 = util.build_website_graph(nnodes=nnodes4, rate=3, extra_arc_fraction=0.25, seed=42)\n",
    "flows4, paths4 = util.build_random_paths(g4, min_paths=nnodes4*eoh4/10, max_paths=5*nnodes4*eoh4/10,\n",
    "                                       min_units=1, max_units=10, eoh=eoh4, seed=10)\n",
    "tug4 = util.build_time_unfolded_graph(g4, eoh=eoh4)\n",
    "node_counts4, arc_counts4 = util.get_counts(tug4, flows4, paths4)\n",
    "node_counts4, arc_counts4 = util.add_proportional_noise(node_counts4, arc_counts4, sigma=0.3)\n",
    "\n",
    "tugc4 = util.apply_weights(tug4, node_counts4, arc_counts4)\n",
    "ig.plot(tugc4, **util.get_visual_style(tugc4), bbox=(700, 300), margin=50)"
   ]
  },
  {
   "cell_type": "code",
   "execution_count": null,
   "metadata": {},
   "outputs": [],
   "source": [
    "tugs4, tugs_source4 = util._add_source_to_tug(tug4)\n",
    "tug_paths4 = util.enumerate_paths(tugs4, tugs_source4, exclude_source=True)\n",
    "A_mvc, l_mvc, u_mvc = util._min_vertex_cover_constraints(tug4, tug_paths4,\n",
    "                                                         node_counts4, min_vertex_cover=0.8)\n",
    "util.plot_matrix(A_mvc.toarray(), l_mvc, figsize=figsize, title='A_mvc', title_b='l_mvc')"
   ]
  },
  {
   "cell_type": "code",
   "execution_count": null,
   "metadata": {
    "scrolled": false
   },
   "outputs": [],
   "source": [
    "min_vertex_cover=0.8\n",
    "alpha=10\n",
    "rflows4, rpaths4, nneg_duals4, ncov_duals4 = util.solve_path_selection_full(tug4, node_counts4, arc_counts4,\n",
    "                                                  min_vertex_cover=min_vertex_cover, alpha=alpha,\n",
    "                                                  verbose=1, return_duals=True)\n",
    "print('FLOW: PATH')\n",
    "util.print_solution(tug4, rflows4, rpaths4, sort='descending')\n",
    "sse = util.get_reconstruction_error(tug4, rflows4, rpaths4, node_counts4, arc_counts4)\n",
    "print(f'SSE: {sse:.2f}')"
   ]
  },
  {
   "cell_type": "code",
   "execution_count": null,
   "metadata": {},
   "outputs": [],
   "source": [
    "util.plot_dict({i:v for i, v in enumerate(nneg_duals4)}, figsize=figsize)"
   ]
  },
  {
   "cell_type": "code",
   "execution_count": null,
   "metadata": {},
   "outputs": [],
   "source": [
    "util.plot_dict({i:v for i, v in enumerate(ncov_duals4)}, figsize=figsize)"
   ]
  },
  {
   "cell_type": "code",
   "execution_count": 24,
   "metadata": {},
   "outputs": [
    {
     "ename": "NameError",
     "evalue": "name 'tug4' is not defined",
     "output_type": "error",
     "traceback": [
      "\u001b[0;31m---------------------------------------------------------------------------\u001b[0m",
      "\u001b[0;31mNameError\u001b[0m                                 Traceback (most recent call last)",
      "\u001b[0;32m<ipython-input-24-0134b576261c>\u001b[0m in \u001b[0;36m<module>\u001b[0;34m\u001b[0m\n\u001b[0;32m----> 1\u001b[0;31m ncosts4, npaths4 = util.solve_pricing_problem(tug4, rflows4, rpaths4,\n\u001b[0m\u001b[1;32m      2\u001b[0m                                              \u001b[0mnode_counts4\u001b[0m\u001b[0;34m,\u001b[0m \u001b[0marc_counts4\u001b[0m\u001b[0;34m,\u001b[0m\u001b[0;34m\u001b[0m\u001b[0;34m\u001b[0m\u001b[0m\n\u001b[1;32m      3\u001b[0m                                              cover_duals=ncov_duals4, alpha=alpha, filter_paths=True)\n\u001b[1;32m      4\u001b[0m \u001b[0mprint\u001b[0m\u001b[0;34m(\u001b[0m\u001b[0;34m'COST: PATH'\u001b[0m\u001b[0;34m)\u001b[0m\u001b[0;34m\u001b[0m\u001b[0;34m\u001b[0m\u001b[0m\n\u001b[1;32m      5\u001b[0m \u001b[0mutil\u001b[0m\u001b[0;34m.\u001b[0m\u001b[0mprint_solution\u001b[0m\u001b[0;34m(\u001b[0m\u001b[0mtug4\u001b[0m\u001b[0;34m,\u001b[0m \u001b[0mncosts4\u001b[0m\u001b[0;34m,\u001b[0m \u001b[0mnpaths4\u001b[0m\u001b[0;34m,\u001b[0m \u001b[0msort\u001b[0m\u001b[0;34m=\u001b[0m\u001b[0;32mNone\u001b[0m\u001b[0;34m)\u001b[0m\u001b[0;34m\u001b[0m\u001b[0;34m\u001b[0m\u001b[0m\n",
      "\u001b[0;31mNameError\u001b[0m: name 'tug4' is not defined"
     ]
    }
   ],
   "source": [
    "ncosts4, npaths4 = util.solve_pricing_problem(tug4, rflows4, rpaths4,\n",
    "                                             node_counts4, arc_counts4,\n",
    "                                             cover_duals=ncov_duals4, alpha=alpha, filter_paths=True)\n",
    "print('COST: PATH')\n",
    "util.print_solution(tug4, ncosts4, npaths4, sort=None)"
   ]
  },
  {
   "cell_type": "code",
   "execution_count": 65,
   "metadata": {},
   "outputs": [
    {
     "name": "stdout",
     "output_type": "stream",
     "text": [
      "It.0, sse: 167.39, #paths: 26, new: 10\n",
      "It.1, sse: 26.86, #paths: 35, new: 9\n",
      "It.2, sse: 26.39, #paths: 41, new: 6\n",
      "It.3, sse: 25.45, #paths: 43, new: 2\n",
      "It.4, sse: 26.46, #paths: 43, new: 0\n",
      "FLOW: PATH\n",
      "4.98: 0,1 > 1,1 > 2,0 > 3,1\n",
      "1.04: 0,1 > 1,2 > 2,2 > 3,2\n",
      "0.38: 0,1 > 1,2 > 2,2\n",
      "SSE: 26.46\n",
      "CPU times: user 224 ms, sys: 896 µs, total: 225 ms\n",
      "Wall time: 222 ms\n"
     ]
    }
   ],
   "source": [
    "%%time\n",
    "rflows_cg4, rpaths_cg4 = util.trajectory_extraction_cg(tug4, node_counts4, arc_counts4,\n",
    "                                                       alpha=alpha, min_vertex_cover=min_vertex_cover,\n",
    "                                                       max_iter=30, verbose=1, max_paths_per_iter=10)\n",
    "print('FLOW: PATH')\n",
    "util.print_solution(tug4, rflows_cg4, rpaths_cg4, sort='descending')\n",
    "sse = util.get_reconstruction_error(tug4, rflows_cg4, rpaths_cg4, node_counts4, arc_counts4)\n",
    "print(f'SSE: {sse:.2f}')"
   ]
  },
  {
   "cell_type": "markdown",
   "metadata": {},
   "source": [
    "# NP-hard Pricing Problem"
   ]
  },
  {
   "cell_type": "code",
   "execution_count": 62,
   "metadata": {
    "scrolled": false
   },
   "outputs": [
    {
     "name": "stdout",
     "output_type": "stream",
     "text": [
      "COST: PATH\n",
      "1.51: 1,2\n",
      "2.49: 1,0 > 2,1\n",
      "2.49: 1,0 > 2,1 > 3,0\n",
      "2.55: 1,0 > 2,1 > 3,2\n",
      "3.12: 1,0 > 2,3\n",
      "4.77: 0,1 > 1,0 > 2,1\n",
      "4.77: 0,1 > 1,0 > 2,1 > 3,0\n",
      "4.83: 0,1 > 1,0 > 2,1 > 3,2\n",
      "5.04: 0,0 > 1,1 > 2,0 > 3,1\n",
      "5.40: 0,1 > 1,0 > 2,3\n",
      "5.42: 1,1 > 2,0 > 3,1\n",
      "5.86: 2,0 > 3,1\n",
      "6.00: 0,0 > 1,1 > 2,0 > 3,3\n",
      "6.08: 0,0 > 1,1 > 2,0\n",
      "6.13: 2,1\n",
      "6.13: 2,1 > 3,0\n",
      "6.14: 0,0 > 1,1 > 2,0 > 3,2\n",
      "6.19: 2,1 > 3,2\n",
      "6.35: 1,0\n",
      "6.38: 1,1 > 2,0 > 3,3\n",
      "6.40: 1,0 > 2,2\n",
      "6.46: 1,1 > 2,0\n",
      "6.50: 1,3\n",
      "6.52: 1,1 > 2,0 > 3,2\n",
      "6.77: 2,3\n",
      "6.81: 2,0 > 3,3\n",
      "6.90: 2,0\n",
      "6.96: 2,0 > 3,2\n",
      "8.33: 0,3\n",
      "8.63: 0,1 > 1,0\n",
      "8.63: 0,1 > 1,2\n",
      "8.63: 0,1\n",
      "8.68: 0,1 > 1,0 > 2,2\n",
      "9.04: 0,0 > 1,3\n",
      "9.04: 0,0 > 1,1\n",
      "9.04: 0,0 > 1,2\n",
      "9.04: 0,0\n",
      "9.09: 0,0 > 1,1 > 2,2\n",
      "9.42: 1,1\n",
      "9.47: 1,1 > 2,2\n",
      "9.92: 3,3\n",
      "10.00: 0,2\n",
      "10.00: 3,0\n",
      "10.05: 2,2\n",
      "10.06: 3,2\n",
      "11.12: 3,1\n"
     ]
    }
   ],
   "source": [
    "ncosts4, npaths4 = util.solve_pricing_problem_maxwaits(tug4, rflows4, rpaths4,\n",
    "                                             node_counts4, arc_counts4, max_waits=1,\n",
    "                                             cover_duals=ncov_duals4,\n",
    "                                             alpha=alpha,\n",
    "                                             filter_paths=False,\n",
    "                                             max_paths=None)\n",
    "print('COST: PATH')\n",
    "util.print_solution(tug4, ncosts4, npaths4, sort='ascending')"
   ]
  },
  {
   "cell_type": "code",
   "execution_count": 76,
   "metadata": {},
   "outputs": [
    {
     "name": "stdout",
     "output_type": "stream",
     "text": [
      "It.0, sse: 167.39, #paths: 27, new: 11\n",
      "It.1, sse: 110.18, #paths: 38, new: 11\n",
      "It.2, sse: 22.77, #paths: 49, new: 11\n",
      "It.3, sse: 26.92, #paths: 49, new: 0\n",
      "FLOW: PATH\n",
      "4.97: 0,1 > 1,1 > 2,0 > 3,1\n",
      "1.40: 0,1 > 1,2 > 2,2 > 3,2\n",
      "0.01: 0,0 > 1,2 > 2,2\n",
      "SSE: 26.92\n",
      "CPU times: user 238 ms, sys: 0 ns, total: 238 ms\n",
      "Wall time: 235 ms\n"
     ]
    }
   ],
   "source": [
    "%%time\n",
    "rflows_cg4, rpaths_cg4 = util.trajectory_extraction_cg(tug4, node_counts4, arc_counts4,\n",
    "                                                       alpha=alpha, min_vertex_cover=min_vertex_cover,\n",
    "                                                       max_iter=30, verbose=1, max_paths_per_iter=10,\n",
    "                                                       max_waits=None, force_lcg_pricing=True,\n",
    "                                                       pricing_time_limit=10)\n",
    "print('FLOW: PATH')\n",
    "util.print_solution(tug4, rflows_cg4, rpaths_cg4, sort='descending')\n",
    "sse = util.get_reconstruction_error(tug4, rflows_cg4, rpaths_cg4, node_counts4, arc_counts4)\n",
    "print(f'SSE: {sse:.2f}')"
   ]
  }
 ],
 "metadata": {
  "celltoolbar": "Slideshow",
  "kernelspec": {
   "display_name": "Python 3",
   "language": "python",
   "name": "python3"
  },
  "language_info": {
   "codemirror_mode": {
    "name": "ipython",
    "version": 3
   },
   "file_extension": ".py",
   "mimetype": "text/x-python",
   "name": "python",
   "nbconvert_exporter": "python",
   "pygments_lexer": "ipython3",
   "version": "3.6.9"
  },
  "rise": {
   "center": false,
   "transition": "fade"
  }
 },
 "nbformat": 4,
 "nbformat_minor": 4
}
